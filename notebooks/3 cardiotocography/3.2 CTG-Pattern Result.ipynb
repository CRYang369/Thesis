{
 "cells": [
  {
   "cell_type": "markdown",
   "id": "675f006f",
   "metadata": {},
   "source": [
    "# Import package"
   ]
  },
  {
   "cell_type": "code",
   "execution_count": 1,
   "id": "3a9cc4cf",
   "metadata": {},
   "outputs": [],
   "source": [
    "from datetime import datetime\n",
    "import lightgbm as lgb\n",
    "from lightgbm import LGBMClassifier\n",
    "from lightgbm import plot_importance\n",
    "import matplotlib.pyplot as plt\n",
    "from matplotlib import pyplot\n",
    "from matplotlib.pyplot import MultipleLocator\n",
    "%matplotlib inline\n",
    "import numpy as np\n",
    "from numpy import mean\n",
    "from numpy import std\n",
    "from numpy import sort\n",
    "import pandas as pd\n",
    "from pandas.core.frame import DataFrame\n",
    "from sklearn.svm import SVC\n",
    "from sklearn.decomposition import PCA\n",
    "from sklearn.ensemble import RandomForestClassifier as RFC\n",
    "from sklearn.feature_selection import SelectFromModel\n",
    "from sklearn import metrics\n",
    "from sklearn.metrics import f1_score  \n",
    "from sklearn.metrics import ConfusionMatrixDisplay\n",
    "from sklearn.metrics import mean_absolute_error\n",
    "from sklearn.metrics import confusion_matrix,roc_curve,roc_auc_score,accuracy_score, plot_confusion_matrix,classification_report\n",
    "from sklearn.model_selection import cross_val_score\n",
    "from sklearn.model_selection import GridSearchCV\n",
    "from sklearn.model_selection import RepeatedStratifiedKFold\n",
    "from sklearn.model_selection import train_test_split\n",
    "from sklearn.metrics import precision_score, recall_score, f1_score\n",
    "from sklearn.preprocessing import LabelEncoder\n",
    "from sklearn.preprocessing import OneHotEncoder\n",
    "from sklearn.preprocessing import StandardScaler\n",
    "from sklearn.utils import class_weight\n",
    "from sklearn.metrics import log_loss\n",
    "import seaborn as sns\n",
    "from time import time\n",
    "import pprint\n",
    "import warnings\n",
    "warnings.filterwarnings(\"ignore\")\n",
    "from sklearn.model_selection import StratifiedKFold\n",
    "from sklearn.metrics import make_scorer\n",
    "from skopt import BayesSearchCV\n",
    "from skopt.callbacks import DeadlineStopper,DeltaYStopper\n",
    "from skopt.space import Real,Categorical,Integer\n",
    "from sklearn.feature_selection import RFECV\n",
    "from sklearn.feature_selection import RFE\n",
    "import joblib\n",
    "import torch\n",
    "from torch import nn\n",
    "from torch import optim\n",
    "import torch.nn.functional as F\n",
    "from torch.utils.data import DataLoader"
   ]
  },
  {
   "cell_type": "markdown",
   "id": "054b0af5",
   "metadata": {},
   "source": [
    "# Dataset"
   ]
  },
  {
   "cell_type": "markdown",
   "id": "cd1c7303",
   "metadata": {},
   "source": [
    "## Original dataset"
   ]
  },
  {
   "cell_type": "code",
   "execution_count": 2,
   "id": "f5e49d39",
   "metadata": {},
   "outputs": [],
   "source": [
    "CTGData=pd.read_csv('CTG.csv')"
   ]
  },
  {
   "cell_type": "code",
   "execution_count": 3,
   "id": "6ac75456",
   "metadata": {},
   "outputs": [],
   "source": [
    "CTGData3=CTGData.copy()\n",
    "X=CTGData3.drop(labels=['CLASS','NSP'],axis=1)\n",
    "\n",
    "y=CTGData3['CLASS'].values"
   ]
  },
  {
   "cell_type": "code",
   "execution_count": 4,
   "id": "de1f4cde",
   "metadata": {},
   "outputs": [],
   "source": [
    "#stanardilization\n",
    "from sklearn.preprocessing import StandardScaler\n",
    "scaler=StandardScaler()\n",
    "scaler.fit(X)\n",
    "X=scaler.transform(X)"
   ]
  },
  {
   "cell_type": "code",
   "execution_count": 5,
   "id": "51ec61fd",
   "metadata": {},
   "outputs": [],
   "source": [
    "#split train dataset and test dataset\n",
    "X_train, X_test,y_train,y_test= train_test_split(X,y,test_size=0.2,random_state=42)\n",
    "\n"
   ]
  },
  {
   "cell_type": "markdown",
   "id": "3a428bde",
   "metadata": {},
   "source": [
    "## Selected feature"
   ]
  },
  {
   "cell_type": "code",
   "execution_count": 6,
   "id": "314bb249",
   "metadata": {},
   "outputs": [
    {
     "data": {
      "text/html": [
       "<div>\n",
       "<style scoped>\n",
       "    .dataframe tbody tr th:only-of-type {\n",
       "        vertical-align: middle;\n",
       "    }\n",
       "\n",
       "    .dataframe tbody tr th {\n",
       "        vertical-align: top;\n",
       "    }\n",
       "\n",
       "    .dataframe thead th {\n",
       "        text-align: right;\n",
       "    }\n",
       "</style>\n",
       "<table border=\"1\" class=\"dataframe\">\n",
       "  <thead>\n",
       "    <tr style=\"text-align: right;\">\n",
       "      <th></th>\n",
       "      <th>LB</th>\n",
       "      <th>AC</th>\n",
       "      <th>FM</th>\n",
       "      <th>UC</th>\n",
       "      <th>DL</th>\n",
       "      <th>DP</th>\n",
       "      <th>ASTV</th>\n",
       "      <th>MSTV</th>\n",
       "      <th>ALTV</th>\n",
       "      <th>MLTV</th>\n",
       "      <th>...</th>\n",
       "      <th>Min</th>\n",
       "      <th>Max</th>\n",
       "      <th>Nmax</th>\n",
       "      <th>Nzeros</th>\n",
       "      <th>Mode</th>\n",
       "      <th>Mean</th>\n",
       "      <th>Median</th>\n",
       "      <th>Variance</th>\n",
       "      <th>Tendency</th>\n",
       "      <th>label</th>\n",
       "    </tr>\n",
       "  </thead>\n",
       "  <tbody>\n",
       "    <tr>\n",
       "      <th>0</th>\n",
       "      <td>120</td>\n",
       "      <td>0.000000</td>\n",
       "      <td>0.0</td>\n",
       "      <td>0.000000</td>\n",
       "      <td>0.000000</td>\n",
       "      <td>0.0</td>\n",
       "      <td>73</td>\n",
       "      <td>0.5</td>\n",
       "      <td>43</td>\n",
       "      <td>2.4</td>\n",
       "      <td>...</td>\n",
       "      <td>62</td>\n",
       "      <td>126</td>\n",
       "      <td>2</td>\n",
       "      <td>0</td>\n",
       "      <td>120</td>\n",
       "      <td>137</td>\n",
       "      <td>121</td>\n",
       "      <td>73</td>\n",
       "      <td>1</td>\n",
       "      <td>8</td>\n",
       "    </tr>\n",
       "    <tr>\n",
       "      <th>1</th>\n",
       "      <td>132</td>\n",
       "      <td>0.006380</td>\n",
       "      <td>0.0</td>\n",
       "      <td>0.006380</td>\n",
       "      <td>0.003190</td>\n",
       "      <td>0.0</td>\n",
       "      <td>17</td>\n",
       "      <td>2.1</td>\n",
       "      <td>0</td>\n",
       "      <td>10.4</td>\n",
       "      <td>...</td>\n",
       "      <td>68</td>\n",
       "      <td>198</td>\n",
       "      <td>6</td>\n",
       "      <td>1</td>\n",
       "      <td>141</td>\n",
       "      <td>136</td>\n",
       "      <td>140</td>\n",
       "      <td>12</td>\n",
       "      <td>0</td>\n",
       "      <td>5</td>\n",
       "    </tr>\n",
       "    <tr>\n",
       "      <th>2</th>\n",
       "      <td>133</td>\n",
       "      <td>0.003322</td>\n",
       "      <td>0.0</td>\n",
       "      <td>0.008306</td>\n",
       "      <td>0.003322</td>\n",
       "      <td>0.0</td>\n",
       "      <td>16</td>\n",
       "      <td>2.1</td>\n",
       "      <td>0</td>\n",
       "      <td>13.4</td>\n",
       "      <td>...</td>\n",
       "      <td>68</td>\n",
       "      <td>198</td>\n",
       "      <td>5</td>\n",
       "      <td>1</td>\n",
       "      <td>141</td>\n",
       "      <td>135</td>\n",
       "      <td>138</td>\n",
       "      <td>13</td>\n",
       "      <td>0</td>\n",
       "      <td>5</td>\n",
       "    </tr>\n",
       "    <tr>\n",
       "      <th>3</th>\n",
       "      <td>134</td>\n",
       "      <td>0.002561</td>\n",
       "      <td>0.0</td>\n",
       "      <td>0.007682</td>\n",
       "      <td>0.002561</td>\n",
       "      <td>0.0</td>\n",
       "      <td>16</td>\n",
       "      <td>2.4</td>\n",
       "      <td>0</td>\n",
       "      <td>23.0</td>\n",
       "      <td>...</td>\n",
       "      <td>53</td>\n",
       "      <td>170</td>\n",
       "      <td>11</td>\n",
       "      <td>0</td>\n",
       "      <td>137</td>\n",
       "      <td>134</td>\n",
       "      <td>137</td>\n",
       "      <td>13</td>\n",
       "      <td>1</td>\n",
       "      <td>5</td>\n",
       "    </tr>\n",
       "    <tr>\n",
       "      <th>4</th>\n",
       "      <td>132</td>\n",
       "      <td>0.006515</td>\n",
       "      <td>0.0</td>\n",
       "      <td>0.008143</td>\n",
       "      <td>0.000000</td>\n",
       "      <td>0.0</td>\n",
       "      <td>16</td>\n",
       "      <td>2.4</td>\n",
       "      <td>0</td>\n",
       "      <td>19.9</td>\n",
       "      <td>...</td>\n",
       "      <td>53</td>\n",
       "      <td>170</td>\n",
       "      <td>9</td>\n",
       "      <td>0</td>\n",
       "      <td>137</td>\n",
       "      <td>136</td>\n",
       "      <td>138</td>\n",
       "      <td>11</td>\n",
       "      <td>1</td>\n",
       "      <td>1</td>\n",
       "    </tr>\n",
       "  </tbody>\n",
       "</table>\n",
       "<p>5 rows × 21 columns</p>\n",
       "</div>"
      ],
      "text/plain": [
       "    LB        AC   FM        UC        DL   DP  ASTV  MSTV  ALTV  MLTV  ...  \\\n",
       "0  120  0.000000  0.0  0.000000  0.000000  0.0    73   0.5    43   2.4  ...   \n",
       "1  132  0.006380  0.0  0.006380  0.003190  0.0    17   2.1     0  10.4  ...   \n",
       "2  133  0.003322  0.0  0.008306  0.003322  0.0    16   2.1     0  13.4  ...   \n",
       "3  134  0.002561  0.0  0.007682  0.002561  0.0    16   2.4     0  23.0  ...   \n",
       "4  132  0.006515  0.0  0.008143  0.000000  0.0    16   2.4     0  19.9  ...   \n",
       "\n",
       "   Min  Max  Nmax  Nzeros  Mode  Mean  Median  Variance  Tendency  label  \n",
       "0   62  126     2       0   120   137     121        73         1      8  \n",
       "1   68  198     6       1   141   136     140        12         0      5  \n",
       "2   68  198     5       1   141   135     138        13         0      5  \n",
       "3   53  170    11       0   137   134     137        13         1      5  \n",
       "4   53  170     9       0   137   136     138        11         1      1  \n",
       "\n",
       "[5 rows x 21 columns]"
      ]
     },
     "execution_count": 6,
     "metadata": {},
     "output_type": "execute_result"
    }
   ],
   "source": [
    "features20=pd.read_csv('CTGPattern selected 20 features.csv')\n",
    "# ,index_col=0)\n",
    "features20.head()"
   ]
  },
  {
   "cell_type": "code",
   "execution_count": 7,
   "id": "419f7617",
   "metadata": {},
   "outputs": [],
   "source": [
    "X1=features20.drop(labels=['label'],axis=1)\n",
    "\n",
    "y1=features20['label'].values"
   ]
  },
  {
   "cell_type": "code",
   "execution_count": 8,
   "id": "c7c558dd",
   "metadata": {},
   "outputs": [],
   "source": [
    "scaler=StandardScaler()\n",
    "scaler.fit(X1)\n",
    "X1=scaler.transform(X1)\n",
    "#split train dataset and test dataset\n",
    "X1_train, X1_test,y1_train,y1_test= train_test_split(X1,y1,test_size=0.2, shuffle = True,stratify=y1,random_state=42)"
   ]
  },
  {
   "cell_type": "markdown",
   "id": "fae107ea",
   "metadata": {},
   "source": [
    "# Models"
   ]
  },
  {
   "cell_type": "markdown",
   "id": "6dc22443",
   "metadata": {},
   "source": [
    "## Light GBM"
   ]
  },
  {
   "cell_type": "code",
   "execution_count": 9,
   "id": "aaf2b980",
   "metadata": {},
   "outputs": [],
   "source": [
    "lgbm1=LGBMClassifier(boosting_type='gbdt',objective ='multiclass',\n",
    "                                 max_depth=8, num_leaves=170,\n",
    "                                learning_rate=0.01,n_estimators=300,\n",
    "                                colsample_bytree= 0.7101,subsample= 0.5)"
   ]
  },
  {
   "cell_type": "code",
   "execution_count": 10,
   "id": "13789d4d",
   "metadata": {},
   "outputs": [
    {
     "data": {
      "text/plain": [
       "'2.5070'"
      ]
     },
     "execution_count": 10,
     "metadata": {},
     "output_type": "execute_result"
    }
   ],
   "source": [
    "start=datetime.now()\n",
    "lgbm1.fit(X1_train,y1_train)\n",
    "stop=datetime.now()\n",
    "execution_time_lgbm40='%.4f'%(stop-start).total_seconds()\n",
    "execution_time_lgbm40\n",
    "\n"
   ]
  },
  {
   "cell_type": "code",
   "execution_count": 11,
   "id": "bd718365",
   "metadata": {},
   "outputs": [],
   "source": [
    "\n",
    "lgbm_ctgpatt=lgbm1.fit(X1_train,y1_train)"
   ]
  },
  {
   "cell_type": "code",
   "execution_count": 12,
   "id": "a966fd83",
   "metadata": {},
   "outputs": [
    {
     "name": "stdout",
     "output_type": "stream",
     "text": [
      "Accuracy score with LGBM is:  0.8873239436619719\n",
      "F1 score with LGBM is:  0.8873239436619719\n",
      "ROC_AUC score with LGBM is:  0.9880809383796739\n",
      "Cross entropy loss score with LGBM is:  0.3604962851482299\n"
     ]
    }
   ],
   "source": [
    "y_pred_lgbm1=lgbm1.predict((X1_test))\n",
    "y_prob_lgbm1=lgbm1.predict_proba((X1_test))\n",
    "print(\"Accuracy score with LGBM is: \",accuracy_score(y1_test, y_pred_lgbm1))\n",
    "print(\"F1 score with LGBM is: \",f1_score(y1_test, y_pred_lgbm1,average='micro'))\n",
    "print(\"ROC_AUC score with LGBM is: \", roc_auc_score(y1_test,y_prob_lgbm1,multi_class='ovr',labels=np.unique(y1_test)))\n",
    "print(\"Cross entropy loss score with LGBM is: \",log_loss(y1_test,y_prob_lgbm1))\n"
   ]
  },
  {
   "cell_type": "code",
   "execution_count": 13,
   "id": "7826e72a",
   "metadata": {},
   "outputs": [
    {
     "name": "stdout",
     "output_type": "stream",
     "text": [
      "0.8873\n",
      "0.8873\n",
      "0.9881\n",
      "0.3605\n"
     ]
    }
   ],
   "source": [
    "lgbm_accuracy='%.4f'%accuracy_score(y1_test, y_pred_lgbm1)\n",
    "lgbm_f1='%.4f'%f1_score(y1_test, y_pred_lgbm1,average='micro')\n",
    "lgbm_roc_auc='%.4f'% roc_auc_score(y1_test,y_prob_lgbm1,multi_class='ovr',labels=np.unique(y1_test))\n",
    "lgbm_loss='%.4f'%log_loss(y1_test,y_prob_lgbm1)\n",
    "print(lgbm_accuracy)\n",
    "print(lgbm_f1)\n",
    "print(lgbm_roc_auc)\n",
    "print(lgbm_loss)"
   ]
  },
  {
   "cell_type": "code",
   "execution_count": 14,
   "id": "958daf53",
   "metadata": {},
   "outputs": [
    {
     "name": "stdout",
     "output_type": "stream",
     "text": [
      "accuracy 20  feature: 0.8788235294117648\n",
      "F1 score 20  feature: 0.8788235294117648\n",
      "roc_auc 20  feature: 0.9887342339045496\n",
      "cross entropy loss 20  feature: -0.39853620080072305\n"
     ]
    }
   ],
   "source": [
    "start=datetime.now()\n",
    "accuracy_score_20 =cross_val_score(lgbm1, X1_train, y1_train, cv=5,scoring='accuracy').mean()\n",
    "F1_score_20 =cross_val_score(lgbm1, X1_train, y1_train, cv=5,scoring='f1_micro').mean()\n",
    "roc_auc_score_20 =cross_val_score(lgbm1, X1_train, y1_train, cv=5,scoring='roc_auc_ovr').mean()\n",
    "neg_loss_score_20 =cross_val_score(lgbm1, X1_train, y1_train, cv=5,scoring='neg_log_loss').mean()\n",
    "stop=datetime.now()\n",
    "\n",
    "execution_time_lgbm4=(stop-start)/20\n",
    "execution_time_lgbm4\n",
    "\n",
    "print(\"accuracy 20  feature:\",accuracy_score_20)\n",
    "print('F1 score 20  feature:',F1_score_20)\n",
    "print('roc_auc 20  feature:',roc_auc_score_20)\n",
    "print(\"cross entropy loss 20  feature:\",neg_loss_score_20)\n"
   ]
  },
  {
   "cell_type": "code",
   "execution_count": 15,
   "id": "8ec5bb04",
   "metadata": {},
   "outputs": [
    {
     "name": "stdout",
     "output_type": "stream",
     "text": [
      "2.1351\n"
     ]
    }
   ],
   "source": [
    "training_time_lgbm=execution_time_lgbm4.total_seconds()\n",
    "training_time_lgbm='%.4f'%training_time_lgbm\n",
    "print(training_time_lgbm)"
   ]
  },
  {
   "cell_type": "code",
   "execution_count": 16,
   "id": "69f8cc62",
   "metadata": {},
   "outputs": [
    {
     "data": {
      "text/plain": [
       "['lgbm_ctgpatt.model']"
      ]
     },
     "execution_count": 16,
     "metadata": {},
     "output_type": "execute_result"
    }
   ],
   "source": [
    "# save the model\n",
    "joblib.dump(lgbm_ctgpatt,'lgbm_ctgpatt.model')"
   ]
  },
  {
   "cell_type": "code",
   "execution_count": 17,
   "id": "8a5e095b",
   "metadata": {},
   "outputs": [],
   "source": [
    "rflgbm_CTGPATT=joblib.load('lgbm_ctgpatt.model')\n",
    "   #应用模型进行预测\n",
    "resultlgmb=rflgbm_CTGPATT.score(X1_test,y1_test)"
   ]
  },
  {
   "cell_type": "code",
   "execution_count": 18,
   "id": "9d13cee9",
   "metadata": {},
   "outputs": [
    {
     "data": {
      "text/plain": [
       "0.8873239436619719"
      ]
     },
     "execution_count": 18,
     "metadata": {},
     "output_type": "execute_result"
    }
   ],
   "source": [
    "resultlgmb"
   ]
  },
  {
   "cell_type": "markdown",
   "id": "c15cee78",
   "metadata": {},
   "source": [
    "## SVM "
   ]
  },
  {
   "cell_type": "code",
   "execution_count": 19,
   "id": "b0cc69f4",
   "metadata": {},
   "outputs": [
    {
     "name": "stdout",
     "output_type": "stream",
     "text": [
      "Train Score: 0.8158823529411766\n",
      "Test Score: 0.8661971830985915\n"
     ]
    }
   ],
   "source": [
    "svc = SVC(random_state=42\n",
    "           ,C= 8.5385\n",
    "           ,kernel='rbf'\n",
    "           ,degree= 7\n",
    "          ,gamma=\"scale\"\n",
    "          , probability=True)\n",
    "accuracies = cross_val_score(svc,X1_train,y1_train,cv=5)\n",
    "svc.fit(X1_train,y1_train)\n",
    "svc.predict(X1_test)\n",
    "print(\"Train Score:\",np.mean(accuracies))\n",
    "print(\"Test Score:\",svc.score(X1_test,y1_test))"
   ]
  },
  {
   "cell_type": "code",
   "execution_count": 20,
   "id": "f0e5420d",
   "metadata": {},
   "outputs": [
    {
     "name": "stdout",
     "output_type": "stream",
     "text": [
      "accuracy 20  feature: 0.8158823529411766\n",
      "F1 score 20  feature: 0.8158823529411764\n",
      "roc_auc 20  feature: 0.9835349962317622\n",
      "cross entropy loss 20  feature: -0.48419110486469885\n"
     ]
    }
   ],
   "source": [
    "start=datetime.now()\n",
    "accuracy_score_20_svm =cross_val_score(svc, X1_train, y1_train, cv=5,scoring='accuracy').mean()\n",
    "F1_score_20_svm =cross_val_score(svc, X1_train, y1_train, cv=5,scoring='f1_micro').mean()\n",
    "roc_auc_score_20_svm =cross_val_score(svc, X1_train, y1_train, cv=5,scoring='roc_auc_ovr').mean()\n",
    "neg_loss_score_20_svm =cross_val_score(svc, X1_train, y1_train, cv=5,scoring='neg_log_loss').mean()\n",
    "\n",
    "stop=datetime.now()\n",
    "execution_time_svm=(stop-start)/20\n",
    "execution_time_svm\n",
    "\n",
    "print(\"accuracy 20  feature:\",accuracy_score_20_svm)\n",
    "print('F1 score 20  feature:',F1_score_20_svm)\n",
    "print('roc_auc 20  feature:',roc_auc_score_20_svm)\n",
    "print(\"cross entropy loss 20  feature:\",neg_loss_score_20_svm)"
   ]
  },
  {
   "cell_type": "code",
   "execution_count": 21,
   "id": "c1527117",
   "metadata": {},
   "outputs": [
    {
     "name": "stdout",
     "output_type": "stream",
     "text": [
      "0.3817\n"
     ]
    }
   ],
   "source": [
    "training_time_svm=execution_time_svm.total_seconds()\n",
    "training_time_svm='%.4f'%training_time_svm\n",
    "print(training_time_svm)"
   ]
  },
  {
   "cell_type": "code",
   "execution_count": 22,
   "id": "6048aa4c",
   "metadata": {},
   "outputs": [],
   "source": [
    "svc_ctgpatt=svc.fit( X1_train, y1_train)"
   ]
  },
  {
   "cell_type": "code",
   "execution_count": 23,
   "id": "e66c52f3",
   "metadata": {},
   "outputs": [],
   "source": [
    "y_pred_svc=svc.predict(X1_test)\n",
    "y_prob_svc=svc.predict_proba(X1_test)"
   ]
  },
  {
   "cell_type": "code",
   "execution_count": 24,
   "id": "e14e7c07",
   "metadata": {},
   "outputs": [
    {
     "name": "stdout",
     "output_type": "stream",
     "text": [
      "0.8662\n",
      "0.8662\n",
      "0.9873\n",
      "0.3815\n"
     ]
    }
   ],
   "source": [
    "\n",
    "svc_accuracy='%.4f'%accuracy_score(y1_test, y_pred_svc)\n",
    "svc_f1='%.4f'%f1_score(y1_test, y_pred_svc,average='micro')\n",
    "svc_roc_auc='%.4f'% roc_auc_score(y1_test,y_prob_svc,multi_class='ovr',labels=np.unique(y1_test))\n",
    "svc_loss='%.4f'%log_loss(y1_test,y_prob_svc)\n",
    "print(svc_accuracy)\n",
    "print(svc_f1)\n",
    "print(svc_roc_auc)\n",
    "print(svc_loss)"
   ]
  },
  {
   "cell_type": "code",
   "execution_count": 25,
   "id": "c6e5c036",
   "metadata": {},
   "outputs": [
    {
     "data": {
      "text/plain": [
       "['svc_ctgpatt.model']"
      ]
     },
     "execution_count": 25,
     "metadata": {},
     "output_type": "execute_result"
    }
   ],
   "source": [
    "  #保存模型\n",
    "joblib.dump(svc_ctgpatt,'svc_ctgpatt.model')"
   ]
  },
  {
   "cell_type": "code",
   "execution_count": 26,
   "id": "81471bd2",
   "metadata": {},
   "outputs": [],
   "source": [
    "#加载模型\n",
    "RFsvc=joblib.load('svc_ctgpatt.model')\n",
    "   #应用模型进行预测\n",
    "resultsvc=RFsvc.score(X1_test,y1_test)"
   ]
  },
  {
   "cell_type": "code",
   "execution_count": 27,
   "id": "46bbd9d6",
   "metadata": {},
   "outputs": [
    {
     "data": {
      "text/plain": [
       "0.8661971830985915"
      ]
     },
     "execution_count": 27,
     "metadata": {},
     "output_type": "execute_result"
    }
   ],
   "source": [
    "resultsvc"
   ]
  },
  {
   "cell_type": "markdown",
   "id": "6abff04b",
   "metadata": {},
   "source": [
    "## Random Forest"
   ]
  },
  {
   "cell_type": "code",
   "execution_count": 28,
   "id": "ce54e056",
   "metadata": {},
   "outputs": [
    {
     "data": {
      "text/plain": [
       "RandomForestClassifier(criterion='entropy', max_depth=11, random_state=0)"
      ]
     },
     "execution_count": 28,
     "metadata": {},
     "output_type": "execute_result"
    }
   ],
   "source": [
    "rf2=RFC(random_state=0, max_features='auto', n_estimators= 100, max_depth=11, criterion='entropy')\n",
    "rf2.fit(X1_train, y1_train)"
   ]
  },
  {
   "cell_type": "code",
   "execution_count": 29,
   "id": "c904f374",
   "metadata": {},
   "outputs": [],
   "source": [
    "# rf2= RFC(random_state=42, max_features='auto', n_estimators= 150,\n",
    "#                                      max_depth=13, \n",
    "#                                      criterion='gini')\n"
   ]
  },
  {
   "cell_type": "code",
   "execution_count": 30,
   "id": "a00d8aa5",
   "metadata": {},
   "outputs": [
    {
     "name": "stdout",
     "output_type": "stream",
     "text": [
      "accuracy 10  feature: 0.858235294117647\n",
      "F1 score 10  feature: 0.858235294117647\n",
      "roc_auc 10  feature: 0.9883670353707379\n",
      "cross entropy loss 10  feature: -0.46429756384947984\n"
     ]
    }
   ],
   "source": [
    "start=datetime.now()\n",
    "accuracy_score_10_rf =cross_val_score(rf2, X1_train, y1_train, cv=5,scoring='accuracy').mean()\n",
    "F1_score_10_rf =cross_val_score(rf2, X1_train, y1_train, cv=5,scoring='f1_micro').mean()\n",
    "roc_auc_score_10_rf =cross_val_score(rf2, X1_train, y1_train, cv=5,scoring='roc_auc_ovr').mean()\n",
    "neg_loss_score_10_rf =cross_val_score(rf2, X1_train, y1_train, cv=5,scoring='neg_log_loss').mean()\n",
    "\n",
    "stop=datetime.now()\n",
    "execution_time_rf=(stop-start)/20\n",
    "execution_time_rf\n",
    "\n",
    "print(\"accuracy 10  feature:\",accuracy_score_10_rf)\n",
    "print('F1 score 10  feature:',F1_score_10_rf)\n",
    "print('roc_auc 10  feature:',roc_auc_score_10_rf)\n",
    "print(\"cross entropy loss 10  feature:\",neg_loss_score_10_rf)"
   ]
  },
  {
   "cell_type": "code",
   "execution_count": 31,
   "id": "2861583e",
   "metadata": {},
   "outputs": [
    {
     "name": "stdout",
     "output_type": "stream",
     "text": [
      "0.3890\n"
     ]
    }
   ],
   "source": [
    "training_time_rf=execution_time_rf.total_seconds()\n",
    "training_time_rf='%.4f'%training_time_rf\n",
    "print(training_time_rf)"
   ]
  },
  {
   "cell_type": "code",
   "execution_count": 32,
   "id": "bdd34a1e",
   "metadata": {},
   "outputs": [
    {
     "name": "stdout",
     "output_type": "stream",
     "text": [
      "Accuracy score with LGBM is:  0.8732394366197183\n",
      "F1 score with LGBM is:  0.8732394366197183\n",
      "ROC_AUC score with LGBM is:  0.9863248993133716\n",
      "Cross entropy loss score with LGBM is:  0.4547162716782668\n",
      "0.8732\n",
      "0.8732\n",
      "0.9863\n",
      "0.4547\n"
     ]
    }
   ],
   "source": [
    "rf_ctgpatt=rf2.fit(X1_train,y1_train)\n",
    "y_pred_rf2=rf2.predict(X1_test)\n",
    "y_prob_rf2=rf2.predict_proba(X1_test)\n",
    "print(\"Accuracy score with LGBM is: \",accuracy_score(y1_test, y_pred_rf2))\n",
    "print(\"F1 score with LGBM is: \",f1_score(y1_test, y_pred_rf2,average='micro'))\n",
    "print(\"ROC_AUC score with LGBM is: \", roc_auc_score(y1_test,y_prob_rf2,multi_class='ovr',labels=np.unique(y1_test)))\n",
    "print(\"Cross entropy loss score with LGBM is: \",log_loss(y1_test,y_prob_rf2))\n",
    "\n",
    "\n",
    "rf_accuracy='%.4f'%accuracy_score(y1_test, y_pred_rf2)\n",
    "rf_f1='%.4f'%f1_score(y1_test, y_pred_rf2,average='micro')\n",
    "rf_roc_auc='%.4f'% roc_auc_score(y1_test,y_prob_rf2,multi_class='ovr',labels=np.unique(y1_test))\n",
    "rf_loss='%.4f'%log_loss(y1_test,y_prob_rf2)\n",
    "print(rf_accuracy)\n",
    "print(rf_f1)\n",
    "print(rf_roc_auc)\n",
    "print(rf_loss)"
   ]
  },
  {
   "cell_type": "code",
   "execution_count": 33,
   "id": "4e415423",
   "metadata": {},
   "outputs": [
    {
     "data": {
      "text/plain": [
       "['rf_ctgpatt.model']"
      ]
     },
     "execution_count": 33,
     "metadata": {},
     "output_type": "execute_result"
    }
   ],
   "source": [
    "# save the model\n",
    "joblib.dump(rf_ctgpatt,'rf_ctgpatt.model')"
   ]
  },
  {
   "cell_type": "code",
   "execution_count": 34,
   "id": "4dae9225",
   "metadata": {},
   "outputs": [],
   "source": [
    "RFrf=joblib.load('rf_ctgpatt.model')\n",
    "\n",
    "rfresult=RFrf.score(X1_test,y1_test)"
   ]
  },
  {
   "cell_type": "code",
   "execution_count": 35,
   "id": "282283e2",
   "metadata": {},
   "outputs": [
    {
     "data": {
      "text/plain": [
       "0.8732394366197183"
      ]
     },
     "execution_count": 35,
     "metadata": {},
     "output_type": "execute_result"
    }
   ],
   "source": [
    "rfresult"
   ]
  },
  {
   "cell_type": "markdown",
   "id": "e28b0bd7",
   "metadata": {},
   "source": [
    "## Neural Network"
   ]
  },
  {
   "cell_type": "code",
   "execution_count": 36,
   "id": "ee299e10",
   "metadata": {},
   "outputs": [],
   "source": [
    "\n",
    "X1_train = torch.from_numpy(X1_train)\n",
    "y1_train = torch.from_numpy(y1_train ).type(torch.LongTensor)\n",
    "\n",
    "X1_test  = torch.from_numpy(X1_test )\n",
    "y1_test= torch.from_numpy(y1_test).type(torch.LongTensor)\n",
    "\n",
    "\n",
    "batch_size = 128\n",
    "\n",
    "train = torch.utils.data.TensorDataset(X1_train, y1_train )\n",
    "test = torch.utils.data.TensorDataset(X1_test , y1_test)\n",
    "\n",
    "train_loader = torch.utils.data.DataLoader(train, batch_size=batch_size, shuffle=True)\n",
    "test_loader = torch.utils.data.DataLoader(test, batch_size=batch_size, shuffle=True)"
   ]
  },
  {
   "cell_type": "code",
   "execution_count": 37,
   "id": "28f7caf4",
   "metadata": {},
   "outputs": [],
   "source": [
    "epochs =30\n",
    "\n",
    "device = torch.device(\"cuda:0\" if torch.cuda.is_available() else \"cpu\")\n",
    "input_dim = X1.shape[1]\n",
    "hidden_dim1 = 118 #hidden layer1\n",
    "hidden_dim2 = 79 #hidden layer2 \n",
    "output_dim = len(set(y1))"
   ]
  },
  {
   "cell_type": "code",
   "execution_count": 38,
   "id": "07908c97",
   "metadata": {},
   "outputs": [],
   "source": [
    "class ANNModel(nn.Module):\n",
    "    def __init__(self, input_dim, hidden_dim1,hidden_dim2, output_dim):\n",
    "        super(ANNModel, self).__init__()\n",
    "\n",
    "        self.fc1 = nn.Linear(input_dim, hidden_dim1)\n",
    "        self.relu1 = nn.ReLU() \n",
    "        \n",
    "        self.fc2 = nn.Linear(hidden_dim1, hidden_dim2)\n",
    "        self.relu2 = nn.ReLU()\n",
    "        \n",
    "        self.fc3 = nn.Linear(hidden_dim2, output_dim)\n",
    "        \n",
    "        \n",
    "    def forward(self, x):\n",
    "        out = self.fc1(x)\n",
    "        out = self.relu1(out)\n",
    "        out = self.fc2(out)\n",
    "        out = self.relu2(out)\n",
    "        out = self.fc3(out)\n",
    "        return out"
   ]
  },
  {
   "cell_type": "code",
   "execution_count": 39,
   "id": "8e7cb91e",
   "metadata": {},
   "outputs": [],
   "source": [
    "model = ANNModel(input_dim, hidden_dim1,hidden_dim2,output_dim)\n",
    "\n",
    "\n",
    "learning_rate = 0.0175\n",
    "optimizer = torch.optim.Adam(model.parameters(), lr = learning_rate)\n",
    "criterion = nn.CrossEntropyLoss()\n"
   ]
  },
  {
   "cell_type": "code",
   "execution_count": 40,
   "id": "70a35ff5",
   "metadata": {},
   "outputs": [
    {
     "name": "stdout",
     "output_type": "stream",
     "text": [
      "[sklearn_metrics] Epoch:0 loss:2.3608 accuracy:0.0625 precision:0.0625 recall:0.0625 f1:0.0625\n",
      "[sklearn_metrics] Epoch:0 loss:4.3087 accuracy:0.2656 precision:0.2656 recall:0.2656 f1:0.2656\n",
      "[sklearn_metrics] Epoch:0 loss:6.1365 accuracy:0.3281 precision:0.3281 recall:0.3281 f1:0.3281\n",
      "[sklearn_metrics] Epoch:0 loss:7.7437 accuracy:0.3691 precision:0.3691 recall:0.3691 f1:0.3691\n",
      "[sklearn_metrics] Epoch:0 loss:9.1449 accuracy:0.4000 precision:0.4000 recall:0.4000 f1:0.4000\n",
      "[sklearn_metrics] Epoch:0 loss:10.3246 accuracy:0.4375 precision:0.4375 recall:0.4375 f1:0.4375\n",
      "[sklearn_metrics] Epoch:0 loss:11.4355 accuracy:0.4621 precision:0.4621 recall:0.4621 f1:0.4621\n",
      "[sklearn_metrics] Epoch:0 loss:12.4919 accuracy:0.4766 precision:0.4766 recall:0.4766 f1:0.4766\n",
      "[sklearn_metrics] Epoch:0 loss:13.4490 accuracy:0.4957 precision:0.4957 recall:0.4957 f1:0.4957\n",
      "[sklearn_metrics] Epoch:0 loss:14.3564 accuracy:0.5047 precision:0.5047 recall:0.5047 f1:0.5047\n",
      "[sklearn_metrics] Epoch:0 loss:15.1957 accuracy:0.5234 precision:0.5234 recall:0.5234 f1:0.5234\n",
      "[sklearn_metrics] Epoch:0 loss:15.8820 accuracy:0.5436 precision:0.5436 recall:0.5436 f1:0.5436\n",
      "[sklearn_metrics] Epoch:0 loss:16.7009 accuracy:0.5553 precision:0.5553 recall:0.5553 f1:0.5553\n",
      "[sklearn_metrics] Epoch:0 loss:17.7220 accuracy:0.5594 precision:0.5594 recall:0.5594 f1:0.5594\n",
      "[sklearn_metrics] Epoch:1 loss:0.6905 accuracy:0.7344 precision:0.7344 recall:0.7344 f1:0.7344\n",
      "[sklearn_metrics] Epoch:1 loss:1.6613 accuracy:0.6953 precision:0.6953 recall:0.6953 f1:0.6953\n",
      "[sklearn_metrics] Epoch:1 loss:2.5081 accuracy:0.6953 precision:0.6953 recall:0.6953 f1:0.6953\n",
      "[sklearn_metrics] Epoch:1 loss:3.3161 accuracy:0.6875 precision:0.6875 recall:0.6875 f1:0.6875\n",
      "[sklearn_metrics] Epoch:1 loss:4.1033 accuracy:0.6875 precision:0.6875 recall:0.6875 f1:0.6875\n",
      "[sklearn_metrics] Epoch:1 loss:4.6823 accuracy:0.7018 precision:0.7018 recall:0.7018 f1:0.7018\n",
      "[sklearn_metrics] Epoch:1 loss:5.4762 accuracy:0.6998 precision:0.6998 recall:0.6998 f1:0.6998\n",
      "[sklearn_metrics] Epoch:1 loss:6.1195 accuracy:0.7080 precision:0.7080 recall:0.7080 f1:0.7080\n",
      "[sklearn_metrics] Epoch:1 loss:6.9586 accuracy:0.6997 precision:0.6997 recall:0.6997 f1:0.6997\n",
      "[sklearn_metrics] Epoch:1 loss:7.7175 accuracy:0.7016 precision:0.7016 recall:0.7016 f1:0.7016\n",
      "[sklearn_metrics] Epoch:1 loss:8.3169 accuracy:0.7060 precision:0.7060 recall:0.7060 f1:0.7060\n",
      "[sklearn_metrics] Epoch:1 loss:9.0150 accuracy:0.7096 precision:0.7096 recall:0.7096 f1:0.7096\n",
      "[sklearn_metrics] Epoch:1 loss:9.6353 accuracy:0.7121 precision:0.7121 recall:0.7121 f1:0.7121\n",
      "[sklearn_metrics] Epoch:1 loss:10.3479 accuracy:0.7135 precision:0.7135 recall:0.7135 f1:0.7135\n",
      "[sklearn_metrics] Epoch:2 loss:0.6158 accuracy:0.7891 precision:0.7891 recall:0.7891 f1:0.7891\n",
      "[sklearn_metrics] Epoch:2 loss:1.2323 accuracy:0.7578 precision:0.7578 recall:0.7578 f1:0.7578\n",
      "[sklearn_metrics] Epoch:2 loss:1.8558 accuracy:0.7552 precision:0.7552 recall:0.7552 f1:0.7552\n",
      "[sklearn_metrics] Epoch:2 loss:2.5765 accuracy:0.7500 precision:0.7500 recall:0.7500 f1:0.7500\n",
      "[sklearn_metrics] Epoch:2 loss:3.2996 accuracy:0.7406 precision:0.7406 recall:0.7406 f1:0.7406\n",
      "[sklearn_metrics] Epoch:2 loss:3.8186 accuracy:0.7474 precision:0.7474 recall:0.7474 f1:0.7474\n",
      "[sklearn_metrics] Epoch:2 loss:4.3095 accuracy:0.7545 precision:0.7545 recall:0.7545 f1:0.7545\n",
      "[sklearn_metrics] Epoch:2 loss:4.8665 accuracy:0.7539 precision:0.7539 recall:0.7539 f1:0.7539\n",
      "[sklearn_metrics] Epoch:2 loss:5.4883 accuracy:0.7569 precision:0.7569 recall:0.7569 f1:0.7569\n",
      "[sklearn_metrics] Epoch:2 loss:6.0041 accuracy:0.7617 precision:0.7617 recall:0.7617 f1:0.7617\n",
      "[sklearn_metrics] Epoch:2 loss:6.4868 accuracy:0.7656 precision:0.7656 recall:0.7656 f1:0.7656\n",
      "[sklearn_metrics] Epoch:2 loss:7.0193 accuracy:0.7650 precision:0.7650 recall:0.7650 f1:0.7650\n",
      "[sklearn_metrics] Epoch:2 loss:7.5543 accuracy:0.7662 precision:0.7662 recall:0.7662 f1:0.7662\n",
      "[sklearn_metrics] Epoch:2 loss:8.3030 accuracy:0.7653 precision:0.7653 recall:0.7653 f1:0.7653\n",
      "[sklearn_metrics] Epoch:3 loss:0.5661 accuracy:0.7812 precision:0.7812 recall:0.7812 f1:0.7812\n",
      "[sklearn_metrics] Epoch:3 loss:1.0750 accuracy:0.7891 precision:0.7891 recall:0.7891 f1:0.7891\n",
      "[sklearn_metrics] Epoch:3 loss:1.5432 accuracy:0.7943 precision:0.7943 recall:0.7943 f1:0.7943\n",
      "[sklearn_metrics] Epoch:3 loss:2.0501 accuracy:0.7988 precision:0.7988 recall:0.7988 f1:0.7988\n",
      "[sklearn_metrics] Epoch:3 loss:2.6429 accuracy:0.7844 precision:0.7844 recall:0.7844 f1:0.7844\n",
      "[sklearn_metrics] Epoch:3 loss:3.1181 accuracy:0.7891 precision:0.7891 recall:0.7891 f1:0.7891\n",
      "[sklearn_metrics] Epoch:3 loss:3.6389 accuracy:0.7891 precision:0.7891 recall:0.7891 f1:0.7891\n",
      "[sklearn_metrics] Epoch:3 loss:4.1651 accuracy:0.7910 precision:0.7910 recall:0.7910 f1:0.7910\n",
      "[sklearn_metrics] Epoch:3 loss:4.7050 accuracy:0.7917 precision:0.7917 recall:0.7917 f1:0.7917\n",
      "[sklearn_metrics] Epoch:3 loss:5.2532 accuracy:0.7883 precision:0.7883 recall:0.7883 f1:0.7883\n",
      "[sklearn_metrics] Epoch:3 loss:5.6801 accuracy:0.7926 precision:0.7926 recall:0.7926 f1:0.7926\n",
      "[sklearn_metrics] Epoch:3 loss:6.0160 accuracy:0.7988 precision:0.7988 recall:0.7988 f1:0.7988\n",
      "[sklearn_metrics] Epoch:3 loss:6.3654 accuracy:0.8053 precision:0.8053 recall:0.8053 f1:0.8053\n",
      "[sklearn_metrics] Epoch:3 loss:6.7960 accuracy:0.8059 precision:0.8059 recall:0.8059 f1:0.8059\n",
      "[sklearn_metrics] Epoch:4 loss:0.4928 accuracy:0.8047 precision:0.8047 recall:0.8047 f1:0.8047\n",
      "[sklearn_metrics] Epoch:4 loss:0.9256 accuracy:0.8125 precision:0.8125 recall:0.8125 f1:0.8125\n",
      "[sklearn_metrics] Epoch:4 loss:1.3652 accuracy:0.8229 precision:0.8229 recall:0.8229 f1:0.8229\n",
      "[sklearn_metrics] Epoch:4 loss:1.7762 accuracy:0.8223 precision:0.8223 recall:0.8223 f1:0.8223\n",
      "[sklearn_metrics] Epoch:4 loss:2.1610 accuracy:0.8297 precision:0.8297 recall:0.8297 f1:0.8297\n",
      "[sklearn_metrics] Epoch:4 loss:2.5945 accuracy:0.8255 precision:0.8255 recall:0.8255 f1:0.8255\n",
      "[sklearn_metrics] Epoch:4 loss:3.0098 accuracy:0.8281 precision:0.8281 recall:0.8281 f1:0.8281\n",
      "[sklearn_metrics] Epoch:4 loss:3.3960 accuracy:0.8330 precision:0.8330 recall:0.8330 f1:0.8330\n",
      "[sklearn_metrics] Epoch:4 loss:3.8953 accuracy:0.8290 precision:0.8290 recall:0.8290 f1:0.8290\n",
      "[sklearn_metrics] Epoch:4 loss:4.4133 accuracy:0.8266 precision:0.8266 recall:0.8266 f1:0.8266\n",
      "[sklearn_metrics] Epoch:4 loss:4.6595 accuracy:0.8345 precision:0.8345 recall:0.8345 f1:0.8345\n",
      "[sklearn_metrics] Epoch:4 loss:5.2606 accuracy:0.8307 precision:0.8307 recall:0.8307 f1:0.8307\n",
      "[sklearn_metrics] Epoch:4 loss:5.6477 accuracy:0.8329 precision:0.8329 recall:0.8329 f1:0.8329\n",
      "[sklearn_metrics] Epoch:4 loss:5.8876 accuracy:0.8341 precision:0.8341 recall:0.8341 f1:0.8341\n",
      "[sklearn_metrics] Epoch:5 loss:0.3780 accuracy:0.8281 precision:0.8281 recall:0.8281 f1:0.8281\n",
      "[sklearn_metrics] Epoch:5 loss:0.8023 accuracy:0.8242 precision:0.8242 recall:0.8242 f1:0.8242\n",
      "[sklearn_metrics] Epoch:5 loss:1.0942 accuracy:0.8385 precision:0.8385 recall:0.8385 f1:0.8385\n",
      "[sklearn_metrics] Epoch:5 loss:1.4737 accuracy:0.8379 precision:0.8379 recall:0.8379 f1:0.8379\n",
      "[sklearn_metrics] Epoch:5 loss:1.9363 accuracy:0.8297 precision:0.8297 recall:0.8297 f1:0.8297\n",
      "[sklearn_metrics] Epoch:5 loss:2.3537 accuracy:0.8281 precision:0.8281 recall:0.8281 f1:0.8281\n",
      "[sklearn_metrics] Epoch:5 loss:2.7260 accuracy:0.8326 precision:0.8326 recall:0.8326 f1:0.8326\n",
      "[sklearn_metrics] Epoch:5 loss:3.0245 accuracy:0.8389 precision:0.8389 recall:0.8389 f1:0.8389\n",
      "[sklearn_metrics] Epoch:5 loss:3.4170 accuracy:0.8411 precision:0.8411 recall:0.8411 f1:0.8411\n",
      "[sklearn_metrics] Epoch:5 loss:3.7707 accuracy:0.8445 precision:0.8445 recall:0.8445 f1:0.8445\n",
      "[sklearn_metrics] Epoch:5 loss:4.1267 accuracy:0.8473 precision:0.8473 recall:0.8473 f1:0.8473\n",
      "[sklearn_metrics] Epoch:5 loss:4.5264 accuracy:0.8490 precision:0.8490 recall:0.8490 f1:0.8490\n",
      "[sklearn_metrics] Epoch:5 loss:4.9177 accuracy:0.8480 precision:0.8480 recall:0.8480 f1:0.8480\n",
      "[sklearn_metrics] Epoch:5 loss:5.2984 accuracy:0.8471 precision:0.8471 recall:0.8471 f1:0.8471\n",
      "[sklearn_metrics] Epoch:6 loss:0.2762 accuracy:0.8828 precision:0.8828 recall:0.8828 f1:0.8828\n",
      "[sklearn_metrics] Epoch:6 loss:0.7608 accuracy:0.8633 precision:0.8633 recall:0.8633 f1:0.8633\n",
      "[sklearn_metrics] Epoch:6 loss:1.1557 accuracy:0.8438 precision:0.8438 recall:0.8438 f1:0.8438\n",
      "[sklearn_metrics] Epoch:6 loss:1.4542 accuracy:0.8535 precision:0.8535 recall:0.8535 f1:0.8535\n",
      "[sklearn_metrics] Epoch:6 loss:1.7928 accuracy:0.8578 precision:0.8578 recall:0.8578 f1:0.8578\n",
      "[sklearn_metrics] Epoch:6 loss:2.2155 accuracy:0.8516 precision:0.8516 recall:0.8516 f1:0.8516\n",
      "[sklearn_metrics] Epoch:6 loss:2.6548 accuracy:0.8493 precision:0.8493 recall:0.8493 f1:0.8493\n",
      "[sklearn_metrics] Epoch:6 loss:3.0715 accuracy:0.8516 precision:0.8516 recall:0.8516 f1:0.8516\n",
      "[sklearn_metrics] Epoch:6 loss:3.4108 accuracy:0.8559 precision:0.8559 recall:0.8559 f1:0.8559\n",
      "[sklearn_metrics] Epoch:6 loss:3.8690 accuracy:0.8523 precision:0.8523 recall:0.8523 f1:0.8523\n",
      "[sklearn_metrics] Epoch:6 loss:4.3219 accuracy:0.8494 precision:0.8494 recall:0.8494 f1:0.8494\n",
      "[sklearn_metrics] Epoch:6 loss:4.6978 accuracy:0.8496 precision:0.8496 recall:0.8496 f1:0.8496\n",
      "[sklearn_metrics] Epoch:6 loss:5.0858 accuracy:0.8480 precision:0.8480 recall:0.8480 f1:0.8480\n",
      "[sklearn_metrics] Epoch:6 loss:5.4607 accuracy:0.8476 precision:0.8476 recall:0.8476 f1:0.8476\n",
      "[sklearn_metrics] Epoch:7 loss:0.2782 accuracy:0.8594 precision:0.8594 recall:0.8594 f1:0.8594\n",
      "[sklearn_metrics] Epoch:7 loss:0.6069 accuracy:0.8672 precision:0.8672 recall:0.8672 f1:0.8672\n",
      "[sklearn_metrics] Epoch:7 loss:1.0135 accuracy:0.8516 precision:0.8516 recall:0.8516 f1:0.8516\n",
      "[sklearn_metrics] Epoch:7 loss:1.4928 accuracy:0.8359 precision:0.8359 recall:0.8359 f1:0.8359\n",
      "[sklearn_metrics] Epoch:7 loss:1.8424 accuracy:0.8500 precision:0.8500 recall:0.8500 f1:0.8500\n",
      "[sklearn_metrics] Epoch:7 loss:2.3921 accuracy:0.8503 precision:0.8503 recall:0.8503 f1:0.8503\n"
     ]
    },
    {
     "name": "stdout",
     "output_type": "stream",
     "text": [
      "[sklearn_metrics] Epoch:7 loss:2.8497 accuracy:0.8404 precision:0.8404 recall:0.8404 f1:0.8404\n",
      "[sklearn_metrics] Epoch:7 loss:3.3218 accuracy:0.8340 precision:0.8340 recall:0.8340 f1:0.8340\n",
      "[sklearn_metrics] Epoch:7 loss:3.6664 accuracy:0.8342 precision:0.8342 recall:0.8342 f1:0.8342\n",
      "[sklearn_metrics] Epoch:7 loss:4.1061 accuracy:0.8336 precision:0.8336 recall:0.8336 f1:0.8336\n",
      "[sklearn_metrics] Epoch:7 loss:4.6572 accuracy:0.8288 precision:0.8288 recall:0.8288 f1:0.8288\n",
      "[sklearn_metrics] Epoch:7 loss:5.0515 accuracy:0.8314 precision:0.8314 recall:0.8314 f1:0.8314\n",
      "[sklearn_metrics] Epoch:7 loss:5.3708 accuracy:0.8329 precision:0.8329 recall:0.8329 f1:0.8329\n",
      "[sklearn_metrics] Epoch:7 loss:5.7035 accuracy:0.8324 precision:0.8324 recall:0.8324 f1:0.8324\n",
      "[sklearn_metrics] Epoch:8 loss:0.4175 accuracy:0.8438 precision:0.8438 recall:0.8438 f1:0.8438\n",
      "[sklearn_metrics] Epoch:8 loss:0.9949 accuracy:0.8398 precision:0.8398 recall:0.8398 f1:0.8398\n",
      "[sklearn_metrics] Epoch:8 loss:1.4244 accuracy:0.8307 precision:0.8307 recall:0.8307 f1:0.8307\n",
      "[sklearn_metrics] Epoch:8 loss:1.7369 accuracy:0.8379 precision:0.8379 recall:0.8379 f1:0.8379\n",
      "[sklearn_metrics] Epoch:8 loss:2.0703 accuracy:0.8469 precision:0.8469 recall:0.8469 f1:0.8469\n",
      "[sklearn_metrics] Epoch:8 loss:2.3837 accuracy:0.8490 precision:0.8490 recall:0.8490 f1:0.8490\n",
      "[sklearn_metrics] Epoch:8 loss:2.8828 accuracy:0.8493 precision:0.8493 recall:0.8493 f1:0.8493\n",
      "[sklearn_metrics] Epoch:8 loss:3.1395 accuracy:0.8574 precision:0.8574 recall:0.8574 f1:0.8574\n",
      "[sklearn_metrics] Epoch:8 loss:3.4882 accuracy:0.8602 precision:0.8602 recall:0.8602 f1:0.8602\n",
      "[sklearn_metrics] Epoch:8 loss:3.7941 accuracy:0.8602 precision:0.8602 recall:0.8602 f1:0.8602\n",
      "[sklearn_metrics] Epoch:8 loss:4.1722 accuracy:0.8608 precision:0.8608 recall:0.8608 f1:0.8608\n",
      "[sklearn_metrics] Epoch:8 loss:4.5382 accuracy:0.8600 precision:0.8600 recall:0.8600 f1:0.8600\n",
      "[sklearn_metrics] Epoch:8 loss:4.9703 accuracy:0.8576 precision:0.8576 recall:0.8576 f1:0.8576\n",
      "[sklearn_metrics] Epoch:8 loss:5.3679 accuracy:0.8576 precision:0.8576 recall:0.8576 f1:0.8576\n",
      "[sklearn_metrics] Epoch:9 loss:0.3996 accuracy:0.8516 precision:0.8516 recall:0.8516 f1:0.8516\n",
      "[sklearn_metrics] Epoch:9 loss:0.7779 accuracy:0.8594 precision:0.8594 recall:0.8594 f1:0.8594\n",
      "[sklearn_metrics] Epoch:9 loss:1.0697 accuracy:0.8698 precision:0.8698 recall:0.8698 f1:0.8698\n",
      "[sklearn_metrics] Epoch:9 loss:1.4288 accuracy:0.8672 precision:0.8672 recall:0.8672 f1:0.8672\n",
      "[sklearn_metrics] Epoch:9 loss:1.7961 accuracy:0.8672 precision:0.8672 recall:0.8672 f1:0.8672\n",
      "[sklearn_metrics] Epoch:9 loss:2.1357 accuracy:0.8620 precision:0.8620 recall:0.8620 f1:0.8620\n",
      "[sklearn_metrics] Epoch:9 loss:2.4143 accuracy:0.8661 precision:0.8661 recall:0.8661 f1:0.8661\n",
      "[sklearn_metrics] Epoch:9 loss:2.6957 accuracy:0.8721 precision:0.8721 recall:0.8721 f1:0.8721\n",
      "[sklearn_metrics] Epoch:9 loss:3.2239 accuracy:0.8602 precision:0.8602 recall:0.8602 f1:0.8602\n",
      "[sklearn_metrics] Epoch:9 loss:3.5521 accuracy:0.8594 precision:0.8594 recall:0.8594 f1:0.8594\n",
      "[sklearn_metrics] Epoch:9 loss:3.8336 accuracy:0.8643 precision:0.8643 recall:0.8643 f1:0.8643\n",
      "[sklearn_metrics] Epoch:9 loss:4.0612 accuracy:0.8678 precision:0.8678 recall:0.8678 f1:0.8678\n",
      "[sklearn_metrics] Epoch:9 loss:4.5058 accuracy:0.8660 precision:0.8660 recall:0.8660 f1:0.8660\n",
      "[sklearn_metrics] Epoch:9 loss:4.8092 accuracy:0.8665 precision:0.8665 recall:0.8665 f1:0.8665\n",
      "[sklearn_metrics] Epoch:10 loss:0.2796 accuracy:0.9062 precision:0.9062 recall:0.9062 f1:0.9062\n",
      "[sklearn_metrics] Epoch:10 loss:0.5926 accuracy:0.8867 precision:0.8867 recall:0.8867 f1:0.8867\n",
      "[sklearn_metrics] Epoch:10 loss:0.7840 accuracy:0.8984 precision:0.8984 recall:0.8984 f1:0.8984\n",
      "[sklearn_metrics] Epoch:10 loss:1.0076 accuracy:0.9004 precision:0.9004 recall:0.9004 f1:0.9004\n",
      "[sklearn_metrics] Epoch:10 loss:1.3576 accuracy:0.8891 precision:0.8891 recall:0.8891 f1:0.8891\n",
      "[sklearn_metrics] Epoch:10 loss:1.6251 accuracy:0.8932 precision:0.8932 recall:0.8932 f1:0.8932\n",
      "[sklearn_metrics] Epoch:10 loss:2.0095 accuracy:0.8940 precision:0.8940 recall:0.8940 f1:0.8940\n",
      "[sklearn_metrics] Epoch:10 loss:2.4190 accuracy:0.8896 precision:0.8896 recall:0.8896 f1:0.8896\n",
      "[sklearn_metrics] Epoch:10 loss:2.7317 accuracy:0.8889 precision:0.8889 recall:0.8889 f1:0.8889\n",
      "[sklearn_metrics] Epoch:10 loss:3.0399 accuracy:0.8875 precision:0.8875 recall:0.8875 f1:0.8875\n",
      "[sklearn_metrics] Epoch:10 loss:3.4225 accuracy:0.8864 precision:0.8864 recall:0.8864 f1:0.8864\n",
      "[sklearn_metrics] Epoch:10 loss:3.7936 accuracy:0.8861 precision:0.8861 recall:0.8861 f1:0.8861\n",
      "[sklearn_metrics] Epoch:10 loss:4.1831 accuracy:0.8798 precision:0.8798 recall:0.8798 f1:0.8798\n",
      "[sklearn_metrics] Epoch:10 loss:4.5008 accuracy:0.8794 precision:0.8794 recall:0.8794 f1:0.8794\n",
      "[sklearn_metrics] Epoch:11 loss:0.3181 accuracy:0.8750 precision:0.8750 recall:0.8750 f1:0.8750\n",
      "[sklearn_metrics] Epoch:11 loss:0.5590 accuracy:0.8984 precision:0.8984 recall:0.8984 f1:0.8984\n",
      "[sklearn_metrics] Epoch:11 loss:0.7497 accuracy:0.9141 precision:0.9141 recall:0.9141 f1:0.9141\n",
      "[sklearn_metrics] Epoch:11 loss:1.0108 accuracy:0.9199 precision:0.9199 recall:0.9199 f1:0.9199\n",
      "[sklearn_metrics] Epoch:11 loss:1.3964 accuracy:0.9078 precision:0.9078 recall:0.9078 f1:0.9078\n",
      "[sklearn_metrics] Epoch:11 loss:1.6350 accuracy:0.9049 precision:0.9049 recall:0.9049 f1:0.9049\n",
      "[sklearn_metrics] Epoch:11 loss:2.0190 accuracy:0.8996 precision:0.8996 recall:0.8996 f1:0.8996\n",
      "[sklearn_metrics] Epoch:11 loss:2.3304 accuracy:0.8926 precision:0.8926 recall:0.8926 f1:0.8926\n",
      "[sklearn_metrics] Epoch:11 loss:2.8508 accuracy:0.8776 precision:0.8776 recall:0.8776 f1:0.8776\n",
      "[sklearn_metrics] Epoch:11 loss:3.2638 accuracy:0.8734 precision:0.8734 recall:0.8734 f1:0.8734\n",
      "[sklearn_metrics] Epoch:11 loss:3.6237 accuracy:0.8722 precision:0.8722 recall:0.8722 f1:0.8722\n",
      "[sklearn_metrics] Epoch:11 loss:3.9255 accuracy:0.8724 precision:0.8724 recall:0.8724 f1:0.8724\n",
      "[sklearn_metrics] Epoch:11 loss:4.2114 accuracy:0.8726 precision:0.8726 recall:0.8726 f1:0.8726\n",
      "[sklearn_metrics] Epoch:11 loss:4.4829 accuracy:0.8724 precision:0.8724 recall:0.8724 f1:0.8724\n",
      "[sklearn_metrics] Epoch:12 loss:0.3227 accuracy:0.8750 precision:0.8750 recall:0.8750 f1:0.8750\n",
      "[sklearn_metrics] Epoch:12 loss:0.8164 accuracy:0.8359 precision:0.8359 recall:0.8359 f1:0.8359\n",
      "[sklearn_metrics] Epoch:12 loss:1.1051 accuracy:0.8620 precision:0.8620 recall:0.8620 f1:0.8620\n",
      "[sklearn_metrics] Epoch:12 loss:1.3614 accuracy:0.8711 precision:0.8711 recall:0.8711 f1:0.8711\n",
      "[sklearn_metrics] Epoch:12 loss:1.6019 accuracy:0.8797 precision:0.8797 recall:0.8797 f1:0.8797\n",
      "[sklearn_metrics] Epoch:12 loss:1.8129 accuracy:0.8867 precision:0.8867 recall:0.8867 f1:0.8867\n",
      "[sklearn_metrics] Epoch:12 loss:2.1876 accuracy:0.8839 precision:0.8839 recall:0.8839 f1:0.8839\n",
      "[sklearn_metrics] Epoch:12 loss:2.4680 accuracy:0.8867 precision:0.8867 recall:0.8867 f1:0.8867\n",
      "[sklearn_metrics] Epoch:12 loss:2.8023 accuracy:0.8845 precision:0.8845 recall:0.8845 f1:0.8845\n",
      "[sklearn_metrics] Epoch:12 loss:2.9892 accuracy:0.8891 precision:0.8891 recall:0.8891 f1:0.8891\n",
      "[sklearn_metrics] Epoch:12 loss:3.2032 accuracy:0.8928 precision:0.8928 recall:0.8928 f1:0.8928\n",
      "[sklearn_metrics] Epoch:12 loss:3.4940 accuracy:0.8919 precision:0.8919 recall:0.8919 f1:0.8919\n",
      "[sklearn_metrics] Epoch:12 loss:3.8055 accuracy:0.8870 precision:0.8870 recall:0.8870 f1:0.8870\n",
      "[sklearn_metrics] Epoch:12 loss:4.0771 accuracy:0.8876 precision:0.8876 recall:0.8876 f1:0.8876\n",
      "[sklearn_metrics] Epoch:13 loss:0.2146 accuracy:0.9297 precision:0.9297 recall:0.9297 f1:0.9297\n",
      "[sklearn_metrics] Epoch:13 loss:0.3767 accuracy:0.9414 precision:0.9414 recall:0.9414 f1:0.9414\n",
      "[sklearn_metrics] Epoch:13 loss:0.6023 accuracy:0.9297 precision:0.9297 recall:0.9297 f1:0.9297\n",
      "[sklearn_metrics] Epoch:13 loss:0.7614 accuracy:0.9336 precision:0.9336 recall:0.9336 f1:0.9336\n",
      "[sklearn_metrics] Epoch:13 loss:1.0104 accuracy:0.9281 precision:0.9281 recall:0.9281 f1:0.9281\n",
      "[sklearn_metrics] Epoch:13 loss:1.2311 accuracy:0.9284 precision:0.9284 recall:0.9284 f1:0.9284\n",
      "[sklearn_metrics] Epoch:13 loss:1.4335 accuracy:0.9286 precision:0.9286 recall:0.9286 f1:0.9286\n",
      "[sklearn_metrics] Epoch:13 loss:1.6659 accuracy:0.9307 precision:0.9307 recall:0.9307 f1:0.9307\n",
      "[sklearn_metrics] Epoch:13 loss:2.0151 accuracy:0.9236 precision:0.9236 recall:0.9236 f1:0.9236\n",
      "[sklearn_metrics] Epoch:13 loss:2.2140 accuracy:0.9250 precision:0.9250 recall:0.9250 f1:0.9250\n",
      "[sklearn_metrics] Epoch:13 loss:2.4815 accuracy:0.9233 precision:0.9233 recall:0.9233 f1:0.9233\n",
      "[sklearn_metrics] Epoch:13 loss:2.6932 accuracy:0.9245 precision:0.9245 recall:0.9245 f1:0.9245\n",
      "[sklearn_metrics] Epoch:13 loss:2.9294 accuracy:0.9213 precision:0.9213 recall:0.9213 f1:0.9213\n",
      "[sklearn_metrics] Epoch:13 loss:3.1749 accuracy:0.9212 precision:0.9212 recall:0.9212 f1:0.9212\n",
      "[sklearn_metrics] Epoch:14 loss:0.2444 accuracy:0.9062 precision:0.9062 recall:0.9062 f1:0.9062\n",
      "[sklearn_metrics] Epoch:14 loss:0.4234 accuracy:0.9219 precision:0.9219 recall:0.9219 f1:0.9219\n",
      "[sklearn_metrics] Epoch:14 loss:0.7020 accuracy:0.9193 precision:0.9193 recall:0.9193 f1:0.9193\n",
      "[sklearn_metrics] Epoch:14 loss:0.9828 accuracy:0.9121 precision:0.9121 recall:0.9121 f1:0.9121\n",
      "[sklearn_metrics] Epoch:14 loss:1.1728 accuracy:0.9125 precision:0.9125 recall:0.9125 f1:0.9125\n"
     ]
    },
    {
     "name": "stdout",
     "output_type": "stream",
     "text": [
      "[sklearn_metrics] Epoch:14 loss:1.5292 accuracy:0.9049 precision:0.9049 recall:0.9049 f1:0.9049\n",
      "[sklearn_metrics] Epoch:14 loss:1.7484 accuracy:0.9074 precision:0.9074 recall:0.9074 f1:0.9074\n",
      "[sklearn_metrics] Epoch:14 loss:2.0732 accuracy:0.9033 precision:0.9033 recall:0.9033 f1:0.9033\n",
      "[sklearn_metrics] Epoch:14 loss:2.5269 accuracy:0.8950 precision:0.8950 recall:0.8950 f1:0.8950\n",
      "[sklearn_metrics] Epoch:14 loss:2.7442 accuracy:0.8969 precision:0.8969 recall:0.8969 f1:0.8969\n",
      "[sklearn_metrics] Epoch:14 loss:3.0513 accuracy:0.8963 precision:0.8963 recall:0.8963 f1:0.8963\n",
      "[sklearn_metrics] Epoch:14 loss:3.3099 accuracy:0.8952 precision:0.8952 recall:0.8952 f1:0.8952\n",
      "[sklearn_metrics] Epoch:14 loss:3.5763 accuracy:0.8972 precision:0.8972 recall:0.8972 f1:0.8972\n",
      "[sklearn_metrics] Epoch:14 loss:3.8197 accuracy:0.8988 precision:0.8988 recall:0.8988 f1:0.8988\n",
      "[sklearn_metrics] Epoch:15 loss:0.2214 accuracy:0.9062 precision:0.9062 recall:0.9062 f1:0.9062\n",
      "[sklearn_metrics] Epoch:15 loss:0.3472 accuracy:0.9297 precision:0.9297 recall:0.9297 f1:0.9297\n",
      "[sklearn_metrics] Epoch:15 loss:0.6300 accuracy:0.9193 precision:0.9193 recall:0.9193 f1:0.9193\n",
      "[sklearn_metrics] Epoch:15 loss:0.8743 accuracy:0.9180 precision:0.9180 recall:0.9180 f1:0.9180\n",
      "[sklearn_metrics] Epoch:15 loss:1.1301 accuracy:0.9078 precision:0.9078 recall:0.9078 f1:0.9078\n",
      "[sklearn_metrics] Epoch:15 loss:1.4525 accuracy:0.8984 precision:0.8984 recall:0.8984 f1:0.8984\n",
      "[sklearn_metrics] Epoch:15 loss:1.6973 accuracy:0.9007 precision:0.9007 recall:0.9007 f1:0.9007\n",
      "[sklearn_metrics] Epoch:15 loss:1.9043 accuracy:0.9033 precision:0.9033 recall:0.9033 f1:0.9033\n",
      "[sklearn_metrics] Epoch:15 loss:2.1847 accuracy:0.9002 precision:0.9002 recall:0.9002 f1:0.9002\n",
      "[sklearn_metrics] Epoch:15 loss:2.4338 accuracy:0.9008 precision:0.9008 recall:0.9008 f1:0.9008\n",
      "[sklearn_metrics] Epoch:15 loss:2.6311 accuracy:0.9020 precision:0.9020 recall:0.9020 f1:0.9020\n",
      "[sklearn_metrics] Epoch:15 loss:2.9416 accuracy:0.8997 precision:0.8997 recall:0.8997 f1:0.8997\n",
      "[sklearn_metrics] Epoch:15 loss:3.2285 accuracy:0.9002 precision:0.9002 recall:0.9002 f1:0.9002\n",
      "[sklearn_metrics] Epoch:15 loss:3.4465 accuracy:0.9000 precision:0.9000 recall:0.9000 f1:0.9000\n",
      "[sklearn_metrics] Epoch:16 loss:0.1936 accuracy:0.9141 precision:0.9141 recall:0.9141 f1:0.9141\n",
      "[sklearn_metrics] Epoch:16 loss:0.3866 accuracy:0.9258 precision:0.9258 recall:0.9258 f1:0.9258\n",
      "[sklearn_metrics] Epoch:16 loss:0.6340 accuracy:0.9141 precision:0.9141 recall:0.9141 f1:0.9141\n",
      "[sklearn_metrics] Epoch:16 loss:0.8633 accuracy:0.9102 precision:0.9102 recall:0.9102 f1:0.9102\n",
      "[sklearn_metrics] Epoch:16 loss:1.1493 accuracy:0.9078 precision:0.9078 recall:0.9078 f1:0.9078\n",
      "[sklearn_metrics] Epoch:16 loss:1.2904 accuracy:0.9154 precision:0.9154 recall:0.9154 f1:0.9154\n",
      "[sklearn_metrics] Epoch:16 loss:1.5038 accuracy:0.9163 precision:0.9163 recall:0.9163 f1:0.9163\n",
      "[sklearn_metrics] Epoch:16 loss:1.8809 accuracy:0.9082 precision:0.9082 recall:0.9082 f1:0.9082\n",
      "[sklearn_metrics] Epoch:16 loss:2.0235 accuracy:0.9141 precision:0.9141 recall:0.9141 f1:0.9141\n",
      "[sklearn_metrics] Epoch:16 loss:2.2425 accuracy:0.9141 precision:0.9141 recall:0.9141 f1:0.9141\n",
      "[sklearn_metrics] Epoch:16 loss:2.4581 accuracy:0.9134 precision:0.9134 recall:0.9134 f1:0.9134\n",
      "[sklearn_metrics] Epoch:16 loss:2.6663 accuracy:0.9121 precision:0.9121 recall:0.9121 f1:0.9121\n",
      "[sklearn_metrics] Epoch:16 loss:2.8289 accuracy:0.9147 precision:0.9147 recall:0.9147 f1:0.9147\n",
      "[sklearn_metrics] Epoch:16 loss:2.9676 accuracy:0.9153 precision:0.9153 recall:0.9153 f1:0.9153\n",
      "[sklearn_metrics] Epoch:17 loss:0.2751 accuracy:0.8906 precision:0.8906 recall:0.8906 f1:0.8906\n",
      "[sklearn_metrics] Epoch:17 loss:0.5237 accuracy:0.8984 precision:0.8984 recall:0.8984 f1:0.8984\n",
      "[sklearn_metrics] Epoch:17 loss:0.8278 accuracy:0.8984 precision:0.8984 recall:0.8984 f1:0.8984\n",
      "[sklearn_metrics] Epoch:17 loss:1.0727 accuracy:0.9023 precision:0.9023 recall:0.9023 f1:0.9023\n",
      "[sklearn_metrics] Epoch:17 loss:1.3204 accuracy:0.8984 precision:0.8984 recall:0.8984 f1:0.8984\n",
      "[sklearn_metrics] Epoch:17 loss:1.5536 accuracy:0.8984 precision:0.8984 recall:0.8984 f1:0.8984\n",
      "[sklearn_metrics] Epoch:17 loss:1.8512 accuracy:0.8973 precision:0.8973 recall:0.8973 f1:0.8973\n",
      "[sklearn_metrics] Epoch:17 loss:2.1058 accuracy:0.8975 precision:0.8975 recall:0.8975 f1:0.8975\n",
      "[sklearn_metrics] Epoch:17 loss:2.2973 accuracy:0.9010 precision:0.9010 recall:0.9010 f1:0.9010\n",
      "[sklearn_metrics] Epoch:17 loss:2.6400 accuracy:0.8977 precision:0.8977 recall:0.8977 f1:0.8977\n",
      "[sklearn_metrics] Epoch:17 loss:2.8231 accuracy:0.8991 precision:0.8991 recall:0.8991 f1:0.8991\n",
      "[sklearn_metrics] Epoch:17 loss:3.0355 accuracy:0.9004 precision:0.9004 recall:0.9004 f1:0.9004\n",
      "[sklearn_metrics] Epoch:17 loss:3.2402 accuracy:0.9026 precision:0.9026 recall:0.9026 f1:0.9026\n",
      "[sklearn_metrics] Epoch:17 loss:3.3441 accuracy:0.9047 precision:0.9047 recall:0.9047 f1:0.9047\n",
      "[sklearn_metrics] Epoch:18 loss:0.2495 accuracy:0.8906 precision:0.8906 recall:0.8906 f1:0.8906\n",
      "[sklearn_metrics] Epoch:18 loss:0.4212 accuracy:0.9141 precision:0.9141 recall:0.9141 f1:0.9141\n",
      "[sklearn_metrics] Epoch:18 loss:0.5133 accuracy:0.9349 precision:0.9349 recall:0.9349 f1:0.9349\n",
      "[sklearn_metrics] Epoch:18 loss:0.6945 accuracy:0.9336 precision:0.9336 recall:0.9336 f1:0.9336\n",
      "[sklearn_metrics] Epoch:18 loss:0.8706 accuracy:0.9266 precision:0.9266 recall:0.9266 f1:0.9266\n",
      "[sklearn_metrics] Epoch:18 loss:1.0502 accuracy:0.9310 precision:0.9310 recall:0.9310 f1:0.9310\n",
      "[sklearn_metrics] Epoch:18 loss:1.1752 accuracy:0.9364 precision:0.9364 recall:0.9364 f1:0.9364\n",
      "[sklearn_metrics] Epoch:18 loss:1.4196 accuracy:0.9365 precision:0.9365 recall:0.9365 f1:0.9365\n",
      "[sklearn_metrics] Epoch:18 loss:1.6179 accuracy:0.9349 precision:0.9349 recall:0.9349 f1:0.9349\n",
      "[sklearn_metrics] Epoch:18 loss:1.6990 accuracy:0.9383 precision:0.9383 recall:0.9383 f1:0.9383\n",
      "[sklearn_metrics] Epoch:18 loss:1.8921 accuracy:0.9361 precision:0.9361 recall:0.9361 f1:0.9361\n",
      "[sklearn_metrics] Epoch:18 loss:2.0783 accuracy:0.9336 precision:0.9336 recall:0.9336 f1:0.9336\n",
      "[sklearn_metrics] Epoch:18 loss:2.2803 accuracy:0.9321 precision:0.9321 recall:0.9321 f1:0.9321\n",
      "[sklearn_metrics] Epoch:18 loss:2.5863 accuracy:0.9300 precision:0.9300 recall:0.9300 f1:0.9300\n",
      "[sklearn_metrics] Epoch:19 loss:0.1617 accuracy:0.9375 precision:0.9375 recall:0.9375 f1:0.9375\n",
      "[sklearn_metrics] Epoch:19 loss:0.3917 accuracy:0.9219 precision:0.9219 recall:0.9219 f1:0.9219\n",
      "[sklearn_metrics] Epoch:19 loss:0.5096 accuracy:0.9349 precision:0.9349 recall:0.9349 f1:0.9349\n",
      "[sklearn_metrics] Epoch:19 loss:0.6913 accuracy:0.9277 precision:0.9277 recall:0.9277 f1:0.9277\n",
      "[sklearn_metrics] Epoch:19 loss:0.7943 accuracy:0.9344 precision:0.9344 recall:0.9344 f1:0.9344\n",
      "[sklearn_metrics] Epoch:19 loss:0.9808 accuracy:0.9297 precision:0.9297 recall:0.9297 f1:0.9297\n",
      "[sklearn_metrics] Epoch:19 loss:1.1896 accuracy:0.9241 precision:0.9241 recall:0.9241 f1:0.9241\n",
      "[sklearn_metrics] Epoch:19 loss:1.2870 accuracy:0.9297 precision:0.9297 recall:0.9297 f1:0.9297\n",
      "[sklearn_metrics] Epoch:19 loss:1.5119 accuracy:0.9280 precision:0.9280 recall:0.9280 f1:0.9280\n",
      "[sklearn_metrics] Epoch:19 loss:1.7165 accuracy:0.9281 precision:0.9281 recall:0.9281 f1:0.9281\n",
      "[sklearn_metrics] Epoch:19 loss:1.9509 accuracy:0.9268 precision:0.9268 recall:0.9268 f1:0.9268\n",
      "[sklearn_metrics] Epoch:19 loss:2.2578 accuracy:0.9225 precision:0.9225 recall:0.9225 f1:0.9225\n",
      "[sklearn_metrics] Epoch:19 loss:2.4589 accuracy:0.9219 precision:0.9219 recall:0.9219 f1:0.9219\n",
      "[sklearn_metrics] Epoch:19 loss:2.7134 accuracy:0.9224 precision:0.9224 recall:0.9224 f1:0.9224\n",
      "[sklearn_metrics] Epoch:20 loss:0.1253 accuracy:0.9453 precision:0.9453 recall:0.9453 f1:0.9453\n",
      "[sklearn_metrics] Epoch:20 loss:0.3233 accuracy:0.9375 precision:0.9375 recall:0.9375 f1:0.9375\n",
      "[sklearn_metrics] Epoch:20 loss:0.5640 accuracy:0.9323 precision:0.9323 recall:0.9323 f1:0.9323\n",
      "[sklearn_metrics] Epoch:20 loss:0.7506 accuracy:0.9336 precision:0.9336 recall:0.9336 f1:0.9336\n",
      "[sklearn_metrics] Epoch:20 loss:1.0485 accuracy:0.9219 precision:0.9219 recall:0.9219 f1:0.9219\n",
      "[sklearn_metrics] Epoch:20 loss:1.2778 accuracy:0.9180 precision:0.9180 recall:0.9180 f1:0.9180\n",
      "[sklearn_metrics] Epoch:20 loss:1.4921 accuracy:0.9208 precision:0.9208 recall:0.9208 f1:0.9208\n",
      "[sklearn_metrics] Epoch:20 loss:1.6412 accuracy:0.9258 precision:0.9258 recall:0.9258 f1:0.9258\n",
      "[sklearn_metrics] Epoch:20 loss:1.9033 accuracy:0.9227 precision:0.9227 recall:0.9227 f1:0.9227\n",
      "[sklearn_metrics] Epoch:20 loss:2.1283 accuracy:0.9211 precision:0.9211 recall:0.9211 f1:0.9211\n",
      "[sklearn_metrics] Epoch:20 loss:2.3699 accuracy:0.9169 precision:0.9169 recall:0.9169 f1:0.9169\n",
      "[sklearn_metrics] Epoch:20 loss:2.5251 accuracy:0.9193 precision:0.9193 recall:0.9193 f1:0.9193\n",
      "[sklearn_metrics] Epoch:20 loss:2.6321 accuracy:0.9225 precision:0.9225 recall:0.9225 f1:0.9225\n",
      "[sklearn_metrics] Epoch:20 loss:2.7093 accuracy:0.9241 precision:0.9241 recall:0.9241 f1:0.9241\n",
      "[sklearn_metrics] Epoch:21 loss:0.1460 accuracy:0.9609 precision:0.9609 recall:0.9609 f1:0.9609\n",
      "[sklearn_metrics] Epoch:21 loss:0.4041 accuracy:0.9297 precision:0.9297 recall:0.9297 f1:0.9297\n",
      "[sklearn_metrics] Epoch:21 loss:0.5026 accuracy:0.9375 precision:0.9375 recall:0.9375 f1:0.9375\n",
      "[sklearn_metrics] Epoch:21 loss:0.6534 accuracy:0.9336 precision:0.9336 recall:0.9336 f1:0.9336\n",
      "[sklearn_metrics] Epoch:21 loss:0.8330 accuracy:0.9297 precision:0.9297 recall:0.9297 f1:0.9297\n",
      "[sklearn_metrics] Epoch:21 loss:1.0189 accuracy:0.9323 precision:0.9323 recall:0.9323 f1:0.9323\n",
      "[sklearn_metrics] Epoch:21 loss:1.1936 accuracy:0.9319 precision:0.9319 recall:0.9319 f1:0.9319\n"
     ]
    },
    {
     "name": "stdout",
     "output_type": "stream",
     "text": [
      "[sklearn_metrics] Epoch:21 loss:1.3830 accuracy:0.9336 precision:0.9336 recall:0.9336 f1:0.9336\n",
      "[sklearn_metrics] Epoch:21 loss:1.5913 accuracy:0.9332 precision:0.9332 recall:0.9332 f1:0.9332\n",
      "[sklearn_metrics] Epoch:21 loss:1.8524 accuracy:0.9289 precision:0.9289 recall:0.9289 f1:0.9289\n",
      "[sklearn_metrics] Epoch:21 loss:1.9719 accuracy:0.9304 precision:0.9304 recall:0.9304 f1:0.9304\n",
      "[sklearn_metrics] Epoch:21 loss:2.1144 accuracy:0.9323 precision:0.9323 recall:0.9323 f1:0.9323\n",
      "[sklearn_metrics] Epoch:21 loss:2.2560 accuracy:0.9321 precision:0.9321 recall:0.9321 f1:0.9321\n",
      "[sklearn_metrics] Epoch:21 loss:2.3617 accuracy:0.9324 precision:0.9324 recall:0.9324 f1:0.9324\n",
      "[sklearn_metrics] Epoch:22 loss:0.1531 accuracy:0.9531 precision:0.9531 recall:0.9531 f1:0.9531\n",
      "[sklearn_metrics] Epoch:22 loss:0.2949 accuracy:0.9336 precision:0.9336 recall:0.9336 f1:0.9336\n",
      "[sklearn_metrics] Epoch:22 loss:0.3923 accuracy:0.9479 precision:0.9479 recall:0.9479 f1:0.9479\n",
      "[sklearn_metrics] Epoch:22 loss:0.5970 accuracy:0.9355 precision:0.9355 recall:0.9355 f1:0.9355\n",
      "[sklearn_metrics] Epoch:22 loss:0.7118 accuracy:0.9406 precision:0.9406 recall:0.9406 f1:0.9406\n",
      "[sklearn_metrics] Epoch:22 loss:0.8765 accuracy:0.9427 precision:0.9427 recall:0.9427 f1:0.9427\n",
      "[sklearn_metrics] Epoch:22 loss:1.0344 accuracy:0.9420 precision:0.9420 recall:0.9420 f1:0.9420\n",
      "[sklearn_metrics] Epoch:22 loss:1.2807 accuracy:0.9375 precision:0.9375 recall:0.9375 f1:0.9375\n",
      "[sklearn_metrics] Epoch:22 loss:1.3613 accuracy:0.9410 precision:0.9410 recall:0.9410 f1:0.9410\n",
      "[sklearn_metrics] Epoch:22 loss:1.5962 accuracy:0.9375 precision:0.9375 recall:0.9375 f1:0.9375\n",
      "[sklearn_metrics] Epoch:22 loss:1.7668 accuracy:0.9361 precision:0.9361 recall:0.9361 f1:0.9361\n",
      "[sklearn_metrics] Epoch:22 loss:1.9221 accuracy:0.9368 precision:0.9368 recall:0.9368 f1:0.9368\n",
      "[sklearn_metrics] Epoch:22 loss:2.1276 accuracy:0.9351 precision:0.9351 recall:0.9351 f1:0.9351\n",
      "[sklearn_metrics] Epoch:22 loss:2.2878 accuracy:0.9353 precision:0.9353 recall:0.9353 f1:0.9353\n",
      "[sklearn_metrics] Epoch:23 loss:0.1406 accuracy:0.9375 precision:0.9375 recall:0.9375 f1:0.9375\n",
      "[sklearn_metrics] Epoch:23 loss:0.2321 accuracy:0.9492 precision:0.9492 recall:0.9492 f1:0.9492\n",
      "[sklearn_metrics] Epoch:23 loss:0.3823 accuracy:0.9427 precision:0.9427 recall:0.9427 f1:0.9427\n",
      "[sklearn_metrics] Epoch:23 loss:0.5325 accuracy:0.9434 precision:0.9434 recall:0.9434 f1:0.9434\n",
      "[sklearn_metrics] Epoch:23 loss:0.7668 accuracy:0.9422 precision:0.9422 recall:0.9422 f1:0.9422\n",
      "[sklearn_metrics] Epoch:23 loss:0.9473 accuracy:0.9388 precision:0.9388 recall:0.9388 f1:0.9388\n",
      "[sklearn_metrics] Epoch:23 loss:1.0184 accuracy:0.9442 precision:0.9442 recall:0.9442 f1:0.9442\n",
      "[sklearn_metrics] Epoch:23 loss:1.2008 accuracy:0.9424 precision:0.9424 recall:0.9424 f1:0.9424\n",
      "[sklearn_metrics] Epoch:23 loss:1.3876 accuracy:0.9410 precision:0.9410 recall:0.9410 f1:0.9410\n",
      "[sklearn_metrics] Epoch:23 loss:1.4872 accuracy:0.9437 precision:0.9437 recall:0.9437 f1:0.9437\n",
      "[sklearn_metrics] Epoch:23 loss:1.6841 accuracy:0.9439 precision:0.9439 recall:0.9439 f1:0.9439\n",
      "[sklearn_metrics] Epoch:23 loss:1.8350 accuracy:0.9434 precision:0.9434 recall:0.9434 f1:0.9434\n",
      "[sklearn_metrics] Epoch:23 loss:1.9395 accuracy:0.9447 precision:0.9447 recall:0.9447 f1:0.9447\n",
      "[sklearn_metrics] Epoch:23 loss:2.0585 accuracy:0.9447 precision:0.9447 recall:0.9447 f1:0.9447\n",
      "[sklearn_metrics] Epoch:24 loss:0.1093 accuracy:0.9375 precision:0.9375 recall:0.9375 f1:0.9375\n",
      "[sklearn_metrics] Epoch:24 loss:0.2157 accuracy:0.9531 precision:0.9531 recall:0.9531 f1:0.9531\n",
      "[sklearn_metrics] Epoch:24 loss:0.3063 accuracy:0.9609 precision:0.9609 recall:0.9609 f1:0.9609\n",
      "[sklearn_metrics] Epoch:24 loss:0.4440 accuracy:0.9590 precision:0.9590 recall:0.9590 f1:0.9590\n",
      "[sklearn_metrics] Epoch:24 loss:0.6058 accuracy:0.9578 precision:0.9578 recall:0.9578 f1:0.9578\n",
      "[sklearn_metrics] Epoch:24 loss:0.8218 accuracy:0.9518 precision:0.9518 recall:0.9518 f1:0.9518\n",
      "[sklearn_metrics] Epoch:24 loss:0.9228 accuracy:0.9498 precision:0.9498 recall:0.9498 f1:0.9498\n",
      "[sklearn_metrics] Epoch:24 loss:1.0483 accuracy:0.9492 precision:0.9492 recall:0.9492 f1:0.9492\n",
      "[sklearn_metrics] Epoch:24 loss:1.3288 accuracy:0.9479 precision:0.9479 recall:0.9479 f1:0.9479\n",
      "[sklearn_metrics] Epoch:24 loss:1.5414 accuracy:0.9445 precision:0.9445 recall:0.9445 f1:0.9445\n",
      "[sklearn_metrics] Epoch:24 loss:1.6382 accuracy:0.9453 precision:0.9453 recall:0.9453 f1:0.9453\n",
      "[sklearn_metrics] Epoch:24 loss:1.7892 accuracy:0.9447 precision:0.9447 recall:0.9447 f1:0.9447\n",
      "[sklearn_metrics] Epoch:24 loss:1.9144 accuracy:0.9447 precision:0.9447 recall:0.9447 f1:0.9447\n",
      "[sklearn_metrics] Epoch:24 loss:1.9990 accuracy:0.9453 precision:0.9453 recall:0.9453 f1:0.9453\n",
      "[sklearn_metrics] Epoch:25 loss:0.2075 accuracy:0.9141 precision:0.9141 recall:0.9141 f1:0.9141\n",
      "[sklearn_metrics] Epoch:25 loss:0.3419 accuracy:0.9297 precision:0.9297 recall:0.9297 f1:0.9297\n",
      "[sklearn_metrics] Epoch:25 loss:0.5655 accuracy:0.9297 precision:0.9297 recall:0.9297 f1:0.9297\n",
      "[sklearn_metrics] Epoch:25 loss:0.7479 accuracy:0.9336 precision:0.9336 recall:0.9336 f1:0.9336\n",
      "[sklearn_metrics] Epoch:25 loss:0.8144 accuracy:0.9437 precision:0.9437 recall:0.9437 f1:0.9437\n",
      "[sklearn_metrics] Epoch:25 loss:0.9180 accuracy:0.9479 precision:0.9479 recall:0.9479 f1:0.9479\n",
      "[sklearn_metrics] Epoch:25 loss:0.9852 accuracy:0.9531 precision:0.9531 recall:0.9531 f1:0.9531\n",
      "[sklearn_metrics] Epoch:25 loss:1.0684 accuracy:0.9551 precision:0.9551 recall:0.9551 f1:0.9551\n",
      "[sklearn_metrics] Epoch:25 loss:1.2722 accuracy:0.9531 precision:0.9531 recall:0.9531 f1:0.9531\n",
      "[sklearn_metrics] Epoch:25 loss:1.4342 accuracy:0.9523 precision:0.9523 recall:0.9523 f1:0.9523\n",
      "[sklearn_metrics] Epoch:25 loss:1.5318 accuracy:0.9545 precision:0.9545 recall:0.9545 f1:0.9545\n",
      "[sklearn_metrics] Epoch:25 loss:1.7159 accuracy:0.9525 precision:0.9525 recall:0.9525 f1:0.9525\n",
      "[sklearn_metrics] Epoch:25 loss:1.8834 accuracy:0.9525 precision:0.9525 recall:0.9525 f1:0.9525\n",
      "[sklearn_metrics] Epoch:25 loss:2.0392 accuracy:0.9518 precision:0.9518 recall:0.9518 f1:0.9518\n",
      "[sklearn_metrics] Epoch:26 loss:0.1842 accuracy:0.9297 precision:0.9297 recall:0.9297 f1:0.9297\n",
      "[sklearn_metrics] Epoch:26 loss:0.3717 accuracy:0.9180 precision:0.9180 recall:0.9180 f1:0.9180\n",
      "[sklearn_metrics] Epoch:26 loss:0.4737 accuracy:0.9323 precision:0.9323 recall:0.9323 f1:0.9323\n",
      "[sklearn_metrics] Epoch:26 loss:0.6128 accuracy:0.9395 precision:0.9395 recall:0.9395 f1:0.9395\n",
      "[sklearn_metrics] Epoch:26 loss:0.7265 accuracy:0.9391 precision:0.9391 recall:0.9391 f1:0.9391\n",
      "[sklearn_metrics] Epoch:26 loss:0.8633 accuracy:0.9401 precision:0.9401 recall:0.9401 f1:0.9401\n",
      "[sklearn_metrics] Epoch:26 loss:1.0051 accuracy:0.9397 precision:0.9397 recall:0.9397 f1:0.9397\n",
      "[sklearn_metrics] Epoch:26 loss:1.1695 accuracy:0.9375 precision:0.9375 recall:0.9375 f1:0.9375\n",
      "[sklearn_metrics] Epoch:26 loss:1.2952 accuracy:0.9375 precision:0.9375 recall:0.9375 f1:0.9375\n",
      "[sklearn_metrics] Epoch:26 loss:1.4418 accuracy:0.9367 precision:0.9367 recall:0.9367 f1:0.9367\n",
      "[sklearn_metrics] Epoch:26 loss:1.5566 accuracy:0.9361 precision:0.9361 recall:0.9361 f1:0.9361\n",
      "[sklearn_metrics] Epoch:26 loss:1.7165 accuracy:0.9349 precision:0.9349 recall:0.9349 f1:0.9349\n",
      "[sklearn_metrics] Epoch:26 loss:1.9633 accuracy:0.9327 precision:0.9327 recall:0.9327 f1:0.9327\n",
      "[sklearn_metrics] Epoch:26 loss:2.0787 accuracy:0.9329 precision:0.9329 recall:0.9329 f1:0.9329\n",
      "[sklearn_metrics] Epoch:27 loss:0.0933 accuracy:0.9844 precision:0.9844 recall:0.9844 f1:0.9844\n",
      "[sklearn_metrics] Epoch:27 loss:0.2370 accuracy:0.9609 precision:0.9609 recall:0.9609 f1:0.9609\n",
      "[sklearn_metrics] Epoch:27 loss:0.3837 accuracy:0.9583 precision:0.9583 recall:0.9583 f1:0.9583\n",
      "[sklearn_metrics] Epoch:27 loss:0.6096 accuracy:0.9551 precision:0.9551 recall:0.9551 f1:0.9551\n",
      "[sklearn_metrics] Epoch:27 loss:0.7665 accuracy:0.9547 precision:0.9547 recall:0.9547 f1:0.9547\n",
      "[sklearn_metrics] Epoch:27 loss:0.9242 accuracy:0.9479 precision:0.9479 recall:0.9479 f1:0.9479\n",
      "[sklearn_metrics] Epoch:27 loss:1.0491 accuracy:0.9487 precision:0.9487 recall:0.9487 f1:0.9487\n",
      "[sklearn_metrics] Epoch:27 loss:1.1562 accuracy:0.9482 precision:0.9482 recall:0.9482 f1:0.9482\n",
      "[sklearn_metrics] Epoch:27 loss:1.3080 accuracy:0.9462 precision:0.9462 recall:0.9462 f1:0.9462\n",
      "[sklearn_metrics] Epoch:27 loss:1.5481 accuracy:0.9391 precision:0.9391 recall:0.9391 f1:0.9391\n",
      "[sklearn_metrics] Epoch:27 loss:1.7326 accuracy:0.9368 precision:0.9368 recall:0.9368 f1:0.9368\n",
      "[sklearn_metrics] Epoch:27 loss:1.8435 accuracy:0.9388 precision:0.9388 recall:0.9388 f1:0.9388\n",
      "[sklearn_metrics] Epoch:27 loss:2.1166 accuracy:0.9363 precision:0.9363 recall:0.9363 f1:0.9363\n",
      "[sklearn_metrics] Epoch:27 loss:2.4229 accuracy:0.9353 precision:0.9353 recall:0.9353 f1:0.9353\n",
      "[sklearn_metrics] Epoch:28 loss:0.1201 accuracy:0.9453 precision:0.9453 recall:0.9453 f1:0.9453\n",
      "[sklearn_metrics] Epoch:28 loss:0.2084 accuracy:0.9609 precision:0.9609 recall:0.9609 f1:0.9609\n",
      "[sklearn_metrics] Epoch:28 loss:0.4528 accuracy:0.9427 precision:0.9427 recall:0.9427 f1:0.9427\n",
      "[sklearn_metrics] Epoch:28 loss:0.6734 accuracy:0.9395 precision:0.9395 recall:0.9395 f1:0.9395\n",
      "[sklearn_metrics] Epoch:28 loss:0.8307 accuracy:0.9359 precision:0.9359 recall:0.9359 f1:0.9359\n",
      "[sklearn_metrics] Epoch:28 loss:1.0319 accuracy:0.9323 precision:0.9323 recall:0.9323 f1:0.9323\n",
      "[sklearn_metrics] Epoch:28 loss:1.1416 accuracy:0.9375 precision:0.9375 recall:0.9375 f1:0.9375\n",
      "[sklearn_metrics] Epoch:28 loss:1.2621 accuracy:0.9385 precision:0.9385 recall:0.9385 f1:0.9385\n",
      "[sklearn_metrics] Epoch:28 loss:1.4407 accuracy:0.9358 precision:0.9358 recall:0.9358 f1:0.9358\n",
      "[sklearn_metrics] Epoch:28 loss:1.7118 accuracy:0.9352 precision:0.9352 recall:0.9352 f1:0.9352\n",
      "[sklearn_metrics] Epoch:28 loss:1.9439 accuracy:0.9339 precision:0.9339 recall:0.9339 f1:0.9339\n",
      "[sklearn_metrics] Epoch:28 loss:2.0606 accuracy:0.9362 precision:0.9362 recall:0.9362 f1:0.9362\n",
      "[sklearn_metrics] Epoch:28 loss:2.2094 accuracy:0.9357 precision:0.9357 recall:0.9357 f1:0.9357\n"
     ]
    },
    {
     "name": "stdout",
     "output_type": "stream",
     "text": [
      "[sklearn_metrics] Epoch:28 loss:2.3578 accuracy:0.9353 precision:0.9353 recall:0.9353 f1:0.9353\n",
      "[sklearn_metrics] Epoch:29 loss:0.1297 accuracy:0.9297 precision:0.9297 recall:0.9297 f1:0.9297\n",
      "[sklearn_metrics] Epoch:29 loss:0.2943 accuracy:0.9297 precision:0.9297 recall:0.9297 f1:0.9297\n",
      "[sklearn_metrics] Epoch:29 loss:0.3736 accuracy:0.9479 precision:0.9479 recall:0.9479 f1:0.9479\n",
      "[sklearn_metrics] Epoch:29 loss:0.4910 accuracy:0.9473 precision:0.9473 recall:0.9473 f1:0.9473\n",
      "[sklearn_metrics] Epoch:29 loss:0.6182 accuracy:0.9469 precision:0.9469 recall:0.9469 f1:0.9469\n",
      "[sklearn_metrics] Epoch:29 loss:0.7283 accuracy:0.9479 precision:0.9479 recall:0.9479 f1:0.9479\n",
      "[sklearn_metrics] Epoch:29 loss:0.8542 accuracy:0.9487 precision:0.9487 recall:0.9487 f1:0.9487\n",
      "[sklearn_metrics] Epoch:29 loss:1.1180 accuracy:0.9443 precision:0.9443 recall:0.9443 f1:0.9443\n",
      "[sklearn_metrics] Epoch:29 loss:1.3098 accuracy:0.9427 precision:0.9427 recall:0.9427 f1:0.9427\n",
      "[sklearn_metrics] Epoch:29 loss:1.4226 accuracy:0.9445 precision:0.9445 recall:0.9445 f1:0.9445\n",
      "[sklearn_metrics] Epoch:29 loss:1.5186 accuracy:0.9474 precision:0.9474 recall:0.9474 f1:0.9474\n",
      "[sklearn_metrics] Epoch:29 loss:1.6396 accuracy:0.9486 precision:0.9486 recall:0.9486 f1:0.9486\n",
      "[sklearn_metrics] Epoch:29 loss:1.7669 accuracy:0.9483 precision:0.9483 recall:0.9483 f1:0.9483\n",
      "[sklearn_metrics] Epoch:29 loss:1.9145 accuracy:0.9476 precision:0.9476 recall:0.9476 f1:0.9476\n",
      "execution_time_ann 3.2025\n",
      "              precision    recall  f1-score   support\n",
      "\n",
      "           0       0.81      0.88      0.84        24\n",
      "           1       0.88      0.94      0.91        32\n",
      "           2       1.00      0.33      0.50         3\n",
      "           3       1.00      1.00      1.00         6\n",
      "           4       0.75      0.75      0.75         4\n",
      "           5       0.84      0.76      0.80        21\n",
      "           6       1.00      0.88      0.93        16\n",
      "           7       1.00      0.80      0.89         5\n",
      "           8       0.80      1.00      0.89         4\n",
      "           9       0.80      0.92      0.86        13\n",
      "\n",
      "    accuracy                           0.87       128\n",
      "   macro avg       0.89      0.83      0.84       128\n",
      "weighted avg       0.87      0.87      0.86       128\n",
      "\n",
      "[[21  0  0  0  1  1  0  0  0  1]\n",
      " [ 1 30  0  0  0  1  0  0  0  0]\n",
      " [ 2  0  1  0  0  0  0  0  0  0]\n",
      " [ 0  0  0  6  0  0  0  0  0  0]\n",
      " [ 0  0  0  0  3  0  0  0  0  1]\n",
      " [ 1  4  0  0  0 16  0  0  0  0]\n",
      " [ 1  0  0  0  0  0 14  0  0  1]\n",
      " [ 0  0  0  0  0  1  0  4  0  0]\n",
      " [ 0  0  0  0  0  0  0  0  4  0]\n",
      " [ 0  0  0  0  0  0  0  0  1 12]]\n",
      "[sklearn_metrics] accuracy:0.8672 precision:0.8672 recall:0.8672 f1:0.8672\n",
      "              precision    recall  f1-score   support\n",
      "\n",
      "           0       0.84      0.91      0.88        47\n",
      "           1       0.91      0.93      0.92        67\n",
      "           2       0.75      0.43      0.55         7\n",
      "           3       1.00      1.00      1.00        10\n",
      "           4       0.75      0.67      0.71         9\n",
      "           5       0.88      0.80      0.84        35\n",
      "           6       0.97      0.92      0.94        36\n",
      "           7       0.92      0.92      0.92        12\n",
      "           8       0.92      1.00      0.96        11\n",
      "           9       0.80      0.91      0.85        22\n",
      "\n",
      "    accuracy                           0.89       256\n",
      "   macro avg       0.87      0.85      0.86       256\n",
      "weighted avg       0.89      0.89      0.88       256\n",
      "\n",
      "[[43  0  0  0  1  1  0  0  0  2]\n",
      " [ 2 62  1  0  0  2  0  0  0  0]\n",
      " [ 4  0  3  0  0  0  0  0  0  0]\n",
      " [ 0  0  0 10  0  0  0  0  0  0]\n",
      " [ 0  1  0  0  6  0  0  0  0  2]\n",
      " [ 1  5  0  0  0 28  1  0  0  0]\n",
      " [ 1  0  0  0  0  0 33  1  0  1]\n",
      " [ 0  0  0  0  0  1  0 11  0  0]\n",
      " [ 0  0  0  0  0  0  0  0 11  0]\n",
      " [ 0  0  0  0  1  0  0  0  1 20]]\n",
      "[sklearn_metrics] accuracy:0.8867 precision:0.8867 recall:0.8867 f1:0.8867\n",
      "              precision    recall  f1-score   support\n",
      "\n",
      "           0       0.85      0.90      0.88        71\n",
      "           1       0.89      0.95      0.92       103\n",
      "           2       0.60      0.33      0.43         9\n",
      "           3       1.00      0.92      0.96        13\n",
      "           4       0.80      0.67      0.73        12\n",
      "           5       0.91      0.81      0.85        62\n",
      "           6       0.91      0.87      0.89        47\n",
      "           7       0.95      0.95      0.95        21\n",
      "           8       0.93      1.00      0.97        14\n",
      "           9       0.83      0.94      0.88        32\n",
      "\n",
      "    accuracy                           0.89       384\n",
      "   macro avg       0.87      0.83      0.85       384\n",
      "weighted avg       0.88      0.89      0.88       384\n",
      "\n",
      "[[64  0  0  0  1  1  2  0  0  3]\n",
      " [ 2 98  1  0  0  2  0  0  0  0]\n",
      " [ 6  0  3  0  0  0  0  0  0  0]\n",
      " [ 0  1  0 12  0  0  0  0  0  0]\n",
      " [ 0  2  0  0  8  0  0  0  0  2]\n",
      " [ 1  9  0  0  0 50  2  0  0  0]\n",
      " [ 2  0  1  0  0  1 41  1  0  1]\n",
      " [ 0  0  0  0  0  1  0 20  0  0]\n",
      " [ 0  0  0  0  0  0  0  0 14  0]\n",
      " [ 0  0  0  0  1  0  0  0  1 30]]\n",
      "[sklearn_metrics] accuracy:0.8854 precision:0.8854 recall:0.8854 f1:0.8854\n",
      "              precision    recall  f1-score   support\n",
      "\n",
      "           0       0.83      0.88      0.86        77\n",
      "           1       0.88      0.95      0.91       116\n",
      "           2       0.60      0.27      0.37        11\n",
      "           3       1.00      0.88      0.93        16\n",
      "           4       0.83      0.71      0.77        14\n",
      "           5       0.90      0.81      0.85        67\n",
      "           6       0.92      0.88      0.90        51\n",
      "           7       0.95      0.95      0.95        21\n",
      "           8       0.93      1.00      0.97        14\n",
      "           9       0.84      0.92      0.88        39\n",
      "\n",
      "    accuracy                           0.88       426\n",
      "   macro avg       0.87      0.83      0.84       426\n",
      "weighted avg       0.88      0.88      0.87       426\n",
      "\n",
      "[[ 68   1   0   0   1   1   2   0   0   4]\n",
      " [  2 110   1   0   0   3   0   0   0   0]\n",
      " [  8   0   3   0   0   0   0   0   0   0]\n",
      " [  0   2   0  14   0   0   0   0   0   0]\n",
      " [  0   2   0   0  10   0   0   0   0   2]\n",
      " [  1  10   0   0   0  54   2   0   0   0]\n",
      " [  2   0   1   0   0   1  45   1   0   1]\n",
      " [  0   0   0   0   0   1   0  20   0   0]\n",
      " [  0   0   0   0   0   0   0   0  14   0]\n",
      " [  1   0   0   0   1   0   0   0   1  36]]\n",
      "[sklearn_metrics] accuracy:0.8779 precision:0.8779 recall:0.8779 f1:0.8779\n"
     ]
    }
   ],
   "source": [
    "start=datetime.now()\n",
    "\n",
    "total_step = len(train_loader)\n",
    "model.train()\n",
    "for epoch in range(epochs):\n",
    "    tot_loss = 0.0\n",
    "    tot_acc = 0.0\n",
    "    train_preds = []\n",
    "    train_trues = []\n",
    "  # model.train()\n",
    "    for i,(train_data_batch, train_label_batch) in enumerate(train_loader):\n",
    "        train_data_batch = train_data_batch.float().to(device) # 将double数据转换为float\n",
    "        train_label_batch = train_label_batch.to(device)\n",
    "        outputs = model(train_data_batch)\n",
    "        # _, preds = torch.max(outputs.data, 1)\n",
    "        loss = criterion(outputs, train_label_batch)\n",
    "        # print(loss)\n",
    "  \n",
    "        loss.backward()\n",
    "        optimizer.step()\n",
    "        optimizer.zero_grad()\n",
    "  \n",
    "        tot_loss += loss.data\n",
    "        train_outputs = outputs.argmax(dim=1)\n",
    "        train_preds.extend(train_outputs.detach().cpu().numpy())\n",
    "        train_trues.extend(train_label_batch.detach().cpu().numpy())\n",
    "        # tot_acc += (outputs.argmax(dim=1) == train_label_batch).sum().item()\n",
    "        sklearn_accuracy = accuracy_score(train_trues, train_preds)\n",
    "        sklearn_precision = precision_score(train_trues, train_preds, average='micro')\n",
    "        sklearn_recall = recall_score(train_trues, train_preds, average='micro')\n",
    "        sklearn_f1 = f1_score(train_trues, train_preds, average='micro')\n",
    "        print(\"[sklearn_metrics] Epoch:{} loss:{:.4f} accuracy:{:.4f} precision:{:.4f} recall:{:.4f} f1:{:.4f}\".format(epoch, tot_loss, sklearn_accuracy, sklearn_precision, sklearn_recall, sklearn_f1))\n",
    "stop=datetime.now()\n",
    "execution_time_ann=(stop-start)\n",
    "execution_time_ann='%.4f'%(execution_time_ann).total_seconds()\n",
    "print('execution_time_ann',execution_time_ann)\n",
    "test_preds = []\n",
    "test_trues = []\n",
    "model.eval()\n",
    "with torch.no_grad():\n",
    "    for i,(test_data_batch, test_data_label) in enumerate(test_loader):\n",
    "        test_data_batch = test_data_batch.float().to(device) # 将double数据转换为float\n",
    "        test_data_label = test_data_label.to(device)\n",
    "        test_outputs = model(test_data_batch)\n",
    "        \n",
    "        probs = F.softmax(test_outputs, dim=1)\n",
    "        test_outputs = test_outputs.argmax(dim=1)\n",
    "        testloss = criterion(probs, test_data_label)\n",
    "#         preds = torch.argmax(logits, dim=1)\n",
    "        test_preds.extend(test_outputs.detach().cpu().numpy())\n",
    "        test_trues.extend(test_data_label.detach().cpu().numpy())\n",
    "        sklearn_accuracy = accuracy_score(test_trues, test_preds)\n",
    "        sklearn_precision = precision_score(test_trues, test_preds, average='micro')\n",
    "        sklearn_recall = recall_score(test_trues, test_preds, average='micro')\n",
    "        sklearn_f1 = f1_score(test_trues, test_preds, average='micro')\n",
    "#         print(\"Loss score is: \", log_loss(test_data_label,probs))\n",
    "        print(classification_report(test_trues, test_preds))\n",
    "        conf_matrix = confusion_matrix(test_trues, test_preds)\n",
    "        print(conf_matrix)\n",
    "#         plot_confusion_matrix(conf_matrix)\n",
    "        print(\"[sklearn_metrics] accuracy:{:.4f} precision:{:.4f} recall:{:.4f} f1:{:.4f}\".format(sklearn_accuracy, sklearn_precision, sklearn_recall, sklearn_f1))"
   ]
  },
  {
   "cell_type": "code",
   "execution_count": 41,
   "id": "9cac5fa9",
   "metadata": {},
   "outputs": [
    {
     "data": {
      "image/png": "[encoded data removed]",
      "text/plain": [
       "<Figure size 432x288 with 2 Axes>"
      ]
     },
     "metadata": {
      "needs_background": "light"
     },
     "output_type": "display_data"
    }
   ],
   "source": [
    "ConfusionMatrixDisplay.from_predictions(test_trues, test_preds)\n",
    "\n",
    "plt.show()"
   ]
  },
  {
   "cell_type": "code",
   "execution_count": 42,
   "id": "ad8a03a1",
   "metadata": {},
   "outputs": [
    {
     "name": "stdout",
     "output_type": "stream",
     "text": [
      "              precision    recall  f1-score   support\n",
      "\n",
      "           0       0.83      0.88      0.86        77\n",
      "           1       0.88      0.95      0.91       116\n",
      "           2       0.60      0.27      0.37        11\n",
      "           3       1.00      0.88      0.93        16\n",
      "           4       0.83      0.71      0.77        14\n",
      "           5       0.90      0.81      0.85        67\n",
      "           6       0.92      0.88      0.90        51\n",
      "           7       0.95      0.95      0.95        21\n",
      "           8       0.93      1.00      0.97        14\n",
      "           9       0.84      0.92      0.88        39\n",
      "\n",
      "    accuracy                           0.88       426\n",
      "   macro avg       0.87      0.83      0.84       426\n",
      "weighted avg       0.88      0.88      0.87       426\n",
      "\n"
     ]
    }
   ],
   "source": [
    "print(classification_report(test_trues, test_preds,zero_division=1))"
   ]
  },
  {
   "cell_type": "code",
   "execution_count": 43,
   "id": "157a93f3",
   "metadata": {},
   "outputs": [
    {
     "data": {
      "text/plain": [
       "tensor(1.6468)"
      ]
     },
     "execution_count": 43,
     "metadata": {},
     "output_type": "execute_result"
    }
   ],
   "source": [
    "testloss"
   ]
  },
  {
   "cell_type": "code",
   "execution_count": 44,
   "id": "2e921833",
   "metadata": {},
   "outputs": [
    {
     "name": "stdout",
     "output_type": "stream",
     "text": [
      "0.8779342723004695\n"
     ]
    }
   ],
   "source": [
    "print(accuracy_score(test_trues, test_preds))"
   ]
  },
  {
   "cell_type": "code",
   "execution_count": 45,
   "id": "b1b2d8dd",
   "metadata": {},
   "outputs": [
    {
     "data": {
      "text/plain": [
       "'3.2025'"
      ]
     },
     "execution_count": 45,
     "metadata": {},
     "output_type": "execute_result"
    }
   ],
   "source": [
    "execution_time_ann"
   ]
  },
  {
   "cell_type": "code",
   "execution_count": 46,
   "id": "dbcbd3dd",
   "metadata": {},
   "outputs": [],
   "source": [
    "ann_accuracy='%.4f'% accuracy_score(test_trues, test_preds)"
   ]
  },
  {
   "cell_type": "code",
   "execution_count": 47,
   "id": "8b77e3ef",
   "metadata": {},
   "outputs": [],
   "source": [
    "ann_f1='%.4f'% f1_score(test_trues, test_preds, average='micro')"
   ]
  },
  {
   "cell_type": "code",
   "execution_count": 48,
   "id": "a38bacd5",
   "metadata": {},
   "outputs": [],
   "source": [
    "ann_roc_auc='%.4f'%roc_auc_score(test_data_label,probs,multi_class='ovo',labels=[0, 1,2, 3, 4, 5, 6, 7,8,9])"
   ]
  },
  {
   "cell_type": "code",
   "execution_count": 49,
   "id": "bf101e9d",
   "metadata": {},
   "outputs": [],
   "source": [
    "ann_loss='%.4f'% log_loss(test_data_label,probs,labels=[0, 1,2, 3, 4, 5, 6, 7,8,9])"
   ]
  },
  {
   "cell_type": "code",
   "execution_count": 50,
   "id": "49a30864",
   "metadata": {},
   "outputs": [
    {
     "data": {
      "text/plain": [
       "'0.6950'"
      ]
     },
     "execution_count": 50,
     "metadata": {},
     "output_type": "execute_result"
    }
   ],
   "source": [
    "ann_loss"
   ]
  },
  {
   "cell_type": "code",
   "execution_count": 51,
   "id": "9d9340a3",
   "metadata": {},
   "outputs": [
    {
     "data": {
      "text/html": [
       "<div>\n",
       "<style scoped>\n",
       "    .dataframe tbody tr th:only-of-type {\n",
       "        vertical-align: middle;\n",
       "    }\n",
       "\n",
       "    .dataframe tbody tr th {\n",
       "        vertical-align: top;\n",
       "    }\n",
       "\n",
       "    .dataframe thead th {\n",
       "        text-align: right;\n",
       "    }\n",
       "</style>\n",
       "<table border=\"1\" class=\"dataframe\">\n",
       "  <thead>\n",
       "    <tr style=\"text-align: right;\">\n",
       "      <th></th>\n",
       "      <th>accuracy</th>\n",
       "      <th>f1_score</th>\n",
       "      <th>roc_auc</th>\n",
       "      <th>cross_entropy_loss</th>\n",
       "      <th>training_time[s]</th>\n",
       "    </tr>\n",
       "  </thead>\n",
       "  <tbody>\n",
       "    <tr>\n",
       "      <th>Light GBM</th>\n",
       "      <td>0.8873</td>\n",
       "      <td>0.8873</td>\n",
       "      <td>0.9881</td>\n",
       "      <td>0.3605</td>\n",
       "      <td>2.1351</td>\n",
       "    </tr>\n",
       "    <tr>\n",
       "      <th>SVM</th>\n",
       "      <td>0.8662</td>\n",
       "      <td>0.8662</td>\n",
       "      <td>0.9873</td>\n",
       "      <td>0.3815</td>\n",
       "      <td>0.3817</td>\n",
       "    </tr>\n",
       "    <tr>\n",
       "      <th>Random Forest</th>\n",
       "      <td>0.8732</td>\n",
       "      <td>0.8732</td>\n",
       "      <td>0.9863</td>\n",
       "      <td>0.4547</td>\n",
       "      <td>0.3890</td>\n",
       "    </tr>\n",
       "    <tr>\n",
       "      <th>PyTorch ANN</th>\n",
       "      <td>0.8779</td>\n",
       "      <td>0.8779</td>\n",
       "      <td>0.9807</td>\n",
       "      <td>0.6950</td>\n",
       "      <td>3.2025</td>\n",
       "    </tr>\n",
       "  </tbody>\n",
       "</table>\n",
       "</div>"
      ],
      "text/plain": [
       "              accuracy f1_score roc_auc cross_entropy_loss training_time[s]\n",
       "Light GBM       0.8873   0.8873  0.9881             0.3605           2.1351\n",
       "SVM             0.8662   0.8662  0.9873             0.3815           0.3817\n",
       "Random Forest   0.8732   0.8732  0.9863             0.4547           0.3890\n",
       "PyTorch ANN     0.8779   0.8779  0.9807             0.6950           3.2025"
      ]
     },
     "execution_count": 51,
     "metadata": {},
     "output_type": "execute_result"
    }
   ],
   "source": [
    "CTGPATTdict = { \n",
    "              'accuracy':[lgbm_accuracy,svc_accuracy,rf_accuracy,ann_accuracy],\n",
    "               'f1_score': [lgbm_f1,svc_f1,rf_f1,ann_f1],\n",
    "               'roc_auc': [lgbm_roc_auc,svc_roc_auc,rf_roc_auc,ann_roc_auc],\n",
    "               'cross_entropy_loss': [lgbm_loss,svc_loss,rf_loss,ann_loss],\n",
    "                'training_time[s]':[training_time_lgbm,training_time_svm,training_time_rf,execution_time_ann]\n",
    "               }\n",
    "pr_df_ctgpattern = pd.DataFrame(CTGPATTdict,index=['Light GBM','SVM','Random Forest','PyTorch ANN'])\n",
    "pr_df_ctgpattern"
   ]
  },
  {
   "cell_type": "code",
   "execution_count": 52,
   "id": "3015d2c8",
   "metadata": {},
   "outputs": [],
   "source": [
    "pr_df_ctgpattern.to_csv('CTGPattern Score.csv')"
   ]
  }
 ],
 "metadata": {
  "kernelspec": {
   "display_name": "Python 3 (ipykernel)",
   "language": "python",
   "name": "python3"
  },
  "language_info": {
   "codemirror_mode": {
    "name": "ipython",
    "version": 3
   },
   "file_extension": ".py",
   "mimetype": "text/x-python",
   "name": "python",
   "nbconvert_exporter": "python",
   "pygments_lexer": "ipython3",
   "version": "3.9.7"
  },
  "toc": {
   "base_numbering": 1,
   "nav_menu": {},
   "number_sections": true,
   "sideBar": true,
   "skip_h1_title": false,
   "title_cell": "Table of Contents",
   "title_sidebar": "Contents",
   "toc_cell": false,
   "toc_position": {},
   "toc_section_display": true,
   "toc_window_display": false
  }
 },
 "nbformat": 4,
 "nbformat_minor": 5
}

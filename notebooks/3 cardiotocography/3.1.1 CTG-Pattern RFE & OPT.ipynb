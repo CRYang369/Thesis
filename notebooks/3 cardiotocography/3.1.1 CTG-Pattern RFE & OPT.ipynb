{
 "cells": [
  {
   "cell_type": "markdown",
   "id": "e66bef34",
   "metadata": {},
   "source": [
    "# Import the package"
   ]
  },
  {
   "cell_type": "code",
   "execution_count": 1,
   "id": "3a9cc4cf",
   "metadata": {},
   "outputs": [],
   "source": [
    "from datetime import datetime\n",
    "import lightgbm as lgb\n",
    "from lightgbm import LGBMClassifier\n",
    "from lightgbm import plot_importance\n",
    "import matplotlib.pyplot as plt\n",
    "from matplotlib import pyplot\n",
    "from matplotlib.pyplot import MultipleLocator\n",
    "%matplotlib inline\n",
    "import numpy as np\n",
    "from numpy import mean\n",
    "from numpy import std\n",
    "from numpy import sort\n",
    "import pandas as pd\n",
    "from pandas.core.frame import DataFrame\n",
    "from sklearn.svm import SVC\n",
    "from sklearn.decomposition import PCA\n",
    "from sklearn.ensemble import RandomForestClassifier as RFC\n",
    "from sklearn.feature_selection import SelectFromModel\n",
    "from sklearn import metrics\n",
    "from sklearn.metrics import f1_score  \n",
    "from sklearn.metrics import mean_absolute_error\n",
    "from sklearn.metrics import confusion_matrix,roc_curve,roc_auc_score,accuracy_score, plot_confusion_matrix,classification_report\n",
    "from sklearn.model_selection import cross_val_score\n",
    "from sklearn.model_selection import RepeatedStratifiedKFold\n",
    "from sklearn.model_selection import train_test_split\n",
    "from sklearn.preprocessing import LabelEncoder\n",
    "from sklearn.preprocessing import OneHotEncoder\n",
    "from sklearn.preprocessing import StandardScaler\n",
    "from sklearn.utils import class_weight\n",
    "from sklearn.metrics import log_loss\n",
    "import seaborn as sns\n",
    "from time import time\n",
    "import warnings\n",
    "warnings.filterwarnings(\"ignore\")\n",
    "from sklearn.model_selection import StratifiedKFold\n",
    "from sklearn.metrics import make_scorer\n",
    "from skopt import BayesSearchCV\n",
    "from skopt.callbacks import DeadlineStopper,DeltaYStopper\n",
    "from skopt.space import Real,Categorical,Integer\n",
    "from sklearn.feature_selection import RFECV\n",
    "from sklearn.feature_selection import RFE\n",
    "import joblib"
   ]
  },
  {
   "cell_type": "markdown",
   "id": "18426f30",
   "metadata": {},
   "source": [
    "# Dataset"
   ]
  },
  {
   "cell_type": "code",
   "execution_count": 3,
   "id": "f5e49d39",
   "metadata": {},
   "outputs": [],
   "source": [
    "CTGData=pd.read_csv('CTG.csv')"
   ]
  },
  {
   "cell_type": "code",
   "execution_count": 4,
   "id": "6ac75456",
   "metadata": {},
   "outputs": [],
   "source": [
    "CTGData3=CTGData.copy()\n",
    "X=CTGData3.drop(labels=['CLASS','NSP'],axis=1)\n",
    "\n",
    "y=CTGData3['CLASS'].values\n",
    "y = LabelEncoder().fit_transform(y)"
   ]
  },
  {
   "cell_type": "code",
   "execution_count": 5,
   "id": "de1f4cde",
   "metadata": {},
   "outputs": [],
   "source": [
    "#stanardilization\n",
    "from sklearn.preprocessing import StandardScaler\n",
    "scaler=StandardScaler()\n",
    "scaler.fit(X)\n",
    "X=scaler.transform(X)"
   ]
  },
  {
   "cell_type": "code",
   "execution_count": 6,
   "id": "51ec61fd",
   "metadata": {},
   "outputs": [],
   "source": [
    "#split train dataset and test dataset\n",
    "X_train, X_test,y_train,y_test= train_test_split(X,y,test_size=0.2,random_state=42)\n",
    "\n"
   ]
  },
  {
   "cell_type": "code",
   "execution_count": 6,
   "id": "a83cea4c",
   "metadata": {},
   "outputs": [],
   "source": [
    "gbm =lgbm_params=LGBMClassifier(boosting_type='gbdt',objective ='multiclass',max_depth=4, num_leaves=300,\n",
    "                                learning_rate=0.01,n_estimators=150)\n"
   ]
  },
  {
   "cell_type": "code",
   "execution_count": 7,
   "id": "afc7bec7",
   "metadata": {},
   "outputs": [
    {
     "name": "stdout",
     "output_type": "stream",
     "text": [
      "cross validation loss at trainingset: -0.5613216977286362\n",
      "gbm at testset accuracy: 0.8661971830985915\n",
      "loss at testset annually calculated : 0.5130267176377111\n"
     ]
    }
   ],
   "source": [
    "\n",
    "score =cross_val_score(gbm, X_train, y_train, cv=5,scoring='neg_log_loss').mean()\n",
    "print('cross validation loss at trainingset:',score) \n",
    "\n",
    "gbm.fit(X_train, y_train)\n",
    "prob_gbm=gbm.predict_proba(X_test)\n",
    "loss_gbm=log_loss(y_test,prob_gbm)\n",
    "print('gbm at testset accuracy:',gbm.score(X_test,y_test)) \n",
    "print('loss at testset annually calculated :',loss_gbm)  "
   ]
  },
  {
   "cell_type": "markdown",
   "id": "d79027d9",
   "metadata": {},
   "source": [
    "# Feature selection"
   ]
  },
  {
   "cell_type": "markdown",
   "id": "1d8e1e00",
   "metadata": {},
   "source": [
    "## Bayes OPT hyperparameter searching"
   ]
  },
  {
   "cell_type": "code",
   "execution_count": 8,
   "id": "a2938415",
   "metadata": {},
   "outputs": [
    {
     "name": "stdout",
     "output_type": "stream",
     "text": [
      "0:05:55.407095\n"
     ]
    }
   ],
   "source": [
    "start=datetime.now()\n",
    "\n",
    "# Bayers搜索，参数优化\n",
    "BayerLgbmopt = BayesSearchCV(\n",
    "     gbm,\n",
    "     {         \n",
    "        'learning_rate': (0.005,0.01,0.001), \n",
    "        'n_estimators': (100,300), \n",
    "  \n",
    "        'max_depth': (3,8), \n",
    "        'num_leaves':(8, 170),\n",
    "         \n",
    "        'subsample': (0.5,0.8), \n",
    "        'colsample_bytree': (0.5,0.8)\n",
    "       \n",
    "    } ,\n",
    "     n_iter=50,\n",
    "     cv=5\n",
    "     ,scoring=\"neg_log_loss\"\n",
    "    ,random_state=42\n",
    "    ,n_points=2\n",
    ")\n",
    "BayerLgbmopt.fit(X_train, y_train)\n",
    "\n",
    "stop=datetime.now()\n",
    "\n",
    "execution_time_lgbm0=(stop-start)\n",
    "print(execution_time_lgbm0)"
   ]
  },
  {
   "cell_type": "code",
   "execution_count": 9,
   "id": "52f43820",
   "metadata": {},
   "outputs": [
    {
     "name": "stdout",
     "output_type": "stream",
     "text": [
      "Best parameters found by Bayes search are: OrderedDict([('colsample_bytree', 0.6635656726144148), ('learning_rate', 0.01), ('max_depth', 8), ('n_estimators', 300), ('num_leaves', 170), ('subsample', 0.8)])\n",
      "val. score: -0.41698109115581783\n",
      "test score: -0.33117232515362544\n"
     ]
    }
   ],
   "source": [
    "print('Best parameters found by Bayes search are:', BayerLgbmopt.best_params_)\n",
    "print(\"val. score: %s\" % BayerLgbmopt.best_score_)\n",
    "print(\"test score: %s\" % BayerLgbmopt.score(X_test, y_test))"
   ]
  },
  {
   "cell_type": "markdown",
   "id": "0ff7a0f8",
   "metadata": {},
   "source": [
    "### Build the modle with the OPT hyperparameter"
   ]
  },
  {
   "cell_type": "code",
   "execution_count": 12,
   "id": "76e112ca",
   "metadata": {},
   "outputs": [],
   "source": [
    "lgbm=LGBMClassifier(boosting_type='gbdt',objective ='multiclass',\n",
    "                                 max_depth=8, num_leaves=170,\n",
    "                                learning_rate=0.01,n_estimators=300,\n",
    "                                colsample_bytree= 0.6636,subsample= 0.8)"
   ]
  },
  {
   "cell_type": "markdown",
   "id": "e9546695",
   "metadata": {},
   "source": [
    "## Feature selection with the OPT model"
   ]
  },
  {
   "cell_type": "code",
   "execution_count": 11,
   "id": "cb64d910",
   "metadata": {},
   "outputs": [
    {
     "name": "stdout",
     "output_type": "stream",
     "text": [
      "0.6473027207806634 20\n",
      "[1.9302045202091414, 1.9192654514749303, 1.5968717727797679, 1.5454677670177597, 1.4339954776104091, 1.3019408135688482, 1.245425756619373, 1.0998471683969893, 0.7875307013242443, 0.8047417427425112, 0.7829480901923367, 0.7052086718001307, 0.6970133291323772, 0.6582348790725618, 0.6693416478648562, 0.672443613512334, 0.6688205405404148, 0.6514468381945697, 0.660476251820816, 0.6473027207806634, 0.6473027207806634]\n"
     ]
    },
    {
     "data": {
      "image/png": "[encoded data removed]",
      "text/plain": [
       "<Figure size 720x360 with 1 Axes>"
      ]
     },
     "metadata": {
      "needs_background": "light"
     },
     "output_type": "display_data"
    },
    {
     "data": {
      "text/plain": [
       "datetime.timedelta(seconds=738, microseconds=302835)"
      ]
     },
     "execution_count": 11,
     "metadata": {},
     "output_type": "execute_result"
    }
   ],
   "source": [
    "# 递归特征消除法和曲线图选取最优特征数量 \n",
    "start=datetime.now()\n",
    "score = []                                                            # 建立列表\n",
    "for i in range(1,22, 1):\n",
    "    X_wrapper=RFE(lgbm, n_features_to_select=i, step=1).fit_transform(X, y)      # 最优特征 \n",
    "    once = cross_val_score(lgbm, X_wrapper, y, cv=5,scoring='neg_log_loss').mean()                      # 交叉验证\n",
    "    score.append(once)                                                           # 交叉验证结果保存到列表\n",
    "cross_entropy_loss=[j * -1 for j in score]\n",
    "\n",
    "print(min(cross_entropy_loss), (cross_entropy_loss.index(min(cross_entropy_loss))*1)+1)                                 # 输出最优分类结果和对应的特征数量\n",
    "print(cross_entropy_loss)\n",
    "plt.figure(figsize=[10, 5])\n",
    "plt.plot(range(1, 22, 1), cross_entropy_loss)\n",
    "plt.xticks(range(0, 22))\n",
    "plt.xlabel(u'features', fontsize=18)\n",
    "plt.ylabel(u'cross_entropy loss', fontsize=18)\n",
    "plt.grid()\n",
    "plt.show()\n",
    "\n",
    "stop=datetime.now()\n",
    "\n",
    "execution_time_lgbm1=(stop-start)\n",
    "execution_time_lgbm1"
   ]
  },
  {
   "cell_type": "code",
   "execution_count": 12,
   "id": "cb5497b4",
   "metadata": {},
   "outputs": [
    {
     "name": "stdout",
     "output_type": "stream",
     "text": [
      "[1 1 1 1 1 2 1 1 1 1 1 1 1 1 1 1 1 1 1 1 1]\n",
      "20\n"
     ]
    },
    {
     "data": {
      "text/plain": [
       "datetime.timedelta(seconds=4, microseconds=886164)"
      ]
     },
     "execution_count": 12,
     "metadata": {},
     "output_type": "execute_result"
    }
   ],
   "source": [
    "# 4.递归特征消除法\n",
    "start=datetime.now()\n",
    "selector = RFE(lgbm, n_features_to_select=20, step=1).fit(X, y)       # n_features_to_select表示筛选最终特征数量，step表示每次排除一个特征\n",
    "selector.support_.sum()\n",
    "print(selector.ranking_)                                             # 特征排除排序\n",
    "print(selector.n_features_)                                          # 选择特征数量\n",
    "X_wrapper_20 = selector.transform(X)                                   # 最优特征\n",
    "\n",
    "\n",
    "stop=datetime.now()\n",
    "\n",
    "execution_time_lgbm2=(stop-start)\n",
    "execution_time_lgbm2"
   ]
  },
  {
   "cell_type": "markdown",
   "id": "e86e88cb",
   "metadata": {},
   "source": [
    "## Save the selected feature to csv file"
   ]
  },
  {
   "cell_type": "code",
   "execution_count": 13,
   "id": "825b750a",
   "metadata": {},
   "outputs": [
    {
     "data": {
      "text/plain": [
       "array([ 0,  1,  2,  3,  4,  6,  7,  8,  9, 10, 11, 12, 13, 14, 15, 16, 17,\n",
       "       18, 19, 20], dtype=int64)"
      ]
     },
     "execution_count": 13,
     "metadata": {},
     "output_type": "execute_result"
    }
   ],
   "source": [
    "index20=selector.get_support(indices=True)\n",
    "index20"
   ]
  },
  {
   "cell_type": "code",
   "execution_count": 7,
   "id": "c16c5ab8",
   "metadata": {},
   "outputs": [
    {
     "data": {
      "text/html": [
       "<div>\n",
       "<style scoped>\n",
       "    .dataframe tbody tr th:only-of-type {\n",
       "        vertical-align: middle;\n",
       "    }\n",
       "\n",
       "    .dataframe tbody tr th {\n",
       "        vertical-align: top;\n",
       "    }\n",
       "\n",
       "    .dataframe thead th {\n",
       "        text-align: right;\n",
       "    }\n",
       "</style>\n",
       "<table border=\"1\" class=\"dataframe\">\n",
       "  <thead>\n",
       "    <tr style=\"text-align: right;\">\n",
       "      <th></th>\n",
       "      <th>LB</th>\n",
       "      <th>AC</th>\n",
       "      <th>FM</th>\n",
       "      <th>UC</th>\n",
       "      <th>DL</th>\n",
       "      <th>DP</th>\n",
       "      <th>ASTV</th>\n",
       "      <th>MSTV</th>\n",
       "      <th>ALTV</th>\n",
       "      <th>MLTV</th>\n",
       "      <th>...</th>\n",
       "      <th>Min</th>\n",
       "      <th>Max</th>\n",
       "      <th>Nmax</th>\n",
       "      <th>Nzeros</th>\n",
       "      <th>Mode</th>\n",
       "      <th>Mean</th>\n",
       "      <th>Median</th>\n",
       "      <th>Variance</th>\n",
       "      <th>Tendency</th>\n",
       "      <th>label</th>\n",
       "    </tr>\n",
       "  </thead>\n",
       "  <tbody>\n",
       "    <tr>\n",
       "      <th>0</th>\n",
       "      <td>120</td>\n",
       "      <td>0.000000</td>\n",
       "      <td>0.000000</td>\n",
       "      <td>0.000000</td>\n",
       "      <td>0.000000</td>\n",
       "      <td>0.0</td>\n",
       "      <td>73</td>\n",
       "      <td>0.5</td>\n",
       "      <td>43</td>\n",
       "      <td>2.4</td>\n",
       "      <td>...</td>\n",
       "      <td>62</td>\n",
       "      <td>126</td>\n",
       "      <td>2</td>\n",
       "      <td>0</td>\n",
       "      <td>120</td>\n",
       "      <td>137</td>\n",
       "      <td>121</td>\n",
       "      <td>73</td>\n",
       "      <td>1</td>\n",
       "      <td>8</td>\n",
       "    </tr>\n",
       "    <tr>\n",
       "      <th>1</th>\n",
       "      <td>132</td>\n",
       "      <td>0.006380</td>\n",
       "      <td>0.000000</td>\n",
       "      <td>0.006380</td>\n",
       "      <td>0.003190</td>\n",
       "      <td>0.0</td>\n",
       "      <td>17</td>\n",
       "      <td>2.1</td>\n",
       "      <td>0</td>\n",
       "      <td>10.4</td>\n",
       "      <td>...</td>\n",
       "      <td>68</td>\n",
       "      <td>198</td>\n",
       "      <td>6</td>\n",
       "      <td>1</td>\n",
       "      <td>141</td>\n",
       "      <td>136</td>\n",
       "      <td>140</td>\n",
       "      <td>12</td>\n",
       "      <td>0</td>\n",
       "      <td>5</td>\n",
       "    </tr>\n",
       "    <tr>\n",
       "      <th>2</th>\n",
       "      <td>133</td>\n",
       "      <td>0.003322</td>\n",
       "      <td>0.000000</td>\n",
       "      <td>0.008306</td>\n",
       "      <td>0.003322</td>\n",
       "      <td>0.0</td>\n",
       "      <td>16</td>\n",
       "      <td>2.1</td>\n",
       "      <td>0</td>\n",
       "      <td>13.4</td>\n",
       "      <td>...</td>\n",
       "      <td>68</td>\n",
       "      <td>198</td>\n",
       "      <td>5</td>\n",
       "      <td>1</td>\n",
       "      <td>141</td>\n",
       "      <td>135</td>\n",
       "      <td>138</td>\n",
       "      <td>13</td>\n",
       "      <td>0</td>\n",
       "      <td>5</td>\n",
       "    </tr>\n",
       "    <tr>\n",
       "      <th>3</th>\n",
       "      <td>134</td>\n",
       "      <td>0.002561</td>\n",
       "      <td>0.000000</td>\n",
       "      <td>0.007682</td>\n",
       "      <td>0.002561</td>\n",
       "      <td>0.0</td>\n",
       "      <td>16</td>\n",
       "      <td>2.4</td>\n",
       "      <td>0</td>\n",
       "      <td>23.0</td>\n",
       "      <td>...</td>\n",
       "      <td>53</td>\n",
       "      <td>170</td>\n",
       "      <td>11</td>\n",
       "      <td>0</td>\n",
       "      <td>137</td>\n",
       "      <td>134</td>\n",
       "      <td>137</td>\n",
       "      <td>13</td>\n",
       "      <td>1</td>\n",
       "      <td>5</td>\n",
       "    </tr>\n",
       "    <tr>\n",
       "      <th>4</th>\n",
       "      <td>132</td>\n",
       "      <td>0.006515</td>\n",
       "      <td>0.000000</td>\n",
       "      <td>0.008143</td>\n",
       "      <td>0.000000</td>\n",
       "      <td>0.0</td>\n",
       "      <td>16</td>\n",
       "      <td>2.4</td>\n",
       "      <td>0</td>\n",
       "      <td>19.9</td>\n",
       "      <td>...</td>\n",
       "      <td>53</td>\n",
       "      <td>170</td>\n",
       "      <td>9</td>\n",
       "      <td>0</td>\n",
       "      <td>137</td>\n",
       "      <td>136</td>\n",
       "      <td>138</td>\n",
       "      <td>11</td>\n",
       "      <td>1</td>\n",
       "      <td>1</td>\n",
       "    </tr>\n",
       "    <tr>\n",
       "      <th>...</th>\n",
       "      <td>...</td>\n",
       "      <td>...</td>\n",
       "      <td>...</td>\n",
       "      <td>...</td>\n",
       "      <td>...</td>\n",
       "      <td>...</td>\n",
       "      <td>...</td>\n",
       "      <td>...</td>\n",
       "      <td>...</td>\n",
       "      <td>...</td>\n",
       "      <td>...</td>\n",
       "      <td>...</td>\n",
       "      <td>...</td>\n",
       "      <td>...</td>\n",
       "      <td>...</td>\n",
       "      <td>...</td>\n",
       "      <td>...</td>\n",
       "      <td>...</td>\n",
       "      <td>...</td>\n",
       "      <td>...</td>\n",
       "      <td>...</td>\n",
       "    </tr>\n",
       "    <tr>\n",
       "      <th>2121</th>\n",
       "      <td>140</td>\n",
       "      <td>0.000000</td>\n",
       "      <td>0.000000</td>\n",
       "      <td>0.007426</td>\n",
       "      <td>0.000000</td>\n",
       "      <td>0.0</td>\n",
       "      <td>79</td>\n",
       "      <td>0.2</td>\n",
       "      <td>25</td>\n",
       "      <td>7.2</td>\n",
       "      <td>...</td>\n",
       "      <td>137</td>\n",
       "      <td>177</td>\n",
       "      <td>4</td>\n",
       "      <td>0</td>\n",
       "      <td>153</td>\n",
       "      <td>150</td>\n",
       "      <td>152</td>\n",
       "      <td>2</td>\n",
       "      <td>0</td>\n",
       "      <td>4</td>\n",
       "    </tr>\n",
       "    <tr>\n",
       "      <th>2122</th>\n",
       "      <td>140</td>\n",
       "      <td>0.000775</td>\n",
       "      <td>0.000000</td>\n",
       "      <td>0.006971</td>\n",
       "      <td>0.000000</td>\n",
       "      <td>0.0</td>\n",
       "      <td>78</td>\n",
       "      <td>0.4</td>\n",
       "      <td>22</td>\n",
       "      <td>7.1</td>\n",
       "      <td>...</td>\n",
       "      <td>103</td>\n",
       "      <td>169</td>\n",
       "      <td>6</td>\n",
       "      <td>0</td>\n",
       "      <td>152</td>\n",
       "      <td>148</td>\n",
       "      <td>151</td>\n",
       "      <td>3</td>\n",
       "      <td>1</td>\n",
       "      <td>4</td>\n",
       "    </tr>\n",
       "    <tr>\n",
       "      <th>2123</th>\n",
       "      <td>140</td>\n",
       "      <td>0.000980</td>\n",
       "      <td>0.000000</td>\n",
       "      <td>0.006863</td>\n",
       "      <td>0.000000</td>\n",
       "      <td>0.0</td>\n",
       "      <td>79</td>\n",
       "      <td>0.4</td>\n",
       "      <td>20</td>\n",
       "      <td>6.1</td>\n",
       "      <td>...</td>\n",
       "      <td>103</td>\n",
       "      <td>170</td>\n",
       "      <td>5</td>\n",
       "      <td>0</td>\n",
       "      <td>153</td>\n",
       "      <td>148</td>\n",
       "      <td>152</td>\n",
       "      <td>4</td>\n",
       "      <td>1</td>\n",
       "      <td>4</td>\n",
       "    </tr>\n",
       "    <tr>\n",
       "      <th>2124</th>\n",
       "      <td>140</td>\n",
       "      <td>0.000679</td>\n",
       "      <td>0.000000</td>\n",
       "      <td>0.006110</td>\n",
       "      <td>0.000000</td>\n",
       "      <td>0.0</td>\n",
       "      <td>78</td>\n",
       "      <td>0.4</td>\n",
       "      <td>27</td>\n",
       "      <td>7.0</td>\n",
       "      <td>...</td>\n",
       "      <td>103</td>\n",
       "      <td>169</td>\n",
       "      <td>6</td>\n",
       "      <td>0</td>\n",
       "      <td>152</td>\n",
       "      <td>147</td>\n",
       "      <td>151</td>\n",
       "      <td>4</td>\n",
       "      <td>1</td>\n",
       "      <td>4</td>\n",
       "    </tr>\n",
       "    <tr>\n",
       "      <th>2125</th>\n",
       "      <td>142</td>\n",
       "      <td>0.001616</td>\n",
       "      <td>0.001616</td>\n",
       "      <td>0.008078</td>\n",
       "      <td>0.000000</td>\n",
       "      <td>0.0</td>\n",
       "      <td>74</td>\n",
       "      <td>0.4</td>\n",
       "      <td>36</td>\n",
       "      <td>5.0</td>\n",
       "      <td>...</td>\n",
       "      <td>117</td>\n",
       "      <td>159</td>\n",
       "      <td>2</td>\n",
       "      <td>1</td>\n",
       "      <td>145</td>\n",
       "      <td>143</td>\n",
       "      <td>145</td>\n",
       "      <td>1</td>\n",
       "      <td>0</td>\n",
       "      <td>0</td>\n",
       "    </tr>\n",
       "  </tbody>\n",
       "</table>\n",
       "<p>2126 rows × 21 columns</p>\n",
       "</div>"
      ],
      "text/plain": [
       "       LB        AC        FM        UC        DL   DP  ASTV  MSTV  ALTV  \\\n",
       "0     120  0.000000  0.000000  0.000000  0.000000  0.0    73   0.5    43   \n",
       "1     132  0.006380  0.000000  0.006380  0.003190  0.0    17   2.1     0   \n",
       "2     133  0.003322  0.000000  0.008306  0.003322  0.0    16   2.1     0   \n",
       "3     134  0.002561  0.000000  0.007682  0.002561  0.0    16   2.4     0   \n",
       "4     132  0.006515  0.000000  0.008143  0.000000  0.0    16   2.4     0   \n",
       "...   ...       ...       ...       ...       ...  ...   ...   ...   ...   \n",
       "2121  140  0.000000  0.000000  0.007426  0.000000  0.0    79   0.2    25   \n",
       "2122  140  0.000775  0.000000  0.006971  0.000000  0.0    78   0.4    22   \n",
       "2123  140  0.000980  0.000000  0.006863  0.000000  0.0    79   0.4    20   \n",
       "2124  140  0.000679  0.000000  0.006110  0.000000  0.0    78   0.4    27   \n",
       "2125  142  0.001616  0.001616  0.008078  0.000000  0.0    74   0.4    36   \n",
       "\n",
       "      MLTV  ...  Min  Max  Nmax  Nzeros  Mode  Mean  Median  Variance  \\\n",
       "0      2.4  ...   62  126     2       0   120   137     121        73   \n",
       "1     10.4  ...   68  198     6       1   141   136     140        12   \n",
       "2     13.4  ...   68  198     5       1   141   135     138        13   \n",
       "3     23.0  ...   53  170    11       0   137   134     137        13   \n",
       "4     19.9  ...   53  170     9       0   137   136     138        11   \n",
       "...    ...  ...  ...  ...   ...     ...   ...   ...     ...       ...   \n",
       "2121   7.2  ...  137  177     4       0   153   150     152         2   \n",
       "2122   7.1  ...  103  169     6       0   152   148     151         3   \n",
       "2123   6.1  ...  103  170     5       0   153   148     152         4   \n",
       "2124   7.0  ...  103  169     6       0   152   147     151         4   \n",
       "2125   5.0  ...  117  159     2       1   145   143     145         1   \n",
       "\n",
       "      Tendency  label  \n",
       "0            1      8  \n",
       "1            0      5  \n",
       "2            0      5  \n",
       "3            1      5  \n",
       "4            1      1  \n",
       "...        ...    ...  \n",
       "2121         0      4  \n",
       "2122         1      4  \n",
       "2123         1      4  \n",
       "2124         1      4  \n",
       "2125         0      0  \n",
       "\n",
       "[2126 rows x 21 columns]"
      ]
     },
     "execution_count": 7,
     "metadata": {},
     "output_type": "execute_result"
    }
   ],
   "source": [
    "idx=[  0,  1,  2,  3,  4,  6,  7,  8,  9, 10, 11, 12, 13, 14, 15, 16, 17,\n",
    "       18, 19, 20]\n",
    "A=CTGData3.iloc[ :,idx]\n",
    "A['label'] = y\n",
    "A"
   ]
  },
  {
   "cell_type": "code",
   "execution_count": 8,
   "id": "bebb10c4",
   "metadata": {},
   "outputs": [],
   "source": [
    "A.to_csv('CTGPattern selected 20 features.csv',index=False)"
   ]
  },
  {
   "cell_type": "code",
   "execution_count": 9,
   "id": "314bb249",
   "metadata": {},
   "outputs": [
    {
     "data": {
      "text/html": [
       "<div>\n",
       "<style scoped>\n",
       "    .dataframe tbody tr th:only-of-type {\n",
       "        vertical-align: middle;\n",
       "    }\n",
       "\n",
       "    .dataframe tbody tr th {\n",
       "        vertical-align: top;\n",
       "    }\n",
       "\n",
       "    .dataframe thead th {\n",
       "        text-align: right;\n",
       "    }\n",
       "</style>\n",
       "<table border=\"1\" class=\"dataframe\">\n",
       "  <thead>\n",
       "    <tr style=\"text-align: right;\">\n",
       "      <th></th>\n",
       "      <th>LB</th>\n",
       "      <th>AC</th>\n",
       "      <th>FM</th>\n",
       "      <th>UC</th>\n",
       "      <th>DL</th>\n",
       "      <th>DP</th>\n",
       "      <th>ASTV</th>\n",
       "      <th>MSTV</th>\n",
       "      <th>ALTV</th>\n",
       "      <th>MLTV</th>\n",
       "      <th>...</th>\n",
       "      <th>Min</th>\n",
       "      <th>Max</th>\n",
       "      <th>Nmax</th>\n",
       "      <th>Nzeros</th>\n",
       "      <th>Mode</th>\n",
       "      <th>Mean</th>\n",
       "      <th>Median</th>\n",
       "      <th>Variance</th>\n",
       "      <th>Tendency</th>\n",
       "      <th>label</th>\n",
       "    </tr>\n",
       "  </thead>\n",
       "  <tbody>\n",
       "    <tr>\n",
       "      <th>0</th>\n",
       "      <td>120</td>\n",
       "      <td>0.000000</td>\n",
       "      <td>0.0</td>\n",
       "      <td>0.000000</td>\n",
       "      <td>0.000000</td>\n",
       "      <td>0.0</td>\n",
       "      <td>73</td>\n",
       "      <td>0.5</td>\n",
       "      <td>43</td>\n",
       "      <td>2.4</td>\n",
       "      <td>...</td>\n",
       "      <td>62</td>\n",
       "      <td>126</td>\n",
       "      <td>2</td>\n",
       "      <td>0</td>\n",
       "      <td>120</td>\n",
       "      <td>137</td>\n",
       "      <td>121</td>\n",
       "      <td>73</td>\n",
       "      <td>1</td>\n",
       "      <td>8</td>\n",
       "    </tr>\n",
       "    <tr>\n",
       "      <th>1</th>\n",
       "      <td>132</td>\n",
       "      <td>0.006380</td>\n",
       "      <td>0.0</td>\n",
       "      <td>0.006380</td>\n",
       "      <td>0.003190</td>\n",
       "      <td>0.0</td>\n",
       "      <td>17</td>\n",
       "      <td>2.1</td>\n",
       "      <td>0</td>\n",
       "      <td>10.4</td>\n",
       "      <td>...</td>\n",
       "      <td>68</td>\n",
       "      <td>198</td>\n",
       "      <td>6</td>\n",
       "      <td>1</td>\n",
       "      <td>141</td>\n",
       "      <td>136</td>\n",
       "      <td>140</td>\n",
       "      <td>12</td>\n",
       "      <td>0</td>\n",
       "      <td>5</td>\n",
       "    </tr>\n",
       "    <tr>\n",
       "      <th>2</th>\n",
       "      <td>133</td>\n",
       "      <td>0.003322</td>\n",
       "      <td>0.0</td>\n",
       "      <td>0.008306</td>\n",
       "      <td>0.003322</td>\n",
       "      <td>0.0</td>\n",
       "      <td>16</td>\n",
       "      <td>2.1</td>\n",
       "      <td>0</td>\n",
       "      <td>13.4</td>\n",
       "      <td>...</td>\n",
       "      <td>68</td>\n",
       "      <td>198</td>\n",
       "      <td>5</td>\n",
       "      <td>1</td>\n",
       "      <td>141</td>\n",
       "      <td>135</td>\n",
       "      <td>138</td>\n",
       "      <td>13</td>\n",
       "      <td>0</td>\n",
       "      <td>5</td>\n",
       "    </tr>\n",
       "    <tr>\n",
       "      <th>3</th>\n",
       "      <td>134</td>\n",
       "      <td>0.002561</td>\n",
       "      <td>0.0</td>\n",
       "      <td>0.007682</td>\n",
       "      <td>0.002561</td>\n",
       "      <td>0.0</td>\n",
       "      <td>16</td>\n",
       "      <td>2.4</td>\n",
       "      <td>0</td>\n",
       "      <td>23.0</td>\n",
       "      <td>...</td>\n",
       "      <td>53</td>\n",
       "      <td>170</td>\n",
       "      <td>11</td>\n",
       "      <td>0</td>\n",
       "      <td>137</td>\n",
       "      <td>134</td>\n",
       "      <td>137</td>\n",
       "      <td>13</td>\n",
       "      <td>1</td>\n",
       "      <td>5</td>\n",
       "    </tr>\n",
       "    <tr>\n",
       "      <th>4</th>\n",
       "      <td>132</td>\n",
       "      <td>0.006515</td>\n",
       "      <td>0.0</td>\n",
       "      <td>0.008143</td>\n",
       "      <td>0.000000</td>\n",
       "      <td>0.0</td>\n",
       "      <td>16</td>\n",
       "      <td>2.4</td>\n",
       "      <td>0</td>\n",
       "      <td>19.9</td>\n",
       "      <td>...</td>\n",
       "      <td>53</td>\n",
       "      <td>170</td>\n",
       "      <td>9</td>\n",
       "      <td>0</td>\n",
       "      <td>137</td>\n",
       "      <td>136</td>\n",
       "      <td>138</td>\n",
       "      <td>11</td>\n",
       "      <td>1</td>\n",
       "      <td>1</td>\n",
       "    </tr>\n",
       "  </tbody>\n",
       "</table>\n",
       "<p>5 rows × 21 columns</p>\n",
       "</div>"
      ],
      "text/plain": [
       "    LB        AC   FM        UC        DL   DP  ASTV  MSTV  ALTV  MLTV  ...  \\\n",
       "0  120  0.000000  0.0  0.000000  0.000000  0.0    73   0.5    43   2.4  ...   \n",
       "1  132  0.006380  0.0  0.006380  0.003190  0.0    17   2.1     0  10.4  ...   \n",
       "2  133  0.003322  0.0  0.008306  0.003322  0.0    16   2.1     0  13.4  ...   \n",
       "3  134  0.002561  0.0  0.007682  0.002561  0.0    16   2.4     0  23.0  ...   \n",
       "4  132  0.006515  0.0  0.008143  0.000000  0.0    16   2.4     0  19.9  ...   \n",
       "\n",
       "   Min  Max  Nmax  Nzeros  Mode  Mean  Median  Variance  Tendency  label  \n",
       "0   62  126     2       0   120   137     121        73         1      8  \n",
       "1   68  198     6       1   141   136     140        12         0      5  \n",
       "2   68  198     5       1   141   135     138        13         0      5  \n",
       "3   53  170    11       0   137   134     137        13         1      5  \n",
       "4   53  170     9       0   137   136     138        11         1      1  \n",
       "\n",
       "[5 rows x 21 columns]"
      ]
     },
     "execution_count": 9,
     "metadata": {},
     "output_type": "execute_result"
    }
   ],
   "source": [
    "features20=pd.read_csv('CTGPattern selected 20 features.csv')\n",
    "# ,index_col=0)\n",
    "features20.head()"
   ]
  },
  {
   "cell_type": "code",
   "execution_count": 10,
   "id": "419f7617",
   "metadata": {},
   "outputs": [],
   "source": [
    "X1=features20.drop(labels=['label'],axis=1)\n",
    "\n",
    "y1=features20['label'].values"
   ]
  },
  {
   "cell_type": "code",
   "execution_count": 11,
   "id": "c7c558dd",
   "metadata": {},
   "outputs": [],
   "source": [
    "scaler=StandardScaler()\n",
    "scaler.fit(X1)\n",
    "X1=scaler.transform(X1)\n",
    "#split train dataset and test dataset\n",
    "X1_train, X1_test,y1_train,y1_test= train_test_split(X1,y1,test_size=0.2, shuffle = True,stratify=y1,random_state=42)"
   ]
  },
  {
   "cell_type": "code",
   "execution_count": 112,
   "id": "ab81d885",
   "metadata": {
    "scrolled": true
   },
   "outputs": [
    {
     "data": {
      "text/plain": [
       "LGBMClassifier(colsample_bytree=0.6636, learning_rate=0.01, max_depth=8,\n",
       "               n_estimators=300, num_leaves=170, objective='multiclass',\n",
       "               subsample=0.8)"
      ]
     },
     "execution_count": 112,
     "metadata": {},
     "output_type": "execute_result"
    }
   ],
   "source": [
    "lgbm.fit(X1_train, y1_train)"
   ]
  },
  {
   "cell_type": "code",
   "execution_count": 122,
   "id": "423557ff",
   "metadata": {},
   "outputs": [
    {
     "name": "stdout",
     "output_type": "stream",
     "text": [
      "Accuracy score with LGBM is:  0.8826291079812206\n",
      "F1 score with LGBM is:  0.8826291079812206\n",
      "ROC_AUC score with LGBM is:  0.9877524107641038\n",
      "Cross entropy loss score with LGBM is:  0.3595770189529092\n"
     ]
    }
   ],
   "source": [
    "y_pred_lgbm1=lgbm.predict((X1_test))\n",
    "y_prob_lgbm1=lgbm.predict_proba((X1_test))\n",
    "print(\"Accuracy score with LGBM is: \",accuracy_score(y1_test, y_pred_lgbm1))\n",
    "print(\"F1 score with LGBM is: \",f1_score(y1_test, y_pred_lgbm1,average='micro'))\n",
    "print(\"ROC_AUC score with LGBM is: \", roc_auc_score(y1_test,y_prob_lgbm1,multi_class='ovr',labels=np.unique(y1_test)))\n",
    "print(\"Cross entropy loss score with LGBM is: \",log_loss(y1_test,y_prob_lgbm1))\n"
   ]
  },
  {
   "cell_type": "markdown",
   "id": "d9e6c34b",
   "metadata": {},
   "source": [
    "## Explore the feature importance"
   ]
  },
  {
   "cell_type": "code",
   "execution_count": 113,
   "id": "13cf6e8a",
   "metadata": {},
   "outputs": [
    {
     "data": {
      "text/plain": [
       "array([ 7122, 10097,  3883,  8301,  7415,  1571,  8799,  5959,  5618,\n",
       "        9132,  7412,  8095,  7160,  2755,   809,  5599,  7290,  5409,\n",
       "        7734,   833])"
      ]
     },
     "execution_count": 113,
     "metadata": {},
     "output_type": "execute_result"
    }
   ],
   "source": [
    "lgbm.feature_importances_"
   ]
  },
  {
   "cell_type": "code",
   "execution_count": 114,
   "id": "0a618e8d",
   "metadata": {},
   "outputs": [],
   "source": [
    "featureName=features20.columns[:-1]"
   ]
  },
  {
   "cell_type": "code",
   "execution_count": 115,
   "id": "d5a76574",
   "metadata": {},
   "outputs": [
    {
     "data": {
      "text/plain": [
       "<BarContainer object of 20 artists>"
      ]
     },
     "execution_count": 115,
     "metadata": {},
     "output_type": "execute_result"
    },
    {
     "data": {
      "image/png": "[encoded data removed]",
      "text/plain": [
       "<Figure size 1440x576 with 1 Axes>"
      ]
     },
     "metadata": {
      "needs_background": "light"
     },
     "output_type": "display_data"
    }
   ],
   "source": [
    "plt.figure(figsize=(20,8))\n",
    "plt.bar(featureName,lgbm.feature_importances_)"
   ]
  },
  {
   "cell_type": "code",
   "execution_count": 117,
   "id": "6b53912e",
   "metadata": {
    "scrolled": true
   },
   "outputs": [
    {
     "data": {
      "image/png": "[encoded data removed]",
      "text/plain": [
       "<Figure size 1440x576 with 1 Axes>"
      ]
     },
     "metadata": {
      "needs_background": "light"
     },
     "output_type": "display_data"
    }
   ],
   "source": [
    "plt.figure(figsize=(20,8))\n",
    "feature_important = pd.Series(lgbm.feature_importances_, index =featureName).sort_values(ascending=False)\n",
    "plt.bar(feature_important.index, feature_important)\n",
    "plt.show()"
   ]
  },
  {
   "cell_type": "code",
   "execution_count": 106,
   "id": "88a8ee03",
   "metadata": {},
   "outputs": [],
   "source": [
    "ClassData1=A[A['label']==1]\n",
    "ClassData2=A[A['label']==2]\n",
    "ClassData3=A[A['label']==3]\n",
    "ClassData4=A[A['label']==4]\n",
    "ClassData5=A[A['label']==5]\n",
    "ClassData6=A[A['label']==6]\n",
    "ClassData7=A[A['label']==7]\n",
    "ClassData8=A[A['label']==8]\n",
    "ClassData9=A[A['label']==9]\n",
    "ClassData10=A[A['label']==10]"
   ]
  },
  {
   "cell_type": "code",
   "execution_count": 121,
   "id": "e12b0fb1",
   "metadata": {},
   "outputs": [
    {
     "data": {
      "image/png": "[encoded data removed]",
      "text/plain": [
       "<Figure size 720x576 with 1 Axes>"
      ]
     },
     "metadata": {
      "needs_background": "light"
     },
     "output_type": "display_data"
    }
   ],
   "source": [
    "plt.figure(figsize=(10,8))\n",
    "plt.scatter(ClassData1['AC'],ClassData1['MLTV'],c='red', label='A')\n",
    "plt.scatter(ClassData2['AC'],ClassData2['MLTV'],c='brown', label='B')\n",
    "plt.scatter(ClassData3['AC'],ClassData3['MLTV'],c='green', label='C')\n",
    "plt.scatter(ClassData4['AC'],ClassData4['MLTV'],c='blue', label='D')\n",
    "plt.scatter(ClassData5['AC'],ClassData5['MLTV'],c='yellow', label='SH')\n",
    "plt.scatter(ClassData6['AC'],ClassData6['MLTV'],c='cyan', label='AD')\n",
    "plt.scatter(ClassData7['AC'],ClassData7['MLTV'],c='magenta', label='DE')\n",
    "plt.scatter(ClassData8['AC'],ClassData8['MLTV'],c='lime', label='LD')\n",
    "plt.scatter(ClassData9['AC'],ClassData9['MLTV'],c='midnightblue', label='FS')\n",
    "plt.scatter(ClassData10['AC'],ClassData10['MLTV'],c='orange', label='SUSP')\n",
    "plt.xlabel('AC')\n",
    "plt.ylabel('MLTV')\n",
    "plt.legend(loc=2)\n",
    "plt.show()"
   ]
  },
  {
   "cell_type": "code",
   "execution_count": 120,
   "id": "f431d19e",
   "metadata": {},
   "outputs": [
    {
     "data": {
      "image/png": "[encoded data removed]",
      "text/plain": [
       "<Figure size 720x576 with 1 Axes>"
      ]
     },
     "metadata": {
      "needs_background": "light"
     },
     "output_type": "display_data"
    }
   ],
   "source": [
    "plt.figure(figsize=(10,8))\n",
    "plt.scatter(ClassData1['ASTV'],ClassData1['ALTV'],c='red', label='A')\n",
    "plt.scatter(ClassData2['ASTV'],ClassData2['ALTV'],c='brown', label='B')\n",
    "plt.scatter(ClassData3['ASTV'],ClassData3['ALTV'],c='green', label='C')\n",
    "plt.scatter(ClassData4['ASTV'],ClassData4['ALTV'],c='blue', label='D')\n",
    "plt.scatter(ClassData5['ASTV'],ClassData5['ALTV'],c='yellow', label='SH')\n",
    "plt.scatter(ClassData6['ASTV'],ClassData6['ALTV'],c='cyan', label='AD')\n",
    "plt.scatter(ClassData7['ASTV'],ClassData7['ALTV'],c='magenta', label='DE')\n",
    "plt.scatter(ClassData8['ASTV'],ClassData8['ALTV'],c='lime', label='LD')\n",
    "plt.scatter(ClassData9['ASTV'],ClassData9['ALTV'],c='midnightblue', label='FS')\n",
    "plt.scatter(ClassData10['ASTV'],ClassData10['ALTV'],c='orange', label='SUSP')\n",
    "plt.xlabel('ASTV')\n",
    "plt.ylabel('ALTV')\n",
    "plt.legend(loc=2)\n",
    "plt.show()"
   ]
  },
  {
   "cell_type": "markdown",
   "id": "ab62e607",
   "metadata": {},
   "source": [
    " # OPT for each model after RFE"
   ]
  },
  {
   "cell_type": "markdown",
   "id": "3a729ba4",
   "metadata": {},
   "source": [
    "## Light GBM"
   ]
  },
  {
   "cell_type": "code",
   "execution_count": 21,
   "id": "02eaa35c",
   "metadata": {},
   "outputs": [
    {
     "name": "stdout",
     "output_type": "stream",
     "text": [
      "0:06:11.723811\n"
     ]
    }
   ],
   "source": [
    "start=datetime.now()\n",
    "\n",
    "# Bayers搜索，参数优化\n",
    "BayerLgbmopt1 = BayesSearchCV(\n",
    "     lgbm,\n",
    "     {         \n",
    "        'learning_rate': (0.005,0.01,0.001), \n",
    "        'n_estimators': (100,300), \n",
    "  \n",
    "        'max_depth': (3,8), \n",
    "        'num_leaves':(8, 170),\n",
    "         \n",
    "        'subsample': (0.5,0.8), \n",
    "        'colsample_bytree': (0.5,0.8)\n",
    "       \n",
    "    } ,\n",
    "     n_iter=50,\n",
    "     cv=5\n",
    "     ,scoring=\"neg_log_loss\"\n",
    "    ,random_state=42\n",
    "    ,n_points=2\n",
    ")\n",
    "BayerLgbmopt1.fit(X1_train, y1_train)\n",
    "\n",
    "stop=datetime.now()\n",
    "execution_time_lgbm3=(stop-start)\n",
    "print(execution_time_lgbm3)"
   ]
  },
  {
   "cell_type": "code",
   "execution_count": 22,
   "id": "2916fa52",
   "metadata": {},
   "outputs": [
    {
     "name": "stdout",
     "output_type": "stream",
     "text": [
      "Best parameters found by Bayes search are: OrderedDict([('colsample_bytree', 0.7100562355950126), ('learning_rate', 0.01), ('max_depth', 8), ('n_estimators', 300), ('num_leaves', 170), ('subsample', 0.5)])\n",
      "val. score: -0.39853620080072305\n",
      "test score: -0.3604962851482299\n"
     ]
    }
   ],
   "source": [
    "print('Best parameters found by Bayes search are:', BayerLgbmopt1.best_params_)\n",
    "print(\"val. score: %s\" % BayerLgbmopt1.best_score_)\n",
    "print(\"test score: %s\" % BayerLgbmopt1.score(X1_test, y1_test))"
   ]
  },
  {
   "cell_type": "code",
   "execution_count": 23,
   "id": "aaf2b980",
   "metadata": {},
   "outputs": [],
   "source": [
    "lgbm1=LGBMClassifier(boosting_type='gbdt',objective ='multiclass',\n",
    "                                 max_depth=8, num_leaves=170,\n",
    "                                learning_rate=0.01,n_estimators=300,\n",
    "                                colsample_bytree= 0.7101,subsample= 0.5)"
   ]
  },
  {
   "cell_type": "code",
   "execution_count": 24,
   "id": "13789d4d",
   "metadata": {},
   "outputs": [
    {
     "data": {
      "text/plain": [
       "'2.4188'"
      ]
     },
     "execution_count": 24,
     "metadata": {},
     "output_type": "execute_result"
    }
   ],
   "source": [
    "start=datetime.now()\n",
    "lgbm1.fit(X1_train,y1_train)\n",
    "stop=datetime.now()\n",
    "execution_time_lgbm40='%.4f'%(stop-start).total_seconds()\n",
    "execution_time_lgbm40\n",
    "\n"
   ]
  },
  {
   "cell_type": "code",
   "execution_count": 25,
   "id": "bd718365",
   "metadata": {},
   "outputs": [],
   "source": [
    "\n",
    "lgbm_ctgpatt=lgbm1.fit(X1_train,y1_train)"
   ]
  },
  {
   "cell_type": "code",
   "execution_count": 26,
   "id": "a966fd83",
   "metadata": {},
   "outputs": [
    {
     "name": "stdout",
     "output_type": "stream",
     "text": [
      "Accuracy score with LGBM is:  0.8873239436619719\n",
      "F1 score with LGBM is:  0.8873239436619719\n",
      "ROC_AUC score with LGBM is:  0.9880809383796739\n",
      "Cross entropy loss score with LGBM is:  0.3604962851482299\n"
     ]
    }
   ],
   "source": [
    "y_pred_lgbm1=lgbm1.predict((X1_test))\n",
    "y_prob_lgbm1=lgbm1.predict_proba((X1_test))\n",
    "print(\"Accuracy score with LGBM is: \",accuracy_score(y1_test, y_pred_lgbm1))\n",
    "print(\"F1 score with LGBM is: \",f1_score(y1_test, y_pred_lgbm1,average='micro'))\n",
    "print(\"ROC_AUC score with LGBM is: \", roc_auc_score(y1_test,y_prob_lgbm1,multi_class='ovr',labels=np.unique(y1_test)))\n",
    "print(\"Cross entropy loss score with LGBM is: \",log_loss(y1_test,y_prob_lgbm1))\n"
   ]
  },
  {
   "cell_type": "code",
   "execution_count": 27,
   "id": "7826e72a",
   "metadata": {},
   "outputs": [
    {
     "name": "stdout",
     "output_type": "stream",
     "text": [
      "0.8873\n",
      "0.8873\n",
      "0.9881\n",
      "0.3605\n"
     ]
    }
   ],
   "source": [
    "lgbm_accuracy='%.4f'%accuracy_score(y1_test, y_pred_lgbm1)\n",
    "lgbm_f1='%.4f'%f1_score(y1_test, y_pred_lgbm1,average='micro')\n",
    "lgbm_roc_auc='%.4f'% roc_auc_score(y1_test,y_prob_lgbm1,multi_class='ovr',labels=np.unique(y1_test))\n",
    "lgbm_loss='%.4f'%log_loss(y1_test,y_prob_lgbm1)\n",
    "print(lgbm_accuracy)\n",
    "print(lgbm_f1)\n",
    "print(lgbm_roc_auc)\n",
    "print(lgbm_loss)"
   ]
  },
  {
   "cell_type": "code",
   "execution_count": 28,
   "id": "958daf53",
   "metadata": {},
   "outputs": [
    {
     "name": "stdout",
     "output_type": "stream",
     "text": [
      "accuracy 20  feature: 0.8788235294117648\n",
      "F1 score 20  feature: 0.8788235294117648\n",
      "roc_auc 20  feature: 0.9887342339045496\n",
      "cross entropy loss 20  feature: -0.39853620080072305\n"
     ]
    }
   ],
   "source": [
    "start=datetime.now()\n",
    "accuracy_score_20 =cross_val_score(lgbm1, X1_train, y1_train, cv=5,scoring='accuracy').mean()\n",
    "F1_score_20 =cross_val_score(lgbm1, X1_train, y1_train, cv=5,scoring='f1_micro').mean()\n",
    "roc_auc_score_20 =cross_val_score(lgbm1, X1_train, y1_train, cv=5,scoring='roc_auc_ovr').mean()\n",
    "neg_loss_score_20 =cross_val_score(lgbm1, X1_train, y1_train, cv=5,scoring='neg_log_loss').mean()\n",
    "stop=datetime.now()\n",
    "\n",
    "execution_time_lgbm4=(stop-start)/20\n",
    "execution_time_lgbm4\n",
    "\n",
    "print(\"accuracy 20  feature:\",accuracy_score_20)\n",
    "print('F1 score 20  feature:',F1_score_20)\n",
    "print('roc_auc 20  feature:',roc_auc_score_20)\n",
    "print(\"cross entropy loss 20  feature:\",neg_loss_score_20)\n"
   ]
  },
  {
   "cell_type": "code",
   "execution_count": 29,
   "id": "8ec5bb04",
   "metadata": {},
   "outputs": [
    {
     "name": "stdout",
     "output_type": "stream",
     "text": [
      "2.0854\n"
     ]
    }
   ],
   "source": [
    "training_time_lgbm=execution_time_lgbm4.total_seconds()\n",
    "training_time_lgbm='%.4f'%training_time_lgbm\n",
    "print(training_time_lgbm)"
   ]
  },
  {
   "cell_type": "code",
   "execution_count": 30,
   "id": "69f8cc62",
   "metadata": {},
   "outputs": [
    {
     "data": {
      "text/plain": [
       "['lgbm_ctgpatt.model']"
      ]
     },
     "execution_count": 30,
     "metadata": {},
     "output_type": "execute_result"
    }
   ],
   "source": [
    "# save the model\n",
    "joblib.dump(lgbm_ctgpatt,'lgbm_ctgpatt.model')"
   ]
  },
  {
   "cell_type": "code",
   "execution_count": 31,
   "id": "8a5e095b",
   "metadata": {},
   "outputs": [],
   "source": [
    "rflgbm_CTGPATT=joblib.load('lgbm_ctgpatt.model')\n",
    "   #应用模型进行预测\n",
    "resultlgmb=rflgbm_CTGPATT.score(X1_test,y1_test)"
   ]
  },
  {
   "cell_type": "code",
   "execution_count": 32,
   "id": "9d13cee9",
   "metadata": {},
   "outputs": [
    {
     "data": {
      "text/plain": [
       "0.8873239436619719"
      ]
     },
     "execution_count": 32,
     "metadata": {},
     "output_type": "execute_result"
    }
   ],
   "source": [
    "resultlgmb"
   ]
  },
  {
   "cell_type": "markdown",
   "id": "c15cee78",
   "metadata": {},
   "source": [
    "## SVM & Bayes Optimization"
   ]
  },
  {
   "cell_type": "code",
   "execution_count": 82,
   "id": "5830aafa",
   "metadata": {},
   "outputs": [
    {
     "name": "stdout",
     "output_type": "stream",
     "text": [
      "Train Score: 0.8264705882352941\n",
      "Test Score: 0.8685446009389671\n"
     ]
    }
   ],
   "source": [
    "#using the original dataset\n",
    "svc0 = SVC(random_state=42\n",
    "           ,C= 8.5385\n",
    "           ,kernel='rbf'\n",
    "           ,degree= 7\n",
    "          ,gamma=\"scale\"\n",
    "          , probability=True)\n",
    "accuracies = cross_val_score(svc0,X_train,y_train,cv=5)\n",
    "svc0.fit(X_train,y_train)\n",
    "svc0.predict(X_test)\n",
    "print(\"Train Score:\",np.mean(accuracies))\n",
    "print(\"Test Score:\",svc0.score(X_test,y_test))"
   ]
  },
  {
   "cell_type": "code",
   "execution_count": 33,
   "id": "b0cc69f4",
   "metadata": {},
   "outputs": [
    {
     "name": "stdout",
     "output_type": "stream",
     "text": [
      "Train Score: 0.8158823529411766\n",
      "Test Score: 0.8661971830985915\n"
     ]
    }
   ],
   "source": [
    "#using the feature selection dataset\n",
    "svc = SVC(random_state=42\n",
    "           ,C= 8.5385\n",
    "           ,kernel='rbf'\n",
    "           ,degree= 7\n",
    "          ,gamma=\"scale\"\n",
    "          , probability=True)\n",
    "accuracies = cross_val_score(svc,X1_train,y1_train,cv=5)\n",
    "svc.fit(X1_train,y1_train)\n",
    "svc.predict(X1_test)\n",
    "print(\"Train Score:\",np.mean(accuracies))\n",
    "print(\"Test Score:\",svc.score(X1_test,y1_test))"
   ]
  },
  {
   "cell_type": "code",
   "execution_count": 35,
   "id": "5b52150f",
   "metadata": {},
   "outputs": [
    {
     "name": "stdout",
     "output_type": "stream",
     "text": [
      "Test loss Score: 0.3814698783679155\n"
     ]
    }
   ],
   "source": [
    "pred=svc.predict(X1_test)\n",
    "prob=svc.predict_proba(X1_test)\n",
    "print(\"Test loss Score:\",log_loss(y1_test,prob))"
   ]
  },
  {
   "cell_type": "code",
   "execution_count": 76,
   "id": "d11018d0",
   "metadata": {},
   "outputs": [
    {
     "data": {
      "text/plain": [
       "datetime.timedelta(seconds=105, microseconds=986021)"
      ]
     },
     "execution_count": 76,
     "metadata": {},
     "output_type": "execute_result"
    }
   ],
   "source": [
    "start=datetime.now()                \n",
    "# log-uniform: understand as search over p = exp(x) by varying x\n",
    "BayerSvmopt = BayesSearchCV(\n",
    "    SVC(probability=True, random_state=42\n",
    "          ,C=8.5385\n",
    "#           ,degree= 7\n",
    "          ,gamma= 'scale'\n",
    "           ,kernel='rbf'\n",
    "        \n",
    "#            ,random_state=42\n",
    "# #           ,gamma=\"scale\"\n",
    "#           , probability=True\n",
    "    ),\n",
    "    {\n",
    "        \n",
    "#        'kernel': ['linear', 'poly', 'rbf'],\n",
    "#         'C':(1, 10),     \n",
    "#         'gamma': (0.01, 1),\n",
    "          'degree':(1,10)\n",
    "\n",
    "    },\n",
    " \n",
    "    n_iter=50,\n",
    "    cv=5\n",
    "    ,scoring=\"neg_log_loss\"\n",
    "    ,random_state=42\n",
    "    ,n_points=2\n",
    ")\n",
    "\n",
    "BayerSvmopt.fit(X1_train, y1_train)\n",
    "stop=datetime.now()\n",
    "\n",
    "execution_time_svm1=(stop-start)\n",
    "execution_time_svm1\n"
   ]
  },
  {
   "cell_type": "code",
   "execution_count": 77,
   "id": "fac1b647",
   "metadata": {},
   "outputs": [
    {
     "name": "stdout",
     "output_type": "stream",
     "text": [
      "best params: OrderedDict([('degree', 5)])\n",
      "val. score: -0.45747587619178437\n",
      "test score: -0.444199366381375\n"
     ]
    }
   ],
   "source": [
    "print(\"best params: %s\" % str(BayerSvmopt.best_params_))\n",
    "\n",
    "\n",
    "print(\"val. score: %s\" % BayerSvmopt.best_score_)\n",
    "print(\"test score: %s\" % BayerSvmopt.score(X1_test, y1_test))"
   ]
  },
  {
   "cell_type": "code",
   "execution_count": 80,
   "id": "81775312",
   "metadata": {},
   "outputs": [],
   "source": [
    "svc1=SVC(probability=True, random_state=42\n",
    "           ,C=8.5385\n",
    "           ,degree= 5\n",
    "           ,gamma= 'scale'\n",
    "           ,kernel='rbf')"
   ]
  },
  {
   "cell_type": "code",
   "execution_count": 81,
   "id": "17b7dff7",
   "metadata": {},
   "outputs": [
    {
     "data": {
      "text/plain": [
       "0.8309859154929577"
      ]
     },
     "execution_count": 81,
     "metadata": {},
     "output_type": "execute_result"
    }
   ],
   "source": [
    "svc1.fit(X1_train,y1_train)\n",
    "svc1.score(X1_test,y1_test)"
   ]
  },
  {
   "cell_type": "code",
   "execution_count": 40,
   "id": "4d9f1531",
   "metadata": {},
   "outputs": [
    {
     "name": "stdout",
     "output_type": "stream",
     "text": [
      "0.4139\n"
     ]
    }
   ],
   "source": [
    "\n",
    "start=datetime.now()\n",
    "svc_ctgpatt=svc1.fit(X1_train,y1_train)\n",
    "stop=datetime.now()\n",
    "execution_time_svc='%.4f'%(stop-start).total_seconds()\n",
    "\n",
    "print(execution_time_svc)"
   ]
  },
  {
   "cell_type": "code",
   "execution_count": 41,
   "id": "f0e5420d",
   "metadata": {},
   "outputs": [
    {
     "name": "stdout",
     "output_type": "stream",
     "text": [
      "accuracy 20  feature: 0.815294117647059\n",
      "F1 score 20  feature: 0.815294117647059\n",
      "roc_auc 20  feature: 0.9843844249158666\n",
      "cross entropy loss 20  feature: -0.47173239131086164\n"
     ]
    }
   ],
   "source": [
    "start=datetime.now()\n",
    "accuracy_score_20_svm =cross_val_score(svc1, X1_train, y1_train, cv=5,scoring='accuracy').mean()\n",
    "F1_score_20_svm =cross_val_score(svc1, X1_train, y1_train, cv=5,scoring='f1_micro').mean()\n",
    "roc_auc_score_20_svm =cross_val_score(svc1, X1_train, y1_train, cv=5,scoring='roc_auc_ovr').mean()\n",
    "neg_loss_score_20_svm =cross_val_score(svc1, X1_train, y1_train, cv=5,scoring='neg_log_loss').mean()\n",
    "\n",
    "stop=datetime.now()\n",
    "execution_time_svm=(stop-start)/20\n",
    "execution_time_svm\n",
    "\n",
    "print(\"accuracy 20  feature:\",accuracy_score_20_svm)\n",
    "print('F1 score 20  feature:',F1_score_20_svm)\n",
    "print('roc_auc 20  feature:',roc_auc_score_20_svm)\n",
    "print(\"cross entropy loss 20  feature:\",neg_loss_score_20_svm)"
   ]
  },
  {
   "cell_type": "code",
   "execution_count": 42,
   "id": "c1527117",
   "metadata": {},
   "outputs": [
    {
     "name": "stdout",
     "output_type": "stream",
     "text": [
      "0.3189\n"
     ]
    }
   ],
   "source": [
    "training_time_svm=execution_time_svm.total_seconds()\n",
    "training_time_svm='%.4f'%training_time_svm\n",
    "print(training_time_svm)"
   ]
  },
  {
   "cell_type": "code",
   "execution_count": 43,
   "id": "fc42f385",
   "metadata": {},
   "outputs": [],
   "source": [
    "y_pred_svc1=svc1.predict(X1_test)\n",
    "y_prob_svc1=svc1.predict_proba(X1_test)"
   ]
  },
  {
   "cell_type": "code",
   "execution_count": 44,
   "id": "888ed003",
   "metadata": {},
   "outputs": [
    {
     "name": "stdout",
     "output_type": "stream",
     "text": [
      "0.8474\n",
      "0.8474\n",
      "0.9860\n",
      "0.4040\n"
     ]
    }
   ],
   "source": [
    "\n",
    "svc_accuracy='%.4f'%accuracy_score(y1_test, y_pred_svc1)\n",
    "svc_f1='%.4f'%f1_score(y1_test, y_pred_svc1,average='micro')\n",
    "svc_roc_auc='%.4f'% roc_auc_score(y1_test,y_prob_svc1,multi_class='ovr',labels=np.unique(y1_test))\n",
    "svc_loss='%.4f'%log_loss(y1_test,y_prob_svc1)\n",
    "print(svc_accuracy)\n",
    "print(svc_f1)\n",
    "print(svc_roc_auc)\n",
    "print(svc_loss)"
   ]
  },
  {
   "cell_type": "code",
   "execution_count": 45,
   "id": "c6e5c036",
   "metadata": {},
   "outputs": [
    {
     "data": {
      "text/plain": [
       "['svc_ctgpatt.model']"
      ]
     },
     "execution_count": 45,
     "metadata": {},
     "output_type": "execute_result"
    }
   ],
   "source": [
    "  #保存模型\n",
    "joblib.dump(svc_ctgpatt,'svc_ctgpatt.model')"
   ]
  },
  {
   "cell_type": "code",
   "execution_count": 46,
   "id": "81471bd2",
   "metadata": {},
   "outputs": [],
   "source": [
    "#加载模型\n",
    "RFsvc=joblib.load('svc_ctgpatt.model')\n",
    "   #应用模型进行预测\n",
    "resultsvc=RFsvc.score(X1_test,y1_test)"
   ]
  },
  {
   "cell_type": "code",
   "execution_count": 47,
   "id": "46bbd9d6",
   "metadata": {},
   "outputs": [
    {
     "data": {
      "text/plain": [
       "0.8474178403755869"
      ]
     },
     "execution_count": 47,
     "metadata": {},
     "output_type": "execute_result"
    }
   ],
   "source": [
    "resultsvc"
   ]
  },
  {
   "cell_type": "markdown",
   "id": "6abff04b",
   "metadata": {},
   "source": [
    "## Random Forest"
   ]
  },
  {
   "cell_type": "code",
   "execution_count": 48,
   "id": "02c5a592",
   "metadata": {},
   "outputs": [
    {
     "name": "stdout",
     "output_type": "stream",
     "text": [
      "Best parameters found by grid search are: OrderedDict([('criterion', 'entropy'), ('max_depth', 12), ('max_features', 'sqrt'), ('n_estimators', 150)])\n"
     ]
    }
   ],
   "source": [
    "rf = RFC(random_state=42)\n",
    "\n",
    "\n",
    "Bayesrfopt = BayesSearchCV(\n",
    "   rf,\n",
    "    {   \n",
    "    'n_estimators': [50,100,150],\n",
    "    'max_features': ['auto', 'sqrt', 'log2'],\n",
    "    'max_depth' : [1,2,3,4,5,6,7,8,9,10,11,12,13,14,15,20,25,None],\n",
    "    'criterion' :['gini', 'entropy']\n",
    "    },\n",
    "    n_iter=50,\n",
    "    cv=5,\n",
    "    scoring=\"neg_log_loss\"\n",
    "    ,random_state=42\n",
    "    ,n_points=2\n",
    ")\n",
    "\n",
    "Bayesrfopt.fit(X_train, y_train)\n",
    "print('Best parameters found by grid search are:', Bayesrfopt.best_params_)"
   ]
  },
  {
   "cell_type": "code",
   "execution_count": 49,
   "id": "065cd14d",
   "metadata": {},
   "outputs": [
    {
     "name": "stdout",
     "output_type": "stream",
     "text": [
      "val. score: -0.4311345452246913\n",
      "test score: -0.39806612773492256\n"
     ]
    }
   ],
   "source": [
    "print(\"val. score: %s\" % Bayesrfopt.best_score_)\n",
    "print(\"test score: %s\" % Bayesrfopt.score(X_test, y_test))"
   ]
  },
  {
   "cell_type": "code",
   "execution_count": 50,
   "id": "f1152953",
   "metadata": {},
   "outputs": [],
   "source": [
    "rf1 = RFC(random_state=42, max_features='sqrt', n_estimators= 150,\n",
    "                                     max_depth=12, \n",
    "                                     criterion='entropy')"
   ]
  },
  {
   "cell_type": "code",
   "execution_count": 51,
   "id": "372b7573",
   "metadata": {},
   "outputs": [
    {
     "name": "stdout",
     "output_type": "stream",
     "text": [
      "0.6584\n"
     ]
    }
   ],
   "source": [
    "start=datetime.now()\n",
    "rf1.fit(X_train,y_train)\n",
    "stop=datetime.now()\n",
    "execution_time_rf=(stop-start)\n",
    "execution_time_rf\n",
    "training_time_rf0=execution_time_rf.total_seconds()\n",
    "training_time_rf0='%.4f'%training_time_rf0\n",
    "print(training_time_rf0)"
   ]
  },
  {
   "cell_type": "code",
   "execution_count": 52,
   "id": "8075a891",
   "metadata": {},
   "outputs": [
    {
     "name": "stdout",
     "output_type": "stream",
     "text": [
      "0:02:03.202522\n",
      "Best parameters found by grid search are: OrderedDict([('criterion', 'gini'), ('max_depth', 13), ('max_features', 'auto'), ('n_estimators', 150)])\n"
     ]
    }
   ],
   "source": [
    "start=datetime.now()\n",
    "Bayesrfopt1 = BayesSearchCV(\n",
    "   rf1,\n",
    "    {   \n",
    "    'n_estimators': [50,100,150],\n",
    "    'max_features': ['auto', 'sqrt', 'log2'],\n",
    "    'max_depth' : [1,2,3,4,5,6,7,8,9,10,11,12,13,14,15,20,25,None],\n",
    "    'criterion' :['gini', 'entropy']\n",
    "    },\n",
    "    n_iter=50,\n",
    "    cv=5,\n",
    "    scoring=\"neg_log_loss\"\n",
    "    ,random_state=42\n",
    "    ,n_points=2\n",
    ")\n",
    "\n",
    "Bayesrfopt1.fit(X1_train, y1_train)\n",
    "\n",
    "stop=datetime.now()\n",
    "execution_time_rf0=(stop-start)\n",
    "print(execution_time_rf0)\n",
    "print('Best parameters found by grid search are:', Bayesrfopt1.best_params_)"
   ]
  },
  {
   "cell_type": "code",
   "execution_count": 53,
   "id": "1e1697de",
   "metadata": {},
   "outputs": [
    {
     "name": "stdout",
     "output_type": "stream",
     "text": [
      "val. score: -0.4427296871907811\n",
      "test score: -0.3962507171450697\n"
     ]
    }
   ],
   "source": [
    "\n",
    "print(\"val. score: %s\" % Bayesrfopt1.best_score_)\n",
    "print(\"test score: %s\" % Bayesrfopt1.score(X1_test, y1_test))"
   ]
  },
  {
   "cell_type": "code",
   "execution_count": 54,
   "id": "c904f374",
   "metadata": {},
   "outputs": [],
   "source": [
    "rf2= RFC(random_state=42, max_features='auto', n_estimators= 150,\n",
    "                                     max_depth=13, \n",
    "                                     criterion='gini')\n"
   ]
  },
  {
   "cell_type": "code",
   "execution_count": 55,
   "id": "a00d8aa5",
   "metadata": {},
   "outputs": [
    {
     "name": "stdout",
     "output_type": "stream",
     "text": [
      "accuracy 10  feature: 0.8623529411764708\n",
      "F1 score 10  feature: 0.8623529411764708\n",
      "roc_auc 10  feature: 0.9886995224003403\n",
      "cross entropy loss 10  feature: -0.4427296871907811\n"
     ]
    }
   ],
   "source": [
    "start=datetime.now()\n",
    "accuracy_score_10_rf =cross_val_score(rf2, X1_train, y1_train, cv=5,scoring='accuracy').mean()\n",
    "F1_score_10_rf =cross_val_score(rf2, X1_train, y1_train, cv=5,scoring='f1_micro').mean()\n",
    "roc_auc_score_10_rf =cross_val_score(rf2, X1_train, y1_train, cv=5,scoring='roc_auc_ovr').mean()\n",
    "neg_loss_score_10_rf =cross_val_score(rf2, X1_train, y1_train, cv=5,scoring='neg_log_loss').mean()\n",
    "\n",
    "stop=datetime.now()\n",
    "execution_time_rf=(stop-start)/20\n",
    "execution_time_rf\n",
    "\n",
    "print(\"accuracy 10  feature:\",accuracy_score_10_rf)\n",
    "print('F1 score 10  feature:',F1_score_10_rf)\n",
    "print('roc_auc 10  feature:',roc_auc_score_10_rf)\n",
    "print(\"cross entropy loss 10  feature:\",neg_loss_score_10_rf)"
   ]
  },
  {
   "cell_type": "code",
   "execution_count": 56,
   "id": "2861583e",
   "metadata": {},
   "outputs": [
    {
     "name": "stdout",
     "output_type": "stream",
     "text": [
      "0.4234\n"
     ]
    }
   ],
   "source": [
    "training_time_rf=execution_time_rf.total_seconds()\n",
    "training_time_rf='%.4f'%training_time_rf\n",
    "print(training_time_rf)"
   ]
  },
  {
   "cell_type": "code",
   "execution_count": 57,
   "id": "bdd34a1e",
   "metadata": {},
   "outputs": [
    {
     "name": "stdout",
     "output_type": "stream",
     "text": [
      "Accuracy score with LGBM is:  0.8732394366197183\n",
      "F1 score with LGBM is:  0.8732394366197183\n",
      "ROC_AUC score with LGBM is:  0.9896338701453444\n",
      "Cross entropy loss score with LGBM is:  0.3962507171450697\n",
      "0.8732\n",
      "0.8732\n",
      "0.9896\n",
      "0.3963\n"
     ]
    }
   ],
   "source": [
    "rf_ctgpatt=rf2.fit(X1_train,y1_train)\n",
    "y_pred_rf2=rf2.predict(X1_test)\n",
    "y_prob_rf2=rf2.predict_proba(X1_test)\n",
    "print(\"Accuracy score with LGBM is: \",accuracy_score(y1_test, y_pred_rf2))\n",
    "print(\"F1 score with LGBM is: \",f1_score(y1_test, y_pred_rf2,average='micro'))\n",
    "print(\"ROC_AUC score with LGBM is: \", roc_auc_score(y1_test,y_prob_rf2,multi_class='ovr',labels=np.unique(y1_test)))\n",
    "print(\"Cross entropy loss score with LGBM is: \",log_loss(y1_test,y_prob_rf2))\n",
    "\n",
    "\n",
    "rf_accuracy='%.4f'%accuracy_score(y1_test, y_pred_rf2)\n",
    "rf_f1='%.4f'%f1_score(y1_test, y_pred_rf2,average='micro')\n",
    "rf_roc_auc='%.4f'% roc_auc_score(y1_test,y_prob_rf2,multi_class='ovr',labels=np.unique(y1_test))\n",
    "rf_loss='%.4f'%log_loss(y1_test,y_prob_rf2)\n",
    "print(rf_accuracy)\n",
    "print(rf_f1)\n",
    "print(rf_roc_auc)\n",
    "print(rf_loss)"
   ]
  },
  {
   "cell_type": "code",
   "execution_count": 58,
   "id": "4e415423",
   "metadata": {},
   "outputs": [
    {
     "data": {
      "text/plain": [
       "['rf_ctgpatt.model']"
      ]
     },
     "execution_count": 58,
     "metadata": {},
     "output_type": "execute_result"
    }
   ],
   "source": [
    "# save the model\n",
    "joblib.dump(rf_ctgpatt,'rf_ctgpatt.model')"
   ]
  },
  {
   "cell_type": "code",
   "execution_count": 59,
   "id": "4dae9225",
   "metadata": {},
   "outputs": [],
   "source": [
    "   #加载模型\n",
    "RFrf=joblib.load('rf_ctgpatt.model')\n",
    "   #应用模型进行预测\n",
    "rfresult=RFrf.score(X1_test,y1_test)"
   ]
  },
  {
   "cell_type": "code",
   "execution_count": 60,
   "id": "282283e2",
   "metadata": {},
   "outputs": [
    {
     "data": {
      "text/plain": [
       "0.8732394366197183"
      ]
     },
     "execution_count": 60,
     "metadata": {},
     "output_type": "execute_result"
    }
   ],
   "source": [
    "rfresult"
   ]
  }
 ],
 "metadata": {
  "kernelspec": {
   "display_name": "Python 3 (ipykernel)",
   "language": "python",
   "name": "python3"
  },
  "language_info": {
   "codemirror_mode": {
    "name": "ipython",
    "version": 3
   },
   "file_extension": ".py",
   "mimetype": "text/x-python",
   "name": "python",
   "nbconvert_exporter": "python",
   "pygments_lexer": "ipython3",
   "version": "3.9.7"
  },
  "toc": {
   "base_numbering": 1,
   "nav_menu": {},
   "number_sections": true,
   "sideBar": true,
   "skip_h1_title": false,
   "title_cell": "Table of Contents",
   "title_sidebar": "Contents",
   "toc_cell": false,
   "toc_position": {},
   "toc_section_display": true,
   "toc_window_display": false
  }
 },
 "nbformat": 4,
 "nbformat_minor": 5
}

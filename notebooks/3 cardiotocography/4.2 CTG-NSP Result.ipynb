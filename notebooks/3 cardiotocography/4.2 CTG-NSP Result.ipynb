{
 "cells": [
  {
   "cell_type": "markdown",
   "id": "ea068a5f",
   "metadata": {},
   "source": [
    "# Import the package"
   ]
  },
  {
   "cell_type": "code",
   "execution_count": 1,
   "id": "3a9cc4cf",
   "metadata": {},
   "outputs": [],
   "source": [
    "from datetime import datetime\n",
    "import lightgbm as lgb\n",
    "from lightgbm import LGBMClassifier\n",
    "from lightgbm import plot_importance\n",
    "import matplotlib.pyplot as plt\n",
    "from matplotlib import pyplot\n",
    "%matplotlib inline\n",
    "import numpy as np\n",
    "from numpy import mean\n",
    "from numpy import std\n",
    "from numpy import sort\n",
    "import pandas as pd\n",
    "from pandas.core.frame import DataFrame\n",
    "from sklearn.svm import SVC\n",
    "from sklearn.decomposition import PCA\n",
    "from sklearn.ensemble import RandomForestClassifier as RFC\n",
    "from sklearn.feature_selection import SelectFromModel\n",
    "from sklearn import metrics\n",
    "from sklearn.metrics import f1_score  \n",
    "from sklearn.metrics import ConfusionMatrixDisplay\n",
    "from sklearn.metrics import confusion_matrix,roc_curve,roc_auc_score,accuracy_score, plot_confusion_matrix,classification_report\n",
    "from sklearn.model_selection import cross_val_score\n",
    "from sklearn.model_selection import GridSearchCV\n",
    "from sklearn.model_selection import RepeatedStratifiedKFold\n",
    "from sklearn.model_selection import train_test_split\n",
    "from sklearn.metrics import precision_score, recall_score, f1_score\n",
    "\n",
    "from sklearn.preprocessing import LabelEncoder\n",
    "from sklearn.preprocessing import OneHotEncoder\n",
    "from sklearn.preprocessing import StandardScaler\n",
    "from sklearn.utils import class_weight\n",
    "from sklearn.metrics import log_loss\n",
    "import seaborn as sns\n",
    "import warnings\n",
    "warnings.filterwarnings(\"ignore\")\n",
    "from sklearn.model_selection import StratifiedKFold\n",
    "from sklearn.metrics import make_scorer\n",
    "from skopt import BayesSearchCV\n",
    "from skopt.callbacks import DeadlineStopper,DeltaYStopper\n",
    "from skopt.space import Real,Categorical,Integer\n",
    "from sklearn.feature_selection import RFECV\n",
    "from sklearn.feature_selection import RFE\n",
    "\n",
    "import joblib\n",
    "import torch\n",
    "from torch import nn\n",
    "from torch import optim\n",
    "import torch.nn.functional as F\n",
    "from torch.utils.data import DataLoader"
   ]
  },
  {
   "cell_type": "markdown",
   "id": "08a9366c",
   "metadata": {},
   "source": [
    "# Dataset"
   ]
  },
  {
   "cell_type": "markdown",
   "id": "d8918c59",
   "metadata": {},
   "source": [
    "## Original dataset"
   ]
  },
  {
   "cell_type": "code",
   "execution_count": 2,
   "id": "63c2583c",
   "metadata": {},
   "outputs": [],
   "source": [
    "CTGData=pd.read_csv('CTG.csv')"
   ]
  },
  {
   "cell_type": "code",
   "execution_count": 3,
   "id": "60ee0cc1",
   "metadata": {},
   "outputs": [],
   "source": [
    "CTGData3=CTGData.copy()\n",
    "X=CTGData3.drop(labels=['CLASS','NSP'],axis=1)\n",
    "\n",
    "y=CTGData3['NSP'].values\n",
    "y = LabelEncoder().fit_transform(y)"
   ]
  },
  {
   "cell_type": "code",
   "execution_count": 4,
   "id": "818db3f5",
   "metadata": {},
   "outputs": [
    {
     "data": {
      "text/plain": [
       "(2126, 23)"
      ]
     },
     "execution_count": 4,
     "metadata": {},
     "output_type": "execute_result"
    }
   ],
   "source": [
    "CTGData3.shape"
   ]
  },
  {
   "cell_type": "code",
   "execution_count": 5,
   "id": "dc20e5dd",
   "metadata": {},
   "outputs": [],
   "source": [
    "#stanardilization\n",
    "from sklearn.preprocessing import StandardScaler\n",
    "scaler=StandardScaler()\n",
    "scaler.fit(X)\n",
    "X=scaler.transform(X)"
   ]
  },
  {
   "cell_type": "code",
   "execution_count": 6,
   "id": "17037676",
   "metadata": {},
   "outputs": [],
   "source": [
    "#split train dataset and test dataset\n",
    "X_train, X_test,y_train,y_test= train_test_split(X,y,test_size=0.2,random_state=42)\n",
    "\n"
   ]
  },
  {
   "cell_type": "markdown",
   "id": "83e4a08a",
   "metadata": {},
   "source": [
    "## Selected feature"
   ]
  },
  {
   "cell_type": "code",
   "execution_count": 7,
   "id": "d2c141f2",
   "metadata": {},
   "outputs": [
    {
     "data": {
      "text/html": [
       "<div>\n",
       "<style scoped>\n",
       "    .dataframe tbody tr th:only-of-type {\n",
       "        vertical-align: middle;\n",
       "    }\n",
       "\n",
       "    .dataframe tbody tr th {\n",
       "        vertical-align: top;\n",
       "    }\n",
       "\n",
       "    .dataframe thead th {\n",
       "        text-align: right;\n",
       "    }\n",
       "</style>\n",
       "<table border=\"1\" class=\"dataframe\">\n",
       "  <thead>\n",
       "    <tr style=\"text-align: right;\">\n",
       "      <th></th>\n",
       "      <th>LB</th>\n",
       "      <th>AC</th>\n",
       "      <th>FM</th>\n",
       "      <th>UC</th>\n",
       "      <th>DL</th>\n",
       "      <th>DP</th>\n",
       "      <th>ASTV</th>\n",
       "      <th>MSTV</th>\n",
       "      <th>ALTV</th>\n",
       "      <th>MLTV</th>\n",
       "      <th>...</th>\n",
       "      <th>Min</th>\n",
       "      <th>Max</th>\n",
       "      <th>Nmax</th>\n",
       "      <th>Nzeros</th>\n",
       "      <th>Mode</th>\n",
       "      <th>Mean</th>\n",
       "      <th>Median</th>\n",
       "      <th>Variance</th>\n",
       "      <th>Tendency</th>\n",
       "      <th>label</th>\n",
       "    </tr>\n",
       "  </thead>\n",
       "  <tbody>\n",
       "    <tr>\n",
       "      <th>0</th>\n",
       "      <td>120</td>\n",
       "      <td>0.000000</td>\n",
       "      <td>0.0</td>\n",
       "      <td>0.000000</td>\n",
       "      <td>0.000000</td>\n",
       "      <td>0.0</td>\n",
       "      <td>73</td>\n",
       "      <td>0.5</td>\n",
       "      <td>43</td>\n",
       "      <td>2.4</td>\n",
       "      <td>...</td>\n",
       "      <td>62</td>\n",
       "      <td>126</td>\n",
       "      <td>2</td>\n",
       "      <td>0</td>\n",
       "      <td>120</td>\n",
       "      <td>137</td>\n",
       "      <td>121</td>\n",
       "      <td>73</td>\n",
       "      <td>1</td>\n",
       "      <td>1</td>\n",
       "    </tr>\n",
       "    <tr>\n",
       "      <th>1</th>\n",
       "      <td>132</td>\n",
       "      <td>0.006380</td>\n",
       "      <td>0.0</td>\n",
       "      <td>0.006380</td>\n",
       "      <td>0.003190</td>\n",
       "      <td>0.0</td>\n",
       "      <td>17</td>\n",
       "      <td>2.1</td>\n",
       "      <td>0</td>\n",
       "      <td>10.4</td>\n",
       "      <td>...</td>\n",
       "      <td>68</td>\n",
       "      <td>198</td>\n",
       "      <td>6</td>\n",
       "      <td>1</td>\n",
       "      <td>141</td>\n",
       "      <td>136</td>\n",
       "      <td>140</td>\n",
       "      <td>12</td>\n",
       "      <td>0</td>\n",
       "      <td>0</td>\n",
       "    </tr>\n",
       "    <tr>\n",
       "      <th>2</th>\n",
       "      <td>133</td>\n",
       "      <td>0.003322</td>\n",
       "      <td>0.0</td>\n",
       "      <td>0.008306</td>\n",
       "      <td>0.003322</td>\n",
       "      <td>0.0</td>\n",
       "      <td>16</td>\n",
       "      <td>2.1</td>\n",
       "      <td>0</td>\n",
       "      <td>13.4</td>\n",
       "      <td>...</td>\n",
       "      <td>68</td>\n",
       "      <td>198</td>\n",
       "      <td>5</td>\n",
       "      <td>1</td>\n",
       "      <td>141</td>\n",
       "      <td>135</td>\n",
       "      <td>138</td>\n",
       "      <td>13</td>\n",
       "      <td>0</td>\n",
       "      <td>0</td>\n",
       "    </tr>\n",
       "    <tr>\n",
       "      <th>3</th>\n",
       "      <td>134</td>\n",
       "      <td>0.002561</td>\n",
       "      <td>0.0</td>\n",
       "      <td>0.007682</td>\n",
       "      <td>0.002561</td>\n",
       "      <td>0.0</td>\n",
       "      <td>16</td>\n",
       "      <td>2.4</td>\n",
       "      <td>0</td>\n",
       "      <td>23.0</td>\n",
       "      <td>...</td>\n",
       "      <td>53</td>\n",
       "      <td>170</td>\n",
       "      <td>11</td>\n",
       "      <td>0</td>\n",
       "      <td>137</td>\n",
       "      <td>134</td>\n",
       "      <td>137</td>\n",
       "      <td>13</td>\n",
       "      <td>1</td>\n",
       "      <td>0</td>\n",
       "    </tr>\n",
       "    <tr>\n",
       "      <th>4</th>\n",
       "      <td>132</td>\n",
       "      <td>0.006515</td>\n",
       "      <td>0.0</td>\n",
       "      <td>0.008143</td>\n",
       "      <td>0.000000</td>\n",
       "      <td>0.0</td>\n",
       "      <td>16</td>\n",
       "      <td>2.4</td>\n",
       "      <td>0</td>\n",
       "      <td>19.9</td>\n",
       "      <td>...</td>\n",
       "      <td>53</td>\n",
       "      <td>170</td>\n",
       "      <td>9</td>\n",
       "      <td>0</td>\n",
       "      <td>137</td>\n",
       "      <td>136</td>\n",
       "      <td>138</td>\n",
       "      <td>11</td>\n",
       "      <td>1</td>\n",
       "      <td>0</td>\n",
       "    </tr>\n",
       "  </tbody>\n",
       "</table>\n",
       "<p>5 rows × 21 columns</p>\n",
       "</div>"
      ],
      "text/plain": [
       "    LB        AC   FM        UC        DL   DP  ASTV  MSTV  ALTV  MLTV  ...  \\\n",
       "0  120  0.000000  0.0  0.000000  0.000000  0.0    73   0.5    43   2.4  ...   \n",
       "1  132  0.006380  0.0  0.006380  0.003190  0.0    17   2.1     0  10.4  ...   \n",
       "2  133  0.003322  0.0  0.008306  0.003322  0.0    16   2.1     0  13.4  ...   \n",
       "3  134  0.002561  0.0  0.007682  0.002561  0.0    16   2.4     0  23.0  ...   \n",
       "4  132  0.006515  0.0  0.008143  0.000000  0.0    16   2.4     0  19.9  ...   \n",
       "\n",
       "   Min  Max  Nmax  Nzeros  Mode  Mean  Median  Variance  Tendency  label  \n",
       "0   62  126     2       0   120   137     121        73         1      1  \n",
       "1   68  198     6       1   141   136     140        12         0      0  \n",
       "2   68  198     5       1   141   135     138        13         0      0  \n",
       "3   53  170    11       0   137   134     137        13         1      0  \n",
       "4   53  170     9       0   137   136     138        11         1      0  \n",
       "\n",
       "[5 rows x 21 columns]"
      ]
     },
     "execution_count": 7,
     "metadata": {},
     "output_type": "execute_result"
    }
   ],
   "source": [
    "features20=pd.read_csv('CTGNSP selected 20 features.csv')\n",
    "# ,index_col=0)\n",
    "features20.head()"
   ]
  },
  {
   "cell_type": "code",
   "execution_count": 8,
   "id": "f934af65",
   "metadata": {},
   "outputs": [
    {
     "data": {
      "text/plain": [
       "(2126, 21)"
      ]
     },
     "execution_count": 8,
     "metadata": {},
     "output_type": "execute_result"
    }
   ],
   "source": [
    "features20.shape"
   ]
  },
  {
   "cell_type": "code",
   "execution_count": 9,
   "id": "e9c062b9",
   "metadata": {},
   "outputs": [],
   "source": [
    "X1=features20.drop(labels=['label'],axis=1)\n",
    "\n",
    "y1=features20['label'].values\n"
   ]
  },
  {
   "cell_type": "code",
   "execution_count": 10,
   "id": "29567ef3",
   "metadata": {},
   "outputs": [],
   "source": [
    "scaler=StandardScaler()\n",
    "scaler.fit(X1)\n",
    "X1=scaler.transform(X1)\n",
    "#split train dataset and test dataset\n",
    "X1_train, X1_test,y1_train,y1_test= train_test_split(X1,y1,test_size=0.2, shuffle = True,stratify=y1,random_state=42)"
   ]
  },
  {
   "cell_type": "markdown",
   "id": "879ce6c6",
   "metadata": {},
   "source": [
    "# Model"
   ]
  },
  {
   "cell_type": "markdown",
   "id": "61c7db32",
   "metadata": {},
   "source": [
    "## Light GBM"
   ]
  },
  {
   "cell_type": "code",
   "execution_count": 11,
   "id": "f460c199",
   "metadata": {},
   "outputs": [],
   "source": [
    "lgbm1=LGBMClassifier(boosting_type='gbdt',objective ='multiclass',\n",
    "                                 max_depth=8, num_leaves=170,\n",
    "                                learning_rate=0.01,n_estimators=300,\n",
    "                                colsample_bytree= 0.8,subsample= 0.8)"
   ]
  },
  {
   "cell_type": "code",
   "execution_count": 12,
   "id": "32fec66a",
   "metadata": {},
   "outputs": [],
   "source": [
    "lgbm_ctgnsp=lgbm1.fit(X1_train,y1_train)"
   ]
  },
  {
   "cell_type": "code",
   "execution_count": 13,
   "id": "d020df40",
   "metadata": {},
   "outputs": [
    {
     "name": "stdout",
     "output_type": "stream",
     "text": [
      "Accuracy score with LGBM is:  0.931924882629108\n",
      "F1 score with LGBM is:  0.931924882629108\n",
      "ROC_AUC score with LGBM is:  0.9824944554519801\n",
      "Cross entropy loss score with LGBM is:  0.1832007685672168\n"
     ]
    }
   ],
   "source": [
    "y_pred_lgbm1=lgbm1.predict((X1_test))\n",
    "y_prob_lgbm1=lgbm1.predict_proba((X1_test))\n",
    "print(\"Accuracy score with LGBM is: \",accuracy_score(y1_test, y_pred_lgbm1))\n",
    "print(\"F1 score with LGBM is: \",f1_score(y1_test, y_pred_lgbm1,average='micro'))\n",
    "print(\"ROC_AUC score with LGBM is: \", roc_auc_score(y1_test,y_prob_lgbm1,multi_class='ovr',labels=np.unique(y1_test)))\n",
    "print(\"Cross entropy loss score with LGBM is: \",log_loss(y1_test,y_prob_lgbm1))\n"
   ]
  },
  {
   "cell_type": "code",
   "execution_count": 14,
   "id": "69b54033",
   "metadata": {},
   "outputs": [
    {
     "name": "stdout",
     "output_type": "stream",
     "text": [
      "0.9319\n",
      "0.9319\n",
      "0.9825\n",
      "0.1832\n"
     ]
    }
   ],
   "source": [
    "lgbm_accuracy='%.4f'%accuracy_score(y1_test, y_pred_lgbm1)\n",
    "lgbm_f1='%.4f'%f1_score(y1_test, y_pred_lgbm1,average='micro')\n",
    "lgbm_roc_auc='%.4f'% roc_auc_score(y1_test,y_prob_lgbm1,multi_class='ovr',labels=np.unique(y1_test))\n",
    "lgbm_loss='%.4f'%log_loss(y1_test,y_prob_lgbm1)\n",
    "print(lgbm_accuracy)\n",
    "print(lgbm_f1)\n",
    "print(lgbm_roc_auc)\n",
    "print(lgbm_loss)"
   ]
  },
  {
   "cell_type": "code",
   "execution_count": 15,
   "id": "68136f40",
   "metadata": {},
   "outputs": [
    {
     "name": "stdout",
     "output_type": "stream",
     "text": [
      "accuracy 20  feature: 0.9488235294117647\n",
      "F1 score 20  feature: 0.9488235294117647\n",
      "roc_auc 20  feature: 0.9872886454457237\n",
      "cross entropy loss 20  feature: -0.14793525408062694\n"
     ]
    }
   ],
   "source": [
    "start=datetime.now()\n",
    "accuracy_score_20 =cross_val_score(lgbm1, X1_train, y1_train, cv=5,scoring='accuracy').mean()\n",
    "F1_score_20 =cross_val_score(lgbm1, X1_train, y1_train, cv=5,scoring='f1_micro').mean()\n",
    "roc_auc_score_20 =cross_val_score(lgbm1, X1_train, y1_train, cv=5,scoring='roc_auc_ovr').mean()\n",
    "neg_loss_score_20 =cross_val_score(lgbm1, X1_train, y1_train, cv=5,scoring='neg_log_loss').mean()\n",
    "stop=datetime.now()\n",
    "\n",
    "execution_time_lgbm4=(stop-start)/20\n",
    "execution_time_lgbm4\n",
    "\n",
    "print(\"accuracy 20  feature:\",accuracy_score_20)\n",
    "print('F1 score 20  feature:',F1_score_20)\n",
    "print('roc_auc 20  feature:',roc_auc_score_20)\n",
    "print(\"cross entropy loss 20  feature:\",neg_loss_score_20)\n"
   ]
  },
  {
   "cell_type": "code",
   "execution_count": 16,
   "id": "7d48fb37",
   "metadata": {
    "scrolled": true
   },
   "outputs": [
    {
     "data": {
      "text/plain": [
       "datetime.timedelta(microseconds=625763)"
      ]
     },
     "execution_count": 16,
     "metadata": {},
     "output_type": "execute_result"
    }
   ],
   "source": [
    "execution_time_lgbm4"
   ]
  },
  {
   "cell_type": "code",
   "execution_count": 17,
   "id": "866df9ef",
   "metadata": {},
   "outputs": [
    {
     "name": "stdout",
     "output_type": "stream",
     "text": [
      "0.6258\n"
     ]
    }
   ],
   "source": [
    "training_time_lgbm=execution_time_lgbm4.total_seconds()\n",
    "training_time_lgbm='%.4f'%training_time_lgbm\n",
    "print(training_time_lgbm)"
   ]
  },
  {
   "cell_type": "code",
   "execution_count": 18,
   "id": "fdb389e6",
   "metadata": {},
   "outputs": [
    {
     "data": {
      "text/plain": [
       "['lgbm_ctgnsp.model']"
      ]
     },
     "execution_count": 18,
     "metadata": {},
     "output_type": "execute_result"
    }
   ],
   "source": [
    "# save the model\n",
    "joblib.dump(lgbm_ctgnsp,'lgbm_ctgnsp.model')"
   ]
  },
  {
   "cell_type": "code",
   "execution_count": 19,
   "id": "34468cef",
   "metadata": {},
   "outputs": [],
   "source": [
    "rflgbm_CTGNSP=joblib.load('lgbm_ctgnsp.model')\n",
    "   #应用模型进行预测\n",
    "resultlgmb=rflgbm_CTGNSP.score(X1_test,y1_test)"
   ]
  },
  {
   "cell_type": "code",
   "execution_count": 20,
   "id": "f1bffcc9",
   "metadata": {},
   "outputs": [
    {
     "data": {
      "text/plain": [
       "0.931924882629108"
      ]
     },
     "execution_count": 20,
     "metadata": {},
     "output_type": "execute_result"
    }
   ],
   "source": [
    "resultlgmb"
   ]
  },
  {
   "cell_type": "markdown",
   "id": "0e5d9a3b",
   "metadata": {},
   "source": [
    "# SVM "
   ]
  },
  {
   "cell_type": "code",
   "execution_count": 21,
   "id": "b1b25200",
   "metadata": {},
   "outputs": [],
   "source": [
    "svc2 = SVC(C= 8.5385\n",
    "           ,kernel='rbf'\n",
    "           ,degree= 7\n",
    "#            ,gamma= 1.584\n",
    "          ,gamma=0.07\n",
    "           ,random_state=42\n",
    "          , probability=True\n",
    "          )"
   ]
  },
  {
   "cell_type": "code",
   "execution_count": 22,
   "id": "b01783da",
   "metadata": {},
   "outputs": [
    {
     "name": "stdout",
     "output_type": "stream",
     "text": [
      "0.3512\n"
     ]
    }
   ],
   "source": [
    "\n",
    "start=datetime.now()\n",
    "svc_ctgnsp=svc2.fit(X1_train,y1_train)\n",
    "stop=datetime.now()\n",
    "execution_time_svc='%.4f'%(stop-start).total_seconds()\n",
    "\n",
    "print(execution_time_svc)"
   ]
  },
  {
   "cell_type": "code",
   "execution_count": 23,
   "id": "26ad5808",
   "metadata": {},
   "outputs": [
    {
     "name": "stdout",
     "output_type": "stream",
     "text": [
      "accuracy 20  feature: 0.9270588235294118\n",
      "F1 score 20  feature: 0.9270588235294118\n",
      "roc_auc 20  feature: 0.9764730865709726\n",
      "cross entropy loss 20  feature: -0.19724468696020772\n"
     ]
    }
   ],
   "source": [
    "start=datetime.now()\n",
    "accuracy_score_20_svm =cross_val_score(svc2, X1_train, y1_train, cv=5,scoring='accuracy').mean()\n",
    "F1_score_20_svm =cross_val_score(svc2, X1_train, y1_train, cv=5,scoring='f1_micro').mean()\n",
    "roc_auc_score_20_svm =cross_val_score(svc2, X1_train, y1_train, cv=5,scoring='roc_auc_ovr').mean()\n",
    "neg_loss_score_20_svm =cross_val_score(svc2, X1_train, y1_train, cv=5,scoring='neg_log_loss').mean()\n",
    "\n",
    "stop=datetime.now()\n",
    "execution_time_svm=(stop-start)/20\n",
    "execution_time_svm\n",
    "\n",
    "print(\"accuracy 20  feature:\",accuracy_score_20_svm)\n",
    "print('F1 score 20  feature:',F1_score_20_svm)\n",
    "print('roc_auc 20  feature:',roc_auc_score_20_svm)\n",
    "print(\"cross entropy loss 20  feature:\",neg_loss_score_20_svm)"
   ]
  },
  {
   "cell_type": "code",
   "execution_count": 24,
   "id": "0616b6e2",
   "metadata": {},
   "outputs": [
    {
     "name": "stdout",
     "output_type": "stream",
     "text": [
      "0.2375\n"
     ]
    }
   ],
   "source": [
    "training_time_svm=execution_time_svm.total_seconds()\n",
    "training_time_svm='%.4f'%training_time_svm\n",
    "print(training_time_svm)"
   ]
  },
  {
   "cell_type": "code",
   "execution_count": null,
   "id": "6745b862",
   "metadata": {},
   "outputs": [],
   "source": []
  },
  {
   "cell_type": "code",
   "execution_count": 25,
   "id": "e5832129",
   "metadata": {},
   "outputs": [
    {
     "data": {
      "text/plain": [
       "0.9225352112676056"
      ]
     },
     "execution_count": 25,
     "metadata": {},
     "output_type": "execute_result"
    }
   ],
   "source": [
    "svc2.fit(X1_train,y1_train)\n",
    "svc2.score(X1_test,y1_test)"
   ]
  },
  {
   "cell_type": "code",
   "execution_count": 26,
   "id": "da2bc474",
   "metadata": {},
   "outputs": [],
   "source": [
    "\n",
    "y_pred_svc2=svc2.predict(X1_test)\n",
    "y_prob_svc2=svc2.predict_proba(X1_test)"
   ]
  },
  {
   "cell_type": "code",
   "execution_count": 27,
   "id": "b399b69a",
   "metadata": {},
   "outputs": [
    {
     "name": "stdout",
     "output_type": "stream",
     "text": [
      "0.9225\n",
      "0.9225\n",
      "0.9739\n",
      "0.2152\n"
     ]
    }
   ],
   "source": [
    "\n",
    "svc_accuracy0='%.4f'%accuracy_score(y1_test, y_pred_svc2)\n",
    "svc_f10='%.4f'%f1_score(y1_test, y_pred_svc2,average='micro')\n",
    "svc_roc_auc0='%.4f'% roc_auc_score(y1_test,y_prob_svc2,multi_class='ovr',labels=np.unique(y1_test))\n",
    "svc_loss0='%.4f'%log_loss(y1_test,y_prob_svc2)\n",
    "print(svc_accuracy0)\n",
    "print(svc_f10)\n",
    "print(svc_roc_auc0)\n",
    "print(svc_loss0)"
   ]
  },
  {
   "cell_type": "markdown",
   "id": "7b4d3c3e",
   "metadata": {},
   "source": [
    "## save model"
   ]
  },
  {
   "cell_type": "code",
   "execution_count": 28,
   "id": "5128eb97",
   "metadata": {},
   "outputs": [
    {
     "data": {
      "text/plain": [
       "['svc_ctgnsp.model']"
      ]
     },
     "execution_count": 28,
     "metadata": {},
     "output_type": "execute_result"
    }
   ],
   "source": [
    "  #保存模型\n",
    "joblib.dump(svc_ctgnsp,'svc_ctgnsp.model')"
   ]
  },
  {
   "cell_type": "code",
   "execution_count": 29,
   "id": "69ca0998",
   "metadata": {},
   "outputs": [],
   "source": [
    "#加载模型\n",
    "RFsvc=joblib.load('svc_ctgnsp.model')\n",
    "   #应用模型进行预测\n",
    "resultsvc=RFsvc.score(X1_test,y1_test)"
   ]
  },
  {
   "cell_type": "code",
   "execution_count": 30,
   "id": "e4ad517d",
   "metadata": {
    "scrolled": true
   },
   "outputs": [
    {
     "data": {
      "text/plain": [
       "0.9225352112676056"
      ]
     },
     "execution_count": 30,
     "metadata": {},
     "output_type": "execute_result"
    }
   ],
   "source": [
    "resultsvc"
   ]
  },
  {
   "cell_type": "markdown",
   "id": "49408a79",
   "metadata": {},
   "source": [
    "# Random Forest"
   ]
  },
  {
   "cell_type": "code",
   "execution_count": 31,
   "id": "f8f4c6d7",
   "metadata": {},
   "outputs": [],
   "source": [
    "rf2= RFC(random_state=42, max_features='sqrt', n_estimators= 100,\n",
    "                                     max_depth=12, \n",
    "                                     criterion='entropy')\n"
   ]
  },
  {
   "cell_type": "code",
   "execution_count": 32,
   "id": "f8c766e9",
   "metadata": {},
   "outputs": [
    {
     "name": "stdout",
     "output_type": "stream",
     "text": [
      "accuracy 10  feature: 0.9441176470588235\n",
      "F1 score 10  feature: 0.9441176470588235\n",
      "roc_auc 10  feature: 0.9875042361650694\n",
      "cross entropy loss 10  feature: -0.15870577382751713\n"
     ]
    }
   ],
   "source": [
    "start=datetime.now()\n",
    "accuracy_score_10_rf =cross_val_score(rf2, X1_train, y1_train, cv=5,scoring='accuracy').mean()\n",
    "F1_score_10_rf =cross_val_score(rf2, X1_train, y1_train, cv=5,scoring='f1_micro').mean()\n",
    "roc_auc_score_10_rf =cross_val_score(rf2, X1_train, y1_train, cv=5,scoring='roc_auc_ovr').mean()\n",
    "neg_loss_score_10_rf =cross_val_score(rf2, X1_train, y1_train, cv=5,scoring='neg_log_loss').mean()\n",
    "\n",
    "stop=datetime.now()\n",
    "execution_time_rf=(stop-start)/20\n",
    "execution_time_rf\n",
    "\n",
    "print(\"accuracy 10  feature:\",accuracy_score_10_rf)\n",
    "print('F1 score 10  feature:',F1_score_10_rf)\n",
    "print('roc_auc 10  feature:',roc_auc_score_10_rf)\n",
    "print(\"cross entropy loss 10  feature:\",neg_loss_score_10_rf)"
   ]
  },
  {
   "cell_type": "code",
   "execution_count": 33,
   "id": "03badf76",
   "metadata": {},
   "outputs": [
    {
     "name": "stdout",
     "output_type": "stream",
     "text": [
      "0.2514\n"
     ]
    }
   ],
   "source": [
    "training_time_rf=execution_time_rf.total_seconds()\n",
    "training_time_rf='%.4f'%training_time_rf\n",
    "print(training_time_rf)"
   ]
  },
  {
   "cell_type": "code",
   "execution_count": 34,
   "id": "0383a71a",
   "metadata": {},
   "outputs": [
    {
     "name": "stdout",
     "output_type": "stream",
     "text": [
      "Accuracy score with LGBM is:  0.9389671361502347\n",
      "F1 score with LGBM is:  0.9389671361502347\n",
      "ROC_AUC score with LGBM is:  0.9833181298995961\n",
      "Cross entropy loss score with LGBM is:  0.18164782887922457\n",
      "0.9390\n",
      "0.9390\n",
      "0.9833\n",
      "0.1816\n"
     ]
    }
   ],
   "source": [
    "rf_ctgnsp=rf2.fit(X1_train,y1_train)\n",
    "y_pred_rf2=rf2.predict(X1_test)\n",
    "y_prob_rf2=rf2.predict_proba(X1_test)\n",
    "\n",
    "print(\"Accuracy score with LGBM is: \",accuracy_score(y1_test, y_pred_rf2))\n",
    "print(\"F1 score with LGBM is: \",f1_score(y1_test, y_pred_rf2,average='micro'))\n",
    "print(\"ROC_AUC score with LGBM is: \", roc_auc_score(y1_test,y_prob_rf2,multi_class='ovr',labels=np.unique(y1_test)))\n",
    "print(\"Cross entropy loss score with LGBM is: \",log_loss(y1_test,y_prob_rf2))\n",
    "\n",
    "\n",
    "rf_accuracy='%.4f'%accuracy_score(y1_test, y_pred_rf2)\n",
    "rf_f1='%.4f'%f1_score(y1_test, y_pred_rf2,average='micro')\n",
    "rf_roc_auc='%.4f'% roc_auc_score(y1_test,y_prob_rf2,multi_class='ovr',labels=np.unique(y1_test))\n",
    "rf_loss='%.4f'%log_loss(y1_test,y_prob_rf2)\n",
    "print(rf_accuracy)\n",
    "print(rf_f1)\n",
    "print(rf_roc_auc)\n",
    "print(rf_loss)"
   ]
  },
  {
   "cell_type": "code",
   "execution_count": 35,
   "id": "b2822f1d",
   "metadata": {},
   "outputs": [
    {
     "data": {
      "text/plain": [
       "['rf_ctgnsp.model']"
      ]
     },
     "execution_count": 35,
     "metadata": {},
     "output_type": "execute_result"
    }
   ],
   "source": [
    "# save the model\n",
    "joblib.dump(rf_ctgnsp,'rf_ctgnsp.model')"
   ]
  },
  {
   "cell_type": "code",
   "execution_count": 36,
   "id": "fa2bb521",
   "metadata": {},
   "outputs": [],
   "source": [
    "   #加载模型\n",
    "RFrf=joblib.load('rf_ctgnsp.model')\n",
    "   #应用模型进行预测\n",
    "rfresult=RFrf.score(X1_test,y1_test)"
   ]
  },
  {
   "cell_type": "code",
   "execution_count": 37,
   "id": "344f3314",
   "metadata": {},
   "outputs": [
    {
     "data": {
      "text/plain": [
       "0.9389671361502347"
      ]
     },
     "execution_count": 37,
     "metadata": {},
     "output_type": "execute_result"
    }
   ],
   "source": [
    "rfresult"
   ]
  },
  {
   "cell_type": "markdown",
   "id": "ef292dc7",
   "metadata": {},
   "source": [
    "## Neural Network"
   ]
  },
  {
   "cell_type": "code",
   "execution_count": 38,
   "id": "131fe817",
   "metadata": {},
   "outputs": [],
   "source": [
    "\n",
    "X1_train = torch.from_numpy(X1_train)\n",
    "y1_train = torch.from_numpy(y1_train ).type(torch.LongTensor)\n",
    "\n",
    "X1_test  = torch.from_numpy(X1_test )\n",
    "y1_test= torch.from_numpy(y1_test).type(torch.LongTensor)\n",
    "\n",
    "batch_size = 128\n",
    "\n",
    "train = torch.utils.data.TensorDataset(X1_train, y1_train )\n",
    "test = torch.utils.data.TensorDataset(X1_test , y1_test)\n",
    "\n",
    "train_loader = torch.utils.data.DataLoader(train, batch_size=batch_size, shuffle=True)\n",
    "test_loader = torch.utils.data.DataLoader(test, batch_size=batch_size, shuffle=True)"
   ]
  },
  {
   "cell_type": "code",
   "execution_count": 39,
   "id": "e3052bbf",
   "metadata": {},
   "outputs": [],
   "source": [
    "epochs =30\n",
    "device = torch.device(\"cuda:0\" if torch.cuda.is_available() else \"cpu\")\n",
    "input_dim = X1.shape[1]\n",
    "hidden_dim =39 #hidden layer1\n",
    "\n",
    "output_dim = len(set(y1))"
   ]
  },
  {
   "cell_type": "code",
   "execution_count": 40,
   "id": "b9ac96cc",
   "metadata": {},
   "outputs": [],
   "source": [
    "class ANNModel(nn.Module):\n",
    "    def __init__(self, input_dim, hidden_dim, output_dim):\n",
    "        super(ANNModel, self).__init__()\n",
    "\n",
    "        self.fc1 = nn.Linear(input_dim, hidden_dim)\n",
    "        self.relu1 = nn.ReLU() \n",
    "        \n",
    "        self.fc2 = nn.Linear(hidden_dim, hidden_dim)\n",
    "        self.relu2 = nn.ReLU()\n",
    "        \n",
    "        self.fc3 = nn.Linear(hidden_dim, output_dim)\n",
    "        \n",
    "        \n",
    "    def forward(self, x):\n",
    "        out = self.fc1(x)\n",
    "        out = self.relu1(out)\n",
    "        out = self.fc2(out)\n",
    "        out = self.relu2(out)\n",
    "        out = self.fc3(out)\n",
    "        return out\n"
   ]
  },
  {
   "cell_type": "code",
   "execution_count": 41,
   "id": "ab5074a8",
   "metadata": {},
   "outputs": [],
   "source": [
    "model = ANNModel(input_dim, hidden_dim, output_dim)\n",
    "\n",
    "\n",
    "learning_rate =0.042\n",
    "optimizer = torch.optim.Adam(model.parameters(), lr = learning_rate)\n",
    "criterion = nn.CrossEntropyLoss()\n"
   ]
  },
  {
   "cell_type": "code",
   "execution_count": 42,
   "id": "c5842997",
   "metadata": {},
   "outputs": [
    {
     "name": "stdout",
     "output_type": "stream",
     "text": [
      "[sklearn_metrics] Epoch:0 loss:1.1396 accuracy:0.1562 precision:0.1562 recall:0.1562 f1:0.1562\n",
      "[sklearn_metrics] Epoch:0 loss:1.8743 accuracy:0.4727 precision:0.4727 recall:0.4727 f1:0.4727\n",
      "[sklearn_metrics] Epoch:0 loss:2.4099 accuracy:0.5833 precision:0.5833 recall:0.5833 f1:0.5833\n",
      "[sklearn_metrics] Epoch:0 loss:2.9441 accuracy:0.6367 precision:0.6367 recall:0.6367 f1:0.6367\n",
      "[sklearn_metrics] Epoch:0 loss:3.3964 accuracy:0.6547 precision:0.6547 recall:0.6547 f1:0.6547\n",
      "[sklearn_metrics] Epoch:0 loss:3.8408 accuracy:0.6706 precision:0.6706 recall:0.6706 f1:0.6706\n",
      "[sklearn_metrics] Epoch:0 loss:4.2095 accuracy:0.6931 precision:0.6931 recall:0.6931 f1:0.6931\n",
      "[sklearn_metrics] Epoch:0 loss:4.6741 accuracy:0.7090 precision:0.7090 recall:0.7090 f1:0.7090\n",
      "[sklearn_metrics] Epoch:0 loss:5.0000 accuracy:0.7240 precision:0.7240 recall:0.7240 f1:0.7240\n",
      "[sklearn_metrics] Epoch:0 loss:5.2966 accuracy:0.7398 precision:0.7398 recall:0.7398 f1:0.7398\n",
      "[sklearn_metrics] Epoch:0 loss:5.7252 accuracy:0.7486 precision:0.7486 recall:0.7486 f1:0.7486\n",
      "[sklearn_metrics] Epoch:0 loss:6.0681 accuracy:0.7604 precision:0.7604 recall:0.7604 f1:0.7604\n",
      "[sklearn_metrics] Epoch:0 loss:6.3651 accuracy:0.7704 precision:0.7704 recall:0.7704 f1:0.7704\n",
      "[sklearn_metrics] Epoch:0 loss:6.7794 accuracy:0.7706 precision:0.7706 recall:0.7706 f1:0.7706\n",
      "[sklearn_metrics] Epoch:1 loss:0.3616 accuracy:0.8906 precision:0.8906 recall:0.8906 f1:0.8906\n",
      "[sklearn_metrics] Epoch:1 loss:0.6399 accuracy:0.8867 precision:0.8867 recall:0.8867 f1:0.8867\n",
      "[sklearn_metrics] Epoch:1 loss:0.9230 accuracy:0.8854 precision:0.8854 recall:0.8854 f1:0.8854\n",
      "[sklearn_metrics] Epoch:1 loss:1.2732 accuracy:0.8809 precision:0.8809 recall:0.8809 f1:0.8809\n",
      "[sklearn_metrics] Epoch:1 loss:1.6156 accuracy:0.8719 precision:0.8719 recall:0.8719 f1:0.8719\n",
      "[sklearn_metrics] Epoch:1 loss:1.9721 accuracy:0.8685 precision:0.8685 recall:0.8685 f1:0.8685\n",
      "[sklearn_metrics] Epoch:1 loss:2.3254 accuracy:0.8650 precision:0.8650 recall:0.8650 f1:0.8650\n",
      "[sklearn_metrics] Epoch:1 loss:2.8148 accuracy:0.8564 precision:0.8564 recall:0.8564 f1:0.8564\n",
      "[sklearn_metrics] Epoch:1 loss:3.1471 accuracy:0.8524 precision:0.8524 recall:0.8524 f1:0.8524\n",
      "[sklearn_metrics] Epoch:1 loss:3.4587 accuracy:0.8547 precision:0.8547 recall:0.8547 f1:0.8547\n",
      "[sklearn_metrics] Epoch:1 loss:3.7045 accuracy:0.8551 precision:0.8551 recall:0.8551 f1:0.8551\n",
      "[sklearn_metrics] Epoch:1 loss:4.0019 accuracy:0.8568 precision:0.8568 recall:0.8568 f1:0.8568\n",
      "[sklearn_metrics] Epoch:1 loss:4.3553 accuracy:0.8564 precision:0.8564 recall:0.8564 f1:0.8564\n",
      "[sklearn_metrics] Epoch:1 loss:4.7095 accuracy:0.8559 precision:0.8559 recall:0.8559 f1:0.8559\n",
      "[sklearn_metrics] Epoch:2 loss:0.3231 accuracy:0.8203 precision:0.8203 recall:0.8203 f1:0.8203\n",
      "[sklearn_metrics] Epoch:2 loss:0.6116 accuracy:0.8438 precision:0.8438 recall:0.8438 f1:0.8438\n",
      "[sklearn_metrics] Epoch:2 loss:0.9192 accuracy:0.8490 precision:0.8490 recall:0.8490 f1:0.8490\n",
      "[sklearn_metrics] Epoch:2 loss:1.1537 accuracy:0.8594 precision:0.8594 recall:0.8594 f1:0.8594\n",
      "[sklearn_metrics] Epoch:2 loss:1.3620 accuracy:0.8656 precision:0.8656 recall:0.8656 f1:0.8656\n",
      "[sklearn_metrics] Epoch:2 loss:1.6278 accuracy:0.8659 precision:0.8659 recall:0.8659 f1:0.8659\n",
      "[sklearn_metrics] Epoch:2 loss:1.8735 accuracy:0.8672 precision:0.8672 recall:0.8672 f1:0.8672\n",
      "[sklearn_metrics] Epoch:2 loss:2.1541 accuracy:0.8721 precision:0.8721 recall:0.8721 f1:0.8721\n",
      "[sklearn_metrics] Epoch:2 loss:2.3498 accuracy:0.8767 precision:0.8767 recall:0.8767 f1:0.8767\n",
      "[sklearn_metrics] Epoch:2 loss:2.6151 accuracy:0.8797 precision:0.8797 recall:0.8797 f1:0.8797\n",
      "[sklearn_metrics] Epoch:2 loss:2.9736 accuracy:0.8800 precision:0.8800 recall:0.8800 f1:0.8800\n",
      "[sklearn_metrics] Epoch:2 loss:3.1377 accuracy:0.8841 precision:0.8841 recall:0.8841 f1:0.8841\n",
      "[sklearn_metrics] Epoch:2 loss:3.4833 accuracy:0.8822 precision:0.8822 recall:0.8822 f1:0.8822\n",
      "[sklearn_metrics] Epoch:2 loss:3.7980 accuracy:0.8812 precision:0.8812 recall:0.8812 f1:0.8812\n",
      "[sklearn_metrics] Epoch:3 loss:0.2500 accuracy:0.8750 precision:0.8750 recall:0.8750 f1:0.8750\n",
      "[sklearn_metrics] Epoch:3 loss:0.5578 accuracy:0.8672 precision:0.8672 recall:0.8672 f1:0.8672\n",
      "[sklearn_metrics] Epoch:3 loss:0.8414 accuracy:0.8594 precision:0.8594 recall:0.8594 f1:0.8594\n",
      "[sklearn_metrics] Epoch:3 loss:1.0666 accuracy:0.8691 precision:0.8691 recall:0.8691 f1:0.8691\n",
      "[sklearn_metrics] Epoch:3 loss:1.2941 accuracy:0.8781 precision:0.8781 recall:0.8781 f1:0.8781\n",
      "[sklearn_metrics] Epoch:3 loss:1.5426 accuracy:0.8828 precision:0.8828 recall:0.8828 f1:0.8828\n",
      "[sklearn_metrics] Epoch:3 loss:1.9944 accuracy:0.8761 precision:0.8761 recall:0.8761 f1:0.8761\n",
      "[sklearn_metrics] Epoch:3 loss:2.1614 accuracy:0.8838 precision:0.8838 recall:0.8838 f1:0.8838\n",
      "[sklearn_metrics] Epoch:3 loss:2.3938 accuracy:0.8872 precision:0.8872 recall:0.8872 f1:0.8872\n",
      "[sklearn_metrics] Epoch:3 loss:2.6181 accuracy:0.8914 precision:0.8914 recall:0.8914 f1:0.8914\n",
      "[sklearn_metrics] Epoch:3 loss:2.8806 accuracy:0.8892 precision:0.8892 recall:0.8892 f1:0.8892\n",
      "[sklearn_metrics] Epoch:3 loss:3.1485 accuracy:0.8880 precision:0.8880 recall:0.8880 f1:0.8880\n",
      "[sklearn_metrics] Epoch:3 loss:3.3759 accuracy:0.8906 precision:0.8906 recall:0.8906 f1:0.8906\n",
      "[sklearn_metrics] Epoch:3 loss:3.5722 accuracy:0.8918 precision:0.8918 recall:0.8918 f1:0.8918\n",
      "[sklearn_metrics] Epoch:4 loss:0.1417 accuracy:0.9531 precision:0.9531 recall:0.9531 f1:0.9531\n",
      "[sklearn_metrics] Epoch:4 loss:0.3979 accuracy:0.9141 precision:0.9141 recall:0.9141 f1:0.9141\n",
      "[sklearn_metrics] Epoch:4 loss:0.6081 accuracy:0.9089 precision:0.9089 recall:0.9089 f1:0.9089\n",
      "[sklearn_metrics] Epoch:4 loss:0.9104 accuracy:0.9004 precision:0.9004 recall:0.9004 f1:0.9004\n",
      "[sklearn_metrics] Epoch:4 loss:1.0689 accuracy:0.9078 precision:0.9078 recall:0.9078 f1:0.9078\n",
      "[sklearn_metrics] Epoch:4 loss:1.2702 accuracy:0.9128 precision:0.9128 recall:0.9128 f1:0.9128\n",
      "[sklearn_metrics] Epoch:4 loss:1.4904 accuracy:0.9107 precision:0.9107 recall:0.9107 f1:0.9107\n",
      "[sklearn_metrics] Epoch:4 loss:1.7524 accuracy:0.9043 precision:0.9043 recall:0.9043 f1:0.9043\n",
      "[sklearn_metrics] Epoch:4 loss:1.9802 accuracy:0.9054 precision:0.9054 recall:0.9054 f1:0.9054\n",
      "[sklearn_metrics] Epoch:4 loss:2.2203 accuracy:0.9039 precision:0.9039 recall:0.9039 f1:0.9039\n",
      "[sklearn_metrics] Epoch:4 loss:2.4385 accuracy:0.9041 precision:0.9041 recall:0.9041 f1:0.9041\n",
      "[sklearn_metrics] Epoch:4 loss:2.6782 accuracy:0.9043 precision:0.9043 recall:0.9043 f1:0.9043\n",
      "[sklearn_metrics] Epoch:4 loss:2.9658 accuracy:0.9038 precision:0.9038 recall:0.9038 f1:0.9038\n",
      "[sklearn_metrics] Epoch:4 loss:3.1054 accuracy:0.9041 precision:0.9041 recall:0.9041 f1:0.9041\n",
      "[sklearn_metrics] Epoch:5 loss:0.1918 accuracy:0.8984 precision:0.8984 recall:0.8984 f1:0.8984\n",
      "[sklearn_metrics] Epoch:5 loss:0.4023 accuracy:0.9062 precision:0.9062 recall:0.9062 f1:0.9062\n",
      "[sklearn_metrics] Epoch:5 loss:0.6170 accuracy:0.9062 precision:0.9062 recall:0.9062 f1:0.9062\n",
      "[sklearn_metrics] Epoch:5 loss:0.8502 accuracy:0.9062 precision:0.9062 recall:0.9062 f1:0.9062\n",
      "[sklearn_metrics] Epoch:5 loss:1.0257 accuracy:0.9109 precision:0.9109 recall:0.9109 f1:0.9109\n",
      "[sklearn_metrics] Epoch:5 loss:1.1895 accuracy:0.9128 precision:0.9128 recall:0.9128 f1:0.9128\n",
      "[sklearn_metrics] Epoch:5 loss:1.4107 accuracy:0.9118 precision:0.9118 recall:0.9118 f1:0.9118\n",
      "[sklearn_metrics] Epoch:5 loss:1.5843 accuracy:0.9141 precision:0.9141 recall:0.9141 f1:0.9141\n",
      "[sklearn_metrics] Epoch:5 loss:1.7736 accuracy:0.9141 precision:0.9141 recall:0.9141 f1:0.9141\n",
      "[sklearn_metrics] Epoch:5 loss:1.9666 accuracy:0.9148 precision:0.9148 recall:0.9148 f1:0.9148\n",
      "[sklearn_metrics] Epoch:5 loss:2.1961 accuracy:0.9119 precision:0.9119 recall:0.9119 f1:0.9119\n",
      "[sklearn_metrics] Epoch:5 loss:2.3440 accuracy:0.9141 precision:0.9141 recall:0.9141 f1:0.9141\n",
      "[sklearn_metrics] Epoch:5 loss:2.5738 accuracy:0.9129 precision:0.9129 recall:0.9129 f1:0.9129\n",
      "[sklearn_metrics] Epoch:5 loss:2.8688 accuracy:0.9100 precision:0.9100 recall:0.9100 f1:0.9100\n",
      "[sklearn_metrics] Epoch:6 loss:0.1634 accuracy:0.9219 precision:0.9219 recall:0.9219 f1:0.9219\n",
      "[sklearn_metrics] Epoch:6 loss:0.3523 accuracy:0.9180 precision:0.9180 recall:0.9180 f1:0.9180\n",
      "[sklearn_metrics] Epoch:6 loss:0.5166 accuracy:0.9219 precision:0.9219 recall:0.9219 f1:0.9219\n",
      "[sklearn_metrics] Epoch:6 loss:0.7639 accuracy:0.9141 precision:0.9141 recall:0.9141 f1:0.9141\n",
      "[sklearn_metrics] Epoch:6 loss:0.9380 accuracy:0.9156 precision:0.9156 recall:0.9156 f1:0.9156\n",
      "[sklearn_metrics] Epoch:6 loss:1.1127 accuracy:0.9167 precision:0.9167 recall:0.9167 f1:0.9167\n",
      "[sklearn_metrics] Epoch:6 loss:1.2701 accuracy:0.9163 precision:0.9163 recall:0.9163 f1:0.9163\n",
      "[sklearn_metrics] Epoch:6 loss:1.4275 accuracy:0.9160 precision:0.9160 recall:0.9160 f1:0.9160\n",
      "[sklearn_metrics] Epoch:6 loss:1.6246 accuracy:0.9158 precision:0.9158 recall:0.9158 f1:0.9158\n",
      "[sklearn_metrics] Epoch:6 loss:1.8340 accuracy:0.9125 precision:0.9125 recall:0.9125 f1:0.9125\n",
      "[sklearn_metrics] Epoch:6 loss:2.0688 accuracy:0.9119 precision:0.9119 recall:0.9119 f1:0.9119\n",
      "[sklearn_metrics] Epoch:6 loss:2.3094 accuracy:0.9076 precision:0.9076 recall:0.9076 f1:0.9076\n",
      "[sklearn_metrics] Epoch:6 loss:2.4898 accuracy:0.9075 precision:0.9075 recall:0.9075 f1:0.9075\n",
      "[sklearn_metrics] Epoch:6 loss:2.6113 accuracy:0.9082 precision:0.9082 recall:0.9082 f1:0.9082\n",
      "[sklearn_metrics] Epoch:7 loss:0.1548 accuracy:0.9453 precision:0.9453 recall:0.9453 f1:0.9453\n",
      "[sklearn_metrics] Epoch:7 loss:0.3230 accuracy:0.9336 precision:0.9336 recall:0.9336 f1:0.9336\n",
      "[sklearn_metrics] Epoch:7 loss:0.5760 accuracy:0.9245 precision:0.9245 recall:0.9245 f1:0.9245\n",
      "[sklearn_metrics] Epoch:7 loss:0.7790 accuracy:0.9160 precision:0.9160 recall:0.9160 f1:0.9160\n",
      "[sklearn_metrics] Epoch:7 loss:0.9564 accuracy:0.9141 precision:0.9141 recall:0.9141 f1:0.9141\n",
      "[sklearn_metrics] Epoch:7 loss:1.1403 accuracy:0.9180 precision:0.9180 recall:0.9180 f1:0.9180\n",
      "[sklearn_metrics] Epoch:7 loss:1.2655 accuracy:0.9230 precision:0.9230 recall:0.9230 f1:0.9230\n",
      "[sklearn_metrics] Epoch:7 loss:1.4849 accuracy:0.9199 precision:0.9199 recall:0.9199 f1:0.9199\n",
      "[sklearn_metrics] Epoch:7 loss:1.6851 accuracy:0.9219 precision:0.9219 recall:0.9219 f1:0.9219\n",
      "[sklearn_metrics] Epoch:7 loss:1.8428 accuracy:0.9219 precision:0.9219 recall:0.9219 f1:0.9219\n",
      "[sklearn_metrics] Epoch:7 loss:1.9986 accuracy:0.9233 precision:0.9233 recall:0.9233 f1:0.9233\n",
      "[sklearn_metrics] Epoch:7 loss:2.1559 accuracy:0.9225 precision:0.9225 recall:0.9225 f1:0.9225\n",
      "[sklearn_metrics] Epoch:7 loss:2.3899 accuracy:0.9231 precision:0.9231 recall:0.9231 f1:0.9231\n",
      "[sklearn_metrics] Epoch:7 loss:2.6262 accuracy:0.9212 precision:0.9212 recall:0.9212 f1:0.9212\n",
      "[sklearn_metrics] Epoch:8 loss:0.1232 accuracy:0.9375 precision:0.9375 recall:0.9375 f1:0.9375\n",
      "[sklearn_metrics] Epoch:8 loss:0.3030 accuracy:0.9180 precision:0.9180 recall:0.9180 f1:0.9180\n",
      "[sklearn_metrics] Epoch:8 loss:0.4271 accuracy:0.9271 precision:0.9271 recall:0.9271 f1:0.9271\n"
     ]
    },
    {
     "name": "stdout",
     "output_type": "stream",
     "text": [
      "[sklearn_metrics] Epoch:8 loss:0.5703 accuracy:0.9336 precision:0.9336 recall:0.9336 f1:0.9336\n",
      "[sklearn_metrics] Epoch:8 loss:0.7194 accuracy:0.9359 precision:0.9359 recall:0.9359 f1:0.9359\n",
      "[sklearn_metrics] Epoch:8 loss:0.8720 accuracy:0.9362 precision:0.9362 recall:0.9362 f1:0.9362\n",
      "[sklearn_metrics] Epoch:8 loss:1.0107 accuracy:0.9375 precision:0.9375 recall:0.9375 f1:0.9375\n",
      "[sklearn_metrics] Epoch:8 loss:1.2016 accuracy:0.9326 precision:0.9326 recall:0.9326 f1:0.9326\n",
      "[sklearn_metrics] Epoch:8 loss:1.3185 accuracy:0.9332 precision:0.9332 recall:0.9332 f1:0.9332\n",
      "[sklearn_metrics] Epoch:8 loss:1.6219 accuracy:0.9297 precision:0.9297 recall:0.9297 f1:0.9297\n",
      "[sklearn_metrics] Epoch:8 loss:1.8491 accuracy:0.9254 precision:0.9254 recall:0.9254 f1:0.9254\n",
      "[sklearn_metrics] Epoch:8 loss:2.0246 accuracy:0.9258 precision:0.9258 recall:0.9258 f1:0.9258\n",
      "[sklearn_metrics] Epoch:8 loss:2.1909 accuracy:0.9237 precision:0.9237 recall:0.9237 f1:0.9237\n",
      "[sklearn_metrics] Epoch:8 loss:2.3587 accuracy:0.9241 precision:0.9241 recall:0.9241 f1:0.9241\n",
      "[sklearn_metrics] Epoch:9 loss:0.1165 accuracy:0.9609 precision:0.9609 recall:0.9609 f1:0.9609\n",
      "[sklearn_metrics] Epoch:9 loss:0.2394 accuracy:0.9453 precision:0.9453 recall:0.9453 f1:0.9453\n",
      "[sklearn_metrics] Epoch:9 loss:0.3811 accuracy:0.9375 precision:0.9375 recall:0.9375 f1:0.9375\n",
      "[sklearn_metrics] Epoch:9 loss:0.5826 accuracy:0.9316 precision:0.9316 recall:0.9316 f1:0.9316\n",
      "[sklearn_metrics] Epoch:9 loss:0.7183 accuracy:0.9344 precision:0.9344 recall:0.9344 f1:0.9344\n",
      "[sklearn_metrics] Epoch:9 loss:0.8806 accuracy:0.9310 precision:0.9310 recall:0.9310 f1:0.9310\n",
      "[sklearn_metrics] Epoch:9 loss:1.0305 accuracy:0.9319 precision:0.9319 recall:0.9319 f1:0.9319\n",
      "[sklearn_metrics] Epoch:9 loss:1.1987 accuracy:0.9287 precision:0.9287 recall:0.9287 f1:0.9287\n",
      "[sklearn_metrics] Epoch:9 loss:1.3991 accuracy:0.9288 precision:0.9288 recall:0.9288 f1:0.9288\n",
      "[sklearn_metrics] Epoch:9 loss:1.5605 accuracy:0.9258 precision:0.9258 recall:0.9258 f1:0.9258\n",
      "[sklearn_metrics] Epoch:9 loss:1.7858 accuracy:0.9226 precision:0.9226 recall:0.9226 f1:0.9226\n",
      "[sklearn_metrics] Epoch:9 loss:1.9635 accuracy:0.9225 precision:0.9225 recall:0.9225 f1:0.9225\n",
      "[sklearn_metrics] Epoch:9 loss:2.1137 accuracy:0.9231 precision:0.9231 recall:0.9231 f1:0.9231\n",
      "[sklearn_metrics] Epoch:9 loss:2.1939 accuracy:0.9241 precision:0.9241 recall:0.9241 f1:0.9241\n",
      "[sklearn_metrics] Epoch:10 loss:0.2003 accuracy:0.8984 precision:0.8984 recall:0.8984 f1:0.8984\n",
      "[sklearn_metrics] Epoch:10 loss:0.3388 accuracy:0.9180 precision:0.9180 recall:0.9180 f1:0.9180\n",
      "[sklearn_metrics] Epoch:10 loss:0.4764 accuracy:0.9271 precision:0.9271 recall:0.9271 f1:0.9271\n",
      "[sklearn_metrics] Epoch:10 loss:0.6246 accuracy:0.9297 precision:0.9297 recall:0.9297 f1:0.9297\n",
      "[sklearn_metrics] Epoch:10 loss:0.8132 accuracy:0.9250 precision:0.9250 recall:0.9250 f1:0.9250\n",
      "[sklearn_metrics] Epoch:10 loss:0.9259 accuracy:0.9336 precision:0.9336 recall:0.9336 f1:0.9336\n",
      "[sklearn_metrics] Epoch:10 loss:0.9927 accuracy:0.9397 precision:0.9397 recall:0.9397 f1:0.9397\n",
      "[sklearn_metrics] Epoch:10 loss:1.1992 accuracy:0.9355 precision:0.9355 recall:0.9355 f1:0.9355\n",
      "[sklearn_metrics] Epoch:10 loss:1.3449 accuracy:0.9332 precision:0.9332 recall:0.9332 f1:0.9332\n",
      "[sklearn_metrics] Epoch:10 loss:1.5209 accuracy:0.9320 precision:0.9320 recall:0.9320 f1:0.9320\n",
      "[sklearn_metrics] Epoch:10 loss:1.6301 accuracy:0.9361 precision:0.9361 recall:0.9361 f1:0.9361\n",
      "[sklearn_metrics] Epoch:10 loss:1.7632 accuracy:0.9375 precision:0.9375 recall:0.9375 f1:0.9375\n",
      "[sklearn_metrics] Epoch:10 loss:1.9389 accuracy:0.9351 precision:0.9351 recall:0.9351 f1:0.9351\n",
      "[sklearn_metrics] Epoch:10 loss:1.9848 accuracy:0.9359 precision:0.9359 recall:0.9359 f1:0.9359\n",
      "[sklearn_metrics] Epoch:11 loss:0.1839 accuracy:0.9219 precision:0.9219 recall:0.9219 f1:0.9219\n",
      "[sklearn_metrics] Epoch:11 loss:0.2887 accuracy:0.9414 precision:0.9414 recall:0.9414 f1:0.9414\n",
      "[sklearn_metrics] Epoch:11 loss:0.4502 accuracy:0.9271 precision:0.9271 recall:0.9271 f1:0.9271\n",
      "[sklearn_metrics] Epoch:11 loss:0.6349 accuracy:0.9258 precision:0.9258 recall:0.9258 f1:0.9258\n",
      "[sklearn_metrics] Epoch:11 loss:0.7595 accuracy:0.9297 precision:0.9297 recall:0.9297 f1:0.9297\n",
      "[sklearn_metrics] Epoch:11 loss:0.8965 accuracy:0.9336 precision:0.9336 recall:0.9336 f1:0.9336\n",
      "[sklearn_metrics] Epoch:11 loss:1.0179 accuracy:0.9364 precision:0.9364 recall:0.9364 f1:0.9364\n",
      "[sklearn_metrics] Epoch:11 loss:1.1428 accuracy:0.9375 precision:0.9375 recall:0.9375 f1:0.9375\n",
      "[sklearn_metrics] Epoch:11 loss:1.2680 accuracy:0.9375 precision:0.9375 recall:0.9375 f1:0.9375\n",
      "[sklearn_metrics] Epoch:11 loss:1.3847 accuracy:0.9383 precision:0.9383 recall:0.9383 f1:0.9383\n",
      "[sklearn_metrics] Epoch:11 loss:1.5858 accuracy:0.9361 precision:0.9361 recall:0.9361 f1:0.9361\n",
      "[sklearn_metrics] Epoch:11 loss:1.7264 accuracy:0.9388 precision:0.9388 recall:0.9388 f1:0.9388\n",
      "[sklearn_metrics] Epoch:11 loss:1.8789 accuracy:0.9369 precision:0.9369 recall:0.9369 f1:0.9369\n",
      "[sklearn_metrics] Epoch:11 loss:2.1289 accuracy:0.9347 precision:0.9347 recall:0.9347 f1:0.9347\n",
      "[sklearn_metrics] Epoch:12 loss:0.1940 accuracy:0.9219 precision:0.9219 recall:0.9219 f1:0.9219\n",
      "[sklearn_metrics] Epoch:12 loss:0.5078 accuracy:0.9102 precision:0.9102 recall:0.9102 f1:0.9102\n",
      "[sklearn_metrics] Epoch:12 loss:0.6674 accuracy:0.9115 precision:0.9115 recall:0.9115 f1:0.9115\n",
      "[sklearn_metrics] Epoch:12 loss:0.9521 accuracy:0.9141 precision:0.9141 recall:0.9141 f1:0.9141\n",
      "[sklearn_metrics] Epoch:12 loss:1.0854 accuracy:0.9187 precision:0.9187 recall:0.9187 f1:0.9187\n",
      "[sklearn_metrics] Epoch:12 loss:1.2798 accuracy:0.9167 precision:0.9167 recall:0.9167 f1:0.9167\n",
      "[sklearn_metrics] Epoch:12 loss:1.6130 accuracy:0.9051 precision:0.9051 recall:0.9051 f1:0.9051\n",
      "[sklearn_metrics] Epoch:12 loss:1.7279 accuracy:0.9121 precision:0.9121 recall:0.9121 f1:0.9121\n",
      "[sklearn_metrics] Epoch:12 loss:1.9115 accuracy:0.9132 precision:0.9132 recall:0.9132 f1:0.9132\n",
      "[sklearn_metrics] Epoch:12 loss:2.1466 accuracy:0.9125 precision:0.9125 recall:0.9125 f1:0.9125\n",
      "[sklearn_metrics] Epoch:12 loss:2.3177 accuracy:0.9155 precision:0.9155 recall:0.9155 f1:0.9155\n",
      "[sklearn_metrics] Epoch:12 loss:2.4939 accuracy:0.9173 precision:0.9173 recall:0.9173 f1:0.9173\n",
      "[sklearn_metrics] Epoch:12 loss:2.6539 accuracy:0.9183 precision:0.9183 recall:0.9183 f1:0.9183\n",
      "[sklearn_metrics] Epoch:12 loss:2.7184 accuracy:0.9194 precision:0.9194 recall:0.9194 f1:0.9194\n",
      "[sklearn_metrics] Epoch:13 loss:0.1349 accuracy:0.9609 precision:0.9609 recall:0.9609 f1:0.9609\n",
      "[sklearn_metrics] Epoch:13 loss:0.2756 accuracy:0.9453 precision:0.9453 recall:0.9453 f1:0.9453\n",
      "[sklearn_metrics] Epoch:13 loss:0.4308 accuracy:0.9323 precision:0.9323 recall:0.9323 f1:0.9323\n",
      "[sklearn_metrics] Epoch:13 loss:0.5829 accuracy:0.9297 precision:0.9297 recall:0.9297 f1:0.9297\n",
      "[sklearn_metrics] Epoch:13 loss:0.8017 accuracy:0.9234 precision:0.9234 recall:0.9234 f1:0.9234\n",
      "[sklearn_metrics] Epoch:13 loss:0.9160 accuracy:0.9284 precision:0.9284 recall:0.9284 f1:0.9284\n",
      "[sklearn_metrics] Epoch:13 loss:1.1234 accuracy:0.9252 precision:0.9252 recall:0.9252 f1:0.9252\n",
      "[sklearn_metrics] Epoch:13 loss:1.3426 accuracy:0.9268 precision:0.9268 recall:0.9268 f1:0.9268\n",
      "[sklearn_metrics] Epoch:13 loss:1.5274 accuracy:0.9262 precision:0.9262 recall:0.9262 f1:0.9262\n",
      "[sklearn_metrics] Epoch:13 loss:1.6063 accuracy:0.9305 precision:0.9305 recall:0.9305 f1:0.9305\n",
      "[sklearn_metrics] Epoch:13 loss:1.8123 accuracy:0.9297 precision:0.9297 recall:0.9297 f1:0.9297\n",
      "[sklearn_metrics] Epoch:13 loss:1.9378 accuracy:0.9303 precision:0.9303 recall:0.9303 f1:0.9303\n",
      "[sklearn_metrics] Epoch:13 loss:2.1090 accuracy:0.9309 precision:0.9309 recall:0.9309 f1:0.9309\n",
      "[sklearn_metrics] Epoch:13 loss:2.1971 accuracy:0.9312 precision:0.9312 recall:0.9312 f1:0.9312\n",
      "[sklearn_metrics] Epoch:14 loss:0.1692 accuracy:0.9375 precision:0.9375 recall:0.9375 f1:0.9375\n",
      "[sklearn_metrics] Epoch:14 loss:0.3628 accuracy:0.9219 precision:0.9219 recall:0.9219 f1:0.9219\n",
      "[sklearn_metrics] Epoch:14 loss:0.4988 accuracy:0.9245 precision:0.9245 recall:0.9245 f1:0.9245\n",
      "[sklearn_metrics] Epoch:14 loss:0.6766 accuracy:0.9238 precision:0.9238 recall:0.9238 f1:0.9238\n",
      "[sklearn_metrics] Epoch:14 loss:0.8212 accuracy:0.9266 precision:0.9266 recall:0.9266 f1:0.9266\n",
      "[sklearn_metrics] Epoch:14 loss:0.9308 accuracy:0.9310 precision:0.9310 recall:0.9310 f1:0.9310\n",
      "[sklearn_metrics] Epoch:14 loss:1.0318 accuracy:0.9364 precision:0.9364 recall:0.9364 f1:0.9364\n"
     ]
    },
    {
     "name": "stdout",
     "output_type": "stream",
     "text": [
      "[sklearn_metrics] Epoch:14 loss:1.2197 accuracy:0.9336 precision:0.9336 recall:0.9336 f1:0.9336\n",
      "[sklearn_metrics] Epoch:14 loss:1.3438 accuracy:0.9358 precision:0.9358 recall:0.9358 f1:0.9358\n",
      "[sklearn_metrics] Epoch:14 loss:1.4639 accuracy:0.9344 precision:0.9344 recall:0.9344 f1:0.9344\n",
      "[sklearn_metrics] Epoch:14 loss:1.6035 accuracy:0.9354 precision:0.9354 recall:0.9354 f1:0.9354\n",
      "[sklearn_metrics] Epoch:14 loss:1.7900 accuracy:0.9382 precision:0.9382 recall:0.9382 f1:0.9382\n",
      "[sklearn_metrics] Epoch:14 loss:1.8675 accuracy:0.9405 precision:0.9405 recall:0.9405 f1:0.9405\n",
      "[sklearn_metrics] Epoch:14 loss:2.0396 accuracy:0.9400 precision:0.9400 recall:0.9400 f1:0.9400\n",
      "[sklearn_metrics] Epoch:15 loss:0.1308 accuracy:0.9297 precision:0.9297 recall:0.9297 f1:0.9297\n",
      "[sklearn_metrics] Epoch:15 loss:0.2284 accuracy:0.9414 precision:0.9414 recall:0.9414 f1:0.9414\n",
      "[sklearn_metrics] Epoch:15 loss:0.3129 accuracy:0.9505 precision:0.9505 recall:0.9505 f1:0.9505\n",
      "[sklearn_metrics] Epoch:15 loss:0.4083 accuracy:0.9531 precision:0.9531 recall:0.9531 f1:0.9531\n",
      "[sklearn_metrics] Epoch:15 loss:0.5379 accuracy:0.9516 precision:0.9516 recall:0.9516 f1:0.9516\n",
      "[sklearn_metrics] Epoch:15 loss:0.7176 accuracy:0.9466 precision:0.9466 recall:0.9466 f1:0.9466\n",
      "[sklearn_metrics] Epoch:15 loss:0.9122 accuracy:0.9386 precision:0.9386 recall:0.9386 f1:0.9386\n",
      "[sklearn_metrics] Epoch:15 loss:1.0196 accuracy:0.9424 precision:0.9424 recall:0.9424 f1:0.9424\n",
      "[sklearn_metrics] Epoch:15 loss:1.1622 accuracy:0.9418 precision:0.9418 recall:0.9418 f1:0.9418\n",
      "[sklearn_metrics] Epoch:15 loss:1.2686 accuracy:0.9437 precision:0.9437 recall:0.9437 f1:0.9437\n",
      "[sklearn_metrics] Epoch:15 loss:1.4612 accuracy:0.9411 precision:0.9411 recall:0.9411 f1:0.9411\n",
      "[sklearn_metrics] Epoch:15 loss:1.5872 accuracy:0.9421 precision:0.9421 recall:0.9421 f1:0.9421\n",
      "[sklearn_metrics] Epoch:15 loss:1.7410 accuracy:0.9429 precision:0.9429 recall:0.9429 f1:0.9429\n",
      "[sklearn_metrics] Epoch:15 loss:1.9398 accuracy:0.9429 precision:0.9429 recall:0.9429 f1:0.9429\n",
      "[sklearn_metrics] Epoch:16 loss:0.1286 accuracy:0.9453 precision:0.9453 recall:0.9453 f1:0.9453\n",
      "[sklearn_metrics] Epoch:16 loss:0.2748 accuracy:0.9414 precision:0.9414 recall:0.9414 f1:0.9414\n",
      "[sklearn_metrics] Epoch:16 loss:0.4113 accuracy:0.9505 precision:0.9505 recall:0.9505 f1:0.9505\n",
      "[sklearn_metrics] Epoch:16 loss:0.4879 accuracy:0.9551 precision:0.9551 recall:0.9551 f1:0.9551\n",
      "[sklearn_metrics] Epoch:16 loss:0.6845 accuracy:0.9437 precision:0.9437 recall:0.9437 f1:0.9437\n",
      "[sklearn_metrics] Epoch:16 loss:0.8432 accuracy:0.9401 precision:0.9401 recall:0.9401 f1:0.9401\n",
      "[sklearn_metrics] Epoch:16 loss:0.9684 accuracy:0.9420 precision:0.9420 recall:0.9420 f1:0.9420\n",
      "[sklearn_metrics] Epoch:16 loss:1.1551 accuracy:0.9355 precision:0.9355 recall:0.9355 f1:0.9355\n",
      "[sklearn_metrics] Epoch:16 loss:1.2722 accuracy:0.9358 precision:0.9358 recall:0.9358 f1:0.9358\n",
      "[sklearn_metrics] Epoch:16 loss:1.4569 accuracy:0.9344 precision:0.9344 recall:0.9344 f1:0.9344\n",
      "[sklearn_metrics] Epoch:16 loss:1.5377 accuracy:0.9382 precision:0.9382 recall:0.9382 f1:0.9382\n",
      "[sklearn_metrics] Epoch:16 loss:1.7076 accuracy:0.9368 precision:0.9368 recall:0.9368 f1:0.9368\n",
      "[sklearn_metrics] Epoch:16 loss:1.8363 accuracy:0.9393 precision:0.9393 recall:0.9393 f1:0.9393\n",
      "[sklearn_metrics] Epoch:16 loss:1.9446 accuracy:0.9388 precision:0.9388 recall:0.9388 f1:0.9388\n",
      "[sklearn_metrics] Epoch:17 loss:0.1330 accuracy:0.9688 precision:0.9688 recall:0.9688 f1:0.9688\n",
      "[sklearn_metrics] Epoch:17 loss:0.3027 accuracy:0.9453 precision:0.9453 recall:0.9453 f1:0.9453\n",
      "[sklearn_metrics] Epoch:17 loss:0.4511 accuracy:0.9453 precision:0.9453 recall:0.9453 f1:0.9453\n",
      "[sklearn_metrics] Epoch:17 loss:0.5878 accuracy:0.9434 precision:0.9434 recall:0.9434 f1:0.9434\n",
      "[sklearn_metrics] Epoch:17 loss:0.6848 accuracy:0.9437 precision:0.9437 recall:0.9437 f1:0.9437\n",
      "[sklearn_metrics] Epoch:17 loss:0.7965 accuracy:0.9453 precision:0.9453 recall:0.9453 f1:0.9453\n",
      "[sklearn_metrics] Epoch:17 loss:0.9839 accuracy:0.9386 precision:0.9386 recall:0.9386 f1:0.9386\n",
      "[sklearn_metrics] Epoch:17 loss:1.1226 accuracy:0.9404 precision:0.9404 recall:0.9404 f1:0.9404\n",
      "[sklearn_metrics] Epoch:17 loss:1.2833 accuracy:0.9392 precision:0.9392 recall:0.9392 f1:0.9392\n",
      "[sklearn_metrics] Epoch:17 loss:1.4609 accuracy:0.9367 precision:0.9367 recall:0.9367 f1:0.9367\n",
      "[sklearn_metrics] Epoch:17 loss:1.6518 accuracy:0.9332 precision:0.9332 recall:0.9332 f1:0.9332\n",
      "[sklearn_metrics] Epoch:17 loss:1.7578 accuracy:0.9362 precision:0.9362 recall:0.9362 f1:0.9362\n",
      "[sklearn_metrics] Epoch:17 loss:1.8710 accuracy:0.9381 precision:0.9381 recall:0.9381 f1:0.9381\n",
      "[sklearn_metrics] Epoch:17 loss:1.9839 accuracy:0.9382 precision:0.9382 recall:0.9382 f1:0.9382\n",
      "[sklearn_metrics] Epoch:18 loss:0.0858 accuracy:0.9688 precision:0.9688 recall:0.9688 f1:0.9688\n",
      "[sklearn_metrics] Epoch:18 loss:0.2443 accuracy:0.9531 precision:0.9531 recall:0.9531 f1:0.9531\n",
      "[sklearn_metrics] Epoch:18 loss:0.3865 accuracy:0.9453 precision:0.9453 recall:0.9453 f1:0.9453\n",
      "[sklearn_metrics] Epoch:18 loss:0.5604 accuracy:0.9414 precision:0.9414 recall:0.9414 f1:0.9414\n",
      "[sklearn_metrics] Epoch:18 loss:0.6526 accuracy:0.9453 precision:0.9453 recall:0.9453 f1:0.9453\n",
      "[sklearn_metrics] Epoch:18 loss:0.7739 accuracy:0.9492 precision:0.9492 recall:0.9492 f1:0.9492\n",
      "[sklearn_metrics] Epoch:18 loss:0.9344 accuracy:0.9487 precision:0.9487 recall:0.9487 f1:0.9487\n",
      "[sklearn_metrics] Epoch:18 loss:1.0823 accuracy:0.9482 precision:0.9482 recall:0.9482 f1:0.9482\n",
      "[sklearn_metrics] Epoch:18 loss:1.1994 accuracy:0.9488 precision:0.9488 recall:0.9488 f1:0.9488\n",
      "[sklearn_metrics] Epoch:18 loss:1.3220 accuracy:0.9469 precision:0.9469 recall:0.9469 f1:0.9469\n",
      "[sklearn_metrics] Epoch:18 loss:1.4538 accuracy:0.9467 precision:0.9467 recall:0.9467 f1:0.9467\n",
      "[sklearn_metrics] Epoch:18 loss:1.5640 accuracy:0.9466 precision:0.9466 recall:0.9466 f1:0.9466\n",
      "[sklearn_metrics] Epoch:18 loss:1.7083 accuracy:0.9453 precision:0.9453 recall:0.9453 f1:0.9453\n",
      "[sklearn_metrics] Epoch:18 loss:1.8421 accuracy:0.9453 precision:0.9453 recall:0.9453 f1:0.9453\n",
      "[sklearn_metrics] Epoch:19 loss:0.0909 accuracy:0.9688 precision:0.9688 recall:0.9688 f1:0.9688\n",
      "[sklearn_metrics] Epoch:19 loss:0.1864 accuracy:0.9648 precision:0.9648 recall:0.9648 f1:0.9648\n",
      "[sklearn_metrics] Epoch:19 loss:0.2749 accuracy:0.9635 precision:0.9635 recall:0.9635 f1:0.9635\n",
      "[sklearn_metrics] Epoch:19 loss:0.3798 accuracy:0.9609 precision:0.9609 recall:0.9609 f1:0.9609\n",
      "[sklearn_metrics] Epoch:19 loss:0.5242 accuracy:0.9531 precision:0.9531 recall:0.9531 f1:0.9531\n",
      "[sklearn_metrics] Epoch:19 loss:0.6894 accuracy:0.9492 precision:0.9492 recall:0.9492 f1:0.9492\n",
      "[sklearn_metrics] Epoch:19 loss:0.7924 accuracy:0.9498 precision:0.9498 recall:0.9498 f1:0.9498\n",
      "[sklearn_metrics] Epoch:19 loss:0.9038 accuracy:0.9512 precision:0.9512 recall:0.9512 f1:0.9512\n",
      "[sklearn_metrics] Epoch:19 loss:1.0458 accuracy:0.9470 precision:0.9470 recall:0.9470 f1:0.9470\n",
      "[sklearn_metrics] Epoch:19 loss:1.2140 accuracy:0.9453 precision:0.9453 recall:0.9453 f1:0.9453\n",
      "[sklearn_metrics] Epoch:19 loss:1.2992 accuracy:0.9474 precision:0.9474 recall:0.9474 f1:0.9474\n",
      "[sklearn_metrics] Epoch:19 loss:1.4511 accuracy:0.9460 precision:0.9460 recall:0.9460 f1:0.9460\n",
      "[sklearn_metrics] Epoch:19 loss:1.4927 accuracy:0.9489 precision:0.9489 recall:0.9489 f1:0.9489\n",
      "[sklearn_metrics] Epoch:19 loss:1.6109 accuracy:0.9488 precision:0.9488 recall:0.9488 f1:0.9488\n",
      "[sklearn_metrics] Epoch:20 loss:0.1178 accuracy:0.9453 precision:0.9453 recall:0.9453 f1:0.9453\n",
      "[sklearn_metrics] Epoch:20 loss:0.2072 accuracy:0.9453 precision:0.9453 recall:0.9453 f1:0.9453\n",
      "[sklearn_metrics] Epoch:20 loss:0.4675 accuracy:0.9271 precision:0.9271 recall:0.9271 f1:0.9271\n",
      "[sklearn_metrics] Epoch:20 loss:0.5916 accuracy:0.9277 precision:0.9277 recall:0.9277 f1:0.9277\n",
      "[sklearn_metrics] Epoch:20 loss:0.6440 accuracy:0.9359 precision:0.9359 recall:0.9359 f1:0.9359\n",
      "[sklearn_metrics] Epoch:20 loss:0.7842 accuracy:0.9375 precision:0.9375 recall:0.9375 f1:0.9375\n",
      "[sklearn_metrics] Epoch:20 loss:0.9176 accuracy:0.9364 precision:0.9364 recall:0.9364 f1:0.9364\n",
      "[sklearn_metrics] Epoch:20 loss:1.1522 accuracy:0.9346 precision:0.9346 recall:0.9346 f1:0.9346\n",
      "[sklearn_metrics] Epoch:20 loss:1.2838 accuracy:0.9323 precision:0.9323 recall:0.9323 f1:0.9323\n",
      "[sklearn_metrics] Epoch:20 loss:1.4259 accuracy:0.9305 precision:0.9305 recall:0.9305 f1:0.9305\n",
      "[sklearn_metrics] Epoch:20 loss:1.5781 accuracy:0.9297 precision:0.9297 recall:0.9297 f1:0.9297\n",
      "[sklearn_metrics] Epoch:20 loss:1.6716 accuracy:0.9323 precision:0.9323 recall:0.9323 f1:0.9323\n",
      "[sklearn_metrics] Epoch:20 loss:1.7690 accuracy:0.9345 precision:0.9345 recall:0.9345 f1:0.9345\n",
      "[sklearn_metrics] Epoch:20 loss:1.9363 accuracy:0.9347 precision:0.9347 recall:0.9347 f1:0.9347\n"
     ]
    },
    {
     "name": "stdout",
     "output_type": "stream",
     "text": [
      "[sklearn_metrics] Epoch:21 loss:0.1175 accuracy:0.9531 precision:0.9531 recall:0.9531 f1:0.9531\n",
      "[sklearn_metrics] Epoch:21 loss:0.2627 accuracy:0.9414 precision:0.9414 recall:0.9414 f1:0.9414\n",
      "[sklearn_metrics] Epoch:21 loss:0.3853 accuracy:0.9453 precision:0.9453 recall:0.9453 f1:0.9453\n",
      "[sklearn_metrics] Epoch:21 loss:0.5010 accuracy:0.9434 precision:0.9434 recall:0.9434 f1:0.9434\n",
      "[sklearn_metrics] Epoch:21 loss:0.7124 accuracy:0.9375 precision:0.9375 recall:0.9375 f1:0.9375\n",
      "[sklearn_metrics] Epoch:21 loss:0.9051 accuracy:0.9336 precision:0.9336 recall:0.9336 f1:0.9336\n",
      "[sklearn_metrics] Epoch:21 loss:1.0903 accuracy:0.9330 precision:0.9330 recall:0.9330 f1:0.9330\n",
      "[sklearn_metrics] Epoch:21 loss:1.2113 accuracy:0.9336 precision:0.9336 recall:0.9336 f1:0.9336\n",
      "[sklearn_metrics] Epoch:21 loss:1.3965 accuracy:0.9306 precision:0.9306 recall:0.9306 f1:0.9306\n",
      "[sklearn_metrics] Epoch:21 loss:1.4620 accuracy:0.9336 precision:0.9336 recall:0.9336 f1:0.9336\n",
      "[sklearn_metrics] Epoch:21 loss:1.7051 accuracy:0.9311 precision:0.9311 recall:0.9311 f1:0.9311\n",
      "[sklearn_metrics] Epoch:21 loss:1.8398 accuracy:0.9316 precision:0.9316 recall:0.9316 f1:0.9316\n",
      "[sklearn_metrics] Epoch:21 loss:1.9631 accuracy:0.9333 precision:0.9333 recall:0.9333 f1:0.9333\n",
      "[sklearn_metrics] Epoch:21 loss:2.0970 accuracy:0.9335 precision:0.9335 recall:0.9335 f1:0.9335\n",
      "[sklearn_metrics] Epoch:22 loss:0.0762 accuracy:0.9609 precision:0.9609 recall:0.9609 f1:0.9609\n",
      "[sklearn_metrics] Epoch:22 loss:0.1343 accuracy:0.9648 precision:0.9648 recall:0.9648 f1:0.9648\n",
      "[sklearn_metrics] Epoch:22 loss:0.2336 accuracy:0.9609 precision:0.9609 recall:0.9609 f1:0.9609\n",
      "[sklearn_metrics] Epoch:22 loss:0.3734 accuracy:0.9551 precision:0.9551 recall:0.9551 f1:0.9551\n",
      "[sklearn_metrics] Epoch:22 loss:0.4807 accuracy:0.9531 precision:0.9531 recall:0.9531 f1:0.9531\n",
      "[sklearn_metrics] Epoch:22 loss:0.5642 accuracy:0.9557 precision:0.9557 recall:0.9557 f1:0.9557\n",
      "[sklearn_metrics] Epoch:22 loss:0.7613 accuracy:0.9520 precision:0.9520 recall:0.9520 f1:0.9520\n",
      "[sklearn_metrics] Epoch:22 loss:1.0349 accuracy:0.9482 precision:0.9482 recall:0.9482 f1:0.9482\n",
      "[sklearn_metrics] Epoch:22 loss:1.1611 accuracy:0.9479 precision:0.9479 recall:0.9479 f1:0.9479\n",
      "[sklearn_metrics] Epoch:22 loss:1.2765 accuracy:0.9500 precision:0.9500 recall:0.9500 f1:0.9500\n",
      "[sklearn_metrics] Epoch:22 loss:1.5032 accuracy:0.9489 precision:0.9489 recall:0.9489 f1:0.9489\n",
      "[sklearn_metrics] Epoch:22 loss:1.7044 accuracy:0.9473 precision:0.9473 recall:0.9473 f1:0.9473\n",
      "[sklearn_metrics] Epoch:22 loss:1.8491 accuracy:0.9447 precision:0.9447 recall:0.9447 f1:0.9447\n",
      "[sklearn_metrics] Epoch:22 loss:1.9885 accuracy:0.9447 precision:0.9447 recall:0.9447 f1:0.9447\n",
      "[sklearn_metrics] Epoch:23 loss:0.1697 accuracy:0.9609 precision:0.9609 recall:0.9609 f1:0.9609\n",
      "[sklearn_metrics] Epoch:23 loss:0.3732 accuracy:0.9531 precision:0.9531 recall:0.9531 f1:0.9531\n",
      "[sklearn_metrics] Epoch:23 loss:0.4963 accuracy:0.9479 precision:0.9479 recall:0.9479 f1:0.9479\n",
      "[sklearn_metrics] Epoch:23 loss:0.6683 accuracy:0.9434 precision:0.9434 recall:0.9434 f1:0.9434\n",
      "[sklearn_metrics] Epoch:23 loss:0.7592 accuracy:0.9484 precision:0.9484 recall:0.9484 f1:0.9484\n",
      "[sklearn_metrics] Epoch:23 loss:0.8666 accuracy:0.9479 precision:0.9479 recall:0.9479 f1:0.9479\n",
      "[sklearn_metrics] Epoch:23 loss:0.9755 accuracy:0.9475 precision:0.9475 recall:0.9475 f1:0.9475\n",
      "[sklearn_metrics] Epoch:23 loss:1.1225 accuracy:0.9463 precision:0.9463 recall:0.9463 f1:0.9463\n",
      "[sklearn_metrics] Epoch:23 loss:1.2079 accuracy:0.9479 precision:0.9479 recall:0.9479 f1:0.9479\n",
      "[sklearn_metrics] Epoch:23 loss:1.2847 accuracy:0.9492 precision:0.9492 recall:0.9492 f1:0.9492\n",
      "[sklearn_metrics] Epoch:23 loss:1.4163 accuracy:0.9482 precision:0.9482 recall:0.9482 f1:0.9482\n",
      "[sklearn_metrics] Epoch:23 loss:1.6347 accuracy:0.9440 precision:0.9440 recall:0.9440 f1:0.9440\n",
      "[sklearn_metrics] Epoch:23 loss:1.7747 accuracy:0.9429 precision:0.9429 recall:0.9429 f1:0.9429\n",
      "[sklearn_metrics] Epoch:23 loss:1.9036 accuracy:0.9429 precision:0.9429 recall:0.9429 f1:0.9429\n",
      "[sklearn_metrics] Epoch:24 loss:0.0744 accuracy:0.9688 precision:0.9688 recall:0.9688 f1:0.9688\n",
      "[sklearn_metrics] Epoch:24 loss:0.1983 accuracy:0.9492 precision:0.9492 recall:0.9492 f1:0.9492\n",
      "[sklearn_metrics] Epoch:24 loss:0.3012 accuracy:0.9505 precision:0.9505 recall:0.9505 f1:0.9505\n",
      "[sklearn_metrics] Epoch:24 loss:0.3773 accuracy:0.9531 precision:0.9531 recall:0.9531 f1:0.9531\n",
      "[sklearn_metrics] Epoch:24 loss:0.4642 accuracy:0.9578 precision:0.9578 recall:0.9578 f1:0.9578\n",
      "[sklearn_metrics] Epoch:24 loss:0.5689 accuracy:0.9570 precision:0.9570 recall:0.9570 f1:0.9570\n",
      "[sklearn_metrics] Epoch:24 loss:0.7493 accuracy:0.9531 precision:0.9531 recall:0.9531 f1:0.9531\n",
      "[sklearn_metrics] Epoch:24 loss:0.8326 accuracy:0.9541 precision:0.9541 recall:0.9541 f1:0.9541\n",
      "[sklearn_metrics] Epoch:24 loss:0.9319 accuracy:0.9531 precision:0.9531 recall:0.9531 f1:0.9531\n",
      "[sklearn_metrics] Epoch:24 loss:1.0472 accuracy:0.9516 precision:0.9516 recall:0.9516 f1:0.9516\n",
      "[sklearn_metrics] Epoch:24 loss:1.1597 accuracy:0.9503 precision:0.9503 recall:0.9503 f1:0.9503\n",
      "[sklearn_metrics] Epoch:24 loss:1.3298 accuracy:0.9479 precision:0.9479 recall:0.9479 f1:0.9479\n",
      "[sklearn_metrics] Epoch:24 loss:1.4807 accuracy:0.9483 precision:0.9483 recall:0.9483 f1:0.9483\n",
      "[sklearn_metrics] Epoch:24 loss:1.5240 accuracy:0.9488 precision:0.9488 recall:0.9488 f1:0.9488\n",
      "[sklearn_metrics] Epoch:25 loss:0.1016 accuracy:0.9531 precision:0.9531 recall:0.9531 f1:0.9531\n",
      "[sklearn_metrics] Epoch:25 loss:0.2282 accuracy:0.9414 precision:0.9414 recall:0.9414 f1:0.9414\n",
      "[sklearn_metrics] Epoch:25 loss:0.3331 accuracy:0.9453 precision:0.9453 recall:0.9453 f1:0.9453\n",
      "[sklearn_metrics] Epoch:25 loss:0.3871 accuracy:0.9551 precision:0.9551 recall:0.9551 f1:0.9551\n",
      "[sklearn_metrics] Epoch:25 loss:0.4804 accuracy:0.9563 precision:0.9563 recall:0.9563 f1:0.9563\n",
      "[sklearn_metrics] Epoch:25 loss:0.5919 accuracy:0.9531 precision:0.9531 recall:0.9531 f1:0.9531\n",
      "[sklearn_metrics] Epoch:25 loss:0.6713 accuracy:0.9565 precision:0.9565 recall:0.9565 f1:0.9565\n",
      "[sklearn_metrics] Epoch:25 loss:0.7678 accuracy:0.9580 precision:0.9580 recall:0.9580 f1:0.9580\n",
      "[sklearn_metrics] Epoch:25 loss:0.8974 accuracy:0.9566 precision:0.9566 recall:0.9566 f1:0.9566\n",
      "[sklearn_metrics] Epoch:25 loss:1.1015 accuracy:0.9516 precision:0.9516 recall:0.9516 f1:0.9516\n",
      "[sklearn_metrics] Epoch:25 loss:1.2086 accuracy:0.9531 precision:0.9531 recall:0.9531 f1:0.9531\n",
      "[sklearn_metrics] Epoch:25 loss:1.2939 accuracy:0.9544 precision:0.9544 recall:0.9544 f1:0.9544\n",
      "[sklearn_metrics] Epoch:25 loss:1.4078 accuracy:0.9543 precision:0.9543 recall:0.9543 f1:0.9543\n",
      "[sklearn_metrics] Epoch:25 loss:1.5036 accuracy:0.9541 precision:0.9541 recall:0.9541 f1:0.9541\n",
      "[sklearn_metrics] Epoch:26 loss:0.2864 accuracy:0.9141 precision:0.9141 recall:0.9141 f1:0.9141\n",
      "[sklearn_metrics] Epoch:26 loss:0.4622 accuracy:0.9336 precision:0.9336 recall:0.9336 f1:0.9336\n",
      "[sklearn_metrics] Epoch:26 loss:0.5569 accuracy:0.9453 precision:0.9453 recall:0.9453 f1:0.9453\n",
      "[sklearn_metrics] Epoch:26 loss:0.6388 accuracy:0.9492 precision:0.9492 recall:0.9492 f1:0.9492\n",
      "[sklearn_metrics] Epoch:26 loss:0.7557 accuracy:0.9484 precision:0.9484 recall:0.9484 f1:0.9484\n",
      "[sklearn_metrics] Epoch:26 loss:0.8186 accuracy:0.9544 precision:0.9544 recall:0.9544 f1:0.9544\n",
      "[sklearn_metrics] Epoch:26 loss:0.9170 accuracy:0.9554 precision:0.9554 recall:0.9554 f1:0.9554\n",
      "[sklearn_metrics] Epoch:26 loss:1.1522 accuracy:0.9541 precision:0.9541 recall:0.9541 f1:0.9541\n",
      "[sklearn_metrics] Epoch:26 loss:1.3138 accuracy:0.9497 precision:0.9497 recall:0.9497 f1:0.9497\n",
      "[sklearn_metrics] Epoch:26 loss:1.4443 accuracy:0.9508 precision:0.9508 recall:0.9508 f1:0.9508\n",
      "[sklearn_metrics] Epoch:26 loss:1.6161 accuracy:0.9496 precision:0.9496 recall:0.9496 f1:0.9496\n",
      "[sklearn_metrics] Epoch:26 loss:1.7254 accuracy:0.9499 precision:0.9499 recall:0.9499 f1:0.9499\n",
      "[sklearn_metrics] Epoch:26 loss:1.8198 accuracy:0.9513 precision:0.9513 recall:0.9513 f1:0.9513\n",
      "[sklearn_metrics] Epoch:26 loss:2.0005 accuracy:0.9512 precision:0.9512 recall:0.9512 f1:0.9512\n",
      "[sklearn_metrics] Epoch:27 loss:0.0886 accuracy:0.9688 precision:0.9688 recall:0.9688 f1:0.9688\n",
      "[sklearn_metrics] Epoch:27 loss:0.1749 accuracy:0.9766 precision:0.9766 recall:0.9766 f1:0.9766\n",
      "[sklearn_metrics] Epoch:27 loss:0.3175 accuracy:0.9661 precision:0.9661 recall:0.9661 f1:0.9661\n",
      "[sklearn_metrics] Epoch:27 loss:0.4071 accuracy:0.9648 precision:0.9648 recall:0.9648 f1:0.9648\n",
      "[sklearn_metrics] Epoch:27 loss:0.5631 accuracy:0.9609 precision:0.9609 recall:0.9609 f1:0.9609\n",
      "[sklearn_metrics] Epoch:27 loss:0.6793 accuracy:0.9609 precision:0.9609 recall:0.9609 f1:0.9609\n"
     ]
    },
    {
     "name": "stdout",
     "output_type": "stream",
     "text": [
      "[sklearn_metrics] Epoch:27 loss:0.8100 accuracy:0.9598 precision:0.9598 recall:0.9598 f1:0.9598\n",
      "[sklearn_metrics] Epoch:27 loss:0.9138 accuracy:0.9600 precision:0.9600 recall:0.9600 f1:0.9600\n",
      "[sklearn_metrics] Epoch:27 loss:1.0434 accuracy:0.9601 precision:0.9601 recall:0.9601 f1:0.9601\n",
      "[sklearn_metrics] Epoch:27 loss:1.3021 accuracy:0.9563 precision:0.9563 recall:0.9563 f1:0.9563\n",
      "[sklearn_metrics] Epoch:27 loss:1.4855 accuracy:0.9531 precision:0.9531 recall:0.9531 f1:0.9531\n",
      "[sklearn_metrics] Epoch:27 loss:1.5698 accuracy:0.9531 precision:0.9531 recall:0.9531 f1:0.9531\n",
      "[sklearn_metrics] Epoch:27 loss:1.6797 accuracy:0.9525 precision:0.9525 recall:0.9525 f1:0.9525\n",
      "[sklearn_metrics] Epoch:27 loss:1.7742 accuracy:0.9524 precision:0.9524 recall:0.9524 f1:0.9524\n",
      "[sklearn_metrics] Epoch:28 loss:0.0988 accuracy:0.9375 precision:0.9375 recall:0.9375 f1:0.9375\n",
      "[sklearn_metrics] Epoch:28 loss:0.1517 accuracy:0.9570 precision:0.9570 recall:0.9570 f1:0.9570\n",
      "[sklearn_metrics] Epoch:28 loss:0.2621 accuracy:0.9609 precision:0.9609 recall:0.9609 f1:0.9609\n",
      "[sklearn_metrics] Epoch:28 loss:0.3554 accuracy:0.9570 precision:0.9570 recall:0.9570 f1:0.9570\n",
      "[sklearn_metrics] Epoch:28 loss:0.5329 accuracy:0.9484 precision:0.9484 recall:0.9484 f1:0.9484\n",
      "[sklearn_metrics] Epoch:28 loss:0.7077 accuracy:0.9414 precision:0.9414 recall:0.9414 f1:0.9414\n",
      "[sklearn_metrics] Epoch:28 loss:0.8077 accuracy:0.9453 precision:0.9453 recall:0.9453 f1:0.9453\n",
      "[sklearn_metrics] Epoch:28 loss:0.9016 accuracy:0.9463 precision:0.9463 recall:0.9463 f1:0.9463\n",
      "[sklearn_metrics] Epoch:28 loss:1.0380 accuracy:0.9470 precision:0.9470 recall:0.9470 f1:0.9470\n",
      "[sklearn_metrics] Epoch:28 loss:1.1546 accuracy:0.9492 precision:0.9492 recall:0.9492 f1:0.9492\n",
      "[sklearn_metrics] Epoch:28 loss:1.2508 accuracy:0.9503 precision:0.9503 recall:0.9503 f1:0.9503\n",
      "[sklearn_metrics] Epoch:28 loss:1.3922 accuracy:0.9486 precision:0.9486 recall:0.9486 f1:0.9486\n",
      "[sklearn_metrics] Epoch:28 loss:1.4872 accuracy:0.9495 precision:0.9495 recall:0.9495 f1:0.9495\n",
      "[sklearn_metrics] Epoch:28 loss:1.5594 accuracy:0.9500 precision:0.9500 recall:0.9500 f1:0.9500\n",
      "[sklearn_metrics] Epoch:29 loss:0.0833 accuracy:0.9609 precision:0.9609 recall:0.9609 f1:0.9609\n",
      "[sklearn_metrics] Epoch:29 loss:0.1687 accuracy:0.9727 precision:0.9727 recall:0.9727 f1:0.9727\n",
      "[sklearn_metrics] Epoch:29 loss:0.2558 accuracy:0.9635 precision:0.9635 recall:0.9635 f1:0.9635\n",
      "[sklearn_metrics] Epoch:29 loss:0.3537 accuracy:0.9590 precision:0.9590 recall:0.9590 f1:0.9590\n",
      "[sklearn_metrics] Epoch:29 loss:0.4948 accuracy:0.9563 precision:0.9563 recall:0.9563 f1:0.9563\n",
      "[sklearn_metrics] Epoch:29 loss:0.6064 accuracy:0.9583 precision:0.9583 recall:0.9583 f1:0.9583\n",
      "[sklearn_metrics] Epoch:29 loss:0.7164 accuracy:0.9554 precision:0.9554 recall:0.9554 f1:0.9554\n",
      "[sklearn_metrics] Epoch:29 loss:0.8427 accuracy:0.9541 precision:0.9541 recall:0.9541 f1:0.9541\n",
      "[sklearn_metrics] Epoch:29 loss:0.9804 accuracy:0.9523 precision:0.9523 recall:0.9523 f1:0.9523\n",
      "[sklearn_metrics] Epoch:29 loss:1.0817 accuracy:0.9547 precision:0.9547 recall:0.9547 f1:0.9547\n",
      "[sklearn_metrics] Epoch:29 loss:1.2368 accuracy:0.9538 precision:0.9538 recall:0.9538 f1:0.9538\n",
      "[sklearn_metrics] Epoch:29 loss:1.3624 accuracy:0.9531 precision:0.9531 recall:0.9531 f1:0.9531\n",
      "[sklearn_metrics] Epoch:29 loss:1.4282 accuracy:0.9543 precision:0.9543 recall:0.9543 f1:0.9543\n",
      "[sklearn_metrics] Epoch:29 loss:1.5828 accuracy:0.9541 precision:0.9541 recall:0.9541 f1:0.9541\n",
      "execution_time_ann 2.6988\n",
      "Loss score is:  0.2610182214676764\n",
      "              precision    recall  f1-score   support\n",
      "\n",
      "           0       0.97      0.94      0.95       101\n",
      "           1       0.68      0.88      0.77        17\n",
      "           2       1.00      0.80      0.89        10\n",
      "\n",
      "    accuracy                           0.92       128\n",
      "   macro avg       0.88      0.87      0.87       128\n",
      "weighted avg       0.93      0.92      0.92       128\n",
      "\n",
      "[[95  6  0]\n",
      " [ 2 15  0]\n",
      " [ 1  1  8]]\n",
      "[sklearn_metrics] accuracy:0.9219 precision:0.9219 recall:0.9219 f1:0.9219\n",
      "Loss score is:  0.41665718487314596\n",
      "              precision    recall  f1-score   support\n",
      "\n",
      "           0       0.96      0.94      0.95       198\n",
      "           1       0.69      0.86      0.77        36\n",
      "           2       0.94      0.77      0.85        22\n",
      "\n",
      "    accuracy                           0.91       256\n",
      "   macro avg       0.87      0.86      0.86       256\n",
      "weighted avg       0.92      0.91      0.92       256\n",
      "\n",
      "[[186  12   0]\n",
      " [  4  31   1]\n",
      " [  3   2  17]]\n",
      "[sklearn_metrics] accuracy:0.9141 precision:0.9141 recall:0.9141 f1:0.9141\n",
      "Loss score is:  0.3797252511312421\n",
      "              precision    recall  f1-score   support\n",
      "\n",
      "           0       0.97      0.94      0.96       299\n",
      "           1       0.66      0.87      0.75        53\n",
      "           2       0.96      0.69      0.80        32\n",
      "\n",
      "    accuracy                           0.91       384\n",
      "   macro avg       0.86      0.83      0.83       384\n",
      "weighted avg       0.92      0.91      0.91       384\n",
      "\n",
      "[[282  17   0]\n",
      " [  6  46   1]\n",
      " [  3   7  22]]\n",
      "[sklearn_metrics] accuracy:0.9115 precision:0.9115 recall:0.9115 f1:0.9115\n",
      "Loss score is:  0.4220331533076809\n",
      "              precision    recall  f1-score   support\n",
      "\n",
      "           0       0.97      0.94      0.95       332\n",
      "           1       0.66      0.85      0.74        59\n",
      "           2       0.96      0.71      0.82        35\n",
      "\n",
      "    accuracy                           0.91       426\n",
      "   macro avg       0.86      0.83      0.84       426\n",
      "weighted avg       0.92      0.91      0.91       426\n",
      "\n",
      "[[313  19   0]\n",
      " [  8  50   1]\n",
      " [  3   7  25]]\n",
      "[sklearn_metrics] accuracy:0.9108 precision:0.9108 recall:0.9108 f1:0.9108\n"
     ]
    }
   ],
   "source": [
    "start=datetime.now()\n",
    "\n",
    "total_step = len(train_loader)\n",
    "model.train()\n",
    "for epoch in range(epochs):\n",
    "    tot_loss = 0.0\n",
    "    tot_acc = 0.0\n",
    "    train_preds = []\n",
    "    train_trues = []\n",
    "  # model.train()\n",
    "    for i,(train_data_batch, train_label_batch) in enumerate(train_loader):\n",
    "        train_data_batch = train_data_batch.float().to(device) # 将double数据转换为float\n",
    "        train_label_batch = train_label_batch.to(device)\n",
    "        outputs = model(train_data_batch)\n",
    "        # _, preds = torch.max(outputs.data, 1)\n",
    "        loss = criterion(outputs, train_label_batch)\n",
    "        # print(loss)\n",
    "        #反向传播优化网络参数\n",
    "        loss.backward()\n",
    "        optimizer.step()\n",
    "        optimizer.zero_grad()\n",
    "        #累加每个step的损失\n",
    "        tot_loss += loss.data\n",
    "        train_outputs = outputs.argmax(dim=1)\n",
    "        train_preds.extend(train_outputs.detach().cpu().numpy())\n",
    "        train_trues.extend(train_label_batch.detach().cpu().numpy())\n",
    "        # tot_acc += (outputs.argmax(dim=1) == train_label_batch).sum().item()\n",
    "        sklearn_accuracy = accuracy_score(train_trues, train_preds)\n",
    "        sklearn_precision = precision_score(train_trues, train_preds, average='micro')\n",
    "        sklearn_recall = recall_score(train_trues, train_preds, average='micro')\n",
    "        sklearn_f1 = f1_score(train_trues, train_preds, average='micro')\n",
    "        print(\"[sklearn_metrics] Epoch:{} loss:{:.4f} accuracy:{:.4f} precision:{:.4f} recall:{:.4f} f1:{:.4f}\".format(epoch, tot_loss, sklearn_accuracy, sklearn_precision, sklearn_recall, sklearn_f1))\n",
    "stop=datetime.now()\n",
    "execution_time_ann=(stop-start)\n",
    "execution_time_ann='%.4f'%(execution_time_ann).total_seconds()\n",
    "print('execution_time_ann',execution_time_ann)\n",
    "test_preds = []\n",
    "test_trues = []\n",
    "model.eval()\n",
    "with torch.no_grad():\n",
    "    for i,(test_data_batch, test_data_label) in enumerate(test_loader):\n",
    "        test_data_batch = test_data_batch.float().to(device) # 将double数据转换为float\n",
    "        test_data_label = test_data_label.to(device)\n",
    "        test_outputs = model(test_data_batch)\n",
    "        \n",
    "        probs = F.softmax(test_outputs, dim=1)\n",
    "        test_outputs = test_outputs.argmax(dim=1)\n",
    "        testloss = criterion(probs, test_data_label)\n",
    "#         preds = torch.argmax(logits, dim=1)\n",
    "        test_preds.extend(test_outputs.detach().cpu().numpy())\n",
    "        test_trues.extend(test_data_label.detach().cpu().numpy())\n",
    "        sklearn_accuracy = accuracy_score(test_trues, test_preds)\n",
    "        sklearn_precision = precision_score(test_trues, test_preds, average='micro')\n",
    "        sklearn_recall = recall_score(test_trues, test_preds, average='micro')\n",
    "        sklearn_f1 = f1_score(test_trues, test_preds, average='micro')\n",
    "        print(\"Loss score is: \", log_loss(test_data_label,probs))\n",
    "        print(classification_report(test_trues, test_preds))\n",
    "        conf_matrix = confusion_matrix(test_trues, test_preds)\n",
    "        print(conf_matrix)\n",
    "#         plot_confusion_matrix(conf_matrix)\n",
    "        print(\"[sklearn_metrics] accuracy:{:.4f} precision:{:.4f} recall:{:.4f} f1:{:.4f}\".format(sklearn_accuracy, sklearn_precision, sklearn_recall, sklearn_f1))"
   ]
  },
  {
   "cell_type": "code",
   "execution_count": 43,
   "id": "597a292b",
   "metadata": {},
   "outputs": [
    {
     "data": {
      "image/png": "[encoded data removed]",
      "text/plain": [
       "<Figure size 432x288 with 2 Axes>"
      ]
     },
     "metadata": {
      "needs_background": "light"
     },
     "output_type": "display_data"
    }
   ],
   "source": [
    "ConfusionMatrixDisplay.from_predictions(test_trues, test_preds)\n",
    "\n",
    "plt.show()"
   ]
  },
  {
   "cell_type": "code",
   "execution_count": 44,
   "id": "f9351f19",
   "metadata": {},
   "outputs": [
    {
     "name": "stdout",
     "output_type": "stream",
     "text": [
      "              precision    recall  f1-score   support\n",
      "\n",
      "           0       0.97      0.94      0.95       332\n",
      "           1       0.66      0.85      0.74        59\n",
      "           2       0.96      0.71      0.82        35\n",
      "\n",
      "    accuracy                           0.91       426\n",
      "   macro avg       0.86      0.83      0.84       426\n",
      "weighted avg       0.92      0.91      0.91       426\n",
      "\n"
     ]
    }
   ],
   "source": [
    "print(classification_report(test_trues, test_preds,zero_division=1))"
   ]
  },
  {
   "cell_type": "code",
   "execution_count": 45,
   "id": "67e68e00",
   "metadata": {},
   "outputs": [
    {
     "data": {
      "text/plain": [
       "tensor(0.6466)"
      ]
     },
     "execution_count": 45,
     "metadata": {},
     "output_type": "execute_result"
    }
   ],
   "source": [
    "testloss"
   ]
  },
  {
   "cell_type": "code",
   "execution_count": 46,
   "id": "cf9eb35a",
   "metadata": {},
   "outputs": [
    {
     "name": "stdout",
     "output_type": "stream",
     "text": [
      "0.9107981220657277\n"
     ]
    }
   ],
   "source": [
    "print(accuracy_score(test_trues, test_preds))"
   ]
  },
  {
   "cell_type": "code",
   "execution_count": 47,
   "id": "6d31083c",
   "metadata": {},
   "outputs": [
    {
     "name": "stdout",
     "output_type": "stream",
     "text": [
      "Loss score is:  0.4220331533076809\n"
     ]
    }
   ],
   "source": [
    " print(\"Loss score is: \", log_loss(test_data_label,probs))"
   ]
  },
  {
   "cell_type": "code",
   "execution_count": 48,
   "id": "64d694a7",
   "metadata": {},
   "outputs": [
    {
     "data": {
      "text/plain": [
       "'2.6988'"
      ]
     },
     "execution_count": 48,
     "metadata": {},
     "output_type": "execute_result"
    }
   ],
   "source": [
    "execution_time_ann"
   ]
  },
  {
   "cell_type": "code",
   "execution_count": 49,
   "id": "ef38b9d6",
   "metadata": {},
   "outputs": [],
   "source": [
    "ann_accuracy='%.4f'% accuracy_score(test_trues, test_preds)\n",
    "# 0.7386"
   ]
  },
  {
   "cell_type": "code",
   "execution_count": 50,
   "id": "38b9d130",
   "metadata": {},
   "outputs": [],
   "source": [
    "ann_f1='%.4f'% f1_score(test_trues, test_preds, average='micro')"
   ]
  },
  {
   "cell_type": "code",
   "execution_count": 51,
   "id": "91632119",
   "metadata": {},
   "outputs": [],
   "source": [
    "ann_roc_auc='%.4f'% roc_auc_score(test_data_label,probs,multi_class='ovr')"
   ]
  },
  {
   "cell_type": "code",
   "execution_count": 52,
   "id": "3bd4ae29",
   "metadata": {},
   "outputs": [],
   "source": [
    "ann_loss='%.4f'% testloss"
   ]
  },
  {
   "cell_type": "code",
   "execution_count": 53,
   "id": "9485da59",
   "metadata": {},
   "outputs": [
    {
     "data": {
      "text/plain": [
       "'0.9569'"
      ]
     },
     "execution_count": 53,
     "metadata": {},
     "output_type": "execute_result"
    }
   ],
   "source": [
    "ann_roc_auc"
   ]
  },
  {
   "cell_type": "code",
   "execution_count": 54,
   "id": "e68f5baa",
   "metadata": {},
   "outputs": [
    {
     "data": {
      "text/plain": [
       "0.4220331533076809"
      ]
     },
     "execution_count": 54,
     "metadata": {},
     "output_type": "execute_result"
    }
   ],
   "source": [
    "log_loss(test_data_label,probs)"
   ]
  },
  {
   "cell_type": "code",
   "execution_count": 55,
   "id": "27d0095a",
   "metadata": {},
   "outputs": [
    {
     "data": {
      "text/html": [
       "<div>\n",
       "<style scoped>\n",
       "    .dataframe tbody tr th:only-of-type {\n",
       "        vertical-align: middle;\n",
       "    }\n",
       "\n",
       "    .dataframe tbody tr th {\n",
       "        vertical-align: top;\n",
       "    }\n",
       "\n",
       "    .dataframe thead th {\n",
       "        text-align: right;\n",
       "    }\n",
       "</style>\n",
       "<table border=\"1\" class=\"dataframe\">\n",
       "  <thead>\n",
       "    <tr style=\"text-align: right;\">\n",
       "      <th></th>\n",
       "      <th>accuracy</th>\n",
       "      <th>f1_score</th>\n",
       "      <th>roc_auc</th>\n",
       "      <th>cross_entropy_loss</th>\n",
       "      <th>training_time[s]</th>\n",
       "    </tr>\n",
       "  </thead>\n",
       "  <tbody>\n",
       "    <tr>\n",
       "      <th>Light GBM</th>\n",
       "      <td>0.9319</td>\n",
       "      <td>0.9319</td>\n",
       "      <td>0.9825</td>\n",
       "      <td>0.1832</td>\n",
       "      <td>0.6258</td>\n",
       "    </tr>\n",
       "    <tr>\n",
       "      <th>SVM</th>\n",
       "      <td>0.9225</td>\n",
       "      <td>0.9225</td>\n",
       "      <td>0.9739</td>\n",
       "      <td>0.2152</td>\n",
       "      <td>0.2375</td>\n",
       "    </tr>\n",
       "    <tr>\n",
       "      <th>Random Forest</th>\n",
       "      <td>0.9390</td>\n",
       "      <td>0.9390</td>\n",
       "      <td>0.9833</td>\n",
       "      <td>0.1816</td>\n",
       "      <td>0.2514</td>\n",
       "    </tr>\n",
       "    <tr>\n",
       "      <th>PyTorch ANN</th>\n",
       "      <td>0.9108</td>\n",
       "      <td>0.9108</td>\n",
       "      <td>0.9569</td>\n",
       "      <td>0.6466</td>\n",
       "      <td>2.6988</td>\n",
       "    </tr>\n",
       "  </tbody>\n",
       "</table>\n",
       "</div>"
      ],
      "text/plain": [
       "              accuracy f1_score roc_auc cross_entropy_loss training_time[s]\n",
       "Light GBM       0.9319   0.9319  0.9825             0.1832           0.6258\n",
       "SVM             0.9225   0.9225  0.9739             0.2152           0.2375\n",
       "Random Forest   0.9390   0.9390  0.9833             0.1816           0.2514\n",
       "PyTorch ANN     0.9108   0.9108  0.9569             0.6466           2.6988"
      ]
     },
     "execution_count": 55,
     "metadata": {},
     "output_type": "execute_result"
    }
   ],
   "source": [
    "CTGNSP_dict = { \n",
    "              'accuracy':[lgbm_accuracy,svc_accuracy0,rf_accuracy,ann_accuracy],\n",
    "               'f1_score': [lgbm_f1,svc_f10,rf_f1,ann_f1],\n",
    "               'roc_auc': [lgbm_roc_auc,svc_roc_auc0,rf_roc_auc,ann_roc_auc],\n",
    "               'cross_entropy_loss': [lgbm_loss,svc_loss0,rf_loss,ann_loss],\n",
    "                'training_time[s]':[training_time_lgbm,training_time_svm,training_time_rf,execution_time_ann ]\n",
    "               }\n",
    "pr_df_ctgnsp = pd.DataFrame(CTGNSP_dict,index=['Light GBM','SVM','Random Forest','PyTorch ANN'])\n",
    "pr_df_ctgnsp"
   ]
  },
  {
   "cell_type": "code",
   "execution_count": 56,
   "id": "2fdf3425",
   "metadata": {},
   "outputs": [],
   "source": [
    "pr_df_ctgnsp.to_csv('CTGNSP Score.csv')"
   ]
  }
 ],
 "metadata": {
  "kernelspec": {
   "display_name": "Python 3 (ipykernel)",
   "language": "python",
   "name": "python3"
  },
  "language_info": {
   "codemirror_mode": {
    "name": "ipython",
    "version": 3
   },
   "file_extension": ".py",
   "mimetype": "text/x-python",
   "name": "python",
   "nbconvert_exporter": "python",
   "pygments_lexer": "ipython3",
   "version": "3.9.7"
  },
  "toc": {
   "base_numbering": 1,
   "nav_menu": {},
   "number_sections": true,
   "sideBar": true,
   "skip_h1_title": false,
   "title_cell": "Table of Contents",
   "title_sidebar": "Contents",
   "toc_cell": false,
   "toc_position": {},
   "toc_section_display": true,
   "toc_window_display": false
  }
 },
 "nbformat": 4,
 "nbformat_minor": 5
}

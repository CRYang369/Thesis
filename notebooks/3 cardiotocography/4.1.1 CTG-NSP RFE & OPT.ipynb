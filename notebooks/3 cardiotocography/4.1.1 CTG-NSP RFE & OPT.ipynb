{
 "cells": [
  {
   "cell_type": "markdown",
   "id": "0c3f09e0",
   "metadata": {},
   "source": [
    "# Import the package"
   ]
  },
  {
   "cell_type": "code",
   "execution_count": 1,
   "id": "3a9cc4cf",
   "metadata": {},
   "outputs": [],
   "source": [
    "from datetime import datetime\n",
    "import lightgbm as lgb\n",
    "from lightgbm import LGBMClassifier\n",
    "from lightgbm import plot_importance\n",
    "import matplotlib.pyplot as plt\n",
    "from matplotlib import pyplot\n",
    "from matplotlib.pyplot import MultipleLocator\n",
    "%matplotlib inline\n",
    "import numpy as np\n",
    "from numpy import mean\n",
    "from numpy import std\n",
    "from numpy import sort\n",
    "import pandas as pd\n",
    "from pandas.core.frame import DataFrame\n",
    "from sklearn.svm import SVC\n",
    "from sklearn.decomposition import PCA\n",
    "from sklearn.ensemble import RandomForestClassifier as RFC\n",
    "from sklearn.feature_selection import SelectFromModel\n",
    "from sklearn import metrics\n",
    "from sklearn.metrics import f1_score  \n",
    "from sklearn.metrics import ConfusionMatrixDisplay\n",
    "from sklearn.metrics import confusion_matrix,roc_curve,roc_auc_score,accuracy_score, plot_confusion_matrix,classification_report\n",
    "from sklearn.model_selection import cross_val_score\n",
    "from sklearn.model_selection import GridSearchCV\n",
    "from sklearn.model_selection import RepeatedStratifiedKFold\n",
    "from sklearn.model_selection import train_test_split\n",
    "from sklearn.metrics import precision_score, recall_score, f1_score\n",
    "from sklearn.preprocessing import LabelEncoder\n",
    "from sklearn.preprocessing import OneHotEncoder\n",
    "from sklearn.preprocessing import StandardScaler\n",
    "from sklearn.utils import class_weight\n",
    "from sklearn.metrics import log_loss\n",
    "import seaborn as sns\n",
    "from time import time\n",
    "import pprint\n",
    "import warnings\n",
    "warnings.filterwarnings(\"ignore\")\n",
    "from sklearn.model_selection import StratifiedKFold\n",
    "from sklearn.metrics import make_scorer\n",
    "from skopt import BayesSearchCV\n",
    "from skopt.callbacks import DeadlineStopper,DeltaYStopper\n",
    "from skopt.space import Real,Categorical,Integer\n",
    "from sklearn.feature_selection import RFECV\n",
    "from sklearn.feature_selection import RFE\n",
    "import joblib"
   ]
  },
  {
   "cell_type": "markdown",
   "id": "08a9366c",
   "metadata": {},
   "source": [
    "# Dataset"
   ]
  },
  {
   "cell_type": "code",
   "execution_count": 2,
   "id": "63c2583c",
   "metadata": {},
   "outputs": [],
   "source": [
    "CTGData=pd.read_csv('CTG.csv')"
   ]
  },
  {
   "cell_type": "code",
   "execution_count": 3,
   "id": "60ee0cc1",
   "metadata": {},
   "outputs": [],
   "source": [
    "CTGData3=CTGData.copy()\n",
    "X=CTGData3.drop(labels=['CLASS','NSP'],axis=1)\n",
    "\n",
    "y=CTGData3['NSP'].values\n",
    "y = LabelEncoder().fit_transform(y)"
   ]
  },
  {
   "cell_type": "code",
   "execution_count": 4,
   "id": "818db3f5",
   "metadata": {},
   "outputs": [
    {
     "data": {
      "text/plain": [
       "(2126, 23)"
      ]
     },
     "execution_count": 4,
     "metadata": {},
     "output_type": "execute_result"
    }
   ],
   "source": [
    "CTGData3.shape"
   ]
  },
  {
   "cell_type": "code",
   "execution_count": 5,
   "id": "dc20e5dd",
   "metadata": {},
   "outputs": [],
   "source": [
    "#stanardilization\n",
    "from sklearn.preprocessing import StandardScaler\n",
    "scaler=StandardScaler()\n",
    "scaler.fit(X)\n",
    "X=scaler.transform(X)"
   ]
  },
  {
   "cell_type": "code",
   "execution_count": 6,
   "id": "17037676",
   "metadata": {},
   "outputs": [],
   "source": [
    "#split train dataset and test dataset\n",
    "X_train, X_test,y_train,y_test= train_test_split(X,y,test_size=0.2,random_state=42)\n",
    "\n"
   ]
  },
  {
   "cell_type": "markdown",
   "id": "c34a3713",
   "metadata": {},
   "source": [
    "# Feature selection"
   ]
  },
  {
   "cell_type": "markdown",
   "id": "83e4a08a",
   "metadata": {},
   "source": [
    "## Light GBM OPT"
   ]
  },
  {
   "cell_type": "code",
   "execution_count": 7,
   "id": "55b721af",
   "metadata": {},
   "outputs": [],
   "source": [
    "gbm =lgbm_params=LGBMClassifier(boosting_type='gbdt',objective ='multiclass',max_depth=4, num_leaves=300,\n",
    "                                learning_rate=0.01,n_estimators=150)\n"
   ]
  },
  {
   "cell_type": "code",
   "execution_count": 8,
   "id": "89a328c9",
   "metadata": {},
   "outputs": [
    {
     "name": "stdout",
     "output_type": "stream",
     "text": [
      "cross validation loss at trainingset: -0.2286611210826261\n",
      "gbm at testset accuracy: 0.931924882629108\n",
      "loss at testset annually calculated : 0.22886218351927498\n"
     ]
    }
   ],
   "source": [
    "\n",
    "score =cross_val_score(gbm, X_train, y_train, cv=5,scoring='neg_log_loss').mean()\n",
    "print('cross validation loss at trainingset:',score) \n",
    "\n",
    "gbm.fit(X_train, y_train)\n",
    "prob_gbm=gbm.predict_proba(X_test)\n",
    "loss_gbm=log_loss(y_test,prob_gbm)\n",
    "print('gbm at testset accuracy:',gbm.score(X_test,y_test)) \n",
    "print('loss at testset annually calculated :',loss_gbm)  "
   ]
  },
  {
   "cell_type": "markdown",
   "id": "607add79",
   "metadata": {},
   "source": [
    "###  Bayes OPT hyperparameter searching"
   ]
  },
  {
   "cell_type": "code",
   "execution_count": 9,
   "id": "d92dee27",
   "metadata": {},
   "outputs": [
    {
     "name": "stdout",
     "output_type": "stream",
     "text": [
      "0:01:55.339326\n"
     ]
    }
   ],
   "source": [
    "start=datetime.now()\n",
    "\n",
    "# Bayers搜索，参数优化\n",
    "BayerLgbmopt = BayesSearchCV(\n",
    "     gbm,\n",
    "     {         \n",
    "        'learning_rate': (0.005,0.01,0.001), \n",
    "        'n_estimators': (100,300), \n",
    "  \n",
    "        'max_depth': (3,8), \n",
    "        'num_leaves':(8, 170),\n",
    "         \n",
    "        'subsample': (0.5,0.8), \n",
    "        'colsample_bytree': (0.5,0.8)\n",
    "       \n",
    "    } ,\n",
    "     n_iter=50,\n",
    "     cv=5\n",
    "     ,scoring=\"neg_log_loss\"\n",
    "    ,random_state=42\n",
    "    ,n_points=2\n",
    ")\n",
    "BayerLgbmopt.fit(X_train, y_train)\n",
    "\n",
    "stop=datetime.now()\n",
    "\n",
    "execution_time_lgbm0=(stop-start)\n",
    "print(execution_time_lgbm0)"
   ]
  },
  {
   "cell_type": "code",
   "execution_count": 10,
   "id": "4aedd070",
   "metadata": {},
   "outputs": [
    {
     "name": "stdout",
     "output_type": "stream",
     "text": [
      "Best parameters found by Bayes search are: OrderedDict([('colsample_bytree', 0.7467406407942192), ('learning_rate', 0.01), ('max_depth', 8), ('n_estimators', 299), ('num_leaves', 113), ('subsample', 0.5518308135081977)])\n",
      "val. score: -0.15771527516910397\n",
      "test score: -0.14893452688737022\n"
     ]
    }
   ],
   "source": [
    "print('Best parameters found by Bayes search are:', BayerLgbmopt.best_params_)\n",
    "print(\"val. score: %s\" % BayerLgbmopt.best_score_)\n",
    "print(\"test score: %s\" % BayerLgbmopt.score(X_test, y_test))"
   ]
  },
  {
   "cell_type": "markdown",
   "id": "0f657b00",
   "metadata": {},
   "source": [
    "### Build the modle with the OPT hyperparameter"
   ]
  },
  {
   "cell_type": "code",
   "execution_count": 11,
   "id": "59406397",
   "metadata": {},
   "outputs": [],
   "source": [
    "lgbm=LGBMClassifier(boosting_type='gbdt',objective ='multiclass',\n",
    "                                 max_depth=8, num_leaves=170,\n",
    "                                learning_rate=0.01,n_estimators=300,\n",
    "                                colsample_bytree= 0.6636,subsample= 0.8)"
   ]
  },
  {
   "cell_type": "markdown",
   "id": "ca2426ab",
   "metadata": {},
   "source": [
    "## RFE Feature selection with the OPT model"
   ]
  },
  {
   "cell_type": "code",
   "execution_count": 12,
   "id": "59d6e105",
   "metadata": {},
   "outputs": [
    {
     "name": "stdout",
     "output_type": "stream",
     "text": [
      "0.2975353553669229 20\n",
      "[0.6547193952501609, 0.6645077636069525, 0.597192905260578, 0.5149569268524561, 0.49136698809361745, 0.4685209739645277, 0.4726013521925962, 0.36511006905513854, 0.3498340985022357, 0.3482678279012593, 0.34486504128190465, 0.3371049117325059, 0.34592498636136665, 0.34587269888506744, 0.3338263467473812, 0.3120066230883614, 0.3016926335358424, 0.3096439542846287, 0.3083801809288104, 0.2975353553669229, 0.2975353553669229]\n"
     ]
    },
    {
     "data": {
      "image/png": "[encoded data removed]",
      "text/plain": [
       "<Figure size 720x360 with 1 Axes>"
      ]
     },
     "metadata": {
      "needs_background": "light"
     },
     "output_type": "display_data"
    },
    {
     "data": {
      "text/plain": [
       "datetime.timedelta(seconds=191, microseconds=532017)"
      ]
     },
     "execution_count": 12,
     "metadata": {},
     "output_type": "execute_result"
    }
   ],
   "source": [
    "# 递归特征消除法和曲线图选取最优特征数量 \n",
    "start=datetime.now()\n",
    "score = []                                                            # 建立列表\n",
    "for i in range(1,22, 1):\n",
    "    X_wrapper=RFE(lgbm, n_features_to_select=i, step=1).fit_transform(X, y)      # 最优特征 \n",
    "    once = cross_val_score(lgbm, X_wrapper, y, cv=5,scoring='neg_log_loss').mean()                      # 交叉验证\n",
    "    score.append(once)                                                           # 交叉验证结果保存到列表\n",
    "cross_entropy_loss=[j * -1 for j in score]\n",
    "\n",
    "print(min(cross_entropy_loss), (cross_entropy_loss.index(min(cross_entropy_loss))*1)+1)                                 # 输出最优分类结果和对应的特征数量\n",
    "print(cross_entropy_loss)\n",
    "plt.figure(figsize=[10, 5])\n",
    "plt.plot(range(1, 22, 1), cross_entropy_loss)\n",
    "plt.xticks(range(0, 22))\n",
    "plt.xlabel(u'features', fontsize=18)\n",
    "plt.ylabel(u'cross_entropy loss', fontsize=18)\n",
    "plt.grid()\n",
    "plt.show()\n",
    "stop=datetime.now()\n",
    "\n",
    "execution_time_lgbm1=(stop-start)\n",
    "execution_time_lgbm1"
   ]
  },
  {
   "cell_type": "code",
   "execution_count": 13,
   "id": "559ca42d",
   "metadata": {},
   "outputs": [
    {
     "name": "stdout",
     "output_type": "stream",
     "text": [
      "[1 1 1 1 1 2 1 1 1 1 1 1 1 1 1 1 1 1 1 1 1]\n",
      "20\n"
     ]
    },
    {
     "data": {
      "text/plain": [
       "datetime.timedelta(seconds=1, microseconds=335788)"
      ]
     },
     "execution_count": 13,
     "metadata": {},
     "output_type": "execute_result"
    }
   ],
   "source": [
    "# 4.递归特征消除法\n",
    "start=datetime.now()\n",
    "selector = RFE(lgbm, n_features_to_select=20, step=1).fit(X, y)       # n_features_to_select表示筛选最终特征数量，step表示每次排除一个特征\n",
    "selector.support_.sum()\n",
    "print(selector.ranking_)                                             # 特征排除排序\n",
    "print(selector.n_features_)                                          # 选择特征数量\n",
    "X_wrapper_20 = selector.transform(X)                                   # 最优特征\n",
    "\n",
    "\n",
    "stop=datetime.now()\n",
    "\n",
    "execution_time_lgbm2=(stop-start)\n",
    "execution_time_lgbm2"
   ]
  },
  {
   "cell_type": "markdown",
   "id": "e26e2854",
   "metadata": {},
   "source": [
    "## Save the selected feature to csv file"
   ]
  },
  {
   "cell_type": "code",
   "execution_count": 14,
   "id": "ea201038",
   "metadata": {},
   "outputs": [
    {
     "data": {
      "text/plain": [
       "array([ 0,  1,  2,  3,  4,  6,  7,  8,  9, 10, 11, 12, 13, 14, 15, 16, 17,\n",
       "       18, 19, 20], dtype=int64)"
      ]
     },
     "execution_count": 14,
     "metadata": {},
     "output_type": "execute_result"
    }
   ],
   "source": [
    "index20=selector.get_support(indices=True)\n",
    "index20"
   ]
  },
  {
   "cell_type": "code",
   "execution_count": 15,
   "id": "4c8c91fc",
   "metadata": {},
   "outputs": [
    {
     "data": {
      "text/html": [
       "<div>\n",
       "<style scoped>\n",
       "    .dataframe tbody tr th:only-of-type {\n",
       "        vertical-align: middle;\n",
       "    }\n",
       "\n",
       "    .dataframe tbody tr th {\n",
       "        vertical-align: top;\n",
       "    }\n",
       "\n",
       "    .dataframe thead th {\n",
       "        text-align: right;\n",
       "    }\n",
       "</style>\n",
       "<table border=\"1\" class=\"dataframe\">\n",
       "  <thead>\n",
       "    <tr style=\"text-align: right;\">\n",
       "      <th></th>\n",
       "      <th>LB</th>\n",
       "      <th>AC</th>\n",
       "      <th>FM</th>\n",
       "      <th>UC</th>\n",
       "      <th>DL</th>\n",
       "      <th>DP</th>\n",
       "      <th>ASTV</th>\n",
       "      <th>MSTV</th>\n",
       "      <th>ALTV</th>\n",
       "      <th>MLTV</th>\n",
       "      <th>...</th>\n",
       "      <th>Min</th>\n",
       "      <th>Max</th>\n",
       "      <th>Nmax</th>\n",
       "      <th>Nzeros</th>\n",
       "      <th>Mode</th>\n",
       "      <th>Mean</th>\n",
       "      <th>Median</th>\n",
       "      <th>Variance</th>\n",
       "      <th>Tendency</th>\n",
       "      <th>label</th>\n",
       "    </tr>\n",
       "  </thead>\n",
       "  <tbody>\n",
       "    <tr>\n",
       "      <th>0</th>\n",
       "      <td>120</td>\n",
       "      <td>0.000000</td>\n",
       "      <td>0.000000</td>\n",
       "      <td>0.000000</td>\n",
       "      <td>0.000000</td>\n",
       "      <td>0.0</td>\n",
       "      <td>73</td>\n",
       "      <td>0.5</td>\n",
       "      <td>43</td>\n",
       "      <td>2.4</td>\n",
       "      <td>...</td>\n",
       "      <td>62</td>\n",
       "      <td>126</td>\n",
       "      <td>2</td>\n",
       "      <td>0</td>\n",
       "      <td>120</td>\n",
       "      <td>137</td>\n",
       "      <td>121</td>\n",
       "      <td>73</td>\n",
       "      <td>1</td>\n",
       "      <td>1</td>\n",
       "    </tr>\n",
       "    <tr>\n",
       "      <th>1</th>\n",
       "      <td>132</td>\n",
       "      <td>0.006380</td>\n",
       "      <td>0.000000</td>\n",
       "      <td>0.006380</td>\n",
       "      <td>0.003190</td>\n",
       "      <td>0.0</td>\n",
       "      <td>17</td>\n",
       "      <td>2.1</td>\n",
       "      <td>0</td>\n",
       "      <td>10.4</td>\n",
       "      <td>...</td>\n",
       "      <td>68</td>\n",
       "      <td>198</td>\n",
       "      <td>6</td>\n",
       "      <td>1</td>\n",
       "      <td>141</td>\n",
       "      <td>136</td>\n",
       "      <td>140</td>\n",
       "      <td>12</td>\n",
       "      <td>0</td>\n",
       "      <td>0</td>\n",
       "    </tr>\n",
       "    <tr>\n",
       "      <th>2</th>\n",
       "      <td>133</td>\n",
       "      <td>0.003322</td>\n",
       "      <td>0.000000</td>\n",
       "      <td>0.008306</td>\n",
       "      <td>0.003322</td>\n",
       "      <td>0.0</td>\n",
       "      <td>16</td>\n",
       "      <td>2.1</td>\n",
       "      <td>0</td>\n",
       "      <td>13.4</td>\n",
       "      <td>...</td>\n",
       "      <td>68</td>\n",
       "      <td>198</td>\n",
       "      <td>5</td>\n",
       "      <td>1</td>\n",
       "      <td>141</td>\n",
       "      <td>135</td>\n",
       "      <td>138</td>\n",
       "      <td>13</td>\n",
       "      <td>0</td>\n",
       "      <td>0</td>\n",
       "    </tr>\n",
       "    <tr>\n",
       "      <th>3</th>\n",
       "      <td>134</td>\n",
       "      <td>0.002561</td>\n",
       "      <td>0.000000</td>\n",
       "      <td>0.007682</td>\n",
       "      <td>0.002561</td>\n",
       "      <td>0.0</td>\n",
       "      <td>16</td>\n",
       "      <td>2.4</td>\n",
       "      <td>0</td>\n",
       "      <td>23.0</td>\n",
       "      <td>...</td>\n",
       "      <td>53</td>\n",
       "      <td>170</td>\n",
       "      <td>11</td>\n",
       "      <td>0</td>\n",
       "      <td>137</td>\n",
       "      <td>134</td>\n",
       "      <td>137</td>\n",
       "      <td>13</td>\n",
       "      <td>1</td>\n",
       "      <td>0</td>\n",
       "    </tr>\n",
       "    <tr>\n",
       "      <th>4</th>\n",
       "      <td>132</td>\n",
       "      <td>0.006515</td>\n",
       "      <td>0.000000</td>\n",
       "      <td>0.008143</td>\n",
       "      <td>0.000000</td>\n",
       "      <td>0.0</td>\n",
       "      <td>16</td>\n",
       "      <td>2.4</td>\n",
       "      <td>0</td>\n",
       "      <td>19.9</td>\n",
       "      <td>...</td>\n",
       "      <td>53</td>\n",
       "      <td>170</td>\n",
       "      <td>9</td>\n",
       "      <td>0</td>\n",
       "      <td>137</td>\n",
       "      <td>136</td>\n",
       "      <td>138</td>\n",
       "      <td>11</td>\n",
       "      <td>1</td>\n",
       "      <td>0</td>\n",
       "    </tr>\n",
       "    <tr>\n",
       "      <th>...</th>\n",
       "      <td>...</td>\n",
       "      <td>...</td>\n",
       "      <td>...</td>\n",
       "      <td>...</td>\n",
       "      <td>...</td>\n",
       "      <td>...</td>\n",
       "      <td>...</td>\n",
       "      <td>...</td>\n",
       "      <td>...</td>\n",
       "      <td>...</td>\n",
       "      <td>...</td>\n",
       "      <td>...</td>\n",
       "      <td>...</td>\n",
       "      <td>...</td>\n",
       "      <td>...</td>\n",
       "      <td>...</td>\n",
       "      <td>...</td>\n",
       "      <td>...</td>\n",
       "      <td>...</td>\n",
       "      <td>...</td>\n",
       "      <td>...</td>\n",
       "    </tr>\n",
       "    <tr>\n",
       "      <th>2121</th>\n",
       "      <td>140</td>\n",
       "      <td>0.000000</td>\n",
       "      <td>0.000000</td>\n",
       "      <td>0.007426</td>\n",
       "      <td>0.000000</td>\n",
       "      <td>0.0</td>\n",
       "      <td>79</td>\n",
       "      <td>0.2</td>\n",
       "      <td>25</td>\n",
       "      <td>7.2</td>\n",
       "      <td>...</td>\n",
       "      <td>137</td>\n",
       "      <td>177</td>\n",
       "      <td>4</td>\n",
       "      <td>0</td>\n",
       "      <td>153</td>\n",
       "      <td>150</td>\n",
       "      <td>152</td>\n",
       "      <td>2</td>\n",
       "      <td>0</td>\n",
       "      <td>1</td>\n",
       "    </tr>\n",
       "    <tr>\n",
       "      <th>2122</th>\n",
       "      <td>140</td>\n",
       "      <td>0.000775</td>\n",
       "      <td>0.000000</td>\n",
       "      <td>0.006971</td>\n",
       "      <td>0.000000</td>\n",
       "      <td>0.0</td>\n",
       "      <td>78</td>\n",
       "      <td>0.4</td>\n",
       "      <td>22</td>\n",
       "      <td>7.1</td>\n",
       "      <td>...</td>\n",
       "      <td>103</td>\n",
       "      <td>169</td>\n",
       "      <td>6</td>\n",
       "      <td>0</td>\n",
       "      <td>152</td>\n",
       "      <td>148</td>\n",
       "      <td>151</td>\n",
       "      <td>3</td>\n",
       "      <td>1</td>\n",
       "      <td>1</td>\n",
       "    </tr>\n",
       "    <tr>\n",
       "      <th>2123</th>\n",
       "      <td>140</td>\n",
       "      <td>0.000980</td>\n",
       "      <td>0.000000</td>\n",
       "      <td>0.006863</td>\n",
       "      <td>0.000000</td>\n",
       "      <td>0.0</td>\n",
       "      <td>79</td>\n",
       "      <td>0.4</td>\n",
       "      <td>20</td>\n",
       "      <td>6.1</td>\n",
       "      <td>...</td>\n",
       "      <td>103</td>\n",
       "      <td>170</td>\n",
       "      <td>5</td>\n",
       "      <td>0</td>\n",
       "      <td>153</td>\n",
       "      <td>148</td>\n",
       "      <td>152</td>\n",
       "      <td>4</td>\n",
       "      <td>1</td>\n",
       "      <td>1</td>\n",
       "    </tr>\n",
       "    <tr>\n",
       "      <th>2124</th>\n",
       "      <td>140</td>\n",
       "      <td>0.000679</td>\n",
       "      <td>0.000000</td>\n",
       "      <td>0.006110</td>\n",
       "      <td>0.000000</td>\n",
       "      <td>0.0</td>\n",
       "      <td>78</td>\n",
       "      <td>0.4</td>\n",
       "      <td>27</td>\n",
       "      <td>7.0</td>\n",
       "      <td>...</td>\n",
       "      <td>103</td>\n",
       "      <td>169</td>\n",
       "      <td>6</td>\n",
       "      <td>0</td>\n",
       "      <td>152</td>\n",
       "      <td>147</td>\n",
       "      <td>151</td>\n",
       "      <td>4</td>\n",
       "      <td>1</td>\n",
       "      <td>1</td>\n",
       "    </tr>\n",
       "    <tr>\n",
       "      <th>2125</th>\n",
       "      <td>142</td>\n",
       "      <td>0.001616</td>\n",
       "      <td>0.001616</td>\n",
       "      <td>0.008078</td>\n",
       "      <td>0.000000</td>\n",
       "      <td>0.0</td>\n",
       "      <td>74</td>\n",
       "      <td>0.4</td>\n",
       "      <td>36</td>\n",
       "      <td>5.0</td>\n",
       "      <td>...</td>\n",
       "      <td>117</td>\n",
       "      <td>159</td>\n",
       "      <td>2</td>\n",
       "      <td>1</td>\n",
       "      <td>145</td>\n",
       "      <td>143</td>\n",
       "      <td>145</td>\n",
       "      <td>1</td>\n",
       "      <td>0</td>\n",
       "      <td>0</td>\n",
       "    </tr>\n",
       "  </tbody>\n",
       "</table>\n",
       "<p>2126 rows × 21 columns</p>\n",
       "</div>"
      ],
      "text/plain": [
       "       LB        AC        FM        UC        DL   DP  ASTV  MSTV  ALTV  \\\n",
       "0     120  0.000000  0.000000  0.000000  0.000000  0.0    73   0.5    43   \n",
       "1     132  0.006380  0.000000  0.006380  0.003190  0.0    17   2.1     0   \n",
       "2     133  0.003322  0.000000  0.008306  0.003322  0.0    16   2.1     0   \n",
       "3     134  0.002561  0.000000  0.007682  0.002561  0.0    16   2.4     0   \n",
       "4     132  0.006515  0.000000  0.008143  0.000000  0.0    16   2.4     0   \n",
       "...   ...       ...       ...       ...       ...  ...   ...   ...   ...   \n",
       "2121  140  0.000000  0.000000  0.007426  0.000000  0.0    79   0.2    25   \n",
       "2122  140  0.000775  0.000000  0.006971  0.000000  0.0    78   0.4    22   \n",
       "2123  140  0.000980  0.000000  0.006863  0.000000  0.0    79   0.4    20   \n",
       "2124  140  0.000679  0.000000  0.006110  0.000000  0.0    78   0.4    27   \n",
       "2125  142  0.001616  0.001616  0.008078  0.000000  0.0    74   0.4    36   \n",
       "\n",
       "      MLTV  ...  Min  Max  Nmax  Nzeros  Mode  Mean  Median  Variance  \\\n",
       "0      2.4  ...   62  126     2       0   120   137     121        73   \n",
       "1     10.4  ...   68  198     6       1   141   136     140        12   \n",
       "2     13.4  ...   68  198     5       1   141   135     138        13   \n",
       "3     23.0  ...   53  170    11       0   137   134     137        13   \n",
       "4     19.9  ...   53  170     9       0   137   136     138        11   \n",
       "...    ...  ...  ...  ...   ...     ...   ...   ...     ...       ...   \n",
       "2121   7.2  ...  137  177     4       0   153   150     152         2   \n",
       "2122   7.1  ...  103  169     6       0   152   148     151         3   \n",
       "2123   6.1  ...  103  170     5       0   153   148     152         4   \n",
       "2124   7.0  ...  103  169     6       0   152   147     151         4   \n",
       "2125   5.0  ...  117  159     2       1   145   143     145         1   \n",
       "\n",
       "      Tendency  label  \n",
       "0            1      1  \n",
       "1            0      0  \n",
       "2            0      0  \n",
       "3            1      0  \n",
       "4            1      0  \n",
       "...        ...    ...  \n",
       "2121         0      1  \n",
       "2122         1      1  \n",
       "2123         1      1  \n",
       "2124         1      1  \n",
       "2125         0      0  \n",
       "\n",
       "[2126 rows x 21 columns]"
      ]
     },
     "execution_count": 15,
     "metadata": {},
     "output_type": "execute_result"
    }
   ],
   "source": [
    "idx=[  0,  1,  2,  3,  4,  6,  7,  8,  9, 10, 11, 12, 13, 14, 15, 16, 17,\n",
    "       18, 19, 20]\n",
    "A=CTGData3.iloc[ :,idx]\n",
    "A['label'] = y\n",
    "A"
   ]
  },
  {
   "cell_type": "code",
   "execution_count": 16,
   "id": "5fe85a55",
   "metadata": {},
   "outputs": [],
   "source": [
    "A.to_csv('CTGNSP selected 20 features.csv',index=False)"
   ]
  },
  {
   "cell_type": "code",
   "execution_count": 17,
   "id": "d2c141f2",
   "metadata": {},
   "outputs": [
    {
     "data": {
      "text/html": [
       "<div>\n",
       "<style scoped>\n",
       "    .dataframe tbody tr th:only-of-type {\n",
       "        vertical-align: middle;\n",
       "    }\n",
       "\n",
       "    .dataframe tbody tr th {\n",
       "        vertical-align: top;\n",
       "    }\n",
       "\n",
       "    .dataframe thead th {\n",
       "        text-align: right;\n",
       "    }\n",
       "</style>\n",
       "<table border=\"1\" class=\"dataframe\">\n",
       "  <thead>\n",
       "    <tr style=\"text-align: right;\">\n",
       "      <th></th>\n",
       "      <th>LB</th>\n",
       "      <th>AC</th>\n",
       "      <th>FM</th>\n",
       "      <th>UC</th>\n",
       "      <th>DL</th>\n",
       "      <th>DP</th>\n",
       "      <th>ASTV</th>\n",
       "      <th>MSTV</th>\n",
       "      <th>ALTV</th>\n",
       "      <th>MLTV</th>\n",
       "      <th>...</th>\n",
       "      <th>Min</th>\n",
       "      <th>Max</th>\n",
       "      <th>Nmax</th>\n",
       "      <th>Nzeros</th>\n",
       "      <th>Mode</th>\n",
       "      <th>Mean</th>\n",
       "      <th>Median</th>\n",
       "      <th>Variance</th>\n",
       "      <th>Tendency</th>\n",
       "      <th>label</th>\n",
       "    </tr>\n",
       "  </thead>\n",
       "  <tbody>\n",
       "    <tr>\n",
       "      <th>0</th>\n",
       "      <td>120</td>\n",
       "      <td>0.000000</td>\n",
       "      <td>0.0</td>\n",
       "      <td>0.000000</td>\n",
       "      <td>0.000000</td>\n",
       "      <td>0.0</td>\n",
       "      <td>73</td>\n",
       "      <td>0.5</td>\n",
       "      <td>43</td>\n",
       "      <td>2.4</td>\n",
       "      <td>...</td>\n",
       "      <td>62</td>\n",
       "      <td>126</td>\n",
       "      <td>2</td>\n",
       "      <td>0</td>\n",
       "      <td>120</td>\n",
       "      <td>137</td>\n",
       "      <td>121</td>\n",
       "      <td>73</td>\n",
       "      <td>1</td>\n",
       "      <td>1</td>\n",
       "    </tr>\n",
       "    <tr>\n",
       "      <th>1</th>\n",
       "      <td>132</td>\n",
       "      <td>0.006380</td>\n",
       "      <td>0.0</td>\n",
       "      <td>0.006380</td>\n",
       "      <td>0.003190</td>\n",
       "      <td>0.0</td>\n",
       "      <td>17</td>\n",
       "      <td>2.1</td>\n",
       "      <td>0</td>\n",
       "      <td>10.4</td>\n",
       "      <td>...</td>\n",
       "      <td>68</td>\n",
       "      <td>198</td>\n",
       "      <td>6</td>\n",
       "      <td>1</td>\n",
       "      <td>141</td>\n",
       "      <td>136</td>\n",
       "      <td>140</td>\n",
       "      <td>12</td>\n",
       "      <td>0</td>\n",
       "      <td>0</td>\n",
       "    </tr>\n",
       "    <tr>\n",
       "      <th>2</th>\n",
       "      <td>133</td>\n",
       "      <td>0.003322</td>\n",
       "      <td>0.0</td>\n",
       "      <td>0.008306</td>\n",
       "      <td>0.003322</td>\n",
       "      <td>0.0</td>\n",
       "      <td>16</td>\n",
       "      <td>2.1</td>\n",
       "      <td>0</td>\n",
       "      <td>13.4</td>\n",
       "      <td>...</td>\n",
       "      <td>68</td>\n",
       "      <td>198</td>\n",
       "      <td>5</td>\n",
       "      <td>1</td>\n",
       "      <td>141</td>\n",
       "      <td>135</td>\n",
       "      <td>138</td>\n",
       "      <td>13</td>\n",
       "      <td>0</td>\n",
       "      <td>0</td>\n",
       "    </tr>\n",
       "    <tr>\n",
       "      <th>3</th>\n",
       "      <td>134</td>\n",
       "      <td>0.002561</td>\n",
       "      <td>0.0</td>\n",
       "      <td>0.007682</td>\n",
       "      <td>0.002561</td>\n",
       "      <td>0.0</td>\n",
       "      <td>16</td>\n",
       "      <td>2.4</td>\n",
       "      <td>0</td>\n",
       "      <td>23.0</td>\n",
       "      <td>...</td>\n",
       "      <td>53</td>\n",
       "      <td>170</td>\n",
       "      <td>11</td>\n",
       "      <td>0</td>\n",
       "      <td>137</td>\n",
       "      <td>134</td>\n",
       "      <td>137</td>\n",
       "      <td>13</td>\n",
       "      <td>1</td>\n",
       "      <td>0</td>\n",
       "    </tr>\n",
       "    <tr>\n",
       "      <th>4</th>\n",
       "      <td>132</td>\n",
       "      <td>0.006515</td>\n",
       "      <td>0.0</td>\n",
       "      <td>0.008143</td>\n",
       "      <td>0.000000</td>\n",
       "      <td>0.0</td>\n",
       "      <td>16</td>\n",
       "      <td>2.4</td>\n",
       "      <td>0</td>\n",
       "      <td>19.9</td>\n",
       "      <td>...</td>\n",
       "      <td>53</td>\n",
       "      <td>170</td>\n",
       "      <td>9</td>\n",
       "      <td>0</td>\n",
       "      <td>137</td>\n",
       "      <td>136</td>\n",
       "      <td>138</td>\n",
       "      <td>11</td>\n",
       "      <td>1</td>\n",
       "      <td>0</td>\n",
       "    </tr>\n",
       "  </tbody>\n",
       "</table>\n",
       "<p>5 rows × 21 columns</p>\n",
       "</div>"
      ],
      "text/plain": [
       "    LB        AC   FM        UC        DL   DP  ASTV  MSTV  ALTV  MLTV  ...  \\\n",
       "0  120  0.000000  0.0  0.000000  0.000000  0.0    73   0.5    43   2.4  ...   \n",
       "1  132  0.006380  0.0  0.006380  0.003190  0.0    17   2.1     0  10.4  ...   \n",
       "2  133  0.003322  0.0  0.008306  0.003322  0.0    16   2.1     0  13.4  ...   \n",
       "3  134  0.002561  0.0  0.007682  0.002561  0.0    16   2.4     0  23.0  ...   \n",
       "4  132  0.006515  0.0  0.008143  0.000000  0.0    16   2.4     0  19.9  ...   \n",
       "\n",
       "   Min  Max  Nmax  Nzeros  Mode  Mean  Median  Variance  Tendency  label  \n",
       "0   62  126     2       0   120   137     121        73         1      1  \n",
       "1   68  198     6       1   141   136     140        12         0      0  \n",
       "2   68  198     5       1   141   135     138        13         0      0  \n",
       "3   53  170    11       0   137   134     137        13         1      0  \n",
       "4   53  170     9       0   137   136     138        11         1      0  \n",
       "\n",
       "[5 rows x 21 columns]"
      ]
     },
     "execution_count": 17,
     "metadata": {},
     "output_type": "execute_result"
    }
   ],
   "source": [
    "features20=pd.read_csv('CTGNSP selected 20 features.csv')\n",
    "# ,index_col=0)\n",
    "features20.head()"
   ]
  },
  {
   "cell_type": "code",
   "execution_count": 18,
   "id": "f934af65",
   "metadata": {},
   "outputs": [
    {
     "data": {
      "text/plain": [
       "(2126, 21)"
      ]
     },
     "execution_count": 18,
     "metadata": {},
     "output_type": "execute_result"
    }
   ],
   "source": [
    "features20.shape"
   ]
  },
  {
   "cell_type": "code",
   "execution_count": 19,
   "id": "e9c062b9",
   "metadata": {},
   "outputs": [],
   "source": [
    "X1=features20.drop(labels=['label'],axis=1)\n",
    "\n",
    "y1=features20['label'].values"
   ]
  },
  {
   "cell_type": "code",
   "execution_count": 20,
   "id": "29567ef3",
   "metadata": {},
   "outputs": [],
   "source": [
    "scaler=StandardScaler()\n",
    "scaler.fit(X1)\n",
    "X1=scaler.transform(X1)\n",
    "#split train dataset and test dataset\n",
    "X1_train, X1_test,y1_train,y1_test= train_test_split(X1,y1,test_size=0.2, shuffle = True,stratify=y1,random_state=42)"
   ]
  },
  {
   "cell_type": "code",
   "execution_count": 21,
   "id": "0a8ef789",
   "metadata": {},
   "outputs": [
    {
     "data": {
      "text/plain": [
       "LGBMClassifier(colsample_bytree=0.6636, learning_rate=0.01, max_depth=8,\n",
       "               n_estimators=300, num_leaves=170, objective='multiclass',\n",
       "               subsample=0.8)"
      ]
     },
     "execution_count": 21,
     "metadata": {},
     "output_type": "execute_result"
    }
   ],
   "source": [
    "lgbm.fit(X1_train, y1_train)"
   ]
  },
  {
   "cell_type": "code",
   "execution_count": 112,
   "id": "8fb978a2",
   "metadata": {},
   "outputs": [
    {
     "name": "stdout",
     "output_type": "stream",
     "text": [
      "Accuracy score with LGBM is:  0.9295774647887324\n",
      "F1 score with LGBM is:  0.9295774647887324\n",
      "ROC_AUC score with LGBM is:  0.9844112390072315\n",
      "Cross entropy loss score with LGBM is:  0.17917574280458173\n"
     ]
    }
   ],
   "source": [
    "y_pred_lgbm1=lgbm.predict((X1_test))\n",
    "y_prob_lgbm1=lgbm.predict_proba((X1_test))\n",
    "print(\"Accuracy score with LGBM is: \",accuracy_score(y1_test, y_pred_lgbm1))\n",
    "print(\"F1 score with LGBM is: \",f1_score(y1_test, y_pred_lgbm1,average='micro'))\n",
    "print(\"ROC_AUC score with LGBM is: \", roc_auc_score(y1_test,y_prob_lgbm1,multi_class='ovr',labels=np.unique(y1_test)))\n",
    "print(\"Cross entropy loss score with LGBM is: \",log_loss(y1_test,y_prob_lgbm1))\n"
   ]
  },
  {
   "cell_type": "markdown",
   "id": "f51da880",
   "metadata": {},
   "source": [
    "## Explore feature importance"
   ]
  },
  {
   "cell_type": "code",
   "execution_count": 100,
   "id": "21e8ba55",
   "metadata": {},
   "outputs": [
    {
     "data": {
      "text/plain": [
       "array([1814, 1484, 1536, 1774,  664, 1321, 2818, 1666, 2316, 1675, 1734,\n",
       "       1455, 1453,  794,  102, 1570, 2129, 1277, 1302,  266])"
      ]
     },
     "execution_count": 100,
     "metadata": {},
     "output_type": "execute_result"
    }
   ],
   "source": [
    "lgbm.feature_importances_"
   ]
  },
  {
   "cell_type": "code",
   "execution_count": 101,
   "id": "c99b7f8b",
   "metadata": {},
   "outputs": [],
   "source": [
    "featureName=features20.columns[:-1]"
   ]
  },
  {
   "cell_type": "code",
   "execution_count": 102,
   "id": "c094f214",
   "metadata": {},
   "outputs": [
    {
     "data": {
      "text/plain": [
       "<BarContainer object of 20 artists>"
      ]
     },
     "execution_count": 102,
     "metadata": {},
     "output_type": "execute_result"
    },
    {
     "data": {
      "image/png": "[encoded data removed]",
      "text/plain": [
       "<Figure size 1440x576 with 1 Axes>"
      ]
     },
     "metadata": {
      "needs_background": "light"
     },
     "output_type": "display_data"
    }
   ],
   "source": [
    "plt.figure(figsize=(20,8))\n",
    "plt.bar(featureName,lgbm.feature_importances_)"
   ]
  },
  {
   "cell_type": "code",
   "execution_count": 103,
   "id": "a18cb702",
   "metadata": {},
   "outputs": [
    {
     "data": {
      "image/png": "[encoded data removed]",
      "text/plain": [
       "<Figure size 1440x576 with 1 Axes>"
      ]
     },
     "metadata": {
      "needs_background": "light"
     },
     "output_type": "display_data"
    }
   ],
   "source": [
    "plt.figure(figsize=(20,8))\n",
    "feature_important = pd.Series(lgbm.feature_importances_, index =featureName).sort_values(ascending=False)\n",
    "plt.bar(feature_important.index, feature_important)\n",
    "plt.show()"
   ]
  },
  {
   "cell_type": "code",
   "execution_count": 106,
   "id": "8330a255",
   "metadata": {},
   "outputs": [],
   "source": [
    "NSPData1=A[A['label']==0]\n",
    "NSPData2=A[A['label']==1]\n",
    "NSPData3=A[A['label']==2]\n"
   ]
  },
  {
   "cell_type": "code",
   "execution_count": 109,
   "id": "d6a9fa43",
   "metadata": {},
   "outputs": [
    {
     "data": {
      "image/png": "[encoded data removed]",
      "text/plain": [
       "<Figure size 720x576 with 1 Axes>"
      ]
     },
     "metadata": {
      "needs_background": "light"
     },
     "output_type": "display_data"
    }
   ],
   "source": [
    "plt.figure(figsize=(10,8))\n",
    "plt.scatter(NSPData1['ASTV'],NSPData1['ALTV'],c='red', label='Normal')\n",
    "plt.scatter(NSPData2['ASTV'],NSPData2['ALTV'],c='blue', label='Suspect')\n",
    "plt.scatter(NSPData3['ASTV'],NSPData3['ALTV'],c='green', label='Pathologic')\n",
    "\n",
    "plt.xlabel('ASTV')\n",
    "plt.ylabel('ALTV')\n",
    "plt.legend(loc=2)\n",
    "plt.show()"
   ]
  },
  {
   "cell_type": "code",
   "execution_count": 110,
   "id": "64aae928",
   "metadata": {},
   "outputs": [
    {
     "data": {
      "image/png": "[encoded data removed]",
      "text/plain": [
       "<Figure size 720x576 with 1 Axes>"
      ]
     },
     "metadata": {
      "needs_background": "light"
     },
     "output_type": "display_data"
    }
   ],
   "source": [
    "plt.figure(figsize=(10,8))\n",
    "plt.scatter(NSPData1['AC'],NSPData1['MLTV'],c='red', label='Normal')\n",
    "plt.scatter(NSPData2['AC'],NSPData2['MLTV'],c='blue', label='Suspect')\n",
    "plt.scatter(NSPData3['AC'],NSPData3['MLTV'],c='green', label='Pathologic')\n",
    "\n",
    "plt.xlabel('AC')\n",
    "plt.ylabel('MLTV')\n",
    "plt.legend(loc=2)\n",
    "plt.show()"
   ]
  },
  {
   "cell_type": "code",
   "execution_count": 22,
   "id": "d09fbdfe",
   "metadata": {},
   "outputs": [
    {
     "name": "stdout",
     "output_type": "stream",
     "text": [
      "Accuracy score with LGBM is:  0.9295774647887324\n",
      "F1 score with LGBM is:  0.9295774647887324\n",
      "ROC_AUC score with LGBM is:  0.9844112390072315\n",
      "Cross entropy loss score with LGBM is:  0.17917574280458173\n"
     ]
    }
   ],
   "source": []
  },
  {
   "cell_type": "markdown",
   "id": "2d11300f",
   "metadata": {},
   "source": [
    " # 2nd OPT for each model after RFE"
   ]
  },
  {
   "cell_type": "markdown",
   "id": "1d70a0c8",
   "metadata": {},
   "source": [
    "## Light GBM"
   ]
  },
  {
   "cell_type": "code",
   "execution_count": 23,
   "id": "8d637d56",
   "metadata": {},
   "outputs": [
    {
     "name": "stdout",
     "output_type": "stream",
     "text": [
      "0:02:34.181163\n"
     ]
    }
   ],
   "source": [
    "start=datetime.now()\n",
    "\n",
    "# Bayers搜索，参数优化\n",
    "BayerLgbmopt1 = BayesSearchCV(\n",
    "     lgbm,\n",
    "     {         \n",
    "        'learning_rate': (0.005,0.01,0.001), \n",
    "        'n_estimators': (100,300), \n",
    "  \n",
    "        'max_depth': (3,8), \n",
    "        'num_leaves':(8, 170),\n",
    "         \n",
    "        'subsample': (0.5,0.8), \n",
    "        'colsample_bytree': (0.5,0.8)\n",
    "       \n",
    "    } ,\n",
    "     n_iter=50,\n",
    "     cv=5\n",
    "     ,scoring=\"neg_log_loss\"\n",
    "    ,random_state=42\n",
    "    ,n_points=2\n",
    ")\n",
    "BayerLgbmopt1.fit(X1_train, y1_train)\n",
    "\n",
    "stop=datetime.now()\n",
    "execution_time_lgbm3=(stop-start)\n",
    "print(execution_time_lgbm3)"
   ]
  },
  {
   "cell_type": "code",
   "execution_count": 24,
   "id": "73edb778",
   "metadata": {},
   "outputs": [
    {
     "name": "stdout",
     "output_type": "stream",
     "text": [
      "Best parameters found by Bayes search are: OrderedDict([('colsample_bytree', 0.8), ('learning_rate', 0.01), ('max_depth', 8), ('n_estimators', 300), ('num_leaves', 170), ('subsample', 0.8)])\n",
      "val. score: -0.14793525408062694\n",
      "test score: -0.1832007685672168\n"
     ]
    }
   ],
   "source": [
    "print('Best parameters found by Bayes search are:', BayerLgbmopt1.best_params_)\n",
    "print(\"val. score: %s\" % BayerLgbmopt1.best_score_)\n",
    "print(\"test score: %s\" % BayerLgbmopt1.score(X1_test, y1_test))"
   ]
  },
  {
   "cell_type": "code",
   "execution_count": 46,
   "id": "f460c199",
   "metadata": {},
   "outputs": [],
   "source": [
    "lgbm1=LGBMClassifier(boosting_type='gbdt',objective ='multiclass',\n",
    "                                 max_depth=8, num_leaves=170,\n",
    "                                learning_rate=0.01,n_estimators=300,\n",
    "                                colsample_bytree= 0.8,subsample= 0.8)"
   ]
  },
  {
   "cell_type": "code",
   "execution_count": 47,
   "id": "32fec66a",
   "metadata": {},
   "outputs": [],
   "source": [
    "lgbm_ctgnsp=lgbm1.fit(X1_train,y1_train)"
   ]
  },
  {
   "cell_type": "code",
   "execution_count": 48,
   "id": "d020df40",
   "metadata": {},
   "outputs": [
    {
     "name": "stdout",
     "output_type": "stream",
     "text": [
      "Accuracy score with LGBM is:  0.931924882629108\n",
      "F1 score with LGBM is:  0.931924882629108\n",
      "ROC_AUC score with LGBM is:  0.9824944554519801\n",
      "Cross entropy loss score with LGBM is:  0.1832007685672168\n"
     ]
    }
   ],
   "source": [
    "y_pred_lgbm1=lgbm1.predict((X1_test))\n",
    "y_prob_lgbm1=lgbm1.predict_proba((X1_test))\n",
    "print(\"Accuracy score with LGBM is: \",accuracy_score(y1_test, y_pred_lgbm1))\n",
    "print(\"F1 score with LGBM is: \",f1_score(y1_test, y_pred_lgbm1,average='micro'))\n",
    "print(\"ROC_AUC score with LGBM is: \", roc_auc_score(y1_test,y_prob_lgbm1,multi_class='ovr',labels=np.unique(y1_test)))\n",
    "print(\"Cross entropy loss score with LGBM is: \",log_loss(y1_test,y_prob_lgbm1))\n"
   ]
  },
  {
   "cell_type": "code",
   "execution_count": 49,
   "id": "69b54033",
   "metadata": {},
   "outputs": [
    {
     "name": "stdout",
     "output_type": "stream",
     "text": [
      "0.9319\n",
      "0.9319\n",
      "0.9825\n",
      "0.1832\n"
     ]
    }
   ],
   "source": [
    "lgbm_accuracy='%.4f'%accuracy_score(y1_test, y_pred_lgbm1)\n",
    "lgbm_f1='%.4f'%f1_score(y1_test, y_pred_lgbm1,average='micro')\n",
    "lgbm_roc_auc='%.4f'% roc_auc_score(y1_test,y_prob_lgbm1,multi_class='ovr',labels=np.unique(y1_test))\n",
    "lgbm_loss='%.4f'%log_loss(y1_test,y_prob_lgbm1)\n",
    "print(lgbm_accuracy)\n",
    "print(lgbm_f1)\n",
    "print(lgbm_roc_auc)\n",
    "print(lgbm_loss)"
   ]
  },
  {
   "cell_type": "code",
   "execution_count": 50,
   "id": "68136f40",
   "metadata": {},
   "outputs": [
    {
     "name": "stdout",
     "output_type": "stream",
     "text": [
      "accuracy 20  feature: 0.9488235294117647\n",
      "F1 score 20  feature: 0.9488235294117647\n",
      "roc_auc 20  feature: 0.9872886454457237\n",
      "cross entropy loss 20  feature: -0.14793525408062694\n"
     ]
    }
   ],
   "source": [
    "start=datetime.now()\n",
    "accuracy_score_20 =cross_val_score(lgbm1, X1_train, y1_train, cv=5,scoring='accuracy').mean()\n",
    "F1_score_20 =cross_val_score(lgbm1, X1_train, y1_train, cv=5,scoring='f1_micro').mean()\n",
    "roc_auc_score_20 =cross_val_score(lgbm1, X1_train, y1_train, cv=5,scoring='roc_auc_ovr').mean()\n",
    "neg_loss_score_20 =cross_val_score(lgbm1, X1_train, y1_train, cv=5,scoring='neg_log_loss').mean()\n",
    "stop=datetime.now()\n",
    "\n",
    "execution_time_lgbm4=(stop-start)/20\n",
    "execution_time_lgbm4\n",
    "\n",
    "print(\"accuracy 20  feature:\",accuracy_score_20)\n",
    "print('F1 score 20  feature:',F1_score_20)\n",
    "print('roc_auc 20  feature:',roc_auc_score_20)\n",
    "print(\"cross entropy loss 20  feature:\",neg_loss_score_20)\n"
   ]
  },
  {
   "cell_type": "code",
   "execution_count": 51,
   "id": "7d48fb37",
   "metadata": {
    "scrolled": true
   },
   "outputs": [
    {
     "data": {
      "text/plain": [
       "datetime.timedelta(microseconds=554875)"
      ]
     },
     "execution_count": 51,
     "metadata": {},
     "output_type": "execute_result"
    }
   ],
   "source": [
    "execution_time_lgbm4"
   ]
  },
  {
   "cell_type": "code",
   "execution_count": 52,
   "id": "866df9ef",
   "metadata": {},
   "outputs": [
    {
     "name": "stdout",
     "output_type": "stream",
     "text": [
      "0.5549\n"
     ]
    }
   ],
   "source": [
    "training_time_lgbm=execution_time_lgbm4.total_seconds()\n",
    "training_time_lgbm='%.4f'%training_time_lgbm\n",
    "print(training_time_lgbm)"
   ]
  },
  {
   "cell_type": "code",
   "execution_count": 53,
   "id": "fdb389e6",
   "metadata": {},
   "outputs": [
    {
     "data": {
      "text/plain": [
       "['lgbm_ctgnsp.model']"
      ]
     },
     "execution_count": 53,
     "metadata": {},
     "output_type": "execute_result"
    }
   ],
   "source": [
    "# save the model\n",
    "joblib.dump(lgbm_ctgnsp,'lgbm_ctgnsp.model')"
   ]
  },
  {
   "cell_type": "code",
   "execution_count": 54,
   "id": "34468cef",
   "metadata": {},
   "outputs": [],
   "source": [
    "rflgbm_CTGNSP=joblib.load('lgbm_ctgnsp.model')\n",
    "   #应用模型进行预测\n",
    "resultlgmb=rflgbm_CTGNSP.score(X1_test,y1_test)"
   ]
  },
  {
   "cell_type": "code",
   "execution_count": 55,
   "id": "f1bffcc9",
   "metadata": {},
   "outputs": [
    {
     "data": {
      "text/plain": [
       "0.931924882629108"
      ]
     },
     "execution_count": 55,
     "metadata": {},
     "output_type": "execute_result"
    }
   ],
   "source": [
    "resultlgmb"
   ]
  },
  {
   "cell_type": "markdown",
   "id": "0e5d9a3b",
   "metadata": {},
   "source": [
    "## SVM & Bayes Optimization"
   ]
  },
  {
   "cell_type": "code",
   "execution_count": 35,
   "id": "0d1bb68d",
   "metadata": {},
   "outputs": [
    {
     "name": "stdout",
     "output_type": "stream",
     "text": [
      "Train Score: 0.9294117647058824\n",
      "Test Score: 0.9131455399061033\n"
     ]
    }
   ],
   "source": [
    "svc = SVC(random_state=42\n",
    "           ,C= 8.5385\n",
    "           ,kernel='rbf'\n",
    "           ,degree= 7\n",
    "          ,gamma=\"scale\"\n",
    "          , probability=True)\n",
    "accuracies = cross_val_score(svc,X1_train,y1_train,cv=5)\n",
    "svc.fit(X1_train,y1_train)\n",
    "svc.predict(X1_test)\n",
    "print(\"Train Score:\",np.mean(accuracies))\n",
    "print(\"Test Score:\",svc.score(X1_test,y1_test))"
   ]
  },
  {
   "cell_type": "code",
   "execution_count": 36,
   "id": "7046cdb3",
   "metadata": {},
   "outputs": [
    {
     "name": "stdout",
     "output_type": "stream",
     "text": [
      "Test loss Score: 0.21596376243264967\n"
     ]
    }
   ],
   "source": [
    "pred=svc.predict(X1_test)\n",
    "prob=svc.predict_proba(X1_test)\n",
    "print(\"Test loss Score:\",log_loss(y1_test,prob))"
   ]
  },
  {
   "cell_type": "code",
   "execution_count": 37,
   "id": "92704c1c",
   "metadata": {},
   "outputs": [
    {
     "name": "stdout",
     "output_type": "stream",
     "text": [
      "Train Score: 0.9294117647058824\n",
      "Test Score: 0.9272300469483568\n"
     ]
    }
   ],
   "source": [
    "svc.fit(X_train,y_train)\n",
    "svc.predict(X_test)\n",
    "print(\"Train Score:\",np.mean(accuracies))\n",
    "print(\"Test Score:\",svc.score(X_test,y_test))"
   ]
  },
  {
   "cell_type": "code",
   "execution_count": 38,
   "id": "ce564672",
   "metadata": {},
   "outputs": [
    {
     "data": {
      "text/plain": [
       "datetime.timedelta(seconds=138, microseconds=343123)"
      ]
     },
     "execution_count": 38,
     "metadata": {},
     "output_type": "execute_result"
    }
   ],
   "source": [
    "start=datetime.now()                \n",
    "# log-uniform: understand as search over p = exp(x) by varying x\n",
    "BayerSvmopt = BayesSearchCV(\n",
    "    SVC(probability=True, random_state=42,\n",
    "          C=10\n",
    "           ,degree= 1\n",
    "           ,gamma= 0.0013\n",
    "           ,kernel='rbf'\n",
    "#            ,random_state=42\n",
    "# #           ,gamma=\"scale\"\n",
    "#           , probability=True\n",
    "    ),\n",
    "    {\n",
    "        \n",
    "#        'kernel': ['linear', 'poly', 'rbf'],\n",
    "#         'C':(1, 10),     \n",
    "        'gamma': (0.01, 1),\n",
    "\n",
    "    },\n",
    " \n",
    "    n_iter=50,\n",
    "    cv=5\n",
    "    ,scoring=\"neg_log_loss\"\n",
    "    ,random_state=42\n",
    "    ,n_points=2\n",
    ")\n",
    "\n",
    "BayerSvmopt.fit(X1_train, y1_train)\n",
    "stop=datetime.now()\n",
    "\n",
    "execution_time_svm1=(stop-start)\n",
    "execution_time_svm1\n"
   ]
  },
  {
   "cell_type": "code",
   "execution_count": 39,
   "id": "f8511169",
   "metadata": {},
   "outputs": [
    {
     "name": "stdout",
     "output_type": "stream",
     "text": [
      "best params: OrderedDict([('gamma', 0.04774380456123877)])\n",
      "val. score: -0.19413307495813142\n",
      "test score: -0.21452155198861358\n"
     ]
    }
   ],
   "source": [
    "print(\"best params: %s\" % str(BayerSvmopt.best_params_))\n",
    "\n",
    "\n",
    "print(\"val. score: %s\" % BayerSvmopt.best_score_)\n",
    "print(\"test score: %s\" % BayerSvmopt.score(X1_test, y1_test))"
   ]
  },
  {
   "cell_type": "code",
   "execution_count": 56,
   "id": "77dd86b0",
   "metadata": {},
   "outputs": [],
   "source": [
    "svc1=SVC(probability=True, random_state=42,\n",
    "          C=10\n",
    "           ,degree= 1\n",
    "           ,gamma= 0.0477\n",
    "           ,kernel='rbf')"
   ]
  },
  {
   "cell_type": "code",
   "execution_count": 57,
   "id": "e530474a",
   "metadata": {},
   "outputs": [
    {
     "data": {
      "text/plain": [
       "0.9107981220657277"
      ]
     },
     "execution_count": 57,
     "metadata": {},
     "output_type": "execute_result"
    }
   ],
   "source": [
    "svc1.fit(X1_train,y1_train)\n",
    "svc1.score(X1_test,y1_test)"
   ]
  },
  {
   "cell_type": "code",
   "execution_count": 119,
   "id": "26ad5808",
   "metadata": {},
   "outputs": [
    {
     "name": "stdout",
     "output_type": "stream",
     "text": [
      "accuracy 20  feature: 0.931764705882353\n",
      "F1 score 20  feature: 0.931764705882353\n",
      "roc_auc 20  feature: 0.9781116472936191\n",
      "cross entropy loss 20  feature: -0.19413780228583408\n"
     ]
    }
   ],
   "source": [
    "start=datetime.now()\n",
    "accuracy_score_20_svm =cross_val_score(svc1, X1_train, y1_train, cv=5,scoring='accuracy').mean()\n",
    "F1_score_20_svm =cross_val_score(svc1, X1_train, y1_train, cv=5,scoring='f1_micro').mean()\n",
    "roc_auc_score_20_svm =cross_val_score(svc1, X1_train, y1_train, cv=5,scoring='roc_auc_ovr').mean()\n",
    "neg_loss_score_20_svm =cross_val_score(svc1, X1_train, y1_train, cv=5,scoring='neg_log_loss').mean()\n",
    "\n",
    "stop=datetime.now()\n",
    "execution_time_svm0=(stop-start)/20\n",
    "execution_time_svm0\n",
    "\n",
    "print(\"accuracy 20  feature:\",accuracy_score_20_svm)\n",
    "print('F1 score 20  feature:',F1_score_20_svm)\n",
    "print('roc_auc 20  feature:',roc_auc_score_20_svm)\n",
    "print(\"cross entropy loss 20  feature:\",neg_loss_score_20_svm)"
   ]
  },
  {
   "cell_type": "code",
   "execution_count": 120,
   "id": "0616b6e2",
   "metadata": {},
   "outputs": [
    {
     "name": "stdout",
     "output_type": "stream",
     "text": [
      "0.1998\n"
     ]
    }
   ],
   "source": [
    "training_time_svm0=execution_time_svm0.total_seconds()\n",
    "training_time_svm0='%.4f'%training_time_svm0\n",
    "print(training_time_svm0)"
   ]
  },
  {
   "cell_type": "code",
   "execution_count": 125,
   "id": "4f3e8c00",
   "metadata": {},
   "outputs": [],
   "source": [
    "svc2 = SVC(C= 8.5385\n",
    "           ,kernel='rbf'\n",
    "           ,degree= 7\n",
    "#            ,gamma= 1.584\n",
    "          ,gamma=0.07\n",
    "           ,random_state=42\n",
    "          , probability=True\n",
    "          )"
   ]
  },
  {
   "cell_type": "code",
   "execution_count": 126,
   "id": "0c4acd6c",
   "metadata": {},
   "outputs": [
    {
     "name": "stdout",
     "output_type": "stream",
     "text": [
      "0.3007\n"
     ]
    }
   ],
   "source": [
    "\n",
    "start=datetime.now()\n",
    "svc_ctgnsp=svc2.fit(X1_train,y1_train)\n",
    "stop=datetime.now()\n",
    "execution_time_svc='%.4f'%(stop-start).total_seconds()\n",
    "\n",
    "print(execution_time_svc)"
   ]
  },
  {
   "cell_type": "code",
   "execution_count": 127,
   "id": "373440c5",
   "metadata": {},
   "outputs": [
    {
     "name": "stdout",
     "output_type": "stream",
     "text": [
      "accuracy 20  feature: 0.9270588235294118\n",
      "F1 score 20  feature: 0.9270588235294118\n",
      "roc_auc 20  feature: 0.9764730865709726\n",
      "cross entropy loss 20  feature: -0.19724468696020772\n"
     ]
    }
   ],
   "source": [
    "start=datetime.now()\n",
    "accuracy_score_20_svm =cross_val_score(svc2, X1_train, y1_train, cv=5,scoring='accuracy').mean()\n",
    "F1_score_20_svm =cross_val_score(svc2, X1_train, y1_train, cv=5,scoring='f1_micro').mean()\n",
    "roc_auc_score_20_svm =cross_val_score(svc2, X1_train, y1_train, cv=5,scoring='roc_auc_ovr').mean()\n",
    "neg_loss_score_20_svm =cross_val_score(svc2, X1_train, y1_train, cv=5,scoring='neg_log_loss').mean()\n",
    "\n",
    "stop=datetime.now()\n",
    "execution_time_svm=(stop-start)/20\n",
    "execution_time_svm\n",
    "\n",
    "print(\"accuracy 20  feature:\",accuracy_score_20_svm)\n",
    "print('F1 score 20  feature:',F1_score_20_svm)\n",
    "print('roc_auc 20  feature:',roc_auc_score_20_svm)\n",
    "print(\"cross entropy loss 20  feature:\",neg_loss_score_20_svm)"
   ]
  },
  {
   "cell_type": "code",
   "execution_count": 128,
   "id": "68e11ba0",
   "metadata": {},
   "outputs": [
    {
     "name": "stdout",
     "output_type": "stream",
     "text": [
      "0.2290\n"
     ]
    }
   ],
   "source": [
    "training_time_svm=execution_time_svm.total_seconds()\n",
    "training_time_svm='%.4f'%training_time_svm\n",
    "print(training_time_svm)"
   ]
  },
  {
   "cell_type": "code",
   "execution_count": 129,
   "id": "b5cb0919",
   "metadata": {},
   "outputs": [],
   "source": [
    "y_pred_svc1=svc2.predict(X1_test)\n",
    "y_prob_svc1=svc2.predict_proba(X1_test)"
   ]
  },
  {
   "cell_type": "code",
   "execution_count": 130,
   "id": "ce6ba5bb",
   "metadata": {},
   "outputs": [
    {
     "name": "stdout",
     "output_type": "stream",
     "text": [
      "0.9225\n",
      "0.9225\n",
      "0.9739\n",
      "0.2152\n"
     ]
    }
   ],
   "source": [
    "\n",
    "svc_accuracy='%.4f'%accuracy_score(y1_test, y_pred_svc1)\n",
    "svc_f1='%.4f'%f1_score(y1_test, y_pred_svc1,average='micro')\n",
    "svc_roc_auc='%.4f'% roc_auc_score(y1_test,y_prob_svc1,multi_class='ovr',labels=np.unique(y1_test))\n",
    "svc_loss='%.4f'%log_loss(y1_test,y_prob_svc1)\n",
    "print(svc_accuracy)\n",
    "print(svc_f1)\n",
    "print(svc_roc_auc)\n",
    "print(svc_loss)"
   ]
  },
  {
   "cell_type": "markdown",
   "id": "22b13813",
   "metadata": {},
   "source": [
    "### Comparing with other hyperparameter"
   ]
  },
  {
   "cell_type": "code",
   "execution_count": 68,
   "id": "01cf826e",
   "metadata": {},
   "outputs": [],
   "source": [
    "svc4 = SVC(C= 0.016,degree= 6,gamma= 1.584,kernel='linear',random_state=42\n",
    "#           ,gamma=\"scale\"\n",
    "          , probability=True)"
   ]
  },
  {
   "cell_type": "code",
   "execution_count": 69,
   "id": "4b5603d6",
   "metadata": {},
   "outputs": [
    {
     "data": {
      "text/plain": [
       "0.8873239436619719"
      ]
     },
     "execution_count": 69,
     "metadata": {},
     "output_type": "execute_result"
    }
   ],
   "source": [
    "svc4.fit(X1_train,y1_train)\n",
    "svc4.score(X1_test,y1_test)"
   ]
  },
  {
   "cell_type": "code",
   "execution_count": 74,
   "id": "b590b334",
   "metadata": {},
   "outputs": [],
   "source": [
    "svc3 = SVC(C= 100\n",
    "           ,kernel='rbf'\n",
    "#            ,degree= 7\n",
    "#            ,gamma= 1.584\n",
    "          ,gamma=0.01\n",
    "           ,random_state=42\n",
    "          , probability=True\n",
    "          )"
   ]
  },
  {
   "cell_type": "code",
   "execution_count": 75,
   "id": "4d126690",
   "metadata": {},
   "outputs": [
    {
     "data": {
      "text/plain": [
       "0.9061032863849765"
      ]
     },
     "execution_count": 75,
     "metadata": {},
     "output_type": "execute_result"
    }
   ],
   "source": [
    "svc3.fit(X1_train,y1_train)\n",
    "svc3.score(X1_test,y1_test)"
   ]
  },
  {
   "cell_type": "code",
   "execution_count": 131,
   "id": "5128eb97",
   "metadata": {},
   "outputs": [
    {
     "data": {
      "text/plain": [
       "['svc_ctgnsp.model']"
      ]
     },
     "execution_count": 131,
     "metadata": {},
     "output_type": "execute_result"
    }
   ],
   "source": [
    "  #保存模型\n",
    "joblib.dump(svc_ctgnsp,'svc_ctgnsp.model')"
   ]
  },
  {
   "cell_type": "code",
   "execution_count": 132,
   "id": "69ca0998",
   "metadata": {},
   "outputs": [],
   "source": [
    "#加载模型\n",
    "RFsvc=joblib.load('svc_ctgnsp.model')\n",
    "   #应用模型进行预测\n",
    "resultsvc=RFsvc.score(X1_test,y1_test)"
   ]
  },
  {
   "cell_type": "code",
   "execution_count": 133,
   "id": "e4ad517d",
   "metadata": {
    "scrolled": true
   },
   "outputs": [
    {
     "data": {
      "text/plain": [
       "0.9225352112676056"
      ]
     },
     "execution_count": 133,
     "metadata": {},
     "output_type": "execute_result"
    }
   ],
   "source": [
    "resultsvc"
   ]
  },
  {
   "cell_type": "markdown",
   "id": "49408a79",
   "metadata": {},
   "source": [
    "## Random Forest"
   ]
  },
  {
   "cell_type": "code",
   "execution_count": 84,
   "id": "8e562c96",
   "metadata": {},
   "outputs": [
    {
     "name": "stdout",
     "output_type": "stream",
     "text": [
      "Best parameters found by grid search are: OrderedDict([('criterion', 'entropy'), ('max_depth', 15), ('max_features', 'log2'), ('n_estimators', 150)])\n"
     ]
    }
   ],
   "source": [
    "rf = RFC(random_state=42)\n",
    "\n",
    "\n",
    "Bayesrfopt = BayesSearchCV(\n",
    "   rf,\n",
    "    {   \n",
    "    'n_estimators': [50,100,150],\n",
    "    'max_features': ['auto', 'sqrt', 'log2'],\n",
    "    'max_depth' : [1,2,3,4,5,6,7,8,9,10,11,12,13,14,15,20,25,None],\n",
    "    'criterion' :['gini', 'entropy']\n",
    "    },\n",
    "    n_iter=50,\n",
    "    cv=5,\n",
    "    scoring=\"neg_log_loss\"\n",
    "    ,random_state=42\n",
    "    ,n_points=2\n",
    ")\n",
    "\n",
    "Bayesrfopt.fit(X_train, y_train)\n",
    "print('Best parameters found by grid search are:', Bayesrfopt.best_params_)"
   ]
  },
  {
   "cell_type": "code",
   "execution_count": 85,
   "id": "9b0798e8",
   "metadata": {},
   "outputs": [
    {
     "name": "stdout",
     "output_type": "stream",
     "text": [
      "val. score: -0.1692701664792431\n",
      "test score: -0.16207517807710756\n"
     ]
    }
   ],
   "source": [
    "print(\"val. score: %s\" % Bayesrfopt.best_score_)\n",
    "print(\"test score: %s\" % Bayesrfopt.score(X_test, y_test))"
   ]
  },
  {
   "cell_type": "code",
   "execution_count": 86,
   "id": "91436942",
   "metadata": {},
   "outputs": [],
   "source": [
    "rf1 = RFC(random_state=42, max_features='log2', n_estimators= 150,\n",
    "                                     max_depth=15, \n",
    "                                     criterion='entropy')"
   ]
  },
  {
   "cell_type": "code",
   "execution_count": 87,
   "id": "5186830d",
   "metadata": {},
   "outputs": [
    {
     "name": "stdout",
     "output_type": "stream",
     "text": [
      "0.4388\n"
     ]
    }
   ],
   "source": [
    "start=datetime.now()\n",
    "rf1.fit(X_train,y_train)\n",
    "stop=datetime.now()\n",
    "execution_time_rf=(stop-start)\n",
    "execution_time_rf\n",
    "training_time_rf0=execution_time_rf.total_seconds()\n",
    "training_time_rf0='%.4f'%training_time_rf0\n",
    "print(training_time_rf0)"
   ]
  },
  {
   "cell_type": "code",
   "execution_count": 88,
   "id": "8763101d",
   "metadata": {},
   "outputs": [
    {
     "name": "stdout",
     "output_type": "stream",
     "text": [
      "CVTrain loss Score: -0.17598935270976362\n",
      "CVTrain accuracy Score: 0.943529411764706\n",
      "Test accuracy Score: 0.9483568075117371\n",
      "Test loss Score: 0.16207517807710756\n"
     ]
    }
   ],
   "source": [
    "accuracies = cross_val_score(rf1,X1_train,y1_train,cv=5)\n",
    "loss=cross_val_score(rf1,X1_train,y1_train,cv=5,scoring='neg_log_loss')\n",
    "rf1.fit(X_train,y_train)\n",
    "pred=rf1.predict(X_test)\n",
    "prob=rf1.predict_proba(X_test)\n",
    "print(\"CVTrain loss Score:\",np.mean(loss))\n",
    "print(\"CVTrain accuracy Score:\",np.mean(accuracies))\n",
    "print(\"Test accuracy Score:\",rf1.score(X_test,y_test))\n",
    "print(\"Test loss Score:\",log_loss(y_test,prob))"
   ]
  },
  {
   "cell_type": "code",
   "execution_count": 98,
   "id": "67feb2ca",
   "metadata": {},
   "outputs": [
    {
     "data": {
      "text/plain": [
       "0.931924882629108"
      ]
     },
     "execution_count": 98,
     "metadata": {},
     "output_type": "execute_result"
    }
   ],
   "source": [
    "rf1.fit(X1_train,y1_train)\n",
    "rf1.score(X1_test,y1_test)"
   ]
  },
  {
   "cell_type": "code",
   "execution_count": 89,
   "id": "c499b843",
   "metadata": {},
   "outputs": [
    {
     "name": "stdout",
     "output_type": "stream",
     "text": [
      "0:01:45.828564\n",
      "Best parameters found by grid search are: OrderedDict([('criterion', 'entropy'), ('max_depth', 12), ('max_features', 'sqrt'), ('n_estimators', 100)])\n"
     ]
    }
   ],
   "source": [
    "start=datetime.now()\n",
    "Bayesrfopt1 = BayesSearchCV(\n",
    "   rf1,\n",
    "    {   \n",
    "    'n_estimators': [50,100,150],\n",
    "    'max_features': ['auto', 'sqrt', 'log2'],\n",
    "    'max_depth' : [1,2,3,4,5,6,7,8,9,10,11,12,13,14,15,20,25,None],\n",
    "    'criterion' :['gini', 'entropy']\n",
    "    },\n",
    "    n_iter=50,\n",
    "    cv=5,\n",
    "    scoring=\"neg_log_loss\"\n",
    "    ,random_state=42\n",
    "    ,n_points=2\n",
    ")\n",
    "\n",
    "Bayesrfopt1.fit(X1_train, y1_train)\n",
    "\n",
    "stop=datetime.now()\n",
    "execution_time_rf0=(stop-start)\n",
    "print(execution_time_rf0)\n",
    "print('Best parameters found by grid search are:', Bayesrfopt1.best_params_)"
   ]
  },
  {
   "cell_type": "code",
   "execution_count": 90,
   "id": "4e1f8157",
   "metadata": {},
   "outputs": [
    {
     "name": "stdout",
     "output_type": "stream",
     "text": [
      "val. score: -0.15870577382751713\n",
      "test score: -0.18164782887922457\n"
     ]
    }
   ],
   "source": [
    "\n",
    "print(\"val. score: %s\" % Bayesrfopt1.best_score_)\n",
    "print(\"test score: %s\" % Bayesrfopt1.score(X1_test, y1_test))"
   ]
  },
  {
   "cell_type": "code",
   "execution_count": 91,
   "id": "f8f4c6d7",
   "metadata": {},
   "outputs": [],
   "source": [
    "rf2= RFC(random_state=42, max_features='sqrt', n_estimators= 100,\n",
    "                                     max_depth=12, \n",
    "                                     criterion='entropy')\n"
   ]
  },
  {
   "cell_type": "code",
   "execution_count": 92,
   "id": "f8c766e9",
   "metadata": {},
   "outputs": [
    {
     "name": "stdout",
     "output_type": "stream",
     "text": [
      "accuracy 10  feature: 0.9441176470588235\n",
      "F1 score 10  feature: 0.9441176470588235\n",
      "roc_auc 10  feature: 0.9875042361650694\n",
      "cross entropy loss 10  feature: -0.15870577382751713\n"
     ]
    }
   ],
   "source": [
    "start=datetime.now()\n",
    "accuracy_score_10_rf =cross_val_score(rf2, X1_train, y1_train, cv=5,scoring='accuracy').mean()\n",
    "F1_score_10_rf =cross_val_score(rf2, X1_train, y1_train, cv=5,scoring='f1_micro').mean()\n",
    "roc_auc_score_10_rf =cross_val_score(rf2, X1_train, y1_train, cv=5,scoring='roc_auc_ovr').mean()\n",
    "neg_loss_score_10_rf =cross_val_score(rf2, X1_train, y1_train, cv=5,scoring='neg_log_loss').mean()\n",
    "\n",
    "stop=datetime.now()\n",
    "execution_time_rf=(stop-start)/20\n",
    "execution_time_rf\n",
    "\n",
    "print(\"accuracy 10  feature:\",accuracy_score_10_rf)\n",
    "print('F1 score 10  feature:',F1_score_10_rf)\n",
    "print('roc_auc 10  feature:',roc_auc_score_10_rf)\n",
    "print(\"cross entropy loss 10  feature:\",neg_loss_score_10_rf)"
   ]
  },
  {
   "cell_type": "code",
   "execution_count": 93,
   "id": "03badf76",
   "metadata": {},
   "outputs": [
    {
     "name": "stdout",
     "output_type": "stream",
     "text": [
      "0.2522\n"
     ]
    }
   ],
   "source": [
    "training_time_rf=execution_time_rf.total_seconds()\n",
    "training_time_rf='%.4f'%training_time_rf\n",
    "print(training_time_rf)"
   ]
  },
  {
   "cell_type": "code",
   "execution_count": 94,
   "id": "0383a71a",
   "metadata": {},
   "outputs": [
    {
     "name": "stdout",
     "output_type": "stream",
     "text": [
      "Accuracy score with LGBM is:  0.9389671361502347\n",
      "F1 score with LGBM is:  0.9389671361502347\n",
      "ROC_AUC score with LGBM is:  0.9833181298995961\n",
      "Cross entropy loss score with LGBM is:  0.18164782887922457\n",
      "0.9390\n",
      "0.9390\n",
      "0.9833\n",
      "0.1816\n"
     ]
    }
   ],
   "source": [
    "rf_ctgnsp=rf2.fit(X1_train,y1_train)\n",
    "y_pred_rf2=rf2.predict(X1_test)\n",
    "y_prob_rf2=rf2.predict_proba(X1_test)\n",
    "\n",
    "print(\"Accuracy score with LGBM is: \",accuracy_score(y1_test, y_pred_rf2))\n",
    "print(\"F1 score with LGBM is: \",f1_score(y1_test, y_pred_rf2,average='micro'))\n",
    "print(\"ROC_AUC score with LGBM is: \", roc_auc_score(y1_test,y_prob_rf2,multi_class='ovr',labels=np.unique(y1_test)))\n",
    "print(\"Cross entropy loss score with LGBM is: \",log_loss(y1_test,y_prob_rf2))\n",
    "\n",
    "\n",
    "rf_accuracy='%.4f'%accuracy_score(y1_test, y_pred_rf2)\n",
    "rf_f1='%.4f'%f1_score(y1_test, y_pred_rf2,average='micro')\n",
    "rf_roc_auc='%.4f'% roc_auc_score(y1_test,y_prob_rf2,multi_class='ovr',labels=np.unique(y1_test))\n",
    "rf_loss='%.4f'%log_loss(y1_test,y_prob_rf2)\n",
    "print(rf_accuracy)\n",
    "print(rf_f1)\n",
    "print(rf_roc_auc)\n",
    "print(rf_loss)"
   ]
  },
  {
   "cell_type": "code",
   "execution_count": 95,
   "id": "b2822f1d",
   "metadata": {},
   "outputs": [
    {
     "data": {
      "text/plain": [
       "['rf_ctgnsp.model']"
      ]
     },
     "execution_count": 95,
     "metadata": {},
     "output_type": "execute_result"
    }
   ],
   "source": [
    "# save the model\n",
    "joblib.dump(rf_ctgnsp,'rf_ctgnsp.model')"
   ]
  },
  {
   "cell_type": "code",
   "execution_count": 96,
   "id": "fa2bb521",
   "metadata": {},
   "outputs": [],
   "source": [
    "   #加载模型\n",
    "RFrf=joblib.load('rf_ctgnsp.model')\n",
    "   #应用模型进行预测\n",
    "rfresult=RFrf.score(X1_test,y1_test)"
   ]
  },
  {
   "cell_type": "code",
   "execution_count": 97,
   "id": "344f3314",
   "metadata": {},
   "outputs": [
    {
     "data": {
      "text/plain": [
       "0.9389671361502347"
      ]
     },
     "execution_count": 97,
     "metadata": {},
     "output_type": "execute_result"
    }
   ],
   "source": [
    "rfresult"
   ]
  },
  {
   "cell_type": "code",
   "execution_count": 134,
   "id": "34b5df06",
   "metadata": {},
   "outputs": [
    {
     "data": {
      "text/html": [
       "<div>\n",
       "<style scoped>\n",
       "    .dataframe tbody tr th:only-of-type {\n",
       "        vertical-align: middle;\n",
       "    }\n",
       "\n",
       "    .dataframe tbody tr th {\n",
       "        vertical-align: top;\n",
       "    }\n",
       "\n",
       "    .dataframe thead th {\n",
       "        text-align: right;\n",
       "    }\n",
       "</style>\n",
       "<table border=\"1\" class=\"dataframe\">\n",
       "  <thead>\n",
       "    <tr style=\"text-align: right;\">\n",
       "      <th></th>\n",
       "      <th>accuracy</th>\n",
       "      <th>f1_score</th>\n",
       "      <th>roc_auc</th>\n",
       "      <th>cross_entropy_loss</th>\n",
       "      <th>training_time[s]</th>\n",
       "    </tr>\n",
       "  </thead>\n",
       "  <tbody>\n",
       "    <tr>\n",
       "      <th>Light GBM</th>\n",
       "      <td>0.9319</td>\n",
       "      <td>0.9319</td>\n",
       "      <td>0.9825</td>\n",
       "      <td>0.1832</td>\n",
       "      <td>0.5549</td>\n",
       "    </tr>\n",
       "    <tr>\n",
       "      <th>SVM</th>\n",
       "      <td>0.9225</td>\n",
       "      <td>0.9225</td>\n",
       "      <td>0.9739</td>\n",
       "      <td>0.2152</td>\n",
       "      <td>0.2290</td>\n",
       "    </tr>\n",
       "    <tr>\n",
       "      <th>Random Forest</th>\n",
       "      <td>0.9390</td>\n",
       "      <td>0.9390</td>\n",
       "      <td>0.9833</td>\n",
       "      <td>0.1816</td>\n",
       "      <td>0.2522</td>\n",
       "    </tr>\n",
       "    <tr>\n",
       "      <th>Pytorch ANN</th>\n",
       "      <td>0.9319</td>\n",
       "      <td>0.9319</td>\n",
       "      <td>0.9825</td>\n",
       "      <td>0.1832</td>\n",
       "      <td>0.5549</td>\n",
       "    </tr>\n",
       "  </tbody>\n",
       "</table>\n",
       "</div>"
      ],
      "text/plain": [
       "              accuracy f1_score roc_auc cross_entropy_loss training_time[s]\n",
       "Light GBM       0.9319   0.9319  0.9825             0.1832           0.5549\n",
       "SVM             0.9225   0.9225  0.9739             0.2152           0.2290\n",
       "Random Forest   0.9390   0.9390  0.9833             0.1816           0.2522\n",
       "Pytorch ANN     0.9319   0.9319  0.9825             0.1832           0.5549"
      ]
     },
     "execution_count": 134,
     "metadata": {},
     "output_type": "execute_result"
    }
   ],
   "source": [
    "CTGNSP_dict = { \n",
    "              'accuracy':[lgbm_accuracy,svc_accuracy0,rf_accuracy,lgbm_accuracy],\n",
    "               'f1_score': [lgbm_f1,svc_f10,rf_f1,lgbm_f1],\n",
    "               'roc_auc': [lgbm_roc_auc,svc_roc_auc0,rf_roc_auc,lgbm_roc_auc],\n",
    "               'cross_entropy_loss': [lgbm_loss,svc_loss0,rf_loss,lgbm_loss],\n",
    "                'training_time[s]':[training_time_lgbm,training_time_svm,training_time_rf,training_time_lgbm ]\n",
    "               }\n",
    "pr_df = pd.DataFrame(CTGNSP_dict,index=['Light GBM','SVM','Random Forest','Pytorch ANN'])\n",
    "pr_df"
   ]
  }
 ],
 "metadata": {
  "kernelspec": {
   "display_name": "Python 3 (ipykernel)",
   "language": "python",
   "name": "python3"
  },
  "language_info": {
   "codemirror_mode": {
    "name": "ipython",
    "version": 3
   },
   "file_extension": ".py",
   "mimetype": "text/x-python",
   "name": "python",
   "nbconvert_exporter": "python",
   "pygments_lexer": "ipython3",
   "version": "3.9.7"
  },
  "toc": {
   "base_numbering": 1,
   "nav_menu": {},
   "number_sections": true,
   "sideBar": true,
   "skip_h1_title": false,
   "title_cell": "Table of Contents",
   "title_sidebar": "Contents",
   "toc_cell": false,
   "toc_position": {},
   "toc_section_display": true,
   "toc_window_display": false
  }
 },
 "nbformat": 4,
 "nbformat_minor": 5
}

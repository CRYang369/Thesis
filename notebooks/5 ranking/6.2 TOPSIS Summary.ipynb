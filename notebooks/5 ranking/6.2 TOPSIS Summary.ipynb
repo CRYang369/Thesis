{
 "cells": [
  {
   "cell_type": "markdown",
   "id": "a2874ec1",
   "metadata": {},
   "source": [
    "# Import package"
   ]
  },
  {
   "cell_type": "code",
   "execution_count": 1,
   "id": "f0cb5f28",
   "metadata": {},
   "outputs": [],
   "source": [
    "import numpy as np               \n",
    "import pandas as pd       \n",
    "import matplotlib.pyplot as plt "
   ]
  },
  {
   "cell_type": "markdown",
   "id": "4e3b2122",
   "metadata": {},
   "source": [
    "# Summarize the value of C* of each classifier"
   ]
  },
  {
   "cell_type": "code",
   "execution_count": 2,
   "id": "efee3fa5",
   "metadata": {},
   "outputs": [],
   "source": [
    "attributes = np.array([\"Arrhythmia\", \"Arrhythmia PCA\",\"CTG NSP\", \"CTG Pattern\", \"Heart Disease\"])\n",
    "candidates = np.array([\"Light GBM\", \"SVM\", \"Random Forest\", \"PyTorch ANN\"])\n",
    "raw_data = np.array([\n",
    "\n",
    "    [0.635535, 0.034471, 0.897413,  0.492511,  0.899529],\n",
    "    [0.969873, 0.972108, 0.886963,  0.966670,  0.972321],\n",
    "    [0.606031, 0.938183, 1.000000,  0.887778,  0.651946],\n",
    "    [0.000000, 0.595231, 0.000759,  0.011642,  0.040995],\n",
    "\n",
    "])\n",
    "TOPSIS=pd.DataFrame(data=raw_data, index=candidates, columns=attributes)"
   ]
  },
  {
   "cell_type": "code",
   "execution_count": 3,
   "id": "c71fa8df",
   "metadata": {},
   "outputs": [],
   "source": [
    "TOPSISS=TOPSIS.copy()"
   ]
  },
  {
   "cell_type": "code",
   "execution_count": 4,
   "id": "69dfd51b",
   "metadata": {},
   "outputs": [],
   "source": [
    "weights1 = np.array([0.25, 0.25, 0.25, 0.25,0.25])\n",
    "\n",
    "# The indices of the attributes (zero-based) that are considered beneficial.\n",
    "# Those indices not mentioned are assumed to be cost attributes.\n",
    "benefit_attributes1 = set([0, 1, 2, 3])"
   ]
  },
  {
   "cell_type": "code",
   "execution_count": 5,
   "id": "d384e8c6",
   "metadata": {},
   "outputs": [
    {
     "data": {
      "text/html": [
       "<div>\n",
       "<style scoped>\n",
       "    .dataframe tbody tr th:only-of-type {\n",
       "        vertical-align: middle;\n",
       "    }\n",
       "\n",
       "    .dataframe tbody tr th {\n",
       "        vertical-align: top;\n",
       "    }\n",
       "\n",
       "    .dataframe thead th {\n",
       "        text-align: right;\n",
       "    }\n",
       "</style>\n",
       "<table border=\"1\" class=\"dataframe\">\n",
       "  <thead>\n",
       "    <tr style=\"text-align: right;\">\n",
       "      <th></th>\n",
       "      <th>$X_{0}$</th>\n",
       "      <th>$X_{1}$</th>\n",
       "      <th>$X_{2}$</th>\n",
       "      <th>$X_{3}$</th>\n",
       "      <th>$X_{4}$</th>\n",
       "    </tr>\n",
       "  </thead>\n",
       "  <tbody>\n",
       "    <tr>\n",
       "      <th>Light GBM</th>\n",
       "      <td>0.485746</td>\n",
       "      <td>0.023343</td>\n",
       "      <td>0.557404</td>\n",
       "      <td>0.351319</td>\n",
       "      <td>0.609060</td>\n",
       "    </tr>\n",
       "    <tr>\n",
       "      <th>SVM</th>\n",
       "      <td>0.741283</td>\n",
       "      <td>0.658294</td>\n",
       "      <td>0.550914</td>\n",
       "      <td>0.689546</td>\n",
       "      <td>0.658346</td>\n",
       "    </tr>\n",
       "    <tr>\n",
       "      <th>Random Forest</th>\n",
       "      <td>0.463195</td>\n",
       "      <td>0.635320</td>\n",
       "      <td>0.621124</td>\n",
       "      <td>0.633271</td>\n",
       "      <td>0.441425</td>\n",
       "    </tr>\n",
       "    <tr>\n",
       "      <th>PyTorch ANN</th>\n",
       "      <td>0.000000</td>\n",
       "      <td>0.403079</td>\n",
       "      <td>0.000471</td>\n",
       "      <td>0.008304</td>\n",
       "      <td>0.027757</td>\n",
       "    </tr>\n",
       "  </tbody>\n",
       "</table>\n",
       "</div>"
      ],
      "text/plain": [
       "                $X_{0}$   $X_{1}$   $X_{2}$   $X_{3}$   $X_{4}$\n",
       "Light GBM      0.485746  0.023343  0.557404  0.351319  0.609060\n",
       "SVM            0.741283  0.658294  0.550914  0.689546  0.658346\n",
       "Random Forest  0.463195  0.635320  0.621124  0.633271  0.441425\n",
       "PyTorch ANN    0.000000  0.403079  0.000471  0.008304  0.027757"
      ]
     },
     "execution_count": 5,
     "metadata": {},
     "output_type": "execute_result"
    }
   ],
   "source": [
    "m0 = len(raw_data)\n",
    "n0 = len(attributes)\n",
    "divisors = np.empty(n0)\n",
    "for j in range(n0):\n",
    "    column = raw_data[:,j]\n",
    "    divisors[j] = np.sqrt(column @ column)\n",
    "\n",
    "raw_data /= divisors\n",
    "\n",
    "columns = [\"$X_{%d}$\" % j for j in range(n0)]\n",
    "pd.DataFrame(data=raw_data, index=candidates, columns=columns)"
   ]
  },
  {
   "cell_type": "code",
   "execution_count": 6,
   "id": "9554abf4",
   "metadata": {},
   "outputs": [
    {
     "data": {
      "text/html": [
       "<div>\n",
       "<style scoped>\n",
       "    .dataframe tbody tr th:only-of-type {\n",
       "        vertical-align: middle;\n",
       "    }\n",
       "\n",
       "    .dataframe tbody tr th {\n",
       "        vertical-align: top;\n",
       "    }\n",
       "\n",
       "    .dataframe thead th {\n",
       "        text-align: right;\n",
       "    }\n",
       "</style>\n",
       "<table border=\"1\" class=\"dataframe\">\n",
       "  <thead>\n",
       "    <tr style=\"text-align: right;\">\n",
       "      <th></th>\n",
       "      <th>$X_{0}$</th>\n",
       "      <th>$X_{1}$</th>\n",
       "      <th>$X_{2}$</th>\n",
       "      <th>$X_{3}$</th>\n",
       "      <th>$X_{4}$</th>\n",
       "    </tr>\n",
       "  </thead>\n",
       "  <tbody>\n",
       "    <tr>\n",
       "      <th>Light GBM</th>\n",
       "      <td>0.121436</td>\n",
       "      <td>0.005836</td>\n",
       "      <td>0.139351</td>\n",
       "      <td>0.087830</td>\n",
       "      <td>0.152265</td>\n",
       "    </tr>\n",
       "    <tr>\n",
       "      <th>SVM</th>\n",
       "      <td>0.185321</td>\n",
       "      <td>0.164573</td>\n",
       "      <td>0.137728</td>\n",
       "      <td>0.172387</td>\n",
       "      <td>0.164587</td>\n",
       "    </tr>\n",
       "    <tr>\n",
       "      <th>Random Forest</th>\n",
       "      <td>0.115799</td>\n",
       "      <td>0.158830</td>\n",
       "      <td>0.155281</td>\n",
       "      <td>0.158318</td>\n",
       "      <td>0.110356</td>\n",
       "    </tr>\n",
       "    <tr>\n",
       "      <th>PyTorch ANN</th>\n",
       "      <td>0.000000</td>\n",
       "      <td>0.100770</td>\n",
       "      <td>0.000118</td>\n",
       "      <td>0.002076</td>\n",
       "      <td>0.006939</td>\n",
       "    </tr>\n",
       "  </tbody>\n",
       "</table>\n",
       "</div>"
      ],
      "text/plain": [
       "                $X_{0}$   $X_{1}$   $X_{2}$   $X_{3}$   $X_{4}$\n",
       "Light GBM      0.121436  0.005836  0.139351  0.087830  0.152265\n",
       "SVM            0.185321  0.164573  0.137728  0.172387  0.164587\n",
       "Random Forest  0.115799  0.158830  0.155281  0.158318  0.110356\n",
       "PyTorch ANN    0.000000  0.100770  0.000118  0.002076  0.006939"
      ]
     },
     "execution_count": 6,
     "metadata": {},
     "output_type": "execute_result"
    }
   ],
   "source": [
    "raw_data *= weights1\n",
    "pd.DataFrame(data=raw_data, index=candidates, columns=columns)"
   ]
  },
  {
   "cell_type": "code",
   "execution_count": 7,
   "id": "fe611b16",
   "metadata": {},
   "outputs": [
    {
     "data": {
      "text/html": [
       "<div>\n",
       "<style scoped>\n",
       "    .dataframe tbody tr th:only-of-type {\n",
       "        vertical-align: middle;\n",
       "    }\n",
       "\n",
       "    .dataframe tbody tr th {\n",
       "        vertical-align: top;\n",
       "    }\n",
       "\n",
       "    .dataframe thead th {\n",
       "        text-align: right;\n",
       "    }\n",
       "</style>\n",
       "<table border=\"1\" class=\"dataframe\">\n",
       "  <thead>\n",
       "    <tr style=\"text-align: right;\">\n",
       "      <th></th>\n",
       "      <th>$X_{0}$</th>\n",
       "      <th>$X_{1}$</th>\n",
       "      <th>$X_{2}$</th>\n",
       "      <th>$X_{3}$</th>\n",
       "      <th>$X_{4}$</th>\n",
       "    </tr>\n",
       "  </thead>\n",
       "  <tbody>\n",
       "    <tr>\n",
       "      <th>$A^*$</th>\n",
       "      <td>0.185321</td>\n",
       "      <td>0.164573</td>\n",
       "      <td>0.155281</td>\n",
       "      <td>0.172387</td>\n",
       "      <td>0.006939</td>\n",
       "    </tr>\n",
       "    <tr>\n",
       "      <th>$A^-$</th>\n",
       "      <td>0.000000</td>\n",
       "      <td>0.005836</td>\n",
       "      <td>0.000118</td>\n",
       "      <td>0.002076</td>\n",
       "      <td>0.164587</td>\n",
       "    </tr>\n",
       "  </tbody>\n",
       "</table>\n",
       "</div>"
      ],
      "text/plain": [
       "        $X_{0}$   $X_{1}$   $X_{2}$   $X_{3}$   $X_{4}$\n",
       "$A^*$  0.185321  0.164573  0.155281  0.172387  0.006939\n",
       "$A^-$  0.000000  0.005836  0.000118  0.002076  0.164587"
      ]
     },
     "execution_count": 7,
     "metadata": {},
     "output_type": "execute_result"
    }
   ],
   "source": [
    "a_pos = np.zeros(n0)\n",
    "a_neg = np.zeros(n0)\n",
    "for j in range(n0):\n",
    "    column = raw_data[:,j]\n",
    "    max_val = np.max(column)\n",
    "    min_val = np.min(column)\n",
    "    \n",
    "    # See if we want to maximize benefit or minimize cost (for PIS)\n",
    "    if j in benefit_attributes1:\n",
    "        a_pos[j] = max_val\n",
    "        a_neg[j] = min_val\n",
    "    else:\n",
    "        a_pos[j] = min_val\n",
    "        a_neg[j] = max_val\n",
    "\n",
    "pd.DataFrame(data=[a_pos, a_neg], index=[\"$A^*$\", \"$A^-$\"], columns=columns)"
   ]
  },
  {
   "cell_type": "code",
   "execution_count": 8,
   "id": "54ba6391",
   "metadata": {},
   "outputs": [
    {
     "data": {
      "text/html": [
       "<div>\n",
       "<style scoped>\n",
       "    .dataframe tbody tr th:only-of-type {\n",
       "        vertical-align: middle;\n",
       "    }\n",
       "\n",
       "    .dataframe tbody tr th {\n",
       "        vertical-align: top;\n",
       "    }\n",
       "\n",
       "    .dataframe thead th {\n",
       "        text-align: right;\n",
       "    }\n",
       "</style>\n",
       "<table border=\"1\" class=\"dataframe\">\n",
       "  <thead>\n",
       "    <tr style=\"text-align: right;\">\n",
       "      <th></th>\n",
       "      <th>$S^*$</th>\n",
       "      <th>$S^-$</th>\n",
       "      <th>$C^*$</th>\n",
       "    </tr>\n",
       "  </thead>\n",
       "  <tbody>\n",
       "    <tr>\n",
       "      <th>Light GBM</th>\n",
       "      <td>0.240421</td>\n",
       "      <td>0.204054</td>\n",
       "      <td>0.459091</td>\n",
       "    </tr>\n",
       "    <tr>\n",
       "      <th>SVM</th>\n",
       "      <td>0.158621</td>\n",
       "      <td>0.327847</td>\n",
       "      <td>0.673933</td>\n",
       "    </tr>\n",
       "    <tr>\n",
       "      <th>Random Forest</th>\n",
       "      <td>0.125536</td>\n",
       "      <td>0.297060</td>\n",
       "      <td>0.702941</td>\n",
       "    </tr>\n",
       "    <tr>\n",
       "      <th>PyTorch ANN</th>\n",
       "      <td>0.302483</td>\n",
       "      <td>0.184025</td>\n",
       "      <td>0.378257</td>\n",
       "    </tr>\n",
       "  </tbody>\n",
       "</table>\n",
       "</div>"
      ],
      "text/plain": [
       "                  $S^*$     $S^-$     $C^*$\n",
       "Light GBM      0.240421  0.204054  0.459091\n",
       "SVM            0.158621  0.327847  0.673933\n",
       "Random Forest  0.125536  0.297060  0.702941\n",
       "PyTorch ANN    0.302483  0.184025  0.378257"
      ]
     },
     "execution_count": 8,
     "metadata": {},
     "output_type": "execute_result"
    }
   ],
   "source": [
    "sp = np.zeros(m0)\n",
    "sn = np.zeros(m0)\n",
    "cs = np.zeros(m0)\n",
    "\n",
    "for i in range(m0):\n",
    "    diff_pos = raw_data[i] - a_pos\n",
    "    diff_neg = raw_data[i] - a_neg\n",
    "    sp[i] = np.sqrt(diff_pos @ diff_pos)\n",
    "    sn[i] = np.sqrt(diff_neg @ diff_neg)\n",
    "    cs[i] = sn[i] / (sp[i] + sn[i])\n",
    "\n",
    "pd.DataFrame(data=zip(sp, sn, cs), index=candidates, columns=[\"$S^*$\", \"$S^-$\", \"$C^*$\"])"
   ]
  },
  {
   "cell_type": "code",
   "execution_count": 9,
   "id": "d8e4e634",
   "metadata": {},
   "outputs": [],
   "source": [
    "TOPSISS['TOPSIS Final Analysis']=[0.459091,0.673933,0.702941,0.378257]"
   ]
  },
  {
   "cell_type": "code",
   "execution_count": 10,
   "id": "180ef251",
   "metadata": {
    "scrolled": true
   },
   "outputs": [
    {
     "data": {
      "text/html": [
       "<div>\n",
       "<style scoped>\n",
       "    .dataframe tbody tr th:only-of-type {\n",
       "        vertical-align: middle;\n",
       "    }\n",
       "\n",
       "    .dataframe tbody tr th {\n",
       "        vertical-align: top;\n",
       "    }\n",
       "\n",
       "    .dataframe thead th {\n",
       "        text-align: right;\n",
       "    }\n",
       "</style>\n",
       "<table border=\"1\" class=\"dataframe\">\n",
       "  <thead>\n",
       "    <tr style=\"text-align: right;\">\n",
       "      <th></th>\n",
       "      <th>Arrhythmia</th>\n",
       "      <th>Arrhythmia PCA</th>\n",
       "      <th>CTG NSP</th>\n",
       "      <th>CTG Pattern</th>\n",
       "      <th>Heart Disease</th>\n",
       "      <th>TOPSIS Final Analysis</th>\n",
       "    </tr>\n",
       "  </thead>\n",
       "  <tbody>\n",
       "    <tr>\n",
       "      <th>Light GBM</th>\n",
       "      <td>0.635535</td>\n",
       "      <td>0.034471</td>\n",
       "      <td>0.897413</td>\n",
       "      <td>0.492511</td>\n",
       "      <td>0.899529</td>\n",
       "      <td>0.459091</td>\n",
       "    </tr>\n",
       "    <tr>\n",
       "      <th>SVM</th>\n",
       "      <td>0.969873</td>\n",
       "      <td>0.972108</td>\n",
       "      <td>0.886963</td>\n",
       "      <td>0.966670</td>\n",
       "      <td>0.972321</td>\n",
       "      <td>0.673933</td>\n",
       "    </tr>\n",
       "    <tr>\n",
       "      <th>Random Forest</th>\n",
       "      <td>0.606031</td>\n",
       "      <td>0.938183</td>\n",
       "      <td>1.000000</td>\n",
       "      <td>0.887778</td>\n",
       "      <td>0.651946</td>\n",
       "      <td>0.702941</td>\n",
       "    </tr>\n",
       "    <tr>\n",
       "      <th>PyTorch ANN</th>\n",
       "      <td>0.000000</td>\n",
       "      <td>0.595231</td>\n",
       "      <td>0.000759</td>\n",
       "      <td>0.011642</td>\n",
       "      <td>0.040995</td>\n",
       "      <td>0.378257</td>\n",
       "    </tr>\n",
       "  </tbody>\n",
       "</table>\n",
       "</div>"
      ],
      "text/plain": [
       "               Arrhythmia  Arrhythmia PCA   CTG NSP  CTG Pattern  \\\n",
       "Light GBM        0.635535        0.034471  0.897413     0.492511   \n",
       "SVM              0.969873        0.972108  0.886963     0.966670   \n",
       "Random Forest    0.606031        0.938183  1.000000     0.887778   \n",
       "PyTorch ANN      0.000000        0.595231  0.000759     0.011642   \n",
       "\n",
       "               Heart Disease  TOPSIS Final Analysis  \n",
       "Light GBM           0.899529               0.459091  \n",
       "SVM                 0.972321               0.673933  \n",
       "Random Forest       0.651946               0.702941  \n",
       "PyTorch ANN         0.040995               0.378257  "
      ]
     },
     "execution_count": 10,
     "metadata": {},
     "output_type": "execute_result"
    }
   ],
   "source": [
    "TOPSISS"
   ]
  },
  {
   "cell_type": "code",
   "execution_count": 11,
   "id": "e29bbda7",
   "metadata": {},
   "outputs": [
    {
     "data": {
      "text/plain": [
       "Light GBM        0.459091\n",
       "SVM              0.673933\n",
       "Random Forest    0.702941\n",
       "PyTorch ANN      0.378257\n",
       "Name: TOPSIS Final Analysis, dtype: float64"
      ]
     },
     "execution_count": 11,
     "metadata": {},
     "output_type": "execute_result"
    }
   ],
   "source": [
    "TOPSISS['TOPSIS Final Analysis']"
   ]
  },
  {
   "cell_type": "code",
   "execution_count": 12,
   "id": "c7f6ff1d",
   "metadata": {},
   "outputs": [],
   "source": [
    "ax=list(TOPSISS['TOPSIS Final Analysis'].keys())\n",
    "ay=list(TOPSISS['TOPSIS Final Analysis'].values)"
   ]
  },
  {
   "cell_type": "code",
   "execution_count": 13,
   "id": "51c309a3",
   "metadata": {},
   "outputs": [
    {
     "data": {
      "text/plain": [
       "<BarContainer object of 4 artists>"
      ]
     },
     "execution_count": 13,
     "metadata": {},
     "output_type": "execute_result"
    },
    {
     "data": {
      "image/png": "[encoded data removed]",
      "text/plain": [
       "<Figure size 432x288 with 1 Axes>"
      ]
     },
     "metadata": {
      "needs_background": "light"
     },
     "output_type": "display_data"
    }
   ],
   "source": [
    "\n",
    "# plt.figure(figsize=(4,1))\n",
    "\n",
    "plt.barh(ax,ay\n",
    "#          ,height = 0.3\n",
    "         ,color=['g','b','r','m'])\n",
    "# plt.xticks(size=3)\n",
    "# plt.yticks(size=3)\n",
    "# plt.xlabel(\"Predicted probability\",fontdict=fontdict)"
   ]
  },
  {
   "cell_type": "code",
   "execution_count": 14,
   "id": "95e4c51b",
   "metadata": {},
   "outputs": [
    {
     "data": {
      "image/png": "[encoded data removed]",
      "text/plain": [
       "<Figure size 432x288 with 1 Axes>"
      ]
     },
     "metadata": {
      "needs_background": "light"
     },
     "output_type": "display_data"
    }
   ],
   "source": [
    "\n",
    "order = pd.Series(ay,index =ax).sort_values(ascending=False)\n",
    "plt.barh(order.index, order,height = 0.8,color=['g','b','r','m'])\n",
    "plt.show()"
   ]
  }
 ],
 "metadata": {
  "kernelspec": {
   "display_name": "Python 3 (ipykernel)",
   "language": "python",
   "name": "python3"
  },
  "language_info": {
   "codemirror_mode": {
    "name": "ipython",
    "version": 3
   },
   "file_extension": ".py",
   "mimetype": "text/x-python",
   "name": "python",
   "nbconvert_exporter": "python",
   "pygments_lexer": "ipython3",
   "version": "3.9.7"
  },
  "toc": {
   "base_numbering": 1,
   "nav_menu": {},
   "number_sections": true,
   "sideBar": true,
   "skip_h1_title": false,
   "title_cell": "Table of Contents",
   "title_sidebar": "Contents",
   "toc_cell": false,
   "toc_position": {},
   "toc_section_display": true,
   "toc_window_display": false
  }
 },
 "nbformat": 4,
 "nbformat_minor": 5
}

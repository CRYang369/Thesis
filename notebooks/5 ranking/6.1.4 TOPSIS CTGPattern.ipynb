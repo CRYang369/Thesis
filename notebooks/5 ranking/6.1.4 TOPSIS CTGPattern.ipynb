{
 "cells": [
  {
   "cell_type": "markdown",
   "id": "1d7f7885",
   "metadata": {},
   "source": [
    "# Import package"
   ]
  },
  {
   "cell_type": "code",
   "execution_count": 1,
   "id": "f0cb5f28",
   "metadata": {},
   "outputs": [],
   "source": [
    "import numpy as np               \n",
    "import pandas as pd       \n",
    "import matplotlib.pyplot as plt "
   ]
  },
  {
   "cell_type": "markdown",
   "id": "464edcd4",
   "metadata": {},
   "source": [
    "# Data to estimate"
   ]
  },
  {
   "cell_type": "code",
   "execution_count": 2,
   "id": "738a9255",
   "metadata": {
    "scrolled": true
   },
   "outputs": [
    {
     "data": {
      "text/html": [
       "<div>\n",
       "<style scoped>\n",
       "    .dataframe tbody tr th:only-of-type {\n",
       "        vertical-align: middle;\n",
       "    }\n",
       "\n",
       "    .dataframe tbody tr th {\n",
       "        vertical-align: top;\n",
       "    }\n",
       "\n",
       "    .dataframe thead th {\n",
       "        text-align: right;\n",
       "    }\n",
       "</style>\n",
       "<table border=\"1\" class=\"dataframe\">\n",
       "  <thead>\n",
       "    <tr style=\"text-align: right;\">\n",
       "      <th></th>\n",
       "      <th>accuracy</th>\n",
       "      <th>f1_score</th>\n",
       "      <th>roc_auc</th>\n",
       "      <th>cross_entropy_loss</th>\n",
       "      <th>training_time[s]</th>\n",
       "    </tr>\n",
       "  </thead>\n",
       "  <tbody>\n",
       "    <tr>\n",
       "      <th>Light GBM</th>\n",
       "      <td>0.8873</td>\n",
       "      <td>0.8873</td>\n",
       "      <td>0.9881</td>\n",
       "      <td>0.3605</td>\n",
       "      <td>2.1351</td>\n",
       "    </tr>\n",
       "    <tr>\n",
       "      <th>SVM</th>\n",
       "      <td>0.8662</td>\n",
       "      <td>0.8662</td>\n",
       "      <td>0.9873</td>\n",
       "      <td>0.3815</td>\n",
       "      <td>0.3817</td>\n",
       "    </tr>\n",
       "    <tr>\n",
       "      <th>Random Forest</th>\n",
       "      <td>0.8732</td>\n",
       "      <td>0.8732</td>\n",
       "      <td>0.9863</td>\n",
       "      <td>0.4547</td>\n",
       "      <td>0.3890</td>\n",
       "    </tr>\n",
       "    <tr>\n",
       "      <th>Pytorch ANN</th>\n",
       "      <td>0.8779</td>\n",
       "      <td>0.8779</td>\n",
       "      <td>0.9807</td>\n",
       "      <td>0.6950</td>\n",
       "      <td>3.2025</td>\n",
       "    </tr>\n",
       "  </tbody>\n",
       "</table>\n",
       "</div>"
      ],
      "text/plain": [
       "               accuracy  f1_score  roc_auc  cross_entropy_loss  \\\n",
       "Light GBM        0.8873    0.8873   0.9881              0.3605   \n",
       "SVM              0.8662    0.8662   0.9873              0.3815   \n",
       "Random Forest    0.8732    0.8732   0.9863              0.4547   \n",
       "Pytorch ANN      0.8779    0.8779   0.9807              0.6950   \n",
       "\n",
       "               training_time[s]  \n",
       "Light GBM                2.1351  \n",
       "SVM                      0.3817  \n",
       "Random Forest            0.3890  \n",
       "Pytorch ANN              3.2025  "
      ]
     },
     "execution_count": 2,
     "metadata": {},
     "output_type": "execute_result"
    }
   ],
   "source": [
    "# The given data encoded into vectors and matrices\n",
    "\n",
    "attributes = np.array([\"accuracy\", \"f1_score\", \"roc_auc\", \"cross_entropy_loss\", \"training_time[s]\"])\n",
    "candidates = np.array([\"Light GBM\", \"SVM\", \"Random Forest\", \"Pytorch ANN\"])\n",
    "data = pd.read_csv('CTGPattern Score.csv',index_col=0)\n",
    "raw_data=data.values\n",
    "weights = np.array([0.2, 0.2, 0.2, 0.2, 0.2])\n",
    "# weights = np.array([0.2, 0.2, 0.2, 0.3, 0.1])\n",
    "\n",
    "# The indices of the attributes (zero-based) that are considered beneficial.\n",
    "# Those indices not mentioned are assumed to be cost attributes.\n",
    "# benefit_attributes = set([0, 1, 2, 3, 4])\n",
    "benefit_attributes = set([0, 1, 2])\n",
    "# Display the raw data we have\n",
    "pd.DataFrame(data=raw_data, index=candidates, columns=attributes)"
   ]
  },
  {
   "cell_type": "markdown",
   "id": "93f9045e",
   "metadata": {},
   "source": [
    "# Normalizing the ratings"
   ]
  },
  {
   "cell_type": "code",
   "execution_count": 3,
   "id": "5e8f6aba",
   "metadata": {},
   "outputs": [
    {
     "data": {
      "text/html": [
       "<div>\n",
       "<style scoped>\n",
       "    .dataframe tbody tr th:only-of-type {\n",
       "        vertical-align: middle;\n",
       "    }\n",
       "\n",
       "    .dataframe tbody tr th {\n",
       "        vertical-align: top;\n",
       "    }\n",
       "\n",
       "    .dataframe thead th {\n",
       "        text-align: right;\n",
       "    }\n",
       "</style>\n",
       "<table border=\"1\" class=\"dataframe\">\n",
       "  <thead>\n",
       "    <tr style=\"text-align: right;\">\n",
       "      <th></th>\n",
       "      <th>$X_{0}$</th>\n",
       "      <th>$X_{1}$</th>\n",
       "      <th>$X_{2}$</th>\n",
       "      <th>$X_{3}$</th>\n",
       "      <th>$X_{4}$</th>\n",
       "    </tr>\n",
       "  </thead>\n",
       "  <tbody>\n",
       "    <tr>\n",
       "      <th>Light GBM</th>\n",
       "      <td>0.506344</td>\n",
       "      <td>0.506344</td>\n",
       "      <td>0.501266</td>\n",
       "      <td>0.366926</td>\n",
       "      <td>0.549240</td>\n",
       "    </tr>\n",
       "    <tr>\n",
       "      <th>SVM</th>\n",
       "      <td>0.494303</td>\n",
       "      <td>0.494303</td>\n",
       "      <td>0.500860</td>\n",
       "      <td>0.388301</td>\n",
       "      <td>0.098190</td>\n",
       "    </tr>\n",
       "    <tr>\n",
       "      <th>Random Forest</th>\n",
       "      <td>0.498297</td>\n",
       "      <td>0.498297</td>\n",
       "      <td>0.500353</td>\n",
       "      <td>0.462805</td>\n",
       "      <td>0.100068</td>\n",
       "    </tr>\n",
       "    <tr>\n",
       "      <th>Pytorch ANN</th>\n",
       "      <td>0.500980</td>\n",
       "      <td>0.500980</td>\n",
       "      <td>0.497512</td>\n",
       "      <td>0.707389</td>\n",
       "      <td>0.823821</td>\n",
       "    </tr>\n",
       "  </tbody>\n",
       "</table>\n",
       "</div>"
      ],
      "text/plain": [
       "                $X_{0}$   $X_{1}$   $X_{2}$   $X_{3}$   $X_{4}$\n",
       "Light GBM      0.506344  0.506344  0.501266  0.366926  0.549240\n",
       "SVM            0.494303  0.494303  0.500860  0.388301  0.098190\n",
       "Random Forest  0.498297  0.498297  0.500353  0.462805  0.100068\n",
       "Pytorch ANN    0.500980  0.500980  0.497512  0.707389  0.823821"
      ]
     },
     "execution_count": 3,
     "metadata": {},
     "output_type": "execute_result"
    }
   ],
   "source": [
    "m = len(raw_data)\n",
    "n = len(attributes)\n",
    "divisors = np.empty(n)\n",
    "for j in range(n):\n",
    "    column = raw_data[:,j]\n",
    "    divisors[j] = np.sqrt(column @ column)\n",
    "\n",
    "raw_data /= divisors\n",
    "\n",
    "columns = [\"$X_{%d}$\" % j for j in range(n)]\n",
    "pd.DataFrame(data=raw_data, index=candidates, columns=columns)"
   ]
  },
  {
   "cell_type": "markdown",
   "id": "a4ac2f89",
   "metadata": {},
   "source": [
    "# Calculating the weighted Normalizing Ratings"
   ]
  },
  {
   "cell_type": "code",
   "execution_count": 4,
   "id": "e7c59f13",
   "metadata": {},
   "outputs": [
    {
     "data": {
      "text/html": [
       "<div>\n",
       "<style scoped>\n",
       "    .dataframe tbody tr th:only-of-type {\n",
       "        vertical-align: middle;\n",
       "    }\n",
       "\n",
       "    .dataframe tbody tr th {\n",
       "        vertical-align: top;\n",
       "    }\n",
       "\n",
       "    .dataframe thead th {\n",
       "        text-align: right;\n",
       "    }\n",
       "</style>\n",
       "<table border=\"1\" class=\"dataframe\">\n",
       "  <thead>\n",
       "    <tr style=\"text-align: right;\">\n",
       "      <th></th>\n",
       "      <th>$X_{0}$</th>\n",
       "      <th>$X_{1}$</th>\n",
       "      <th>$X_{2}$</th>\n",
       "      <th>$X_{3}$</th>\n",
       "      <th>$X_{4}$</th>\n",
       "    </tr>\n",
       "  </thead>\n",
       "  <tbody>\n",
       "    <tr>\n",
       "      <th>Light GBM</th>\n",
       "      <td>0.101269</td>\n",
       "      <td>0.101269</td>\n",
       "      <td>0.100253</td>\n",
       "      <td>0.073385</td>\n",
       "      <td>0.109848</td>\n",
       "    </tr>\n",
       "    <tr>\n",
       "      <th>SVM</th>\n",
       "      <td>0.098861</td>\n",
       "      <td>0.098861</td>\n",
       "      <td>0.100172</td>\n",
       "      <td>0.077660</td>\n",
       "      <td>0.019638</td>\n",
       "    </tr>\n",
       "    <tr>\n",
       "      <th>Random Forest</th>\n",
       "      <td>0.099659</td>\n",
       "      <td>0.099659</td>\n",
       "      <td>0.100071</td>\n",
       "      <td>0.092561</td>\n",
       "      <td>0.020014</td>\n",
       "    </tr>\n",
       "    <tr>\n",
       "      <th>Pytorch ANN</th>\n",
       "      <td>0.100196</td>\n",
       "      <td>0.100196</td>\n",
       "      <td>0.099502</td>\n",
       "      <td>0.141478</td>\n",
       "      <td>0.164764</td>\n",
       "    </tr>\n",
       "  </tbody>\n",
       "</table>\n",
       "</div>"
      ],
      "text/plain": [
       "                $X_{0}$   $X_{1}$   $X_{2}$   $X_{3}$   $X_{4}$\n",
       "Light GBM      0.101269  0.101269  0.100253  0.073385  0.109848\n",
       "SVM            0.098861  0.098861  0.100172  0.077660  0.019638\n",
       "Random Forest  0.099659  0.099659  0.100071  0.092561  0.020014\n",
       "Pytorch ANN    0.100196  0.100196  0.099502  0.141478  0.164764"
      ]
     },
     "execution_count": 4,
     "metadata": {},
     "output_type": "execute_result"
    }
   ],
   "source": [
    "raw_data *= weights\n",
    "pd.DataFrame(data=raw_data, index=candidates, columns=columns)"
   ]
  },
  {
   "cell_type": "markdown",
   "id": "3ea7061b",
   "metadata": {},
   "source": [
    "# Identifying PIS AND NIS"
   ]
  },
  {
   "cell_type": "code",
   "execution_count": 5,
   "id": "89055054",
   "metadata": {},
   "outputs": [
    {
     "data": {
      "text/html": [
       "<div>\n",
       "<style scoped>\n",
       "    .dataframe tbody tr th:only-of-type {\n",
       "        vertical-align: middle;\n",
       "    }\n",
       "\n",
       "    .dataframe tbody tr th {\n",
       "        vertical-align: top;\n",
       "    }\n",
       "\n",
       "    .dataframe thead th {\n",
       "        text-align: right;\n",
       "    }\n",
       "</style>\n",
       "<table border=\"1\" class=\"dataframe\">\n",
       "  <thead>\n",
       "    <tr style=\"text-align: right;\">\n",
       "      <th></th>\n",
       "      <th>$X_{0}$</th>\n",
       "      <th>$X_{1}$</th>\n",
       "      <th>$X_{2}$</th>\n",
       "      <th>$X_{3}$</th>\n",
       "      <th>$X_{4}$</th>\n",
       "    </tr>\n",
       "  </thead>\n",
       "  <tbody>\n",
       "    <tr>\n",
       "      <th>$A^*$</th>\n",
       "      <td>0.101269</td>\n",
       "      <td>0.101269</td>\n",
       "      <td>0.100253</td>\n",
       "      <td>0.073385</td>\n",
       "      <td>0.019638</td>\n",
       "    </tr>\n",
       "    <tr>\n",
       "      <th>$A^-$</th>\n",
       "      <td>0.098861</td>\n",
       "      <td>0.098861</td>\n",
       "      <td>0.099502</td>\n",
       "      <td>0.141478</td>\n",
       "      <td>0.164764</td>\n",
       "    </tr>\n",
       "  </tbody>\n",
       "</table>\n",
       "</div>"
      ],
      "text/plain": [
       "        $X_{0}$   $X_{1}$   $X_{2}$   $X_{3}$   $X_{4}$\n",
       "$A^*$  0.101269  0.101269  0.100253  0.073385  0.019638\n",
       "$A^-$  0.098861  0.098861  0.099502  0.141478  0.164764"
      ]
     },
     "execution_count": 5,
     "metadata": {},
     "output_type": "execute_result"
    }
   ],
   "source": [
    "a_pos = np.zeros(n)\n",
    "a_neg = np.zeros(n)\n",
    "for j in range(n):\n",
    "    column = raw_data[:,j]\n",
    "    max_val = np.max(column)\n",
    "    min_val = np.min(column)\n",
    "    \n",
    "    # See if we want to maximize benefit or minimize cost (for PIS)\n",
    "    if j in benefit_attributes:\n",
    "        a_pos[j] = max_val\n",
    "        a_neg[j] = min_val\n",
    "    else:\n",
    "        a_pos[j] = min_val\n",
    "        a_neg[j] = max_val\n",
    "\n",
    "pd.DataFrame(data=[a_pos, a_neg], index=[\"$A^*$\", \"$A^-$\"], columns=columns)"
   ]
  },
  {
   "cell_type": "markdown",
   "id": "3f677e9c",
   "metadata": {},
   "source": [
    "# Calculating Euclidean Distance and Similarities to PIS"
   ]
  },
  {
   "cell_type": "code",
   "execution_count": 6,
   "id": "edf34abe",
   "metadata": {
    "scrolled": true
   },
   "outputs": [],
   "source": [
    "sp = np.zeros(m)\n",
    "sn = np.zeros(m)\n",
    "cs = np.zeros(m)\n",
    "\n",
    "for i in range(m):\n",
    "    diff_pos = raw_data[i] - a_pos\n",
    "    diff_neg = raw_data[i] - a_neg\n",
    "    sp[i] = np.sqrt(diff_pos @ diff_pos)\n",
    "    sn[i] = np.sqrt(diff_neg @ diff_neg)\n",
    "    cs[i] = sn[i] / (sp[i] + sn[i])\n",
    "\n",
    "CTGPattern=pd.DataFrame(data=zip(sp, sn, cs), index=candidates, columns=[\"$S^*$\", \"$S^-$\", \"$C^*$\"])"
   ]
  },
  {
   "cell_type": "code",
   "execution_count": 7,
   "id": "efee3fa5",
   "metadata": {},
   "outputs": [
    {
     "data": {
      "text/html": [
       "<div>\n",
       "<style scoped>\n",
       "    .dataframe tbody tr th:only-of-type {\n",
       "        vertical-align: middle;\n",
       "    }\n",
       "\n",
       "    .dataframe tbody tr th {\n",
       "        vertical-align: top;\n",
       "    }\n",
       "\n",
       "    .dataframe thead th {\n",
       "        text-align: right;\n",
       "    }\n",
       "</style>\n",
       "<table border=\"1\" class=\"dataframe\">\n",
       "  <thead>\n",
       "    <tr style=\"text-align: right;\">\n",
       "      <th></th>\n",
       "      <th>$S^*$</th>\n",
       "      <th>$S^-$</th>\n",
       "      <th>$C^*$</th>\n",
       "    </tr>\n",
       "  </thead>\n",
       "  <tbody>\n",
       "    <tr>\n",
       "      <th>Light GBM</th>\n",
       "      <td>0.090210</td>\n",
       "      <td>0.087547</td>\n",
       "      <td>0.492511</td>\n",
       "    </tr>\n",
       "    <tr>\n",
       "      <th>SVM</th>\n",
       "      <td>0.005466</td>\n",
       "      <td>0.158540</td>\n",
       "      <td>0.966670</td>\n",
       "    </tr>\n",
       "    <tr>\n",
       "      <th>Random Forest</th>\n",
       "      <td>0.019315</td>\n",
       "      <td>0.152798</td>\n",
       "      <td>0.887778</td>\n",
       "    </tr>\n",
       "    <tr>\n",
       "      <th>Pytorch ANN</th>\n",
       "      <td>0.160316</td>\n",
       "      <td>0.001888</td>\n",
       "      <td>0.011642</td>\n",
       "    </tr>\n",
       "  </tbody>\n",
       "</table>\n",
       "</div>"
      ],
      "text/plain": [
       "                  $S^*$     $S^-$     $C^*$\n",
       "Light GBM      0.090210  0.087547  0.492511\n",
       "SVM            0.005466  0.158540  0.966670\n",
       "Random Forest  0.019315  0.152798  0.887778\n",
       "Pytorch ANN    0.160316  0.001888  0.011642"
      ]
     },
     "execution_count": 7,
     "metadata": {},
     "output_type": "execute_result"
    }
   ],
   "source": [
    "CTGPattern"
   ]
  }
 ],
 "metadata": {
  "kernelspec": {
   "display_name": "Python 3 (ipykernel)",
   "language": "python",
   "name": "python3"
  },
  "language_info": {
   "codemirror_mode": {
    "name": "ipython",
    "version": 3
   },
   "file_extension": ".py",
   "mimetype": "text/x-python",
   "name": "python",
   "nbconvert_exporter": "python",
   "pygments_lexer": "ipython3",
   "version": "3.9.7"
  },
  "toc": {
   "base_numbering": 1,
   "nav_menu": {},
   "number_sections": true,
   "sideBar": true,
   "skip_h1_title": false,
   "title_cell": "Table of Contents",
   "title_sidebar": "Contents",
   "toc_cell": false,
   "toc_position": {},
   "toc_section_display": true,
   "toc_window_display": false
  }
 },
 "nbformat": 4,
 "nbformat_minor": 5
}

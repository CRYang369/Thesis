{
 "cells": [
  {
   "cell_type": "markdown",
   "id": "f576021e",
   "metadata": {},
   "source": [
    "# Import package"
   ]
  },
  {
   "cell_type": "code",
   "execution_count": 1,
   "id": "f0cb5f28",
   "metadata": {},
   "outputs": [],
   "source": [
    "import numpy as np               \n",
    "import pandas as pd       \n",
    "import matplotlib.pyplot as plt "
   ]
  },
  {
   "cell_type": "markdown",
   "id": "b77c5155",
   "metadata": {},
   "source": [
    "# Data to estimate"
   ]
  },
  {
   "cell_type": "code",
   "execution_count": 2,
   "id": "81031a39",
   "metadata": {
    "scrolled": true
   },
   "outputs": [
    {
     "data": {
      "text/html": [
       "<div>\n",
       "<style scoped>\n",
       "    .dataframe tbody tr th:only-of-type {\n",
       "        vertical-align: middle;\n",
       "    }\n",
       "\n",
       "    .dataframe tbody tr th {\n",
       "        vertical-align: top;\n",
       "    }\n",
       "\n",
       "    .dataframe thead th {\n",
       "        text-align: right;\n",
       "    }\n",
       "</style>\n",
       "<table border=\"1\" class=\"dataframe\">\n",
       "  <thead>\n",
       "    <tr style=\"text-align: right;\">\n",
       "      <th></th>\n",
       "      <th>accuracy</th>\n",
       "      <th>f1_score</th>\n",
       "      <th>roc_auc</th>\n",
       "      <th>cross_entropy_loss</th>\n",
       "      <th>training_time[s]</th>\n",
       "    </tr>\n",
       "  </thead>\n",
       "  <tbody>\n",
       "    <tr>\n",
       "      <th>Light GBM</th>\n",
       "      <td>0.9319</td>\n",
       "      <td>0.9319</td>\n",
       "      <td>0.9825</td>\n",
       "      <td>0.1832</td>\n",
       "      <td>0.5911</td>\n",
       "    </tr>\n",
       "    <tr>\n",
       "      <th>SVM</th>\n",
       "      <td>0.9225</td>\n",
       "      <td>0.9225</td>\n",
       "      <td>0.9739</td>\n",
       "      <td>0.2152</td>\n",
       "      <td>0.5893</td>\n",
       "    </tr>\n",
       "    <tr>\n",
       "      <th>Random Forest</th>\n",
       "      <td>0.9390</td>\n",
       "      <td>0.9390</td>\n",
       "      <td>0.9833</td>\n",
       "      <td>0.1816</td>\n",
       "      <td>0.2525</td>\n",
       "    </tr>\n",
       "    <tr>\n",
       "      <th>Pytorch ANN</th>\n",
       "      <td>0.9061</td>\n",
       "      <td>0.9061</td>\n",
       "      <td>0.9755</td>\n",
       "      <td>0.6319</td>\n",
       "      <td>2.8793</td>\n",
       "    </tr>\n",
       "  </tbody>\n",
       "</table>\n",
       "</div>"
      ],
      "text/plain": [
       "               accuracy  f1_score  roc_auc  cross_entropy_loss  \\\n",
       "Light GBM        0.9319    0.9319   0.9825              0.1832   \n",
       "SVM              0.9225    0.9225   0.9739              0.2152   \n",
       "Random Forest    0.9390    0.9390   0.9833              0.1816   \n",
       "Pytorch ANN      0.9061    0.9061   0.9755              0.6319   \n",
       "\n",
       "               training_time[s]  \n",
       "Light GBM                0.5911  \n",
       "SVM                      0.5893  \n",
       "Random Forest            0.2525  \n",
       "Pytorch ANN              2.8793  "
      ]
     },
     "execution_count": 2,
     "metadata": {},
     "output_type": "execute_result"
    }
   ],
   "source": [
    "# The given data encoded into vectors and matrices\n",
    "\n",
    "attributes = np.array([\"accuracy\", \"f1_score\", \"roc_auc\", \"cross_entropy_loss\", \"training_time[s]\"])\n",
    "candidates = np.array([\"Light GBM\", \"SVM\", \"Random Forest\", \"Pytorch ANN\"])\n",
    "data = pd.read_csv('CTGNSP Score.csv',index_col=0)\n",
    "raw_data=data.values\n",
    "weights = np.array([0.2, 0.2, 0.2, 0.2, 0.2])\n",
    "# weights = np.array([0.2, 0.2, 0.2, 0.3, 0.1])\n",
    "\n",
    "# The indices of the attributes (zero-based) that are considered beneficial.\n",
    "# Those indices not mentioned are assumed to be cost attributes.\n",
    "# benefit_attributes = set([0, 1, 2, 3, 4])\n",
    "benefit_attributes = set([0, 1, 2])\n",
    "# Display the raw data we have\n",
    "pd.DataFrame(data=raw_data, index=candidates, columns=attributes)"
   ]
  },
  {
   "cell_type": "markdown",
   "id": "211ce9c6",
   "metadata": {},
   "source": [
    "# Normalizing the ratings"
   ]
  },
  {
   "cell_type": "code",
   "execution_count": 3,
   "id": "5e8f6aba",
   "metadata": {},
   "outputs": [
    {
     "data": {
      "text/html": [
       "<div>\n",
       "<style scoped>\n",
       "    .dataframe tbody tr th:only-of-type {\n",
       "        vertical-align: middle;\n",
       "    }\n",
       "\n",
       "    .dataframe tbody tr th {\n",
       "        vertical-align: top;\n",
       "    }\n",
       "\n",
       "    .dataframe thead th {\n",
       "        text-align: right;\n",
       "    }\n",
       "</style>\n",
       "<table border=\"1\" class=\"dataframe\">\n",
       "  <thead>\n",
       "    <tr style=\"text-align: right;\">\n",
       "      <th></th>\n",
       "      <th>$X_{0}$</th>\n",
       "      <th>$X_{1}$</th>\n",
       "      <th>$X_{2}$</th>\n",
       "      <th>$X_{3}$</th>\n",
       "      <th>$X_{4}$</th>\n",
       "    </tr>\n",
       "  </thead>\n",
       "  <tbody>\n",
       "    <tr>\n",
       "      <th>Light GBM</th>\n",
       "      <td>0.503753</td>\n",
       "      <td>0.503753</td>\n",
       "      <td>0.501886</td>\n",
       "      <td>0.255992</td>\n",
       "      <td>0.196480</td>\n",
       "    </tr>\n",
       "    <tr>\n",
       "      <th>SVM</th>\n",
       "      <td>0.498672</td>\n",
       "      <td>0.498672</td>\n",
       "      <td>0.497492</td>\n",
       "      <td>0.300707</td>\n",
       "      <td>0.195881</td>\n",
       "    </tr>\n",
       "    <tr>\n",
       "      <th>Random Forest</th>\n",
       "      <td>0.507591</td>\n",
       "      <td>0.507591</td>\n",
       "      <td>0.502294</td>\n",
       "      <td>0.253757</td>\n",
       "      <td>0.083930</td>\n",
       "    </tr>\n",
       "    <tr>\n",
       "      <th>Pytorch ANN</th>\n",
       "      <td>0.489807</td>\n",
       "      <td>0.489807</td>\n",
       "      <td>0.498310</td>\n",
       "      <td>0.882978</td>\n",
       "      <td>0.957069</td>\n",
       "    </tr>\n",
       "  </tbody>\n",
       "</table>\n",
       "</div>"
      ],
      "text/plain": [
       "                $X_{0}$   $X_{1}$   $X_{2}$   $X_{3}$   $X_{4}$\n",
       "Light GBM      0.503753  0.503753  0.501886  0.255992  0.196480\n",
       "SVM            0.498672  0.498672  0.497492  0.300707  0.195881\n",
       "Random Forest  0.507591  0.507591  0.502294  0.253757  0.083930\n",
       "Pytorch ANN    0.489807  0.489807  0.498310  0.882978  0.957069"
      ]
     },
     "execution_count": 3,
     "metadata": {},
     "output_type": "execute_result"
    }
   ],
   "source": [
    "m = len(raw_data)\n",
    "n = len(attributes)\n",
    "divisors = np.empty(n)\n",
    "for j in range(n):\n",
    "    column = raw_data[:,j]\n",
    "    divisors[j] = np.sqrt(column @ column)\n",
    "\n",
    "raw_data /= divisors\n",
    "\n",
    "columns = [\"$X_{%d}$\" % j for j in range(n)]\n",
    "pd.DataFrame(data=raw_data, index=candidates, columns=columns)"
   ]
  },
  {
   "cell_type": "markdown",
   "id": "e1336f7e",
   "metadata": {},
   "source": [
    "# Calculating the weighted Normalizing Ratings"
   ]
  },
  {
   "cell_type": "code",
   "execution_count": 4,
   "id": "e7c59f13",
   "metadata": {},
   "outputs": [
    {
     "data": {
      "text/html": [
       "<div>\n",
       "<style scoped>\n",
       "    .dataframe tbody tr th:only-of-type {\n",
       "        vertical-align: middle;\n",
       "    }\n",
       "\n",
       "    .dataframe tbody tr th {\n",
       "        vertical-align: top;\n",
       "    }\n",
       "\n",
       "    .dataframe thead th {\n",
       "        text-align: right;\n",
       "    }\n",
       "</style>\n",
       "<table border=\"1\" class=\"dataframe\">\n",
       "  <thead>\n",
       "    <tr style=\"text-align: right;\">\n",
       "      <th></th>\n",
       "      <th>$X_{0}$</th>\n",
       "      <th>$X_{1}$</th>\n",
       "      <th>$X_{2}$</th>\n",
       "      <th>$X_{3}$</th>\n",
       "      <th>$X_{4}$</th>\n",
       "    </tr>\n",
       "  </thead>\n",
       "  <tbody>\n",
       "    <tr>\n",
       "      <th>Light GBM</th>\n",
       "      <td>0.100751</td>\n",
       "      <td>0.100751</td>\n",
       "      <td>0.100377</td>\n",
       "      <td>0.051198</td>\n",
       "      <td>0.039296</td>\n",
       "    </tr>\n",
       "    <tr>\n",
       "      <th>SVM</th>\n",
       "      <td>0.099734</td>\n",
       "      <td>0.099734</td>\n",
       "      <td>0.099498</td>\n",
       "      <td>0.060141</td>\n",
       "      <td>0.039176</td>\n",
       "    </tr>\n",
       "    <tr>\n",
       "      <th>Random Forest</th>\n",
       "      <td>0.101518</td>\n",
       "      <td>0.101518</td>\n",
       "      <td>0.100459</td>\n",
       "      <td>0.050751</td>\n",
       "      <td>0.016786</td>\n",
       "    </tr>\n",
       "    <tr>\n",
       "      <th>Pytorch ANN</th>\n",
       "      <td>0.097961</td>\n",
       "      <td>0.097961</td>\n",
       "      <td>0.099662</td>\n",
       "      <td>0.176596</td>\n",
       "      <td>0.191414</td>\n",
       "    </tr>\n",
       "  </tbody>\n",
       "</table>\n",
       "</div>"
      ],
      "text/plain": [
       "                $X_{0}$   $X_{1}$   $X_{2}$   $X_{3}$   $X_{4}$\n",
       "Light GBM      0.100751  0.100751  0.100377  0.051198  0.039296\n",
       "SVM            0.099734  0.099734  0.099498  0.060141  0.039176\n",
       "Random Forest  0.101518  0.101518  0.100459  0.050751  0.016786\n",
       "Pytorch ANN    0.097961  0.097961  0.099662  0.176596  0.191414"
      ]
     },
     "execution_count": 4,
     "metadata": {},
     "output_type": "execute_result"
    }
   ],
   "source": [
    "raw_data *= weights\n",
    "pd.DataFrame(data=raw_data, index=candidates, columns=columns)"
   ]
  },
  {
   "cell_type": "markdown",
   "id": "0bf62cd4",
   "metadata": {},
   "source": [
    "# Identifying PIS AND NIS"
   ]
  },
  {
   "cell_type": "code",
   "execution_count": 5,
   "id": "89055054",
   "metadata": {},
   "outputs": [
    {
     "data": {
      "text/html": [
       "<div>\n",
       "<style scoped>\n",
       "    .dataframe tbody tr th:only-of-type {\n",
       "        vertical-align: middle;\n",
       "    }\n",
       "\n",
       "    .dataframe tbody tr th {\n",
       "        vertical-align: top;\n",
       "    }\n",
       "\n",
       "    .dataframe thead th {\n",
       "        text-align: right;\n",
       "    }\n",
       "</style>\n",
       "<table border=\"1\" class=\"dataframe\">\n",
       "  <thead>\n",
       "    <tr style=\"text-align: right;\">\n",
       "      <th></th>\n",
       "      <th>$X_{0}$</th>\n",
       "      <th>$X_{1}$</th>\n",
       "      <th>$X_{2}$</th>\n",
       "      <th>$X_{3}$</th>\n",
       "      <th>$X_{4}$</th>\n",
       "    </tr>\n",
       "  </thead>\n",
       "  <tbody>\n",
       "    <tr>\n",
       "      <th>$A^*$</th>\n",
       "      <td>0.101518</td>\n",
       "      <td>0.101518</td>\n",
       "      <td>0.100459</td>\n",
       "      <td>0.050751</td>\n",
       "      <td>0.016786</td>\n",
       "    </tr>\n",
       "    <tr>\n",
       "      <th>$A^-$</th>\n",
       "      <td>0.097961</td>\n",
       "      <td>0.097961</td>\n",
       "      <td>0.099498</td>\n",
       "      <td>0.176596</td>\n",
       "      <td>0.191414</td>\n",
       "    </tr>\n",
       "  </tbody>\n",
       "</table>\n",
       "</div>"
      ],
      "text/plain": [
       "        $X_{0}$   $X_{1}$   $X_{2}$   $X_{3}$   $X_{4}$\n",
       "$A^*$  0.101518  0.101518  0.100459  0.050751  0.016786\n",
       "$A^-$  0.097961  0.097961  0.099498  0.176596  0.191414"
      ]
     },
     "execution_count": 5,
     "metadata": {},
     "output_type": "execute_result"
    }
   ],
   "source": [
    "a_pos = np.zeros(n)\n",
    "a_neg = np.zeros(n)\n",
    "for j in range(n):\n",
    "    column = raw_data[:,j]\n",
    "    max_val = np.max(column)\n",
    "    min_val = np.min(column)\n",
    "    \n",
    "    # See if we want to maximize benefit or minimize cost (for PIS)\n",
    "    if j in benefit_attributes:\n",
    "        a_pos[j] = max_val\n",
    "        a_neg[j] = min_val\n",
    "    else:\n",
    "        a_pos[j] = min_val\n",
    "        a_neg[j] = max_val\n",
    "\n",
    "pd.DataFrame(data=[a_pos, a_neg], index=[\"$A^*$\", \"$A^-$\"], columns=columns)"
   ]
  },
  {
   "cell_type": "markdown",
   "id": "3c2473f3",
   "metadata": {},
   "source": [
    "# Calculating Euclidean Distance and Similarities to PIS"
   ]
  },
  {
   "cell_type": "code",
   "execution_count": 6,
   "id": "edf34abe",
   "metadata": {
    "scrolled": true
   },
   "outputs": [],
   "source": [
    "sp = np.zeros(m)\n",
    "sn = np.zeros(m)\n",
    "cs = np.zeros(m)\n",
    "\n",
    "for i in range(m):\n",
    "    diff_pos = raw_data[i] - a_pos\n",
    "    diff_neg = raw_data[i] - a_neg\n",
    "    sp[i] = np.sqrt(diff_pos @ diff_pos)\n",
    "    sn[i] = np.sqrt(diff_neg @ diff_neg)\n",
    "    cs[i] = sn[i] / (sp[i] + sn[i])\n",
    "\n",
    "CTPNSP=pd.DataFrame(data=zip(sp, sn, cs), index=candidates, columns=[\"$S^*$\", \"$S^-$\", \"$C^*$\"])"
   ]
  },
  {
   "cell_type": "code",
   "execution_count": 7,
   "id": "69dfd51b",
   "metadata": {
    "scrolled": true
   },
   "outputs": [
    {
     "data": {
      "text/html": [
       "<div>\n",
       "<style scoped>\n",
       "    .dataframe tbody tr th:only-of-type {\n",
       "        vertical-align: middle;\n",
       "    }\n",
       "\n",
       "    .dataframe tbody tr th {\n",
       "        vertical-align: top;\n",
       "    }\n",
       "\n",
       "    .dataframe thead th {\n",
       "        text-align: right;\n",
       "    }\n",
       "</style>\n",
       "<table border=\"1\" class=\"dataframe\">\n",
       "  <thead>\n",
       "    <tr style=\"text-align: right;\">\n",
       "      <th></th>\n",
       "      <th>$S^*$</th>\n",
       "      <th>$S^-$</th>\n",
       "      <th>$C^*$</th>\n",
       "    </tr>\n",
       "  </thead>\n",
       "  <tbody>\n",
       "    <tr>\n",
       "      <th>Light GBM</th>\n",
       "      <td>0.022541</td>\n",
       "      <td>0.197182</td>\n",
       "      <td>0.897413</td>\n",
       "    </tr>\n",
       "    <tr>\n",
       "      <th>SVM</th>\n",
       "      <td>0.024429</td>\n",
       "      <td>0.191688</td>\n",
       "      <td>0.886963</td>\n",
       "    </tr>\n",
       "    <tr>\n",
       "      <th>Random Forest</th>\n",
       "      <td>0.000000</td>\n",
       "      <td>0.215309</td>\n",
       "      <td>1.000000</td>\n",
       "    </tr>\n",
       "    <tr>\n",
       "      <th>Pytorch ANN</th>\n",
       "      <td>0.215308</td>\n",
       "      <td>0.000163</td>\n",
       "      <td>0.000759</td>\n",
       "    </tr>\n",
       "  </tbody>\n",
       "</table>\n",
       "</div>"
      ],
      "text/plain": [
       "                  $S^*$     $S^-$     $C^*$\n",
       "Light GBM      0.022541  0.197182  0.897413\n",
       "SVM            0.024429  0.191688  0.886963\n",
       "Random Forest  0.000000  0.215309  1.000000\n",
       "Pytorch ANN    0.215308  0.000163  0.000759"
      ]
     },
     "execution_count": 7,
     "metadata": {},
     "output_type": "execute_result"
    }
   ],
   "source": [
    "CTPNSP"
   ]
  }
 ],
 "metadata": {
  "kernelspec": {
   "display_name": "Python 3 (ipykernel)",
   "language": "python",
   "name": "python3"
  },
  "language_info": {
   "codemirror_mode": {
    "name": "ipython",
    "version": 3
   },
   "file_extension": ".py",
   "mimetype": "text/x-python",
   "name": "python",
   "nbconvert_exporter": "python",
   "pygments_lexer": "ipython3",
   "version": "3.9.7"
  },
  "toc": {
   "base_numbering": 1,
   "nav_menu": {},
   "number_sections": true,
   "sideBar": true,
   "skip_h1_title": false,
   "title_cell": "Table of Contents",
   "title_sidebar": "Contents",
   "toc_cell": false,
   "toc_position": {},
   "toc_section_display": true,
   "toc_window_display": false
  }
 },
 "nbformat": 4,
 "nbformat_minor": 5
}

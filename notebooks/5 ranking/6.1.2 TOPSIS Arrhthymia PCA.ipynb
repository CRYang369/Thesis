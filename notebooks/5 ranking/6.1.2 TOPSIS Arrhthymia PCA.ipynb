{
 "cells": [
  {
   "cell_type": "markdown",
   "id": "e3a99c28",
   "metadata": {},
   "source": [
    "# Import package"
   ]
  },
  {
   "cell_type": "code",
   "execution_count": 1,
   "id": "f0cb5f28",
   "metadata": {},
   "outputs": [],
   "source": [
    "import numpy as np               \n",
    "import pandas as pd       \n",
    "import matplotlib.pyplot as plt "
   ]
  },
  {
   "cell_type": "markdown",
   "id": "99b2ff1d",
   "metadata": {},
   "source": [
    "# Data to estimate"
   ]
  },
  {
   "cell_type": "code",
   "execution_count": 2,
   "id": "42c7b473",
   "metadata": {
    "scrolled": true
   },
   "outputs": [
    {
     "data": {
      "text/html": [
       "<div>\n",
       "<style scoped>\n",
       "    .dataframe tbody tr th:only-of-type {\n",
       "        vertical-align: middle;\n",
       "    }\n",
       "\n",
       "    .dataframe tbody tr th {\n",
       "        vertical-align: top;\n",
       "    }\n",
       "\n",
       "    .dataframe thead th {\n",
       "        text-align: right;\n",
       "    }\n",
       "</style>\n",
       "<table border=\"1\" class=\"dataframe\">\n",
       "  <thead>\n",
       "    <tr style=\"text-align: right;\">\n",
       "      <th></th>\n",
       "      <th>accuracy</th>\n",
       "      <th>f1_score</th>\n",
       "      <th>roc_auc</th>\n",
       "      <th>cross_entropy_loss</th>\n",
       "      <th>training_time[s]</th>\n",
       "    </tr>\n",
       "  </thead>\n",
       "  <tbody>\n",
       "    <tr>\n",
       "      <th>Light GBM</th>\n",
       "      <td>0.7045</td>\n",
       "      <td>0.7045</td>\n",
       "      <td>0.7685</td>\n",
       "      <td>1.9033</td>\n",
       "      <td>1.3576</td>\n",
       "    </tr>\n",
       "    <tr>\n",
       "      <th>SVM</th>\n",
       "      <td>0.7045</td>\n",
       "      <td>0.7045</td>\n",
       "      <td>0.7999</td>\n",
       "      <td>1.0093</td>\n",
       "      <td>0.0365</td>\n",
       "    </tr>\n",
       "    <tr>\n",
       "      <th>Random Forest</th>\n",
       "      <td>0.6705</td>\n",
       "      <td>0.6705</td>\n",
       "      <td>0.8243</td>\n",
       "      <td>1.0626</td>\n",
       "      <td>0.0582</td>\n",
       "    </tr>\n",
       "    <tr>\n",
       "      <th>Pytorch ANN</th>\n",
       "      <td>0.7273</td>\n",
       "      <td>0.7273</td>\n",
       "      <td>0.8239</td>\n",
       "      <td>1.6606</td>\n",
       "      <td>0.5180</td>\n",
       "    </tr>\n",
       "  </tbody>\n",
       "</table>\n",
       "</div>"
      ],
      "text/plain": [
       "               accuracy  f1_score  roc_auc  cross_entropy_loss  \\\n",
       "Light GBM        0.7045    0.7045   0.7685              1.9033   \n",
       "SVM              0.7045    0.7045   0.7999              1.0093   \n",
       "Random Forest    0.6705    0.6705   0.8243              1.0626   \n",
       "Pytorch ANN      0.7273    0.7273   0.8239              1.6606   \n",
       "\n",
       "               training_time[s]  \n",
       "Light GBM                1.3576  \n",
       "SVM                      0.0365  \n",
       "Random Forest            0.0582  \n",
       "Pytorch ANN              0.5180  "
      ]
     },
     "execution_count": 2,
     "metadata": {},
     "output_type": "execute_result"
    }
   ],
   "source": [
    "# The given data encoded into vectors and matrices\n",
    "\n",
    "attributes = np.array([\"accuracy\", \"f1_score\", \"roc_auc\", \"cross_entropy_loss\", \"training_time[s]\"])\n",
    "candidates = np.array([\"Light GBM\", \"SVM\", \"Random Forest\", \"Pytorch ANN\"])\n",
    "data = pd.read_csv('Arrhthymia PCA Score.csv',index_col=0)\n",
    "raw_data=data.values\n",
    "weights = np.array([0.2, 0.2, 0.2, 0.2, 0.2])\n",
    "# weights = np.array([0.2, 0.2, 0.2, 0.3, 0.1])\n",
    "\n",
    "# The indices of the attributes (zero-based) that are considered beneficial.\n",
    "# Those indices not mentioned are assumed to be cost attributes.\n",
    "# benefit_attributes = set([0, 1, 2, 3, 4])\n",
    "benefit_attributes = set([0, 1, 2])\n",
    "# Display the raw data we have\n",
    "pd.DataFrame(data=raw_data, index=candidates, columns=attributes)"
   ]
  },
  {
   "cell_type": "markdown",
   "id": "cf8c77a6",
   "metadata": {},
   "source": [
    "# Normalizing the ratings"
   ]
  },
  {
   "cell_type": "code",
   "execution_count": 3,
   "id": "5e8f6aba",
   "metadata": {},
   "outputs": [
    {
     "data": {
      "text/html": [
       "<div>\n",
       "<style scoped>\n",
       "    .dataframe tbody tr th:only-of-type {\n",
       "        vertical-align: middle;\n",
       "    }\n",
       "\n",
       "    .dataframe tbody tr th {\n",
       "        vertical-align: top;\n",
       "    }\n",
       "\n",
       "    .dataframe thead th {\n",
       "        text-align: right;\n",
       "    }\n",
       "</style>\n",
       "<table border=\"1\" class=\"dataframe\">\n",
       "  <thead>\n",
       "    <tr style=\"text-align: right;\">\n",
       "      <th></th>\n",
       "      <th>$X_{0}$</th>\n",
       "      <th>$X_{1}$</th>\n",
       "      <th>$X_{2}$</th>\n",
       "      <th>$X_{3}$</th>\n",
       "      <th>$X_{4}$</th>\n",
       "    </tr>\n",
       "  </thead>\n",
       "  <tbody>\n",
       "    <tr>\n",
       "      <th>Light GBM</th>\n",
       "      <td>0.501786</td>\n",
       "      <td>0.501786</td>\n",
       "      <td>0.477641</td>\n",
       "      <td>0.651756</td>\n",
       "      <td>0.933258</td>\n",
       "    </tr>\n",
       "    <tr>\n",
       "      <th>SVM</th>\n",
       "      <td>0.501786</td>\n",
       "      <td>0.501786</td>\n",
       "      <td>0.497157</td>\n",
       "      <td>0.345619</td>\n",
       "      <td>0.025091</td>\n",
       "    </tr>\n",
       "    <tr>\n",
       "      <th>Random Forest</th>\n",
       "      <td>0.477569</td>\n",
       "      <td>0.477569</td>\n",
       "      <td>0.512322</td>\n",
       "      <td>0.363871</td>\n",
       "      <td>0.040009</td>\n",
       "    </tr>\n",
       "    <tr>\n",
       "      <th>Pytorch ANN</th>\n",
       "      <td>0.518025</td>\n",
       "      <td>0.518025</td>\n",
       "      <td>0.512074</td>\n",
       "      <td>0.568647</td>\n",
       "      <td>0.356090</td>\n",
       "    </tr>\n",
       "  </tbody>\n",
       "</table>\n",
       "</div>"
      ],
      "text/plain": [
       "                $X_{0}$   $X_{1}$   $X_{2}$   $X_{3}$   $X_{4}$\n",
       "Light GBM      0.501786  0.501786  0.477641  0.651756  0.933258\n",
       "SVM            0.501786  0.501786  0.497157  0.345619  0.025091\n",
       "Random Forest  0.477569  0.477569  0.512322  0.363871  0.040009\n",
       "Pytorch ANN    0.518025  0.518025  0.512074  0.568647  0.356090"
      ]
     },
     "execution_count": 3,
     "metadata": {},
     "output_type": "execute_result"
    }
   ],
   "source": [
    "m = len(raw_data)\n",
    "n = len(attributes)\n",
    "divisors = np.empty(n)\n",
    "for j in range(n):\n",
    "    column = raw_data[:,j]\n",
    "    divisors[j] = np.sqrt(column @ column)\n",
    "\n",
    "raw_data /= divisors\n",
    "\n",
    "columns = [\"$X_{%d}$\" % j for j in range(n)]\n",
    "pd.DataFrame(data=raw_data, index=candidates, columns=columns)"
   ]
  },
  {
   "cell_type": "markdown",
   "id": "bd9fd678",
   "metadata": {},
   "source": [
    "# Calculating the weighted Normalizing Ratings"
   ]
  },
  {
   "cell_type": "code",
   "execution_count": 4,
   "id": "e7c59f13",
   "metadata": {},
   "outputs": [
    {
     "data": {
      "text/html": [
       "<div>\n",
       "<style scoped>\n",
       "    .dataframe tbody tr th:only-of-type {\n",
       "        vertical-align: middle;\n",
       "    }\n",
       "\n",
       "    .dataframe tbody tr th {\n",
       "        vertical-align: top;\n",
       "    }\n",
       "\n",
       "    .dataframe thead th {\n",
       "        text-align: right;\n",
       "    }\n",
       "</style>\n",
       "<table border=\"1\" class=\"dataframe\">\n",
       "  <thead>\n",
       "    <tr style=\"text-align: right;\">\n",
       "      <th></th>\n",
       "      <th>$X_{0}$</th>\n",
       "      <th>$X_{1}$</th>\n",
       "      <th>$X_{2}$</th>\n",
       "      <th>$X_{3}$</th>\n",
       "      <th>$X_{4}$</th>\n",
       "    </tr>\n",
       "  </thead>\n",
       "  <tbody>\n",
       "    <tr>\n",
       "      <th>Light GBM</th>\n",
       "      <td>0.100357</td>\n",
       "      <td>0.100357</td>\n",
       "      <td>0.095528</td>\n",
       "      <td>0.130351</td>\n",
       "      <td>0.186652</td>\n",
       "    </tr>\n",
       "    <tr>\n",
       "      <th>SVM</th>\n",
       "      <td>0.100357</td>\n",
       "      <td>0.100357</td>\n",
       "      <td>0.099431</td>\n",
       "      <td>0.069124</td>\n",
       "      <td>0.005018</td>\n",
       "    </tr>\n",
       "    <tr>\n",
       "      <th>Random Forest</th>\n",
       "      <td>0.095514</td>\n",
       "      <td>0.095514</td>\n",
       "      <td>0.102464</td>\n",
       "      <td>0.072774</td>\n",
       "      <td>0.008002</td>\n",
       "    </tr>\n",
       "    <tr>\n",
       "      <th>Pytorch ANN</th>\n",
       "      <td>0.103605</td>\n",
       "      <td>0.103605</td>\n",
       "      <td>0.102415</td>\n",
       "      <td>0.113729</td>\n",
       "      <td>0.071218</td>\n",
       "    </tr>\n",
       "  </tbody>\n",
       "</table>\n",
       "</div>"
      ],
      "text/plain": [
       "                $X_{0}$   $X_{1}$   $X_{2}$   $X_{3}$   $X_{4}$\n",
       "Light GBM      0.100357  0.100357  0.095528  0.130351  0.186652\n",
       "SVM            0.100357  0.100357  0.099431  0.069124  0.005018\n",
       "Random Forest  0.095514  0.095514  0.102464  0.072774  0.008002\n",
       "Pytorch ANN    0.103605  0.103605  0.102415  0.113729  0.071218"
      ]
     },
     "execution_count": 4,
     "metadata": {},
     "output_type": "execute_result"
    }
   ],
   "source": [
    "raw_data *= weights\n",
    "pd.DataFrame(data=raw_data, index=candidates, columns=columns)"
   ]
  },
  {
   "cell_type": "markdown",
   "id": "5bace267",
   "metadata": {},
   "source": [
    "# Identifying PIS AND NIS"
   ]
  },
  {
   "cell_type": "code",
   "execution_count": 5,
   "id": "89055054",
   "metadata": {},
   "outputs": [
    {
     "data": {
      "text/html": [
       "<div>\n",
       "<style scoped>\n",
       "    .dataframe tbody tr th:only-of-type {\n",
       "        vertical-align: middle;\n",
       "    }\n",
       "\n",
       "    .dataframe tbody tr th {\n",
       "        vertical-align: top;\n",
       "    }\n",
       "\n",
       "    .dataframe thead th {\n",
       "        text-align: right;\n",
       "    }\n",
       "</style>\n",
       "<table border=\"1\" class=\"dataframe\">\n",
       "  <thead>\n",
       "    <tr style=\"text-align: right;\">\n",
       "      <th></th>\n",
       "      <th>$X_{0}$</th>\n",
       "      <th>$X_{1}$</th>\n",
       "      <th>$X_{2}$</th>\n",
       "      <th>$X_{3}$</th>\n",
       "      <th>$X_{4}$</th>\n",
       "    </tr>\n",
       "  </thead>\n",
       "  <tbody>\n",
       "    <tr>\n",
       "      <th>$A^*$</th>\n",
       "      <td>0.103605</td>\n",
       "      <td>0.103605</td>\n",
       "      <td>0.102464</td>\n",
       "      <td>0.069124</td>\n",
       "      <td>0.005018</td>\n",
       "    </tr>\n",
       "    <tr>\n",
       "      <th>$A^-$</th>\n",
       "      <td>0.095514</td>\n",
       "      <td>0.095514</td>\n",
       "      <td>0.095528</td>\n",
       "      <td>0.130351</td>\n",
       "      <td>0.186652</td>\n",
       "    </tr>\n",
       "  </tbody>\n",
       "</table>\n",
       "</div>"
      ],
      "text/plain": [
       "        $X_{0}$   $X_{1}$   $X_{2}$   $X_{3}$   $X_{4}$\n",
       "$A^*$  0.103605  0.103605  0.102464  0.069124  0.005018\n",
       "$A^-$  0.095514  0.095514  0.095528  0.130351  0.186652"
      ]
     },
     "execution_count": 5,
     "metadata": {},
     "output_type": "execute_result"
    }
   ],
   "source": [
    "a_pos = np.zeros(n)\n",
    "a_neg = np.zeros(n)\n",
    "for j in range(n):\n",
    "    column = raw_data[:,j]\n",
    "    max_val = np.max(column)\n",
    "    min_val = np.min(column)\n",
    "    \n",
    "    # See if we want to maximize benefit or minimize cost (for PIS)\n",
    "    if j in benefit_attributes:\n",
    "        a_pos[j] = max_val\n",
    "        a_neg[j] = min_val\n",
    "    else:\n",
    "        a_pos[j] = min_val\n",
    "        a_neg[j] = max_val\n",
    "\n",
    "pd.DataFrame(data=[a_pos, a_neg], index=[\"$A^*$\", \"$A^-$\"], columns=columns)"
   ]
  },
  {
   "cell_type": "markdown",
   "id": "d0fe0328",
   "metadata": {},
   "source": [
    "# Calculating Euclidean Distance and Similarities to PIS"
   ]
  },
  {
   "cell_type": "code",
   "execution_count": 6,
   "id": "edf34abe",
   "metadata": {
    "scrolled": true
   },
   "outputs": [
    {
     "data": {
      "text/html": [
       "<div>\n",
       "<style scoped>\n",
       "    .dataframe tbody tr th:only-of-type {\n",
       "        vertical-align: middle;\n",
       "    }\n",
       "\n",
       "    .dataframe tbody tr th {\n",
       "        vertical-align: top;\n",
       "    }\n",
       "\n",
       "    .dataframe thead th {\n",
       "        text-align: right;\n",
       "    }\n",
       "</style>\n",
       "<table border=\"1\" class=\"dataframe\">\n",
       "  <thead>\n",
       "    <tr style=\"text-align: right;\">\n",
       "      <th></th>\n",
       "      <th>$S^*$</th>\n",
       "      <th>$S^-$</th>\n",
       "      <th>$C^*$</th>\n",
       "    </tr>\n",
       "  </thead>\n",
       "  <tbody>\n",
       "    <tr>\n",
       "      <th>Light GBM</th>\n",
       "      <td>0.191856</td>\n",
       "      <td>0.006850</td>\n",
       "      <td>0.034471</td>\n",
       "    </tr>\n",
       "    <tr>\n",
       "      <th>SVM</th>\n",
       "      <td>0.005504</td>\n",
       "      <td>0.191837</td>\n",
       "      <td>0.972108</td>\n",
       "    </tr>\n",
       "    <tr>\n",
       "      <th>Random Forest</th>\n",
       "      <td>0.012376</td>\n",
       "      <td>0.187827</td>\n",
       "      <td>0.938183</td>\n",
       "    </tr>\n",
       "    <tr>\n",
       "      <th>Pytorch ANN</th>\n",
       "      <td>0.079825</td>\n",
       "      <td>0.117386</td>\n",
       "      <td>0.595231</td>\n",
       "    </tr>\n",
       "  </tbody>\n",
       "</table>\n",
       "</div>"
      ],
      "text/plain": [
       "                  $S^*$     $S^-$     $C^*$\n",
       "Light GBM      0.191856  0.006850  0.034471\n",
       "SVM            0.005504  0.191837  0.972108\n",
       "Random Forest  0.012376  0.187827  0.938183\n",
       "Pytorch ANN    0.079825  0.117386  0.595231"
      ]
     },
     "execution_count": 6,
     "metadata": {},
     "output_type": "execute_result"
    }
   ],
   "source": [
    "sp = np.zeros(m)\n",
    "sn = np.zeros(m)\n",
    "cs = np.zeros(m)\n",
    "\n",
    "for i in range(m):\n",
    "    diff_pos = raw_data[i] - a_pos\n",
    "    diff_neg = raw_data[i] - a_neg\n",
    "    sp[i] = np.sqrt(diff_pos @ diff_pos)\n",
    "    sn[i] = np.sqrt(diff_neg @ diff_neg)\n",
    "    cs[i] = sn[i] / (sp[i] + sn[i])\n",
    "\n",
    "pd.DataFrame(data=zip(sp, sn, cs), index=candidates, columns=[\"$S^*$\", \"$S^-$\", \"$C^*$\"])"
   ]
  }
 ],
 "metadata": {
  "kernelspec": {
   "display_name": "Python 3 (ipykernel)",
   "language": "python",
   "name": "python3"
  },
  "language_info": {
   "codemirror_mode": {
    "name": "ipython",
    "version": 3
   },
   "file_extension": ".py",
   "mimetype": "text/x-python",
   "name": "python",
   "nbconvert_exporter": "python",
   "pygments_lexer": "ipython3",
   "version": "3.9.7"
  },
  "toc": {
   "base_numbering": 1,
   "nav_menu": {},
   "number_sections": true,
   "sideBar": true,
   "skip_h1_title": false,
   "title_cell": "Table of Contents",
   "title_sidebar": "Contents",
   "toc_cell": false,
   "toc_position": {},
   "toc_section_display": true,
   "toc_window_display": false
  }
 },
 "nbformat": 4,
 "nbformat_minor": 5
}

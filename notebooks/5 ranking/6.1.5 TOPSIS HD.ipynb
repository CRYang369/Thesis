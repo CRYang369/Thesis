{
 "cells": [
  {
   "cell_type": "markdown",
   "id": "1c3a9cb3",
   "metadata": {},
   "source": [
    "# Import package"
   ]
  },
  {
   "cell_type": "code",
   "execution_count": 1,
   "id": "f0cb5f28",
   "metadata": {},
   "outputs": [],
   "source": [
    "import numpy as np               \n",
    "import pandas as pd       \n",
    "import matplotlib.pyplot as plt "
   ]
  },
  {
   "cell_type": "markdown",
   "id": "464edcd4",
   "metadata": {},
   "source": [
    "# Data to estimate"
   ]
  },
  {
   "cell_type": "code",
   "execution_count": 2,
   "id": "738a9255",
   "metadata": {
    "scrolled": true
   },
   "outputs": [
    {
     "data": {
      "text/html": [
       "<div>\n",
       "<style scoped>\n",
       "    .dataframe tbody tr th:only-of-type {\n",
       "        vertical-align: middle;\n",
       "    }\n",
       "\n",
       "    .dataframe tbody tr th {\n",
       "        vertical-align: top;\n",
       "    }\n",
       "\n",
       "    .dataframe thead th {\n",
       "        text-align: right;\n",
       "    }\n",
       "</style>\n",
       "<table border=\"1\" class=\"dataframe\">\n",
       "  <thead>\n",
       "    <tr style=\"text-align: right;\">\n",
       "      <th></th>\n",
       "      <th>accuracy</th>\n",
       "      <th>f1_score</th>\n",
       "      <th>roc_auc</th>\n",
       "      <th>cross_entropy_loss</th>\n",
       "      <th>training_time[s]</th>\n",
       "    </tr>\n",
       "  </thead>\n",
       "  <tbody>\n",
       "    <tr>\n",
       "      <th>Light GBM</th>\n",
       "      <td>0.8361</td>\n",
       "      <td>0.8361</td>\n",
       "      <td>0.9405</td>\n",
       "      <td>0.3494</td>\n",
       "      <td>0.0331</td>\n",
       "    </tr>\n",
       "    <tr>\n",
       "      <th>SVM</th>\n",
       "      <td>0.8525</td>\n",
       "      <td>0.8525</td>\n",
       "      <td>0.9481</td>\n",
       "      <td>0.3258</td>\n",
       "      <td>0.0058</td>\n",
       "    </tr>\n",
       "    <tr>\n",
       "      <th>Random Forest</th>\n",
       "      <td>0.8852</td>\n",
       "      <td>0.8852</td>\n",
       "      <td>0.9307</td>\n",
       "      <td>0.3635</td>\n",
       "      <td>0.1153</td>\n",
       "    </tr>\n",
       "    <tr>\n",
       "      <th>Pytorch ANN</th>\n",
       "      <td>0.8852</td>\n",
       "      <td>0.8852</td>\n",
       "      <td>0.9048</td>\n",
       "      <td>0.4770</td>\n",
       "      <td>0.3162</td>\n",
       "    </tr>\n",
       "  </tbody>\n",
       "</table>\n",
       "</div>"
      ],
      "text/plain": [
       "               accuracy  f1_score  roc_auc  cross_entropy_loss  \\\n",
       "Light GBM        0.8361    0.8361   0.9405              0.3494   \n",
       "SVM              0.8525    0.8525   0.9481              0.3258   \n",
       "Random Forest    0.8852    0.8852   0.9307              0.3635   \n",
       "Pytorch ANN      0.8852    0.8852   0.9048              0.4770   \n",
       "\n",
       "               training_time[s]  \n",
       "Light GBM                0.0331  \n",
       "SVM                      0.0058  \n",
       "Random Forest            0.1153  \n",
       "Pytorch ANN              0.3162  "
      ]
     },
     "execution_count": 2,
     "metadata": {},
     "output_type": "execute_result"
    }
   ],
   "source": [
    "# The given data encoded into vectors and matrices\n",
    "\n",
    "attributes = np.array([\"accuracy\", \"f1_score\", \"roc_auc\", \"cross_entropy_loss\", \"training_time[s]\"])\n",
    "candidates = np.array([\"Light GBM\", \"SVM\", \"Random Forest\", \"Pytorch ANN\"])\n",
    "data = pd.read_csv('HD Score.csv',index_col=0)\n",
    "raw_data=data.values\n",
    "weights = np.array([0.2, 0.2, 0.2, 0.2, 0.2])\n",
    "# weights = np.array([0.2, 0.2, 0.2, 0.3, 0.1])\n",
    "\n",
    "# The indices of the attributes (zero-based) that are considered beneficial.\n",
    "# Those indices not mentioned are assumed to be cost attributes.\n",
    "# benefit_attributes = set([0, 1, 2, 3, 4])\n",
    "benefit_attributes = set([0, 1, 2])\n",
    "# Display the raw data we have\n",
    "pd.DataFrame(data=raw_data, index=candidates, columns=attributes)"
   ]
  },
  {
   "cell_type": "markdown",
   "id": "93f9045e",
   "metadata": {},
   "source": [
    "# Normalizing the ratings"
   ]
  },
  {
   "cell_type": "code",
   "execution_count": 3,
   "id": "5e8f6aba",
   "metadata": {},
   "outputs": [
    {
     "data": {
      "text/html": [
       "<div>\n",
       "<style scoped>\n",
       "    .dataframe tbody tr th:only-of-type {\n",
       "        vertical-align: middle;\n",
       "    }\n",
       "\n",
       "    .dataframe tbody tr th {\n",
       "        vertical-align: top;\n",
       "    }\n",
       "\n",
       "    .dataframe thead th {\n",
       "        text-align: right;\n",
       "    }\n",
       "</style>\n",
       "<table border=\"1\" class=\"dataframe\">\n",
       "  <thead>\n",
       "    <tr style=\"text-align: right;\">\n",
       "      <th></th>\n",
       "      <th>$X_{0}$</th>\n",
       "      <th>$X_{1}$</th>\n",
       "      <th>$X_{2}$</th>\n",
       "      <th>$X_{3}$</th>\n",
       "      <th>$X_{4}$</th>\n",
       "    </tr>\n",
       "  </thead>\n",
       "  <tbody>\n",
       "    <tr>\n",
       "      <th>Light GBM</th>\n",
       "      <td>0.483289</td>\n",
       "      <td>0.483289</td>\n",
       "      <td>0.505011</td>\n",
       "      <td>0.455697</td>\n",
       "      <td>0.097860</td>\n",
       "    </tr>\n",
       "    <tr>\n",
       "      <th>SVM</th>\n",
       "      <td>0.492768</td>\n",
       "      <td>0.492768</td>\n",
       "      <td>0.509092</td>\n",
       "      <td>0.424917</td>\n",
       "      <td>0.017148</td>\n",
       "    </tr>\n",
       "    <tr>\n",
       "      <th>Random Forest</th>\n",
       "      <td>0.511670</td>\n",
       "      <td>0.511670</td>\n",
       "      <td>0.499748</td>\n",
       "      <td>0.474086</td>\n",
       "      <td>0.340883</td>\n",
       "    </tr>\n",
       "    <tr>\n",
       "      <th>Pytorch ANN</th>\n",
       "      <td>0.511670</td>\n",
       "      <td>0.511670</td>\n",
       "      <td>0.485841</td>\n",
       "      <td>0.622116</td>\n",
       "      <td>0.934841</td>\n",
       "    </tr>\n",
       "  </tbody>\n",
       "</table>\n",
       "</div>"
      ],
      "text/plain": [
       "                $X_{0}$   $X_{1}$   $X_{2}$   $X_{3}$   $X_{4}$\n",
       "Light GBM      0.483289  0.483289  0.505011  0.455697  0.097860\n",
       "SVM            0.492768  0.492768  0.509092  0.424917  0.017148\n",
       "Random Forest  0.511670  0.511670  0.499748  0.474086  0.340883\n",
       "Pytorch ANN    0.511670  0.511670  0.485841  0.622116  0.934841"
      ]
     },
     "execution_count": 3,
     "metadata": {},
     "output_type": "execute_result"
    }
   ],
   "source": [
    "m = len(raw_data)\n",
    "n = len(attributes)\n",
    "divisors = np.empty(n)\n",
    "for j in range(n):\n",
    "    column = raw_data[:,j]\n",
    "    divisors[j] = np.sqrt(column @ column)\n",
    "\n",
    "raw_data /= divisors\n",
    "\n",
    "columns = [\"$X_{%d}$\" % j for j in range(n)]\n",
    "pd.DataFrame(data=raw_data, index=candidates, columns=columns)"
   ]
  },
  {
   "cell_type": "markdown",
   "id": "a4ac2f89",
   "metadata": {},
   "source": [
    "# Calculating the weighted Normalizing Ratings"
   ]
  },
  {
   "cell_type": "code",
   "execution_count": 4,
   "id": "e7c59f13",
   "metadata": {},
   "outputs": [
    {
     "data": {
      "text/html": [
       "<div>\n",
       "<style scoped>\n",
       "    .dataframe tbody tr th:only-of-type {\n",
       "        vertical-align: middle;\n",
       "    }\n",
       "\n",
       "    .dataframe tbody tr th {\n",
       "        vertical-align: top;\n",
       "    }\n",
       "\n",
       "    .dataframe thead th {\n",
       "        text-align: right;\n",
       "    }\n",
       "</style>\n",
       "<table border=\"1\" class=\"dataframe\">\n",
       "  <thead>\n",
       "    <tr style=\"text-align: right;\">\n",
       "      <th></th>\n",
       "      <th>$X_{0}$</th>\n",
       "      <th>$X_{1}$</th>\n",
       "      <th>$X_{2}$</th>\n",
       "      <th>$X_{3}$</th>\n",
       "      <th>$X_{4}$</th>\n",
       "    </tr>\n",
       "  </thead>\n",
       "  <tbody>\n",
       "    <tr>\n",
       "      <th>Light GBM</th>\n",
       "      <td>0.096658</td>\n",
       "      <td>0.096658</td>\n",
       "      <td>0.101002</td>\n",
       "      <td>0.091139</td>\n",
       "      <td>0.019572</td>\n",
       "    </tr>\n",
       "    <tr>\n",
       "      <th>SVM</th>\n",
       "      <td>0.098554</td>\n",
       "      <td>0.098554</td>\n",
       "      <td>0.101818</td>\n",
       "      <td>0.084983</td>\n",
       "      <td>0.003430</td>\n",
       "    </tr>\n",
       "    <tr>\n",
       "      <th>Random Forest</th>\n",
       "      <td>0.102334</td>\n",
       "      <td>0.102334</td>\n",
       "      <td>0.099950</td>\n",
       "      <td>0.094817</td>\n",
       "      <td>0.068177</td>\n",
       "    </tr>\n",
       "    <tr>\n",
       "      <th>Pytorch ANN</th>\n",
       "      <td>0.102334</td>\n",
       "      <td>0.102334</td>\n",
       "      <td>0.097168</td>\n",
       "      <td>0.124423</td>\n",
       "      <td>0.186968</td>\n",
       "    </tr>\n",
       "  </tbody>\n",
       "</table>\n",
       "</div>"
      ],
      "text/plain": [
       "                $X_{0}$   $X_{1}$   $X_{2}$   $X_{3}$   $X_{4}$\n",
       "Light GBM      0.096658  0.096658  0.101002  0.091139  0.019572\n",
       "SVM            0.098554  0.098554  0.101818  0.084983  0.003430\n",
       "Random Forest  0.102334  0.102334  0.099950  0.094817  0.068177\n",
       "Pytorch ANN    0.102334  0.102334  0.097168  0.124423  0.186968"
      ]
     },
     "execution_count": 4,
     "metadata": {},
     "output_type": "execute_result"
    }
   ],
   "source": [
    "raw_data *= weights\n",
    "pd.DataFrame(data=raw_data, index=candidates, columns=columns)"
   ]
  },
  {
   "cell_type": "markdown",
   "id": "3ea7061b",
   "metadata": {},
   "source": [
    "# Identifying PIS AND NIS"
   ]
  },
  {
   "cell_type": "code",
   "execution_count": 5,
   "id": "89055054",
   "metadata": {},
   "outputs": [
    {
     "data": {
      "text/html": [
       "<div>\n",
       "<style scoped>\n",
       "    .dataframe tbody tr th:only-of-type {\n",
       "        vertical-align: middle;\n",
       "    }\n",
       "\n",
       "    .dataframe tbody tr th {\n",
       "        vertical-align: top;\n",
       "    }\n",
       "\n",
       "    .dataframe thead th {\n",
       "        text-align: right;\n",
       "    }\n",
       "</style>\n",
       "<table border=\"1\" class=\"dataframe\">\n",
       "  <thead>\n",
       "    <tr style=\"text-align: right;\">\n",
       "      <th></th>\n",
       "      <th>$X_{0}$</th>\n",
       "      <th>$X_{1}$</th>\n",
       "      <th>$X_{2}$</th>\n",
       "      <th>$X_{3}$</th>\n",
       "      <th>$X_{4}$</th>\n",
       "    </tr>\n",
       "  </thead>\n",
       "  <tbody>\n",
       "    <tr>\n",
       "      <th>$A^*$</th>\n",
       "      <td>0.102334</td>\n",
       "      <td>0.102334</td>\n",
       "      <td>0.101818</td>\n",
       "      <td>0.084983</td>\n",
       "      <td>0.003430</td>\n",
       "    </tr>\n",
       "    <tr>\n",
       "      <th>$A^-$</th>\n",
       "      <td>0.096658</td>\n",
       "      <td>0.096658</td>\n",
       "      <td>0.097168</td>\n",
       "      <td>0.124423</td>\n",
       "      <td>0.186968</td>\n",
       "    </tr>\n",
       "  </tbody>\n",
       "</table>\n",
       "</div>"
      ],
      "text/plain": [
       "        $X_{0}$   $X_{1}$   $X_{2}$   $X_{3}$   $X_{4}$\n",
       "$A^*$  0.102334  0.102334  0.101818  0.084983  0.003430\n",
       "$A^-$  0.096658  0.096658  0.097168  0.124423  0.186968"
      ]
     },
     "execution_count": 5,
     "metadata": {},
     "output_type": "execute_result"
    }
   ],
   "source": [
    "a_pos = np.zeros(n)\n",
    "a_neg = np.zeros(n)\n",
    "for j in range(n):\n",
    "    column = raw_data[:,j]\n",
    "    max_val = np.max(column)\n",
    "    min_val = np.min(column)\n",
    "    \n",
    "    # See if we want to maximize benefit or minimize cost (for PIS)\n",
    "    if j in benefit_attributes:\n",
    "        a_pos[j] = max_val\n",
    "        a_neg[j] = min_val\n",
    "    else:\n",
    "        a_pos[j] = min_val\n",
    "        a_neg[j] = max_val\n",
    "\n",
    "pd.DataFrame(data=[a_pos, a_neg], index=[\"$A^*$\", \"$A^-$\"], columns=columns)"
   ]
  },
  {
   "cell_type": "markdown",
   "id": "3f677e9c",
   "metadata": {},
   "source": [
    "# Calculating Euclidean Distance and Similarities to PIS"
   ]
  },
  {
   "cell_type": "code",
   "execution_count": 6,
   "id": "edf34abe",
   "metadata": {
    "scrolled": true
   },
   "outputs": [
    {
     "data": {
      "text/html": [
       "<div>\n",
       "<style scoped>\n",
       "    .dataframe tbody tr th:only-of-type {\n",
       "        vertical-align: middle;\n",
       "    }\n",
       "\n",
       "    .dataframe tbody tr th {\n",
       "        vertical-align: top;\n",
       "    }\n",
       "\n",
       "    .dataframe thead th {\n",
       "        text-align: right;\n",
       "    }\n",
       "</style>\n",
       "<table border=\"1\" class=\"dataframe\">\n",
       "  <thead>\n",
       "    <tr style=\"text-align: right;\">\n",
       "      <th></th>\n",
       "      <th>$S^*$</th>\n",
       "      <th>$S^-$</th>\n",
       "      <th>$C^*$</th>\n",
       "    </tr>\n",
       "  </thead>\n",
       "  <tbody>\n",
       "    <tr>\n",
       "      <th>Light GBM</th>\n",
       "      <td>0.019068</td>\n",
       "      <td>0.170716</td>\n",
       "      <td>0.899529</td>\n",
       "    </tr>\n",
       "    <tr>\n",
       "      <th>SVM</th>\n",
       "      <td>0.005346</td>\n",
       "      <td>0.187805</td>\n",
       "      <td>0.972321</td>\n",
       "    </tr>\n",
       "    <tr>\n",
       "      <th>Random Forest</th>\n",
       "      <td>0.065516</td>\n",
       "      <td>0.122720</td>\n",
       "      <td>0.651946</td>\n",
       "    </tr>\n",
       "    <tr>\n",
       "      <th>Pytorch ANN</th>\n",
       "      <td>0.187786</td>\n",
       "      <td>0.008027</td>\n",
       "      <td>0.040995</td>\n",
       "    </tr>\n",
       "  </tbody>\n",
       "</table>\n",
       "</div>"
      ],
      "text/plain": [
       "                  $S^*$     $S^-$     $C^*$\n",
       "Light GBM      0.019068  0.170716  0.899529\n",
       "SVM            0.005346  0.187805  0.972321\n",
       "Random Forest  0.065516  0.122720  0.651946\n",
       "Pytorch ANN    0.187786  0.008027  0.040995"
      ]
     },
     "execution_count": 6,
     "metadata": {},
     "output_type": "execute_result"
    }
   ],
   "source": [
    "sp = np.zeros(m)\n",
    "sn = np.zeros(m)\n",
    "cs = np.zeros(m)\n",
    "\n",
    "for i in range(m):\n",
    "    diff_pos = raw_data[i] - a_pos\n",
    "    diff_neg = raw_data[i] - a_neg\n",
    "    sp[i] = np.sqrt(diff_pos @ diff_pos)\n",
    "    sn[i] = np.sqrt(diff_neg @ diff_neg)\n",
    "    cs[i] = sn[i] / (sp[i] + sn[i])\n",
    "\n",
    "pd.DataFrame(data=zip(sp, sn, cs), index=candidates, columns=[\"$S^*$\", \"$S^-$\", \"$C^*$\"])"
   ]
  }
 ],
 "metadata": {
  "kernelspec": {
   "display_name": "Python 3 (ipykernel)",
   "language": "python",
   "name": "python3"
  },
  "language_info": {
   "codemirror_mode": {
    "name": "ipython",
    "version": 3
   },
   "file_extension": ".py",
   "mimetype": "text/x-python",
   "name": "python",
   "nbconvert_exporter": "python",
   "pygments_lexer": "ipython3",
   "version": "3.9.7"
  },
  "toc": {
   "base_numbering": 1,
   "nav_menu": {},
   "number_sections": true,
   "sideBar": true,
   "skip_h1_title": false,
   "title_cell": "Table of Contents",
   "title_sidebar": "Contents",
   "toc_cell": false,
   "toc_position": {},
   "toc_section_display": true,
   "toc_window_display": false
  }
 },
 "nbformat": 4,
 "nbformat_minor": 5
}

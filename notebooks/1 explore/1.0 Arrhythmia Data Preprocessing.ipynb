{
 "cells": [
  {
   "cell_type": "markdown",
   "id": "3fb503c3",
   "metadata": {},
   "source": [
    "# Import the package"
   ]
  },
  {
   "cell_type": "code",
   "execution_count": 1,
   "id": "3a9cc4cf",
   "metadata": {},
   "outputs": [],
   "source": [
    "import matplotlib.pyplot as plt\n",
    "import numpy as np\n",
    "import pandas as pd\n",
    "import seaborn as sns\n",
    "import lightgbm as lgb\n",
    "from matplotlib.pyplot import MultipleLocator\n",
    "from sklearn.preprocessing import OneHotEncoder\n",
    "from sklearn.preprocessing import LabelEncoder\n",
    "from matplotlib.pyplot import MultipleLocator\n",
    "from sklearn import metrics\n",
    "from sklearn.metrics import f1_score  \n",
    "from sklearn.metrics import mean_absolute_error\n",
    "from sklearn.metrics import confusion_matrix,roc_curve,roc_auc_score,accuracy_score, plot_confusion_matrix,classification_report\n",
    "from sklearn.model_selection import GridSearchCV\n",
    "from sklearn.model_selection import train_test_split\n",
    "%matplotlib inline\n",
    "from sklearn.ensemble import RandomForestClassifier\n",
    "from sklearn.model_selection import RepeatedStratifiedKFold\n",
    "from sklearn.model_selection import cross_val_score\n",
    "from numpy import mean\n",
    "from numpy import std\n",
    "from datetime import datetime"
   ]
  },
  {
   "cell_type": "markdown",
   "id": "f16cba85",
   "metadata": {},
   "source": [
    "# Read the data from csv file"
   ]
  },
  {
   "cell_type": "code",
   "execution_count": 2,
   "id": "fd8c97c1",
   "metadata": {
    "scrolled": true
   },
   "outputs": [
    {
     "data": {
      "text/html": [
       "<div>\n",
       "<style scoped>\n",
       "    .dataframe tbody tr th:only-of-type {\n",
       "        vertical-align: middle;\n",
       "    }\n",
       "\n",
       "    .dataframe tbody tr th {\n",
       "        vertical-align: top;\n",
       "    }\n",
       "\n",
       "    .dataframe thead th {\n",
       "        text-align: right;\n",
       "    }\n",
       "</style>\n",
       "<table border=\"1\" class=\"dataframe\">\n",
       "  <thead>\n",
       "    <tr style=\"text-align: right;\">\n",
       "      <th></th>\n",
       "      <th>Age</th>\n",
       "      <th>Sex</th>\n",
       "      <th>Height</th>\n",
       "      <th>Weight</th>\n",
       "      <th>QRS duration</th>\n",
       "      <th>P-R interval</th>\n",
       "      <th>Q-T interval</th>\n",
       "      <th>T interval</th>\n",
       "      <th>P interval</th>\n",
       "      <th>QRS</th>\n",
       "      <th>...</th>\n",
       "      <th>Q wave V6</th>\n",
       "      <th>R wave V6</th>\n",
       "      <th>S wave V6</th>\n",
       "      <th>R' wave V6</th>\n",
       "      <th>S' wave V6</th>\n",
       "      <th>P wave V6</th>\n",
       "      <th>T wave V6</th>\n",
       "      <th>QRSA V6</th>\n",
       "      <th>QRSTA V6</th>\n",
       "      <th>label</th>\n",
       "    </tr>\n",
       "  </thead>\n",
       "  <tbody>\n",
       "    <tr>\n",
       "      <th>0</th>\n",
       "      <td>75</td>\n",
       "      <td>0</td>\n",
       "      <td>190</td>\n",
       "      <td>80</td>\n",
       "      <td>91</td>\n",
       "      <td>193</td>\n",
       "      <td>371</td>\n",
       "      <td>174</td>\n",
       "      <td>121</td>\n",
       "      <td>-16</td>\n",
       "      <td>...</td>\n",
       "      <td>0.0</td>\n",
       "      <td>9.0</td>\n",
       "      <td>-0.9</td>\n",
       "      <td>0.0</td>\n",
       "      <td>0.0</td>\n",
       "      <td>0.9</td>\n",
       "      <td>2.9</td>\n",
       "      <td>23.3</td>\n",
       "      <td>49.4</td>\n",
       "      <td>8</td>\n",
       "    </tr>\n",
       "    <tr>\n",
       "      <th>1</th>\n",
       "      <td>56</td>\n",
       "      <td>1</td>\n",
       "      <td>165</td>\n",
       "      <td>64</td>\n",
       "      <td>81</td>\n",
       "      <td>174</td>\n",
       "      <td>401</td>\n",
       "      <td>149</td>\n",
       "      <td>39</td>\n",
       "      <td>25</td>\n",
       "      <td>...</td>\n",
       "      <td>0.0</td>\n",
       "      <td>8.5</td>\n",
       "      <td>0.0</td>\n",
       "      <td>0.0</td>\n",
       "      <td>0.0</td>\n",
       "      <td>0.2</td>\n",
       "      <td>2.1</td>\n",
       "      <td>20.4</td>\n",
       "      <td>38.8</td>\n",
       "      <td>6</td>\n",
       "    </tr>\n",
       "    <tr>\n",
       "      <th>2</th>\n",
       "      <td>54</td>\n",
       "      <td>0</td>\n",
       "      <td>172</td>\n",
       "      <td>95</td>\n",
       "      <td>138</td>\n",
       "      <td>163</td>\n",
       "      <td>386</td>\n",
       "      <td>185</td>\n",
       "      <td>102</td>\n",
       "      <td>96</td>\n",
       "      <td>...</td>\n",
       "      <td>0.0</td>\n",
       "      <td>9.5</td>\n",
       "      <td>-2.4</td>\n",
       "      <td>0.0</td>\n",
       "      <td>0.0</td>\n",
       "      <td>0.3</td>\n",
       "      <td>3.4</td>\n",
       "      <td>12.3</td>\n",
       "      <td>49.0</td>\n",
       "      <td>10</td>\n",
       "    </tr>\n",
       "    <tr>\n",
       "      <th>3</th>\n",
       "      <td>55</td>\n",
       "      <td>0</td>\n",
       "      <td>175</td>\n",
       "      <td>94</td>\n",
       "      <td>100</td>\n",
       "      <td>202</td>\n",
       "      <td>380</td>\n",
       "      <td>179</td>\n",
       "      <td>143</td>\n",
       "      <td>28</td>\n",
       "      <td>...</td>\n",
       "      <td>0.0</td>\n",
       "      <td>12.2</td>\n",
       "      <td>-2.2</td>\n",
       "      <td>0.0</td>\n",
       "      <td>0.0</td>\n",
       "      <td>0.4</td>\n",
       "      <td>2.6</td>\n",
       "      <td>34.6</td>\n",
       "      <td>61.6</td>\n",
       "      <td>1</td>\n",
       "    </tr>\n",
       "    <tr>\n",
       "      <th>4</th>\n",
       "      <td>75</td>\n",
       "      <td>0</td>\n",
       "      <td>190</td>\n",
       "      <td>80</td>\n",
       "      <td>88</td>\n",
       "      <td>181</td>\n",
       "      <td>360</td>\n",
       "      <td>177</td>\n",
       "      <td>103</td>\n",
       "      <td>-16</td>\n",
       "      <td>...</td>\n",
       "      <td>0.0</td>\n",
       "      <td>13.1</td>\n",
       "      <td>-3.6</td>\n",
       "      <td>0.0</td>\n",
       "      <td>0.0</td>\n",
       "      <td>-0.1</td>\n",
       "      <td>3.9</td>\n",
       "      <td>25.4</td>\n",
       "      <td>62.8</td>\n",
       "      <td>7</td>\n",
       "    </tr>\n",
       "  </tbody>\n",
       "</table>\n",
       "<p>5 rows × 280 columns</p>\n",
       "</div>"
      ],
      "text/plain": [
       "   Age  Sex  Height  Weight  QRS duration  P-R interval  Q-T interval  \\\n",
       "0   75    0     190      80            91           193           371   \n",
       "1   56    1     165      64            81           174           401   \n",
       "2   54    0     172      95           138           163           386   \n",
       "3   55    0     175      94           100           202           380   \n",
       "4   75    0     190      80            88           181           360   \n",
       "\n",
       "   T interval  P interval  QRS  ... Q wave V6 R wave V6 S wave V6 R' wave V6  \\\n",
       "0         174         121  -16  ...       0.0       9.0      -0.9        0.0   \n",
       "1         149          39   25  ...       0.0       8.5       0.0        0.0   \n",
       "2         185         102   96  ...       0.0       9.5      -2.4        0.0   \n",
       "3         179         143   28  ...       0.0      12.2      -2.2        0.0   \n",
       "4         177         103  -16  ...       0.0      13.1      -3.6        0.0   \n",
       "\n",
       "  S' wave V6  P wave V6  T wave V6  QRSA V6  QRSTA V6  label  \n",
       "0        0.0        0.9        2.9     23.3      49.4      8  \n",
       "1        0.0        0.2        2.1     20.4      38.8      6  \n",
       "2        0.0        0.3        3.4     12.3      49.0     10  \n",
       "3        0.0        0.4        2.6     34.6      61.6      1  \n",
       "4        0.0       -0.1        3.9     25.4      62.8      7  \n",
       "\n",
       "[5 rows x 280 columns]"
      ]
     },
     "execution_count": 2,
     "metadata": {},
     "output_type": "execute_result"
    }
   ],
   "source": [
    "arrhyData=pd.read_csv('arrhythmia data with title.csv')\n",
    "arrhyData.head()"
   ]
  },
  {
   "cell_type": "code",
   "execution_count": 3,
   "id": "fbcd2d95",
   "metadata": {},
   "outputs": [
    {
     "data": {
      "text/plain": [
       "(452, 280)"
      ]
     },
     "execution_count": 3,
     "metadata": {},
     "output_type": "execute_result"
    }
   ],
   "source": [
    "arrhyData.shape"
   ]
  },
  {
   "cell_type": "code",
   "execution_count": 4,
   "id": "cd124799",
   "metadata": {},
   "outputs": [
    {
     "data": {
      "text/plain": [
       "<AxesSubplot:xlabel='label', ylabel='count'>"
      ]
     },
     "execution_count": 4,
     "metadata": {},
     "output_type": "execute_result"
    },
    {
     "data": {
      "image/png": "[encoded data removed]",
      "text/plain": [
       "<Figure size 432x288 with 1 Axes>"
      ]
     },
     "metadata": {
      "needs_background": "light"
     },
     "output_type": "display_data"
    }
   ],
   "source": [
    "sns.countplot(x='label',data=arrhyData)"
   ]
  },
  {
   "cell_type": "markdown",
   "id": "d00f48dd",
   "metadata": {},
   "source": [
    "# Explore the data distribution"
   ]
  },
  {
   "cell_type": "code",
   "execution_count": 5,
   "id": "9e70940f",
   "metadata": {
    "scrolled": false
   },
   "outputs": [
    {
     "name": "stdout",
     "output_type": "stream",
     "text": [
      "True     245\n",
      "False    207\n",
      "Name: label, dtype: int64\n",
      "       label\n",
      "True     245\n",
      "False    207\n",
      "       label        Type\n",
      "True     245      normal\n",
      "False    207  arrhythmia\n",
      "Index(['label', 'Type'], dtype='object')\n"
     ]
    },
    {
     "data": {
      "text/plain": [
       "<AxesSubplot:xlabel='Type', ylabel='Count'>"
      ]
     },
     "execution_count": 5,
     "metadata": {},
     "output_type": "execute_result"
    },
    {
     "data": {
      "image/png": "[encoded data removed]",
      "text/plain": [
       "<Figure size 432x288 with 1 Axes>"
      ]
     },
     "metadata": {
      "needs_background": "light"
     },
     "output_type": "display_data"
    }
   ],
   "source": [
    "type=pd.value_counts(arrhyData['label']==1)\n",
    "print(type)\n",
    "count_df = type.to_frame()\n",
    "print(count_df)\n",
    "count_df['Type'] = ['normal','arrhythmia']\n",
    "print(count_df)\n",
    "\n",
    "df_new = count_df.rename(columns={'label': 'Count'})\n",
    "print( count_df.columns)\n",
    "sns.barplot(y= 'Count',x='Type', data=df_new)\n",
    "#print(arrhyData)\n"
   ]
  },
  {
   "cell_type": "code",
   "execution_count": 6,
   "id": "8dced445",
   "metadata": {},
   "outputs": [
    {
     "data": {
      "text/html": [
       "<div>\n",
       "<style scoped>\n",
       "    .dataframe tbody tr th:only-of-type {\n",
       "        vertical-align: middle;\n",
       "    }\n",
       "\n",
       "    .dataframe tbody tr th {\n",
       "        vertical-align: top;\n",
       "    }\n",
       "\n",
       "    .dataframe thead th {\n",
       "        text-align: right;\n",
       "    }\n",
       "</style>\n",
       "<table border=\"1\" class=\"dataframe\">\n",
       "  <thead>\n",
       "    <tr style=\"text-align: right;\">\n",
       "      <th></th>\n",
       "      <th>Count</th>\n",
       "      <th>Type</th>\n",
       "    </tr>\n",
       "  </thead>\n",
       "  <tbody>\n",
       "    <tr>\n",
       "      <th>True</th>\n",
       "      <td>245</td>\n",
       "      <td>normal</td>\n",
       "    </tr>\n",
       "    <tr>\n",
       "      <th>False</th>\n",
       "      <td>207</td>\n",
       "      <td>arrhythmia</td>\n",
       "    </tr>\n",
       "  </tbody>\n",
       "</table>\n",
       "</div>"
      ],
      "text/plain": [
       "       Count        Type\n",
       "True     245      normal\n",
       "False    207  arrhythmia"
      ]
     },
     "execution_count": 6,
     "metadata": {},
     "output_type": "execute_result"
    }
   ],
   "source": [
    "df_new"
   ]
  },
  {
   "cell_type": "code",
   "execution_count": 7,
   "id": "500a4de9",
   "metadata": {},
   "outputs": [],
   "source": [
    "arrhyData['type']=np.where(arrhyData[\"label\"]==1,'Normal','Abnormal') "
   ]
  },
  {
   "cell_type": "code",
   "execution_count": 8,
   "id": "70e6f4be",
   "metadata": {},
   "outputs": [
    {
     "name": "stderr",
     "output_type": "stream",
     "text": [
      "B:\\Anaconda\\lib\\site-packages\\seaborn\\distributions.py:2619: FutureWarning: `distplot` is a deprecated function and will be removed in a future version. Please adapt your code to use either `displot` (a figure-level function with similar flexibility) or `histplot` (an axes-level function for histograms).\n",
      "  warnings.warn(msg, FutureWarning)\n"
     ]
    },
    {
     "data": {
      "text/plain": [
       "<AxesSubplot:xlabel='Age', ylabel='Density'>"
      ]
     },
     "execution_count": 8,
     "metadata": {},
     "output_type": "execute_result"
    },
    {
     "data": {
      "image/png": "[encoded data removed]",
      "text/plain": [
       "<Figure size 432x288 with 1 Axes>"
      ]
     },
     "metadata": {
      "needs_background": "light"
     },
     "output_type": "display_data"
    }
   ],
   "source": [
    "sns.distplot(arrhyData['Age'])"
   ]
  },
  {
   "cell_type": "code",
   "execution_count": 9,
   "id": "9741f202",
   "metadata": {},
   "outputs": [
    {
     "data": {
      "text/plain": [
       "<seaborn.axisgrid.FacetGrid at 0x19ed4046b80>"
      ]
     },
     "execution_count": 9,
     "metadata": {},
     "output_type": "execute_result"
    },
    {
     "data": {
      "image/png": "[encoded data removed]",
      "text/plain": [
       "<Figure size 444.125x360 with 1 Axes>"
      ]
     },
     "metadata": {
      "needs_background": "light"
     },
     "output_type": "display_data"
    }
   ],
   "source": [
    "sns.displot(arrhyData, x=\"Age\", hue=\"type\", multiple=\"stack\")"
   ]
  },
  {
   "cell_type": "code",
   "execution_count": 10,
   "id": "24618feb",
   "metadata": {},
   "outputs": [],
   "source": [
    "cats=pd.cut(arrhyData['Age'],[])"
   ]
  },
  {
   "cell_type": "code",
   "execution_count": 11,
   "id": "e4f43fcb",
   "metadata": {},
   "outputs": [
    {
     "name": "stdout",
     "output_type": "stream",
     "text": [
      "J              1.000000\n",
      "JJ wave AVF    0.685795\n",
      "Name: J, dtype: float64\n",
      "J               1.000000\n",
      "JJ wave AVF     0.685795\n",
      "JJ wave DIII    0.657752\n",
      "Name: J, dtype: float64\n"
     ]
    },
    {
     "data": {
      "image/png": "[encoded data removed]",
      "text/plain": [
       "<Figure size 288x288 with 1 Axes>"
      ]
     },
     "metadata": {
      "needs_background": "light"
     },
     "output_type": "display_data"
    }
   ],
   "source": [
    "filterData=arrhyData[arrhyData['J']!='?']\n",
    "filterData = filterData.astype({'J': 'int32'})\n",
    "\n",
    "#print(filterData['J'])\n",
    "#pd.set_option(\"display.max_rows\", None, \"display.max_columns\", None)\n",
    "#for c in filterData.corr().columns:\n",
    "   # print (c)\n",
    "print(filterData.corr()['J'].nlargest(2))\n",
    "print(filterData.corr()['J'].nlargest(3))\n",
    "plt.matshow(filterData.corr())\n",
    "plt.show()"
   ]
  },
  {
   "cell_type": "markdown",
   "id": "444df265",
   "metadata": {},
   "source": [
    "# Detect the miss value"
   ]
  },
  {
   "cell_type": "code",
   "execution_count": 12,
   "id": "d25803a3",
   "metadata": {
    "scrolled": true
   },
   "outputs": [
    {
     "data": {
      "text/plain": [
       "False    452\n",
       "Name: Age, dtype: int64"
      ]
     },
     "execution_count": 12,
     "metadata": {},
     "output_type": "execute_result"
    }
   ],
   "source": [
    "pd.value_counts(pd.isnull(arrhyData['Age']))"
   ]
  },
  {
   "cell_type": "code",
   "execution_count": 13,
   "id": "b0519b9f",
   "metadata": {},
   "outputs": [
    {
     "name": "stdout",
     "output_type": "stream",
     "text": [
      "True     376\n",
      "False     76\n",
      "Name: J, dtype: int64\n",
      "376\n",
      "0.831858407079646\n"
     ]
    }
   ],
   "source": [
    "num=pd.value_counts((arrhyData['J']=='?'))\n",
    "print(num)\n",
    "resultJ=num.get(True)\n",
    "print(resultJ)\n",
    "percentJ=resultJ/452\n",
    "\n",
    "print(percentJ)"
   ]
  },
  {
   "cell_type": "code",
   "execution_count": 14,
   "id": "1f301a39",
   "metadata": {},
   "outputs": [
    {
     "name": "stdout",
     "output_type": "stream",
     "text": [
      "False    430\n",
      "True      22\n",
      "Name: P, dtype: int64\n",
      "22\n",
      "0.048672566371681415\n"
     ]
    }
   ],
   "source": [
    "num=pd.value_counts((arrhyData['P']=='?'))\n",
    "print(num)\n",
    "resultP=num.get(True)\n",
    "print(resultP)\n",
    "percentP=resultP/452\n",
    "\n",
    "print(percentP)"
   ]
  },
  {
   "cell_type": "code",
   "execution_count": 15,
   "id": "879df974",
   "metadata": {},
   "outputs": [
    {
     "name": "stdout",
     "output_type": "stream",
     "text": [
      "False    444\n",
      "True       8\n",
      "Name: T, dtype: int64\n",
      "8\n",
      "0.017699115044247787\n"
     ]
    }
   ],
   "source": [
    "num=pd.value_counts((arrhyData['T']=='?'))\n",
    "print(num)\n",
    "resultT=num.get(True)\n",
    "print(resultT)\n",
    "percentT=resultT/452\n",
    "\n",
    "print(percentT)"
   ]
  },
  {
   "cell_type": "code",
   "execution_count": 16,
   "id": "382a9611",
   "metadata": {
    "scrolled": true
   },
   "outputs": [
    {
     "name": "stdout",
     "output_type": "stream",
     "text": [
      "False    451\n",
      "True       1\n",
      "Name: QRST, dtype: int64\n",
      "1\n",
      "0.0022123893805309734\n"
     ]
    }
   ],
   "source": [
    "num=pd.value_counts((arrhyData['QRST']=='?'))\n",
    "print(num)\n",
    "resultQRST=num.get(True)\n",
    "print(resultQRST)\n",
    "percentQRST=resultQRST/452\n",
    "\n",
    "print(percentQRST)"
   ]
  },
  {
   "cell_type": "code",
   "execution_count": 17,
   "id": "3f9a7c1c",
   "metadata": {
    "scrolled": true
   },
   "outputs": [
    {
     "name": "stdout",
     "output_type": "stream",
     "text": [
      "False    451\n",
      "True       1\n",
      "Name: Heart rate, dtype: int64\n",
      "1\n",
      "0.0022123893805309734\n"
     ]
    }
   ],
   "source": [
    "#def turn_percentage(x):\n",
    "#    return '%.2f%%'%(x*100)\n",
    "\n",
    "num=pd.value_counts((arrhyData['Heart rate']=='?'))\n",
    "print(num)\n",
    "resultHR=num.get(True)\n",
    "print(resultHR)\n",
    "percentHR=resultHR/452\n",
    "\n",
    "\n",
    "print(percentHR)"
   ]
  },
  {
   "cell_type": "code",
   "execution_count": 18,
   "id": "b89c46c0",
   "metadata": {},
   "outputs": [
    {
     "name": "stdout",
     "output_type": "stream",
     "text": [
      "{'losspercent': [0.831858407079646, 0.048672566371681415, 0.017699115044247787, 0.0022123893805309734, 0.0022123893805309734], 'lossdata': [376, 22, 8, 1, 1], 'columnname': ['J_angle', 'P_angle', 'T_angle', 'QRST_angle', 'Heart_beat']}\n",
      "  losspercent  lossdata  columnname\n",
      "0      83.19%       376     J_angle\n",
      "1       4.87%        22     P_angle\n",
      "2       1.77%         8     T_angle\n",
      "3       0.22%         1  QRST_angle\n",
      "4       0.22%         1  Heart_beat\n"
     ]
    }
   ],
   "source": [
    "cloumnloss={'losspercent':[percentJ,percentP,percentT,percentQRST,percentHR],\n",
    "            'lossdata':[resultJ,resultP,resultT,resultQRST,resultHR],\n",
    "            'columnname':['J_angle','P_angle','T_angle','QRST_angle','Heart_beat']\n",
    "           }\n",
    "\n",
    "print(cloumnloss)\n",
    "frame=pd.DataFrame(cloumnloss)\n",
    "frame['losspercent']=frame['losspercent'].apply(lambda x:format(x,'.2%'))\n",
    "print(frame)"
   ]
  },
  {
   "cell_type": "code",
   "execution_count": 19,
   "id": "959722e9",
   "metadata": {
    "code_folding": [],
    "scrolled": true
   },
   "outputs": [
    {
     "data": {
      "image/png": "[encoded data removed]",
      "text/plain": [
       "<Figure size 432x288 with 1 Axes>"
      ]
     },
     "metadata": {
      "needs_background": "light"
     },
     "output_type": "display_data"
    }
   ],
   "source": [
    "#sns.barplot(y= 'lossdata',x='columnname', data=frame)\n",
    "ax=frame.plot(x='columnname',y= 'lossdata',kind='bar')\n",
    "#print(frame['losspercent'][0])\n",
    "for i, p in enumerate(ax.patches):\n",
    "    \n",
    "#i=0\n",
    "#for p in ax.patches:   \n",
    "    \n",
    "    ax.annotate(frame['losspercent'][i], (p.get_x() * 1.005, p.get_height() * 1.005))\n",
    "#   i=i+1\n",
    "#for i in 'columnname':\n",
    "   #g.text('columnname','losspercent', 'lossdata')"
   ]
  },
  {
   "cell_type": "code",
   "execution_count": 20,
   "id": "80484780",
   "metadata": {},
   "outputs": [],
   "source": [
    "arrLoss=arrhyData.replace('?', np.nan)"
   ]
  },
  {
   "cell_type": "code",
   "execution_count": 21,
   "id": "332e1b24",
   "metadata": {},
   "outputs": [
    {
     "name": "stdout",
     "output_type": "stream",
     "text": [
      "QRST            1\n",
      "Heart rate      1\n",
      "T               8\n",
      "P              22\n",
      "J             376\n",
      "dtype: int64\n"
     ]
    }
   ],
   "source": [
    "def missing_count(df):\n",
    "    nan_count=df.isnull().sum()\n",
    "    nan_count=nan_count[nan_count>0].sort_values()\n",
    "    return nan_count\n",
    "print(missing_count(arrLoss))  \n",
    "mcarrLoss=missing_count(arrLoss)\n",
    "                   "
   ]
  },
  {
   "cell_type": "code",
   "execution_count": 22,
   "id": "287f249a",
   "metadata": {},
   "outputs": [
    {
     "name": "stdout",
     "output_type": "stream",
     "text": [
      "QRST           0.221239\n",
      "Heart rate     0.221239\n",
      "T              1.769912\n",
      "P              4.867257\n",
      "J             83.185841\n",
      "dtype: float64\n"
     ]
    }
   ],
   "source": [
    "def missing_percent(df):\n",
    "    nan_percent=df.isnull().sum()\n",
    "    nan_percent=100*((nan_percent[nan_percent>0])/len(df)).sort_values()\n",
    "    return nan_percent\n",
    "print(missing_percent(arrLoss)) \n",
    "mcarrLossPer=missing_percent(arrLoss)"
   ]
  },
  {
   "cell_type": "code",
   "execution_count": 23,
   "id": "d47309a9",
   "metadata": {},
   "outputs": [
    {
     "data": {
      "text/plain": [
       "dtype('O')"
      ]
     },
     "execution_count": 23,
     "metadata": {},
     "output_type": "execute_result"
    }
   ],
   "source": [
    "arrLoss['QRST'].dtype\n",
    "# arrLoss['Heart rate'].dtype\n",
    "# arrLoss['T'].dtype\n",
    "# arrLoss['P'].dtype\n",
    "# arrLoss['J'].dtype"
   ]
  },
  {
   "cell_type": "markdown",
   "id": "55c173c6",
   "metadata": {},
   "source": [
    "# Fulfill the miss value"
   ]
  },
  {
   "cell_type": "code",
   "execution_count": 24,
   "id": "83127b25",
   "metadata": {},
   "outputs": [
    {
     "data": {
      "text/html": [
       "<div>\n",
       "<style scoped>\n",
       "    .dataframe tbody tr th:only-of-type {\n",
       "        vertical-align: middle;\n",
       "    }\n",
       "\n",
       "    .dataframe tbody tr th {\n",
       "        vertical-align: top;\n",
       "    }\n",
       "\n",
       "    .dataframe thead th {\n",
       "        text-align: right;\n",
       "    }\n",
       "</style>\n",
       "<table border=\"1\" class=\"dataframe\">\n",
       "  <thead>\n",
       "    <tr style=\"text-align: right;\">\n",
       "      <th></th>\n",
       "      <th>Age</th>\n",
       "      <th>Sex</th>\n",
       "      <th>Height</th>\n",
       "      <th>Weight</th>\n",
       "      <th>QRS duration</th>\n",
       "      <th>P-R interval</th>\n",
       "      <th>Q-T interval</th>\n",
       "      <th>T interval</th>\n",
       "      <th>P interval</th>\n",
       "      <th>QRS</th>\n",
       "      <th>...</th>\n",
       "      <th>R wave V6</th>\n",
       "      <th>S wave V6</th>\n",
       "      <th>R' wave V6</th>\n",
       "      <th>S' wave V6</th>\n",
       "      <th>P wave V6</th>\n",
       "      <th>T wave V6</th>\n",
       "      <th>QRSA V6</th>\n",
       "      <th>QRSTA V6</th>\n",
       "      <th>label</th>\n",
       "      <th>type</th>\n",
       "    </tr>\n",
       "  </thead>\n",
       "  <tbody>\n",
       "    <tr>\n",
       "      <th>0</th>\n",
       "      <td>75</td>\n",
       "      <td>0</td>\n",
       "      <td>190</td>\n",
       "      <td>80</td>\n",
       "      <td>91</td>\n",
       "      <td>193</td>\n",
       "      <td>371</td>\n",
       "      <td>174</td>\n",
       "      <td>121</td>\n",
       "      <td>-16</td>\n",
       "      <td>...</td>\n",
       "      <td>9.0</td>\n",
       "      <td>-0.9</td>\n",
       "      <td>0.0</td>\n",
       "      <td>0.0</td>\n",
       "      <td>0.9</td>\n",
       "      <td>2.9</td>\n",
       "      <td>23.3</td>\n",
       "      <td>49.4</td>\n",
       "      <td>8</td>\n",
       "      <td>Abnormal</td>\n",
       "    </tr>\n",
       "    <tr>\n",
       "      <th>1</th>\n",
       "      <td>56</td>\n",
       "      <td>1</td>\n",
       "      <td>165</td>\n",
       "      <td>64</td>\n",
       "      <td>81</td>\n",
       "      <td>174</td>\n",
       "      <td>401</td>\n",
       "      <td>149</td>\n",
       "      <td>39</td>\n",
       "      <td>25</td>\n",
       "      <td>...</td>\n",
       "      <td>8.5</td>\n",
       "      <td>0.0</td>\n",
       "      <td>0.0</td>\n",
       "      <td>0.0</td>\n",
       "      <td>0.2</td>\n",
       "      <td>2.1</td>\n",
       "      <td>20.4</td>\n",
       "      <td>38.8</td>\n",
       "      <td>6</td>\n",
       "      <td>Abnormal</td>\n",
       "    </tr>\n",
       "    <tr>\n",
       "      <th>2</th>\n",
       "      <td>54</td>\n",
       "      <td>0</td>\n",
       "      <td>172</td>\n",
       "      <td>95</td>\n",
       "      <td>138</td>\n",
       "      <td>163</td>\n",
       "      <td>386</td>\n",
       "      <td>185</td>\n",
       "      <td>102</td>\n",
       "      <td>96</td>\n",
       "      <td>...</td>\n",
       "      <td>9.5</td>\n",
       "      <td>-2.4</td>\n",
       "      <td>0.0</td>\n",
       "      <td>0.0</td>\n",
       "      <td>0.3</td>\n",
       "      <td>3.4</td>\n",
       "      <td>12.3</td>\n",
       "      <td>49.0</td>\n",
       "      <td>10</td>\n",
       "      <td>Abnormal</td>\n",
       "    </tr>\n",
       "    <tr>\n",
       "      <th>3</th>\n",
       "      <td>55</td>\n",
       "      <td>0</td>\n",
       "      <td>175</td>\n",
       "      <td>94</td>\n",
       "      <td>100</td>\n",
       "      <td>202</td>\n",
       "      <td>380</td>\n",
       "      <td>179</td>\n",
       "      <td>143</td>\n",
       "      <td>28</td>\n",
       "      <td>...</td>\n",
       "      <td>12.2</td>\n",
       "      <td>-2.2</td>\n",
       "      <td>0.0</td>\n",
       "      <td>0.0</td>\n",
       "      <td>0.4</td>\n",
       "      <td>2.6</td>\n",
       "      <td>34.6</td>\n",
       "      <td>61.6</td>\n",
       "      <td>1</td>\n",
       "      <td>Normal</td>\n",
       "    </tr>\n",
       "    <tr>\n",
       "      <th>4</th>\n",
       "      <td>75</td>\n",
       "      <td>0</td>\n",
       "      <td>190</td>\n",
       "      <td>80</td>\n",
       "      <td>88</td>\n",
       "      <td>181</td>\n",
       "      <td>360</td>\n",
       "      <td>177</td>\n",
       "      <td>103</td>\n",
       "      <td>-16</td>\n",
       "      <td>...</td>\n",
       "      <td>13.1</td>\n",
       "      <td>-3.6</td>\n",
       "      <td>0.0</td>\n",
       "      <td>0.0</td>\n",
       "      <td>-0.1</td>\n",
       "      <td>3.9</td>\n",
       "      <td>25.4</td>\n",
       "      <td>62.8</td>\n",
       "      <td>7</td>\n",
       "      <td>Abnormal</td>\n",
       "    </tr>\n",
       "    <tr>\n",
       "      <th>...</th>\n",
       "      <td>...</td>\n",
       "      <td>...</td>\n",
       "      <td>...</td>\n",
       "      <td>...</td>\n",
       "      <td>...</td>\n",
       "      <td>...</td>\n",
       "      <td>...</td>\n",
       "      <td>...</td>\n",
       "      <td>...</td>\n",
       "      <td>...</td>\n",
       "      <td>...</td>\n",
       "      <td>...</td>\n",
       "      <td>...</td>\n",
       "      <td>...</td>\n",
       "      <td>...</td>\n",
       "      <td>...</td>\n",
       "      <td>...</td>\n",
       "      <td>...</td>\n",
       "      <td>...</td>\n",
       "      <td>...</td>\n",
       "      <td>...</td>\n",
       "    </tr>\n",
       "    <tr>\n",
       "      <th>447</th>\n",
       "      <td>53</td>\n",
       "      <td>1</td>\n",
       "      <td>160</td>\n",
       "      <td>70</td>\n",
       "      <td>80</td>\n",
       "      <td>199</td>\n",
       "      <td>382</td>\n",
       "      <td>154</td>\n",
       "      <td>117</td>\n",
       "      <td>-37</td>\n",
       "      <td>...</td>\n",
       "      <td>4.3</td>\n",
       "      <td>-5.0</td>\n",
       "      <td>0.0</td>\n",
       "      <td>0.0</td>\n",
       "      <td>0.7</td>\n",
       "      <td>0.6</td>\n",
       "      <td>-4.4</td>\n",
       "      <td>-0.5</td>\n",
       "      <td>1</td>\n",
       "      <td>Normal</td>\n",
       "    </tr>\n",
       "    <tr>\n",
       "      <th>448</th>\n",
       "      <td>37</td>\n",
       "      <td>0</td>\n",
       "      <td>190</td>\n",
       "      <td>85</td>\n",
       "      <td>100</td>\n",
       "      <td>137</td>\n",
       "      <td>361</td>\n",
       "      <td>201</td>\n",
       "      <td>73</td>\n",
       "      <td>86</td>\n",
       "      <td>...</td>\n",
       "      <td>15.6</td>\n",
       "      <td>-1.6</td>\n",
       "      <td>0.0</td>\n",
       "      <td>0.0</td>\n",
       "      <td>0.4</td>\n",
       "      <td>2.4</td>\n",
       "      <td>38.0</td>\n",
       "      <td>62.4</td>\n",
       "      <td>10</td>\n",
       "      <td>Abnormal</td>\n",
       "    </tr>\n",
       "    <tr>\n",
       "      <th>449</th>\n",
       "      <td>36</td>\n",
       "      <td>0</td>\n",
       "      <td>166</td>\n",
       "      <td>68</td>\n",
       "      <td>108</td>\n",
       "      <td>176</td>\n",
       "      <td>365</td>\n",
       "      <td>194</td>\n",
       "      <td>116</td>\n",
       "      <td>-85</td>\n",
       "      <td>...</td>\n",
       "      <td>16.3</td>\n",
       "      <td>-28.6</td>\n",
       "      <td>0.0</td>\n",
       "      <td>0.0</td>\n",
       "      <td>1.5</td>\n",
       "      <td>1.0</td>\n",
       "      <td>-44.2</td>\n",
       "      <td>-33.2</td>\n",
       "      <td>2</td>\n",
       "      <td>Abnormal</td>\n",
       "    </tr>\n",
       "    <tr>\n",
       "      <th>450</th>\n",
       "      <td>32</td>\n",
       "      <td>1</td>\n",
       "      <td>155</td>\n",
       "      <td>55</td>\n",
       "      <td>93</td>\n",
       "      <td>106</td>\n",
       "      <td>386</td>\n",
       "      <td>218</td>\n",
       "      <td>63</td>\n",
       "      <td>54</td>\n",
       "      <td>...</td>\n",
       "      <td>12.0</td>\n",
       "      <td>-0.7</td>\n",
       "      <td>0.0</td>\n",
       "      <td>0.0</td>\n",
       "      <td>0.5</td>\n",
       "      <td>2.4</td>\n",
       "      <td>25.0</td>\n",
       "      <td>46.6</td>\n",
       "      <td>1</td>\n",
       "      <td>Normal</td>\n",
       "    </tr>\n",
       "    <tr>\n",
       "      <th>451</th>\n",
       "      <td>78</td>\n",
       "      <td>1</td>\n",
       "      <td>160</td>\n",
       "      <td>70</td>\n",
       "      <td>79</td>\n",
       "      <td>127</td>\n",
       "      <td>364</td>\n",
       "      <td>138</td>\n",
       "      <td>78</td>\n",
       "      <td>28</td>\n",
       "      <td>...</td>\n",
       "      <td>10.4</td>\n",
       "      <td>-1.8</td>\n",
       "      <td>0.0</td>\n",
       "      <td>0.0</td>\n",
       "      <td>0.5</td>\n",
       "      <td>1.6</td>\n",
       "      <td>21.3</td>\n",
       "      <td>32.8</td>\n",
       "      <td>1</td>\n",
       "      <td>Normal</td>\n",
       "    </tr>\n",
       "  </tbody>\n",
       "</table>\n",
       "<p>452 rows × 281 columns</p>\n",
       "</div>"
      ],
      "text/plain": [
       "     Age  Sex  Height  Weight  QRS duration  P-R interval  Q-T interval  \\\n",
       "0     75    0     190      80            91           193           371   \n",
       "1     56    1     165      64            81           174           401   \n",
       "2     54    0     172      95           138           163           386   \n",
       "3     55    0     175      94           100           202           380   \n",
       "4     75    0     190      80            88           181           360   \n",
       "..   ...  ...     ...     ...           ...           ...           ...   \n",
       "447   53    1     160      70            80           199           382   \n",
       "448   37    0     190      85           100           137           361   \n",
       "449   36    0     166      68           108           176           365   \n",
       "450   32    1     155      55            93           106           386   \n",
       "451   78    1     160      70            79           127           364   \n",
       "\n",
       "     T interval  P interval  QRS  ... R wave V6 S wave V6 R' wave V6  \\\n",
       "0           174         121  -16  ...       9.0      -0.9        0.0   \n",
       "1           149          39   25  ...       8.5       0.0        0.0   \n",
       "2           185         102   96  ...       9.5      -2.4        0.0   \n",
       "3           179         143   28  ...      12.2      -2.2        0.0   \n",
       "4           177         103  -16  ...      13.1      -3.6        0.0   \n",
       "..          ...         ...  ...  ...       ...       ...        ...   \n",
       "447         154         117  -37  ...       4.3      -5.0        0.0   \n",
       "448         201          73   86  ...      15.6      -1.6        0.0   \n",
       "449         194         116  -85  ...      16.3     -28.6        0.0   \n",
       "450         218          63   54  ...      12.0      -0.7        0.0   \n",
       "451         138          78   28  ...      10.4      -1.8        0.0   \n",
       "\n",
       "    S' wave V6 P wave V6  T wave V6  QRSA V6  QRSTA V6  label      type  \n",
       "0          0.0       0.9        2.9     23.3      49.4      8  Abnormal  \n",
       "1          0.0       0.2        2.1     20.4      38.8      6  Abnormal  \n",
       "2          0.0       0.3        3.4     12.3      49.0     10  Abnormal  \n",
       "3          0.0       0.4        2.6     34.6      61.6      1    Normal  \n",
       "4          0.0      -0.1        3.9     25.4      62.8      7  Abnormal  \n",
       "..         ...       ...        ...      ...       ...    ...       ...  \n",
       "447        0.0       0.7        0.6     -4.4      -0.5      1    Normal  \n",
       "448        0.0       0.4        2.4     38.0      62.4     10  Abnormal  \n",
       "449        0.0       1.5        1.0    -44.2     -33.2      2  Abnormal  \n",
       "450        0.0       0.5        2.4     25.0      46.6      1    Normal  \n",
       "451        0.0       0.5        1.6     21.3      32.8      1    Normal  \n",
       "\n",
       "[452 rows x 281 columns]"
      ]
     },
     "execution_count": 24,
     "metadata": {},
     "output_type": "execute_result"
    }
   ],
   "source": [
    "arrFilled=arrLoss.fillna(method='ffill')\n",
    "arrFilled"
   ]
  },
  {
   "cell_type": "code",
   "execution_count": 25,
   "id": "4c9e736d",
   "metadata": {},
   "outputs": [
    {
     "data": {
      "text/html": [
       "<div>\n",
       "<style scoped>\n",
       "    .dataframe tbody tr th:only-of-type {\n",
       "        vertical-align: middle;\n",
       "    }\n",
       "\n",
       "    .dataframe tbody tr th {\n",
       "        vertical-align: top;\n",
       "    }\n",
       "\n",
       "    .dataframe thead th {\n",
       "        text-align: right;\n",
       "    }\n",
       "</style>\n",
       "<table border=\"1\" class=\"dataframe\">\n",
       "  <thead>\n",
       "    <tr style=\"text-align: right;\">\n",
       "      <th></th>\n",
       "      <th>Age</th>\n",
       "      <th>Sex</th>\n",
       "      <th>Height</th>\n",
       "      <th>Weight</th>\n",
       "      <th>QRS duration</th>\n",
       "      <th>P-R interval</th>\n",
       "      <th>Q-T interval</th>\n",
       "      <th>T interval</th>\n",
       "      <th>P interval</th>\n",
       "      <th>QRS</th>\n",
       "      <th>...</th>\n",
       "      <th>R wave V6</th>\n",
       "      <th>S wave V6</th>\n",
       "      <th>R' wave V6</th>\n",
       "      <th>S' wave V6</th>\n",
       "      <th>P wave V6</th>\n",
       "      <th>T wave V6</th>\n",
       "      <th>QRSA V6</th>\n",
       "      <th>QRSTA V6</th>\n",
       "      <th>label</th>\n",
       "      <th>type</th>\n",
       "    </tr>\n",
       "  </thead>\n",
       "  <tbody>\n",
       "    <tr>\n",
       "      <th>0</th>\n",
       "      <td>75</td>\n",
       "      <td>0</td>\n",
       "      <td>190</td>\n",
       "      <td>80</td>\n",
       "      <td>91</td>\n",
       "      <td>193</td>\n",
       "      <td>371</td>\n",
       "      <td>174</td>\n",
       "      <td>121</td>\n",
       "      <td>-16</td>\n",
       "      <td>...</td>\n",
       "      <td>9.0</td>\n",
       "      <td>-0.9</td>\n",
       "      <td>0.0</td>\n",
       "      <td>0.0</td>\n",
       "      <td>0.9</td>\n",
       "      <td>2.9</td>\n",
       "      <td>23.3</td>\n",
       "      <td>49.4</td>\n",
       "      <td>8</td>\n",
       "      <td>Abnormal</td>\n",
       "    </tr>\n",
       "    <tr>\n",
       "      <th>1</th>\n",
       "      <td>56</td>\n",
       "      <td>1</td>\n",
       "      <td>165</td>\n",
       "      <td>64</td>\n",
       "      <td>81</td>\n",
       "      <td>174</td>\n",
       "      <td>401</td>\n",
       "      <td>149</td>\n",
       "      <td>39</td>\n",
       "      <td>25</td>\n",
       "      <td>...</td>\n",
       "      <td>8.5</td>\n",
       "      <td>0.0</td>\n",
       "      <td>0.0</td>\n",
       "      <td>0.0</td>\n",
       "      <td>0.2</td>\n",
       "      <td>2.1</td>\n",
       "      <td>20.4</td>\n",
       "      <td>38.8</td>\n",
       "      <td>6</td>\n",
       "      <td>Abnormal</td>\n",
       "    </tr>\n",
       "    <tr>\n",
       "      <th>2</th>\n",
       "      <td>54</td>\n",
       "      <td>0</td>\n",
       "      <td>172</td>\n",
       "      <td>95</td>\n",
       "      <td>138</td>\n",
       "      <td>163</td>\n",
       "      <td>386</td>\n",
       "      <td>185</td>\n",
       "      <td>102</td>\n",
       "      <td>96</td>\n",
       "      <td>...</td>\n",
       "      <td>9.5</td>\n",
       "      <td>-2.4</td>\n",
       "      <td>0.0</td>\n",
       "      <td>0.0</td>\n",
       "      <td>0.3</td>\n",
       "      <td>3.4</td>\n",
       "      <td>12.3</td>\n",
       "      <td>49.0</td>\n",
       "      <td>10</td>\n",
       "      <td>Abnormal</td>\n",
       "    </tr>\n",
       "    <tr>\n",
       "      <th>3</th>\n",
       "      <td>55</td>\n",
       "      <td>0</td>\n",
       "      <td>175</td>\n",
       "      <td>94</td>\n",
       "      <td>100</td>\n",
       "      <td>202</td>\n",
       "      <td>380</td>\n",
       "      <td>179</td>\n",
       "      <td>143</td>\n",
       "      <td>28</td>\n",
       "      <td>...</td>\n",
       "      <td>12.2</td>\n",
       "      <td>-2.2</td>\n",
       "      <td>0.0</td>\n",
       "      <td>0.0</td>\n",
       "      <td>0.4</td>\n",
       "      <td>2.6</td>\n",
       "      <td>34.6</td>\n",
       "      <td>61.6</td>\n",
       "      <td>1</td>\n",
       "      <td>Normal</td>\n",
       "    </tr>\n",
       "    <tr>\n",
       "      <th>4</th>\n",
       "      <td>75</td>\n",
       "      <td>0</td>\n",
       "      <td>190</td>\n",
       "      <td>80</td>\n",
       "      <td>88</td>\n",
       "      <td>181</td>\n",
       "      <td>360</td>\n",
       "      <td>177</td>\n",
       "      <td>103</td>\n",
       "      <td>-16</td>\n",
       "      <td>...</td>\n",
       "      <td>13.1</td>\n",
       "      <td>-3.6</td>\n",
       "      <td>0.0</td>\n",
       "      <td>0.0</td>\n",
       "      <td>-0.1</td>\n",
       "      <td>3.9</td>\n",
       "      <td>25.4</td>\n",
       "      <td>62.8</td>\n",
       "      <td>7</td>\n",
       "      <td>Abnormal</td>\n",
       "    </tr>\n",
       "    <tr>\n",
       "      <th>...</th>\n",
       "      <td>...</td>\n",
       "      <td>...</td>\n",
       "      <td>...</td>\n",
       "      <td>...</td>\n",
       "      <td>...</td>\n",
       "      <td>...</td>\n",
       "      <td>...</td>\n",
       "      <td>...</td>\n",
       "      <td>...</td>\n",
       "      <td>...</td>\n",
       "      <td>...</td>\n",
       "      <td>...</td>\n",
       "      <td>...</td>\n",
       "      <td>...</td>\n",
       "      <td>...</td>\n",
       "      <td>...</td>\n",
       "      <td>...</td>\n",
       "      <td>...</td>\n",
       "      <td>...</td>\n",
       "      <td>...</td>\n",
       "      <td>...</td>\n",
       "    </tr>\n",
       "    <tr>\n",
       "      <th>447</th>\n",
       "      <td>53</td>\n",
       "      <td>1</td>\n",
       "      <td>160</td>\n",
       "      <td>70</td>\n",
       "      <td>80</td>\n",
       "      <td>199</td>\n",
       "      <td>382</td>\n",
       "      <td>154</td>\n",
       "      <td>117</td>\n",
       "      <td>-37</td>\n",
       "      <td>...</td>\n",
       "      <td>4.3</td>\n",
       "      <td>-5.0</td>\n",
       "      <td>0.0</td>\n",
       "      <td>0.0</td>\n",
       "      <td>0.7</td>\n",
       "      <td>0.6</td>\n",
       "      <td>-4.4</td>\n",
       "      <td>-0.5</td>\n",
       "      <td>1</td>\n",
       "      <td>Normal</td>\n",
       "    </tr>\n",
       "    <tr>\n",
       "      <th>448</th>\n",
       "      <td>37</td>\n",
       "      <td>0</td>\n",
       "      <td>190</td>\n",
       "      <td>85</td>\n",
       "      <td>100</td>\n",
       "      <td>137</td>\n",
       "      <td>361</td>\n",
       "      <td>201</td>\n",
       "      <td>73</td>\n",
       "      <td>86</td>\n",
       "      <td>...</td>\n",
       "      <td>15.6</td>\n",
       "      <td>-1.6</td>\n",
       "      <td>0.0</td>\n",
       "      <td>0.0</td>\n",
       "      <td>0.4</td>\n",
       "      <td>2.4</td>\n",
       "      <td>38.0</td>\n",
       "      <td>62.4</td>\n",
       "      <td>10</td>\n",
       "      <td>Abnormal</td>\n",
       "    </tr>\n",
       "    <tr>\n",
       "      <th>449</th>\n",
       "      <td>36</td>\n",
       "      <td>0</td>\n",
       "      <td>166</td>\n",
       "      <td>68</td>\n",
       "      <td>108</td>\n",
       "      <td>176</td>\n",
       "      <td>365</td>\n",
       "      <td>194</td>\n",
       "      <td>116</td>\n",
       "      <td>-85</td>\n",
       "      <td>...</td>\n",
       "      <td>16.3</td>\n",
       "      <td>-28.6</td>\n",
       "      <td>0.0</td>\n",
       "      <td>0.0</td>\n",
       "      <td>1.5</td>\n",
       "      <td>1.0</td>\n",
       "      <td>-44.2</td>\n",
       "      <td>-33.2</td>\n",
       "      <td>2</td>\n",
       "      <td>Abnormal</td>\n",
       "    </tr>\n",
       "    <tr>\n",
       "      <th>450</th>\n",
       "      <td>32</td>\n",
       "      <td>1</td>\n",
       "      <td>155</td>\n",
       "      <td>55</td>\n",
       "      <td>93</td>\n",
       "      <td>106</td>\n",
       "      <td>386</td>\n",
       "      <td>218</td>\n",
       "      <td>63</td>\n",
       "      <td>54</td>\n",
       "      <td>...</td>\n",
       "      <td>12.0</td>\n",
       "      <td>-0.7</td>\n",
       "      <td>0.0</td>\n",
       "      <td>0.0</td>\n",
       "      <td>0.5</td>\n",
       "      <td>2.4</td>\n",
       "      <td>25.0</td>\n",
       "      <td>46.6</td>\n",
       "      <td>1</td>\n",
       "      <td>Normal</td>\n",
       "    </tr>\n",
       "    <tr>\n",
       "      <th>451</th>\n",
       "      <td>78</td>\n",
       "      <td>1</td>\n",
       "      <td>160</td>\n",
       "      <td>70</td>\n",
       "      <td>79</td>\n",
       "      <td>127</td>\n",
       "      <td>364</td>\n",
       "      <td>138</td>\n",
       "      <td>78</td>\n",
       "      <td>28</td>\n",
       "      <td>...</td>\n",
       "      <td>10.4</td>\n",
       "      <td>-1.8</td>\n",
       "      <td>0.0</td>\n",
       "      <td>0.0</td>\n",
       "      <td>0.5</td>\n",
       "      <td>1.6</td>\n",
       "      <td>21.3</td>\n",
       "      <td>32.8</td>\n",
       "      <td>1</td>\n",
       "      <td>Normal</td>\n",
       "    </tr>\n",
       "  </tbody>\n",
       "</table>\n",
       "<p>452 rows × 281 columns</p>\n",
       "</div>"
      ],
      "text/plain": [
       "     Age  Sex  Height  Weight  QRS duration  P-R interval  Q-T interval  \\\n",
       "0     75    0     190      80            91           193           371   \n",
       "1     56    1     165      64            81           174           401   \n",
       "2     54    0     172      95           138           163           386   \n",
       "3     55    0     175      94           100           202           380   \n",
       "4     75    0     190      80            88           181           360   \n",
       "..   ...  ...     ...     ...           ...           ...           ...   \n",
       "447   53    1     160      70            80           199           382   \n",
       "448   37    0     190      85           100           137           361   \n",
       "449   36    0     166      68           108           176           365   \n",
       "450   32    1     155      55            93           106           386   \n",
       "451   78    1     160      70            79           127           364   \n",
       "\n",
       "     T interval  P interval  QRS  ... R wave V6 S wave V6 R' wave V6  \\\n",
       "0           174         121  -16  ...       9.0      -0.9        0.0   \n",
       "1           149          39   25  ...       8.5       0.0        0.0   \n",
       "2           185         102   96  ...       9.5      -2.4        0.0   \n",
       "3           179         143   28  ...      12.2      -2.2        0.0   \n",
       "4           177         103  -16  ...      13.1      -3.6        0.0   \n",
       "..          ...         ...  ...  ...       ...       ...        ...   \n",
       "447         154         117  -37  ...       4.3      -5.0        0.0   \n",
       "448         201          73   86  ...      15.6      -1.6        0.0   \n",
       "449         194         116  -85  ...      16.3     -28.6        0.0   \n",
       "450         218          63   54  ...      12.0      -0.7        0.0   \n",
       "451         138          78   28  ...      10.4      -1.8        0.0   \n",
       "\n",
       "    S' wave V6 P wave V6  T wave V6  QRSA V6  QRSTA V6  label      type  \n",
       "0          0.0       0.9        2.9     23.3      49.4      8  Abnormal  \n",
       "1          0.0       0.2        2.1     20.4      38.8      6  Abnormal  \n",
       "2          0.0       0.3        3.4     12.3      49.0     10  Abnormal  \n",
       "3          0.0       0.4        2.6     34.6      61.6      1    Normal  \n",
       "4          0.0      -0.1        3.9     25.4      62.8      7  Abnormal  \n",
       "..         ...       ...        ...      ...       ...    ...       ...  \n",
       "447        0.0       0.7        0.6     -4.4      -0.5      1    Normal  \n",
       "448        0.0       0.4        2.4     38.0      62.4     10  Abnormal  \n",
       "449        0.0       1.5        1.0    -44.2     -33.2      2  Abnormal  \n",
       "450        0.0       0.5        2.4     25.0      46.6      1    Normal  \n",
       "451        0.0       0.5        1.6     21.3      32.8      1    Normal  \n",
       "\n",
       "[452 rows x 281 columns]"
      ]
     },
     "execution_count": 25,
     "metadata": {},
     "output_type": "execute_result"
    }
   ],
   "source": [
    "arrFilled=arrLoss.fillna(method='bfill')\n",
    "arrFilled"
   ]
  },
  {
   "cell_type": "code",
   "execution_count": 26,
   "id": "25792b41",
   "metadata": {},
   "outputs": [],
   "source": [
    "arrFilled['J'] = arrFilled['J'].fillna('103')"
   ]
  },
  {
   "cell_type": "code",
   "execution_count": 27,
   "id": "364b19e8",
   "metadata": {},
   "outputs": [],
   "source": [
    "arrFilled['QRST']=arrFilled['QRST'].astype(int)\n",
    "arrFilled['Heart rate']=arrFilled['Heart rate'].astype(int)\n",
    "arrFilled['T']=arrFilled['T'].astype(int)\n",
    "arrFilled['P']=arrFilled['P'].astype(int)\n",
    "arrFilled['J']=arrFilled['J'].astype(int)"
   ]
  },
  {
   "cell_type": "code",
   "execution_count": 28,
   "id": "f3c10b1d",
   "metadata": {},
   "outputs": [
    {
     "data": {
      "text/plain": [
       "dtype('int32')"
      ]
     },
     "execution_count": 28,
     "metadata": {},
     "output_type": "execute_result"
    }
   ],
   "source": [
    "arrFilled['QRST'].dtype"
   ]
  },
  {
   "cell_type": "code",
   "execution_count": 29,
   "id": "efe73ad9",
   "metadata": {},
   "outputs": [
    {
     "data": {
      "text/plain": [
       "dtype('int32')"
      ]
     },
     "execution_count": 29,
     "metadata": {},
     "output_type": "execute_result"
    }
   ],
   "source": [
    "arrFilled['T'].dtype"
   ]
  },
  {
   "cell_type": "code",
   "execution_count": 30,
   "id": "03f741f1",
   "metadata": {},
   "outputs": [
    {
     "name": "stdout",
     "output_type": "stream",
     "text": [
      "Series([], dtype: int64)\n"
     ]
    }
   ],
   "source": [
    "print(missing_count(arrFilled))  "
   ]
  },
  {
   "cell_type": "code",
   "execution_count": 31,
   "id": "e7c3da78",
   "metadata": {
    "scrolled": true
   },
   "outputs": [
    {
     "name": "stdout",
     "output_type": "stream",
     "text": [
      "Series([], dtype: float64)\n"
     ]
    }
   ],
   "source": [
    "print(missing_percent(arrFilled)) "
   ]
  },
  {
   "cell_type": "code",
   "execution_count": 32,
   "id": "71968f81",
   "metadata": {},
   "outputs": [
    {
     "data": {
      "text/plain": [
       "(452, 281)"
      ]
     },
     "execution_count": 32,
     "metadata": {},
     "output_type": "execute_result"
    }
   ],
   "source": [
    "arrFilled.shape"
   ]
  },
  {
   "cell_type": "code",
   "execution_count": 33,
   "id": "f50e1c85",
   "metadata": {},
   "outputs": [
    {
     "data": {
      "text/plain": [
       "Age               int64\n",
       "Sex               int64\n",
       "Height            int64\n",
       "Weight            int64\n",
       "QRS duration      int64\n",
       "                 ...   \n",
       "T wave V6       float64\n",
       "QRSA V6         float64\n",
       "QRSTA V6        float64\n",
       "label             int64\n",
       "type             object\n",
       "Length: 281, dtype: object"
      ]
     },
     "execution_count": 33,
     "metadata": {},
     "output_type": "execute_result"
    }
   ],
   "source": [
    "arrFilled.dtypes"
   ]
  },
  {
   "cell_type": "markdown",
   "id": "4312b86c",
   "metadata": {},
   "source": [
    "# Detect the small number of classes"
   ]
  },
  {
   "cell_type": "code",
   "execution_count": 34,
   "id": "8136c2e6",
   "metadata": {},
   "outputs": [
    {
     "data": {
      "text/plain": [
       "array([ 1,  2,  3,  4,  5,  6,  7,  8,  9, 10, 14, 15, 16], dtype=int64)"
      ]
     },
     "execution_count": 34,
     "metadata": {},
     "output_type": "execute_result"
    }
   ],
   "source": [
    "\n",
    "y_train = np.array(arrFilled['label'])\n",
    "np.unique(y_train)"
   ]
  },
  {
   "cell_type": "code",
   "execution_count": 35,
   "id": "a001b69d",
   "metadata": {},
   "outputs": [
    {
     "data": {
      "text/plain": [
       "(452,)"
      ]
     },
     "execution_count": 35,
     "metadata": {},
     "output_type": "execute_result"
    }
   ],
   "source": [
    "y_train.shape"
   ]
  },
  {
   "cell_type": "code",
   "execution_count": 36,
   "id": "803ae59d",
   "metadata": {},
   "outputs": [
    {
     "data": {
      "text/plain": [
       "array([  0, 245,  44,  15,  15,  13,  25,   3,   2,   9,  50,   0,   0,\n",
       "         0,   4,   5,  22], dtype=int64)"
      ]
     },
     "execution_count": 36,
     "metadata": {},
     "output_type": "execute_result"
    }
   ],
   "source": [
    "y_count = np.bincount(y_train)\n",
    "y_count"
   ]
  },
  {
   "cell_type": "code",
   "execution_count": 37,
   "id": "fdc01e3a",
   "metadata": {},
   "outputs": [
    {
     "data": {
      "text/plain": [
       "array([ 0,  7,  8, 11, 12, 13, 14, 15], dtype=int64)"
      ]
     },
     "execution_count": 37,
     "metadata": {},
     "output_type": "execute_result"
    }
   ],
   "source": [
    "less_than_label=np.where(y_count<6)[0]\n",
    "less_than_label"
   ]
  },
  {
   "cell_type": "code",
   "execution_count": 38,
   "id": "08977766",
   "metadata": {
    "code_folding": []
   },
   "outputs": [],
   "source": [
    "for i in less_than_label:\n",
    "    arrFilled1=arrFilled[~arrFilled['label'].isin ([i])]"
   ]
  },
  {
   "cell_type": "code",
   "execution_count": 39,
   "id": "2630e0c9",
   "metadata": {
    "scrolled": true
   },
   "outputs": [
    {
     "data": {
      "text/plain": [
       "(447, 281)"
      ]
     },
     "execution_count": 39,
     "metadata": {},
     "output_type": "execute_result"
    }
   ],
   "source": [
    "arrFilled1.shape"
   ]
  },
  {
   "cell_type": "code",
   "execution_count": 40,
   "id": "ab5e6646",
   "metadata": {},
   "outputs": [],
   "source": [
    "arrFilled2=arrFilled[~arrFilled.label.isin([0,7,8,11,12,13,14,15])]\n"
   ]
  },
  {
   "cell_type": "code",
   "execution_count": 41,
   "id": "55aa5533",
   "metadata": {},
   "outputs": [
    {
     "data": {
      "text/plain": [
       "{1, 2, 3, 4, 5, 6, 9, 10, 16}"
      ]
     },
     "execution_count": 41,
     "metadata": {},
     "output_type": "execute_result"
    }
   ],
   "source": [
    "set(arrFilled2['label'])"
   ]
  },
  {
   "cell_type": "markdown",
   "id": "09be0590",
   "metadata": {},
   "source": [
    "# Delete the large missed feature"
   ]
  },
  {
   "cell_type": "code",
   "execution_count": 42,
   "id": "85b514b9",
   "metadata": {},
   "outputs": [],
   "source": [
    "arrFilled2=arrFilled2.drop(labels=['J'],axis=1)"
   ]
  },
  {
   "cell_type": "code",
   "execution_count": 43,
   "id": "b0120732",
   "metadata": {},
   "outputs": [
    {
     "data": {
      "text/plain": [
       "Age               int64\n",
       "Sex               int64\n",
       "Height            int64\n",
       "Weight            int64\n",
       "QRS duration      int64\n",
       "                 ...   \n",
       "T wave V6       float64\n",
       "QRSA V6         float64\n",
       "QRSTA V6        float64\n",
       "label             int64\n",
       "type             object\n",
       "Length: 280, dtype: object"
      ]
     },
     "execution_count": 43,
     "metadata": {},
     "output_type": "execute_result"
    }
   ],
   "source": [
    "arrFilled2.dtypes"
   ]
  },
  {
   "cell_type": "markdown",
   "id": "ec15d041",
   "metadata": {},
   "source": [
    "# Rearrange the label"
   ]
  },
  {
   "cell_type": "code",
   "execution_count": 44,
   "id": "69d4b6db",
   "metadata": {},
   "outputs": [],
   "source": [
    "y1=arrFilled2['label'].values\n",
    "y1 = LabelEncoder().fit_transform(y1)\n",
    "arrFilled2['label']=y1"
   ]
  },
  {
   "cell_type": "code",
   "execution_count": 45,
   "id": "7df2eca8",
   "metadata": {},
   "outputs": [],
   "source": [
    "arrFilled2=arrFilled2.drop(labels=['type'],axis=1)"
   ]
  },
  {
   "cell_type": "code",
   "execution_count": 46,
   "id": "0e40991a",
   "metadata": {},
   "outputs": [
    {
     "data": {
      "text/html": [
       "<div>\n",
       "<style scoped>\n",
       "    .dataframe tbody tr th:only-of-type {\n",
       "        vertical-align: middle;\n",
       "    }\n",
       "\n",
       "    .dataframe tbody tr th {\n",
       "        vertical-align: top;\n",
       "    }\n",
       "\n",
       "    .dataframe thead th {\n",
       "        text-align: right;\n",
       "    }\n",
       "</style>\n",
       "<table border=\"1\" class=\"dataframe\">\n",
       "  <thead>\n",
       "    <tr style=\"text-align: right;\">\n",
       "      <th></th>\n",
       "      <th>Age</th>\n",
       "      <th>Sex</th>\n",
       "      <th>Height</th>\n",
       "      <th>Weight</th>\n",
       "      <th>QRS duration</th>\n",
       "      <th>P-R interval</th>\n",
       "      <th>Q-T interval</th>\n",
       "      <th>T interval</th>\n",
       "      <th>P interval</th>\n",
       "      <th>QRS</th>\n",
       "      <th>...</th>\n",
       "      <th>Q wave V6</th>\n",
       "      <th>R wave V6</th>\n",
       "      <th>S wave V6</th>\n",
       "      <th>R' wave V6</th>\n",
       "      <th>S' wave V6</th>\n",
       "      <th>P wave V6</th>\n",
       "      <th>T wave V6</th>\n",
       "      <th>QRSA V6</th>\n",
       "      <th>QRSTA V6</th>\n",
       "      <th>label</th>\n",
       "    </tr>\n",
       "  </thead>\n",
       "  <tbody>\n",
       "    <tr>\n",
       "      <th>1</th>\n",
       "      <td>56</td>\n",
       "      <td>1</td>\n",
       "      <td>165</td>\n",
       "      <td>64</td>\n",
       "      <td>81</td>\n",
       "      <td>174</td>\n",
       "      <td>401</td>\n",
       "      <td>149</td>\n",
       "      <td>39</td>\n",
       "      <td>25</td>\n",
       "      <td>...</td>\n",
       "      <td>0.0</td>\n",
       "      <td>8.5</td>\n",
       "      <td>0.0</td>\n",
       "      <td>0.0</td>\n",
       "      <td>0.0</td>\n",
       "      <td>0.2</td>\n",
       "      <td>2.1</td>\n",
       "      <td>20.4</td>\n",
       "      <td>38.8</td>\n",
       "      <td>5</td>\n",
       "    </tr>\n",
       "    <tr>\n",
       "      <th>2</th>\n",
       "      <td>54</td>\n",
       "      <td>0</td>\n",
       "      <td>172</td>\n",
       "      <td>95</td>\n",
       "      <td>138</td>\n",
       "      <td>163</td>\n",
       "      <td>386</td>\n",
       "      <td>185</td>\n",
       "      <td>102</td>\n",
       "      <td>96</td>\n",
       "      <td>...</td>\n",
       "      <td>0.0</td>\n",
       "      <td>9.5</td>\n",
       "      <td>-2.4</td>\n",
       "      <td>0.0</td>\n",
       "      <td>0.0</td>\n",
       "      <td>0.3</td>\n",
       "      <td>3.4</td>\n",
       "      <td>12.3</td>\n",
       "      <td>49.0</td>\n",
       "      <td>7</td>\n",
       "    </tr>\n",
       "    <tr>\n",
       "      <th>3</th>\n",
       "      <td>55</td>\n",
       "      <td>0</td>\n",
       "      <td>175</td>\n",
       "      <td>94</td>\n",
       "      <td>100</td>\n",
       "      <td>202</td>\n",
       "      <td>380</td>\n",
       "      <td>179</td>\n",
       "      <td>143</td>\n",
       "      <td>28</td>\n",
       "      <td>...</td>\n",
       "      <td>0.0</td>\n",
       "      <td>12.2</td>\n",
       "      <td>-2.2</td>\n",
       "      <td>0.0</td>\n",
       "      <td>0.0</td>\n",
       "      <td>0.4</td>\n",
       "      <td>2.6</td>\n",
       "      <td>34.6</td>\n",
       "      <td>61.6</td>\n",
       "      <td>0</td>\n",
       "    </tr>\n",
       "    <tr>\n",
       "      <th>6</th>\n",
       "      <td>40</td>\n",
       "      <td>1</td>\n",
       "      <td>160</td>\n",
       "      <td>52</td>\n",
       "      <td>77</td>\n",
       "      <td>129</td>\n",
       "      <td>377</td>\n",
       "      <td>133</td>\n",
       "      <td>77</td>\n",
       "      <td>77</td>\n",
       "      <td>...</td>\n",
       "      <td>0.0</td>\n",
       "      <td>6.5</td>\n",
       "      <td>0.0</td>\n",
       "      <td>0.0</td>\n",
       "      <td>0.0</td>\n",
       "      <td>0.4</td>\n",
       "      <td>1.0</td>\n",
       "      <td>14.3</td>\n",
       "      <td>20.5</td>\n",
       "      <td>0</td>\n",
       "    </tr>\n",
       "    <tr>\n",
       "      <th>7</th>\n",
       "      <td>49</td>\n",
       "      <td>1</td>\n",
       "      <td>162</td>\n",
       "      <td>54</td>\n",
       "      <td>78</td>\n",
       "      <td>0</td>\n",
       "      <td>376</td>\n",
       "      <td>157</td>\n",
       "      <td>70</td>\n",
       "      <td>67</td>\n",
       "      <td>...</td>\n",
       "      <td>0.0</td>\n",
       "      <td>8.2</td>\n",
       "      <td>-1.9</td>\n",
       "      <td>0.0</td>\n",
       "      <td>0.0</td>\n",
       "      <td>0.1</td>\n",
       "      <td>0.5</td>\n",
       "      <td>15.8</td>\n",
       "      <td>19.8</td>\n",
       "      <td>0</td>\n",
       "    </tr>\n",
       "  </tbody>\n",
       "</table>\n",
       "<p>5 rows × 279 columns</p>\n",
       "</div>"
      ],
      "text/plain": [
       "   Age  Sex  Height  Weight  QRS duration  P-R interval  Q-T interval  \\\n",
       "1   56    1     165      64            81           174           401   \n",
       "2   54    0     172      95           138           163           386   \n",
       "3   55    0     175      94           100           202           380   \n",
       "6   40    1     160      52            77           129           377   \n",
       "7   49    1     162      54            78             0           376   \n",
       "\n",
       "   T interval  P interval  QRS  ...  Q wave V6  R wave V6  S wave V6  \\\n",
       "1         149          39   25  ...        0.0        8.5        0.0   \n",
       "2         185         102   96  ...        0.0        9.5       -2.4   \n",
       "3         179         143   28  ...        0.0       12.2       -2.2   \n",
       "6         133          77   77  ...        0.0        6.5        0.0   \n",
       "7         157          70   67  ...        0.0        8.2       -1.9   \n",
       "\n",
       "   R' wave V6  S' wave V6  P wave V6  T wave V6  QRSA V6  QRSTA V6  label  \n",
       "1         0.0         0.0        0.2        2.1     20.4      38.8      5  \n",
       "2         0.0         0.0        0.3        3.4     12.3      49.0      7  \n",
       "3         0.0         0.0        0.4        2.6     34.6      61.6      0  \n",
       "6         0.0         0.0        0.4        1.0     14.3      20.5      0  \n",
       "7         0.0         0.0        0.1        0.5     15.8      19.8      0  \n",
       "\n",
       "[5 rows x 279 columns]"
      ]
     },
     "execution_count": 46,
     "metadata": {},
     "output_type": "execute_result"
    }
   ],
   "source": [
    "arrFilled2.head()"
   ]
  },
  {
   "cell_type": "markdown",
   "id": "531d4754",
   "metadata": {},
   "source": [
    "# Output the data after cleaning"
   ]
  },
  {
   "cell_type": "code",
   "execution_count": 47,
   "id": "12a95e9d",
   "metadata": {},
   "outputs": [],
   "source": [
    "arrFilled2.to_csv('Arrhythmia cleaned data.csv',index=False)"
   ]
  }
 ],
 "metadata": {
  "kernelspec": {
   "display_name": "Python 3 (ipykernel)",
   "language": "python",
   "name": "python3"
  },
  "language_info": {
   "codemirror_mode": {
    "name": "ipython",
    "version": 3
   },
   "file_extension": ".py",
   "mimetype": "text/x-python",
   "name": "python",
   "nbconvert_exporter": "python",
   "pygments_lexer": "ipython3",
   "version": "3.9.7"
  },
  "toc": {
   "base_numbering": 1,
   "nav_menu": {},
   "number_sections": true,
   "sideBar": true,
   "skip_h1_title": false,
   "title_cell": "Table of Contents",
   "title_sidebar": "Contents",
   "toc_cell": false,
   "toc_position": {},
   "toc_section_display": true,
   "toc_window_display": false
  }
 },
 "nbformat": 4,
 "nbformat_minor": 5
}

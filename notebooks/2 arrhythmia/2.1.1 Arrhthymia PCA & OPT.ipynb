{
 "cells": [
  {
   "cell_type": "markdown",
   "id": "88b56d14",
   "metadata": {},
   "source": [
    "# Import the package"
   ]
  },
  {
   "cell_type": "code",
   "execution_count": 1,
   "id": "3a9cc4cf",
   "metadata": {},
   "outputs": [],
   "source": [
    "from datetime import datetime\n",
    "import lightgbm as lgb\n",
    "from lightgbm import LGBMClassifier\n",
    "from lightgbm import plot_importance\n",
    "import matplotlib.pyplot as plt\n",
    "from matplotlib import pyplot\n",
    "from matplotlib.pyplot import MultipleLocator\n",
    "%matplotlib inline\n",
    "import numpy as np\n",
    "from numpy import mean\n",
    "from numpy import std\n",
    "from numpy import sort\n",
    "import pandas as pd\n",
    "from pandas.core.frame import DataFrame\n",
    "from sklearn.svm import SVC\n",
    "from sklearn.decomposition import PCA\n",
    "from sklearn.ensemble import RandomForestClassifier as RFC\n",
    "from sklearn.feature_selection import SelectFromModel\n",
    "from sklearn import metrics\n",
    "from sklearn.metrics import f1_score  \n",
    "from sklearn.metrics import mean_absolute_error\n",
    "from sklearn.metrics import confusion_matrix,roc_curve,roc_auc_score,accuracy_score, plot_confusion_matrix,classification_report\n",
    "from sklearn.model_selection import cross_val_score\n",
    "from sklearn.model_selection import RepeatedStratifiedKFold\n",
    "from sklearn.model_selection import train_test_split\n",
    "from sklearn.preprocessing import LabelEncoder\n",
    "from sklearn.preprocessing import OneHotEncoder\n",
    "from sklearn.preprocessing import StandardScaler\n",
    "from sklearn.utils import class_weight\n",
    "from sklearn.metrics import log_loss\n",
    "import seaborn as sns\n",
    "from time import time\n",
    "import pprint\n",
    "import warnings\n",
    "warnings.filterwarnings(\"ignore\")\n",
    "from sklearn.model_selection import StratifiedKFold\n",
    "from sklearn.metrics import make_scorer\n",
    "from skopt import BayesSearchCV\n",
    "from skopt.callbacks import DeadlineStopper,DeltaYStopper\n",
    "from skopt.space import Real,Categorical,Integer\n",
    "from sklearn.feature_selection import RFECV\n",
    "from sklearn.feature_selection import RFE\n",
    "import joblib"
   ]
  },
  {
   "cell_type": "markdown",
   "id": "dbd535c6",
   "metadata": {},
   "source": [
    "# Read the data from csv file"
   ]
  },
  {
   "cell_type": "code",
   "execution_count": 2,
   "id": "45dac5dd",
   "metadata": {},
   "outputs": [],
   "source": [
    "arrhyData=pd.read_csv('Arrhythmia cleaned data.csv')\n",
    "arrhyData01=arrhyData.copy()\n",
    "X=arrhyData01.drop(labels=['label'],axis=1)\n",
    "#stanardilization\n",
    "scaler=StandardScaler()\n",
    "scaler.fit(X)\n",
    "X=scaler.transform(X)\n",
    "y=arrhyData01['label'].values\n"
   ]
  },
  {
   "cell_type": "markdown",
   "id": "871732ca",
   "metadata": {},
   "source": [
    "# Explore the best score PCA got for each classifier"
   ]
  },
  {
   "cell_type": "markdown",
   "id": "5335a86a",
   "metadata": {},
   "source": [
    "## PCA----Light GBM"
   ]
  },
  {
   "cell_type": "markdown",
   "id": "29007d2d",
   "metadata": {},
   "source": [
    "### Searching the best score "
   ]
  },
  {
   "cell_type": "code",
   "execution_count": 3,
   "id": "b50ccabf",
   "metadata": {
    "scrolled": true
   },
   "outputs": [
    {
     "name": "stdout",
     "output_type": "stream",
     "text": [
      "(350, 278)\n",
      "(88, 278)\n",
      "PCA begin with n_components: 0.5\n",
      "accuracy: 0.6477272727272727, time elaps:0\n",
      "PCA begin with n_components: 0.5321428571428571\n",
      "accuracy: 0.625, time elaps:0\n",
      "PCA begin with n_components: 0.5642857142857143\n",
      "accuracy: 0.6363636363636364, time elaps:0\n",
      "PCA begin with n_components: 0.5964285714285714\n",
      "accuracy: 0.6363636363636364, time elaps:0\n",
      "PCA begin with n_components: 0.6285714285714286\n",
      "accuracy: 0.6477272727272727, time elaps:0\n",
      "PCA begin with n_components: 0.6607142857142857\n",
      "accuracy: 0.6590909090909091, time elaps:0\n",
      "PCA begin with n_components: 0.6928571428571428\n",
      "accuracy: 0.6477272727272727, time elaps:0\n",
      "PCA begin with n_components: 0.725\n",
      "accuracy: 0.6590909090909091, time elaps:0\n",
      "PCA begin with n_components: 0.7571428571428571\n",
      "accuracy: 0.6022727272727273, time elaps:0\n",
      "PCA begin with n_components: 0.7892857142857143\n",
      "accuracy: 0.5909090909090909, time elaps:0\n",
      "PCA begin with n_components: 0.8214285714285714\n",
      "accuracy: 0.6022727272727273, time elaps:0\n",
      "PCA begin with n_components: 0.8535714285714285\n",
      "accuracy: 0.625, time elaps:0\n",
      "PCA begin with n_components: 0.8857142857142857\n",
      "accuracy: 0.5909090909090909, time elaps:0\n",
      "PCA begin with n_components: 0.9178571428571428\n",
      "accuracy: 0.6022727272727273, time elaps:0\n",
      "PCA begin with n_components: 0.95\n",
      "accuracy: 0.625, time elaps:0\n",
      "0.6590909090909091 6\n"
     ]
    },
    {
     "data": {
      "text/plain": [
       "[<matplotlib.lines.Line2D at 0x2a6929dcfd0>]"
      ]
     },
     "execution_count": 3,
     "metadata": {},
     "output_type": "execute_result"
    },
    {
     "data": {
      "image/png": "[encoded data removed]",
      "text/plain": [
       "<Figure size 432x288 with 1 Axes>"
      ]
     },
     "metadata": {
      "needs_background": "light"
     },
     "output_type": "display_data"
    }
   ],
   "source": [
    "import time\n",
    "X_train, X_test, y_train, y_test= train_test_split(X,y, train_size = 0.8,shuffle=True,stratify=y,random_state=42)\n",
    "\n",
    "print(X_train.shape)\n",
    "print(X_test.shape) \n",
    "\n",
    "def n_component_analysis(n, X, y_train, X_test, y_test):\n",
    "    start = time.time()\n",
    "    \n",
    "    pca = PCA(n_components=n)\n",
    "    print(\"PCA begin with n_components: {}\".format(n));\n",
    "    pca.fit(X_train)    \n",
    "    # Dimensionality reduction in training and test sets\n",
    "    X_train_pca = pca.transform(X_train)\n",
    "    X_test_pca = pca.transform(X_test)\n",
    "    \n",
    "#    training at Light GBM\n",
    "    clf1 = LGBMClassifier()\n",
    "    clf1.fit(X_train_pca, y_train)\n",
    "\n",
    "    accuracy = clf1.score(X_test_pca, y_test)\n",
    "    \n",
    "    end = time.time()\n",
    "    print(\"accuracy: {}, time elaps:{}\".format(accuracy, int(end-start)))\n",
    "    return accuracy \n",
    " \n",
    "# set the search range for PCA\n",
    "n_s = np.linspace(0.50, 0.95, num=15)\n",
    "accuracy = []\n",
    "for n in n_s:\n",
    "    tmp = n_component_analysis(n, X_train, y_train, X_test, y_test)\n",
    "    accuracy.append(tmp)    \n",
    "    \n",
    "print(max(accuracy), (accuracy.index(max(accuracy))*1)+1)    \n",
    "# Plot the performance of the model under different PCA dimensions and find the best model/parameters (highest score)\n",
    "import matplotlib.pyplot as plt\n",
    "%matplotlib inline\n",
    "plt.plot(n_s, np.array(accuracy), 'b-')"
   ]
  },
  {
   "cell_type": "markdown",
   "id": "7016c7e3",
   "metadata": {},
   "source": [
    "### Verify the dimensionality of the PCA with the best score"
   ]
  },
  {
   "cell_type": "code",
   "execution_count": 4,
   "id": "f2675874",
   "metadata": {
    "scrolled": true
   },
   "outputs": [
    {
     "name": "stdout",
     "output_type": "stream",
     "text": [
      "(350, 26)\n",
      "(88, 26)\n"
     ]
    },
    {
     "data": {
      "text/plain": [
       "0.6590909090909091"
      ]
     },
     "execution_count": 4,
     "metadata": {},
     "output_type": "execute_result"
    }
   ],
   "source": [
    "\n",
    "pca = PCA(n_components=0.66)\n",
    " \n",
    "#According to the best parameters, retrain the model on the entire training data\n",
    "pca.fit(X_train) \n",
    "pca.n_components_\n",
    " \n",
    "#According to the best parameters, reduce the dimensionality of the entire training data\n",
    "X_train_pca = pca.transform(X_train) \n",
    "#According to the best parameters, reduce the dimension of the test data\n",
    "X_test_pca = pca.transform(X_test)\n",
    " \n",
    "# Feature dimension after dimension reduction\n",
    "print(X_train_pca.shape)\n",
    "print(X_test_pca.shape)\n",
    " \n",
    "#train the LGBM classifier on the dimensionality-reduced training dataset\n",
    "clf1 = LGBMClassifier()\n",
    "clf1.fit(X_train_pca, y_train)\n",
    " \n",
    "# Test the model after dimensionality reduction\n",
    "y_predict = clf1.predict(X_test_pca)\n",
    "clf1.score(X_test_pca,y_test)"
   ]
  },
  {
   "cell_type": "markdown",
   "id": "960ee3de",
   "metadata": {},
   "source": [
    "### BayesSearchCV hyperparameter optimization"
   ]
  },
  {
   "cell_type": "code",
   "execution_count": 5,
   "id": "aded7338",
   "metadata": {},
   "outputs": [
    {
     "data": {
      "text/plain": [
       "BayesSearchCV(cv=5, estimator=LGBMClassifier(), n_points=2, random_state=42,\n",
       "              scoring='neg_log_loss',\n",
       "              search_spaces={'colsample_bytree': (0.5, 0.8),\n",
       "                             'learning_rate': (0.005, 0.01, 0.001),\n",
       "                             'max_depth': (3, 8), 'n_estimators': (100, 300),\n",
       "                             'num_leaves': (8, 170), 'subsample': (0.5, 0.8)})"
      ]
     },
     "execution_count": 5,
     "metadata": {},
     "output_type": "execute_result"
    }
   ],
   "source": [
    "BayerLgbmoptpca = BayesSearchCV(\n",
    "     clf1,\n",
    "     {    \n",
    "     \n",
    "        'learning_rate': (0.005,0.01,0.001), \n",
    "        'n_estimators': (100,300), \n",
    "  \n",
    "        'max_depth': (3,8), \n",
    "        'num_leaves':(8, 170),\n",
    "         \n",
    "        'subsample': (0.5,0.8), \n",
    "        'colsample_bytree': (0.5,0.8)\n",
    "    } ,\n",
    "     n_iter=50,\n",
    "     cv=5\n",
    "    ,scoring=\"neg_log_loss\"\n",
    "    ,random_state=42\n",
    "    ,n_points=2\n",
    ")\n",
    "BayerLgbmoptpca.fit(X_train_pca, y_train)\n",
    "\n"
   ]
  },
  {
   "cell_type": "code",
   "execution_count": 6,
   "id": "08e74baa",
   "metadata": {},
   "outputs": [
    {
     "name": "stdout",
     "output_type": "stream",
     "text": [
      "Best parameters found by grid search are: OrderedDict([('colsample_bytree', 0.5), ('learning_rate', 0.01), ('max_depth', 3), ('n_estimators', 289), ('num_leaves', 170), ('subsample', 0.5714367032196577)])\n",
      "val. score: -1.0888717313760956\n"
     ]
    }
   ],
   "source": [
    "print('Best parameters found by grid search are:', BayerLgbmoptpca.best_params_)\n",
    "print(\"val. score: %s\" % BayerLgbmoptpca.best_score_)\n",
    "# print(\"test score: %s\" % BayerLgbmoptpca.score(X_test_pca, y_test))"
   ]
  },
  {
   "cell_type": "code",
   "execution_count": 7,
   "id": "89cd0c92",
   "metadata": {},
   "outputs": [],
   "source": [
    "Lgbmoptpca=LGBMClassifier(boosting_type='gbdt',objective ='multiclass',\n",
    "                                 max_depth=3, num_leaves=8,\n",
    "                                learning_rate=0.01,n_estimators=254,\n",
    "                                colsample_bytree= 0.5,subsample= 0.5)"
   ]
  },
  {
   "cell_type": "code",
   "execution_count": 8,
   "id": "7e541acf",
   "metadata": {},
   "outputs": [
    {
     "data": {
      "text/plain": [
       "0.6136363636363636"
      ]
     },
     "execution_count": 8,
     "metadata": {},
     "output_type": "execute_result"
    }
   ],
   "source": [
    "#The score is lower than before,we can draw a conlusion,PCA don't need BayesSearch Opitimization hyperparameter\n",
    "Lgbmoptpca.fit(X_train_pca, y_train)\n",
    "Lgbmoptpca.score(X_test_pca, y_test)"
   ]
  },
  {
   "cell_type": "markdown",
   "id": "df89ec4e",
   "metadata": {},
   "source": [
    "### Another n_components=None for each model (Lgbm has the best score)"
   ]
  },
  {
   "cell_type": "code",
   "execution_count": 9,
   "id": "bc09d02d",
   "metadata": {},
   "outputs": [],
   "source": [
    "pca1 =PCA(n_components=None, copy=True, whiten=False)\n",
    "pcamodel1 = pca1.fit(X)"
   ]
  },
  {
   "cell_type": "code",
   "execution_count": 10,
   "id": "760a8185",
   "metadata": {},
   "outputs": [
    {
     "name": "stdout",
     "output_type": "stream",
     "text": [
      "Explained Variance: \n",
      "[[ 6.73351726e-02 -1.90862962e-02  1.72037300e-03 ... -9.14346524e-02\n",
      "  -8.66927095e-02 -1.30482728e-01]\n",
      " [ 5.88844957e-02  8.46249319e-03 -3.67779384e-02 ... -8.23138154e-02\n",
      "   1.85551382e-01  6.68947820e-02]\n",
      " [-1.02524819e-02 -4.55955088e-02  2.09373517e-02 ... -6.23684539e-02\n",
      "  -1.86015633e-02 -6.03188860e-02]\n",
      " ...\n",
      " [ 0.00000000e+00  1.45728434e-17  2.12146261e-16 ... -1.73472348e-17\n",
      "  -3.37403716e-16  1.79977561e-17]\n",
      " [ 0.00000000e+00 -1.74153893e-31 -3.80182235e-31 ... -4.03674916e-31\n",
      "  -8.24298016e-32  4.16963833e-31]\n",
      " [-0.00000000e+00 -1.35134848e-31 -9.38973165e-32 ... -3.29719206e-31\n",
      "  -2.08867102e-31  4.00978614e-31]]\n"
     ]
    }
   ],
   "source": [
    "print(\"Explained Variance: \") \n",
    "print(pcamodel1.components_)\n",
    "\n",
    "pcamodel1.n_components_\n",
    "\n",
    "newMat1=pcamodel1.fit_transform(X) \n",
    "X_pca1 = DataFrame(newMat1)\n",
    "X31_train, X31_test,y31_train,y31_test= train_test_split(X_pca1,y,test_size=0.2,shuffle=True,stratify=y,random_state=42)"
   ]
  },
  {
   "cell_type": "code",
   "execution_count": 11,
   "id": "ceb276b4",
   "metadata": {},
   "outputs": [
    {
     "name": "stdout",
     "output_type": "stream",
     "text": [
      "LGBM execution time is: 0:00:01.357935\n",
      "SVM execution time is: 0:00:00.112466\n",
      "              precision    recall  f1-score   support\n",
      "\n",
      "           0       0.67      0.98      0.79        49\n",
      "           1       1.00      0.33      0.50         9\n",
      "           2       1.00      0.67      0.80         3\n",
      "           3       0.67      0.67      0.67         3\n",
      "           4       1.00      0.00      0.00         3\n",
      "           5       1.00      0.00      0.00         5\n",
      "           6       1.00      1.00      1.00         2\n",
      "           7       0.83      0.50      0.62        10\n",
      "           8       1.00      0.00      0.00         4\n",
      "\n",
      "    accuracy                           0.70        88\n",
      "   macro avg       0.91      0.46      0.49        88\n",
      "weighted avg       0.78      0.70      0.64        88\n",
      "\n",
      "              precision    recall  f1-score   support\n",
      "\n",
      "           0       0.78      0.86      0.82        49\n",
      "           1       0.42      0.56      0.48         9\n",
      "           2       1.00      1.00      1.00         3\n",
      "           3       0.75      1.00      0.86         3\n",
      "           4       0.50      0.33      0.40         3\n",
      "           5       0.50      0.40      0.44         5\n",
      "           6       1.00      0.50      0.67         2\n",
      "           7       0.75      0.30      0.43        10\n",
      "           8       0.00      0.00      0.00         4\n",
      "\n",
      "    accuracy                           0.68        88\n",
      "   macro avg       0.63      0.55      0.57        88\n",
      "weighted avg       0.69      0.68      0.67        88\n",
      "\n",
      "              precision    recall  f1-score   support\n",
      "\n",
      "           0       0.56      1.00      0.72        49\n",
      "           1       1.00      0.00      0.00         9\n",
      "           2       1.00      0.00      0.00         3\n",
      "           3       1.00      0.00      0.00         3\n",
      "           4       1.00      0.00      0.00         3\n",
      "           5       1.00      0.00      0.00         5\n",
      "           6       1.00      0.00      0.00         2\n",
      "           7       1.00      0.00      0.00        10\n",
      "           8       1.00      0.00      0.00         4\n",
      "\n",
      "    accuracy                           0.56        88\n",
      "   macro avg       0.95      0.11      0.08        88\n",
      "weighted avg       0.75      0.56      0.40        88\n",
      "\n"
     ]
    }
   ],
   "source": [
    "classifier_lgbm_pca=LGBMClassifier()\n",
    "\n",
    "classifier_svm_pca=SVC(kernel='rbf',gamma=0.001,decision_function_shape='ovr',C=100,degree=1,probability=True)\n",
    "classifier_rf_pca= RFC(random_state=42, max_features='log2', n_estimators= 150,\n",
    "                                     max_depth=11, \n",
    "                                     criterion='gini')\n",
    "start=datetime.now()\n",
    "classifier_lgbm_pca.fit(X31_train,y31_train.ravel())\n",
    "stop=datetime.now()\n",
    "execution_time_svm=stop-start\n",
    "print(\"LGBM execution time is:\",execution_time_svm)\n",
    "\n",
    "\n",
    "start=datetime.now()\n",
    "classifier_svm_pca.fit(X31_train,y31_train.ravel())\n",
    "stop=datetime.now()\n",
    "execution_time_svm=stop-start\n",
    "print(\"SVM execution time is:\",execution_time_svm)\n",
    "\n",
    "classifier_rf_pca.fit(X31_train,y31_train.ravel())\n",
    "\n",
    "#prediction on test data\n",
    "y_pred_lgbm=classifier_lgbm_pca.predict(X31_test)\n",
    "y_pred_svm=classifier_svm_pca.predict(X31_test)\n",
    "y_pred_rf=classifier_rf_pca.predict(X31_test)\n",
    "# y2_pred_svm=[list(x).index(max(x))for x in y2_pred_svm]\n",
    "\n",
    "print(classification_report(y31_test, y_pred_lgbm,zero_division=1))\n",
    "print(classification_report(y31_test, y_pred_svm,zero_division=1))\n",
    "print(classification_report(y31_test, y_pred_rf,zero_division=1))"
   ]
  },
  {
   "cell_type": "markdown",
   "id": "2ea8e242",
   "metadata": {},
   "source": [
    "## PCA----SVC"
   ]
  },
  {
   "cell_type": "code",
   "execution_count": 12,
   "id": "c4f6c8ae",
   "metadata": {
    "scrolled": true
   },
   "outputs": [
    {
     "name": "stdout",
     "output_type": "stream",
     "text": [
      "(350, 278)\n",
      "(88, 278)\n",
      "PCA begin with n_components: 0.6\n",
      "accuracy: 0.6363636363636364, time elaps:0\n",
      "PCA begin with n_components: 0.6178571428571429\n",
      "accuracy: 0.625, time elaps:0\n",
      "PCA begin with n_components: 0.6357142857142857\n",
      "accuracy: 0.6136363636363636, time elaps:0\n",
      "PCA begin with n_components: 0.6535714285714286\n",
      "accuracy: 0.6704545454545454, time elaps:0\n",
      "PCA begin with n_components: 0.6714285714285714\n",
      "accuracy: 0.6590909090909091, time elaps:0\n",
      "PCA begin with n_components: 0.6892857142857143\n",
      "accuracy: 0.6363636363636364, time elaps:0\n",
      "PCA begin with n_components: 0.7071428571428571\n",
      "accuracy: 0.6818181818181818, time elaps:0\n",
      "PCA begin with n_components: 0.725\n",
      "accuracy: 0.6818181818181818, time elaps:0\n",
      "PCA begin with n_components: 0.7428571428571429\n",
      "accuracy: 0.7045454545454546, time elaps:0\n",
      "PCA begin with n_components: 0.7607142857142857\n",
      "accuracy: 0.7045454545454546, time elaps:0\n",
      "PCA begin with n_components: 0.7785714285714285\n",
      "accuracy: 0.6818181818181818, time elaps:0\n",
      "PCA begin with n_components: 0.7964285714285714\n",
      "accuracy: 0.6590909090909091, time elaps:0\n",
      "PCA begin with n_components: 0.8142857142857143\n",
      "accuracy: 0.6818181818181818, time elaps:0\n",
      "PCA begin with n_components: 0.8321428571428571\n",
      "accuracy: 0.6704545454545454, time elaps:0\n",
      "PCA begin with n_components: 0.85\n",
      "accuracy: 0.6590909090909091, time elaps:0\n",
      "0.7045454545454546 9\n"
     ]
    },
    {
     "data": {
      "text/plain": [
       "[<matplotlib.lines.Line2D at 0x2a6967bd5e0>]"
      ]
     },
     "execution_count": 12,
     "metadata": {},
     "output_type": "execute_result"
    },
    {
     "data": {
      "image/png": "[encoded data removed]",
      "text/plain": [
       "<Figure size 432x288 with 1 Axes>"
      ]
     },
     "metadata": {
      "needs_background": "light"
     },
     "output_type": "display_data"
    }
   ],
   "source": [
    "\n",
    "import time\n",
    "X_train, X_test, y_train, y_test= train_test_split(X,y, train_size = 0.8,random_state = 0)\n",
    "\n",
    "print(X_train.shape)\n",
    "print(X_test.shape)\n",
    "\n",
    "def n_component_analysis(n, X, y_train, X_test, y_test):\n",
    "    start = time.time()\n",
    "    \n",
    "    pca = PCA(n_components=n)\n",
    "    print(\"PCA begin with n_components: {}\".format(n));\n",
    "    pca.fit(X_train)    \n",
    "  \n",
    "    X_train_pca = pca.transform(X_train)\n",
    "    X_test_pca = pca.transform(X_test)    \n",
    "\n",
    "    clf2 = SVC(kernel='rbf',gamma=0.001,decision_function_shape='ovr',C=100,degree=1,probability=True)\n",
    "    clf2.fit(X_train_pca, y_train)    \n",
    "\n",
    "    accuracy = clf2.score(X_test_pca, y_test)\n",
    "    \n",
    "    end = time.time()\n",
    "    print(\"accuracy: {}, time elaps:{}\".format(accuracy, int(end-start)))\n",
    "    return accuracy\n",
    " \n",
    "n_s = np.linspace(0.60, 0.85, num=15)\n",
    "accuracy = []\n",
    "for n in n_s:\n",
    "    tmp = n_component_analysis(n, X_train, y_train, X_test, y_test)\n",
    "    accuracy.append(tmp)\n",
    "\n",
    "print(max(accuracy), (accuracy.index(max(accuracy))*1)+1)                                 \n",
    "\n",
    "import matplotlib.pyplot as plt\n",
    "%matplotlib inline\n",
    "plt.plot(n_s, np.array(accuracy), 'b-')"
   ]
  },
  {
   "cell_type": "code",
   "execution_count": 13,
   "id": "6d9d584e",
   "metadata": {},
   "outputs": [
    {
     "name": "stdout",
     "output_type": "stream",
     "text": [
      "(350, 37)\n",
      "(88, 37)\n"
     ]
    },
    {
     "data": {
      "text/plain": [
       "0.7045454545454546"
      ]
     },
     "execution_count": 13,
     "metadata": {},
     "output_type": "execute_result"
    }
   ],
   "source": [
    "pca = PCA(n_components=0.7429)\n",
    "\n",
    "pca.fit(X_train) \n",
    "pca.n_components_\n",
    "\n",
    "X_train_pca = pca.transform(X_train)\n",
    "X_test_pca = pca.transform(X_test)\n",
    "\n",
    "print(X_train_pca.shape)\n",
    "print(X_test_pca.shape)\n",
    "\n",
    "clf2 = SVC(kernel='rbf',gamma=0.001,decision_function_shape='ovr',C=100,degree=1,probability=True)\n",
    "clf2.fit(X_train_pca, y_train) \n",
    "\n",
    "y_predict = clf2.predict(X_test_pca)\n",
    "clf2.score(X_test_pca, y_test) \n"
   ]
  },
  {
   "cell_type": "markdown",
   "id": "6ca0891e",
   "metadata": {},
   "source": [
    "### BayesSearchCV hyperparameter optimization"
   ]
  },
  {
   "cell_type": "code",
   "execution_count": 14,
   "id": "8a05b795",
   "metadata": {},
   "outputs": [
    {
     "data": {
      "text/plain": [
       "datetime.timedelta(seconds=57, microseconds=268313)"
      ]
     },
     "execution_count": 14,
     "metadata": {},
     "output_type": "execute_result"
    }
   ],
   "source": [
    "start=datetime.now()               \n",
    "\n",
    "BayerSvcoptpca = BayesSearchCV(\n",
    "    SVC(probability=True, random_state=42\n",
    "    ),\n",
    "    {\n",
    "        \n",
    "       'kernel': ['linear', 'poly', 'rbf'],\n",
    "        'C':(1, 10),     \n",
    "        'gamma': (0.01, 1),\n",
    "          'degree':(1,10)\n",
    "\n",
    "    },\n",
    " \n",
    "    n_iter=50,\n",
    "    cv=5\n",
    "    ,scoring=\"neg_log_loss\"\n",
    "    ,random_state=42\n",
    "    ,n_points=2\n",
    ")\n",
    "\n",
    "BayerSvcoptpca.fit(X_train_pca, y_train)\n",
    "stop=datetime.now()\n",
    "\n",
    "execution_time_svm1=(stop-start)\n",
    "execution_time_svm1\n"
   ]
  },
  {
   "cell_type": "code",
   "execution_count": 15,
   "id": "b09dfaa8",
   "metadata": {},
   "outputs": [
    {
     "name": "stdout",
     "output_type": "stream",
     "text": [
      "Best parameters found by grid search are: OrderedDict([('C', 1), ('degree', 1), ('gamma', 0.01), ('kernel', 'poly')])\n",
      "val. score: -0.9026691576356205\n"
     ]
    }
   ],
   "source": [
    "print('Best parameters found by grid search are:', BayerSvcoptpca.best_params_)\n",
    "print(\"val. score: %s\" % BayerSvcoptpca.best_score_)"
   ]
  },
  {
   "cell_type": "code",
   "execution_count": 16,
   "id": "08529862",
   "metadata": {},
   "outputs": [],
   "source": [
    "svc0 = SVC(random_state=42\n",
    "           ,C= 1\n",
    "           ,kernel='poly'\n",
    "           ,degree= 1\n",
    "          ,gamma=0.01\n",
    "          , probability=True)\n"
   ]
  },
  {
   "cell_type": "code",
   "execution_count": 17,
   "id": "a7c7dc4d",
   "metadata": {},
   "outputs": [
    {
     "data": {
      "text/plain": [
       "0.6818181818181818"
      ]
     },
     "execution_count": 17,
     "metadata": {},
     "output_type": "execute_result"
    }
   ],
   "source": [
    "# Same with the LGBM it doesn't work using BayesSearch Opitimization hyperparameter\n",
    "#LGBM:(The score is lower than before,we can draw a conlusion,PCA don't need BayesSearch Opitimization hyperparameter)\n",
    "\n",
    "svc0.fit(X_train_pca, y_train)\n",
    "svc0.score(X_test_pca, y_test)"
   ]
  },
  {
   "cell_type": "code",
   "execution_count": 18,
   "id": "b672e8e4",
   "metadata": {},
   "outputs": [
    {
     "data": {
      "text/plain": [
       "0.7045454545454546"
      ]
     },
     "execution_count": 18,
     "metadata": {},
     "output_type": "execute_result"
    }
   ],
   "source": [
    "clf2.fit(X_train_pca, y_train)\n",
    "clf2.score(X_test_pca, y_test)"
   ]
  },
  {
   "cell_type": "markdown",
   "id": "5941b44c",
   "metadata": {},
   "source": [
    "## PCA----Random Forest"
   ]
  },
  {
   "cell_type": "code",
   "execution_count": 19,
   "id": "aa1fab25",
   "metadata": {},
   "outputs": [
    {
     "name": "stdout",
     "output_type": "stream",
     "text": [
      "(350, 278)\n",
      "(88, 278)\n",
      "PCA begin with n_components: 0.4\n",
      "accuracy: 0.6477272727272727, time elaps:0\n",
      "PCA begin with n_components: 0.4392857142857143\n",
      "accuracy: 0.6477272727272727, time elaps:0\n",
      "PCA begin with n_components: 0.4785714285714286\n",
      "accuracy: 0.6363636363636364, time elaps:0\n",
      "PCA begin with n_components: 0.5178571428571428\n",
      "accuracy: 0.6022727272727273, time elaps:0\n",
      "PCA begin with n_components: 0.5571428571428572\n",
      "accuracy: 0.625, time elaps:0\n",
      "PCA begin with n_components: 0.5964285714285714\n",
      "accuracy: 0.6136363636363636, time elaps:0\n",
      "PCA begin with n_components: 0.6357142857142857\n",
      "accuracy: 0.6363636363636364, time elaps:0\n",
      "PCA begin with n_components: 0.675\n",
      "accuracy: 0.6363636363636364, time elaps:0\n",
      "PCA begin with n_components: 0.7142857142857142\n",
      "accuracy: 0.6363636363636364, time elaps:0\n",
      "PCA begin with n_components: 0.7535714285714286\n",
      "accuracy: 0.5909090909090909, time elaps:0\n",
      "PCA begin with n_components: 0.7928571428571428\n",
      "accuracy: 0.6363636363636364, time elaps:0\n",
      "PCA begin with n_components: 0.8321428571428571\n",
      "accuracy: 0.6022727272727273, time elaps:0\n",
      "PCA begin with n_components: 0.8714285714285713\n",
      "accuracy: 0.5795454545454546, time elaps:0\n",
      "PCA begin with n_components: 0.9107142857142856\n",
      "accuracy: 0.5909090909090909, time elaps:0\n",
      "PCA begin with n_components: 0.95\n",
      "accuracy: 0.5909090909090909, time elaps:0\n",
      "0.6477272727272727 1\n"
     ]
    },
    {
     "data": {
      "text/plain": [
       "[<matplotlib.lines.Line2D at 0x2a696885610>]"
      ]
     },
     "execution_count": 19,
     "metadata": {},
     "output_type": "execute_result"
    },
    {
     "data": {
      "image/png": "[encoded data removed]",
      "text/plain": [
       "<Figure size 432x288 with 1 Axes>"
      ]
     },
     "metadata": {
      "needs_background": "light"
     },
     "output_type": "display_data"
    }
   ],
   "source": [
    "import time\n",
    "\n",
    "X_train, X_test, y_train, y_test= train_test_split(X,y, train_size = 0.8,random_state = 0)\n",
    " \n",
    "\n",
    "print(X_train.shape)\n",
    "print(X_test.shape) \n",
    "\n",
    "def n_component_analysis(n, X, y_train, X_test, y_test):\n",
    "    start = time.time()\n",
    "    \n",
    "    pca = PCA(n_components=n)\n",
    "    print(\"PCA begin with n_components: {}\".format(n));\n",
    "    pca.fit(X_train)\n",
    "    \n",
    "    X_train_pca = pca.transform(X_train)\n",
    "    X_test_pca = pca.transform(X_test)\n",
    "    \n",
    "    clf3 = RFC()\n",
    "    clf3.fit(X_train_pca, y_train)    \n",
    "\n",
    "    accuracy = clf3.score(X_test_pca, y_test)\n",
    "    \n",
    "    end = time.time()\n",
    "    print(\"accuracy: {}, time elaps:{}\".format(accuracy, int(end-start)))\n",
    "    return accuracy\n",
    "\n",
    "n_s = np.linspace(0.40, 0.95, num=15)\n",
    "accuracy = []\n",
    "for n in n_s:\n",
    "    tmp = n_component_analysis(n, X_train, y_train, X_test, y_test)\n",
    "    accuracy.append(tmp)\n",
    "    \n",
    "print(max(accuracy), (accuracy.index(max(accuracy))*1)+1)    \n",
    "\n",
    "import matplotlib.pyplot as plt\n",
    "%matplotlib inline\n",
    "plt.plot(n_s, np.array(accuracy), 'b-')"
   ]
  },
  {
   "cell_type": "code",
   "execution_count": 20,
   "id": "8a75c9e8",
   "metadata": {},
   "outputs": [
    {
     "name": "stdout",
     "output_type": "stream",
     "text": [
      "(350, 11)\n",
      "(88, 11)\n"
     ]
    },
    {
     "data": {
      "text/plain": [
       "0.6477272727272727"
      ]
     },
     "execution_count": 20,
     "metadata": {},
     "output_type": "execute_result"
    }
   ],
   "source": [
    "pca = PCA(n_components=0.4392)\n",
    "\n",
    "pca.fit(X_train)\n",
    " \n",
    "pca.n_components_ \n",
    "\n",
    "X_train_pca = pca.transform(X_train)\n",
    "X_test_pca = pca.transform(X_test)\n",
    "\n",
    "print(X_train_pca.shape)\n",
    "print(X_test_pca.shape) \n",
    "\n",
    "clf3 =RFC()\n",
    "clf3.fit(X_train_pca, y_train) \n",
    "\n",
    "y_predict = clf3.predict(X_test_pca)\n",
    "clf3.score(X_test_pca, y_test) \n"
   ]
  },
  {
   "cell_type": "markdown",
   "id": "42ae9846",
   "metadata": {},
   "source": [
    "### BayesSearchCV hyperparameter optimization"
   ]
  },
  {
   "cell_type": "code",
   "execution_count": 21,
   "id": "75d168b8",
   "metadata": {},
   "outputs": [
    {
     "name": "stdout",
     "output_type": "stream",
     "text": [
      "Best parameters found by grid search are: OrderedDict([('criterion', 'entropy'), ('max_depth', 6), ('max_features', 'log2'), ('n_estimators', 50)])\n"
     ]
    }
   ],
   "source": [
    "rf = RFC(random_state=42)\n",
    "\n",
    "\n",
    "BayerRfoptpca = BayesSearchCV(\n",
    "   rf,\n",
    "    {   \n",
    "    'n_estimators': [50,100,150],\n",
    "    'max_features': ['auto', 'sqrt', 'log2'],\n",
    "    'max_depth' : [1,2,3,4,5,6,7,8,9,10,11,12,13,14,15,20,25,None],\n",
    "    'criterion' :['gini', 'entropy']\n",
    "    },\n",
    "    n_iter=50,\n",
    "    cv=5,\n",
    "    scoring=\"neg_log_loss\"\n",
    "    ,random_state=42\n",
    "    ,n_points=2\n",
    ")\n",
    "\n",
    "BayerRfoptpca.fit(X_train_pca, y_train)\n",
    "print('Best parameters found by grid search are:', BayerRfoptpca.best_params_)"
   ]
  },
  {
   "cell_type": "code",
   "execution_count": 22,
   "id": "4714e3c9",
   "metadata": {},
   "outputs": [
    {
     "name": "stdout",
     "output_type": "stream",
     "text": [
      "val. score: -1.0558900401458025\n"
     ]
    }
   ],
   "source": [
    "print(\"val. score: %s\" % BayerRfoptpca.best_score_)\n",
    "# print(\"test score: %s\" % BayerRfoptpca.score(X_test_pca, y_test))"
   ]
  },
  {
   "cell_type": "code",
   "execution_count": 23,
   "id": "29908b17",
   "metadata": {},
   "outputs": [],
   "source": [
    "rf1 = RFC(random_state=42, max_features='log2', n_estimators= 50,\n",
    "                                     max_depth=6, \n",
    "                                     criterion='entropy')"
   ]
  },
  {
   "cell_type": "code",
   "execution_count": 24,
   "id": "695ffa3e",
   "metadata": {},
   "outputs": [
    {
     "data": {
      "text/plain": [
       "0.625"
      ]
     },
     "execution_count": 24,
     "metadata": {},
     "output_type": "execute_result"
    }
   ],
   "source": [
    "# Same with the LGBM it doesn't work using BayesSearch Opitimization hyperparameter\n",
    "#LGBM:(The score is lower than before,we can draw a conlusion,PCA don't need BayesSearch Opitimization hyperparameter)\n",
    "rf1.fit(X_train_pca, y_train)\n",
    "rf1.score(X_test_pca, y_test)"
   ]
  },
  {
   "cell_type": "markdown",
   "id": "99cb3585",
   "metadata": {},
   "source": [
    "## Explore the fixed number of features"
   ]
  },
  {
   "cell_type": "code",
   "execution_count": 25,
   "id": "c261d884",
   "metadata": {},
   "outputs": [
    {
     "name": "stdout",
     "output_type": "stream",
     "text": [
      "Explained Variance: %s\n",
      "[[ 0.06733517 -0.0190863   0.00172037 ... -0.09143465 -0.08669271\n",
      "  -0.13048273]\n",
      " [ 0.0588845   0.00846249 -0.03677794 ... -0.08231382  0.18555138\n",
      "   0.06689478]\n",
      " [-0.01025248 -0.04559551  0.02093735 ... -0.06236845 -0.01860156\n",
      "  -0.06031889]\n",
      " ...\n",
      " [-0.06119366  0.01752234 -0.12670568 ... -0.03132471 -0.00462475\n",
      "  -0.02477632]\n",
      " [ 0.00231934  0.03845928  0.0033915  ... -0.01321075 -0.00835314\n",
      "  -0.01690061]\n",
      " [-0.00547491  0.01549505  0.02001302 ...  0.01653145 -0.0152488\n",
      "  -0.00528646]]\n"
     ]
    }
   ],
   "source": [
    "pca = PCA(n_components=28)\n",
    "pcamodel = pca.fit(X)\n",
    "print(\"Explained Variance: %s\") \n",
    "print(pcamodel.components_)"
   ]
  },
  {
   "cell_type": "code",
   "execution_count": 26,
   "id": "bd15a00c",
   "metadata": {},
   "outputs": [],
   "source": [
    "newMat=pcamodel.fit_transform(X) \n",
    "X_pca = DataFrame(newMat)\n",
    "X3_train, X3_test,y3_train,y3_test= train_test_split(X_pca,y,test_size=0.2,shuffle=True,stratify=y,random_state=42)\n"
   ]
  },
  {
   "cell_type": "code",
   "execution_count": 27,
   "id": "37e4f38e",
   "metadata": {
    "scrolled": true
   },
   "outputs": [
    {
     "name": "stdout",
     "output_type": "stream",
     "text": [
      "LGBM execution time is: 0:00:00.385375\n",
      "SVM execution time is: 0:00:00.060209\n",
      "              precision    recall  f1-score   support\n",
      "\n",
      "           0       0.64      0.96      0.77        49\n",
      "           1       0.67      0.44      0.53         9\n",
      "           2       1.00      0.67      0.80         3\n",
      "           3       1.00      0.33      0.50         3\n",
      "           4       0.00      0.00      0.00         3\n",
      "           5       1.00      0.00      0.00         5\n",
      "           6       1.00      1.00      1.00         2\n",
      "           7       0.67      0.20      0.31        10\n",
      "           8       1.00      0.00      0.00         4\n",
      "\n",
      "    accuracy                           0.66        88\n",
      "   macro avg       0.78      0.40      0.43        88\n",
      "weighted avg       0.70      0.66      0.59        88\n",
      "\n",
      "              precision    recall  f1-score   support\n",
      "\n",
      "           0       0.74      0.86      0.79        49\n",
      "           1       0.50      0.67      0.57         9\n",
      "           2       0.75      1.00      0.86         3\n",
      "           3       0.75      1.00      0.86         3\n",
      "           4       1.00      0.00      0.00         3\n",
      "           5       0.00      0.00      0.00         5\n",
      "           6       1.00      1.00      1.00         2\n",
      "           7       0.57      0.40      0.47        10\n",
      "           8       0.00      0.00      0.00         4\n",
      "\n",
      "    accuracy                           0.68        88\n",
      "   macro avg       0.59      0.55      0.51        88\n",
      "weighted avg       0.63      0.68      0.63        88\n",
      "\n",
      "              precision    recall  f1-score   support\n",
      "\n",
      "           0       0.65      0.98      0.78        49\n",
      "           1       0.60      0.33      0.43         9\n",
      "           2       1.00      1.00      1.00         3\n",
      "           3       1.00      0.67      0.80         3\n",
      "           4       1.00      0.00      0.00         3\n",
      "           5       1.00      0.00      0.00         5\n",
      "           6       1.00      0.00      0.00         2\n",
      "           7       0.50      0.20      0.29        10\n",
      "           8       1.00      0.00      0.00         4\n",
      "\n",
      "    accuracy                           0.66        88\n",
      "   macro avg       0.86      0.35      0.37        88\n",
      "weighted avg       0.71      0.66      0.57        88\n",
      "\n"
     ]
    }
   ],
   "source": [
    "classifier_lgbm_pca=LGBMClassifier(boosting_type='gbdt',objective ='multiclass',\n",
    "                                 max_depth=3, num_leaves=8,\n",
    "                                learning_rate=0.01,n_estimators=268,\n",
    "                                colsample_bytree= 0.6413,subsample= 0.8)\n",
    "# LGBMClassifier(boosting_type='gbdt',objective ='multiclass',max_depth=4, num_leaves=300,learning_rate=0.01,n_estimators=150,class_weight = \"balanced\")\n",
    "classifier_svm_pca=SVC(kernel='rbf',gamma=0.001,decision_function_shape='ovr',C=100,degree=1,probability=True)\n",
    "# SVC(probability=True, random_state=42\n",
    "#           ,C=6\n",
    "#            ,degree= 1\n",
    "#            ,gamma= 0.01\n",
    "#            ,kernel='rbf')\n",
    "classifier_rf_pca= RFC(random_state=42, max_features='log2', n_estimators= 150,\n",
    "                                     max_depth=11, \n",
    "                                     criterion='gini')\n",
    "\n",
    "start=datetime.now()\n",
    "classifier_lgbm_pca.fit(X3_train,y3_train.ravel())\n",
    "stop=datetime.now()\n",
    "execution_time_svm=stop-start\n",
    "print(\"LGBM execution time is:\",execution_time_svm)\n",
    "\n",
    "\n",
    "start=datetime.now()\n",
    "classifier_svm_pca.fit(X3_train,y3_train.ravel())\n",
    "stop=datetime.now()\n",
    "execution_time_svm=stop-start\n",
    "print(\"SVM execution time is:\",execution_time_svm)\n",
    "\n",
    "classifier_rf_pca.fit(X3_train,y3_train.ravel())\n",
    "\n",
    "#prediction on test data\n",
    "y_pred_lgbm=classifier_lgbm_pca.predict(X3_test)\n",
    "y_pred_svm=classifier_svm_pca.predict(X3_test)\n",
    "y_pred_rf=classifier_rf_pca.predict(X3_test)\n",
    "# y2_pred_svm=[list(x).index(max(x))for x in y2_pred_svm]\n",
    "\n",
    "print(classification_report(y3_test, y_pred_lgbm,zero_division=1))\n",
    "print(classification_report(y3_test, y_pred_svm,zero_division=1))\n",
    "print(classification_report(y3_test, y_pred_rf,zero_division=1))"
   ]
  },
  {
   "cell_type": "code",
   "execution_count": 28,
   "id": "6d9629de",
   "metadata": {},
   "outputs": [
    {
     "data": {
      "text/plain": [
       "BayesSearchCV(cv=5,\n",
       "              estimator=LGBMClassifier(colsample_bytree=0.6413,\n",
       "                                       learning_rate=0.01, max_depth=3,\n",
       "                                       n_estimators=268, num_leaves=8,\n",
       "                                       objective='multiclass', subsample=0.8),\n",
       "              n_points=2, random_state=42, scoring='neg_log_loss',\n",
       "              search_spaces={'colsample_bytree': (0.5, 0.8),\n",
       "                             'learning_rate': (0.005, 0.01, 0.001),\n",
       "                             'max_depth': (3, 8), 'n_estimators': (100, 300),\n",
       "                             'num_leaves': (8, 170), 'subsample': (0.5, 0.8)})"
      ]
     },
     "execution_count": 28,
     "metadata": {},
     "output_type": "execute_result"
    }
   ],
   "source": [
    "BayerLgbmoptpca = BayesSearchCV(\n",
    "     classifier_lgbm_pca,\n",
    "     {    \n",
    "     \n",
    "        'learning_rate': (0.005,0.01,0.001), \n",
    "        'n_estimators': (100,300), \n",
    "  \n",
    "        'max_depth': (3,8), \n",
    "        'num_leaves':(8, 170),\n",
    "         \n",
    "        'subsample': (0.5,0.8), \n",
    "        'colsample_bytree': (0.5,0.8)\n",
    "    } ,\n",
    "     n_iter=50,\n",
    "     cv=5\n",
    "    ,scoring=\"neg_log_loss\"\n",
    "    ,random_state=42\n",
    "    ,n_points=2\n",
    ")\n",
    "BayerLgbmoptpca.fit(X3_train, y3_train)\n",
    "\n"
   ]
  },
  {
   "cell_type": "code",
   "execution_count": 29,
   "id": "8a5da022",
   "metadata": {},
   "outputs": [
    {
     "name": "stdout",
     "output_type": "stream",
     "text": [
      "Best parameters found by grid search are: OrderedDict([('colsample_bytree', 0.5), ('learning_rate', 0.01), ('max_depth', 3), ('n_estimators', 269), ('num_leaves', 135), ('subsample', 0.8)])\n",
      "val. score: -1.0255600445191877\n",
      "test score: -1.1703930730237602\n"
     ]
    }
   ],
   "source": [
    "print('Best parameters found by grid search are:', BayerLgbmoptpca.best_params_)\n",
    "print(\"val. score: %s\" % BayerLgbmoptpca.best_score_)\n",
    "print(\"test score: %s\" % BayerLgbmoptpca.score(X3_test, y3_test))"
   ]
  },
  {
   "cell_type": "code",
   "execution_count": 30,
   "id": "009c39ea",
   "metadata": {},
   "outputs": [],
   "source": [
    "lgbm1=LGBMClassifier(boosting_type='gbdt',objective ='multiclass',\n",
    "                                 max_depth=3, num_leaves=135,\n",
    "                                learning_rate=0.01,n_estimators=269,\n",
    "                                colsample_bytree= 0.5,subsample= 0.8)"
   ]
  },
  {
   "cell_type": "code",
   "execution_count": 31,
   "id": "82a6e8ef",
   "metadata": {},
   "outputs": [
    {
     "name": "stdout",
     "output_type": "stream",
     "text": [
      "Accuracy score with LGBM is:  0.6590909090909091\n",
      "F1 score with LGBM is:  0.6590909090909091\n",
      "ROC_AUC score with LGBM is:  0.7761347176325033\n",
      "Cross entropy loss score with LGBM is:  1.1703930730237602\n"
     ]
    }
   ],
   "source": [
    "lgbm_arrhthpca=lgbm1.fit(X3_train,y3_train)\n",
    "y_pred_lgbm1=lgbm1.predict((X3_test))\n",
    "y_prob_lgbm1=lgbm1.predict_proba((X3_test))\n",
    "print(\"Accuracy score with LGBM is: \",accuracy_score(y3_test, y_pred_lgbm1))\n",
    "print(\"F1 score with LGBM is: \",f1_score(y3_test, y_pred_lgbm1,average='micro'))\n",
    "print(\"ROC_AUC score with LGBM is: \", roc_auc_score(y3_test,y_prob_lgbm1,multi_class='ovr',labels=np.unique(y3_test)))\n",
    "print(\"Cross entropy loss score with LGBM is: \",log_loss(y3_test,y_prob_lgbm1))\n"
   ]
  }
 ],
 "metadata": {
  "kernelspec": {
   "display_name": "Python 3 (ipykernel)",
   "language": "python",
   "name": "python3"
  },
  "language_info": {
   "codemirror_mode": {
    "name": "ipython",
    "version": 3
   },
   "file_extension": ".py",
   "mimetype": "text/x-python",
   "name": "python",
   "nbconvert_exporter": "python",
   "pygments_lexer": "ipython3",
   "version": "3.9.7"
  },
  "toc": {
   "base_numbering": 1,
   "nav_menu": {},
   "number_sections": true,
   "sideBar": true,
   "skip_h1_title": false,
   "title_cell": "Table of Contents",
   "title_sidebar": "Contents",
   "toc_cell": false,
   "toc_position": {},
   "toc_section_display": true,
   "toc_window_display": false
  }
 },
 "nbformat": 4,
 "nbformat_minor": 5
}

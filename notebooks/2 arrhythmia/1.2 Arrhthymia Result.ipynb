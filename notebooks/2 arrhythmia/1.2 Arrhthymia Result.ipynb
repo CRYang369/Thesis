{
 "cells": [
  {
   "cell_type": "code",
   "execution_count": 1,
   "id": "3a9cc4cf",
   "metadata": {},
   "outputs": [],
   "source": [
    "from datetime import datetime\n",
    "import lightgbm as lgb\n",
    "from lightgbm import LGBMClassifier\n",
    "from lightgbm import plot_importance\n",
    "import matplotlib.pyplot as plt\n",
    "from matplotlib import pyplot\n",
    "from matplotlib.pyplot import MultipleLocator\n",
    "%matplotlib inline\n",
    "import numpy as np\n",
    "from numpy import mean\n",
    "from numpy import std\n",
    "from numpy import sort\n",
    "import pandas as pd\n",
    "from pandas.core.frame import DataFrame\n",
    "from sklearn.svm import SVC\n",
    "from sklearn.decomposition import PCA\n",
    "from sklearn.ensemble import RandomForestClassifier as RFC\n",
    "from sklearn.feature_selection import SelectFromModel\n",
    "from sklearn import metrics\n",
    "from sklearn.metrics import ConfusionMatrixDisplay\n",
    "from sklearn.metrics import f1_score  \n",
    "from sklearn.metrics import mean_absolute_error\n",
    "from sklearn.metrics import confusion_matrix,roc_curve,roc_auc_score,accuracy_score, plot_confusion_matrix,classification_report\n",
    "from sklearn.model_selection import cross_val_score\n",
    "from sklearn.model_selection import RepeatedStratifiedKFold\n",
    "from sklearn.model_selection import train_test_split\n",
    "from sklearn.preprocessing import LabelEncoder\n",
    "from sklearn.preprocessing import OneHotEncoder\n",
    "from sklearn.preprocessing import StandardScaler\n",
    "from sklearn.utils import class_weight\n",
    "from sklearn.metrics import log_loss\n",
    "import seaborn as sns\n",
    "from time import time\n",
    "import pprint\n",
    "import warnings\n",
    "warnings.filterwarnings(\"ignore\")\n",
    "from sklearn.model_selection import StratifiedKFold\n",
    "from sklearn.metrics import make_scorer\n",
    "from skopt import BayesSearchCV\n",
    "from skopt.callbacks import DeadlineStopper,DeltaYStopper\n",
    "from skopt.space import Real,Categorical,Integer\n",
    "from sklearn.metrics import precision_score, recall_score, f1_score\n",
    "from sklearn.feature_selection import RFECV\n",
    "from sklearn.feature_selection import RFE\n",
    "import joblib\n",
    "import torch\n",
    "import torch.nn as nn\n",
    "from torch import optim\n",
    "import torch.nn.functional as F\n",
    "from torch.utils.data import DataLoader\n",
    "from torch.autograd import Variable"
   ]
  },
  {
   "cell_type": "markdown",
   "id": "2a6716dc",
   "metadata": {},
   "source": [
    "# Dataset"
   ]
  },
  {
   "cell_type": "code",
   "execution_count": 2,
   "id": "c61c6d3b",
   "metadata": {
    "scrolled": false
   },
   "outputs": [
    {
     "data": {
      "text/html": [
       "<div>\n",
       "<style scoped>\n",
       "    .dataframe tbody tr th:only-of-type {\n",
       "        vertical-align: middle;\n",
       "    }\n",
       "\n",
       "    .dataframe tbody tr th {\n",
       "        vertical-align: top;\n",
       "    }\n",
       "\n",
       "    .dataframe thead th {\n",
       "        text-align: right;\n",
       "    }\n",
       "</style>\n",
       "<table border=\"1\" class=\"dataframe\">\n",
       "  <thead>\n",
       "    <tr style=\"text-align: right;\">\n",
       "      <th></th>\n",
       "      <th>Weight</th>\n",
       "      <th>QRS duration</th>\n",
       "      <th>Q-T interval</th>\n",
       "      <th>Heart rate</th>\n",
       "      <th>Q wavechannel   DIIII</th>\n",
       "      <th>R wavechannel   DIIII</th>\n",
       "      <th>Number of intrinsic deflectionschannel   V1</th>\n",
       "      <th>Q wavechannel   V3</th>\n",
       "      <th>T wave</th>\n",
       "      <th>P wave DII</th>\n",
       "      <th>...</th>\n",
       "      <th>S wave V3</th>\n",
       "      <th>QRSTA V3</th>\n",
       "      <th>R wave V4</th>\n",
       "      <th>T wave V4</th>\n",
       "      <th>QRSTA V4</th>\n",
       "      <th>JJ wave V5</th>\n",
       "      <th>T wave V5</th>\n",
       "      <th>QRSTA V5</th>\n",
       "      <th>T wave V6</th>\n",
       "      <th>label</th>\n",
       "    </tr>\n",
       "  </thead>\n",
       "  <tbody>\n",
       "    <tr>\n",
       "      <th>0</th>\n",
       "      <td>64</td>\n",
       "      <td>81</td>\n",
       "      <td>401</td>\n",
       "      <td>53</td>\n",
       "      <td>32</td>\n",
       "      <td>24</td>\n",
       "      <td>16</td>\n",
       "      <td>0</td>\n",
       "      <td>1.5</td>\n",
       "      <td>0.1</td>\n",
       "      <td>...</td>\n",
       "      <td>-7.7</td>\n",
       "      <td>27.7</td>\n",
       "      <td>9.5</td>\n",
       "      <td>2.6</td>\n",
       "      <td>34.6</td>\n",
       "      <td>-0.4</td>\n",
       "      <td>2.6</td>\n",
       "      <td>43.4</td>\n",
       "      <td>2.1</td>\n",
       "      <td>5</td>\n",
       "    </tr>\n",
       "    <tr>\n",
       "      <th>1</th>\n",
       "      <td>95</td>\n",
       "      <td>138</td>\n",
       "      <td>386</td>\n",
       "      <td>75</td>\n",
       "      <td>28</td>\n",
       "      <td>116</td>\n",
       "      <td>100</td>\n",
       "      <td>0</td>\n",
       "      <td>2.5</td>\n",
       "      <td>0.7</td>\n",
       "      <td>...</td>\n",
       "      <td>-4.1</td>\n",
       "      <td>23.3</td>\n",
       "      <td>10.0</td>\n",
       "      <td>2.2</td>\n",
       "      <td>20.7</td>\n",
       "      <td>1.3</td>\n",
       "      <td>3.4</td>\n",
       "      <td>48.2</td>\n",
       "      <td>3.4</td>\n",
       "      <td>7</td>\n",
       "    </tr>\n",
       "    <tr>\n",
       "      <th>2</th>\n",
       "      <td>94</td>\n",
       "      <td>100</td>\n",
       "      <td>380</td>\n",
       "      <td>71</td>\n",
       "      <td>20</td>\n",
       "      <td>52</td>\n",
       "      <td>0</td>\n",
       "      <td>0</td>\n",
       "      <td>1.9</td>\n",
       "      <td>0.4</td>\n",
       "      <td>...</td>\n",
       "      <td>-7.9</td>\n",
       "      <td>51.0</td>\n",
       "      <td>15.0</td>\n",
       "      <td>3.3</td>\n",
       "      <td>63.1</td>\n",
       "      <td>0.1</td>\n",
       "      <td>3.0</td>\n",
       "      <td>68.0</td>\n",
       "      <td>2.6</td>\n",
       "      <td>0</td>\n",
       "    </tr>\n",
       "    <tr>\n",
       "      <th>3</th>\n",
       "      <td>52</td>\n",
       "      <td>77</td>\n",
       "      <td>377</td>\n",
       "      <td>70</td>\n",
       "      <td>0</td>\n",
       "      <td>44</td>\n",
       "      <td>12</td>\n",
       "      <td>0</td>\n",
       "      <td>1.0</td>\n",
       "      <td>0.5</td>\n",
       "      <td>...</td>\n",
       "      <td>-11.0</td>\n",
       "      <td>21.2</td>\n",
       "      <td>7.7</td>\n",
       "      <td>1.9</td>\n",
       "      <td>15.4</td>\n",
       "      <td>0.0</td>\n",
       "      <td>1.3</td>\n",
       "      <td>18.9</td>\n",
       "      <td>1.0</td>\n",
       "      <td>0</td>\n",
       "    </tr>\n",
       "    <tr>\n",
       "      <th>4</th>\n",
       "      <td>54</td>\n",
       "      <td>78</td>\n",
       "      <td>376</td>\n",
       "      <td>67</td>\n",
       "      <td>0</td>\n",
       "      <td>56</td>\n",
       "      <td>8</td>\n",
       "      <td>0</td>\n",
       "      <td>1.0</td>\n",
       "      <td>0.6</td>\n",
       "      <td>...</td>\n",
       "      <td>-9.0</td>\n",
       "      <td>21.1</td>\n",
       "      <td>6.6</td>\n",
       "      <td>1.4</td>\n",
       "      <td>14.2</td>\n",
       "      <td>-0.2</td>\n",
       "      <td>0.8</td>\n",
       "      <td>20.9</td>\n",
       "      <td>0.5</td>\n",
       "      <td>0</td>\n",
       "    </tr>\n",
       "  </tbody>\n",
       "</table>\n",
       "<p>5 rows × 29 columns</p>\n",
       "</div>"
      ],
      "text/plain": [
       "   Weight  QRS duration  Q-T interval  Heart rate  Q wavechannel   DIIII   \\\n",
       "0      64            81           401          53                      32   \n",
       "1      95           138           386          75                      28   \n",
       "2      94           100           380          71                      20   \n",
       "3      52            77           377          70                       0   \n",
       "4      54            78           376          67                       0   \n",
       "\n",
       "   R wavechannel   DIIII   Number of intrinsic deflectionschannel   V1  \\\n",
       "0                      24                                           16   \n",
       "1                     116                                          100   \n",
       "2                      52                                            0   \n",
       "3                      44                                           12   \n",
       "4                      56                                            8   \n",
       "\n",
       "   Q wavechannel   V3  T wave  P wave DII  ...  S wave V3  QRSTA V3  \\\n",
       "0                   0     1.5         0.1  ...       -7.7      27.7   \n",
       "1                   0     2.5         0.7  ...       -4.1      23.3   \n",
       "2                   0     1.9         0.4  ...       -7.9      51.0   \n",
       "3                   0     1.0         0.5  ...      -11.0      21.2   \n",
       "4                   0     1.0         0.6  ...       -9.0      21.1   \n",
       "\n",
       "   R wave V4  T wave V4  QRSTA V4  JJ wave V5  T wave V5  QRSTA V5  T wave V6  \\\n",
       "0        9.5        2.6      34.6        -0.4        2.6      43.4        2.1   \n",
       "1       10.0        2.2      20.7         1.3        3.4      48.2        3.4   \n",
       "2       15.0        3.3      63.1         0.1        3.0      68.0        2.6   \n",
       "3        7.7        1.9      15.4         0.0        1.3      18.9        1.0   \n",
       "4        6.6        1.4      14.2        -0.2        0.8      20.9        0.5   \n",
       "\n",
       "   label  \n",
       "0      5  \n",
       "1      7  \n",
       "2      0  \n",
       "3      0  \n",
       "4      0  \n",
       "\n",
       "[5 rows x 29 columns]"
      ]
     },
     "execution_count": 2,
     "metadata": {},
     "output_type": "execute_result"
    }
   ],
   "source": [
    "df0=pd.read_csv('Arrhthymia selected 28 features.csv')\n",
    "df=df0.copy()\n",
    "df.head()"
   ]
  },
  {
   "cell_type": "code",
   "execution_count": 3,
   "id": "e7de8082",
   "metadata": {},
   "outputs": [],
   "source": [
    "X1=df.drop(labels=['label'],axis=1)\n",
    "\n",
    "y1=df['label'].values"
   ]
  },
  {
   "cell_type": "code",
   "execution_count": 4,
   "id": "3762aa31",
   "metadata": {},
   "outputs": [],
   "source": [
    "#stanardilization\n",
    "\n",
    "scaler=StandardScaler()\n",
    "scaler.fit(X1)\n",
    "X1=scaler.transform(X1)"
   ]
  },
  {
   "cell_type": "code",
   "execution_count": 5,
   "id": "e38aa3cd",
   "metadata": {},
   "outputs": [],
   "source": [
    "X1_train, X1_test, y1_train, y1_test =train_test_split(X1, y1,test_size=0.20, random_state=0, stratify=y1)"
   ]
  },
  {
   "cell_type": "markdown",
   "id": "6b996300",
   "metadata": {},
   "source": [
    "# Model"
   ]
  },
  {
   "cell_type": "markdown",
   "id": "c2083eca",
   "metadata": {},
   "source": [
    "## Light GBM"
   ]
  },
  {
   "cell_type": "code",
   "execution_count": 6,
   "id": "f5c7e9dd",
   "metadata": {},
   "outputs": [],
   "source": [
    "lgbm1 =LGBMClassifier(boosting_type='gbdt',objective ='multiclass',\n",
    "                                 max_depth=3, num_leaves=170,\n",
    "                                learning_rate=0.01,n_estimators=237,\n",
    "                                colsample_bytree= 0.8,subsample= 0.8)"
   ]
  },
  {
   "cell_type": "code",
   "execution_count": 7,
   "id": "93a52689",
   "metadata": {},
   "outputs": [],
   "source": [
    "\n",
    "lgbm_arrhthymia=lgbm1.fit(X1_train,y1_train)"
   ]
  },
  {
   "cell_type": "code",
   "execution_count": 8,
   "id": "8f9d11b8",
   "metadata": {},
   "outputs": [
    {
     "name": "stdout",
     "output_type": "stream",
     "text": [
      "0.2307\n"
     ]
    }
   ],
   "source": [
    "start=datetime.now()\n",
    "lgbm1.fit(X1_train,y1_train)\n",
    "stop=datetime.now()\n",
    "execution_time_lgbm4='%.4f'%(stop-start).total_seconds()\n",
    "print(execution_time_lgbm4)"
   ]
  },
  {
   "cell_type": "code",
   "execution_count": 9,
   "id": "78ff3a10",
   "metadata": {},
   "outputs": [
    {
     "name": "stdout",
     "output_type": "stream",
     "text": [
      "Accuracy score with LGBM is:  0.7954545454545454\n",
      "F1 score with LGBM is:  0.7954545454545455\n",
      "ROC_AUC score with LGBM is:  0.921700954550441\n",
      "Cross entropy loss score with LGBM is:  0.7194718981023356\n"
     ]
    }
   ],
   "source": [
    "y_pred_lgbm1=lgbm1.predict((X1_test))\n",
    "y_prob_lgbm1=lgbm1.predict_proba((X1_test))\n",
    "print(\"Accuracy score with LGBM is: \",accuracy_score(y1_test, y_pred_lgbm1))\n",
    "print(\"F1 score with LGBM is: \",f1_score(y1_test, y_pred_lgbm1,average='micro'))\n",
    "print(\"ROC_AUC score with LGBM is: \", roc_auc_score(y1_test,y_prob_lgbm1,multi_class='ovr',labels=np.unique(y1_test)))\n",
    "print(\"Cross entropy loss score with LGBM is: \",log_loss(y1_test,y_prob_lgbm1))\n"
   ]
  },
  {
   "cell_type": "code",
   "execution_count": 10,
   "id": "2e136745",
   "metadata": {},
   "outputs": [
    {
     "name": "stdout",
     "output_type": "stream",
     "text": [
      "0.7955\n",
      "0.7955\n",
      "0.9217\n",
      "0.7195\n"
     ]
    }
   ],
   "source": [
    "lgbm_accuracy='%.4f'%accuracy_score(y1_test, y_pred_lgbm1)\n",
    "lgbm_f1='%.4f'%f1_score(y1_test, y_pred_lgbm1,average='micro')\n",
    "lgbm_roc_auc='%.4f'% roc_auc_score(y1_test,y_prob_lgbm1,multi_class='ovr',labels=np.unique(y1_test))\n",
    "lgbm_loss='%.4f'%log_loss(y1_test,y_prob_lgbm1)\n",
    "print(lgbm_accuracy)\n",
    "print(lgbm_f1)\n",
    "print(lgbm_roc_auc)\n",
    "print(lgbm_loss)"
   ]
  },
  {
   "cell_type": "code",
   "execution_count": 11,
   "id": "780bcb0f",
   "metadata": {},
   "outputs": [
    {
     "name": "stdout",
     "output_type": "stream",
     "text": [
      "accuracy 28  feature: 0.76\n",
      "F1 score 28  feature: 0.76\n",
      "roc_auc 28  feature: 0.9170247418382509\n",
      "cross entropy loss 28  feature: -0.748986586283361\n"
     ]
    }
   ],
   "source": [
    "start=datetime.now()\n",
    "accuracy_score_28 =cross_val_score(lgbm1, X1_train, y1_train, cv=5,scoring='accuracy').mean()\n",
    "F1_score_28 =cross_val_score(lgbm1, X1_train, y1_train, cv=5,scoring='f1_micro').mean()\n",
    "roc_auc_score_28 =cross_val_score(lgbm1, X1_train, y1_train, cv=5,scoring='roc_auc_ovr').mean()\n",
    "neg_loss_score_28 =cross_val_score(lgbm1, X1_train, y1_train, cv=5,scoring='neg_log_loss').mean()\n",
    "stop=datetime.now()\n",
    "\n",
    "execution_time_lgbm4=(stop-start)/20\n",
    "execution_time_lgbm4\n",
    "\n",
    "print(\"accuracy 28  feature:\",accuracy_score_28)\n",
    "print('F1 score 28  feature:',F1_score_28)\n",
    "print('roc_auc 28  feature:',roc_auc_score_28)\n",
    "print(\"cross entropy loss 28  feature:\",neg_loss_score_28)\n"
   ]
  },
  {
   "cell_type": "code",
   "execution_count": 12,
   "id": "ef5bd058",
   "metadata": {},
   "outputs": [
    {
     "name": "stdout",
     "output_type": "stream",
     "text": [
      "0.2428\n"
     ]
    }
   ],
   "source": [
    "training_time_lgbm=execution_time_lgbm4.total_seconds()\n",
    "training_time_lgbm='%.4f'%training_time_lgbm\n",
    "print(training_time_lgbm)"
   ]
  },
  {
   "cell_type": "code",
   "execution_count": 13,
   "id": "97b41ce5",
   "metadata": {},
   "outputs": [
    {
     "data": {
      "text/plain": [
       "['lgbm_arrhthymia.model']"
      ]
     },
     "execution_count": 13,
     "metadata": {},
     "output_type": "execute_result"
    }
   ],
   "source": [
    "# save the model\n",
    "joblib.dump(lgbm_arrhthymia,'lgbm_arrhthymia.model')"
   ]
  },
  {
   "cell_type": "code",
   "execution_count": 14,
   "id": "5c3e977a",
   "metadata": {},
   "outputs": [],
   "source": [
    "rflgbm_arrhthymia=joblib.load('lgbm_arrhthymia.model')\n",
    "   #应用模型进行预测\n",
    "resultlgmb=rflgbm_arrhthymia.score(X1_test,y1_test)"
   ]
  },
  {
   "cell_type": "code",
   "execution_count": 15,
   "id": "ca752afd",
   "metadata": {},
   "outputs": [
    {
     "data": {
      "text/plain": [
       "0.7954545454545454"
      ]
     },
     "execution_count": 15,
     "metadata": {},
     "output_type": "execute_result"
    }
   ],
   "source": [
    "resultlgmb"
   ]
  },
  {
   "cell_type": "markdown",
   "id": "aba237fd",
   "metadata": {},
   "source": [
    "## SVM "
   ]
  },
  {
   "cell_type": "code",
   "execution_count": 16,
   "id": "1a9a3a38",
   "metadata": {},
   "outputs": [],
   "source": [
    "svc1=SVC(probability=True, random_state=42\n",
    "          ,C=10\n",
    "           ,degree= 1\n",
    "           ,gamma= 0.01\n",
    "           ,kernel='rbf')"
   ]
  },
  {
   "cell_type": "code",
   "execution_count": 17,
   "id": "4717ccac",
   "metadata": {},
   "outputs": [
    {
     "name": "stdout",
     "output_type": "stream",
     "text": [
      "0.0502\n"
     ]
    },
    {
     "data": {
      "text/plain": [
       "0.7727272727272727"
      ]
     },
     "execution_count": 17,
     "metadata": {},
     "output_type": "execute_result"
    }
   ],
   "source": [
    "\n",
    "start=datetime.now()\n",
    "svc1.fit(X1_train,y1_train)\n",
    "stop=datetime.now()\n",
    "execution_time_svc='%.4f'%(stop-start).total_seconds()\n",
    "print(execution_time_svc)\n",
    "\n",
    "svc1.score(X1_test,y1_test)"
   ]
  },
  {
   "cell_type": "code",
   "execution_count": 18,
   "id": "9fe27e1d",
   "metadata": {},
   "outputs": [],
   "source": [
    "svc_arrhthymia=svc1.fit(X1_train,y1_train)"
   ]
  },
  {
   "cell_type": "code",
   "execution_count": 19,
   "id": "495fbadf",
   "metadata": {},
   "outputs": [
    {
     "name": "stdout",
     "output_type": "stream",
     "text": [
      "accuracy 28  feature: 0.7314285714285714\n",
      "F1 score 28  feature: 0.7314285714285714\n",
      "roc_auc 28  feature: 0.9198924292229101\n",
      "cross entropy loss 28  feature: -0.7992501752387569\n"
     ]
    }
   ],
   "source": [
    "start=datetime.now()\n",
    "accuracy_score_28_svm =cross_val_score(svc1, X1_train, y1_train, cv=5,scoring='accuracy').mean()\n",
    "F1_score_28_svm =cross_val_score(svc1, X1_train, y1_train, cv=5,scoring='f1_micro').mean()\n",
    "roc_auc_score_28_svm =cross_val_score(svc1, X1_train, y1_train, cv=5,scoring='roc_auc_ovr').mean()\n",
    "neg_loss_score_28_svm =cross_val_score(svc1, X1_train, y1_train, cv=5,scoring='neg_log_loss').mean()\n",
    "\n",
    "stop=datetime.now()\n",
    "execution_time_svm=(stop-start)/20\n",
    "execution_time_svm\n",
    "\n",
    "print(\"accuracy 28  feature:\",accuracy_score_28_svm)\n",
    "print('F1 score 28  feature:',F1_score_28_svm)\n",
    "print('roc_auc 28  feature:',roc_auc_score_28_svm)\n",
    "print(\"cross entropy loss 28  feature:\",neg_loss_score_28_svm)"
   ]
  },
  {
   "cell_type": "code",
   "execution_count": 20,
   "id": "cbbb493a",
   "metadata": {},
   "outputs": [
    {
     "name": "stdout",
     "output_type": "stream",
     "text": [
      "0.0456\n"
     ]
    }
   ],
   "source": [
    "training_time_svm=execution_time_svm.total_seconds()\n",
    "training_time_svm='%.4f'%training_time_svm\n",
    "print(training_time_svm)"
   ]
  },
  {
   "cell_type": "code",
   "execution_count": 21,
   "id": "f3abfd0f",
   "metadata": {},
   "outputs": [],
   "source": [
    "y_pred_svc1=svc1.predict(X1_test)\n",
    "y_prob_svc1=svc1.predict_proba(X1_test)"
   ]
  },
  {
   "cell_type": "code",
   "execution_count": 22,
   "id": "b2a331ce",
   "metadata": {
    "scrolled": true
   },
   "outputs": [
    {
     "name": "stdout",
     "output_type": "stream",
     "text": [
      "0.7727\n",
      "0.7727\n",
      "0.9209\n",
      "0.7466\n"
     ]
    }
   ],
   "source": [
    "\n",
    "svc_accuracy='%.4f'%accuracy_score(y1_test, y_pred_svc1)\n",
    "svc_f1='%.4f'%f1_score(y1_test, y_pred_svc1,average='micro')\n",
    "svc_roc_auc='%.4f'% roc_auc_score(y1_test,y_prob_svc1,multi_class='ovr',labels=np.unique(y1_test))\n",
    "svc_loss='%.4f'%log_loss(y1_test,y_prob_svc1)\n",
    "print(svc_accuracy)\n",
    "print(svc_f1)\n",
    "print(svc_roc_auc)\n",
    "print(svc_loss)"
   ]
  },
  {
   "cell_type": "code",
   "execution_count": 23,
   "id": "0ba2708f",
   "metadata": {},
   "outputs": [
    {
     "data": {
      "text/plain": [
       "['svc_arrhthymia.model']"
      ]
     },
     "execution_count": 23,
     "metadata": {},
     "output_type": "execute_result"
    }
   ],
   "source": [
    "  #保存模型\n",
    "joblib.dump(svc_arrhthymia,'svc_arrhthymia.model')"
   ]
  },
  {
   "cell_type": "code",
   "execution_count": 24,
   "id": "c3bbb18b",
   "metadata": {},
   "outputs": [],
   "source": [
    "#加载模型\n",
    "RFsvc=joblib.load('svc_arrhthymia.model')\n",
    "   #应用模型进行预测\n",
    "resultsvc=RFsvc.score(X1_test,y1_test)"
   ]
  },
  {
   "cell_type": "code",
   "execution_count": 25,
   "id": "0a2a2909",
   "metadata": {},
   "outputs": [
    {
     "data": {
      "text/plain": [
       "0.7727272727272727"
      ]
     },
     "execution_count": 25,
     "metadata": {},
     "output_type": "execute_result"
    }
   ],
   "source": [
    "resultsvc"
   ]
  },
  {
   "cell_type": "markdown",
   "id": "62f5cdf6",
   "metadata": {},
   "source": [
    "## Random Forest"
   ]
  },
  {
   "cell_type": "code",
   "execution_count": 26,
   "id": "cb6356c3",
   "metadata": {},
   "outputs": [],
   "source": [
    "rf1= RFC(random_state=42, max_features='sqrt', n_estimators= 150,\n",
    "                                     max_depth=15, \n",
    "                                     criterion='gini')"
   ]
  },
  {
   "cell_type": "code",
   "execution_count": 27,
   "id": "eca1bf9a",
   "metadata": {},
   "outputs": [
    {
     "name": "stdout",
     "output_type": "stream",
     "text": [
      "accuracy 28  feature: 0.7742857142857142\n",
      "F1 score 28  feature: 0.7742857142857142\n",
      "roc_auc 28  feature: 0.9314835702073692\n",
      "cross entropy loss 28  feature: -0.7405504781779507\n"
     ]
    }
   ],
   "source": [
    "start=datetime.now()\n",
    "accuracy_score_28_rf =cross_val_score(rf1, X1_train, y1_train, cv=5,scoring='accuracy').mean()\n",
    "F1_score_28_rf =cross_val_score(rf1, X1_train, y1_train, cv=5,scoring='f1_micro').mean()\n",
    "roc_auc_score_28_rf =cross_val_score(rf1, X1_train, y1_train, cv=5,scoring='roc_auc_ovr').mean()\n",
    "neg_loss_score_28_rf =cross_val_score(rf1, X1_train, y1_train, cv=5,scoring='neg_log_loss').mean()\n",
    "\n",
    "stop=datetime.now()\n",
    "execution_time_rf=(stop-start)/20\n",
    "execution_time_rf\n",
    "\n",
    "print(\"accuracy 28  feature:\",accuracy_score_28_rf)\n",
    "print('F1 score 28  feature:',F1_score_28_rf)\n",
    "print('roc_auc 28  feature:',roc_auc_score_28_rf)\n",
    "print(\"cross entropy loss 28  feature:\",neg_loss_score_28_rf)"
   ]
  },
  {
   "cell_type": "code",
   "execution_count": 28,
   "id": "53c23a3f",
   "metadata": {},
   "outputs": [
    {
     "name": "stdout",
     "output_type": "stream",
     "text": [
      "0.2601\n"
     ]
    }
   ],
   "source": [
    "training_time_rf=execution_time_rf.total_seconds()\n",
    "training_time_rf='%.4f'%training_time_rf\n",
    "print(training_time_rf)"
   ]
  },
  {
   "cell_type": "code",
   "execution_count": 29,
   "id": "2807c0dd",
   "metadata": {},
   "outputs": [
    {
     "name": "stdout",
     "output_type": "stream",
     "text": [
      "0.7614\n",
      "0.7614\n",
      "0.9353\n",
      "0.7221\n"
     ]
    }
   ],
   "source": [
    "rf_arrhthymia=rf1.fit(X1_train,y1_train)\n",
    "y_pred_rf2=rf1.predict(X1_test)\n",
    "y_prob_rf2=rf1.predict_proba(X1_test)\n",
    "\n",
    "rf_accuracy='%.4f'%accuracy_score(y1_test, y_pred_rf2)\n",
    "rf_f1='%.4f'%f1_score(y1_test, y_pred_rf2,average='micro')\n",
    "rf_roc_auc='%.4f'% roc_auc_score(y1_test,y_prob_rf2,multi_class='ovr',labels=np.unique(y1_test))\n",
    "rf_loss='%.4f'%log_loss(y1_test,y_prob_rf2)\n",
    "print(rf_accuracy)\n",
    "print(rf_f1)\n",
    "print(rf_roc_auc)\n",
    "print(rf_loss)"
   ]
  },
  {
   "cell_type": "code",
   "execution_count": 30,
   "id": "2e050077",
   "metadata": {},
   "outputs": [
    {
     "data": {
      "text/plain": [
       "['rf_arrhthymia.model']"
      ]
     },
     "execution_count": 30,
     "metadata": {},
     "output_type": "execute_result"
    }
   ],
   "source": [
    "# save the model\n",
    "joblib.dump(rf_arrhthymia,'rf_arrhthymia.model')"
   ]
  },
  {
   "cell_type": "code",
   "execution_count": 31,
   "id": "beec96b0",
   "metadata": {},
   "outputs": [],
   "source": [
    "   #加载模型\n",
    "RFrf=joblib.load('rf_arrhthymia.model')\n",
    "   #应用模型进行预测\n",
    "rfresult=RFrf.score(X1_test,y1_test)"
   ]
  },
  {
   "cell_type": "code",
   "execution_count": 32,
   "id": "137cbc05",
   "metadata": {},
   "outputs": [
    {
     "data": {
      "text/plain": [
       "0.7613636363636364"
      ]
     },
     "execution_count": 32,
     "metadata": {},
     "output_type": "execute_result"
    }
   ],
   "source": [
    "rfresult"
   ]
  },
  {
   "cell_type": "markdown",
   "id": "31c4f1ed",
   "metadata": {},
   "source": [
    "## ANN"
   ]
  },
  {
   "cell_type": "code",
   "execution_count": 33,
   "id": "7a850ad3",
   "metadata": {},
   "outputs": [],
   "source": [
    "arr=pd.read_csv('Arrhthymia selected 28 features.csv')\n",
    "df1=arr.copy()"
   ]
  },
  {
   "cell_type": "code",
   "execution_count": 34,
   "id": "3b6188d8",
   "metadata": {},
   "outputs": [],
   "source": [
    "X11=df1.drop(labels=['label'],axis=1)\n",
    "#stanardilization\n",
    "\n",
    "scaler=StandardScaler()\n",
    "scaler.fit(X11)\n",
    "X11=scaler.transform(X11)\n",
    "y11=df1['label'].values\n",
    "X11_train, X11_test, y11_train, y11_test =train_test_split(X11, y11,test_size=0.20, random_state=0, stratify=y11)"
   ]
  },
  {
   "cell_type": "code",
   "execution_count": 35,
   "id": "dbae24a1",
   "metadata": {},
   "outputs": [],
   "source": [
    "X11_train = torch.from_numpy(X11_train)\n",
    "y11_train = torch.from_numpy(y11_train ).type(torch.LongTensor)\n",
    "\n",
    "X11_test  = torch.from_numpy(X11_test )\n",
    "y11_test= torch.from_numpy(y11_test).type(torch.LongTensor)\n",
    "\n",
    "batch_size = 128\n",
    "\n",
    "train = torch.utils.data.TensorDataset(X11_train, y11_train )\n",
    "test = torch.utils.data.TensorDataset(X11_test , y11_test)\n",
    "\n",
    "\n",
    "train_loader = torch.utils.data.DataLoader(train, batch_size=batch_size, shuffle=True)\n",
    "test_loader = torch.utils.data.DataLoader(test, batch_size=batch_size, shuffle=True)\n",
    "\n",
    "\n"
   ]
  },
  {
   "cell_type": "code",
   "execution_count": 36,
   "id": "2a867cf2",
   "metadata": {},
   "outputs": [],
   "source": [
    "class ANNModel(nn.Module):\n",
    "    def __init__(self, input_dim, hidden_dim1,hidden_dim2, output_dim):\n",
    "        super(ANNModel, self).__init__()\n",
    "\n",
    "        self.fc1 = nn.Linear(input_dim, hidden_dim1)\n",
    "        self.relu1 = nn.ReLU() \n",
    "        \n",
    "        self.fc2 = nn.Linear(hidden_dim1, hidden_dim2)\n",
    "        self.relu2 = nn.ReLU()\n",
    "        \n",
    "        self.fc3 = nn.Linear(hidden_dim2, output_dim)\n",
    "        \n",
    "        \n",
    "    def forward(self, x):\n",
    "        out = self.fc1(x)\n",
    "        out = self.relu1(out)\n",
    "        out = self.fc2(out)\n",
    "        out = self.relu2(out)\n",
    "        out = self.fc3(out)\n",
    "        return out\n"
   ]
  },
  {
   "cell_type": "code",
   "execution_count": 37,
   "id": "25d3e557",
   "metadata": {},
   "outputs": [],
   "source": [
    "epochs =30\n",
    "\n",
    "device = torch.device(\"cuda:0\" if torch.cuda.is_available() else \"cpu\")\n",
    "input_dim = X1.shape[1]\n",
    "hidden_dim1 = 40 #hidden layer1\n",
    "hidden_dim2 = 128 #hidden layer2 \n",
    "output_dim = len(set(y1))"
   ]
  },
  {
   "cell_type": "code",
   "execution_count": 38,
   "id": "1521dfbb",
   "metadata": {},
   "outputs": [],
   "source": [
    "model = ANNModel(input_dim, hidden_dim1,hidden_dim2,output_dim)\n",
    "\n",
    "\n",
    "learning_rate = 0.0097\n",
    "optimizer = torch.optim.RMSprop(model.parameters(), lr = learning_rate)\n",
    "criterion = nn.CrossEntropyLoss()\n"
   ]
  },
  {
   "cell_type": "code",
   "execution_count": 39,
   "id": "176bed27",
   "metadata": {},
   "outputs": [
    {
     "name": "stdout",
     "output_type": "stream",
     "text": [
      "[sklearn_metrics] Epoch:0 loss:2.1673 accuracy:0.1797 precision:0.1797 recall:0.1797 f1:0.1797\n",
      "[sklearn_metrics] Epoch:0 loss:9.7689 accuracy:0.3672 precision:0.3672 recall:0.3672 f1:0.3672\n",
      "[sklearn_metrics] Epoch:0 loss:12.3275 accuracy:0.3143 precision:0.3143 recall:0.3143 f1:0.3143\n",
      "[sklearn_metrics] Epoch:1 loss:1.9341 accuracy:0.1562 precision:0.1562 recall:0.1562 f1:0.1562\n",
      "[sklearn_metrics] Epoch:1 loss:3.5017 accuracy:0.3867 precision:0.3867 recall:0.3867 f1:0.3867\n",
      "[sklearn_metrics] Epoch:1 loss:4.9143 accuracy:0.4657 precision:0.4657 recall:0.4657 f1:0.4657\n",
      "[sklearn_metrics] Epoch:2 loss:1.4231 accuracy:0.5469 precision:0.5469 recall:0.5469 f1:0.5469\n",
      "[sklearn_metrics] Epoch:2 loss:2.4834 accuracy:0.6406 precision:0.6406 recall:0.6406 f1:0.6406\n",
      "[sklearn_metrics] Epoch:2 loss:3.7005 accuracy:0.6543 precision:0.6543 recall:0.6543 f1:0.6543\n",
      "[sklearn_metrics] Epoch:3 loss:0.9505 accuracy:0.7109 precision:0.7109 recall:0.7109 f1:0.7109\n",
      "[sklearn_metrics] Epoch:3 loss:1.6624 accuracy:0.7305 precision:0.7305 recall:0.7305 f1:0.7305\n",
      "[sklearn_metrics] Epoch:3 loss:2.5276 accuracy:0.7400 precision:0.7400 recall:0.7400 f1:0.7400\n",
      "[sklearn_metrics] Epoch:4 loss:0.6960 accuracy:0.7812 precision:0.7812 recall:0.7812 f1:0.7812\n",
      "[sklearn_metrics] Epoch:4 loss:1.4839 accuracy:0.7539 precision:0.7539 recall:0.7539 f1:0.7539\n",
      "[sklearn_metrics] Epoch:4 loss:2.0749 accuracy:0.7714 precision:0.7714 recall:0.7714 f1:0.7714\n",
      "[sklearn_metrics] Epoch:5 loss:0.6126 accuracy:0.7891 precision:0.7891 recall:0.7891 f1:0.7891\n",
      "[sklearn_metrics] Epoch:5 loss:1.2441 accuracy:0.7969 precision:0.7969 recall:0.7969 f1:0.7969\n",
      "[sklearn_metrics] Epoch:5 loss:2.0160 accuracy:0.7657 precision:0.7657 recall:0.7657 f1:0.7657\n",
      "[sklearn_metrics] Epoch:6 loss:0.9393 accuracy:0.7109 precision:0.7109 recall:0.7109 f1:0.7109\n",
      "[sklearn_metrics] Epoch:6 loss:1.7310 accuracy:0.7188 precision:0.7188 recall:0.7188 f1:0.7188\n",
      "[sklearn_metrics] Epoch:6 loss:2.3202 accuracy:0.7457 precision:0.7457 recall:0.7457 f1:0.7457\n",
      "[sklearn_metrics] Epoch:7 loss:0.4351 accuracy:0.8828 precision:0.8828 recall:0.8828 f1:0.8828\n",
      "[sklearn_metrics] Epoch:7 loss:0.8876 accuracy:0.8672 precision:0.8672 recall:0.8672 f1:0.8672\n",
      "[sklearn_metrics] Epoch:7 loss:1.3966 accuracy:0.8629 precision:0.8629 recall:0.8629 f1:0.8629\n",
      "[sklearn_metrics] Epoch:8 loss:0.3923 accuracy:0.8906 precision:0.8906 recall:0.8906 f1:0.8906\n",
      "[sklearn_metrics] Epoch:8 loss:0.7850 accuracy:0.8906 precision:0.8906 recall:0.8906 f1:0.8906\n",
      "[sklearn_metrics] Epoch:8 loss:1.1898 accuracy:0.8886 precision:0.8886 recall:0.8886 f1:0.8886\n",
      "[sklearn_metrics] Epoch:9 loss:0.3785 accuracy:0.8984 precision:0.8984 recall:0.8984 f1:0.8984\n",
      "[sklearn_metrics] Epoch:9 loss:0.8211 accuracy:0.8711 precision:0.8711 recall:0.8711 f1:0.8711\n",
      "[sklearn_metrics] Epoch:9 loss:1.1595 accuracy:0.8743 precision:0.8743 recall:0.8743 f1:0.8743\n",
      "[sklearn_metrics] Epoch:10 loss:0.3263 accuracy:0.9141 precision:0.9141 recall:0.9141 f1:0.9141\n",
      "[sklearn_metrics] Epoch:10 loss:0.6563 accuracy:0.9141 precision:0.9141 recall:0.9141 f1:0.9141\n",
      "[sklearn_metrics] Epoch:10 loss:1.0511 accuracy:0.9057 precision:0.9057 recall:0.9057 f1:0.9057\n",
      "[sklearn_metrics] Epoch:11 loss:0.5720 accuracy:0.8281 precision:0.8281 recall:0.8281 f1:0.8281\n",
      "[sklearn_metrics] Epoch:11 loss:0.8918 accuracy:0.8711 precision:0.8711 recall:0.8711 f1:0.8711\n",
      "[sklearn_metrics] Epoch:11 loss:1.1754 accuracy:0.8743 precision:0.8743 recall:0.8743 f1:0.8743\n",
      "[sklearn_metrics] Epoch:12 loss:0.1844 accuracy:0.9531 precision:0.9531 recall:0.9531 f1:0.9531\n",
      "[sklearn_metrics] Epoch:12 loss:0.4477 accuracy:0.9336 precision:0.9336 recall:0.9336 f1:0.9336\n",
      "[sklearn_metrics] Epoch:12 loss:0.7652 accuracy:0.9257 precision:0.9257 recall:0.9257 f1:0.9257\n",
      "[sklearn_metrics] Epoch:13 loss:0.2693 accuracy:0.9141 precision:0.9141 recall:0.9141 f1:0.9141\n",
      "[sklearn_metrics] Epoch:13 loss:0.4778 accuracy:0.9297 precision:0.9297 recall:0.9297 f1:0.9297\n",
      "[sklearn_metrics] Epoch:13 loss:0.7211 accuracy:0.9314 precision:0.9314 recall:0.9314 f1:0.9314\n",
      "[sklearn_metrics] Epoch:14 loss:0.2045 accuracy:0.9609 precision:0.9609 recall:0.9609 f1:0.9609\n",
      "[sklearn_metrics] Epoch:14 loss:0.4450 accuracy:0.9336 precision:0.9336 recall:0.9336 f1:0.9336\n",
      "[sklearn_metrics] Epoch:14 loss:0.6477 accuracy:0.9371 precision:0.9371 recall:0.9371 f1:0.9371\n",
      "[sklearn_metrics] Epoch:15 loss:0.1995 accuracy:0.9453 precision:0.9453 recall:0.9453 f1:0.9453\n",
      "[sklearn_metrics] Epoch:15 loss:0.3089 accuracy:0.9609 precision:0.9609 recall:0.9609 f1:0.9609\n",
      "[sklearn_metrics] Epoch:15 loss:0.5676 accuracy:0.9514 precision:0.9514 recall:0.9514 f1:0.9514\n",
      "[sklearn_metrics] Epoch:16 loss:0.1717 accuracy:0.9766 precision:0.9766 recall:0.9766 f1:0.9766\n",
      "[sklearn_metrics] Epoch:16 loss:0.3481 accuracy:0.9688 precision:0.9688 recall:0.9688 f1:0.9688\n",
      "[sklearn_metrics] Epoch:16 loss:0.4836 accuracy:0.9657 precision:0.9657 recall:0.9657 f1:0.9657\n",
      "[sklearn_metrics] Epoch:17 loss:0.1545 accuracy:0.9531 precision:0.9531 recall:0.9531 f1:0.9531\n",
      "[sklearn_metrics] Epoch:17 loss:0.2726 accuracy:0.9648 precision:0.9648 recall:0.9648 f1:0.9648\n",
      "[sklearn_metrics] Epoch:17 loss:0.4018 accuracy:0.9629 precision:0.9629 recall:0.9629 f1:0.9629\n",
      "[sklearn_metrics] Epoch:18 loss:0.1123 accuracy:0.9766 precision:0.9766 recall:0.9766 f1:0.9766\n",
      "[sklearn_metrics] Epoch:18 loss:0.2598 accuracy:0.9727 precision:0.9727 recall:0.9727 f1:0.9727\n",
      "[sklearn_metrics] Epoch:18 loss:0.3596 accuracy:0.9800 precision:0.9800 recall:0.9800 f1:0.9800\n",
      "[sklearn_metrics] Epoch:19 loss:0.1469 accuracy:0.9531 precision:0.9531 recall:0.9531 f1:0.9531\n",
      "[sklearn_metrics] Epoch:19 loss:0.2408 accuracy:0.9688 precision:0.9688 recall:0.9688 f1:0.9688\n",
      "[sklearn_metrics] Epoch:19 loss:0.3437 accuracy:0.9743 precision:0.9743 recall:0.9743 f1:0.9743\n",
      "[sklearn_metrics] Epoch:20 loss:0.1133 accuracy:0.9609 precision:0.9609 recall:0.9609 f1:0.9609\n",
      "[sklearn_metrics] Epoch:20 loss:0.2215 accuracy:0.9648 precision:0.9648 recall:0.9648 f1:0.9648\n",
      "[sklearn_metrics] Epoch:20 loss:0.3025 accuracy:0.9714 precision:0.9714 recall:0.9714 f1:0.9714\n",
      "[sklearn_metrics] Epoch:21 loss:0.0732 accuracy:0.9766 precision:0.9766 recall:0.9766 f1:0.9766\n",
      "[sklearn_metrics] Epoch:21 loss:0.1480 accuracy:0.9805 precision:0.9805 recall:0.9805 f1:0.9805\n",
      "[sklearn_metrics] Epoch:21 loss:0.2262 accuracy:0.9829 precision:0.9829 recall:0.9829 f1:0.9829\n",
      "[sklearn_metrics] Epoch:22 loss:0.0493 accuracy:1.0000 precision:1.0000 recall:1.0000 f1:1.0000\n",
      "[sklearn_metrics] Epoch:22 loss:0.1174 accuracy:0.9961 precision:0.9961 recall:0.9961 f1:0.9961\n",
      "[sklearn_metrics] Epoch:22 loss:0.1959 accuracy:0.9943 precision:0.9943 recall:0.9943 f1:0.9943\n",
      "[sklearn_metrics] Epoch:23 loss:0.0494 accuracy:0.9844 precision:0.9844 recall:0.9844 f1:0.9844\n",
      "[sklearn_metrics] Epoch:23 loss:0.1078 accuracy:0.9883 precision:0.9883 recall:0.9883 f1:0.9883\n",
      "[sklearn_metrics] Epoch:23 loss:0.1708 accuracy:0.9857 precision:0.9857 recall:0.9857 f1:0.9857\n",
      "[sklearn_metrics] Epoch:24 loss:0.0506 accuracy:1.0000 precision:1.0000 recall:1.0000 f1:1.0000\n",
      "[sklearn_metrics] Epoch:24 loss:0.0975 accuracy:0.9961 precision:0.9961 recall:0.9961 f1:0.9961\n",
      "[sklearn_metrics] Epoch:24 loss:0.1467 accuracy:0.9943 precision:0.9943 recall:0.9943 f1:0.9943\n",
      "[sklearn_metrics] Epoch:25 loss:0.0382 accuracy:1.0000 precision:1.0000 recall:1.0000 f1:1.0000\n",
      "[sklearn_metrics] Epoch:25 loss:0.0763 accuracy:1.0000 precision:1.0000 recall:1.0000 f1:1.0000\n",
      "[sklearn_metrics] Epoch:25 loss:0.1280 accuracy:0.9971 precision:0.9971 recall:0.9971 f1:0.9971\n",
      "[sklearn_metrics] Epoch:26 loss:0.0391 accuracy:1.0000 precision:1.0000 recall:1.0000 f1:1.0000\n",
      "[sklearn_metrics] Epoch:26 loss:0.0763 accuracy:0.9961 precision:0.9961 recall:0.9961 f1:0.9961\n",
      "[sklearn_metrics] Epoch:26 loss:0.1064 accuracy:0.9971 precision:0.9971 recall:0.9971 f1:0.9971\n",
      "[sklearn_metrics] Epoch:27 loss:0.0269 accuracy:1.0000 precision:1.0000 recall:1.0000 f1:1.0000\n",
      "[sklearn_metrics] Epoch:27 loss:0.0542 accuracy:1.0000 precision:1.0000 recall:1.0000 f1:1.0000\n",
      "[sklearn_metrics] Epoch:27 loss:0.0832 accuracy:1.0000 precision:1.0000 recall:1.0000 f1:1.0000\n",
      "[sklearn_metrics] Epoch:28 loss:0.0207 accuracy:1.0000 precision:1.0000 recall:1.0000 f1:1.0000\n",
      "[sklearn_metrics] Epoch:28 loss:0.0471 accuracy:1.0000 precision:1.0000 recall:1.0000 f1:1.0000\n",
      "[sklearn_metrics] Epoch:28 loss:0.0775 accuracy:1.0000 precision:1.0000 recall:1.0000 f1:1.0000\n",
      "[sklearn_metrics] Epoch:29 loss:0.0274 accuracy:1.0000 precision:1.0000 recall:1.0000 f1:1.0000\n",
      "[sklearn_metrics] Epoch:29 loss:0.0460 accuracy:1.0000 precision:1.0000 recall:1.0000 f1:1.0000\n",
      "[sklearn_metrics] Epoch:29 loss:0.0741 accuracy:1.0000 precision:1.0000 recall:1.0000 f1:1.0000\n",
      "0.4577\n",
      "              precision    recall  f1-score   support\n",
      "\n",
      "           0       0.77      0.90      0.83        49\n",
      "           1       0.56      0.56      0.56         9\n",
      "           2       0.75      1.00      0.86         3\n",
      "           3       0.50      0.33      0.40         3\n",
      "           4       0.50      0.67      0.57         3\n",
      "           5       0.67      0.40      0.50         5\n",
      "           6       1.00      1.00      1.00         2\n",
      "           7       0.67      0.40      0.50        10\n",
      "           8       0.00      0.00      0.00         4\n",
      "\n",
      "    accuracy                           0.72        88\n",
      "   macro avg       0.60      0.58      0.58        88\n",
      "weighted avg       0.68      0.72      0.69        88\n",
      "\n",
      "[[44  2  0  0  1  1  0  0  1]\n",
      " [ 2  5  1  0  0  0  0  1  0]\n",
      " [ 0  0  3  0  0  0  0  0  0]\n",
      " [ 1  1  0  1  0  0  0  0  0]\n",
      " [ 0  0  0  0  2  0  0  1  0]\n",
      " [ 3  0  0  0  0  2  0  0  0]\n",
      " [ 0  0  0  0  0  0  2  0  0]\n",
      " [ 4  0  0  1  1  0  0  4  0]\n",
      " [ 3  1  0  0  0  0  0  0  0]]\n",
      "[sklearn_metrics] accuracy:0.7159 precision:0.7159 recall:0.7159 f1:0.7159\n"
     ]
    }
   ],
   "source": [
    "start=datetime.now()\n",
    "total_step = len(train_loader)\n",
    "model.train()\n",
    "for epoch in range(epochs):\n",
    "    tot_loss = 0.0\n",
    "    tot_acc = 0.0\n",
    "    train_preds = []\n",
    "    train_trues = []\n",
    "  # model.train()\n",
    "    for i,(train_data_batch, train_label_batch) in enumerate(train_loader):\n",
    "        train_data_batch = train_data_batch.float().to(device) # 将double数据转换为float\n",
    "        train_label_batch = train_label_batch.to(device)\n",
    "        outputs = model(train_data_batch)\n",
    "        # _, preds = torch.max(outputs.data, 1)\n",
    "        loss = criterion(outputs, train_label_batch)\n",
    "        # print(loss)\n",
    "        #反向传播优化网络参数\n",
    "        loss.backward()\n",
    "        optimizer.step()\n",
    "        optimizer.zero_grad()\n",
    "        #累加每个step的损失\n",
    "        tot_loss += loss.data\n",
    "        train_outputs = outputs.argmax(dim=1)\n",
    "        train_preds.extend(train_outputs.detach().cpu().numpy())\n",
    "        train_trues.extend(train_label_batch.detach().cpu().numpy())\n",
    "        # tot_acc += (outputs.argmax(dim=1) == train_label_batch).sum().item()\n",
    "        sklearn_accuracy = accuracy_score(train_trues, train_preds)\n",
    "        sklearn_precision = precision_score(train_trues, train_preds, average='micro')\n",
    "        sklearn_recall = recall_score(train_trues, train_preds, average='micro')\n",
    "        sklearn_f1 = f1_score(train_trues, train_preds, average='micro')\n",
    "        print(\"[sklearn_metrics] Epoch:{} loss:{:.4f} accuracy:{:.4f} precision:{:.4f} recall:{:.4f} f1:{:.4f}\".format(epoch, tot_loss, sklearn_accuracy, sklearn_precision, sklearn_recall, sklearn_f1))\n",
    "stop=datetime.now()\n",
    "execution_time_ann=(stop-start)\n",
    "training_time_ann='%.4f'%(execution_time_ann).total_seconds()\n",
    "print(training_time_ann)\n",
    "        \n",
    "test_preds = []\n",
    "test_trues = []\n",
    "model.eval()\n",
    "with torch.no_grad():\n",
    "    for i,(test_data_batch, test_data_label) in enumerate(test_loader):\n",
    "        test_data_batch = test_data_batch.float().to(device) # 将double数据转换为float\n",
    "        test_data_label = test_data_label.to(device)\n",
    "        test_outputs = model(test_data_batch)\n",
    "        probs = F.softmax(test_outputs, dim=1) \n",
    "        test_outputs = test_outputs.argmax(dim=1)\n",
    "        testloss = criterion(probs, test_data_label)\n",
    "#         preds = torch.argmax(logits, dim=1)\n",
    "        test_preds.extend(test_outputs.detach().cpu().numpy())\n",
    "        test_trues.extend(test_data_label.detach().cpu().numpy())\n",
    "        sklearn_accuracy = accuracy_score(test_trues, test_preds)\n",
    "        sklearn_precision = precision_score(test_trues, test_preds, average='micro')\n",
    "        sklearn_recall = recall_score(test_trues, test_preds, average='micro')\n",
    "        sklearn_f1 = f1_score(test_trues, test_preds, average='micro')\n",
    "        print(classification_report(test_trues, test_preds))\n",
    "        conf_matrix = confusion_matrix(test_trues, test_preds)\n",
    "        print(conf_matrix)\n",
    "#         plot_confusion_matrix(conf_matrix)\n",
    "        print(\"[sklearn_metrics] accuracy:{:.4f} precision:{:.4f} recall:{:.4f} f1:{:.4f}\".format(sklearn_accuracy, sklearn_precision, sklearn_recall, sklearn_f1))"
   ]
  },
  {
   "cell_type": "code",
   "execution_count": 40,
   "id": "81268a53",
   "metadata": {},
   "outputs": [
    {
     "data": {
      "image/png": "[encoded data removed]",
      "text/plain": [
       "<Figure size 432x288 with 2 Axes>"
      ]
     },
     "metadata": {
      "needs_background": "light"
     },
     "output_type": "display_data"
    }
   ],
   "source": [
    "ConfusionMatrixDisplay.from_predictions(test_trues, test_preds)\n",
    "\n",
    "plt.show()"
   ]
  },
  {
   "cell_type": "code",
   "execution_count": 41,
   "id": "18b942e9",
   "metadata": {},
   "outputs": [
    {
     "name": "stdout",
     "output_type": "stream",
     "text": [
      "              precision    recall  f1-score   support\n",
      "\n",
      "           0       0.77      0.90      0.83        49\n",
      "           1       0.56      0.56      0.56         9\n",
      "           2       0.75      1.00      0.86         3\n",
      "           3       0.50      0.33      0.40         3\n",
      "           4       0.50      0.67      0.57         3\n",
      "           5       0.67      0.40      0.50         5\n",
      "           6       1.00      1.00      1.00         2\n",
      "           7       0.67      0.40      0.50        10\n",
      "           8       0.00      0.00      0.00         4\n",
      "\n",
      "    accuracy                           0.72        88\n",
      "   macro avg       0.60      0.58      0.58        88\n",
      "weighted avg       0.68      0.72      0.69        88\n",
      "\n"
     ]
    }
   ],
   "source": [
    "print(classification_report(test_trues, test_preds,zero_division=1))"
   ]
  },
  {
   "cell_type": "code",
   "execution_count": 42,
   "id": "31321391",
   "metadata": {},
   "outputs": [
    {
     "name": "stdout",
     "output_type": "stream",
     "text": [
      "0.7159090909090909\n"
     ]
    }
   ],
   "source": [
    "print(accuracy_score(test_trues, test_preds))"
   ]
  },
  {
   "cell_type": "code",
   "execution_count": 43,
   "id": "905c3ec3",
   "metadata": {},
   "outputs": [
    {
     "data": {
      "text/plain": [
       "<AxesSubplot:>"
      ]
     },
     "execution_count": 43,
     "metadata": {},
     "output_type": "execute_result"
    },
    {
     "data": {
      "image/png": "[encoded data removed]",
      "text/plain": [
       "<Figure size 432x288 with 2 Axes>"
      ]
     },
     "metadata": {
      "needs_background": "light"
     },
     "output_type": "display_data"
    }
   ],
   "source": [
    "confusion_matrix_df = pd.DataFrame(confusion_matrix(test_trues, test_preds))\n",
    "\n",
    "sns.heatmap(confusion_matrix_df, annot=True)"
   ]
  },
  {
   "cell_type": "code",
   "execution_count": 44,
   "id": "1ebbdf6d",
   "metadata": {},
   "outputs": [
    {
     "data": {
      "text/plain": [
       "tensor(1.6746)"
      ]
     },
     "execution_count": 44,
     "metadata": {},
     "output_type": "execute_result"
    }
   ],
   "source": [
    "testloss"
   ]
  },
  {
   "cell_type": "code",
   "execution_count": 45,
   "id": "179a764b",
   "metadata": {},
   "outputs": [
    {
     "name": "stdout",
     "output_type": "stream",
     "text": [
      "AUC score is:  0.8799428666877454\n"
     ]
    }
   ],
   "source": [
    " print(\"AUC score is: \", roc_auc_score(test_trues,probs,multi_class='ovr',labels=np.unique(test_trues)))"
   ]
  },
  {
   "cell_type": "code",
   "execution_count": 46,
   "id": "575c3442",
   "metadata": {},
   "outputs": [
    {
     "name": "stdout",
     "output_type": "stream",
     "text": [
      "Loss score is:  1.8800901276384925\n"
     ]
    }
   ],
   "source": [
    " print(\"Loss score is: \", log_loss(test_trues,probs))"
   ]
  },
  {
   "cell_type": "code",
   "execution_count": 47,
   "id": "82ed0636",
   "metadata": {},
   "outputs": [
    {
     "data": {
      "text/plain": [
       "'0.4577'"
      ]
     },
     "execution_count": 47,
     "metadata": {},
     "output_type": "execute_result"
    }
   ],
   "source": [
    "training_time_ann"
   ]
  },
  {
   "cell_type": "code",
   "execution_count": 48,
   "id": "3bd22302",
   "metadata": {},
   "outputs": [],
   "source": [
    "ann_accuracy='%.4f'% accuracy_score(test_trues, test_preds)\n",
    "\n",
    "\n",
    "ann_f1='%.4f'% f1_score(test_trues, test_preds, average='micro')\n",
    "\n",
    "\n",
    "ann_roc_auc='%.4f'% roc_auc_score(test_trues,probs,multi_class='ovr',labels=np.unique(test_trues))\n"
   ]
  },
  {
   "cell_type": "code",
   "execution_count": 49,
   "id": "d8804be9",
   "metadata": {},
   "outputs": [],
   "source": [
    "ann_roc_auc='%.4f'% roc_auc_score(test_data_label,probs,multi_class='ovr',labels=np.unique(test_data_label))\n"
   ]
  },
  {
   "cell_type": "code",
   "execution_count": 50,
   "id": "b625db0d",
   "metadata": {},
   "outputs": [
    {
     "data": {
      "text/plain": [
       "'0.8799'"
      ]
     },
     "execution_count": 50,
     "metadata": {},
     "output_type": "execute_result"
    }
   ],
   "source": [
    "ann_roc_auc"
   ]
  },
  {
   "cell_type": "code",
   "execution_count": 51,
   "id": "2905f2dd",
   "metadata": {},
   "outputs": [],
   "source": [
    "ann_loss='%.4f'% testloss\n"
   ]
  },
  {
   "cell_type": "code",
   "execution_count": 52,
   "id": "b5f6fa91",
   "metadata": {},
   "outputs": [
    {
     "data": {
      "text/html": [
       "<div>\n",
       "<style scoped>\n",
       "    .dataframe tbody tr th:only-of-type {\n",
       "        vertical-align: middle;\n",
       "    }\n",
       "\n",
       "    .dataframe tbody tr th {\n",
       "        vertical-align: top;\n",
       "    }\n",
       "\n",
       "    .dataframe thead th {\n",
       "        text-align: right;\n",
       "    }\n",
       "</style>\n",
       "<table border=\"1\" class=\"dataframe\">\n",
       "  <thead>\n",
       "    <tr style=\"text-align: right;\">\n",
       "      <th></th>\n",
       "      <th>accuracy</th>\n",
       "      <th>f1_score</th>\n",
       "      <th>roc_auc</th>\n",
       "      <th>cross_entropy_loss</th>\n",
       "      <th>training_time[s]</th>\n",
       "    </tr>\n",
       "  </thead>\n",
       "  <tbody>\n",
       "    <tr>\n",
       "      <th>Light GBM</th>\n",
       "      <td>0.7955</td>\n",
       "      <td>0.7955</td>\n",
       "      <td>0.9217</td>\n",
       "      <td>0.7195</td>\n",
       "      <td>0.2428</td>\n",
       "    </tr>\n",
       "    <tr>\n",
       "      <th>SVM</th>\n",
       "      <td>0.7727</td>\n",
       "      <td>0.7727</td>\n",
       "      <td>0.9209</td>\n",
       "      <td>0.7466</td>\n",
       "      <td>0.0456</td>\n",
       "    </tr>\n",
       "    <tr>\n",
       "      <th>Random Forest</th>\n",
       "      <td>0.7614</td>\n",
       "      <td>0.7614</td>\n",
       "      <td>0.9353</td>\n",
       "      <td>0.7221</td>\n",
       "      <td>0.2601</td>\n",
       "    </tr>\n",
       "    <tr>\n",
       "      <th>PyTorch ANN</th>\n",
       "      <td>0.7159</td>\n",
       "      <td>0.7159</td>\n",
       "      <td>0.8799</td>\n",
       "      <td>1.6746</td>\n",
       "      <td>0.4577</td>\n",
       "    </tr>\n",
       "  </tbody>\n",
       "</table>\n",
       "</div>"
      ],
      "text/plain": [
       "              accuracy f1_score roc_auc cross_entropy_loss training_time[s]\n",
       "Light GBM       0.7955   0.7955  0.9217             0.7195           0.2428\n",
       "SVM             0.7727   0.7727  0.9209             0.7466           0.0456\n",
       "Random Forest   0.7614   0.7614  0.9353             0.7221           0.2601\n",
       "PyTorch ANN     0.7159   0.7159  0.8799             1.6746           0.4577"
      ]
     },
     "execution_count": 52,
     "metadata": {},
     "output_type": "execute_result"
    }
   ],
   "source": [
    "Arrdict = { \n",
    "              'accuracy':[lgbm_accuracy,svc_accuracy,rf_accuracy,ann_accuracy],\n",
    "               'f1_score': [lgbm_f1,svc_f1,rf_f1,ann_f1],\n",
    "               'roc_auc': [lgbm_roc_auc,svc_roc_auc,rf_roc_auc,ann_roc_auc],\n",
    "               'cross_entropy_loss': [lgbm_loss,svc_loss,rf_loss,ann_loss],\n",
    "                'training_time[s]':[training_time_lgbm,training_time_svm,training_time_rf,training_time_ann]\n",
    "               }\n",
    "pr_df_arr = pd.DataFrame(Arrdict,index=['Light GBM','SVM','Random Forest','PyTorch ANN'])\n",
    "pr_df_arr"
   ]
  },
  {
   "cell_type": "code",
   "execution_count": 54,
   "id": "cf547d0f",
   "metadata": {},
   "outputs": [],
   "source": [
    "pr_df_arr.to_csv('Arrhthymia Score.csv')"
   ]
  }
 ],
 "metadata": {
  "kernelspec": {
   "display_name": "Python 3 (ipykernel)",
   "language": "python",
   "name": "python3"
  },
  "language_info": {
   "codemirror_mode": {
    "name": "ipython",
    "version": 3
   },
   "file_extension": ".py",
   "mimetype": "text/x-python",
   "name": "python",
   "nbconvert_exporter": "python",
   "pygments_lexer": "ipython3",
   "version": "3.9.7"
  },
  "toc": {
   "base_numbering": 1,
   "nav_menu": {},
   "number_sections": true,
   "sideBar": true,
   "skip_h1_title": false,
   "title_cell": "Table of Contents",
   "title_sidebar": "Contents",
   "toc_cell": false,
   "toc_position": {},
   "toc_section_display": true,
   "toc_window_display": false
  }
 },
 "nbformat": 4,
 "nbformat_minor": 5
}

{
 "cells": [
  {
   "cell_type": "markdown",
   "id": "5e30e993",
   "metadata": {},
   "source": [
    "# Import the package"
   ]
  },
  {
   "cell_type": "code",
   "execution_count": 1,
   "id": "3a9cc4cf",
   "metadata": {},
   "outputs": [],
   "source": [
    "from datetime import datetime\n",
    "import lightgbm as lgb\n",
    "from lightgbm import LGBMClassifier\n",
    "from lightgbm import plot_importance\n",
    "import matplotlib.pyplot as plt\n",
    "from matplotlib import pyplot\n",
    "from matplotlib.pyplot import MultipleLocator\n",
    "%matplotlib inline\n",
    "import numpy as np\n",
    "from numpy import mean\n",
    "from numpy import std\n",
    "from numpy import sort\n",
    "import pandas as pd\n",
    "from pandas.core.frame import DataFrame\n",
    "from sklearn.svm import SVC\n",
    "from sklearn.decomposition import PCA\n",
    "from sklearn.ensemble import RandomForestClassifier as RFC\n",
    "from sklearn.feature_selection import SelectFromModel\n",
    "from sklearn import metrics\n",
    "from sklearn.metrics import f1_score  \n",
    "from sklearn.metrics import mean_absolute_error\n",
    "from sklearn.metrics import confusion_matrix,roc_curve,roc_auc_score,accuracy_score, plot_confusion_matrix,classification_report\n",
    "from sklearn.model_selection import cross_val_score\n",
    "from sklearn.model_selection import RepeatedStratifiedKFold\n",
    "from sklearn.model_selection import train_test_split\n",
    "from sklearn.preprocessing import LabelEncoder\n",
    "from sklearn.preprocessing import OneHotEncoder\n",
    "from sklearn.preprocessing import StandardScaler\n",
    "from sklearn.utils import class_weight\n",
    "from sklearn.metrics import log_loss\n",
    "import seaborn as sns\n",
    "from time import time\n",
    "import warnings\n",
    "warnings.filterwarnings(\"ignore\")\n",
    "from sklearn.model_selection import StratifiedKFold\n",
    "from skopt import BayesSearchCV\n",
    "from skopt.callbacks import DeadlineStopper,DeltaYStopper\n",
    "from skopt.space import Real,Categorical,Integer\n",
    "from sklearn.feature_selection import RFECV\n",
    "from sklearn.feature_selection import RFE\n",
    "import joblib"
   ]
  },
  {
   "cell_type": "markdown",
   "id": "60253755",
   "metadata": {},
   "source": [
    "# Read data from csv file"
   ]
  },
  {
   "cell_type": "code",
   "execution_count": 2,
   "id": "a28d6ae4",
   "metadata": {},
   "outputs": [],
   "source": [
    "arrhyData=pd.read_csv('Arrhythmia cleaned data.csv')\n",
    "\n",
    "arrFilled01=arrhyData.copy()\n",
    "\n",
    "X=arrFilled01.drop(labels=['label'],axis=1)\n",
    "\n",
    "y=arrFilled01['label'].values\n",
    "\n",
    "#stanardilization\n",
    "\n",
    "scaler=StandardScaler()\n",
    "scaler.fit(X)\n",
    "X=scaler.transform(X)\n",
    "#split train dataset and test dataset\n",
    "X_train, X_test,y_train,y_test= train_test_split(X,y,test_size=0.2, shuffle = True,stratify=y,random_state=42)"
   ]
  },
  {
   "cell_type": "markdown",
   "id": "26d6f1a3",
   "metadata": {},
   "source": [
    "# LGBM Feature Selection"
   ]
  },
  {
   "cell_type": "markdown",
   "id": "942406df",
   "metadata": {},
   "source": [
    "## 1st BayesSearchCV Optimization with LGBM + Initial data"
   ]
  },
  {
   "cell_type": "code",
   "execution_count": 3,
   "id": "d0c028a0",
   "metadata": {},
   "outputs": [
    {
     "name": "stdout",
     "output_type": "stream",
     "text": [
      "cross validation loss at trainingset: -0.7990169150151226\n",
      "gbm at testset accuracy: 0.75\n",
      "loss at testset mannually calculated : 0.8244978254648604\n"
     ]
    }
   ],
   "source": [
    "gbm =LGBMClassifier(boosting_type='gbdt',objective ='multiclass',max_depth=4, num_leaves=300,\n",
    "                                learning_rate=0.01,n_estimators=150)\n",
    "\n",
    "score =cross_val_score(gbm, X_train, y_train, cv=5,scoring='neg_log_loss').mean()\n",
    "print('cross validation loss at trainingset:',score) \n",
    "\n",
    "gbm.fit(X_train, y_train)\n",
    "prob_gbm=gbm.predict_proba(X_test)\n",
    "loss_gbm=log_loss(y_test,prob_gbm)\n",
    "print('gbm at testset accuracy:',gbm.score(X_test,y_test)) \n",
    "print('loss at testset mannually calculated :',loss_gbm)     "
   ]
  },
  {
   "cell_type": "code",
   "execution_count": 4,
   "id": "ad52dc1a",
   "metadata": {},
   "outputs": [
    {
     "name": "stdout",
     "output_type": "stream",
     "text": [
      "0:02:42.959259\n"
     ]
    }
   ],
   "source": [
    "start=datetime.now()\n",
    "\n",
    "BayerLgbmopt = BayesSearchCV(\n",
    "     gbm,\n",
    "     {         \n",
    "        'learning_rate': (0.005,0.01,0.015,0.02), \n",
    "        'n_estimators': (100,300), \n",
    "  \n",
    "        'max_depth': (3,8), \n",
    "        'num_leaves':(8, 170),\n",
    "         \n",
    "        'subsample': (0.5,0.8), \n",
    "        'colsample_bytree': (0.5,0.8)\n",
    "       \n",
    "    } ,\n",
    "     n_iter=50\n",
    "    ,cv=5\n",
    "    ,scoring=\"neg_log_loss\"\n",
    "    ,random_state=42\n",
    "    ,n_points=2\n",
    ")\n",
    "BayerLgbmopt.fit(X_train, y_train)\n",
    "\n",
    "stop=datetime.now()\n",
    "execution_time_lgbm0=(stop-start)\n",
    "print(execution_time_lgbm0)"
   ]
  },
  {
   "cell_type": "code",
   "execution_count": 5,
   "id": "74e8741d",
   "metadata": {},
   "outputs": [
    {
     "name": "stdout",
     "output_type": "stream",
     "text": [
      "Best parameters found by Bayes search are: OrderedDict([('colsample_bytree', 0.8), ('learning_rate', 0.01), ('max_depth', 3), ('n_estimators', 239), ('num_leaves', 170), ('subsample', 0.6450484608924866)])\n",
      "val. score: -0.780576059472571\n",
      "test score: -0.8141692618604046\n"
     ]
    }
   ],
   "source": [
    "print('Best parameters found by Bayes search are:', BayerLgbmopt.best_params_)\n",
    "print(\"val. score: %s\" % BayerLgbmopt.best_score_)\n",
    "print(\"test score: %s\" % BayerLgbmopt.score(X_test, y_test))"
   ]
  },
  {
   "cell_type": "code",
   "execution_count": 6,
   "id": "7428b692",
   "metadata": {},
   "outputs": [],
   "source": [
    "lgbm=LGBMClassifier(boosting_type='gbdt',objective ='multiclass',\n",
    "                                 max_depth=3, num_leaves=170,\n",
    "                                learning_rate=0.01,n_estimators=239,\n",
    "                                colsample_bytree= 0.8,subsample= 0.6450)"
   ]
  },
  {
   "cell_type": "markdown",
   "id": "69737247",
   "metadata": {},
   "source": [
    "## RFE Ploting with LGBM  "
   ]
  },
  {
   "cell_type": "code",
   "execution_count": 64,
   "id": "68055694",
   "metadata": {},
   "outputs": [],
   "source": [
    "# RFECV try the best number of features"
   ]
  },
  {
   "cell_type": "code",
   "execution_count": 116,
   "id": "3a1f73ab",
   "metadata": {},
   "outputs": [
    {
     "name": "stdout",
     "output_type": "stream",
     "text": [
      "-0.7537455922722048\n",
      "The best numbers and rank\n",
      "[ True False  True  True  True  True  True  True  True False  True  True\n",
      "  True  True False  True  True False False  True False False False False\n",
      " False False False  True  True False False False False False False False\n",
      " False False  True  True False False False  True False False False False\n",
      " False False  True  True False False False  True False False False False\n",
      " False False  True  True  True False False  True False False False False\n",
      " False False False  True False False False  True False False False False\n",
      " False False  True  True  True  True False  True False False False False\n",
      " False False  True False  True  True False  True False False False False\n",
      " False False  True  True  True False False False False False False False\n",
      " False False  True  True  True False False  True False False False False\n",
      " False False False  True  True False False  True False False False False\n",
      " False False  True  True False False False False False False False False\n",
      " False False  True False  True  True False False  True  True  True  True\n",
      "  True  True  True  True False False  True  True  True  True  True  True\n",
      "  True False False False  True  True False False  True  True  True  True\n",
      " False False  True  True  True  True  True False  True  True False False\n",
      "  True  True  True  True  True  True  True  True False False  True  True\n",
      "  True  True  True False  True  True  True False  True  True  True  True\n",
      "  True  True  True  True  True False  True  True  True  True  True  True\n",
      "  True  True False False  True  True  True  True  True  True  True  True\n",
      " False False  True  True  True  True  True False  True  True False False\n",
      "  True  True  True  True  True False  True  True False False  True  True\n",
      "  True  True]\n",
      "140\n",
      "[  1  18   1   1   1   1   1   1   1  30   1   1   1   1  14   1   1  45\n",
      "  40   1  36  35  38  47  56  55  15   1   1  62  52  11  67  29  46  72\n",
      "  76  75   1   1   5  20  65   1  99  93 113  95  33  32   1   1  77 109\n",
      " 110   1 118 105 107 104  49  59   1   1   1 120  64   1  34  37  43  69\n",
      "  71  68  19   1   8  89  24   1  53 121 123 125 127  54   1   1   1   1\n",
      " 115   1  80  82  83  81  79  86   1   7   1   1 103   1 129 131 133 134\n",
      " 136 138   1   1   1  97  61   3  66 112 111  42  31  25   1   1   1 101\n",
      "  87   1  73  74  44  51  39  50  17   1   1 114 139   1 132 130 128 126\n",
      " 124 122   1   1   2 108 106  10 102 100  98  96  94  92   1  16   1   1\n",
      "  70  91   1   1   1   1   1   1   1   1  63  48   1   1   1   1   1   1\n",
      "   1   9  85  57   1   1  13   4   1   1   1   1  60  22   1   1   1   1\n",
      "   1  12   1   1  78  21   1   1   1   1   1   1   1   1  41  27   1   1\n",
      "   1   1   1 135   1   1   1  90   1   1   1   1   1   1   1   1   1 117\n",
      "   1   1   1   1   1   1   1   1 119 116   1   1   1   1   1   1   1   1\n",
      " 137  28   1   1   1   1   1  84   1   1  88  58   1   1   1   1   1   6\n",
      "   1   1  23  26   1   1   1   1]\n",
      "0:10:13.628641\n"
     ]
    }
   ],
   "source": [
    "start=datetime.now()\n",
    "selector = RFECV(lgbm, step=1, cv=5)      \n",
    "selector = selector.fit(X, y)\n",
    "X_wrapper = selector.transform(X)          # Best features\n",
    "score =cross_val_score(lgbm , X_wrapper, y, cv=5,scoring='neg_log_loss').mean()   # Optimal feature classification results\n",
    "print(score)\n",
    "print(\"The best numbers and rank\")\n",
    "print(selector.support_)                                    # selected result\n",
    "print(selector.n_features_)                                 # the number of selected features\n",
    "print(selector.ranking_)   \n",
    "\n",
    "stop=datetime.now()\n",
    "execution_time_lgbm=(stop-start)\n",
    "print(execution_time_lgbm)"
   ]
  },
  {
   "cell_type": "code",
   "execution_count": 65,
   "id": "03edcf19",
   "metadata": {},
   "outputs": [],
   "source": [
    "# RFE plotting"
   ]
  },
  {
   "cell_type": "code",
   "execution_count": 8,
   "id": "f39f9903",
   "metadata": {},
   "outputs": [
    {
     "name": "stdout",
     "output_type": "stream",
     "text": [
      "[1.4493588796769956, 1.3407965358978429, 1.1190945291765453, 1.0050690481678335, 0.875724305622518, 0.8330600823319069, 0.8378760750349038, 0.8346541785030809, 0.8072343899785712, 0.809026165277588, 0.8114024225458939, 0.7915733182479853, 0.7914313031576441, 0.7943352190850771, 0.7798042335241636, 0.7807148503384651, 0.7903131809568513, 0.7833185418667664, 0.7476596210893335, 0.7229908034530832, 0.7243298991377521, 0.7298197766728113, 0.7206588393745704, 0.7193647041508356, 0.7122668408374578, 0.7148734583271656, 0.7202532901593968, 0.6906199563847942, 0.6922385530594546, 0.6947705841061811, 0.6960437232516545, 0.6965542126594383, 0.6988030937969044, 0.6945762673522962, 0.6956760460604817, 0.7046061889658346, 0.7047949334352966, 0.6980638244630136, 0.705322959796464, 0.7102720886801295, 0.7048239229126902, 0.7101816091477421, 0.7019916156960844, 0.6966180465641035, 0.7015570186552503, 0.6986360532327268, 0.6956172453634141, 0.6984047198681084, 0.6941570904671639, 0.7018658970599014, 0.6990380691420407, 0.7005104036054494, 0.7067011996074334, 0.7071545416591148, 0.7086353694669338, 0.7162015227320954, 0.7117536201554195, 0.714638578251117, 0.7151755469100447, 0.7200463223705554, 0.7179277821712617, 0.720179417205665, 0.7217103031098662, 0.7242779112066648, 0.7411845988732438, 0.739176801707862, 0.7380410077050878, 0.7367315059592626, 0.7397933812723915, 0.739394832003871, 0.7388137989751652, 0.738587938298094, 0.7432547115856851, 0.7464264656019458, 0.7441729313213019, 0.7429691175891192, 0.7444719140462099, 0.7445353250042659, 0.7414357490724006, 0.7365277587727379, 0.7381120679900981, 0.7382169374751484, 0.738016633251736, 0.7418904752085573, 0.7385548947811404, 0.7436417754593327, 0.7426797699514436, 0.7415279822498692, 0.7435799204457982, 0.7461892131801937, 0.7450756063816641, 0.7465811107019459, 0.7468996638720441, 0.7433632145552205, 0.7435771094049446, 0.7462659270177492, 0.7486782347481211, 0.746518445382672, 0.744542686914623, 0.7497387125548393, 0.7480170196856615, 0.746533257050551, 0.7475296606519204, 0.7485431836701728, 0.7526268707337899, 0.7487535119878165, 0.7511735289330342, 0.7515822841156572, 0.7527733642562363, 0.7548435443259176, 0.7533535075906977, 0.7512059026570123, 0.7538404526777575, 0.7531165003735751, 0.751084775664797, 0.7509652918224254, 0.7503981386815151, 0.7514484775271731, 0.7513544429749346, 0.7545088069936772, 0.7534945829530456, 0.7467393701336887, 0.7567216473378325, 0.7561793773281567, 0.751756849667559, 0.7539566435616065, 0.7560843192428608, 0.7566424222496082, 0.755023071917029, 0.7513528678302721, 0.7556740136904924, 0.7570330583437409, 0.759120947052636, 0.7531520549212812, 0.7615583114153255, 0.7596825860870144, 0.7574793158476775, 0.7625048595778136, 0.7583319865508981, 0.7537455922722048, 0.7585289976730862, 0.76278939566789, 0.7606873684868466, 0.7620656536456071, 0.7577122919121211, 0.7566070475618352, 0.7606957283901885, 0.7561858382168195, 0.7595611586000812, 0.7601984487218146, 0.7614762204245287, 0.7593108366594555, 0.75677782445245, 0.7606623727530263, 0.7589491890746402, 0.7626130099833599, 0.758285978013814, 0.7608008756961318, 0.7588005014151877, 0.7588005014151877, 0.7588005014151877, 0.7588005014151877, 0.7588005014151877, 0.7588005014151877, 0.7588005014151877, 0.7588005014151877, 0.7588005014151877, 0.7588005014151877, 0.7612165673866543, 0.7612165673866543, 0.7612165673866543, 0.7612165673866543, 0.7612165673866543, 0.7612165673866543, 0.7612165673866543, 0.7612165673866543, 0.7612165673866543, 0.7612165673866543, 0.7612165673866543, 0.7612165673866543, 0.7612165673866543, 0.7612165673866543, 0.7612165673866543, 0.7612165673866543, 0.7612165673866543, 0.7612165673866543, 0.7612165673866543, 0.7612165673866543, 0.7612165673866543, 0.7612165673866543, 0.7612165673866543, 0.7612165673866543, 0.7612165673866543, 0.7612165673866543, 0.7612165673866543, 0.7612165673866543, 0.7612165673866543, 0.7612165673866543, 0.7586356028305247, 0.7586356028305247, 0.7586356028305247, 0.7586356028305247, 0.7586356028305247, 0.7586356028305247, 0.7586356028305247, 0.7586356028305247, 0.7586356028305247, 0.7586356028305247, 0.7586356028305247, 0.7586356028305247, 0.7586356028305247, 0.7586356028305247, 0.7586356028305247, 0.7586356028305247, 0.7586356028305247, 0.757503807867691, 0.757503807867691, 0.757503807867691, 0.757503807867691, 0.757503807867691, 0.757503807867691, 0.757503807867691, 0.7610406815802169, 0.7618131516787776, 0.7618131516787776, 0.7618131516787776, 0.7618131516787776, 0.7618131516787776, 0.7618131516787776, 0.7618131516787776, 0.7618131516787776, 0.7618131516787776, 0.7618131516787776, 0.7618131516787776, 0.7618131516787776, 0.7618131516787776, 0.7618131516787776, 0.7618131516787776, 0.7618131516787776, 0.7618131516787776, 0.7618131516787776, 0.7618131516787776, 0.7618131516787776, 0.7618131516787776, 0.7618131516787776, 0.7618131516787776, 0.7618131516787776, 0.7609250277819484, 0.7609250277819484, 0.7609250277819484, 0.7609250277819484, 0.7609250277819484, 0.7609250277819484, 0.7609250277819484, 0.7609250277819484, 0.7609250277819484, 0.7609250277819484, 0.7609250277819484, 0.7609250277819484, 0.7609250277819484, 0.7609250277819484, 0.7609250277819484, 0.7609250277819484, 0.7609250277819484, 0.7609250277819484, 0.7609250277819484, 0.7609250277819484, 0.7609250277819484, 0.7609250277819484, 0.7609250277819484, 0.7609250277819484, 0.7609250277819484, 0.7609250277819484, 0.7529826916854817, 0.7529826916854817, 0.7529826916854817, 0.7529826916854817, 0.7529826916854817]\n",
      "0.6906199563847942 28\n"
     ]
    },
    {
     "data": {
      "image/png": "[encoded data removed]",
      "text/plain": [
       "<Figure size 720x360 with 1 Axes>"
      ]
     },
     "metadata": {
      "needs_background": "light"
     },
     "output_type": "display_data"
    },
    {
     "data": {
      "text/plain": [
       "datetime.timedelta(seconds=19176, microseconds=362495)"
      ]
     },
     "execution_count": 8,
     "metadata": {},
     "output_type": "execute_result"
    }
   ],
   "source": [
    "start=datetime.now()\n",
    "score = []                                                          \n",
    "for i in range(1,279, 1):\n",
    "    X_wrapper1=RFE(lgbm, n_features_to_select=i, step=1).fit_transform(X, y)      \n",
    "    once = cross_val_score(lgbm, X_wrapper1, y, cv=5,scoring='neg_log_loss').mean()                    \n",
    "    score.append(once)                                                          \n",
    "cross_entropy_loss=[j * -1 for j in score]\n",
    "# print the optimal classification result and the corresponding number of features\n",
    "print(cross_entropy_loss)\n",
    "print(min(cross_entropy_loss), (cross_entropy_loss.index(min(cross_entropy_loss))*1)+1)        \n",
    "plt.figure(figsize=[10, 5])\n",
    "plt.plot(range(1, 279, 1), cross_entropy_loss)\n",
    "plt.xticks(range(0, 279, 20))\n",
    "plt.xlabel(u'features', fontsize=18)\n",
    "plt.ylabel(u'cross_entropy loss', fontsize=18)\n",
    "plt.grid()\n",
    "plt.show()\n",
    "stop=datetime.now()\n",
    "\n",
    "execution_time_lgbm1=(stop-start)\n",
    "execution_time_lgbm1"
   ]
  },
  {
   "cell_type": "code",
   "execution_count": 9,
   "id": "bba524f0",
   "metadata": {},
   "outputs": [
    {
     "name": "stdout",
     "output_type": "stream",
     "text": [
      "0.6906199563847942 28\n"
     ]
    }
   ],
   "source": [
    "print(min(cross_entropy_loss), (cross_entropy_loss.index(min(cross_entropy_loss))*1)+1)     "
   ]
  },
  {
   "cell_type": "code",
   "execution_count": 10,
   "id": "8c9eaaff",
   "metadata": {},
   "outputs": [
    {
     "data": {
      "text/plain": [
       "datetime.timedelta(seconds=19176, microseconds=362495)"
      ]
     },
     "execution_count": 10,
     "metadata": {},
     "output_type": "execute_result"
    }
   ],
   "source": [
    "execution_time_lgbm1"
   ]
  },
  {
   "cell_type": "markdown",
   "id": "ffe769df",
   "metadata": {},
   "source": [
    "## Explore the features after RFE ploting"
   ]
  },
  {
   "cell_type": "code",
   "execution_count": 66,
   "id": "85af083e",
   "metadata": {},
   "outputs": [
    {
     "name": "stdout",
     "output_type": "stream",
     "text": [
      "[  1  18   1   1   1   1   1   1   1  30   1   1   1   1  14   1   1  45\n",
      "  40   1  36  35  38  47  56  55  15   1   1  62  52  11  67  29  46  72\n",
      "  76  75   1   1   5  20  65   1  99  93 113  95  33  32   1   1  77 109\n",
      " 110   1 118 105 107 104  49  59   1   1   1 120  64   1  34  37  43  69\n",
      "  71  68  19   1   8  89  24   1  53 121 123 125 127  54   1   1   1   1\n",
      " 115   1  80  82  83  81  79  86   1   7   1   1 103   1 129 131 133 134\n",
      " 136 138   1   1   1  97  61   3  66 112 111  42  31  25   1   1   1 101\n",
      "  87   1  73  74  44  51  39  50  17   1   1 114 139   1 132 130 128 126\n",
      " 124 122   1   1   2 108 106  10 102 100  98  96  94  92   1  16   1   1\n",
      "  70  91   1   1   1   1   1   1   1   1  63  48   1   1   1   1   1   1\n",
      "   1   9  85  57   1   1  13   4   1   1   1   1  60  22   1   1   1   1\n",
      "   1  12   1   1  78  21   1   1   1   1   1   1   1   1  41  27   1   1\n",
      "   1   1   1 135   1   1   1  90   1   1   1   1   1   1   1   1   1 117\n",
      "   1   1   1   1   1   1   1   1 119 116   1   1   1   1   1   1   1   1\n",
      " 137  28   1   1   1   1   1  84   1   1  88  58   1   1   1   1   1   6\n",
      "   1   1  23  26   1   1   1   1]\n",
      "140\n"
     ]
    },
    {
     "data": {
      "text/plain": [
       "datetime.timedelta(seconds=65, microseconds=832951)"
      ]
     },
     "execution_count": 66,
     "metadata": {},
     "output_type": "execute_result"
    }
   ],
   "source": [
    "start=datetime.now()\n",
    "selector1 = RFE(lgbm, n_features_to_select=140, step=1).fit(X, y)      \n",
    "print(selector1.ranking_)                                            \n",
    "print(selector1.n_features_)                                         \n",
    "X_wrapper_140 = selector1.transform(X)                                   \n",
    "\n",
    "stop=datetime.now()\n",
    "\n",
    "execution_time_lgbm2=(stop-start)\n",
    "execution_time_lgbm2"
   ]
  },
  {
   "cell_type": "code",
   "execution_count": 22,
   "id": "a76bf4f0",
   "metadata": {
    "scrolled": true
   },
   "outputs": [
    {
     "name": "stdout",
     "output_type": "stream",
     "text": [
      "[ 34 130  57   1   1  81   1   9  22 142  41   8  75   1 126  43  39 157\n",
      " 152 101 148 147 150 159 168 167 127  80  76 174 164 123 179 141 158 184\n",
      " 188 187   1   1 117 132 177  10 211 205 225 207 145 144  53 106 189 221\n",
      " 222  68 230 217 219 216 161 171  84  49  70 232 176 105 146 149 155 181\n",
      " 183 180 131  56 120 201 136  91 165 233 235 237 239 166  95  98  27 104\n",
      " 227   1 192 194 195 193 191 198  42 119  87  14 215  24 241 243 245 246\n",
      " 248 250   1  50  19 209 173 115 178 224 223 154 143 137 103  99  18 213\n",
      " 199  65 185 186 156 163 151 162 129  12  82 226 251  38 244 242 240 238\n",
      " 236 234 111  11 114 220 218 122 214 212 210 208 206 204  55 128  90  48\n",
      " 182 203  54   1  86   7  40  69  66   6 175 160   1  13  71  62  45   5\n",
      "  28 121 197 169  36  58 125 116  17  61  33  96 172 134  20  37  21  23\n",
      "  51 124  67 109 190 133  74  85 112  92  15   1 102  83 153 139  47   1\n",
      "  94  93   1 247   1 107   1 202   2  97   1  25   1  73  77   1  63 229\n",
      "  44   1   3 100  59   4  26   1 231 228 108  30  88   1  78  60   1  72\n",
      " 249 140  16   1  89   1   1 196  35  64 200 170  79   1  32   1  31 118\n",
      "  52 110 135 138  46   1 113  29]\n",
      "28\n"
     ]
    },
    {
     "data": {
      "text/plain": [
       "datetime.timedelta(seconds=107, microseconds=885815)"
      ]
     },
     "execution_count": 22,
     "metadata": {},
     "output_type": "execute_result"
    }
   ],
   "source": [
    "start=datetime.now()\n",
    "selector28 = RFE(lgbm, n_features_to_select=28, step=1).fit(X, y)      \n",
    "print(selector28.ranking_)                                            \n",
    "print(selector28.n_features_)                                         \n",
    "X_wrapper_28 = selector28.transform(X)                                   \n",
    "\n",
    "stop=datetime.now()\n",
    "\n",
    "execution_time_lgbm2=(stop-start)\n",
    "execution_time_lgbm2"
   ]
  },
  {
   "cell_type": "markdown",
   "id": "05354eb1",
   "metadata": {},
   "source": [
    "## Save selected features to csv file after REF"
   ]
  },
  {
   "cell_type": "code",
   "execution_count": 23,
   "id": "4721168a",
   "metadata": {},
   "outputs": [
    {
     "data": {
      "text/plain": [
       "array([  3,   4,   6,  13,  38,  39,  91, 110, 165, 174, 209, 215, 218,\n",
       "       220, 222, 226, 228, 231, 235, 241, 247, 250, 255, 257, 258, 265,\n",
       "       267, 275], dtype=int64)"
      ]
     },
     "execution_count": 23,
     "metadata": {},
     "output_type": "execute_result"
    }
   ],
   "source": [
    "index28=selector28.get_support(indices=True)\n",
    "index28"
   ]
  },
  {
   "cell_type": "code",
   "execution_count": 28,
   "id": "afb3dbf8",
   "metadata": {},
   "outputs": [],
   "source": [
    "idx=[  3,   4,   6,  13,  38,  39,  91, 110, 165, 174, 209, 215, 218,220, 222, 226, 228, 231, 235, 241, 247, 250, 255, 257, 258, 265, 267, 275]\n",
    "A=arrFilled01.iloc[ :,idx]\n",
    "A['label'] = y\n"
   ]
  },
  {
   "cell_type": "code",
   "execution_count": 29,
   "id": "b43a5ce4",
   "metadata": {},
   "outputs": [],
   "source": [
    "A.to_csv('Arrhthymia selected 28 features.csv',index=False)"
   ]
  },
  {
   "cell_type": "code",
   "execution_count": 30,
   "id": "c61c6d3b",
   "metadata": {},
   "outputs": [
    {
     "data": {
      "text/html": [
       "<div>\n",
       "<style scoped>\n",
       "    .dataframe tbody tr th:only-of-type {\n",
       "        vertical-align: middle;\n",
       "    }\n",
       "\n",
       "    .dataframe tbody tr th {\n",
       "        vertical-align: top;\n",
       "    }\n",
       "\n",
       "    .dataframe thead th {\n",
       "        text-align: right;\n",
       "    }\n",
       "</style>\n",
       "<table border=\"1\" class=\"dataframe\">\n",
       "  <thead>\n",
       "    <tr style=\"text-align: right;\">\n",
       "      <th></th>\n",
       "      <th>Weight</th>\n",
       "      <th>QRS duration</th>\n",
       "      <th>Q-T interval</th>\n",
       "      <th>Heart rate</th>\n",
       "      <th>Q wavechannel   DIIII</th>\n",
       "      <th>R wavechannel   DIIII</th>\n",
       "      <th>Number of intrinsic deflectionschannel   V1</th>\n",
       "      <th>Q wavechannel   V3</th>\n",
       "      <th>T wave</th>\n",
       "      <th>P wave DII</th>\n",
       "      <th>...</th>\n",
       "      <th>S wave V3</th>\n",
       "      <th>QRSTA V3</th>\n",
       "      <th>R wave V4</th>\n",
       "      <th>T wave V4</th>\n",
       "      <th>QRSTA V4</th>\n",
       "      <th>JJ wave V5</th>\n",
       "      <th>T wave V5</th>\n",
       "      <th>QRSTA V5</th>\n",
       "      <th>T wave V6</th>\n",
       "      <th>label</th>\n",
       "    </tr>\n",
       "  </thead>\n",
       "  <tbody>\n",
       "    <tr>\n",
       "      <th>0</th>\n",
       "      <td>64</td>\n",
       "      <td>81</td>\n",
       "      <td>401</td>\n",
       "      <td>53</td>\n",
       "      <td>32</td>\n",
       "      <td>24</td>\n",
       "      <td>16</td>\n",
       "      <td>0</td>\n",
       "      <td>1.5</td>\n",
       "      <td>0.1</td>\n",
       "      <td>...</td>\n",
       "      <td>-7.7</td>\n",
       "      <td>27.7</td>\n",
       "      <td>9.5</td>\n",
       "      <td>2.6</td>\n",
       "      <td>34.6</td>\n",
       "      <td>-0.4</td>\n",
       "      <td>2.6</td>\n",
       "      <td>43.4</td>\n",
       "      <td>2.1</td>\n",
       "      <td>5</td>\n",
       "    </tr>\n",
       "    <tr>\n",
       "      <th>1</th>\n",
       "      <td>95</td>\n",
       "      <td>138</td>\n",
       "      <td>386</td>\n",
       "      <td>75</td>\n",
       "      <td>28</td>\n",
       "      <td>116</td>\n",
       "      <td>100</td>\n",
       "      <td>0</td>\n",
       "      <td>2.5</td>\n",
       "      <td>0.7</td>\n",
       "      <td>...</td>\n",
       "      <td>-4.1</td>\n",
       "      <td>23.3</td>\n",
       "      <td>10.0</td>\n",
       "      <td>2.2</td>\n",
       "      <td>20.7</td>\n",
       "      <td>1.3</td>\n",
       "      <td>3.4</td>\n",
       "      <td>48.2</td>\n",
       "      <td>3.4</td>\n",
       "      <td>7</td>\n",
       "    </tr>\n",
       "    <tr>\n",
       "      <th>2</th>\n",
       "      <td>94</td>\n",
       "      <td>100</td>\n",
       "      <td>380</td>\n",
       "      <td>71</td>\n",
       "      <td>20</td>\n",
       "      <td>52</td>\n",
       "      <td>0</td>\n",
       "      <td>0</td>\n",
       "      <td>1.9</td>\n",
       "      <td>0.4</td>\n",
       "      <td>...</td>\n",
       "      <td>-7.9</td>\n",
       "      <td>51.0</td>\n",
       "      <td>15.0</td>\n",
       "      <td>3.3</td>\n",
       "      <td>63.1</td>\n",
       "      <td>0.1</td>\n",
       "      <td>3.0</td>\n",
       "      <td>68.0</td>\n",
       "      <td>2.6</td>\n",
       "      <td>0</td>\n",
       "    </tr>\n",
       "    <tr>\n",
       "      <th>3</th>\n",
       "      <td>52</td>\n",
       "      <td>77</td>\n",
       "      <td>377</td>\n",
       "      <td>70</td>\n",
       "      <td>0</td>\n",
       "      <td>44</td>\n",
       "      <td>12</td>\n",
       "      <td>0</td>\n",
       "      <td>1.0</td>\n",
       "      <td>0.5</td>\n",
       "      <td>...</td>\n",
       "      <td>-11.0</td>\n",
       "      <td>21.2</td>\n",
       "      <td>7.7</td>\n",
       "      <td>1.9</td>\n",
       "      <td>15.4</td>\n",
       "      <td>0.0</td>\n",
       "      <td>1.3</td>\n",
       "      <td>18.9</td>\n",
       "      <td>1.0</td>\n",
       "      <td>0</td>\n",
       "    </tr>\n",
       "    <tr>\n",
       "      <th>4</th>\n",
       "      <td>54</td>\n",
       "      <td>78</td>\n",
       "      <td>376</td>\n",
       "      <td>67</td>\n",
       "      <td>0</td>\n",
       "      <td>56</td>\n",
       "      <td>8</td>\n",
       "      <td>0</td>\n",
       "      <td>1.0</td>\n",
       "      <td>0.6</td>\n",
       "      <td>...</td>\n",
       "      <td>-9.0</td>\n",
       "      <td>21.1</td>\n",
       "      <td>6.6</td>\n",
       "      <td>1.4</td>\n",
       "      <td>14.2</td>\n",
       "      <td>-0.2</td>\n",
       "      <td>0.8</td>\n",
       "      <td>20.9</td>\n",
       "      <td>0.5</td>\n",
       "      <td>0</td>\n",
       "    </tr>\n",
       "  </tbody>\n",
       "</table>\n",
       "<p>5 rows × 29 columns</p>\n",
       "</div>"
      ],
      "text/plain": [
       "   Weight  QRS duration  Q-T interval  Heart rate  Q wavechannel   DIIII   \\\n",
       "0      64            81           401          53                      32   \n",
       "1      95           138           386          75                      28   \n",
       "2      94           100           380          71                      20   \n",
       "3      52            77           377          70                       0   \n",
       "4      54            78           376          67                       0   \n",
       "\n",
       "   R wavechannel   DIIII   Number of intrinsic deflectionschannel   V1  \\\n",
       "0                      24                                           16   \n",
       "1                     116                                          100   \n",
       "2                      52                                            0   \n",
       "3                      44                                           12   \n",
       "4                      56                                            8   \n",
       "\n",
       "   Q wavechannel   V3  T wave  P wave DII  ...  S wave V3  QRSTA V3  \\\n",
       "0                   0     1.5         0.1  ...       -7.7      27.7   \n",
       "1                   0     2.5         0.7  ...       -4.1      23.3   \n",
       "2                   0     1.9         0.4  ...       -7.9      51.0   \n",
       "3                   0     1.0         0.5  ...      -11.0      21.2   \n",
       "4                   0     1.0         0.6  ...       -9.0      21.1   \n",
       "\n",
       "   R wave V4  T wave V4  QRSTA V4  JJ wave V5  T wave V5  QRSTA V5  T wave V6  \\\n",
       "0        9.5        2.6      34.6        -0.4        2.6      43.4        2.1   \n",
       "1       10.0        2.2      20.7         1.3        3.4      48.2        3.4   \n",
       "2       15.0        3.3      63.1         0.1        3.0      68.0        2.6   \n",
       "3        7.7        1.9      15.4         0.0        1.3      18.9        1.0   \n",
       "4        6.6        1.4      14.2        -0.2        0.8      20.9        0.5   \n",
       "\n",
       "   label  \n",
       "0      5  \n",
       "1      7  \n",
       "2      0  \n",
       "3      0  \n",
       "4      0  \n",
       "\n",
       "[5 rows x 29 columns]"
      ]
     },
     "execution_count": 30,
     "metadata": {},
     "output_type": "execute_result"
    }
   ],
   "source": [
    "features28=pd.read_csv('Arrhthymia selected 28 features.csv')\n",
    "# ,index_col=0)\n",
    "features28.head()"
   ]
  },
  {
   "cell_type": "code",
   "execution_count": 31,
   "id": "f7c35f22",
   "metadata": {},
   "outputs": [],
   "source": [
    "arrhyData=pd.read_csv('Arrhthymia selected 28 features.csv')\n",
    "\n",
    "arrFilled01=arrhyData.copy()\n",
    "\n",
    "X1=arrFilled01.drop(labels=['label'],axis=1)\n",
    "\n",
    "y1=arrFilled01['label'].values\n",
    "\n",
    "#stanardilization\n",
    "\n",
    "scaler=StandardScaler()\n",
    "scaler.fit(X1)\n",
    "X1=scaler.transform(X1)\n",
    "#split train dataset and test dataset\n",
    "X1_train, X1_test, y1_train, y1_test =train_test_split(X1, y1,test_size=0.20, stratify=y1,random_state=42)"
   ]
  },
  {
   "cell_type": "code",
   "execution_count": 32,
   "id": "99b11ba6",
   "metadata": {},
   "outputs": [
    {
     "data": {
      "text/plain": [
       "0.7613636363636364"
      ]
     },
     "execution_count": 32,
     "metadata": {},
     "output_type": "execute_result"
    }
   ],
   "source": [
    "lgbm.fit(X1_train, y1_train)\n",
    "\n",
    "lgbm.score(X1_test, y1_test)"
   ]
  },
  {
   "cell_type": "markdown",
   "id": "4bef124f",
   "metadata": {},
   "source": [
    "# Build  OPT model for each model after RFE"
   ]
  },
  {
   "cell_type": "markdown",
   "id": "fe6ec925",
   "metadata": {},
   "source": [
    "## 2nd BayesSearchCV Optimization at LGBM using new features  "
   ]
  },
  {
   "cell_type": "code",
   "execution_count": 35,
   "id": "da0eb639",
   "metadata": {},
   "outputs": [
    {
     "name": "stdout",
     "output_type": "stream",
     "text": [
      "training loss score: -0.7630947535174247\n"
     ]
    },
    {
     "data": {
      "text/plain": [
       "0.7613636363636364"
      ]
     },
     "execution_count": 35,
     "metadata": {},
     "output_type": "execute_result"
    }
   ],
   "source": [
    "score =cross_val_score(lgbm, X1_train, y1_train, cv=5,scoring='neg_log_loss').mean()\n",
    "print('training loss score:',score) \n",
    "\n",
    "BayerLgbmopt1 = BayesSearchCV(\n",
    "     lgbm,\n",
    "     {         \n",
    "        'learning_rate': (0.005,0.01,0.015,0.02), \n",
    "        'n_estimators': (100,300), \n",
    "  \n",
    "        'max_depth': (3,8), \n",
    "        'num_leaves':(8, 170),\n",
    "         \n",
    "        'subsample': (0.5,0.8), \n",
    "        'colsample_bytree': (0.5,0.8)\n",
    "       \n",
    "    } ,\n",
    "     n_iter=50\n",
    "    ,cv=5\n",
    "    ,scoring=\"neg_log_loss\"\n",
    "    ,random_state=42\n",
    "    ,n_points=2\n",
    ")\n",
    "BayerLgbmopt1.fit(X1_train, y1_train)\n",
    "\n",
    "\n",
    "\n",
    "lgbm.score(X1_test, y1_test)"
   ]
  },
  {
   "cell_type": "code",
   "execution_count": 36,
   "id": "717e3723",
   "metadata": {
    "scrolled": true
   },
   "outputs": [
    {
     "name": "stdout",
     "output_type": "stream",
     "text": [
      "Best parameters found by Bayes search are: OrderedDict([('colsample_bytree', 0.5), ('learning_rate', 0.015), ('max_depth', 3), ('n_estimators', 182), ('num_leaves', 113), ('subsample', 0.5)])\n",
      "val. score: -0.7373100997106441\n",
      "test score: -0.8024143592489122\n"
     ]
    }
   ],
   "source": [
    "print('Best parameters found by Bayes search are:', BayerLgbmopt1.best_params_)\n",
    "print(\"val. score: %s\" % BayerLgbmopt1.best_score_)\n",
    "print(\"test score: %s\" % BayerLgbmopt1.score(X1_test, y1_test))"
   ]
  },
  {
   "cell_type": "code",
   "execution_count": 71,
   "id": "d95df5d1",
   "metadata": {},
   "outputs": [],
   "source": [
    "lgbm1 =LGBMClassifier(boosting_type='gbdt',objective ='multiclass',\n",
    "                                 max_depth=3, num_leaves=113,\n",
    "                                learning_rate=0.015,n_estimators=182,\n",
    "                                colsample_bytree= 0.5,subsample= 0.5)"
   ]
  },
  {
   "cell_type": "code",
   "execution_count": 72,
   "id": "93a52689",
   "metadata": {},
   "outputs": [],
   "source": [
    "\n",
    "lgbm_arrhthymia=lgbm1.fit(X1_train,y1_train)"
   ]
  },
  {
   "cell_type": "code",
   "execution_count": 73,
   "id": "8f9d11b8",
   "metadata": {},
   "outputs": [
    {
     "name": "stdout",
     "output_type": "stream",
     "text": [
      "0.3363\n"
     ]
    }
   ],
   "source": [
    "start=datetime.now()\n",
    "lgbm1.fit(X1_train,y1_train)\n",
    "stop=datetime.now()\n",
    "execution_time_lgbm4='%.4f'%(stop-start).total_seconds()\n",
    "print(execution_time_lgbm4)"
   ]
  },
  {
   "cell_type": "code",
   "execution_count": 74,
   "id": "78ff3a10",
   "metadata": {},
   "outputs": [
    {
     "name": "stdout",
     "output_type": "stream",
     "text": [
      "Accuracy score with LGBM is:  0.75\n",
      "F1 score with LGBM is:  0.75\n",
      "ROC_AUC score with LGBM is:  0.9009681809093154\n",
      "Cross entropy loss score with LGBM is:  0.8024143592489122\n"
     ]
    }
   ],
   "source": [
    "y_pred_lgbm1=lgbm1.predict((X1_test))\n",
    "y_prob_lgbm1=lgbm1.predict_proba((X1_test))\n",
    "print(\"Accuracy score with LGBM is: \",accuracy_score(y1_test, y_pred_lgbm1))\n",
    "print(\"F1 score with LGBM is: \",f1_score(y1_test, y_pred_lgbm1,average='micro'))\n",
    "print(\"ROC_AUC score with LGBM is: \", roc_auc_score(y1_test,y_prob_lgbm1,multi_class='ovr',labels=np.unique(y1_test)))\n",
    "print(\"Cross entropy loss score with LGBM is: \",log_loss(y1_test,y_prob_lgbm1))\n"
   ]
  },
  {
   "cell_type": "code",
   "execution_count": 75,
   "id": "2e136745",
   "metadata": {},
   "outputs": [
    {
     "name": "stdout",
     "output_type": "stream",
     "text": [
      "0.7500\n",
      "0.7500\n",
      "0.9010\n",
      "0.8024\n"
     ]
    }
   ],
   "source": [
    "lgbm_accuracy='%.4f'%accuracy_score(y1_test, y_pred_lgbm1)\n",
    "lgbm_f1='%.4f'%f1_score(y1_test, y_pred_lgbm1,average='micro')\n",
    "lgbm_roc_auc='%.4f'% roc_auc_score(y1_test,y_prob_lgbm1,multi_class='ovr',labels=np.unique(y1_test))\n",
    "lgbm_loss='%.4f'%log_loss(y1_test,y_prob_lgbm1)\n",
    "print(lgbm_accuracy)\n",
    "print(lgbm_f1)\n",
    "print(lgbm_roc_auc)\n",
    "print(lgbm_loss)"
   ]
  },
  {
   "cell_type": "code",
   "execution_count": 76,
   "id": "780bcb0f",
   "metadata": {},
   "outputs": [
    {
     "name": "stdout",
     "output_type": "stream",
     "text": [
      "accuracy 20  feature: 0.7628571428571428\n",
      "F1 score 20  feature: 0.7628571428571428\n",
      "roc_auc 20  feature: 0.9239638412644581\n",
      "cross entropy loss 20  feature: -0.7373100997106441\n"
     ]
    }
   ],
   "source": [
    "start=datetime.now()\n",
    "accuracy_score_24 =cross_val_score(lgbm1, X1_train, y1_train, cv=5,scoring='accuracy').mean()\n",
    "F1_score_24 =cross_val_score(lgbm1, X1_train, y1_train, cv=5,scoring='f1_micro').mean()\n",
    "roc_auc_score_24 =cross_val_score(lgbm1, X1_train, y1_train, cv=5,scoring='roc_auc_ovr').mean()\n",
    "neg_loss_score_24 =cross_val_score(lgbm1, X1_train, y1_train, cv=5,scoring='neg_log_loss').mean()\n",
    "stop=datetime.now()\n",
    "\n",
    "execution_time_lgbm4=(stop-start)/20\n",
    "execution_time_lgbm4\n",
    "\n",
    "print(\"accuracy 20  feature:\",accuracy_score_24)\n",
    "print('F1 score 20  feature:',F1_score_24)\n",
    "print('roc_auc 20  feature:',roc_auc_score_24)\n",
    "print(\"cross entropy loss 20  feature:\",neg_loss_score_24)\n"
   ]
  },
  {
   "cell_type": "code",
   "execution_count": 77,
   "id": "ef5bd058",
   "metadata": {},
   "outputs": [
    {
     "name": "stdout",
     "output_type": "stream",
     "text": [
      "0.1559\n"
     ]
    }
   ],
   "source": [
    "training_time_lgbm=execution_time_lgbm4.total_seconds()\n",
    "training_time_lgbm='%.4f'%training_time_lgbm\n",
    "print(training_time_lgbm)"
   ]
  },
  {
   "cell_type": "code",
   "execution_count": 78,
   "id": "97b41ce5",
   "metadata": {},
   "outputs": [
    {
     "data": {
      "text/plain": [
       "['lgbm_arrhthymia.model']"
      ]
     },
     "execution_count": 78,
     "metadata": {},
     "output_type": "execute_result"
    }
   ],
   "source": [
    "# save the model\n",
    "joblib.dump(lgbm_arrhthymia,'lgbm_arrhthymia.model')"
   ]
  },
  {
   "cell_type": "code",
   "execution_count": 79,
   "id": "5c3e977a",
   "metadata": {},
   "outputs": [],
   "source": [
    "rflgbm_arrhthymia=joblib.load('lgbm_arrhthymia.model')\n",
    "resultlgmb=rflgbm_arrhthymia.score(X1_test,y1_test)"
   ]
  },
  {
   "cell_type": "code",
   "execution_count": 80,
   "id": "ca752afd",
   "metadata": {},
   "outputs": [
    {
     "data": {
      "text/plain": [
       "0.75"
      ]
     },
     "execution_count": 80,
     "metadata": {},
     "output_type": "execute_result"
    }
   ],
   "source": [
    "resultlgmb"
   ]
  },
  {
   "cell_type": "markdown",
   "id": "aba237fd",
   "metadata": {},
   "source": [
    "## SVM -- Optimization"
   ]
  },
  {
   "cell_type": "code",
   "execution_count": 81,
   "id": "fbe7ea7a",
   "metadata": {},
   "outputs": [
    {
     "name": "stdout",
     "output_type": "stream",
     "text": [
      "Train Score: 0.7457142857142858\n",
      "Test Score: 0.7613636363636364\n"
     ]
    }
   ],
   "source": [
    "svc = SVC(random_state=42\n",
    "           ,C= 8.5385\n",
    "           ,kernel='rbf'\n",
    "           ,degree= 7\n",
    "          ,gamma=\"scale\"\n",
    "          , probability=True)\n",
    "accuracies = cross_val_score(svc,X1_train,y1_train,cv=5)\n",
    "svc.fit(X1_train,y1_train)\n",
    "svc.predict(X1_test)\n",
    "print(\"Train Score:\",np.mean(accuracies))\n",
    "print(\"Test Score:\",svc.score(X1_test,y1_test))"
   ]
  },
  {
   "cell_type": "code",
   "execution_count": 110,
   "id": "470866af",
   "metadata": {},
   "outputs": [
    {
     "data": {
      "text/plain": [
       "datetime.timedelta(seconds=54, microseconds=636006)"
      ]
     },
     "execution_count": 110,
     "metadata": {},
     "output_type": "execute_result"
    }
   ],
   "source": [
    "start=datetime.now()                \n",
    "# log-uniform: understand as search over p = exp(x) by varying x\n",
    "BayerSvmopt0 = BayesSearchCV(\n",
    "    SVC(probability=True, random_state=42\n",
    "\n",
    "    ),\n",
    "    {\n",
    "        \n",
    "       'kernel': ['linear', 'poly', 'rbf'],\n",
    "        'C':(1, 10),     \n",
    "        'gamma': (0.01, 1),\n",
    "          'degree':(1,10)\n",
    "\n",
    "    },\n",
    " \n",
    "    n_iter=50,\n",
    "    cv=5\n",
    "    ,scoring=\"neg_log_loss\"\n",
    "    ,random_state=42\n",
    "    ,n_points=2\n",
    ")\n",
    "\n",
    "BayerSvmopt0.fit(X_train, y_train)\n",
    "stop=datetime.now()\n",
    "\n",
    "execution_time_svm1=(stop-start)\n",
    "execution_time_svm1\n"
   ]
  },
  {
   "cell_type": "code",
   "execution_count": 112,
   "id": "a84da67a",
   "metadata": {},
   "outputs": [
    {
     "name": "stdout",
     "output_type": "stream",
     "text": [
      "best params: OrderedDict([('C', 1), ('degree', 1), ('gamma', 0.01), ('kernel', 'poly')])\n",
      "val. score: -0.861362979984599\n",
      "test score: -0.9546811079416215\n"
     ]
    }
   ],
   "source": [
    "print(\"best params: %s\" % str(BayerSvmopt0.best_params_))\n",
    "\n",
    "\n",
    "print(\"val. score: %s\" % BayerSvmopt0.best_score_)\n",
    "print(\"test score: %s\" % BayerSvmopt0.score(X_test, y_test))"
   ]
  },
  {
   "cell_type": "code",
   "execution_count": 114,
   "id": "25616ea2",
   "metadata": {},
   "outputs": [
    {
     "name": "stdout",
     "output_type": "stream",
     "text": [
      "Train Score: 0.72\n",
      "Test Score: 0.7045454545454546\n"
     ]
    }
   ],
   "source": [
    "svc0 = SVC(random_state=42\n",
    "           ,C= 1\n",
    "           ,kernel='poly'\n",
    "           ,degree= 1\n",
    "          ,gamma=0.01\n",
    "          , probability=True)\n",
    "accuracies = cross_val_score(svc0,X_train,y_train,cv=5)\n",
    "svc0.fit(X_train,y_train)\n",
    "svc0.predict(X_test)\n",
    "print(\"Train Score:\",np.mean(accuracies))\n",
    "print(\"Test Score:\",svc0.score(X_test,y_test))"
   ]
  },
  {
   "cell_type": "code",
   "execution_count": 83,
   "id": "ea731224",
   "metadata": {},
   "outputs": [
    {
     "name": "stdout",
     "output_type": "stream",
     "text": [
      "Test loss Score: 0.7776483558165291\n"
     ]
    }
   ],
   "source": [
    "pred=svc.predict(X1_test)\n",
    "prob=svc.predict_proba(X1_test)\n",
    "print(\"Test loss Score:\",log_loss(y1_test,prob))"
   ]
  },
  {
   "cell_type": "code",
   "execution_count": 84,
   "id": "8fe50820",
   "metadata": {},
   "outputs": [
    {
     "data": {
      "text/plain": [
       "datetime.timedelta(seconds=47, microseconds=726974)"
      ]
     },
     "execution_count": 84,
     "metadata": {},
     "output_type": "execute_result"
    }
   ],
   "source": [
    "start=datetime.now()                \n",
    "# log-uniform: understand as search over p = exp(x) by varying x\n",
    "BayerSvmopt = BayesSearchCV(\n",
    "    SVC(probability=True, random_state=42\n",
    "\n",
    "    ),\n",
    "    {\n",
    "        \n",
    "       'kernel': ['linear', 'poly', 'rbf'],\n",
    "        'C':(1, 10),     \n",
    "        'gamma': (0.01, 1),\n",
    "          'degree':(1,10)\n",
    "\n",
    "    },\n",
    " \n",
    "    n_iter=50,\n",
    "    cv=5\n",
    "    ,scoring=\"neg_log_loss\"\n",
    "    ,random_state=42\n",
    "    ,n_points=2\n",
    ")\n",
    "\n",
    "BayerSvmopt.fit(X1_train, y1_train)\n",
    "stop=datetime.now()\n",
    "\n",
    "execution_time_svm1=(stop-start)\n",
    "execution_time_svm1\n"
   ]
  },
  {
   "cell_type": "code",
   "execution_count": 85,
   "id": "37c0b82b",
   "metadata": {},
   "outputs": [
    {
     "name": "stdout",
     "output_type": "stream",
     "text": [
      "best params: OrderedDict([('C', 10), ('degree', 1), ('gamma', 0.01), ('kernel', 'rbf')])\n",
      "val. score: -0.790617481110975\n",
      "test score: -0.8262396459877309\n"
     ]
    }
   ],
   "source": [
    "print(\"best params: %s\" % str(BayerSvmopt.best_params_))\n",
    "\n",
    "\n",
    "print(\"val. score: %s\" % BayerSvmopt.best_score_)\n",
    "print(\"test score: %s\" % BayerSvmopt.score(X1_test, y1_test))"
   ]
  },
  {
   "cell_type": "code",
   "execution_count": 87,
   "id": "1a9a3a38",
   "metadata": {},
   "outputs": [],
   "source": [
    "svc1=SVC(probability=True, random_state=42\n",
    "          ,C=10\n",
    "           ,degree= 1\n",
    "           ,gamma= 0.01\n",
    "           ,kernel='rbf')"
   ]
  },
  {
   "cell_type": "code",
   "execution_count": 88,
   "id": "4717ccac",
   "metadata": {},
   "outputs": [
    {
     "name": "stdout",
     "output_type": "stream",
     "text": [
      "0.0468\n"
     ]
    },
    {
     "data": {
      "text/plain": [
       "0.7386363636363636"
      ]
     },
     "execution_count": 88,
     "metadata": {},
     "output_type": "execute_result"
    }
   ],
   "source": [
    "\n",
    "start=datetime.now()\n",
    "svc1.fit(X1_train,y1_train)\n",
    "stop=datetime.now()\n",
    "execution_time_svc='%.4f'%(stop-start).total_seconds()\n",
    "print(execution_time_svc)\n",
    "\n",
    "svc1.score(X1_test,y1_test)"
   ]
  },
  {
   "cell_type": "code",
   "execution_count": 89,
   "id": "9fe27e1d",
   "metadata": {},
   "outputs": [],
   "source": [
    "svc_arrhthymia=svc1.fit(X1_train,y1_train)"
   ]
  },
  {
   "cell_type": "code",
   "execution_count": 90,
   "id": "495fbadf",
   "metadata": {},
   "outputs": [
    {
     "name": "stdout",
     "output_type": "stream",
     "text": [
      "accuracy 20  feature: 0.7485714285714286\n",
      "F1 score 20  feature: 0.7485714285714286\n",
      "roc_auc 20  feature: 0.9179202997835244\n",
      "cross entropy loss 20  feature: -0.790617481110975\n"
     ]
    }
   ],
   "source": [
    "start=datetime.now()\n",
    "accuracy_score_20_svm =cross_val_score(svc1, X1_train, y1_train, cv=5,scoring='accuracy').mean()\n",
    "F1_score_20_svm =cross_val_score(svc1, X1_train, y1_train, cv=5,scoring='f1_micro').mean()\n",
    "roc_auc_score_20_svm =cross_val_score(svc1, X1_train, y1_train, cv=5,scoring='roc_auc_ovr').mean()\n",
    "neg_loss_score_20_svm =cross_val_score(svc1, X1_train, y1_train, cv=5,scoring='neg_log_loss').mean()\n",
    "\n",
    "stop=datetime.now()\n",
    "execution_time_svm=(stop-start)/20\n",
    "execution_time_svm\n",
    "\n",
    "print(\"accuracy 20  feature:\",accuracy_score_20_svm)\n",
    "print('F1 score 20  feature:',F1_score_20_svm)\n",
    "print('roc_auc 20  feature:',roc_auc_score_20_svm)\n",
    "print(\"cross entropy loss 20  feature:\",neg_loss_score_20_svm)"
   ]
  },
  {
   "cell_type": "code",
   "execution_count": 91,
   "id": "cbbb493a",
   "metadata": {},
   "outputs": [
    {
     "name": "stdout",
     "output_type": "stream",
     "text": [
      "0.0351\n"
     ]
    }
   ],
   "source": [
    "training_time_svm=execution_time_svm.total_seconds()\n",
    "training_time_svm='%.4f'%training_time_svm\n",
    "print(training_time_svm)"
   ]
  },
  {
   "cell_type": "code",
   "execution_count": 92,
   "id": "f3abfd0f",
   "metadata": {},
   "outputs": [],
   "source": [
    "y_pred_svc1=svc1.predict(X1_test)\n",
    "y_prob_svc1=svc1.predict_proba(X1_test)"
   ]
  },
  {
   "cell_type": "code",
   "execution_count": 93,
   "id": "b2a331ce",
   "metadata": {
    "scrolled": true
   },
   "outputs": [
    {
     "name": "stdout",
     "output_type": "stream",
     "text": [
      "0.7386\n",
      "0.7386\n",
      "0.8960\n",
      "0.8262\n"
     ]
    }
   ],
   "source": [
    "\n",
    "svc_accuracy='%.4f'%accuracy_score(y1_test, y_pred_svc1)\n",
    "svc_f1='%.4f'%f1_score(y1_test, y_pred_svc1,average='micro')\n",
    "svc_roc_auc='%.4f'% roc_auc_score(y1_test,y_prob_svc1,multi_class='ovr',labels=np.unique(y1_test))\n",
    "svc_loss='%.4f'%log_loss(y1_test,y_prob_svc1)\n",
    "print(svc_accuracy)\n",
    "print(svc_f1)\n",
    "print(svc_roc_auc)\n",
    "print(svc_loss)"
   ]
  },
  {
   "cell_type": "code",
   "execution_count": 94,
   "id": "ec9ebbe1",
   "metadata": {},
   "outputs": [
    {
     "data": {
      "text/plain": [
       "['svc_arrhthymia.model']"
      ]
     },
     "execution_count": 94,
     "metadata": {},
     "output_type": "execute_result"
    }
   ],
   "source": [
    "\n",
    "joblib.dump(svc_arrhthymia,'svc_arrhthymia.model')"
   ]
  },
  {
   "cell_type": "code",
   "execution_count": 95,
   "id": "28fa8e0b",
   "metadata": {},
   "outputs": [],
   "source": [
    "\n",
    "RFsvc=joblib.load('svc_arrhthymia.model')\n",
    "\n",
    "resultsvc=RFsvc.score(X1_test,y1_test)"
   ]
  },
  {
   "cell_type": "code",
   "execution_count": 96,
   "id": "7a5e2aba",
   "metadata": {},
   "outputs": [
    {
     "data": {
      "text/plain": [
       "0.7386363636363636"
      ]
     },
     "execution_count": 96,
     "metadata": {},
     "output_type": "execute_result"
    }
   ],
   "source": [
    "resultsvc"
   ]
  },
  {
   "cell_type": "markdown",
   "id": "8c1072e8",
   "metadata": {},
   "source": [
    "## Random Forest-- Optimization"
   ]
  },
  {
   "cell_type": "code",
   "execution_count": 97,
   "id": "5b7b79f3",
   "metadata": {},
   "outputs": [
    {
     "name": "stdout",
     "output_type": "stream",
     "text": [
      "Best parameters found by grid search are: OrderedDict([('criterion', 'gini'), ('max_depth', 15), ('max_features', 'sqrt'), ('n_estimators', 150)])\n"
     ]
    }
   ],
   "source": [
    "rf = RFC(random_state=42)\n",
    "\n",
    "\n",
    "Bayesrfopt = BayesSearchCV(\n",
    "   rf,\n",
    "    {   \n",
    "    'n_estimators': [50,100,150],\n",
    "    'max_features': ['auto', 'sqrt', 'log2'],\n",
    "    'max_depth' : [1,2,3,4,5,6,7,8,9,10,11,12,13,14,15,20,25,None],\n",
    "    'criterion' :['gini', 'entropy']\n",
    "    },\n",
    "    n_iter=50,\n",
    "    cv=5,\n",
    "    scoring=\"neg_log_loss\"\n",
    "    ,random_state=42\n",
    "    ,n_points=2\n",
    ")\n",
    "\n",
    "Bayesrfopt.fit(X_train, y_train)\n",
    "print('Best parameters found by grid search are:', Bayesrfopt.best_params_)"
   ]
  },
  {
   "cell_type": "code",
   "execution_count": 98,
   "id": "d82d23c1",
   "metadata": {},
   "outputs": [
    {
     "name": "stdout",
     "output_type": "stream",
     "text": [
      "val. score: -0.8274483515375927\n",
      "test score: -0.8380054316797628\n"
     ]
    }
   ],
   "source": [
    "print(\"val. score: %s\" % Bayesrfopt.best_score_)\n",
    "print(\"test score: %s\" % Bayesrfopt.score(X_test, y_test))"
   ]
  },
  {
   "cell_type": "code",
   "execution_count": 99,
   "id": "6ba758ce",
   "metadata": {},
   "outputs": [],
   "source": [
    "rf1 = RFC(random_state=42, max_features='sqrt', n_estimators= 150,\n",
    "                                     max_depth=15, \n",
    "                                     criterion='gini')"
   ]
  },
  {
   "cell_type": "code",
   "execution_count": 100,
   "id": "f3a8e43a",
   "metadata": {},
   "outputs": [
    {
     "name": "stdout",
     "output_type": "stream",
     "text": [
      "0.3160\n"
     ]
    }
   ],
   "source": [
    "start=datetime.now()\n",
    "rf1.fit(X_train,y_train)\n",
    "stop=datetime.now()\n",
    "execution_time_rf=(stop-start)\n",
    "execution_time_rf\n",
    "training_time_rf0=execution_time_rf.total_seconds()\n",
    "training_time_rf0='%.4f'%training_time_rf0\n",
    "print(training_time_rf0)"
   ]
  },
  {
   "cell_type": "code",
   "execution_count": 101,
   "id": "4aaf5405",
   "metadata": {},
   "outputs": [
    {
     "name": "stdout",
     "output_type": "stream",
     "text": [
      "0:01:25.588851\n",
      "Best parameters found by grid search are: OrderedDict([('criterion', 'gini'), ('max_depth', 11), ('max_features', 'log2'), ('n_estimators', 150)])\n"
     ]
    }
   ],
   "source": [
    "start=datetime.now()\n",
    "Bayesrfopt1 = BayesSearchCV(\n",
    "   rf1,\n",
    "    {   \n",
    "    'n_estimators': [50,100,150],\n",
    "    'max_features': ['auto', 'sqrt', 'log2'],\n",
    "    'max_depth' : [1,2,3,4,5,6,7,8,9,10,11,12,13,14,15,20,25,None],\n",
    "    'criterion' :['gini', 'entropy']\n",
    "    },\n",
    "    n_iter=50,\n",
    "    cv=5,\n",
    "    scoring=\"neg_log_loss\"\n",
    "    ,random_state=42\n",
    "    ,n_points=2\n",
    ")\n",
    "\n",
    "Bayesrfopt1.fit(X1_train, y1_train)\n",
    "\n",
    "stop=datetime.now()\n",
    "execution_time_rf0=(stop-start)\n",
    "print(execution_time_rf0)\n",
    "print('Best parameters found by grid search are:', Bayesrfopt1.best_params_)"
   ]
  },
  {
   "cell_type": "code",
   "execution_count": 102,
   "id": "71ee7b06",
   "metadata": {},
   "outputs": [
    {
     "name": "stdout",
     "output_type": "stream",
     "text": [
      "val. score: -0.7538680233829647\n",
      "test score: -0.7585817267570548\n"
     ]
    }
   ],
   "source": [
    "print(\"val. score: %s\" % Bayesrfopt1.best_score_)\n",
    "print(\"test score: %s\" % Bayesrfopt1.score(X1_test, y1_test))"
   ]
  },
  {
   "cell_type": "code",
   "execution_count": 103,
   "id": "f9aca0ae",
   "metadata": {},
   "outputs": [],
   "source": [
    "rf2= RFC(random_state=42, max_features='log2', n_estimators= 150,\n",
    "                                     max_depth=11, \n",
    "                                     criterion='gini')"
   ]
  },
  {
   "cell_type": "code",
   "execution_count": 104,
   "id": "cb782e3c",
   "metadata": {},
   "outputs": [
    {
     "name": "stdout",
     "output_type": "stream",
     "text": [
      "accuracy 24  feature: 0.7628571428571428\n",
      "F1 score 24  feature: 0.7628571428571429\n",
      "roc_auc 24  feature: 0.9356226987870032\n",
      "cross entropy loss 24  feature: -0.7538680233829647\n"
     ]
    }
   ],
   "source": [
    "start=datetime.now()\n",
    "accuracy_score_24_rf =cross_val_score(rf2, X1_train, y1_train, cv=5,scoring='accuracy').mean()\n",
    "F1_score_24_rf =cross_val_score(rf2, X1_train, y1_train, cv=5,scoring='f1_micro').mean()\n",
    "roc_auc_score_24_rf =cross_val_score(rf2, X1_train, y1_train, cv=5,scoring='roc_auc_ovr').mean()\n",
    "neg_loss_score_24_rf =cross_val_score(rf2, X1_train, y1_train, cv=5,scoring='neg_log_loss').mean()\n",
    "\n",
    "stop=datetime.now()\n",
    "execution_time_rf=(stop-start)/20\n",
    "execution_time_rf\n",
    "\n",
    "print(\"accuracy 24  feature:\",accuracy_score_24_rf)\n",
    "print('F1 score 24  feature:',F1_score_24_rf)\n",
    "print('roc_auc 24  feature:',roc_auc_score_24_rf)\n",
    "print(\"cross entropy loss 24  feature:\",neg_loss_score_24_rf)"
   ]
  },
  {
   "cell_type": "code",
   "execution_count": 105,
   "id": "104e26a3",
   "metadata": {},
   "outputs": [
    {
     "name": "stdout",
     "output_type": "stream",
     "text": [
      "0.2148\n"
     ]
    }
   ],
   "source": [
    "training_time_rf=execution_time_rf.total_seconds()\n",
    "training_time_rf='%.4f'%training_time_rf\n",
    "print(training_time_rf)"
   ]
  },
  {
   "cell_type": "code",
   "execution_count": 106,
   "id": "d82c5a80",
   "metadata": {},
   "outputs": [
    {
     "name": "stdout",
     "output_type": "stream",
     "text": [
      "Accuracy score with RF is:  0.7727272727272727\n",
      "F1 score with RF is:  0.7727272727272727\n",
      "ROC_AUC score with RF is:  0.9123030288427544\n",
      "Cross entropy loss score with RF is:  0.7585817267570548\n",
      "0.7727\n",
      "0.7727\n",
      "0.9123\n",
      "0.7586\n"
     ]
    }
   ],
   "source": [
    "rf_arrhthymia=rf2.fit(X1_train,y1_train)\n",
    "y_pred_rf2=rf2.predict(X1_test)\n",
    "y_prob_rf2=rf2.predict_proba(X1_test)\n",
    "print(\"Accuracy score with RF is: \",accuracy_score(y1_test, y_pred_rf2))\n",
    "print(\"F1 score with RF is: \",f1_score(y1_test, y_pred_rf2,average='micro'))\n",
    "print(\"ROC_AUC score with RF is: \", roc_auc_score(y1_test,y_prob_rf2,multi_class='ovr',labels=np.unique(y1_test)))\n",
    "print(\"Cross entropy loss score with RF is: \",log_loss(y1_test,y_prob_rf2))\n",
    "\n",
    "\n",
    "rf_accuracy='%.4f'%accuracy_score(y1_test, y_pred_rf2)\n",
    "rf_f1='%.4f'%f1_score(y1_test, y_pred_rf2,average='micro')\n",
    "rf_roc_auc='%.4f'% roc_auc_score(y1_test,y_prob_rf2,multi_class='ovr',labels=np.unique(y1_test))\n",
    "rf_loss='%.4f'%log_loss(y1_test,y_prob_rf2)\n",
    "print(rf_accuracy)\n",
    "print(rf_f1)\n",
    "print(rf_roc_auc)\n",
    "print(rf_loss)"
   ]
  },
  {
   "cell_type": "code",
   "execution_count": 107,
   "id": "617c6996",
   "metadata": {},
   "outputs": [
    {
     "data": {
      "text/plain": [
       "['rf_arrhthymia.model']"
      ]
     },
     "execution_count": 107,
     "metadata": {},
     "output_type": "execute_result"
    }
   ],
   "source": [
    "# save the model\n",
    "joblib.dump(rf_arrhthymia,'rf_arrhthymia.model')"
   ]
  },
  {
   "cell_type": "code",
   "execution_count": 108,
   "id": "a44ad972",
   "metadata": {},
   "outputs": [],
   "source": [
    "   #加载模型\n",
    "RFrf=joblib.load('rf_arrhthymia.model')\n",
    "   #应用模型进行预测\n",
    "rfresult=RFrf.score(X1_test,y1_test)"
   ]
  },
  {
   "cell_type": "code",
   "execution_count": 109,
   "id": "55737517",
   "metadata": {},
   "outputs": [
    {
     "data": {
      "text/plain": [
       "0.7727272727272727"
      ]
     },
     "execution_count": 109,
     "metadata": {},
     "output_type": "execute_result"
    }
   ],
   "source": [
    "rfresult"
   ]
  }
 ],
 "metadata": {
  "kernelspec": {
   "display_name": "Python 3 (ipykernel)",
   "language": "python",
   "name": "python3"
  },
  "language_info": {
   "codemirror_mode": {
    "name": "ipython",
    "version": 3
   },
   "file_extension": ".py",
   "mimetype": "text/x-python",
   "name": "python",
   "nbconvert_exporter": "python",
   "pygments_lexer": "ipython3",
   "version": "3.9.7"
  },
  "toc": {
   "base_numbering": 1,
   "nav_menu": {},
   "number_sections": true,
   "sideBar": true,
   "skip_h1_title": false,
   "title_cell": "Table of Contents",
   "title_sidebar": "Contents",
   "toc_cell": false,
   "toc_position": {},
   "toc_section_display": true,
   "toc_window_display": false
  }
 },
 "nbformat": 4,
 "nbformat_minor": 5
}

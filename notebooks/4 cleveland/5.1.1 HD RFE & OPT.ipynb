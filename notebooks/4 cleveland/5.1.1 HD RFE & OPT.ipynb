{
 "cells": [
  {
   "cell_type": "markdown",
   "id": "6e33f088",
   "metadata": {},
   "source": [
    "# Import the package"
   ]
  },
  {
   "cell_type": "code",
   "execution_count": 2,
   "id": "3a9cc4cf",
   "metadata": {},
   "outputs": [],
   "source": [
    "from datetime import datetime\n",
    "import lightgbm as lgb\n",
    "from lightgbm import LGBMClassifier\n",
    "from lightgbm import plot_importance\n",
    "\n",
    "import matplotlib.pyplot as plt\n",
    "from matplotlib import pyplot\n",
    "%matplotlib inline\n",
    "import numpy as np\n",
    "from numpy import mean\n",
    "from numpy import std\n",
    "from numpy import sort\n",
    "import pandas as pd\n",
    "from pandas.core.frame import DataFrame\n",
    "from sklearn.svm import SVC\n",
    "from sklearn.decomposition import PCA\n",
    "from sklearn.ensemble import RandomForestClassifier as RFC\n",
    "from sklearn.feature_selection import SelectFromModel\n",
    "from sklearn import metrics\n",
    "from sklearn.metrics import f1_score  \n",
    "from sklearn.metrics import mean_absolute_error\n",
    "from sklearn.metrics import confusion_matrix,roc_curve,roc_auc_score,accuracy_score, plot_confusion_matrix,classification_report\n",
    "from sklearn.model_selection import cross_val_score\n",
    "from sklearn.model_selection import RepeatedStratifiedKFold\n",
    "from sklearn.model_selection import train_test_split\n",
    "from sklearn.preprocessing import LabelEncoder\n",
    "from sklearn.preprocessing import OneHotEncoder\n",
    "from sklearn.preprocessing import StandardScaler\n",
    "from sklearn.utils import class_weight\n",
    "from sklearn.metrics import log_loss\n",
    "import seaborn as sns\n",
    "import warnings\n",
    "warnings.filterwarnings(\"ignore\")\n",
    "from sklearn.model_selection import StratifiedKFold\n",
    "from sklearn.metrics import make_scorer\n",
    "from skopt import BayesSearchCV\n",
    "from skopt.callbacks import DeadlineStopper,DeltaYStopper\n",
    "from skopt.space import Real,Categorical,Integer\n",
    "from sklearn.feature_selection import RFECV\n",
    "from sklearn.feature_selection import RFE\n",
    "import joblib"
   ]
  },
  {
   "cell_type": "markdown",
   "id": "b9814a32",
   "metadata": {},
   "source": [
    "# Datasets"
   ]
  },
  {
   "cell_type": "code",
   "execution_count": 15,
   "id": "1e171fa4",
   "metadata": {},
   "outputs": [
    {
     "data": {
      "text/html": [
       "<div>\n",
       "<style scoped>\n",
       "    .dataframe tbody tr th:only-of-type {\n",
       "        vertical-align: middle;\n",
       "    }\n",
       "\n",
       "    .dataframe tbody tr th {\n",
       "        vertical-align: top;\n",
       "    }\n",
       "\n",
       "    .dataframe thead th {\n",
       "        text-align: right;\n",
       "    }\n",
       "</style>\n",
       "<table border=\"1\" class=\"dataframe\">\n",
       "  <thead>\n",
       "    <tr style=\"text-align: right;\">\n",
       "      <th></th>\n",
       "      <th>age</th>\n",
       "      <th>sex</th>\n",
       "      <th>cp</th>\n",
       "      <th>trestbps</th>\n",
       "      <th>chol</th>\n",
       "      <th>fbs</th>\n",
       "      <th>restecg</th>\n",
       "      <th>thalach</th>\n",
       "      <th>exang</th>\n",
       "      <th>oldpeak</th>\n",
       "      <th>slope</th>\n",
       "      <th>ca</th>\n",
       "      <th>thal</th>\n",
       "      <th>label</th>\n",
       "    </tr>\n",
       "  </thead>\n",
       "  <tbody>\n",
       "    <tr>\n",
       "      <th>0</th>\n",
       "      <td>63</td>\n",
       "      <td>1</td>\n",
       "      <td>1</td>\n",
       "      <td>145</td>\n",
       "      <td>233</td>\n",
       "      <td>1</td>\n",
       "      <td>2</td>\n",
       "      <td>150</td>\n",
       "      <td>0</td>\n",
       "      <td>2.3</td>\n",
       "      <td>3</td>\n",
       "      <td>0</td>\n",
       "      <td>6</td>\n",
       "      <td>0</td>\n",
       "    </tr>\n",
       "    <tr>\n",
       "      <th>1</th>\n",
       "      <td>67</td>\n",
       "      <td>1</td>\n",
       "      <td>4</td>\n",
       "      <td>160</td>\n",
       "      <td>286</td>\n",
       "      <td>0</td>\n",
       "      <td>2</td>\n",
       "      <td>108</td>\n",
       "      <td>1</td>\n",
       "      <td>1.5</td>\n",
       "      <td>2</td>\n",
       "      <td>3</td>\n",
       "      <td>3</td>\n",
       "      <td>1</td>\n",
       "    </tr>\n",
       "    <tr>\n",
       "      <th>2</th>\n",
       "      <td>67</td>\n",
       "      <td>1</td>\n",
       "      <td>4</td>\n",
       "      <td>120</td>\n",
       "      <td>229</td>\n",
       "      <td>0</td>\n",
       "      <td>2</td>\n",
       "      <td>129</td>\n",
       "      <td>1</td>\n",
       "      <td>2.6</td>\n",
       "      <td>2</td>\n",
       "      <td>2</td>\n",
       "      <td>7</td>\n",
       "      <td>1</td>\n",
       "    </tr>\n",
       "    <tr>\n",
       "      <th>3</th>\n",
       "      <td>37</td>\n",
       "      <td>1</td>\n",
       "      <td>3</td>\n",
       "      <td>130</td>\n",
       "      <td>250</td>\n",
       "      <td>0</td>\n",
       "      <td>0</td>\n",
       "      <td>187</td>\n",
       "      <td>0</td>\n",
       "      <td>3.5</td>\n",
       "      <td>3</td>\n",
       "      <td>0</td>\n",
       "      <td>3</td>\n",
       "      <td>0</td>\n",
       "    </tr>\n",
       "    <tr>\n",
       "      <th>4</th>\n",
       "      <td>41</td>\n",
       "      <td>0</td>\n",
       "      <td>2</td>\n",
       "      <td>130</td>\n",
       "      <td>204</td>\n",
       "      <td>0</td>\n",
       "      <td>2</td>\n",
       "      <td>172</td>\n",
       "      <td>0</td>\n",
       "      <td>1.4</td>\n",
       "      <td>1</td>\n",
       "      <td>0</td>\n",
       "      <td>3</td>\n",
       "      <td>0</td>\n",
       "    </tr>\n",
       "  </tbody>\n",
       "</table>\n",
       "</div>"
      ],
      "text/plain": [
       "   age  sex  cp  trestbps  chol  fbs  restecg  thalach  exang  oldpeak  slope  \\\n",
       "0   63    1   1       145   233    1        2      150      0      2.3      3   \n",
       "1   67    1   4       160   286    0        2      108      1      1.5      2   \n",
       "2   67    1   4       120   229    0        2      129      1      2.6      2   \n",
       "3   37    1   3       130   250    0        0      187      0      3.5      3   \n",
       "4   41    0   2       130   204    0        2      172      0      1.4      1   \n",
       "\n",
       "   ca  thal  label  \n",
       "0   0     6      0  \n",
       "1   3     3      1  \n",
       "2   2     7      1  \n",
       "3   0     3      0  \n",
       "4   0     3      0  "
      ]
     },
     "execution_count": 15,
     "metadata": {},
     "output_type": "execute_result"
    }
   ],
   "source": [
    "HDbi=pd.read_csv('Filled Binary HD.csv')\n",
    "# ,index_col=0)\n",
    "HDbi.head()\n"
   ]
  },
  {
   "cell_type": "code",
   "execution_count": 17,
   "id": "f944e4de",
   "metadata": {},
   "outputs": [],
   "source": [
    "X=HDbi.drop(labels=['label'],axis=1)\n",
    "\n",
    "y=HDbi['label'].values"
   ]
  },
  {
   "cell_type": "code",
   "execution_count": 18,
   "id": "45a8d78e",
   "metadata": {},
   "outputs": [],
   "source": [
    "#stanardilization\n",
    "from sklearn.preprocessing import StandardScaler\n",
    "scaler=StandardScaler()\n",
    "scaler.fit(X)\n",
    "X=scaler.transform(X)"
   ]
  },
  {
   "cell_type": "code",
   "execution_count": 19,
   "id": "2c6ff3e0",
   "metadata": {},
   "outputs": [],
   "source": [
    "#split train dataset and test dataset\n",
    "X_train, X_test,y_train,y_test= train_test_split(X,y,test_size=0.2,random_state=42)\n",
    "\n"
   ]
  },
  {
   "cell_type": "code",
   "execution_count": 20,
   "id": "a743f99e",
   "metadata": {},
   "outputs": [],
   "source": [
    "gbm =lgbm_params=LGBMClassifier(boosting_type='gbdt',max_depth=4, num_leaves=300,\n",
    "                                learning_rate=0.01,n_estimators=150)\n"
   ]
  },
  {
   "cell_type": "code",
   "execution_count": 70,
   "id": "38f025e1",
   "metadata": {},
   "outputs": [
    {
     "name": "stdout",
     "output_type": "stream",
     "text": [
      "cross validation loss at trainingset: -0.45425968224741853\n",
      "gbm at testset accuracy: 0.8524590163934426\n",
      "loss at testset annually calculated : 0.38229790242105466\n"
     ]
    }
   ],
   "source": [
    "\n",
    "score =cross_val_score(gbm, X_train, y_train, cv=5,scoring='neg_log_loss').mean()\n",
    "print('cross validation loss at trainingset:',score) \n",
    "\n",
    "gbm.fit(X_train, y_train)\n",
    "prob_gbm=gbm.predict_proba(X_test)\n",
    "loss_gbm=log_loss(y_test,prob_gbm)\n",
    "print('gbm at testset accuracy:',gbm.score(X_test,y_test)) \n",
    "print('loss at testset annually calculated :',loss_gbm)  "
   ]
  },
  {
   "cell_type": "markdown",
   "id": "79757913",
   "metadata": {},
   "source": [
    "# RFE"
   ]
  },
  {
   "cell_type": "markdown",
   "id": "25210a38",
   "metadata": {},
   "source": [
    " ## Bayes OPT hyperparameter searching"
   ]
  },
  {
   "cell_type": "code",
   "execution_count": 71,
   "id": "6487fcaf",
   "metadata": {},
   "outputs": [
    {
     "name": "stdout",
     "output_type": "stream",
     "text": [
      "0:00:41.757133\n"
     ]
    }
   ],
   "source": [
    "start=datetime.now()\n",
    "\n",
    "# Bayers搜索，参数优化\n",
    "BayerLgbmopt = BayesSearchCV(\n",
    "     gbm,\n",
    "     {         \n",
    "        'learning_rate': (0.005,0.01,0.001), \n",
    "        'n_estimators': (100,300), \n",
    "  \n",
    "        'max_depth': (3,8), \n",
    "        'num_leaves':(8, 170),\n",
    "         \n",
    "        'subsample': (0.5,0.8), \n",
    "        'colsample_bytree': (0.5,0.8)\n",
    "       \n",
    "    } ,\n",
    "     n_iter=50,\n",
    "     cv=5\n",
    "     ,scoring=\"neg_log_loss\"\n",
    "    ,random_state=42\n",
    "    ,n_points=2\n",
    ")\n",
    "BayerLgbmopt.fit(X_train, y_train)\n",
    "\n",
    "stop=datetime.now()\n",
    "\n",
    "execution_time_lgbm0=(stop-start)\n",
    "print(execution_time_lgbm0)"
   ]
  },
  {
   "cell_type": "code",
   "execution_count": 72,
   "id": "9effc58f",
   "metadata": {},
   "outputs": [
    {
     "name": "stdout",
     "output_type": "stream",
     "text": [
      "Best parameters found by Bayes search are: OrderedDict([('colsample_bytree', 0.5), ('learning_rate', 0.01), ('max_depth', 8), ('n_estimators', 300), ('num_leaves', 8), ('subsample', 0.5)])\n",
      "val. score: -0.40873240241410763\n",
      "test score: -0.318809706288266\n"
     ]
    }
   ],
   "source": [
    "print('Best parameters found by Bayes search are:', BayerLgbmopt.best_params_)\n",
    "print(\"val. score: %s\" % BayerLgbmopt.best_score_)\n",
    "print(\"test score: %s\" % BayerLgbmopt.score(X_test, y_test))"
   ]
  },
  {
   "cell_type": "markdown",
   "id": "e30fc4bb",
   "metadata": {},
   "source": [
    "###  Build the modle with the OPT hyperparameter"
   ]
  },
  {
   "cell_type": "code",
   "execution_count": 169,
   "id": "36936940",
   "metadata": {},
   "outputs": [],
   "source": [
    "lgbm=LGBMClassifier(boosting_type='gbdt',\n",
    "                                 max_depth=8, num_leaves=8,\n",
    "                                learning_rate=0.01,n_estimators=300,\n",
    "                                colsample_bytree= 0.5,subsample= 0.5)"
   ]
  },
  {
   "cell_type": "markdown",
   "id": "0e537864",
   "metadata": {},
   "source": [
    "###  Feature selection with the OPT model"
   ]
  },
  {
   "cell_type": "code",
   "execution_count": 76,
   "id": "7842fa3e",
   "metadata": {},
   "outputs": [
    {
     "name": "stdout",
     "output_type": "stream",
     "text": [
      "0.3780187547947218 10\n",
      "[0.6242413537837662, 0.6274485247640864, 0.644779666972882, 0.5864913356908097, 0.5018230222278428, 0.433927882672278, 0.3944406634434669, 0.38055379883441587, 0.3819078800926734, 0.3780187547947218, 0.38764669393193374, 0.3846133604369906, 0.38842666271494614]\n"
     ]
    },
    {
     "data": {
      "image/png": "[encoded data removed]",
      "text/plain": [
       "<Figure size 720x360 with 1 Axes>"
      ]
     },
     "metadata": {
      "needs_background": "light"
     },
     "output_type": "display_data"
    },
    {
     "data": {
      "text/plain": [
       "datetime.timedelta(seconds=5, microseconds=843968)"
      ]
     },
     "execution_count": 76,
     "metadata": {},
     "output_type": "execute_result"
    }
   ],
   "source": [
    "# 递归特征消除法和曲线图选取最优特征数量 \n",
    "start=datetime.now()\n",
    "score = []                                                            # 建立列表\n",
    "for i in range(1,14, 1):\n",
    "    X_wrapper=RFE(lgbm, n_features_to_select=i, step=1).fit_transform(X, y)      # 最优特征 \n",
    "    once = cross_val_score(lgbm, X_wrapper, y, cv=5,scoring='neg_log_loss').mean()                      # 交叉验证\n",
    "    score.append(once)                                                           # 交叉验证结果保存到列表\n",
    "cross_entropy_loss=[j * -1 for j in score]\n",
    "\n",
    "print(min(cross_entropy_loss), (cross_entropy_loss.index(min(cross_entropy_loss))*1)+1)                                 # 输出最优分类结果和对应的特征数量\n",
    "print(cross_entropy_loss)\n",
    "plt.figure(figsize=[10, 5])\n",
    "plt.plot(range(1, 14, 1), cross_entropy_loss)\n",
    "plt.xticks(range(0, 14))\n",
    "plt.xlabel(u'features', fontsize=18)\n",
    "plt.ylabel(u'cross_entropy loss', fontsize=18)\n",
    "plt.grid()\n",
    "plt.show()\n",
    "stop=datetime.now()\n",
    "\n",
    "execution_time_lgbm1=(stop-start)\n",
    "execution_time_lgbm1"
   ]
  },
  {
   "cell_type": "code",
   "execution_count": 170,
   "id": "54923d99",
   "metadata": {},
   "outputs": [
    {
     "name": "stdout",
     "output_type": "stream",
     "text": [
      "[1 1 1 2 1 4 1 1 1 1 3 1 1]\n",
      "10\n"
     ]
    },
    {
     "data": {
      "text/plain": [
       "datetime.timedelta(microseconds=168925)"
      ]
     },
     "execution_count": 170,
     "metadata": {},
     "output_type": "execute_result"
    }
   ],
   "source": [
    "# 4.递归特征消除法\n",
    "start=datetime.now()\n",
    "selector = RFE(lgbm, n_features_to_select=10, step=1).fit(X, y)       # n_features_to_select表示筛选最终特征数量，step表示每次排除一个特征\n",
    "selector.support_.sum()\n",
    "print(selector.ranking_)                                             # 特征排除排序\n",
    "print(selector.n_features_)                                          # 选择特征数量\n",
    "X_wrapper_10 = selector.transform(X)                                   # 最优特征\n",
    "\n",
    "\n",
    "stop=datetime.now()\n",
    "\n",
    "execution_time_lgbm2=(stop-start)\n",
    "execution_time_lgbm2"
   ]
  },
  {
   "cell_type": "markdown",
   "id": "d36c2a3e",
   "metadata": {},
   "source": [
    "## Save the selected feature to csv file"
   ]
  },
  {
   "cell_type": "code",
   "execution_count": 172,
   "id": "0638700b",
   "metadata": {},
   "outputs": [
    {
     "data": {
      "text/plain": [
       "array([ 0,  1,  2,  4,  6,  7,  8,  9, 11, 12], dtype=int64)"
      ]
     },
     "execution_count": 172,
     "metadata": {},
     "output_type": "execute_result"
    }
   ],
   "source": [
    "index10=selector.get_support(indices=True)\n",
    "index10"
   ]
  },
  {
   "cell_type": "code",
   "execution_count": 173,
   "id": "710ec10a",
   "metadata": {},
   "outputs": [
    {
     "data": {
      "text/html": [
       "<div>\n",
       "<style scoped>\n",
       "    .dataframe tbody tr th:only-of-type {\n",
       "        vertical-align: middle;\n",
       "    }\n",
       "\n",
       "    .dataframe tbody tr th {\n",
       "        vertical-align: top;\n",
       "    }\n",
       "\n",
       "    .dataframe thead th {\n",
       "        text-align: right;\n",
       "    }\n",
       "</style>\n",
       "<table border=\"1\" class=\"dataframe\">\n",
       "  <thead>\n",
       "    <tr style=\"text-align: right;\">\n",
       "      <th></th>\n",
       "      <th>age</th>\n",
       "      <th>sex</th>\n",
       "      <th>cp</th>\n",
       "      <th>chol</th>\n",
       "      <th>restecg</th>\n",
       "      <th>thalach</th>\n",
       "      <th>exang</th>\n",
       "      <th>oldpeak</th>\n",
       "      <th>ca</th>\n",
       "      <th>thal</th>\n",
       "      <th>label</th>\n",
       "    </tr>\n",
       "  </thead>\n",
       "  <tbody>\n",
       "    <tr>\n",
       "      <th>0</th>\n",
       "      <td>63</td>\n",
       "      <td>1</td>\n",
       "      <td>1</td>\n",
       "      <td>233</td>\n",
       "      <td>2</td>\n",
       "      <td>150</td>\n",
       "      <td>0</td>\n",
       "      <td>2.3</td>\n",
       "      <td>0</td>\n",
       "      <td>6</td>\n",
       "      <td>0</td>\n",
       "    </tr>\n",
       "    <tr>\n",
       "      <th>1</th>\n",
       "      <td>67</td>\n",
       "      <td>1</td>\n",
       "      <td>4</td>\n",
       "      <td>286</td>\n",
       "      <td>2</td>\n",
       "      <td>108</td>\n",
       "      <td>1</td>\n",
       "      <td>1.5</td>\n",
       "      <td>3</td>\n",
       "      <td>3</td>\n",
       "      <td>1</td>\n",
       "    </tr>\n",
       "    <tr>\n",
       "      <th>2</th>\n",
       "      <td>67</td>\n",
       "      <td>1</td>\n",
       "      <td>4</td>\n",
       "      <td>229</td>\n",
       "      <td>2</td>\n",
       "      <td>129</td>\n",
       "      <td>1</td>\n",
       "      <td>2.6</td>\n",
       "      <td>2</td>\n",
       "      <td>7</td>\n",
       "      <td>1</td>\n",
       "    </tr>\n",
       "    <tr>\n",
       "      <th>3</th>\n",
       "      <td>37</td>\n",
       "      <td>1</td>\n",
       "      <td>3</td>\n",
       "      <td>250</td>\n",
       "      <td>0</td>\n",
       "      <td>187</td>\n",
       "      <td>0</td>\n",
       "      <td>3.5</td>\n",
       "      <td>0</td>\n",
       "      <td>3</td>\n",
       "      <td>0</td>\n",
       "    </tr>\n",
       "    <tr>\n",
       "      <th>4</th>\n",
       "      <td>41</td>\n",
       "      <td>0</td>\n",
       "      <td>2</td>\n",
       "      <td>204</td>\n",
       "      <td>2</td>\n",
       "      <td>172</td>\n",
       "      <td>0</td>\n",
       "      <td>1.4</td>\n",
       "      <td>0</td>\n",
       "      <td>3</td>\n",
       "      <td>0</td>\n",
       "    </tr>\n",
       "    <tr>\n",
       "      <th>...</th>\n",
       "      <td>...</td>\n",
       "      <td>...</td>\n",
       "      <td>...</td>\n",
       "      <td>...</td>\n",
       "      <td>...</td>\n",
       "      <td>...</td>\n",
       "      <td>...</td>\n",
       "      <td>...</td>\n",
       "      <td>...</td>\n",
       "      <td>...</td>\n",
       "      <td>...</td>\n",
       "    </tr>\n",
       "    <tr>\n",
       "      <th>298</th>\n",
       "      <td>45</td>\n",
       "      <td>1</td>\n",
       "      <td>1</td>\n",
       "      <td>264</td>\n",
       "      <td>0</td>\n",
       "      <td>132</td>\n",
       "      <td>0</td>\n",
       "      <td>1.2</td>\n",
       "      <td>0</td>\n",
       "      <td>7</td>\n",
       "      <td>1</td>\n",
       "    </tr>\n",
       "    <tr>\n",
       "      <th>299</th>\n",
       "      <td>68</td>\n",
       "      <td>1</td>\n",
       "      <td>4</td>\n",
       "      <td>193</td>\n",
       "      <td>0</td>\n",
       "      <td>141</td>\n",
       "      <td>0</td>\n",
       "      <td>3.4</td>\n",
       "      <td>2</td>\n",
       "      <td>7</td>\n",
       "      <td>1</td>\n",
       "    </tr>\n",
       "    <tr>\n",
       "      <th>300</th>\n",
       "      <td>57</td>\n",
       "      <td>1</td>\n",
       "      <td>4</td>\n",
       "      <td>131</td>\n",
       "      <td>0</td>\n",
       "      <td>115</td>\n",
       "      <td>1</td>\n",
       "      <td>1.2</td>\n",
       "      <td>1</td>\n",
       "      <td>7</td>\n",
       "      <td>1</td>\n",
       "    </tr>\n",
       "    <tr>\n",
       "      <th>301</th>\n",
       "      <td>57</td>\n",
       "      <td>0</td>\n",
       "      <td>2</td>\n",
       "      <td>236</td>\n",
       "      <td>2</td>\n",
       "      <td>174</td>\n",
       "      <td>0</td>\n",
       "      <td>0.0</td>\n",
       "      <td>1</td>\n",
       "      <td>3</td>\n",
       "      <td>1</td>\n",
       "    </tr>\n",
       "    <tr>\n",
       "      <th>302</th>\n",
       "      <td>38</td>\n",
       "      <td>1</td>\n",
       "      <td>3</td>\n",
       "      <td>175</td>\n",
       "      <td>0</td>\n",
       "      <td>173</td>\n",
       "      <td>0</td>\n",
       "      <td>0.0</td>\n",
       "      <td>1</td>\n",
       "      <td>3</td>\n",
       "      <td>0</td>\n",
       "    </tr>\n",
       "  </tbody>\n",
       "</table>\n",
       "<p>303 rows × 11 columns</p>\n",
       "</div>"
      ],
      "text/plain": [
       "     age  sex  cp  chol  restecg  thalach  exang  oldpeak  ca  thal label\n",
       "0     63    1   1   233        2      150      0      2.3   0     6     0\n",
       "1     67    1   4   286        2      108      1      1.5   3     3     1\n",
       "2     67    1   4   229        2      129      1      2.6   2     7     1\n",
       "3     37    1   3   250        0      187      0      3.5   0     3     0\n",
       "4     41    0   2   204        2      172      0      1.4   0     3     0\n",
       "..   ...  ...  ..   ...      ...      ...    ...      ...  ..   ...   ...\n",
       "298   45    1   1   264        0      132      0      1.2   0     7     1\n",
       "299   68    1   4   193        0      141      0      3.4   2     7     1\n",
       "300   57    1   4   131        0      115      1      1.2   1     7     1\n",
       "301   57    0   2   236        2      174      0      0.0   1     3     1\n",
       "302   38    1   3   175        0      173      0      0.0   1     3     0\n",
       "\n",
       "[303 rows x 11 columns]"
      ]
     },
     "execution_count": 173,
     "metadata": {},
     "output_type": "execute_result"
    }
   ],
   "source": [
    "idx=[  0,  1,  2,  4,  6,  7,  8,  9, 11, 12]\n",
    "A=arrFilled01.iloc[ :,idx]\n",
    "A['label'] = y\n",
    "A"
   ]
  },
  {
   "cell_type": "code",
   "execution_count": 174,
   "id": "835d76a0",
   "metadata": {},
   "outputs": [],
   "source": [
    "A.to_csv('HD selected 10 features.csv',index=False)"
   ]
  },
  {
   "cell_type": "markdown",
   "id": "8a3367cb",
   "metadata": {},
   "source": [
    "# OPT"
   ]
  },
  {
   "cell_type": "code",
   "execution_count": 21,
   "id": "ff514878",
   "metadata": {},
   "outputs": [
    {
     "data": {
      "text/html": [
       "<div>\n",
       "<style scoped>\n",
       "    .dataframe tbody tr th:only-of-type {\n",
       "        vertical-align: middle;\n",
       "    }\n",
       "\n",
       "    .dataframe tbody tr th {\n",
       "        vertical-align: top;\n",
       "    }\n",
       "\n",
       "    .dataframe thead th {\n",
       "        text-align: right;\n",
       "    }\n",
       "</style>\n",
       "<table border=\"1\" class=\"dataframe\">\n",
       "  <thead>\n",
       "    <tr style=\"text-align: right;\">\n",
       "      <th></th>\n",
       "      <th>age</th>\n",
       "      <th>sex</th>\n",
       "      <th>cp</th>\n",
       "      <th>chol</th>\n",
       "      <th>restecg</th>\n",
       "      <th>thalach</th>\n",
       "      <th>exang</th>\n",
       "      <th>oldpeak</th>\n",
       "      <th>ca</th>\n",
       "      <th>thal</th>\n",
       "      <th>label</th>\n",
       "    </tr>\n",
       "  </thead>\n",
       "  <tbody>\n",
       "    <tr>\n",
       "      <th>0</th>\n",
       "      <td>63</td>\n",
       "      <td>1</td>\n",
       "      <td>1</td>\n",
       "      <td>233</td>\n",
       "      <td>2</td>\n",
       "      <td>150</td>\n",
       "      <td>0</td>\n",
       "      <td>2.3</td>\n",
       "      <td>0</td>\n",
       "      <td>6</td>\n",
       "      <td>0</td>\n",
       "    </tr>\n",
       "    <tr>\n",
       "      <th>1</th>\n",
       "      <td>67</td>\n",
       "      <td>1</td>\n",
       "      <td>4</td>\n",
       "      <td>286</td>\n",
       "      <td>2</td>\n",
       "      <td>108</td>\n",
       "      <td>1</td>\n",
       "      <td>1.5</td>\n",
       "      <td>3</td>\n",
       "      <td>3</td>\n",
       "      <td>1</td>\n",
       "    </tr>\n",
       "    <tr>\n",
       "      <th>2</th>\n",
       "      <td>67</td>\n",
       "      <td>1</td>\n",
       "      <td>4</td>\n",
       "      <td>229</td>\n",
       "      <td>2</td>\n",
       "      <td>129</td>\n",
       "      <td>1</td>\n",
       "      <td>2.6</td>\n",
       "      <td>2</td>\n",
       "      <td>7</td>\n",
       "      <td>1</td>\n",
       "    </tr>\n",
       "    <tr>\n",
       "      <th>3</th>\n",
       "      <td>37</td>\n",
       "      <td>1</td>\n",
       "      <td>3</td>\n",
       "      <td>250</td>\n",
       "      <td>0</td>\n",
       "      <td>187</td>\n",
       "      <td>0</td>\n",
       "      <td>3.5</td>\n",
       "      <td>0</td>\n",
       "      <td>3</td>\n",
       "      <td>0</td>\n",
       "    </tr>\n",
       "    <tr>\n",
       "      <th>4</th>\n",
       "      <td>41</td>\n",
       "      <td>0</td>\n",
       "      <td>2</td>\n",
       "      <td>204</td>\n",
       "      <td>2</td>\n",
       "      <td>172</td>\n",
       "      <td>0</td>\n",
       "      <td>1.4</td>\n",
       "      <td>0</td>\n",
       "      <td>3</td>\n",
       "      <td>0</td>\n",
       "    </tr>\n",
       "  </tbody>\n",
       "</table>\n",
       "</div>"
      ],
      "text/plain": [
       "   age  sex  cp  chol  restecg  thalach  exang  oldpeak  ca  thal  label\n",
       "0   63    1   1   233        2      150      0      2.3   0     6      0\n",
       "1   67    1   4   286        2      108      1      1.5   3     3      1\n",
       "2   67    1   4   229        2      129      1      2.6   2     7      1\n",
       "3   37    1   3   250        0      187      0      3.5   0     3      0\n",
       "4   41    0   2   204        2      172      0      1.4   0     3      0"
      ]
     },
     "execution_count": 21,
     "metadata": {},
     "output_type": "execute_result"
    }
   ],
   "source": [
    "features10=pd.read_csv('HD selected 10 features.csv')\n",
    "# ,index_col=0)\n",
    "features10.head()"
   ]
  },
  {
   "cell_type": "code",
   "execution_count": 22,
   "id": "bee36fe6",
   "metadata": {},
   "outputs": [],
   "source": [
    "X1=features10.drop(labels=['label'],axis=1)\n",
    "\n",
    "y1=features10['label'].values"
   ]
  },
  {
   "cell_type": "code",
   "execution_count": 23,
   "id": "e1972b2a",
   "metadata": {},
   "outputs": [],
   "source": [
    "scaler=StandardScaler()\n",
    "scaler.fit(X1)\n",
    "X1=scaler.transform(X1)\n",
    "#split train dataset and test dataset\n"
   ]
  },
  {
   "cell_type": "code",
   "execution_count": 24,
   "id": "8fd65247",
   "metadata": {},
   "outputs": [],
   "source": [
    "X1_train, X1_test, y1_train, y1_test =train_test_split(X1, y1,test_size=0.20, random_state=0, stratify=y1)"
   ]
  },
  {
   "cell_type": "markdown",
   "id": "b37c00b1",
   "metadata": {},
   "source": [
    "## Light GBM"
   ]
  },
  {
   "cell_type": "code",
   "execution_count": 281,
   "id": "4b69f87e",
   "metadata": {},
   "outputs": [
    {
     "data": {
      "text/plain": [
       "LGBMClassifier(colsample_bytree=0.5, learning_rate=0.01, max_depth=8,\n",
       "               n_estimators=300, num_leaves=8, subsample=0.5)"
      ]
     },
     "execution_count": 281,
     "metadata": {},
     "output_type": "execute_result"
    }
   ],
   "source": [
    "lgbm.fit(X1_train, y1_train)"
   ]
  },
  {
   "cell_type": "code",
   "execution_count": 283,
   "id": "e87ca88a",
   "metadata": {},
   "outputs": [
    {
     "name": "stdout",
     "output_type": "stream",
     "text": [
      "Accuracy score with LGBM is:  0.8360655737704918\n",
      "F1 score with LGBM is:  0.8360655737704918\n",
      "ROC_AUC score with LGBM is:  0.9404761904761905\n",
      "Cross entropy loss score with LGBM is:  0.3493712430687207\n"
     ]
    }
   ],
   "source": [
    "y_pred_lgbm1=lgbm.predict(X1_test)\n",
    "y_prob_lgbm1=lgbm.predict_proba(X1_test)[:, 1]\n",
    "print(\"Accuracy score with LGBM is: \",accuracy_score(y1_test, y_pred_lgbm1))\n",
    "print(\"F1 score with LGBM is: \",f1_score(y1_test, y_pred_lgbm1,average='micro'))\n",
    "print(\"ROC_AUC score with LGBM is: \", roc_auc_score(y1_test,y_prob_lgbm1))\n",
    "print(\"Cross entropy loss score with LGBM is: \",log_loss(y1_test,y_prob_lgbm1))\n"
   ]
  },
  {
   "cell_type": "markdown",
   "id": "b90c2c99",
   "metadata": {},
   "source": [
    "### 2nd OPT"
   ]
  },
  {
   "cell_type": "code",
   "execution_count": 267,
   "id": "d9b75a48",
   "metadata": {},
   "outputs": [
    {
     "name": "stdout",
     "output_type": "stream",
     "text": [
      "0:00:43.957337\n"
     ]
    }
   ],
   "source": [
    "start=datetime.now()\n",
    "\n",
    "# Bayers搜索，参数优化\n",
    "BayerLgbmopt1 = BayesSearchCV(\n",
    "     lgbm,\n",
    "     {         \n",
    "        'learning_rate': (0.005,0.01,0.001), \n",
    "        'n_estimators': (100,300), \n",
    "  \n",
    "        'max_depth': (3,8), \n",
    "        'num_leaves':(8, 170),\n",
    "         \n",
    "        'subsample': (0.5,0.8), \n",
    "        'colsample_bytree': (0.5,0.8)\n",
    "       \n",
    "    } ,\n",
    "     n_iter=50,\n",
    "     cv=5\n",
    "     ,scoring=\"neg_log_loss\"\n",
    "    ,random_state=42\n",
    "    ,n_points=2\n",
    ")\n",
    "BayerLgbmopt1.fit(X1_train, y1_train)\n",
    "\n",
    "stop=datetime.now()\n",
    "execution_time_lgbm3=(stop-start)\n",
    "print(execution_time_lgbm3)"
   ]
  },
  {
   "cell_type": "code",
   "execution_count": 284,
   "id": "6f0b8428",
   "metadata": {},
   "outputs": [
    {
     "name": "stdout",
     "output_type": "stream",
     "text": [
      "Best parameters found by Bayes search are: OrderedDict([('colsample_bytree', 0.5), ('learning_rate', 0.01), ('max_depth', 5), ('n_estimators', 300), ('num_leaves', 110), ('subsample', 0.5)])\n",
      "val. score: -0.4053941766662098\n",
      "test score: -0.7597034841906145\n"
     ]
    }
   ],
   "source": [
    "print('Best parameters found by Bayes search are:', BayerLgbmopt1.best_params_)\n",
    "print(\"val. score: %s\" % BayerLgbmopt1.best_score_)\n",
    "print(\"test score: %s\" % BayerLgbmopt1.score(X1_test, y1_test))"
   ]
  },
  {
   "cell_type": "code",
   "execution_count": 269,
   "id": "70946cd9",
   "metadata": {},
   "outputs": [],
   "source": [
    "lgbm1=LGBMClassifier(boosting_type='gbdt',\n",
    "                                 max_depth=8, num_leaves=8,\n",
    "                                learning_rate=0.01,n_estimators=300,\n",
    "                                colsample_bytree= 0.5,subsample= 0.5)"
   ]
  },
  {
   "cell_type": "code",
   "execution_count": 288,
   "id": "e131129d",
   "metadata": {},
   "outputs": [
    {
     "name": "stdout",
     "output_type": "stream",
     "text": [
      "0:00:00.068968\n"
     ]
    }
   ],
   "source": [
    "start=datetime.now()\n",
    "lgbm_hd=lgbm1.fit(X1_train,y1_train)\n",
    "stop=datetime.now()\n",
    "execution_time_lgbm4=(stop-start)\n",
    "\n",
    "print(execution_time_lgbm4)"
   ]
  },
  {
   "cell_type": "code",
   "execution_count": 272,
   "id": "63328df3",
   "metadata": {},
   "outputs": [
    {
     "data": {
      "text/plain": [
       "['lgbm_hd.model']"
      ]
     },
     "execution_count": 272,
     "metadata": {},
     "output_type": "execute_result"
    }
   ],
   "source": [
    "# save the model\n",
    "joblib.dump(lgbm_hd,'lgbm_hd.model')"
   ]
  },
  {
   "cell_type": "code",
   "execution_count": 273,
   "id": "fd0a80d1",
   "metadata": {},
   "outputs": [],
   "source": [
    "   #加载模型\n",
    "RFlgmb=joblib.load('lgbm_hd.model')\n",
    "   #应用模型进行预测\n",
    "resultlgmb=RFlgmb.score(X1_test,y1_test)"
   ]
  },
  {
   "cell_type": "code",
   "execution_count": 274,
   "id": "93782b7c",
   "metadata": {},
   "outputs": [
    {
     "data": {
      "text/plain": [
       "0.8360655737704918"
      ]
     },
     "execution_count": 274,
     "metadata": {},
     "output_type": "execute_result"
    }
   ],
   "source": [
    "resultlgmb"
   ]
  },
  {
   "cell_type": "code",
   "execution_count": null,
   "id": "8e8084c0",
   "metadata": {},
   "outputs": [],
   "source": []
  },
  {
   "cell_type": "code",
   "execution_count": 275,
   "id": "c3f79595",
   "metadata": {},
   "outputs": [
    {
     "name": "stdout",
     "output_type": "stream",
     "text": [
      "0.0690\n"
     ]
    }
   ],
   "source": [
    "training_time_lgbm=execution_time_lgbm4.total_seconds()\n",
    "training_time_lgbm='%.4f'%training_time_lgbm\n",
    "print(training_time_lgbm)"
   ]
  },
  {
   "cell_type": "code",
   "execution_count": 261,
   "id": "f7e3542f",
   "metadata": {},
   "outputs": [
    {
     "name": "stdout",
     "output_type": "stream",
     "text": [
      "accuracy 10  feature: 0.8097789115646258\n",
      "F1 score 10  feature: 0.8097789115646258\n",
      "roc_auc 10  feature: 0.9022037543776674\n",
      "cross entropy loss 10  feature: -0.405351906275797\n"
     ]
    }
   ],
   "source": [
    "\n",
    "\n",
    "start=datetime.now()\n",
    "accuracy_score_10 =cross_val_score(lgbm1, X1_train, y1_train, cv=5,scoring='accuracy').mean()\n",
    "F1_score_10 =cross_val_score(lgbm1, X1_train, y1_train, cv=5,scoring='f1_micro').mean()\n",
    "roc_auc_score_10 =cross_val_score(lgbm1, X1_train, y1_train, cv=5,scoring='roc_auc_ovr').mean()\n",
    "neg_loss_score_10 =cross_val_score(lgbm1, X1_train, y1_train, cv=5,scoring='neg_log_loss').mean()\n",
    "\n",
    "stop=datetime.now()\n",
    "execution_time_lgbm4=(stop-start)/20\n",
    "execution_time_lgbm4\n",
    "\n",
    "print(\"accuracy 10  feature:\",accuracy_score_10)\n",
    "print('F1 score 10  feature:',F1_score_10)\n",
    "print('roc_auc 10  feature:',roc_auc_score_10)\n",
    "print(\"cross entropy loss 10  feature:\",neg_loss_score_10)"
   ]
  },
  {
   "cell_type": "code",
   "execution_count": 262,
   "id": "8b4be0ba",
   "metadata": {},
   "outputs": [
    {
     "data": {
      "text/plain": [
       "datetime.timedelta(microseconds=35592)"
      ]
     },
     "execution_count": 262,
     "metadata": {},
     "output_type": "execute_result"
    }
   ],
   "source": [
    "execution_time_lgbm4"
   ]
  },
  {
   "cell_type": "code",
   "execution_count": 286,
   "id": "d33cd23f",
   "metadata": {},
   "outputs": [
    {
     "name": "stdout",
     "output_type": "stream",
     "text": [
      "Accuracy score with LGBM is:  0.8360655737704918\n",
      "F1 score with LGBM is:  0.8360655737704918\n",
      "ROC_AUC score with LGBM is:  0.9404761904761905\n",
      "Cross entropy loss score with LGBM is:  0.3493712430687207\n"
     ]
    }
   ],
   "source": [
    "y_pred_lgbm1=lgbm1.predict((X1_test))\n",
    "y_prob_lgbm1=lgbm1.predict_proba(X1_test)[:, 1]\n",
    "print(\"Accuracy score with LGBM is: \",accuracy_score(y1_test, y_pred_lgbm1))\n",
    "print(\"F1 score with LGBM is: \",f1_score(y1_test, y_pred_lgbm1,average='micro'))\n",
    "print(\"ROC_AUC score with LGBM is: \", roc_auc_score(y1_test,y_prob_lgbm1))\n",
    "print(\"Cross entropy loss score with LGBM is: \",log_loss(y1_test,y_prob_lgbm1))\n"
   ]
  },
  {
   "cell_type": "code",
   "execution_count": 287,
   "id": "c0b94965",
   "metadata": {},
   "outputs": [
    {
     "name": "stdout",
     "output_type": "stream",
     "text": [
      "0.8361\n",
      "0.8361\n",
      "0.9405\n",
      "0.3494\n"
     ]
    }
   ],
   "source": [
    "lgbm_accuracy='%.4f'%accuracy_score(y1_test, y_pred_lgbm1)\n",
    "lgbm_f1='%.4f'%f1_score(y1_test, y_pred_lgbm1,average='micro')\n",
    "lgbm_roc_auc='%.4f'% roc_auc_score(y1_test,y_prob_lgbm1)\n",
    "lgbm_loss='%.4f'%log_loss(y1_test,y_prob_lgbm1)\n",
    "print(lgbm_accuracy)\n",
    "print(lgbm_f1)\n",
    "print(lgbm_roc_auc)\n",
    "print(lgbm_loss)"
   ]
  },
  {
   "cell_type": "markdown",
   "id": "ec4eb966",
   "metadata": {},
   "source": [
    "## SVM"
   ]
  },
  {
   "cell_type": "code",
   "execution_count": 3,
   "id": "982fe9cc",
   "metadata": {},
   "outputs": [
    {
     "data": {
      "text/html": [
       "<div>\n",
       "<style scoped>\n",
       "    .dataframe tbody tr th:only-of-type {\n",
       "        vertical-align: middle;\n",
       "    }\n",
       "\n",
       "    .dataframe tbody tr th {\n",
       "        vertical-align: top;\n",
       "    }\n",
       "\n",
       "    .dataframe thead th {\n",
       "        text-align: right;\n",
       "    }\n",
       "</style>\n",
       "<table border=\"1\" class=\"dataframe\">\n",
       "  <thead>\n",
       "    <tr style=\"text-align: right;\">\n",
       "      <th></th>\n",
       "      <th>age</th>\n",
       "      <th>sex</th>\n",
       "      <th>cp</th>\n",
       "      <th>trestbps</th>\n",
       "      <th>chol</th>\n",
       "      <th>fbs</th>\n",
       "      <th>restecg</th>\n",
       "      <th>thalach</th>\n",
       "      <th>exang</th>\n",
       "      <th>oldpeak</th>\n",
       "      <th>slope</th>\n",
       "      <th>ca</th>\n",
       "      <th>thal</th>\n",
       "      <th>label</th>\n",
       "    </tr>\n",
       "  </thead>\n",
       "  <tbody>\n",
       "    <tr>\n",
       "      <th>0</th>\n",
       "      <td>63</td>\n",
       "      <td>1</td>\n",
       "      <td>1</td>\n",
       "      <td>145</td>\n",
       "      <td>233</td>\n",
       "      <td>1</td>\n",
       "      <td>2</td>\n",
       "      <td>150</td>\n",
       "      <td>0</td>\n",
       "      <td>2.3</td>\n",
       "      <td>3</td>\n",
       "      <td>0</td>\n",
       "      <td>6</td>\n",
       "      <td>0</td>\n",
       "    </tr>\n",
       "    <tr>\n",
       "      <th>1</th>\n",
       "      <td>67</td>\n",
       "      <td>1</td>\n",
       "      <td>4</td>\n",
       "      <td>160</td>\n",
       "      <td>286</td>\n",
       "      <td>0</td>\n",
       "      <td>2</td>\n",
       "      <td>108</td>\n",
       "      <td>1</td>\n",
       "      <td>1.5</td>\n",
       "      <td>2</td>\n",
       "      <td>3</td>\n",
       "      <td>3</td>\n",
       "      <td>1</td>\n",
       "    </tr>\n",
       "    <tr>\n",
       "      <th>2</th>\n",
       "      <td>67</td>\n",
       "      <td>1</td>\n",
       "      <td>4</td>\n",
       "      <td>120</td>\n",
       "      <td>229</td>\n",
       "      <td>0</td>\n",
       "      <td>2</td>\n",
       "      <td>129</td>\n",
       "      <td>1</td>\n",
       "      <td>2.6</td>\n",
       "      <td>2</td>\n",
       "      <td>2</td>\n",
       "      <td>7</td>\n",
       "      <td>1</td>\n",
       "    </tr>\n",
       "    <tr>\n",
       "      <th>3</th>\n",
       "      <td>37</td>\n",
       "      <td>1</td>\n",
       "      <td>3</td>\n",
       "      <td>130</td>\n",
       "      <td>250</td>\n",
       "      <td>0</td>\n",
       "      <td>0</td>\n",
       "      <td>187</td>\n",
       "      <td>0</td>\n",
       "      <td>3.5</td>\n",
       "      <td>3</td>\n",
       "      <td>0</td>\n",
       "      <td>3</td>\n",
       "      <td>0</td>\n",
       "    </tr>\n",
       "    <tr>\n",
       "      <th>4</th>\n",
       "      <td>41</td>\n",
       "      <td>0</td>\n",
       "      <td>2</td>\n",
       "      <td>130</td>\n",
       "      <td>204</td>\n",
       "      <td>0</td>\n",
       "      <td>2</td>\n",
       "      <td>172</td>\n",
       "      <td>0</td>\n",
       "      <td>1.4</td>\n",
       "      <td>1</td>\n",
       "      <td>0</td>\n",
       "      <td>3</td>\n",
       "      <td>0</td>\n",
       "    </tr>\n",
       "  </tbody>\n",
       "</table>\n",
       "</div>"
      ],
      "text/plain": [
       "   age  sex  cp  trestbps  chol  fbs  restecg  thalach  exang  oldpeak  slope  \\\n",
       "0   63    1   1       145   233    1        2      150      0      2.3      3   \n",
       "1   67    1   4       160   286    0        2      108      1      1.5      2   \n",
       "2   67    1   4       120   229    0        2      129      1      2.6      2   \n",
       "3   37    1   3       130   250    0        0      187      0      3.5      3   \n",
       "4   41    0   2       130   204    0        2      172      0      1.4      1   \n",
       "\n",
       "   ca  thal  label  \n",
       "0   0     6      0  \n",
       "1   3     3      1  \n",
       "2   2     7      1  \n",
       "3   0     3      0  \n",
       "4   0     3      0  "
      ]
     },
     "execution_count": 3,
     "metadata": {},
     "output_type": "execute_result"
    }
   ],
   "source": [
    "HDbiSVM=pd.read_csv('Filled Binary HD.csv')\n",
    "# ,index_col=0)\n",
    "HDbiSVM.head()"
   ]
  },
  {
   "cell_type": "code",
   "execution_count": 4,
   "id": "02f9e9c7",
   "metadata": {},
   "outputs": [],
   "source": [
    "X_svm=HDbiSVM.drop(labels=['label'],axis=1)\n",
    "\n",
    "y_svm=HDbiSVM['label'].values"
   ]
  },
  {
   "cell_type": "code",
   "execution_count": 5,
   "id": "7c30c1ef",
   "metadata": {},
   "outputs": [],
   "source": [
    "X_svm_train, X_svm_test, y_svm_train, y_svm_test =train_test_split(X_svm, y_svm,test_size=0.20, random_state=0, stratify=y_svm)"
   ]
  },
  {
   "cell_type": "code",
   "execution_count": 6,
   "id": "6c4976f3",
   "metadata": {},
   "outputs": [],
   "source": [
    "svc= SVC(C=0.0165, degree=6, gamma=1.5836,\n",
    "    kernel='linear', probability=True, random_state=42)"
   ]
  },
  {
   "cell_type": "code",
   "execution_count": 10,
   "id": "3ca1e0c8",
   "metadata": {},
   "outputs": [
    {
     "name": "stdout",
     "output_type": "stream",
     "text": [
      "CVTrain loss Score: -0.58731872474043\n",
      "CVTrain accuracy Score: 0.7066326530612245\n",
      "Test accuracy Score: 0.6557377049180327\n",
      "Test loss Score: 0.5940428664987821\n"
     ]
    }
   ],
   "source": [
    "svc1= SVC(\n",
    "  \n",
    "           C= 8.5385\n",
    "           ,kernel='rbf'\n",
    "           ,degree= 7\n",
    "          ,gamma=\"scale\"\n",
    "          , probability=True)\n",
    "#     C=0.0165\n",
    "#     , degree=6\n",
    "#     , gamma=1.5836,\n",
    "#      kernel='linear'\n",
    "#     , probability=True, random_state=42)\n",
    "accuracies = cross_val_score(svc1,X_svm_train,y_svm_train,cv=5)\n",
    "loss=cross_val_score(svc1,X_svm_train,y_svm_train,cv=5,scoring='neg_log_loss')\n",
    "svc1.fit(X_svm_train,y_svm_train)\n",
    "pred=svc1.predict(X_svm_test)\n",
    "prob=svc1.predict_proba(X_svm_test)\n",
    "print(\"CVTrain loss Score:\",np.mean(loss))\n",
    "print(\"CVTrain accuracy Score:\",np.mean(accuracies))\n",
    "print(\"Test accuracy Score:\",svc1.score(X_svm_test,y_svm_test))\n",
    "print(\"Test loss Score:\",log_loss(y_svm_test,prob))"
   ]
  },
  {
   "cell_type": "code",
   "execution_count": 11,
   "id": "5dad3b8c",
   "metadata": {},
   "outputs": [
    {
     "name": "stdout",
     "output_type": "stream",
     "text": [
      "CVTrain loss Score: -0.4066639146306235\n",
      "CVTrain accuracy Score: 0.8471088435374149\n",
      "Test accuracy Score: 0.8524590163934426\n",
      "Test loss Score: 0.32445087249902776\n"
     ]
    }
   ],
   "source": [
    "svc2= SVC(\n",
    "    C=0.1\n",
    "#     , degree=6\n",
    "#     , gamma=1.5836,\n",
    "     ,kernel='linear'\n",
    "    , probability=True, random_state=42)\n",
    "accuracies = cross_val_score(svc2,X_svm_train,y_svm_train,cv=5)\n",
    "loss=cross_val_score(svc2,X_svm_train,y_svm_train,cv=5,scoring='neg_log_loss')\n",
    "svc2.fit(X_svm_train,y_svm_train)\n",
    "pred=svc2.predict(X_svm_test)\n",
    "prob=svc2.predict_proba(X_svm_test)\n",
    "print(\"CVTrain loss Score:\",np.mean(loss))\n",
    "print(\"CVTrain accuracy Score:\",np.mean(accuracies))\n",
    "print(\"Test accuracy Score:\",svc2.score(X_svm_test,y_svm_test))\n",
    "print(\"Test loss Score:\",log_loss(y_svm_test,prob))"
   ]
  },
  {
   "cell_type": "code",
   "execution_count": 12,
   "id": "e6f97c2b",
   "metadata": {},
   "outputs": [
    {
     "name": "stdout",
     "output_type": "stream",
     "text": [
      "CVTrain loss Score: -0.5857523881918284\n",
      "CVTrain accuracy Score: 0.7066326530612245\n",
      "Test accuracy Score: 0.6557377049180327\n",
      "Test loss Score: 0.5926080242650215\n"
     ]
    }
   ],
   "source": [
    "svc3= SVC(\n",
    "#     C=0.0165\n",
    "#     , degree=6\n",
    "#     , gamma=1.5836,\n",
    "     kernel='linear'\n",
    "    , probability=True, random_state=42)\n",
    "accuracies = cross_val_score(svc1,X_svm_train,y_svm_train,cv=5)\n",
    "loss=cross_val_score(svc1,X_svm_train,y_svm_train,cv=5,scoring='neg_log_loss')\n",
    "svc1.fit(X_svm_train,y_svm_train)\n",
    "pred=svc1.predict(X_svm_test)\n",
    "prob=svc1.predict_proba(X_svm_test)\n",
    "print(\"CVTrain loss Score:\",np.mean(loss))\n",
    "print(\"CVTrain accuracy Score:\",np.mean(accuracies))\n",
    "print(\"Test accuracy Score:\",svc1.score(X_svm_test,y_svm_test))\n",
    "print(\"Test loss Score:\",log_loss(y_svm_test,prob))"
   ]
  },
  {
   "cell_type": "code",
   "execution_count": 13,
   "id": "2ec8b238",
   "metadata": {},
   "outputs": [
    {
     "name": "stdout",
     "output_type": "stream",
     "text": [
      "CVTrain loss Score: -0.42683653945525474\n",
      "CVTrain accuracy Score: 0.8387755102040817\n",
      "Test accuracy Score: 0.8852459016393442\n",
      "Test loss Score: 0.3410396355819228\n"
     ]
    }
   ],
   "source": [
    "accuracies = cross_val_score(svc,X_svm_train,y_svm_train,cv=5)\n",
    "loss=cross_val_score(svc,X_svm_train,y_svm_train,cv=5,scoring='neg_log_loss')\n",
    "svc.fit(X_svm_train,y_svm_train)\n",
    "pred=svc.predict(X_svm_test)\n",
    "prob=svc.predict_proba(X_svm_test)\n",
    "print(\"CVTrain loss Score:\",np.mean(loss))\n",
    "print(\"CVTrain accuracy Score:\",np.mean(accuracies))\n",
    "print(\"Test accuracy Score:\",svc.score(X_svm_test,y_svm_test))\n",
    "print(\"Test loss Score:\",log_loss(y_svm_test,prob))"
   ]
  },
  {
   "cell_type": "markdown",
   "id": "04072c40",
   "metadata": {},
   "source": [
    "### BAYES OPT with whole training dataset "
   ]
  },
  {
   "cell_type": "code",
   "execution_count": 8,
   "id": "7ead19de",
   "metadata": {},
   "outputs": [
    {
     "data": {
      "text/plain": [
       "datetime.timedelta(seconds=255, microseconds=423096)"
      ]
     },
     "execution_count": 8,
     "metadata": {},
     "output_type": "execute_result"
    }
   ],
   "source": [
    "start=datetime.now()\n",
    "\n",
    "# log-uniform: understand as search over p = exp(x) by varying x\n",
    "BayerSvmopt = BayesSearchCV(\n",
    "    SVC(probability=True, random_state=42),\n",
    "    {\n",
    "        \n",
    "\n",
    "#         'C':(0.01, 10),\n",
    "        'kernel': ['linear', 'poly', 'rbf'],\n",
    "#         'gamma': (0.01, 3),\n",
    "#         'degree': (1, 10), \n",
    "    \n",
    "    },\n",
    "    n_iter=50,\n",
    "    cv=5\n",
    "    ,scoring=\"neg_log_loss\"\n",
    "    ,random_state=42\n",
    "    ,n_points=2\n",
    ")\n",
    "\n",
    "BayerSvmopt.fit(X_svm_train, y_svm_train)\n",
    "\n",
    "stop=datetime.now()\n",
    "\n",
    "execution_time_svm1=(stop-start)\n",
    "execution_time_svm1"
   ]
  },
  {
   "cell_type": "code",
   "execution_count": 10,
   "id": "a9a2ea0e",
   "metadata": {},
   "outputs": [
    {
     "name": "stdout",
     "output_type": "stream",
     "text": [
      "Best parameters found by Bayes search are: OrderedDict([('kernel', 'linear')])\n",
      "val. score: -0.415526724216598\n",
      "test score: -0.32799933702589457\n"
     ]
    }
   ],
   "source": [
    "print('Best parameters found by Bayes search are:', BayerSvmopt.best_params_)\n",
    "print(\"val. score: %s\" % BayerSvmopt.best_score_)\n",
    "print(\"test score: %s\" % BayerSvmopt.score(X_svm_test, y_svm_test))"
   ]
  },
  {
   "cell_type": "markdown",
   "id": "2b2424df",
   "metadata": {},
   "source": [
    "### BAYES OPT with selected feature training dataset"
   ]
  },
  {
   "cell_type": "code",
   "execution_count": 180,
   "id": "f6160ba9",
   "metadata": {},
   "outputs": [
    {
     "data": {
      "text/plain": [
       "datetime.timedelta(seconds=48, microseconds=857657)"
      ]
     },
     "execution_count": 180,
     "metadata": {},
     "output_type": "execute_result"
    }
   ],
   "source": [
    "start=datetime.now()\n",
    "\n",
    "# log-uniform: understand as search over p = exp(x) by varying x\n",
    "BayerSvmopt1 = BayesSearchCV(\n",
    "    svc2,\n",
    "    {\n",
    "        \n",
    "\n",
    "        'C':[0.005,0.1, 0.2],\n",
    "#         'kernel': ['linear', 'poly', 'rbf'],\n",
    "#         'gamma': (0.01, 3),\n",
    "#         'degree': (1, 10), \n",
    "    \n",
    "    },\n",
    "    n_iter=50,\n",
    "    cv=5\n",
    "    ,scoring=\"neg_log_loss\"\n",
    "    ,random_state=42\n",
    "    ,n_points=2\n",
    ")\n",
    "\n",
    "BayerSvmopt1.fit(X1_train, y1_train)\n",
    "\n",
    "stop=datetime.now()\n",
    "\n",
    "execution_time_svm3=(stop-start)\n",
    "execution_time_svm3"
   ]
  },
  {
   "cell_type": "code",
   "execution_count": 183,
   "id": "6bc1c3a8",
   "metadata": {},
   "outputs": [
    {
     "name": "stdout",
     "output_type": "stream",
     "text": [
      "Best parameters found by Bayes search are: OrderedDict([('C', 0.1)])\n",
      "val. score: -0.40917235837765\n",
      "test score: -0.3208693672251356\n"
     ]
    }
   ],
   "source": [
    "print('Best parameters found by Bayes search are:', BayerSvmopt1.best_params_)\n",
    "print(\"val. score: %s\" % BayerSvmopt1.best_score_)\n",
    "print(\"test score: %s\" % BayerSvmopt1.score(X1_test, y1_test))"
   ]
  },
  {
   "cell_type": "code",
   "execution_count": 25,
   "id": "d5bfcaa5",
   "metadata": {},
   "outputs": [
    {
     "name": "stdout",
     "output_type": "stream",
     "text": [
      "Accuracy score with LGBM is:  0.819672131147541\n",
      "F1 score with LGBM is:  0.819672131147541\n",
      "ROC_AUC score with LGBM is:  0.8755411255411256\n",
      "Cross entropy loss score with LGBM is:  0.4378867655789415\n"
     ]
    }
   ],
   "source": [
    "svc1.fit(X1_train,y1_train)\n",
    "y_pred_svc1=svc1.predict(X1_test)\n",
    "y_prob_svc1=svc1.predict_proba(X1_test)[:,1]\n",
    "print(\"Accuracy score with LGBM is: \",accuracy_score(y1_test, y_pred_svc1))\n",
    "print(\"F1 score with LGBM is: \",f1_score(y1_test, y_pred_svc1,average='micro'))\n",
    "print(\"ROC_AUC score with LGBM is: \", roc_auc_score(y1_test,y_prob_svc1))\n",
    "print(\"Cross entropy loss score with LGBM is: \",log_loss(y1_test,y_prob_svc1))"
   ]
  },
  {
   "cell_type": "code",
   "execution_count": 26,
   "id": "d6d53481",
   "metadata": {},
   "outputs": [
    {
     "name": "stdout",
     "output_type": "stream",
     "text": [
      "Accuracy score with LGBM is:  0.8524590163934426\n",
      "F1 score with LGBM is:  0.8524590163934426\n",
      "ROC_AUC score with LGBM is:  0.948051948051948\n",
      "Cross entropy loss score with LGBM is:  0.32583070798834746\n"
     ]
    }
   ],
   "source": [
    "svc2.fit(X1_train,y1_train)\n",
    "y_pred_svc2=svc2.predict(X1_test)\n",
    "y_prob_svc2=svc2.predict_proba(X1_test)[:,1]\n",
    "print(\"Accuracy score with LGBM is: \",accuracy_score(y1_test, y_pred_svc2))\n",
    "print(\"F1 score with LGBM is: \",f1_score(y1_test, y_pred_svc2,average='micro'))\n",
    "print(\"ROC_AUC score with LGBM is: \", roc_auc_score(y1_test,y_prob_svc2))\n",
    "print(\"Cross entropy loss score with LGBM is: \",log_loss(y1_test,y_prob_svc2))\n"
   ]
  },
  {
   "cell_type": "code",
   "execution_count": 27,
   "id": "935ef589",
   "metadata": {},
   "outputs": [
    {
     "name": "stdout",
     "output_type": "stream",
     "text": [
      "Accuracy score with LGBM is:  0.8360655737704918\n",
      "F1 score with LGBM is:  0.8360655737704918\n",
      "ROC_AUC score with LGBM is:  0.9372294372294373\n",
      "Cross entropy loss score with LGBM is:  0.35109781289475744\n"
     ]
    }
   ],
   "source": [
    "\n",
    "svc3.fit(X1_train,y1_train)\n",
    "y_pred_svc3=svc3.predict(X1_test)\n",
    "y_prob_svc3=svc3.predict_proba(X1_test)[:,1]\n",
    "print(\"Accuracy score with LGBM is: \",accuracy_score(y1_test, y_pred_svc3))\n",
    "print(\"F1 score with LGBM is: \",f1_score(y1_test, y_pred_svc3,average='micro'))\n",
    "print(\"ROC_AUC score with LGBM is: \", roc_auc_score(y1_test,y_prob_svc3))\n",
    "print(\"Cross entropy loss score with LGBM is: \",log_loss(y1_test,y_prob_svc3))"
   ]
  },
  {
   "cell_type": "code",
   "execution_count": 28,
   "id": "48d7aeba",
   "metadata": {},
   "outputs": [
    {
     "name": "stdout",
     "output_type": "stream",
     "text": [
      "accuracy 10  feature: 0.8264455782312925\n",
      "F1 score 10  feature: 0.8264455782312925\n",
      "roc_auc 10  feature: 0.8744991723252593\n",
      "cross entropy loss 10  feature: -0.43571142627404935\n"
     ]
    }
   ],
   "source": [
    "start=datetime.now()\n",
    "accuracy_score_10_svm =cross_val_score(svc1, X1_train, y1_train, cv=5,scoring='accuracy').mean()\n",
    "F1_score_10_svm =cross_val_score(svc1, X1_train, y1_train, cv=5,scoring='f1_micro').mean()\n",
    "roc_auc_score_10_svm =cross_val_score(svc1, X1_train, y1_train, cv=5,scoring='roc_auc_ovr').mean()\n",
    "neg_loss_score_10_svm =cross_val_score(svc1, X1_train, y1_train, cv=5,scoring='neg_log_loss').mean()\n",
    "\n",
    "stop=datetime.now()\n",
    "execution_time_svm1=(stop-start)/20\n",
    "execution_time_svm1\n",
    "\n",
    "print(\"accuracy 10  feature:\",accuracy_score_10_svm)\n",
    "print('F1 score 10  feature:',F1_score_10_svm)\n",
    "print('roc_auc 10  feature:',roc_auc_score_10_svm)\n",
    "print(\"cross entropy loss 10  feature:\",neg_loss_score_10_svm)\n"
   ]
  },
  {
   "cell_type": "code",
   "execution_count": 29,
   "id": "50196b34",
   "metadata": {},
   "outputs": [
    {
     "name": "stdout",
     "output_type": "stream",
     "text": [
      "0.0111\n"
     ]
    }
   ],
   "source": [
    "training_time_svm1=execution_time_svm1.total_seconds()\n",
    "training_time_svm1='%.4f'%training_time_svm1\n",
    "print(training_time_svm1)"
   ]
  },
  {
   "cell_type": "code",
   "execution_count": 30,
   "id": "ec776aa8",
   "metadata": {},
   "outputs": [
    {
     "name": "stdout",
     "output_type": "stream",
     "text": [
      "accuracy 10  feature: 0.8470238095238095\n",
      "F1 score 10  feature: 0.8470238095238095\n",
      "roc_auc 10  feature: 0.8961245678636983\n",
      "cross entropy loss 10  feature: -0.4042797609932098\n"
     ]
    }
   ],
   "source": [
    "start=datetime.now()\n",
    "accuracy_score_10_svm =cross_val_score(svc2, X1_train, y1_train, cv=5,scoring='accuracy').mean()\n",
    "F1_score_10_svm =cross_val_score(svc2, X1_train, y1_train, cv=5,scoring='f1_micro').mean()\n",
    "roc_auc_score_10_svm =cross_val_score(svc2, X1_train, y1_train, cv=5,scoring='roc_auc_ovr').mean()\n",
    "neg_loss_score_10_svm =cross_val_score(svc2, X1_train, y1_train, cv=5,scoring='neg_log_loss').mean()\n",
    "\n",
    "stop=datetime.now()\n",
    "execution_time_svm=(stop-start)/20\n",
    "execution_time_svm\n",
    "\n",
    "print(\"accuracy 10  feature:\",accuracy_score_10_svm)\n",
    "print('F1 score 10  feature:',F1_score_10_svm)\n",
    "print('roc_auc 10  feature:',roc_auc_score_10_svm)\n",
    "print(\"cross entropy loss 10  feature:\",neg_loss_score_10_svm)"
   ]
  },
  {
   "cell_type": "code",
   "execution_count": 31,
   "id": "d5f42edd",
   "metadata": {},
   "outputs": [
    {
     "name": "stdout",
     "output_type": "stream",
     "text": [
      "0.0066\n"
     ]
    }
   ],
   "source": [
    "training_time_svm=execution_time_svm.total_seconds()\n",
    "training_time_svm='%.4f'%training_time_svm\n",
    "print(training_time_svm)"
   ]
  },
  {
   "cell_type": "code",
   "execution_count": 32,
   "id": "d942a2bc",
   "metadata": {},
   "outputs": [
    {
     "name": "stdout",
     "output_type": "stream",
     "text": [
      "0.8197\n",
      "0.8525\n",
      "0.8755\n",
      "0.4379\n"
     ]
    }
   ],
   "source": [
    "svc1_accuracy='%.4f'%accuracy_score(y1_test, y_pred_svc1)\n",
    "svc1_f1='%.4f'%f1_score(y1_test, y_pred_svc2,average='micro')\n",
    "svc1_roc_auc='%.4f'% roc_auc_score(y1_test,y_prob_svc1)\n",
    "svc1_loss='%.4f'%log_loss(y1_test,y_prob_svc1)\n",
    "print(svc1_accuracy)\n",
    "print(svc1_f1)\n",
    "print(svc1_roc_auc)\n",
    "print(svc1_loss)"
   ]
  },
  {
   "cell_type": "code",
   "execution_count": 33,
   "id": "bd2d3f08",
   "metadata": {},
   "outputs": [
    {
     "name": "stdout",
     "output_type": "stream",
     "text": [
      "0.8525\n",
      "0.8525\n",
      "0.9481\n",
      "0.3258\n"
     ]
    }
   ],
   "source": [
    "svc_accuracy='%.4f'%accuracy_score(y1_test, y_pred_svc2)\n",
    "svc_f1='%.4f'%f1_score(y1_test, y_pred_svc2,average='micro')\n",
    "svc_roc_auc='%.4f'% roc_auc_score(y1_test,y_prob_svc2)\n",
    "svc_loss='%.4f'%log_loss(y1_test,y_prob_svc2)\n",
    "print(svc_accuracy)\n",
    "print(svc_f1)\n",
    "print(svc_roc_auc)\n",
    "print(svc_loss)"
   ]
  },
  {
   "cell_type": "code",
   "execution_count": 34,
   "id": "2d6ca0c1",
   "metadata": {},
   "outputs": [
    {
     "name": "stdout",
     "output_type": "stream",
     "text": [
      "0.0156\n"
     ]
    }
   ],
   "source": [
    "\n",
    "start=datetime.now()\n",
    "svc_hd1=svc1.fit(X1_train,y1_train)\n",
    "stop=datetime.now()\n",
    "execution_time_svc0='%.4f'%(stop-start).total_seconds()\n",
    "\n",
    "print(execution_time_svc0)"
   ]
  },
  {
   "cell_type": "code",
   "execution_count": 35,
   "id": "ce434d11",
   "metadata": {},
   "outputs": [
    {
     "name": "stdout",
     "output_type": "stream",
     "text": [
      "0.0156\n"
     ]
    }
   ],
   "source": [
    "\n",
    "start=datetime.now()\n",
    "svc_hd=svc2.fit(X1_train,y1_train)\n",
    "stop=datetime.now()\n",
    "execution_time_svc='%.4f'%(stop-start).total_seconds()\n",
    "\n",
    "print(execution_time_svc)"
   ]
  },
  {
   "cell_type": "code",
   "execution_count": 36,
   "id": "30cae436",
   "metadata": {},
   "outputs": [
    {
     "data": {
      "text/plain": [
       "['svc_hd.model']"
      ]
     },
     "execution_count": 36,
     "metadata": {},
     "output_type": "execute_result"
    }
   ],
   "source": [
    "  #保存模型\n",
    "joblib.dump(svc_hd,'svc_hd.model')"
   ]
  },
  {
   "cell_type": "code",
   "execution_count": 37,
   "id": "9705f7ab",
   "metadata": {},
   "outputs": [],
   "source": [
    "   #加载模型\n",
    "RFsvc=joblib.load('svc_hd.model')\n",
    "   #应用模型进行预测\n",
    "resultsvc=RFsvc.score(X1_test,y1_test)"
   ]
  },
  {
   "cell_type": "code",
   "execution_count": 38,
   "id": "9cc25dcf",
   "metadata": {},
   "outputs": [
    {
     "data": {
      "text/plain": [
       "0.8524590163934426"
      ]
     },
     "execution_count": 38,
     "metadata": {},
     "output_type": "execute_result"
    }
   ],
   "source": [
    "resultsvc"
   ]
  },
  {
   "cell_type": "markdown",
   "id": "5e59f31c",
   "metadata": {},
   "source": [
    "# Random Forest"
   ]
  },
  {
   "cell_type": "code",
   "execution_count": 158,
   "id": "f3f28340",
   "metadata": {},
   "outputs": [
    {
     "name": "stdout",
     "output_type": "stream",
     "text": [
      "Best parameters found by grid search are: OrderedDict([('criterion', 'entropy'), ('max_depth', 7), ('max_features', 'log2'), ('n_estimators', 150)])\n"
     ]
    }
   ],
   "source": [
    "rf = RFC(random_state=42)\n",
    "\n",
    "\n",
    "Bayesrfopt = BayesSearchCV(\n",
    "   rf,\n",
    "    {   \n",
    "    'n_estimators': [50,100,150],\n",
    "    'max_features': ['auto', 'sqrt', 'log2'],\n",
    "    'max_depth' : [1,2,3,4,5,6,7,8,9,10,11,12,13,14,15,20,25,None],\n",
    "    'criterion' :['gini', 'entropy']\n",
    "    },\n",
    "    n_iter=50,\n",
    "    cv=5,\n",
    "    scoring=\"neg_log_loss\"\n",
    "    ,random_state=42\n",
    "    ,n_points=2\n",
    ")\n",
    "\n",
    "Bayesrfopt.fit(X_train, y_train)\n",
    "print('Best parameters found by grid search are:', Bayesrfopt.best_params_)"
   ]
  },
  {
   "cell_type": "code",
   "execution_count": 181,
   "id": "f20bbad8",
   "metadata": {},
   "outputs": [
    {
     "name": "stdout",
     "output_type": "stream",
     "text": [
      "Best parameters found by Bayes search are: OrderedDict([('criterion', 'entropy'), ('max_depth', 7), ('max_features', 'log2'), ('n_estimators', 150)])\n",
      "val. score: -0.4197576300542467\n",
      "test score: -0.33260774429243106\n"
     ]
    }
   ],
   "source": [
    "print('Best parameters found by Bayes search are:', Bayesrfopt.best_params_)\n",
    "print(\"val. score: %s\" % Bayesrfopt.best_score_)\n",
    "print(\"test score: %s\" % Bayesrfopt.score(X_test, y_test))"
   ]
  },
  {
   "cell_type": "code",
   "execution_count": 202,
   "id": "fd7ebafb",
   "metadata": {},
   "outputs": [],
   "source": [
    "rf1 = RFC(random_state=42, max_features='log2', n_estimators= 150,\n",
    "                                     max_depth=7, \n",
    "                                     criterion='entropy')"
   ]
  },
  {
   "cell_type": "code",
   "execution_count": 224,
   "id": "d7fd8d59",
   "metadata": {},
   "outputs": [
    {
     "name": "stdout",
     "output_type": "stream",
     "text": [
      "0.1848\n"
     ]
    }
   ],
   "source": [
    "start=datetime.now()\n",
    "rf1.fit(X_train,y_train)\n",
    "stop=datetime.now()\n",
    "execution_time_rf=(stop-start)\n",
    "execution_time_rf\n",
    "training_time_rf0=execution_time_rf.total_seconds()\n",
    "training_time_rf0='%.4f'%training_time_rf0\n",
    "print(training_time_rf0)"
   ]
  },
  {
   "cell_type": "code",
   "execution_count": 204,
   "id": "bd0a23bb",
   "metadata": {},
   "outputs": [
    {
     "name": "stdout",
     "output_type": "stream",
     "text": [
      "CVTrain loss Score: -0.4191617780173858\n",
      "CVTrain accuracy Score: 0.8139455782312925\n",
      "Test accuracy Score: 0.8852459016393442\n",
      "Test loss Score: 0.332607744292431\n"
     ]
    }
   ],
   "source": [
    "accuracies = cross_val_score(rf1,X_svm_train,y_svm_train,cv=5)\n",
    "loss=cross_val_score(rf1,X_svm_train,y_svm_train,cv=5,scoring='neg_log_loss')\n",
    "rf1.fit(X_train,y_train)\n",
    "pred=rf1.predict(X_test)\n",
    "prob=rf1.predict_proba(X_test)\n",
    "print(\"CVTrain loss Score:\",np.mean(loss))\n",
    "print(\"CVTrain accuracy Score:\",np.mean(accuracies))\n",
    "print(\"Test accuracy Score:\",rf1.score(X_test,y_test))\n",
    "print(\"Test loss Score:\",log_loss(y_test,prob))"
   ]
  },
  {
   "cell_type": "code",
   "execution_count": 212,
   "id": "6261fb41",
   "metadata": {},
   "outputs": [
    {
     "name": "stdout",
     "output_type": "stream",
     "text": [
      "0:01:18.440512\n",
      "Best parameters found by grid search are: OrderedDict([('criterion', 'entropy'), ('max_depth', 7), ('max_features', 'sqrt'), ('n_estimators', 100)])\n"
     ]
    }
   ],
   "source": [
    "start=datetime.now()\n",
    "Bayesrfopt1 = BayesSearchCV(\n",
    "   rf1,\n",
    "    {   \n",
    "    'n_estimators': [50,100,150],\n",
    "    'max_features': ['auto', 'sqrt', 'log2'],\n",
    "    'max_depth' : [1,2,3,4,5,6,7,8,9,10,11,12,13,14,15,20,25,None],\n",
    "    'criterion' :['gini', 'entropy']\n",
    "    },\n",
    "    n_iter=50,\n",
    "    cv=5,\n",
    "    scoring=\"neg_log_loss\"\n",
    "    ,random_state=42\n",
    "    ,n_points=2\n",
    ")\n",
    "\n",
    "Bayesrfopt1.fit(X1_train, y1_train)\n",
    "\n",
    "stop=datetime.now()\n",
    "execution_time_rf0=(stop-start)\n",
    "print(execution_time_rf0)\n",
    "print('Best parameters found by grid search are:', Bayesrfopt1.best_params_)"
   ]
  },
  {
   "cell_type": "code",
   "execution_count": 214,
   "id": "ee806123",
   "metadata": {},
   "outputs": [
    {
     "name": "stdout",
     "output_type": "stream",
     "text": [
      "Best parameters found by Bayes search are: OrderedDict([('criterion', 'entropy'), ('max_depth', 7), ('max_features', 'sqrt'), ('n_estimators', 100)])\n",
      "val. score: -0.3971214870694783\n",
      "test score: -0.3606421650658817\n"
     ]
    }
   ],
   "source": [
    "print('Best parameters found by Bayes search are:', Bayesrfopt1.best_params_)\n",
    "print(\"val. score: %s\" % Bayesrfopt1.best_score_)\n",
    "print(\"test score: %s\" % Bayesrfopt1.score(X1_test, y1_test))"
   ]
  },
  {
   "cell_type": "code",
   "execution_count": 206,
   "id": "51526383",
   "metadata": {},
   "outputs": [],
   "source": [
    "rf2= RFC(random_state=42, max_features='sqrt', n_estimators= 100,\n",
    "                                     max_depth=7, \n",
    "                                     criterion='entropy')\n"
   ]
  },
  {
   "cell_type": "code",
   "execution_count": 227,
   "id": "9356da40",
   "metadata": {},
   "outputs": [
    {
     "name": "stdout",
     "output_type": "stream",
     "text": [
      "accuracy 10  feature: 0.8141156462585034\n",
      "F1 score 10  feature: 0.8141156462585034\n",
      "roc_auc 10  feature: 0.8990242446764187\n",
      "cross entropy loss 10  feature: -0.3971214870694783\n"
     ]
    }
   ],
   "source": [
    "start=datetime.now()\n",
    "accuracy_score_10_rf =cross_val_score(rf2, X1_train, y1_train, cv=5,scoring='accuracy').mean()\n",
    "F1_score_10_rf =cross_val_score(rf2, X1_train, y1_train, cv=5,scoring='f1_micro').mean()\n",
    "roc_auc_score_10_rf =cross_val_score(rf2, X1_train, y1_train, cv=5,scoring='roc_auc_ovr').mean()\n",
    "neg_loss_score_10_rf =cross_val_score(rf2, X1_train, y1_train, cv=5,scoring='neg_log_loss').mean()\n",
    "\n",
    "stop=datetime.now()\n",
    "execution_time_rf=(stop-start)/20\n",
    "execution_time_rf\n",
    "\n",
    "print(\"accuracy 10  feature:\",accuracy_score_10_rf)\n",
    "print('F1 score 10  feature:',F1_score_10_rf)\n",
    "print('roc_auc 10  feature:',roc_auc_score_10_rf)\n",
    "print(\"cross entropy loss 10  feature:\",neg_loss_score_10_rf)"
   ]
  },
  {
   "cell_type": "code",
   "execution_count": 297,
   "id": "a7895c70",
   "metadata": {},
   "outputs": [
    {
     "name": "stdout",
     "output_type": "stream",
     "text": [
      "0.1173\n"
     ]
    }
   ],
   "source": [
    "training_time_rf=execution_time_rf.total_seconds()\n",
    "training_time_rf='%.4f'%training_time_rf\n",
    "print(training_time_rf)"
   ]
  },
  {
   "cell_type": "code",
   "execution_count": 237,
   "id": "11a2d4a8",
   "metadata": {},
   "outputs": [
    {
     "name": "stdout",
     "output_type": "stream",
     "text": [
      "Accuracy score with LGBM is:  0.8852459016393442\n",
      "F1 score with LGBM is:  0.8852459016393442\n",
      "ROC_AUC score with LGBM is:  0.9307359307359306\n",
      "Cross entropy loss score with LGBM is:  0.3606421650658817\n",
      "0.8852\n",
      "0.8852\n",
      "0.9307\n",
      "0.3606\n"
     ]
    }
   ],
   "source": [
    "rf_hd=rf2.fit(X1_train,y1_train)\n",
    "y_pred_rf2=rf2.predict(X1_test)\n",
    "y_prob_rf2=rf2.predict_proba(X1_test)[:,1]\n",
    "print(\"Accuracy score with LGBM is: \",accuracy_score(y1_test, y_pred_rf2))\n",
    "print(\"F1 score with LGBM is: \",f1_score(y1_test, y_pred_rf2,average='micro'))\n",
    "print(\"ROC_AUC score with LGBM is: \", roc_auc_score(y1_test,y_prob_rf2))\n",
    "print(\"Cross entropy loss score with LGBM is: \",log_loss(y1_test,y_prob_rf2))\n",
    "\n",
    "\n",
    "rf_accuracy='%.4f'%accuracy_score(y1_test, y_pred_rf2)\n",
    "rf_f1='%.4f'%f1_score(y1_test, y_pred_rf2,average='micro')\n",
    "rf_roc_auc='%.4f'% roc_auc_score(y1_test,y_prob_rf2)\n",
    "rf_loss='%.4f'%log_loss(y1_test,y_prob_rf2)\n",
    "print(rf_accuracy)\n",
    "print(rf_f1)\n",
    "print(rf_roc_auc)\n",
    "print(rf_loss)"
   ]
  },
  {
   "cell_type": "code",
   "execution_count": 245,
   "id": "87ca6ab3",
   "metadata": {},
   "outputs": [
    {
     "data": {
      "text/plain": [
       "['rf_hd.model']"
      ]
     },
     "execution_count": 245,
     "metadata": {},
     "output_type": "execute_result"
    }
   ],
   "source": [
    "# save the model\n",
    "joblib.dump(rf_hd,'rf_hd.model')"
   ]
  },
  {
   "cell_type": "code",
   "execution_count": 250,
   "id": "5af264ba",
   "metadata": {},
   "outputs": [],
   "source": [
    "   #加载模型\n",
    "RFrf=joblib.load('rf_hd.model')\n",
    "   #应用模型进行预测\n",
    "rfresult=RFrf.score(X1_test,y1_test)"
   ]
  },
  {
   "cell_type": "code",
   "execution_count": 251,
   "id": "9ddba82c",
   "metadata": {},
   "outputs": [
    {
     "data": {
      "text/plain": [
       "0.8852459016393442"
      ]
     },
     "execution_count": 251,
     "metadata": {},
     "output_type": "execute_result"
    }
   ],
   "source": [
    "rfresult"
   ]
  }
 ],
 "metadata": {
  "kernelspec": {
   "display_name": "Python 3 (ipykernel)",
   "language": "python",
   "name": "python3"
  },
  "language_info": {
   "codemirror_mode": {
    "name": "ipython",
    "version": 3
   },
   "file_extension": ".py",
   "mimetype": "text/x-python",
   "name": "python",
   "nbconvert_exporter": "python",
   "pygments_lexer": "ipython3",
   "version": "3.9.7"
  },
  "toc": {
   "base_numbering": 1,
   "nav_menu": {},
   "number_sections": true,
   "sideBar": true,
   "skip_h1_title": false,
   "title_cell": "Table of Contents",
   "title_sidebar": "Contents",
   "toc_cell": false,
   "toc_position": {},
   "toc_section_display": true,
   "toc_window_display": false
  }
 },
 "nbformat": 4,
 "nbformat_minor": 5
}

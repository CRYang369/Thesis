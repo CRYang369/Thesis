{
 "cells": [
  {
   "cell_type": "markdown",
   "id": "43c12559",
   "metadata": {},
   "source": [
    "# Import the package"
   ]
  },
  {
   "cell_type": "code",
   "execution_count": 1,
   "id": "3a9cc4cf",
   "metadata": {},
   "outputs": [],
   "source": [
    "from datetime import datetime\n",
    "import lightgbm as lgb\n",
    "from lightgbm import LGBMClassifier\n",
    "from lightgbm import plot_importance\n",
    "import matplotlib.pyplot as plt\n",
    "%matplotlib inline\n",
    "import numpy as np\n",
    "from numpy import mean\n",
    "from numpy import std\n",
    "from numpy import sort\n",
    "import pandas as pd\n",
    "from pandas.core.frame import DataFrame\n",
    "from sklearn.metrics import ConfusionMatrixDisplay\n",
    "from sklearn.svm import SVC\n",
    "from sklearn.decomposition import PCA\n",
    "from sklearn.ensemble import RandomForestClassifier as RFC\n",
    "from sklearn.feature_selection import SelectFromModel\n",
    "from sklearn import metrics\n",
    "from sklearn.metrics import f1_score  \n",
    "from sklearn.metrics import mean_absolute_error\n",
    "from sklearn.metrics import confusion_matrix,roc_curve,roc_auc_score,accuracy_score, plot_confusion_matrix,classification_report\n",
    "from sklearn.model_selection import cross_val_score\n",
    "from sklearn.model_selection import GridSearchCV\n",
    "from sklearn.model_selection import RepeatedStratifiedKFold\n",
    "from sklearn.model_selection import train_test_split\n",
    "from sklearn.preprocessing import LabelEncoder\n",
    "from sklearn.preprocessing import OneHotEncoder\n",
    "from sklearn.preprocessing import StandardScaler\n",
    "from sklearn.utils import class_weight\n",
    "from sklearn.metrics import log_loss\n",
    "import seaborn as sns\n",
    "import warnings\n",
    "warnings.filterwarnings(\"ignore\")\n",
    "from sklearn.model_selection import StratifiedKFold\n",
    "from sklearn.metrics import make_scorer\n",
    "from skopt import BayesSearchCV\n",
    "from skopt.callbacks import DeadlineStopper,DeltaYStopper\n",
    "from skopt.space import Real,Categorical,Integer\n",
    "from sklearn.metrics import precision_score, recall_score, f1_score\n",
    "from sklearn.feature_selection import RFECV\n",
    "from sklearn.feature_selection import RFE\n",
    "import joblib\n",
    "import torch\n",
    "from torch import nn\n",
    "from torch import optim\n",
    "import torch.nn.functional as F\n",
    "from torch.utils.data import DataLoader\n",
    "from torch.autograd import Variable"
   ]
  },
  {
   "cell_type": "markdown",
   "id": "b9814a32",
   "metadata": {},
   "source": [
    "# Datasets"
   ]
  },
  {
   "cell_type": "markdown",
   "id": "77610530",
   "metadata": {},
   "source": [
    "## Original dataset"
   ]
  },
  {
   "cell_type": "code",
   "execution_count": 2,
   "id": "507bdca5",
   "metadata": {},
   "outputs": [],
   "source": [
    "HDData=pd.read_csv('heart disease.csv')\n"
   ]
  },
  {
   "cell_type": "code",
   "execution_count": 3,
   "id": "a1972e50",
   "metadata": {},
   "outputs": [],
   "source": [
    "HDData1=HDData.copy()"
   ]
  },
  {
   "cell_type": "code",
   "execution_count": 4,
   "id": "7da32b1b",
   "metadata": {
    "scrolled": true
   },
   "outputs": [
    {
     "data": {
      "text/html": [
       "<div>\n",
       "<style scoped>\n",
       "    .dataframe tbody tr th:only-of-type {\n",
       "        vertical-align: middle;\n",
       "    }\n",
       "\n",
       "    .dataframe tbody tr th {\n",
       "        vertical-align: top;\n",
       "    }\n",
       "\n",
       "    .dataframe thead th {\n",
       "        text-align: right;\n",
       "    }\n",
       "</style>\n",
       "<table border=\"1\" class=\"dataframe\">\n",
       "  <thead>\n",
       "    <tr style=\"text-align: right;\">\n",
       "      <th></th>\n",
       "      <th>age</th>\n",
       "      <th>sex</th>\n",
       "      <th>cp</th>\n",
       "      <th>trestbps</th>\n",
       "      <th>chol</th>\n",
       "      <th>fbs</th>\n",
       "      <th>restecg</th>\n",
       "      <th>thalach</th>\n",
       "      <th>exang</th>\n",
       "      <th>oldpeak</th>\n",
       "      <th>slope</th>\n",
       "      <th>ca</th>\n",
       "      <th>thal</th>\n",
       "      <th>num</th>\n",
       "      <th>type</th>\n",
       "    </tr>\n",
       "  </thead>\n",
       "  <tbody>\n",
       "    <tr>\n",
       "      <th>0</th>\n",
       "      <td>63</td>\n",
       "      <td>1</td>\n",
       "      <td>1</td>\n",
       "      <td>145</td>\n",
       "      <td>233</td>\n",
       "      <td>1</td>\n",
       "      <td>2</td>\n",
       "      <td>150</td>\n",
       "      <td>0</td>\n",
       "      <td>2.3</td>\n",
       "      <td>3</td>\n",
       "      <td>0</td>\n",
       "      <td>6</td>\n",
       "      <td>0</td>\n",
       "      <td>Normal</td>\n",
       "    </tr>\n",
       "    <tr>\n",
       "      <th>1</th>\n",
       "      <td>67</td>\n",
       "      <td>1</td>\n",
       "      <td>4</td>\n",
       "      <td>160</td>\n",
       "      <td>286</td>\n",
       "      <td>0</td>\n",
       "      <td>2</td>\n",
       "      <td>108</td>\n",
       "      <td>1</td>\n",
       "      <td>1.5</td>\n",
       "      <td>2</td>\n",
       "      <td>3</td>\n",
       "      <td>3</td>\n",
       "      <td>2</td>\n",
       "      <td>Abnormal</td>\n",
       "    </tr>\n",
       "    <tr>\n",
       "      <th>2</th>\n",
       "      <td>67</td>\n",
       "      <td>1</td>\n",
       "      <td>4</td>\n",
       "      <td>120</td>\n",
       "      <td>229</td>\n",
       "      <td>0</td>\n",
       "      <td>2</td>\n",
       "      <td>129</td>\n",
       "      <td>1</td>\n",
       "      <td>2.6</td>\n",
       "      <td>2</td>\n",
       "      <td>2</td>\n",
       "      <td>7</td>\n",
       "      <td>1</td>\n",
       "      <td>Abnormal</td>\n",
       "    </tr>\n",
       "    <tr>\n",
       "      <th>3</th>\n",
       "      <td>37</td>\n",
       "      <td>1</td>\n",
       "      <td>3</td>\n",
       "      <td>130</td>\n",
       "      <td>250</td>\n",
       "      <td>0</td>\n",
       "      <td>0</td>\n",
       "      <td>187</td>\n",
       "      <td>0</td>\n",
       "      <td>3.5</td>\n",
       "      <td>3</td>\n",
       "      <td>0</td>\n",
       "      <td>3</td>\n",
       "      <td>0</td>\n",
       "      <td>Normal</td>\n",
       "    </tr>\n",
       "    <tr>\n",
       "      <th>4</th>\n",
       "      <td>41</td>\n",
       "      <td>0</td>\n",
       "      <td>2</td>\n",
       "      <td>130</td>\n",
       "      <td>204</td>\n",
       "      <td>0</td>\n",
       "      <td>2</td>\n",
       "      <td>172</td>\n",
       "      <td>0</td>\n",
       "      <td>1.4</td>\n",
       "      <td>1</td>\n",
       "      <td>0</td>\n",
       "      <td>3</td>\n",
       "      <td>0</td>\n",
       "      <td>Normal</td>\n",
       "    </tr>\n",
       "  </tbody>\n",
       "</table>\n",
       "</div>"
      ],
      "text/plain": [
       "   age  sex  cp  trestbps  chol  fbs  restecg  thalach  exang  oldpeak  slope  \\\n",
       "0   63    1   1       145   233    1        2      150      0      2.3      3   \n",
       "1   67    1   4       160   286    0        2      108      1      1.5      2   \n",
       "2   67    1   4       120   229    0        2      129      1      2.6      2   \n",
       "3   37    1   3       130   250    0        0      187      0      3.5      3   \n",
       "4   41    0   2       130   204    0        2      172      0      1.4      1   \n",
       "\n",
       "  ca thal  num      type  \n",
       "0  0    6    0    Normal  \n",
       "1  3    3    2  Abnormal  \n",
       "2  2    7    1  Abnormal  \n",
       "3  0    3    0    Normal  \n",
       "4  0    3    0    Normal  "
      ]
     },
     "execution_count": 4,
     "metadata": {},
     "output_type": "execute_result"
    }
   ],
   "source": [
    "HDData1['type']=np.where(HDData1[\"num\"]==0,'Normal','Abnormal')  \n",
    "HDData1.head()"
   ]
  },
  {
   "cell_type": "markdown",
   "id": "78382f3e",
   "metadata": {},
   "source": [
    "#  Build the model"
   ]
  },
  {
   "cell_type": "markdown",
   "id": "d60f72c9",
   "metadata": {},
   "source": [
    "##  Light GBM"
   ]
  },
  {
   "cell_type": "code",
   "execution_count": 5,
   "id": "170f9eb8",
   "metadata": {
    "scrolled": false
   },
   "outputs": [
    {
     "data": {
      "text/html": [
       "<div>\n",
       "<style scoped>\n",
       "    .dataframe tbody tr th:only-of-type {\n",
       "        vertical-align: middle;\n",
       "    }\n",
       "\n",
       "    .dataframe tbody tr th {\n",
       "        vertical-align: top;\n",
       "    }\n",
       "\n",
       "    .dataframe thead th {\n",
       "        text-align: right;\n",
       "    }\n",
       "</style>\n",
       "<table border=\"1\" class=\"dataframe\">\n",
       "  <thead>\n",
       "    <tr style=\"text-align: right;\">\n",
       "      <th></th>\n",
       "      <th>age</th>\n",
       "      <th>sex</th>\n",
       "      <th>cp</th>\n",
       "      <th>trestbps</th>\n",
       "      <th>chol</th>\n",
       "      <th>fbs</th>\n",
       "      <th>restecg</th>\n",
       "      <th>thalach</th>\n",
       "      <th>exang</th>\n",
       "      <th>oldpeak</th>\n",
       "      <th>slope</th>\n",
       "      <th>ca</th>\n",
       "      <th>thal</th>\n",
       "      <th>num</th>\n",
       "    </tr>\n",
       "  </thead>\n",
       "  <tbody>\n",
       "    <tr>\n",
       "      <th>0</th>\n",
       "      <td>63</td>\n",
       "      <td>1</td>\n",
       "      <td>1</td>\n",
       "      <td>145</td>\n",
       "      <td>233</td>\n",
       "      <td>1</td>\n",
       "      <td>2</td>\n",
       "      <td>150</td>\n",
       "      <td>0</td>\n",
       "      <td>2.3</td>\n",
       "      <td>3</td>\n",
       "      <td>0</td>\n",
       "      <td>6</td>\n",
       "      <td>0</td>\n",
       "    </tr>\n",
       "    <tr>\n",
       "      <th>1</th>\n",
       "      <td>67</td>\n",
       "      <td>1</td>\n",
       "      <td>4</td>\n",
       "      <td>160</td>\n",
       "      <td>286</td>\n",
       "      <td>0</td>\n",
       "      <td>2</td>\n",
       "      <td>108</td>\n",
       "      <td>1</td>\n",
       "      <td>1.5</td>\n",
       "      <td>2</td>\n",
       "      <td>3</td>\n",
       "      <td>3</td>\n",
       "      <td>2</td>\n",
       "    </tr>\n",
       "    <tr>\n",
       "      <th>2</th>\n",
       "      <td>67</td>\n",
       "      <td>1</td>\n",
       "      <td>4</td>\n",
       "      <td>120</td>\n",
       "      <td>229</td>\n",
       "      <td>0</td>\n",
       "      <td>2</td>\n",
       "      <td>129</td>\n",
       "      <td>1</td>\n",
       "      <td>2.6</td>\n",
       "      <td>2</td>\n",
       "      <td>2</td>\n",
       "      <td>7</td>\n",
       "      <td>1</td>\n",
       "    </tr>\n",
       "    <tr>\n",
       "      <th>3</th>\n",
       "      <td>37</td>\n",
       "      <td>1</td>\n",
       "      <td>3</td>\n",
       "      <td>130</td>\n",
       "      <td>250</td>\n",
       "      <td>0</td>\n",
       "      <td>0</td>\n",
       "      <td>187</td>\n",
       "      <td>0</td>\n",
       "      <td>3.5</td>\n",
       "      <td>3</td>\n",
       "      <td>0</td>\n",
       "      <td>3</td>\n",
       "      <td>0</td>\n",
       "    </tr>\n",
       "    <tr>\n",
       "      <th>4</th>\n",
       "      <td>41</td>\n",
       "      <td>0</td>\n",
       "      <td>2</td>\n",
       "      <td>130</td>\n",
       "      <td>204</td>\n",
       "      <td>0</td>\n",
       "      <td>2</td>\n",
       "      <td>172</td>\n",
       "      <td>0</td>\n",
       "      <td>1.4</td>\n",
       "      <td>1</td>\n",
       "      <td>0</td>\n",
       "      <td>3</td>\n",
       "      <td>0</td>\n",
       "    </tr>\n",
       "  </tbody>\n",
       "</table>\n",
       "</div>"
      ],
      "text/plain": [
       "   age  sex  cp  trestbps  chol  fbs  restecg  thalach  exang  oldpeak  slope  \\\n",
       "0   63    1   1       145   233    1        2      150      0      2.3      3   \n",
       "1   67    1   4       160   286    0        2      108      1      1.5      2   \n",
       "2   67    1   4       120   229    0        2      129      1      2.6      2   \n",
       "3   37    1   3       130   250    0        0      187      0      3.5      3   \n",
       "4   41    0   2       130   204    0        2      172      0      1.4      1   \n",
       "\n",
       "  ca thal  num  \n",
       "0  0    6    0  \n",
       "1  3    3    2  \n",
       "2  2    7    1  \n",
       "3  0    3    0  \n",
       "4  0    3    0  "
      ]
     },
     "execution_count": 5,
     "metadata": {},
     "output_type": "execute_result"
    }
   ],
   "source": [
    "HDData.head()"
   ]
  },
  {
   "cell_type": "code",
   "execution_count": 6,
   "id": "0ca96fac",
   "metadata": {},
   "outputs": [
    {
     "data": {
      "text/html": [
       "<div>\n",
       "<style scoped>\n",
       "    .dataframe tbody tr th:only-of-type {\n",
       "        vertical-align: middle;\n",
       "    }\n",
       "\n",
       "    .dataframe tbody tr th {\n",
       "        vertical-align: top;\n",
       "    }\n",
       "\n",
       "    .dataframe thead th {\n",
       "        text-align: right;\n",
       "    }\n",
       "</style>\n",
       "<table border=\"1\" class=\"dataframe\">\n",
       "  <thead>\n",
       "    <tr style=\"text-align: right;\">\n",
       "      <th></th>\n",
       "      <th>age</th>\n",
       "      <th>sex</th>\n",
       "      <th>cp</th>\n",
       "      <th>trestbps</th>\n",
       "      <th>chol</th>\n",
       "      <th>fbs</th>\n",
       "      <th>restecg</th>\n",
       "      <th>thalach</th>\n",
       "      <th>exang</th>\n",
       "      <th>oldpeak</th>\n",
       "      <th>slope</th>\n",
       "      <th>ca</th>\n",
       "      <th>thal</th>\n",
       "      <th>num</th>\n",
       "    </tr>\n",
       "  </thead>\n",
       "  <tbody>\n",
       "    <tr>\n",
       "      <th>298</th>\n",
       "      <td>45</td>\n",
       "      <td>1</td>\n",
       "      <td>1</td>\n",
       "      <td>110</td>\n",
       "      <td>264</td>\n",
       "      <td>0</td>\n",
       "      <td>0</td>\n",
       "      <td>132</td>\n",
       "      <td>0</td>\n",
       "      <td>1.2</td>\n",
       "      <td>2</td>\n",
       "      <td>0</td>\n",
       "      <td>7</td>\n",
       "      <td>1</td>\n",
       "    </tr>\n",
       "    <tr>\n",
       "      <th>299</th>\n",
       "      <td>68</td>\n",
       "      <td>1</td>\n",
       "      <td>4</td>\n",
       "      <td>144</td>\n",
       "      <td>193</td>\n",
       "      <td>1</td>\n",
       "      <td>0</td>\n",
       "      <td>141</td>\n",
       "      <td>0</td>\n",
       "      <td>3.4</td>\n",
       "      <td>2</td>\n",
       "      <td>2</td>\n",
       "      <td>7</td>\n",
       "      <td>2</td>\n",
       "    </tr>\n",
       "    <tr>\n",
       "      <th>300</th>\n",
       "      <td>57</td>\n",
       "      <td>1</td>\n",
       "      <td>4</td>\n",
       "      <td>130</td>\n",
       "      <td>131</td>\n",
       "      <td>0</td>\n",
       "      <td>0</td>\n",
       "      <td>115</td>\n",
       "      <td>1</td>\n",
       "      <td>1.2</td>\n",
       "      <td>2</td>\n",
       "      <td>1</td>\n",
       "      <td>7</td>\n",
       "      <td>3</td>\n",
       "    </tr>\n",
       "    <tr>\n",
       "      <th>301</th>\n",
       "      <td>57</td>\n",
       "      <td>0</td>\n",
       "      <td>2</td>\n",
       "      <td>130</td>\n",
       "      <td>236</td>\n",
       "      <td>0</td>\n",
       "      <td>2</td>\n",
       "      <td>174</td>\n",
       "      <td>0</td>\n",
       "      <td>0.0</td>\n",
       "      <td>2</td>\n",
       "      <td>1</td>\n",
       "      <td>3</td>\n",
       "      <td>1</td>\n",
       "    </tr>\n",
       "    <tr>\n",
       "      <th>302</th>\n",
       "      <td>38</td>\n",
       "      <td>1</td>\n",
       "      <td>3</td>\n",
       "      <td>138</td>\n",
       "      <td>175</td>\n",
       "      <td>0</td>\n",
       "      <td>0</td>\n",
       "      <td>173</td>\n",
       "      <td>0</td>\n",
       "      <td>0.0</td>\n",
       "      <td>1</td>\n",
       "      <td>?</td>\n",
       "      <td>3</td>\n",
       "      <td>0</td>\n",
       "    </tr>\n",
       "  </tbody>\n",
       "</table>\n",
       "</div>"
      ],
      "text/plain": [
       "     age  sex  cp  trestbps  chol  fbs  restecg  thalach  exang  oldpeak  \\\n",
       "298   45    1   1       110   264    0        0      132      0      1.2   \n",
       "299   68    1   4       144   193    1        0      141      0      3.4   \n",
       "300   57    1   4       130   131    0        0      115      1      1.2   \n",
       "301   57    0   2       130   236    0        2      174      0      0.0   \n",
       "302   38    1   3       138   175    0        0      173      0      0.0   \n",
       "\n",
       "     slope ca thal  num  \n",
       "298      2  0    7    1  \n",
       "299      2  2    7    2  \n",
       "300      2  1    7    3  \n",
       "301      2  1    3    1  \n",
       "302      1  ?    3    0  "
      ]
     },
     "execution_count": 6,
     "metadata": {},
     "output_type": "execute_result"
    }
   ],
   "source": [
    "HDData.tail()"
   ]
  },
  {
   "cell_type": "markdown",
   "id": "aaccb0bc",
   "metadata": {},
   "source": [
    "## Fullfilled binary dataset"
   ]
  },
  {
   "cell_type": "code",
   "execution_count": 7,
   "id": "1e171fa4",
   "metadata": {},
   "outputs": [
    {
     "data": {
      "text/html": [
       "<div>\n",
       "<style scoped>\n",
       "    .dataframe tbody tr th:only-of-type {\n",
       "        vertical-align: middle;\n",
       "    }\n",
       "\n",
       "    .dataframe tbody tr th {\n",
       "        vertical-align: top;\n",
       "    }\n",
       "\n",
       "    .dataframe thead th {\n",
       "        text-align: right;\n",
       "    }\n",
       "</style>\n",
       "<table border=\"1\" class=\"dataframe\">\n",
       "  <thead>\n",
       "    <tr style=\"text-align: right;\">\n",
       "      <th></th>\n",
       "      <th>age</th>\n",
       "      <th>sex</th>\n",
       "      <th>cp</th>\n",
       "      <th>trestbps</th>\n",
       "      <th>chol</th>\n",
       "      <th>fbs</th>\n",
       "      <th>restecg</th>\n",
       "      <th>thalach</th>\n",
       "      <th>exang</th>\n",
       "      <th>oldpeak</th>\n",
       "      <th>slope</th>\n",
       "      <th>ca</th>\n",
       "      <th>thal</th>\n",
       "      <th>label</th>\n",
       "    </tr>\n",
       "  </thead>\n",
       "  <tbody>\n",
       "    <tr>\n",
       "      <th>0</th>\n",
       "      <td>63</td>\n",
       "      <td>1</td>\n",
       "      <td>1</td>\n",
       "      <td>145</td>\n",
       "      <td>233</td>\n",
       "      <td>1</td>\n",
       "      <td>2</td>\n",
       "      <td>150</td>\n",
       "      <td>0</td>\n",
       "      <td>2.3</td>\n",
       "      <td>3</td>\n",
       "      <td>0</td>\n",
       "      <td>6</td>\n",
       "      <td>0</td>\n",
       "    </tr>\n",
       "    <tr>\n",
       "      <th>1</th>\n",
       "      <td>67</td>\n",
       "      <td>1</td>\n",
       "      <td>4</td>\n",
       "      <td>160</td>\n",
       "      <td>286</td>\n",
       "      <td>0</td>\n",
       "      <td>2</td>\n",
       "      <td>108</td>\n",
       "      <td>1</td>\n",
       "      <td>1.5</td>\n",
       "      <td>2</td>\n",
       "      <td>3</td>\n",
       "      <td>3</td>\n",
       "      <td>1</td>\n",
       "    </tr>\n",
       "    <tr>\n",
       "      <th>2</th>\n",
       "      <td>67</td>\n",
       "      <td>1</td>\n",
       "      <td>4</td>\n",
       "      <td>120</td>\n",
       "      <td>229</td>\n",
       "      <td>0</td>\n",
       "      <td>2</td>\n",
       "      <td>129</td>\n",
       "      <td>1</td>\n",
       "      <td>2.6</td>\n",
       "      <td>2</td>\n",
       "      <td>2</td>\n",
       "      <td>7</td>\n",
       "      <td>1</td>\n",
       "    </tr>\n",
       "    <tr>\n",
       "      <th>3</th>\n",
       "      <td>37</td>\n",
       "      <td>1</td>\n",
       "      <td>3</td>\n",
       "      <td>130</td>\n",
       "      <td>250</td>\n",
       "      <td>0</td>\n",
       "      <td>0</td>\n",
       "      <td>187</td>\n",
       "      <td>0</td>\n",
       "      <td>3.5</td>\n",
       "      <td>3</td>\n",
       "      <td>0</td>\n",
       "      <td>3</td>\n",
       "      <td>0</td>\n",
       "    </tr>\n",
       "    <tr>\n",
       "      <th>4</th>\n",
       "      <td>41</td>\n",
       "      <td>0</td>\n",
       "      <td>2</td>\n",
       "      <td>130</td>\n",
       "      <td>204</td>\n",
       "      <td>0</td>\n",
       "      <td>2</td>\n",
       "      <td>172</td>\n",
       "      <td>0</td>\n",
       "      <td>1.4</td>\n",
       "      <td>1</td>\n",
       "      <td>0</td>\n",
       "      <td>3</td>\n",
       "      <td>0</td>\n",
       "    </tr>\n",
       "  </tbody>\n",
       "</table>\n",
       "</div>"
      ],
      "text/plain": [
       "   age  sex  cp  trestbps  chol  fbs  restecg  thalach  exang  oldpeak  slope  \\\n",
       "0   63    1   1       145   233    1        2      150      0      2.3      3   \n",
       "1   67    1   4       160   286    0        2      108      1      1.5      2   \n",
       "2   67    1   4       120   229    0        2      129      1      2.6      2   \n",
       "3   37    1   3       130   250    0        0      187      0      3.5      3   \n",
       "4   41    0   2       130   204    0        2      172      0      1.4      1   \n",
       "\n",
       "   ca  thal  label  \n",
       "0   0     6      0  \n",
       "1   3     3      1  \n",
       "2   2     7      1  \n",
       "3   0     3      0  \n",
       "4   0     3      0  "
      ]
     },
     "execution_count": 7,
     "metadata": {},
     "output_type": "execute_result"
    }
   ],
   "source": [
    "HDbi=pd.read_csv('Filled Binary HD.csv')\n",
    "# ,index_col=0)\n",
    "HDbi.head()\n"
   ]
  },
  {
   "cell_type": "markdown",
   "id": "60295d3f",
   "metadata": {},
   "source": [
    "## Selected feature dataset"
   ]
  },
  {
   "cell_type": "code",
   "execution_count": 8,
   "id": "ff514878",
   "metadata": {},
   "outputs": [
    {
     "data": {
      "text/html": [
       "<div>\n",
       "<style scoped>\n",
       "    .dataframe tbody tr th:only-of-type {\n",
       "        vertical-align: middle;\n",
       "    }\n",
       "\n",
       "    .dataframe tbody tr th {\n",
       "        vertical-align: top;\n",
       "    }\n",
       "\n",
       "    .dataframe thead th {\n",
       "        text-align: right;\n",
       "    }\n",
       "</style>\n",
       "<table border=\"1\" class=\"dataframe\">\n",
       "  <thead>\n",
       "    <tr style=\"text-align: right;\">\n",
       "      <th></th>\n",
       "      <th>age</th>\n",
       "      <th>sex</th>\n",
       "      <th>cp</th>\n",
       "      <th>chol</th>\n",
       "      <th>restecg</th>\n",
       "      <th>thalach</th>\n",
       "      <th>exang</th>\n",
       "      <th>oldpeak</th>\n",
       "      <th>ca</th>\n",
       "      <th>thal</th>\n",
       "      <th>label</th>\n",
       "    </tr>\n",
       "  </thead>\n",
       "  <tbody>\n",
       "    <tr>\n",
       "      <th>0</th>\n",
       "      <td>63</td>\n",
       "      <td>1</td>\n",
       "      <td>1</td>\n",
       "      <td>233</td>\n",
       "      <td>2</td>\n",
       "      <td>150</td>\n",
       "      <td>0</td>\n",
       "      <td>2.3</td>\n",
       "      <td>0</td>\n",
       "      <td>6</td>\n",
       "      <td>0</td>\n",
       "    </tr>\n",
       "    <tr>\n",
       "      <th>1</th>\n",
       "      <td>67</td>\n",
       "      <td>1</td>\n",
       "      <td>4</td>\n",
       "      <td>286</td>\n",
       "      <td>2</td>\n",
       "      <td>108</td>\n",
       "      <td>1</td>\n",
       "      <td>1.5</td>\n",
       "      <td>3</td>\n",
       "      <td>3</td>\n",
       "      <td>1</td>\n",
       "    </tr>\n",
       "    <tr>\n",
       "      <th>2</th>\n",
       "      <td>67</td>\n",
       "      <td>1</td>\n",
       "      <td>4</td>\n",
       "      <td>229</td>\n",
       "      <td>2</td>\n",
       "      <td>129</td>\n",
       "      <td>1</td>\n",
       "      <td>2.6</td>\n",
       "      <td>2</td>\n",
       "      <td>7</td>\n",
       "      <td>1</td>\n",
       "    </tr>\n",
       "    <tr>\n",
       "      <th>3</th>\n",
       "      <td>37</td>\n",
       "      <td>1</td>\n",
       "      <td>3</td>\n",
       "      <td>250</td>\n",
       "      <td>0</td>\n",
       "      <td>187</td>\n",
       "      <td>0</td>\n",
       "      <td>3.5</td>\n",
       "      <td>0</td>\n",
       "      <td>3</td>\n",
       "      <td>0</td>\n",
       "    </tr>\n",
       "    <tr>\n",
       "      <th>4</th>\n",
       "      <td>41</td>\n",
       "      <td>0</td>\n",
       "      <td>2</td>\n",
       "      <td>204</td>\n",
       "      <td>2</td>\n",
       "      <td>172</td>\n",
       "      <td>0</td>\n",
       "      <td>1.4</td>\n",
       "      <td>0</td>\n",
       "      <td>3</td>\n",
       "      <td>0</td>\n",
       "    </tr>\n",
       "  </tbody>\n",
       "</table>\n",
       "</div>"
      ],
      "text/plain": [
       "   age  sex  cp  chol  restecg  thalach  exang  oldpeak  ca  thal  label\n",
       "0   63    1   1   233        2      150      0      2.3   0     6      0\n",
       "1   67    1   4   286        2      108      1      1.5   3     3      1\n",
       "2   67    1   4   229        2      129      1      2.6   2     7      1\n",
       "3   37    1   3   250        0      187      0      3.5   0     3      0\n",
       "4   41    0   2   204        2      172      0      1.4   0     3      0"
      ]
     },
     "execution_count": 8,
     "metadata": {},
     "output_type": "execute_result"
    }
   ],
   "source": [
    "features10=pd.read_csv('HD selected 10 features.csv')\n",
    "# ,index_col=0)\n",
    "features10.head()"
   ]
  },
  {
   "cell_type": "code",
   "execution_count": 9,
   "id": "bee36fe6",
   "metadata": {},
   "outputs": [],
   "source": [
    "X1=features10.drop(labels=['label'],axis=1)\n",
    "\n",
    "y1=features10['label'].values"
   ]
  },
  {
   "cell_type": "code",
   "execution_count": 10,
   "id": "e1972b2a",
   "metadata": {},
   "outputs": [],
   "source": [
    "scaler=StandardScaler()\n",
    "scaler.fit(X1)\n",
    "X1=scaler.transform(X1)\n",
    "#split train dataset and test dataset\n"
   ]
  },
  {
   "cell_type": "code",
   "execution_count": 11,
   "id": "8fd65247",
   "metadata": {},
   "outputs": [],
   "source": [
    "X1_train, X1_test, y1_train, y1_test =train_test_split(X1, y1,test_size=0.20, random_state=0, stratify=y1)"
   ]
  },
  {
   "cell_type": "code",
   "execution_count": 12,
   "id": "02a81add",
   "metadata": {},
   "outputs": [],
   "source": [
    "lgbm=LGBMClassifier(boosting_type='gbdt',\n",
    "                                 max_depth=8, num_leaves=8,\n",
    "                                learning_rate=0.01,n_estimators=300,\n",
    "                                colsample_bytree= 0.5,subsample= 0.5)"
   ]
  },
  {
   "cell_type": "code",
   "execution_count": 13,
   "id": "4b69f87e",
   "metadata": {},
   "outputs": [
    {
     "data": {
      "text/plain": [
       "LGBMClassifier(colsample_bytree=0.5, learning_rate=0.01, max_depth=8,\n",
       "               n_estimators=300, num_leaves=8, subsample=0.5)"
      ]
     },
     "execution_count": 13,
     "metadata": {},
     "output_type": "execute_result"
    }
   ],
   "source": [
    "lgbm.fit(X1_train, y1_train)"
   ]
  },
  {
   "cell_type": "code",
   "execution_count": 14,
   "id": "e87ca88a",
   "metadata": {},
   "outputs": [
    {
     "name": "stdout",
     "output_type": "stream",
     "text": [
      "Accuracy score with LGBM is:  0.8360655737704918\n",
      "F1 score with LGBM is:  0.8360655737704918\n",
      "ROC_AUC score with LGBM is:  0.9404761904761905\n",
      "Cross entropy loss score with LGBM is:  0.3493712430687207\n"
     ]
    }
   ],
   "source": [
    "y_pred_lgbm1=lgbm.predict(X1_test)\n",
    "y_prob_lgbm1=lgbm.predict_proba(X1_test)[:, 1]\n",
    "print(\"Accuracy score with LGBM is: \",accuracy_score(y1_test, y_pred_lgbm1))\n",
    "print(\"F1 score with LGBM is: \",f1_score(y1_test, y_pred_lgbm1,average='micro'))\n",
    "print(\"ROC_AUC score with LGBM is: \", roc_auc_score(y1_test,y_prob_lgbm1))\n",
    "print(\"Cross entropy loss score with LGBM is: \",log_loss(y1_test,y_prob_lgbm1))\n"
   ]
  },
  {
   "cell_type": "code",
   "execution_count": 15,
   "id": "e131129d",
   "metadata": {},
   "outputs": [
    {
     "name": "stdout",
     "output_type": "stream",
     "text": [
      "0:00:00.069006\n"
     ]
    }
   ],
   "source": [
    "start=datetime.now()\n",
    "lgbm_hd=lgbm.fit(X1_train,y1_train)\n",
    "stop=datetime.now()\n",
    "execution_time_lgbm4=(stop-start)\n",
    "\n",
    "print(execution_time_lgbm4)"
   ]
  },
  {
   "cell_type": "code",
   "execution_count": 16,
   "id": "f7e3542f",
   "metadata": {},
   "outputs": [
    {
     "name": "stdout",
     "output_type": "stream",
     "text": [
      "accuracy 10  feature: 0.8097789115646258\n",
      "F1 score 10  feature: 0.8097789115646258\n",
      "roc_auc 10  feature: 0.9029160050899181\n",
      "cross entropy loss 10  feature: -0.40509187173409533\n"
     ]
    }
   ],
   "source": [
    "\n",
    "\n",
    "start=datetime.now()\n",
    "accuracy_score_10 =cross_val_score(lgbm, X1_train, y1_train, cv=5,scoring='accuracy').mean()\n",
    "F1_score_10 =cross_val_score(lgbm, X1_train, y1_train, cv=5,scoring='f1_micro').mean()\n",
    "roc_auc_score_10 =cross_val_score(lgbm, X1_train, y1_train, cv=5,scoring='roc_auc_ovr').mean()\n",
    "neg_loss_score_10 =cross_val_score(lgbm, X1_train, y1_train, cv=5,scoring='neg_log_loss').mean()\n",
    "\n",
    "stop=datetime.now()\n",
    "execution_time_lgbm4=(stop-start)/20\n",
    "execution_time_lgbm4\n",
    "\n",
    "print(\"accuracy 10  feature:\",accuracy_score_10)\n",
    "print('F1 score 10  feature:',F1_score_10)\n",
    "print('roc_auc 10  feature:',roc_auc_score_10)\n",
    "print(\"cross entropy loss 10  feature:\",neg_loss_score_10)"
   ]
  },
  {
   "cell_type": "code",
   "execution_count": 17,
   "id": "8b4be0ba",
   "metadata": {
    "scrolled": true
   },
   "outputs": [
    {
     "name": "stdout",
     "output_type": "stream",
     "text": [
      "0.0331\n"
     ]
    }
   ],
   "source": [
    "training_time_lgbm=execution_time_lgbm4.total_seconds()\n",
    "training_time_lgbm='%.4f'%training_time_lgbm\n",
    "print(training_time_lgbm)"
   ]
  },
  {
   "cell_type": "code",
   "execution_count": 18,
   "id": "c0b94965",
   "metadata": {},
   "outputs": [
    {
     "name": "stdout",
     "output_type": "stream",
     "text": [
      "0.8361\n",
      "0.8361\n",
      "0.9405\n",
      "0.3494\n"
     ]
    }
   ],
   "source": [
    "lgbm_accuracy='%.4f'%accuracy_score(y1_test, y_pred_lgbm1)\n",
    "lgbm_f1='%.4f'%f1_score(y1_test, y_pred_lgbm1,average='micro')\n",
    "lgbm_roc_auc='%.4f'% roc_auc_score(y1_test,y_prob_lgbm1)\n",
    "lgbm_loss='%.4f'%log_loss(y1_test,y_prob_lgbm1)\n",
    "print(lgbm_accuracy)\n",
    "print(lgbm_f1)\n",
    "print(lgbm_roc_auc)\n",
    "print(lgbm_loss)"
   ]
  },
  {
   "cell_type": "code",
   "execution_count": 19,
   "id": "04e2debb",
   "metadata": {},
   "outputs": [
    {
     "data": {
      "text/plain": [
       "['lgbm_hd.model']"
      ]
     },
     "execution_count": 19,
     "metadata": {},
     "output_type": "execute_result"
    }
   ],
   "source": [
    "# save the model\n",
    "joblib.dump(lgbm_hd,'lgbm_hd.model')"
   ]
  },
  {
   "cell_type": "code",
   "execution_count": 20,
   "id": "7a66ddb9",
   "metadata": {},
   "outputs": [],
   "source": [
    "   #加载模型\n",
    "RFlgmb=joblib.load('lgbm_hd.model')\n",
    "   #应用模型进行预测\n",
    "resultlgmb=RFlgmb.score(X1_test,y1_test)"
   ]
  },
  {
   "cell_type": "code",
   "execution_count": 21,
   "id": "a909622c",
   "metadata": {},
   "outputs": [
    {
     "data": {
      "text/plain": [
       "0.8360655737704918"
      ]
     },
     "execution_count": 21,
     "metadata": {},
     "output_type": "execute_result"
    }
   ],
   "source": [
    "resultlgmb"
   ]
  },
  {
   "cell_type": "markdown",
   "id": "ec4eb966",
   "metadata": {},
   "source": [
    "## SVM"
   ]
  },
  {
   "cell_type": "code",
   "execution_count": 22,
   "id": "3086d74e",
   "metadata": {},
   "outputs": [],
   "source": [
    "svc2= SVC(\n",
    "    C=0.1\n",
    "     ,kernel='linear'\n",
    "    , probability=True, random_state=42)\n"
   ]
  },
  {
   "cell_type": "code",
   "execution_count": 23,
   "id": "d6d53481",
   "metadata": {},
   "outputs": [
    {
     "name": "stdout",
     "output_type": "stream",
     "text": [
      "Accuracy score with LGBM is:  0.8524590163934426\n",
      "F1 score with LGBM is:  0.8524590163934426\n",
      "ROC_AUC score with LGBM is:  0.948051948051948\n",
      "Cross entropy loss score with LGBM is:  0.32583070798834746\n"
     ]
    }
   ],
   "source": [
    "svc_hd=svc2.fit(X1_train,y1_train)\n",
    "y_pred_svc2=svc2.predict(X1_test)\n",
    "y_prob_svc2=svc2.predict_proba(X1_test)[:,1]\n",
    "print(\"Accuracy score with LGBM is: \",accuracy_score(y1_test, y_pred_svc2))\n",
    "print(\"F1 score with LGBM is: \",f1_score(y1_test, y_pred_svc2,average='micro'))\n",
    "print(\"ROC_AUC score with LGBM is: \", roc_auc_score(y1_test,y_prob_svc2))\n",
    "print(\"Cross entropy loss score with LGBM is: \",log_loss(y1_test,y_prob_svc2))\n"
   ]
  },
  {
   "cell_type": "code",
   "execution_count": 24,
   "id": "ec776aa8",
   "metadata": {},
   "outputs": [
    {
     "name": "stdout",
     "output_type": "stream",
     "text": [
      "accuracy 10  feature: 0.8470238095238095\n",
      "F1 score 10  feature: 0.8470238095238095\n",
      "roc_auc 10  feature: 0.8961245678636983\n",
      "cross entropy loss 10  feature: -0.4042797609932098\n"
     ]
    }
   ],
   "source": [
    "start=datetime.now()\n",
    "accuracy_score_10_svm =cross_val_score(svc2, X1_train, y1_train, cv=5,scoring='accuracy').mean()\n",
    "F1_score_10_svm =cross_val_score(svc2, X1_train, y1_train, cv=5,scoring='f1_micro').mean()\n",
    "roc_auc_score_10_svm =cross_val_score(svc2, X1_train, y1_train, cv=5,scoring='roc_auc_ovr').mean()\n",
    "neg_loss_score_10_svm =cross_val_score(svc2, X1_train, y1_train, cv=5,scoring='neg_log_loss').mean()\n",
    "\n",
    "stop=datetime.now()\n",
    "execution_time_svm=(stop-start)/20\n",
    "execution_time_svm\n",
    "\n",
    "print(\"accuracy 10  feature:\",accuracy_score_10_svm)\n",
    "print('F1 score 10  feature:',F1_score_10_svm)\n",
    "print('roc_auc 10  feature:',roc_auc_score_10_svm)\n",
    "print(\"cross entropy loss 10  feature:\",neg_loss_score_10_svm)"
   ]
  },
  {
   "cell_type": "code",
   "execution_count": 25,
   "id": "d5f42edd",
   "metadata": {},
   "outputs": [
    {
     "name": "stdout",
     "output_type": "stream",
     "text": [
      "0.0058\n"
     ]
    }
   ],
   "source": [
    "training_time_svm=execution_time_svm.total_seconds()\n",
    "training_time_svm='%.4f'%training_time_svm\n",
    "print(training_time_svm)"
   ]
  },
  {
   "cell_type": "code",
   "execution_count": 26,
   "id": "bd2d3f08",
   "metadata": {},
   "outputs": [
    {
     "name": "stdout",
     "output_type": "stream",
     "text": [
      "0.8525\n",
      "0.8525\n",
      "0.9481\n",
      "0.3258\n"
     ]
    }
   ],
   "source": [
    "svc_accuracy='%.4f'%accuracy_score(y1_test, y_pred_svc2)\n",
    "svc_f1='%.4f'%f1_score(y1_test, y_pred_svc2,average='micro')\n",
    "svc_roc_auc='%.4f'% roc_auc_score(y1_test,y_prob_svc2)\n",
    "svc_loss='%.4f'%log_loss(y1_test,y_prob_svc2)\n",
    "print(svc_accuracy)\n",
    "print(svc_f1)\n",
    "print(svc_roc_auc)\n",
    "print(svc_loss)"
   ]
  },
  {
   "cell_type": "code",
   "execution_count": 27,
   "id": "30cae436",
   "metadata": {},
   "outputs": [
    {
     "data": {
      "text/plain": [
       "['svc_hd.model']"
      ]
     },
     "execution_count": 27,
     "metadata": {},
     "output_type": "execute_result"
    }
   ],
   "source": [
    "  #保存模型\n",
    "joblib.dump(svc_hd,'svc_hd.model')"
   ]
  },
  {
   "cell_type": "code",
   "execution_count": 28,
   "id": "9705f7ab",
   "metadata": {},
   "outputs": [],
   "source": [
    "   #加载模型\n",
    "RFsvc=joblib.load('svc_hd.model')\n",
    "   #应用模型进行预测\n",
    "resultsvc=RFsvc.score(X1_test,y1_test)"
   ]
  },
  {
   "cell_type": "code",
   "execution_count": 29,
   "id": "9cc25dcf",
   "metadata": {},
   "outputs": [
    {
     "data": {
      "text/plain": [
       "0.8524590163934426"
      ]
     },
     "execution_count": 29,
     "metadata": {},
     "output_type": "execute_result"
    }
   ],
   "source": [
    "resultsvc"
   ]
  },
  {
   "cell_type": "markdown",
   "id": "5e59f31c",
   "metadata": {},
   "source": [
    "# Random Forest"
   ]
  },
  {
   "cell_type": "code",
   "execution_count": 30,
   "id": "51526383",
   "metadata": {},
   "outputs": [],
   "source": [
    "rf2= RFC(random_state=42, max_features='sqrt', n_estimators= 100,\n",
    "                                     max_depth=7, \n",
    "                                     criterion='entropy')\n"
   ]
  },
  {
   "cell_type": "code",
   "execution_count": 31,
   "id": "9356da40",
   "metadata": {},
   "outputs": [
    {
     "name": "stdout",
     "output_type": "stream",
     "text": [
      "accuracy 10  feature: 0.8181972789115646\n",
      "F1 score 10  feature: 0.8181972789115646\n",
      "roc_auc 10  feature: 0.9000061934844543\n",
      "cross entropy loss 10  feature: -0.3969826587746892\n"
     ]
    }
   ],
   "source": [
    "start=datetime.now()\n",
    "accuracy_score_10_rf =cross_val_score(rf2, X1_train, y1_train, cv=5,scoring='accuracy').mean()\n",
    "F1_score_10_rf =cross_val_score(rf2, X1_train, y1_train, cv=5,scoring='f1_micro').mean()\n",
    "roc_auc_score_10_rf =cross_val_score(rf2, X1_train, y1_train, cv=5,scoring='roc_auc_ovr').mean()\n",
    "neg_loss_score_10_rf =cross_val_score(rf2, X1_train, y1_train, cv=5,scoring='neg_log_loss').mean()\n",
    "\n",
    "stop=datetime.now()\n",
    "execution_time_rf=(stop-start)/20\n",
    "execution_time_rf\n",
    "\n",
    "print(\"accuracy 10  feature:\",accuracy_score_10_rf)\n",
    "print('F1 score 10  feature:',F1_score_10_rf)\n",
    "print('roc_auc 10  feature:',roc_auc_score_10_rf)\n",
    "print(\"cross entropy loss 10  feature:\",neg_loss_score_10_rf)"
   ]
  },
  {
   "cell_type": "code",
   "execution_count": 32,
   "id": "a7895c70",
   "metadata": {},
   "outputs": [
    {
     "name": "stdout",
     "output_type": "stream",
     "text": [
      "0.1153\n"
     ]
    }
   ],
   "source": [
    "training_time_rf=execution_time_rf.total_seconds()\n",
    "training_time_rf='%.4f'%training_time_rf\n",
    "print(training_time_rf)"
   ]
  },
  {
   "cell_type": "code",
   "execution_count": 33,
   "id": "11a2d4a8",
   "metadata": {},
   "outputs": [
    {
     "name": "stdout",
     "output_type": "stream",
     "text": [
      "Accuracy score with RF is:  0.8852459016393442\n",
      "F1 score with RF is:  0.8852459016393442\n",
      "ROC_AUC score with RF is:  0.9307359307359306\n",
      "Cross entropy loss score with RF is:  0.3635394418917459\n",
      "0.8852\n",
      "0.8852\n",
      "0.9307\n",
      "0.3635\n"
     ]
    }
   ],
   "source": [
    "rf_hd=rf2.fit(X1_train,y1_train)\n",
    "y_pred_rf2=rf2.predict(X1_test)\n",
    "y_prob_rf2=rf2.predict_proba(X1_test)[:,1]\n",
    "print(\"Accuracy score with RF is: \",accuracy_score(y1_test, y_pred_rf2))\n",
    "print(\"F1 score with RF is: \",f1_score(y1_test, y_pred_rf2,average='micro'))\n",
    "print(\"ROC_AUC score with RF is: \", roc_auc_score(y1_test,y_prob_rf2))\n",
    "print(\"Cross entropy loss score with RF is: \",log_loss(y1_test,y_prob_rf2))\n",
    "\n",
    "\n",
    "rf_accuracy='%.4f'%accuracy_score(y1_test, y_pred_rf2)\n",
    "rf_f1='%.4f'%f1_score(y1_test, y_pred_rf2,average='micro')\n",
    "rf_roc_auc='%.4f'% roc_auc_score(y1_test,y_prob_rf2)\n",
    "rf_loss='%.4f'%log_loss(y1_test,y_prob_rf2)\n",
    "print(rf_accuracy)\n",
    "print(rf_f1)\n",
    "print(rf_roc_auc)\n",
    "print(rf_loss)"
   ]
  },
  {
   "cell_type": "code",
   "execution_count": 34,
   "id": "87ca6ab3",
   "metadata": {},
   "outputs": [
    {
     "data": {
      "text/plain": [
       "['rf_hd.model']"
      ]
     },
     "execution_count": 34,
     "metadata": {},
     "output_type": "execute_result"
    }
   ],
   "source": [
    "# save the model\n",
    "joblib.dump(rf_hd,'rf_hd.model')"
   ]
  },
  {
   "cell_type": "code",
   "execution_count": 35,
   "id": "5af264ba",
   "metadata": {},
   "outputs": [],
   "source": [
    "   #加载模型\n",
    "RFrf=joblib.load('rf_hd.model')\n",
    "   #应用模型进行预测\n",
    "rfresult=RFrf.score(X1_test,y1_test)"
   ]
  },
  {
   "cell_type": "code",
   "execution_count": 36,
   "id": "9ddba82c",
   "metadata": {},
   "outputs": [
    {
     "data": {
      "text/plain": [
       "0.8852459016393442"
      ]
     },
     "execution_count": 36,
     "metadata": {},
     "output_type": "execute_result"
    }
   ],
   "source": [
    "rfresult"
   ]
  },
  {
   "cell_type": "markdown",
   "id": "4525dd62",
   "metadata": {},
   "source": [
    "# Neural Network"
   ]
  },
  {
   "cell_type": "code",
   "execution_count": 37,
   "id": "51af56ee",
   "metadata": {},
   "outputs": [],
   "source": [
    "\n",
    "X1_train = torch.from_numpy(X1_train)\n",
    "y1_train = torch.from_numpy(y1_train ).type(torch.LongTensor)\n",
    "\n",
    "X1_test  = torch.from_numpy(X1_test )\n",
    "y1_test= torch.from_numpy(y1_test).type(torch.LongTensor)\n",
    "\n",
    "batch_size = 128\n",
    "\n",
    "train = torch.utils.data.TensorDataset(X1_train, y1_train )\n",
    "test = torch.utils.data.TensorDataset(X1_test , y1_test)\n",
    "\n",
    "\n",
    "train_loader = torch.utils.data.DataLoader(train, batch_size=batch_size, shuffle=True)\n",
    "test_loader = torch.utils.data.DataLoader(test, batch_size=batch_size, shuffle=True)"
   ]
  },
  {
   "cell_type": "code",
   "execution_count": 38,
   "id": "094c81e0",
   "metadata": {},
   "outputs": [],
   "source": [
    "class ANNModel(nn.Module):\n",
    "    def __init__(self, input_dim, hidden_dim1,hidden_dim2, output_dim):\n",
    "        super(ANNModel, self).__init__()\n",
    "\n",
    "        self.fc1 = nn.Linear(input_dim, hidden_dim1)\n",
    "        self.relu1 = nn.ReLU() \n",
    "        \n",
    "        self.fc2 = nn.Linear(hidden_dim1, hidden_dim2)\n",
    "        self.relu2 = nn.ReLU()\n",
    "        \n",
    "        self.fc3 = nn.Linear(hidden_dim2, output_dim)\n",
    "        \n",
    "        \n",
    "    def forward(self, x):\n",
    "        out = self.fc1(x)\n",
    "        out = self.relu1(out)\n",
    "        out = self.fc2(out)\n",
    "        out = self.relu2(out)\n",
    "        out = self.fc3(out)\n",
    "        return out\n"
   ]
  },
  {
   "cell_type": "code",
   "execution_count": 39,
   "id": "6a9ea8f3",
   "metadata": {},
   "outputs": [],
   "source": [
    "epochs =30\n",
    "\n",
    "device = torch.device(\"cuda:0\" if torch.cuda.is_available() else \"cpu\")\n",
    "input_dim = X1.shape[1]\n",
    "hidden_dim1 = 104#hidden layer1\n",
    "hidden_dim2 = 66 #hidden layer2 \n",
    "output_dim = len(set(y1))"
   ]
  },
  {
   "cell_type": "code",
   "execution_count": 40,
   "id": "c26b9550",
   "metadata": {},
   "outputs": [],
   "source": [
    "model = ANNModel(input_dim, hidden_dim1,hidden_dim2,output_dim)\n",
    "\n",
    "\n",
    "learning_rate = 0.0021\n",
    "optimizer = torch.optim.Adam(model.parameters(), lr = learning_rate)\n",
    "criterion = nn.CrossEntropyLoss()\n"
   ]
  },
  {
   "cell_type": "code",
   "execution_count": 41,
   "id": "d863cfae",
   "metadata": {},
   "outputs": [
    {
     "name": "stdout",
     "output_type": "stream",
     "text": [
      "[sklearn_metrics] Epoch:0 loss:0.7212 accuracy:0.4453 precision:0.4453 recall:0.4453 f1:0.4453\n",
      "[sklearn_metrics] Epoch:0 loss:1.3956 accuracy:0.4959 precision:0.4959 recall:0.4959 f1:0.4959\n",
      "[sklearn_metrics] Epoch:1 loss:0.6396 accuracy:0.7422 precision:0.7422 recall:0.7422 f1:0.7422\n",
      "[sklearn_metrics] Epoch:1 loss:1.2440 accuracy:0.7562 precision:0.7562 recall:0.7562 f1:0.7562\n",
      "[sklearn_metrics] Epoch:2 loss:0.5820 accuracy:0.8281 precision:0.8281 recall:0.8281 f1:0.8281\n",
      "[sklearn_metrics] Epoch:2 loss:1.1091 accuracy:0.8430 precision:0.8430 recall:0.8430 f1:0.8430\n",
      "[sklearn_metrics] Epoch:3 loss:0.5116 accuracy:0.8438 precision:0.8438 recall:0.8438 f1:0.8438\n",
      "[sklearn_metrics] Epoch:3 loss:1.0009 accuracy:0.8471 precision:0.8471 recall:0.8471 f1:0.8471\n",
      "[sklearn_metrics] Epoch:4 loss:0.4723 accuracy:0.8281 precision:0.8281 recall:0.8281 f1:0.8281\n",
      "[sklearn_metrics] Epoch:4 loss:0.9034 accuracy:0.8430 precision:0.8430 recall:0.8430 f1:0.8430\n",
      "[sklearn_metrics] Epoch:5 loss:0.4250 accuracy:0.8438 precision:0.8438 recall:0.8438 f1:0.8438\n",
      "[sklearn_metrics] Epoch:5 loss:0.8330 accuracy:0.8430 precision:0.8430 recall:0.8430 f1:0.8430\n",
      "[sklearn_metrics] Epoch:6 loss:0.3958 accuracy:0.8516 precision:0.8516 recall:0.8516 f1:0.8516\n",
      "[sklearn_metrics] Epoch:6 loss:0.7869 accuracy:0.8471 precision:0.8471 recall:0.8471 f1:0.8471\n",
      "[sklearn_metrics] Epoch:7 loss:0.3315 accuracy:0.8672 precision:0.8672 recall:0.8672 f1:0.8672\n",
      "[sklearn_metrics] Epoch:7 loss:0.7692 accuracy:0.8430 precision:0.8430 recall:0.8430 f1:0.8430\n",
      "[sklearn_metrics] Epoch:8 loss:0.3779 accuracy:0.8516 precision:0.8516 recall:0.8516 f1:0.8516\n",
      "[sklearn_metrics] Epoch:8 loss:0.7484 accuracy:0.8512 precision:0.8512 recall:0.8512 f1:0.8512\n",
      "[sklearn_metrics] Epoch:9 loss:0.3849 accuracy:0.8516 precision:0.8516 recall:0.8516 f1:0.8516\n",
      "[sklearn_metrics] Epoch:9 loss:0.7345 accuracy:0.8471 precision:0.8471 recall:0.8471 f1:0.8471\n",
      "[sklearn_metrics] Epoch:10 loss:0.3668 accuracy:0.8594 precision:0.8594 recall:0.8594 f1:0.8594\n",
      "[sklearn_metrics] Epoch:10 loss:0.7252 accuracy:0.8430 precision:0.8430 recall:0.8430 f1:0.8430\n",
      "[sklearn_metrics] Epoch:11 loss:0.3158 accuracy:0.8672 precision:0.8672 recall:0.8672 f1:0.8672\n",
      "[sklearn_metrics] Epoch:11 loss:0.7190 accuracy:0.8471 precision:0.8471 recall:0.8471 f1:0.8471\n",
      "[sklearn_metrics] Epoch:12 loss:0.3674 accuracy:0.8516 precision:0.8516 recall:0.8516 f1:0.8516\n",
      "[sklearn_metrics] Epoch:12 loss:0.6964 accuracy:0.8512 precision:0.8512 recall:0.8512 f1:0.8512\n",
      "[sklearn_metrics] Epoch:13 loss:0.2520 accuracy:0.8984 precision:0.8984 recall:0.8984 f1:0.8984\n",
      "[sklearn_metrics] Epoch:13 loss:0.6919 accuracy:0.8554 precision:0.8554 recall:0.8554 f1:0.8554\n",
      "[sklearn_metrics] Epoch:14 loss:0.3799 accuracy:0.8672 precision:0.8672 recall:0.8672 f1:0.8672\n",
      "[sklearn_metrics] Epoch:14 loss:0.6595 accuracy:0.8636 precision:0.8636 recall:0.8636 f1:0.8636\n",
      "[sklearn_metrics] Epoch:15 loss:0.3727 accuracy:0.8359 precision:0.8359 recall:0.8359 f1:0.8359\n",
      "[sklearn_metrics] Epoch:15 loss:0.6481 accuracy:0.8595 precision:0.8595 recall:0.8595 f1:0.8595\n",
      "[sklearn_metrics] Epoch:16 loss:0.3367 accuracy:0.8281 precision:0.8281 recall:0.8281 f1:0.8281\n",
      "[sklearn_metrics] Epoch:16 loss:0.6392 accuracy:0.8554 precision:0.8554 recall:0.8554 f1:0.8554\n",
      "[sklearn_metrics] Epoch:17 loss:0.3519 accuracy:0.8281 precision:0.8281 recall:0.8281 f1:0.8281\n",
      "[sklearn_metrics] Epoch:17 loss:0.6251 accuracy:0.8595 precision:0.8595 recall:0.8595 f1:0.8595\n",
      "[sklearn_metrics] Epoch:18 loss:0.3331 accuracy:0.8594 precision:0.8594 recall:0.8594 f1:0.8594\n",
      "[sklearn_metrics] Epoch:18 loss:0.6135 accuracy:0.8678 precision:0.8678 recall:0.8678 f1:0.8678\n",
      "[sklearn_metrics] Epoch:19 loss:0.3131 accuracy:0.8594 precision:0.8594 recall:0.8594 f1:0.8594\n",
      "[sklearn_metrics] Epoch:19 loss:0.6062 accuracy:0.8719 precision:0.8719 recall:0.8719 f1:0.8719\n",
      "[sklearn_metrics] Epoch:20 loss:0.2936 accuracy:0.8594 precision:0.8594 recall:0.8594 f1:0.8594\n",
      "[sklearn_metrics] Epoch:20 loss:0.5962 accuracy:0.8636 precision:0.8636 recall:0.8636 f1:0.8636\n",
      "[sklearn_metrics] Epoch:21 loss:0.2580 accuracy:0.8828 precision:0.8828 recall:0.8828 f1:0.8828\n",
      "[sklearn_metrics] Epoch:21 loss:0.5879 accuracy:0.8678 precision:0.8678 recall:0.8678 f1:0.8678\n",
      "[sklearn_metrics] Epoch:22 loss:0.3183 accuracy:0.8516 precision:0.8516 recall:0.8516 f1:0.8516\n",
      "[sklearn_metrics] Epoch:22 loss:0.5692 accuracy:0.8719 precision:0.8719 recall:0.8719 f1:0.8719\n",
      "[sklearn_metrics] Epoch:23 loss:0.2227 accuracy:0.8984 precision:0.8984 recall:0.8984 f1:0.8984\n",
      "[sklearn_metrics] Epoch:23 loss:0.5695 accuracy:0.8802 precision:0.8802 recall:0.8802 f1:0.8802\n",
      "[sklearn_metrics] Epoch:24 loss:0.3101 accuracy:0.8594 precision:0.8594 recall:0.8594 f1:0.8594\n",
      "[sklearn_metrics] Epoch:24 loss:0.5470 accuracy:0.8802 precision:0.8802 recall:0.8802 f1:0.8802\n",
      "[sklearn_metrics] Epoch:25 loss:0.2502 accuracy:0.8984 precision:0.8984 recall:0.8984 f1:0.8984\n",
      "[sklearn_metrics] Epoch:25 loss:0.5411 accuracy:0.8843 precision:0.8843 recall:0.8843 f1:0.8843\n",
      "[sklearn_metrics] Epoch:26 loss:0.2743 accuracy:0.8516 precision:0.8516 recall:0.8516 f1:0.8516\n",
      "[sklearn_metrics] Epoch:26 loss:0.5261 accuracy:0.8884 precision:0.8884 recall:0.8884 f1:0.8884\n",
      "[sklearn_metrics] Epoch:27 loss:0.2568 accuracy:0.8906 precision:0.8906 recall:0.8906 f1:0.8906\n",
      "[sklearn_metrics] Epoch:27 loss:0.5161 accuracy:0.8967 precision:0.8967 recall:0.8967 f1:0.8967\n",
      "[sklearn_metrics] Epoch:28 loss:0.2631 accuracy:0.9062 precision:0.9062 recall:0.9062 f1:0.9062\n",
      "[sklearn_metrics] Epoch:28 loss:0.5021 accuracy:0.9091 precision:0.9091 recall:0.9091 f1:0.9091\n",
      "[sklearn_metrics] Epoch:29 loss:0.2579 accuracy:0.9062 precision:0.9062 recall:0.9062 f1:0.9062\n",
      "[sklearn_metrics] Epoch:29 loss:0.4906 accuracy:0.9091 precision:0.9091 recall:0.9091 f1:0.9091\n",
      "execution_time_ann 0.3162\n",
      "Loss score is:  0.3722535881794012\n",
      "              precision    recall  f1-score   support\n",
      "\n",
      "           0       0.88      0.91      0.90        33\n",
      "           1       0.89      0.86      0.87        28\n",
      "\n",
      "    accuracy                           0.89        61\n",
      "   macro avg       0.89      0.88      0.88        61\n",
      "weighted avg       0.89      0.89      0.89        61\n",
      "\n",
      "[[30  3]\n",
      " [ 4 24]]\n",
      "[sklearn_metrics] accuracy:0.8852 precision:0.8852 recall:0.8852 f1:0.8852\n"
     ]
    }
   ],
   "source": [
    "start=datetime.now()\n",
    "\n",
    "total_step = len(train_loader)\n",
    "model.train()\n",
    "for epoch in range(epochs):\n",
    "    tot_loss = 0.0\n",
    "    tot_acc = 0.0\n",
    "    train_preds = []\n",
    "    train_trues = []\n",
    "  # model.train()\n",
    "    for i,(train_data_batch, train_label_batch) in enumerate(train_loader):\n",
    "        train_data_batch = train_data_batch.float().to(device) \n",
    "        train_label_batch = train_label_batch.to(device)\n",
    "        outputs = model(train_data_batch)\n",
    "        # _, preds = torch.max(outputs.data, 1)\n",
    "        loss = criterion(outputs, train_label_batch)\n",
    "        # print(loss)\n",
    "      \n",
    "        loss.backward()\n",
    "        optimizer.step()\n",
    "        optimizer.zero_grad()\n",
    "     \n",
    "        tot_loss += loss.data\n",
    "        train_outputs = outputs.argmax(dim=1)\n",
    "        train_preds.extend(train_outputs.detach().cpu().numpy())\n",
    "        train_trues.extend(train_label_batch.detach().cpu().numpy())\n",
    "        # tot_acc += (outputs.argmax(dim=1) == train_label_batch).sum().item()\n",
    "        sklearn_accuracy = accuracy_score(train_trues, train_preds)\n",
    "        sklearn_precision = precision_score(train_trues, train_preds, average='micro')\n",
    "        sklearn_recall = recall_score(train_trues, train_preds, average='micro')\n",
    "        sklearn_f1 = f1_score(train_trues, train_preds, average='micro')\n",
    "        print(\"[sklearn_metrics] Epoch:{} loss:{:.4f} accuracy:{:.4f} precision:{:.4f} recall:{:.4f} f1:{:.4f}\".format(epoch, tot_loss, sklearn_accuracy, sklearn_precision, sklearn_recall, sklearn_f1))\n",
    "stop=datetime.now()\n",
    "execution_time_ann=(stop-start)\n",
    "execution_time_ann='%.4f'%(execution_time_ann).total_seconds()\n",
    "print('execution_time_ann',execution_time_ann)\n",
    "test_preds = []\n",
    "test_trues = []\n",
    "model.eval()\n",
    "with torch.no_grad():\n",
    "    for i,(test_data_batch, test_data_label) in enumerate(test_loader):\n",
    "        test_data_batch = test_data_batch.float().to(device) # 将double数据转换为float\n",
    "        test_data_label = test_data_label.to(device)\n",
    "        test_outputs = model(test_data_batch)\n",
    "        \n",
    "        probs = F.softmax(test_outputs, dim=1)\n",
    "        test_outputs = test_outputs.argmax(dim=1)\n",
    "        testloss = criterion(probs, test_data_label)\n",
    "#         preds = torch.argmax(logits, dim=1)\n",
    "        test_preds.extend(test_outputs.detach().cpu().numpy())\n",
    "        test_trues.extend(test_data_label.detach().cpu().numpy())\n",
    "        sklearn_accuracy = accuracy_score(test_trues, test_preds)\n",
    "        sklearn_precision = precision_score(test_trues, test_preds, average='micro')\n",
    "        sklearn_recall = recall_score(test_trues, test_preds, average='micro')\n",
    "        sklearn_f1 = f1_score(test_trues, test_preds, average='micro')\n",
    "        print(\"Loss score is: \", log_loss(test_data_label,probs))\n",
    "        print(classification_report(test_trues, test_preds))\n",
    "        conf_matrix = confusion_matrix(test_trues, test_preds)\n",
    "        print(conf_matrix)\n",
    "#         plot_confusion_matrix(conf_matrix)\n",
    "        print(\"[sklearn_metrics] accuracy:{:.4f} precision:{:.4f} recall:{:.4f} f1:{:.4f}\".format(sklearn_accuracy, sklearn_precision, sklearn_recall, sklearn_f1))"
   ]
  },
  {
   "cell_type": "code",
   "execution_count": 42,
   "id": "420000d8",
   "metadata": {},
   "outputs": [
    {
     "data": {
      "image/png": "[encoded data removed]",
      "text/plain": [
       "<Figure size 432x288 with 2 Axes>"
      ]
     },
     "metadata": {
      "needs_background": "light"
     },
     "output_type": "display_data"
    }
   ],
   "source": [
    "ConfusionMatrixDisplay.from_predictions(test_trues, test_preds)\n",
    "\n",
    "plt.show()"
   ]
  },
  {
   "cell_type": "code",
   "execution_count": 43,
   "id": "08a52e24",
   "metadata": {},
   "outputs": [
    {
     "name": "stdout",
     "output_type": "stream",
     "text": [
      "              precision    recall  f1-score   support\n",
      "\n",
      "           0       0.88      0.91      0.90        33\n",
      "           1       0.89      0.86      0.87        28\n",
      "\n",
      "    accuracy                           0.89        61\n",
      "   macro avg       0.89      0.88      0.88        61\n",
      "weighted avg       0.89      0.89      0.89        61\n",
      "\n"
     ]
    }
   ],
   "source": [
    "print(classification_report(test_trues, test_preds,zero_division=1))"
   ]
  },
  {
   "cell_type": "code",
   "execution_count": 44,
   "id": "af30836d",
   "metadata": {},
   "outputs": [
    {
     "name": "stdout",
     "output_type": "stream",
     "text": [
      "0.8852459016393442\n"
     ]
    }
   ],
   "source": [
    "print(accuracy_score(test_trues, test_preds))"
   ]
  },
  {
   "cell_type": "code",
   "execution_count": 45,
   "id": "7d202dc8",
   "metadata": {},
   "outputs": [
    {
     "data": {
      "text/plain": [
       "<AxesSubplot:>"
      ]
     },
     "execution_count": 45,
     "metadata": {},
     "output_type": "execute_result"
    },
    {
     "data": {
      "image/png": "[encoded data removed]",
      "text/plain": [
       "<Figure size 432x288 with 2 Axes>"
      ]
     },
     "metadata": {
      "needs_background": "light"
     },
     "output_type": "display_data"
    }
   ],
   "source": [
    "confusion_matrix_df = pd.DataFrame(confusion_matrix(test_trues, test_preds))\n",
    "\n",
    "sns.heatmap(confusion_matrix_df, annot=True)"
   ]
  },
  {
   "cell_type": "code",
   "execution_count": 46,
   "id": "af14cb2b",
   "metadata": {},
   "outputs": [
    {
     "data": {
      "text/plain": [
       "tensor(0.4770)"
      ]
     },
     "execution_count": 46,
     "metadata": {},
     "output_type": "execute_result"
    }
   ],
   "source": [
    "testloss"
   ]
  },
  {
   "cell_type": "code",
   "execution_count": 47,
   "id": "de816fc3",
   "metadata": {},
   "outputs": [
    {
     "name": "stdout",
     "output_type": "stream",
     "text": [
      "AUC score is:  0.9047619047619047\n"
     ]
    }
   ],
   "source": [
    " print(\"AUC score is: \", roc_auc_score(test_data_label,probs[:,1]))"
   ]
  },
  {
   "cell_type": "code",
   "execution_count": 48,
   "id": "b508a609",
   "metadata": {},
   "outputs": [
    {
     "name": "stdout",
     "output_type": "stream",
     "text": [
      "Loss score is:  0.3722535881794012\n"
     ]
    }
   ],
   "source": [
    " print(\"Loss score is: \", log_loss(test_trues,probs))"
   ]
  },
  {
   "cell_type": "code",
   "execution_count": 49,
   "id": "9a919ee4",
   "metadata": {},
   "outputs": [
    {
     "data": {
      "text/plain": [
       "'0.3162'"
      ]
     },
     "execution_count": 49,
     "metadata": {},
     "output_type": "execute_result"
    }
   ],
   "source": [
    "execution_time_ann"
   ]
  },
  {
   "cell_type": "code",
   "execution_count": 50,
   "id": "3b5a3e8a",
   "metadata": {},
   "outputs": [],
   "source": [
    "ann_accuracy='%.4f'% accuracy_score(test_trues, test_preds)\n",
    "# 0.7386\n",
    "\n",
    "ann_f1='%.4f'% f1_score(test_trues, test_preds, average='micro')\n",
    "# 0.7273\n",
    "\n",
    "ann_roc_auc='%.4f'% roc_auc_score(test_data_label,probs[:,1])\n",
    "# 0.8603"
   ]
  },
  {
   "cell_type": "code",
   "execution_count": 51,
   "id": "fdef4a6e",
   "metadata": {},
   "outputs": [
    {
     "data": {
      "text/plain": [
       "'0.9048'"
      ]
     },
     "execution_count": 51,
     "metadata": {},
     "output_type": "execute_result"
    }
   ],
   "source": [
    "ann_roc_auc"
   ]
  },
  {
   "cell_type": "code",
   "execution_count": 52,
   "id": "4c3580e5",
   "metadata": {},
   "outputs": [],
   "source": [
    "ann_loss='%.4f'% testloss\n"
   ]
  },
  {
   "cell_type": "code",
   "execution_count": 53,
   "id": "b9e0cb4b",
   "metadata": {},
   "outputs": [
    {
     "data": {
      "text/plain": [
       "'0.4770'"
      ]
     },
     "execution_count": 53,
     "metadata": {},
     "output_type": "execute_result"
    }
   ],
   "source": [
    "ann_loss"
   ]
  },
  {
   "cell_type": "code",
   "execution_count": 54,
   "id": "b807987d",
   "metadata": {},
   "outputs": [
    {
     "data": {
      "text/html": [
       "<div>\n",
       "<style scoped>\n",
       "    .dataframe tbody tr th:only-of-type {\n",
       "        vertical-align: middle;\n",
       "    }\n",
       "\n",
       "    .dataframe tbody tr th {\n",
       "        vertical-align: top;\n",
       "    }\n",
       "\n",
       "    .dataframe thead th {\n",
       "        text-align: right;\n",
       "    }\n",
       "</style>\n",
       "<table border=\"1\" class=\"dataframe\">\n",
       "  <thead>\n",
       "    <tr style=\"text-align: right;\">\n",
       "      <th></th>\n",
       "      <th>accuracy</th>\n",
       "      <th>f1_score</th>\n",
       "      <th>roc_auc</th>\n",
       "      <th>cross_entropy_loss</th>\n",
       "      <th>training_time[s]</th>\n",
       "    </tr>\n",
       "  </thead>\n",
       "  <tbody>\n",
       "    <tr>\n",
       "      <th>Light GBM</th>\n",
       "      <td>0.8361</td>\n",
       "      <td>0.8361</td>\n",
       "      <td>0.9405</td>\n",
       "      <td>0.3494</td>\n",
       "      <td>0.0331</td>\n",
       "    </tr>\n",
       "    <tr>\n",
       "      <th>SVM</th>\n",
       "      <td>0.8525</td>\n",
       "      <td>0.8525</td>\n",
       "      <td>0.9481</td>\n",
       "      <td>0.3258</td>\n",
       "      <td>0.0058</td>\n",
       "    </tr>\n",
       "    <tr>\n",
       "      <th>Random Forest</th>\n",
       "      <td>0.8852</td>\n",
       "      <td>0.8852</td>\n",
       "      <td>0.9307</td>\n",
       "      <td>0.3635</td>\n",
       "      <td>0.1153</td>\n",
       "    </tr>\n",
       "    <tr>\n",
       "      <th>PyTorch ANN</th>\n",
       "      <td>0.8852</td>\n",
       "      <td>0.8852</td>\n",
       "      <td>0.9048</td>\n",
       "      <td>0.4770</td>\n",
       "      <td>0.3162</td>\n",
       "    </tr>\n",
       "  </tbody>\n",
       "</table>\n",
       "</div>"
      ],
      "text/plain": [
       "              accuracy f1_score roc_auc cross_entropy_loss training_time[s]\n",
       "Light GBM       0.8361   0.8361  0.9405             0.3494           0.0331\n",
       "SVM             0.8525   0.8525  0.9481             0.3258           0.0058\n",
       "Random Forest   0.8852   0.8852  0.9307             0.3635           0.1153\n",
       "PyTorch ANN     0.8852   0.8852  0.9048             0.4770           0.3162"
      ]
     },
     "execution_count": 54,
     "metadata": {},
     "output_type": "execute_result"
    }
   ],
   "source": [
    "HD_dict = { \n",
    "              'accuracy':[lgbm_accuracy,svc_accuracy,rf_accuracy,ann_accuracy],\n",
    "               'f1_score': [lgbm_f1,svc_f1,rf_f1,ann_f1],\n",
    "               'roc_auc': [lgbm_roc_auc,svc_roc_auc,rf_roc_auc,ann_roc_auc],\n",
    "               'cross_entropy_loss': [lgbm_loss,svc_loss,rf_loss,ann_loss],\n",
    "                'training_time[s]':[training_time_lgbm,training_time_svm,training_time_rf,execution_time_ann]\n",
    "               }\n",
    "pr_df_hd = pd.DataFrame(HD_dict,index=['Light GBM','SVM','Random Forest','PyTorch ANN'])\n",
    "pr_df_hd"
   ]
  },
  {
   "cell_type": "code",
   "execution_count": 55,
   "id": "81d31ce4",
   "metadata": {},
   "outputs": [],
   "source": [
    "pr_df_hd.to_csv('HD Score.csv')"
   ]
  }
 ],
 "metadata": {
  "kernelspec": {
   "display_name": "Python 3 (ipykernel)",
   "language": "python",
   "name": "python3"
  },
  "language_info": {
   "codemirror_mode": {
    "name": "ipython",
    "version": 3
   },
   "file_extension": ".py",
   "mimetype": "text/x-python",
   "name": "python",
   "nbconvert_exporter": "python",
   "pygments_lexer": "ipython3",
   "version": "3.9.7"
  },
  "toc": {
   "base_numbering": 1,
   "nav_menu": {},
   "number_sections": true,
   "sideBar": true,
   "skip_h1_title": false,
   "title_cell": "Table of Contents",
   "title_sidebar": "Contents",
   "toc_cell": false,
   "toc_position": {},
   "toc_section_display": true,
   "toc_window_display": false
  }
 },
 "nbformat": 4,
 "nbformat_minor": 5
}
